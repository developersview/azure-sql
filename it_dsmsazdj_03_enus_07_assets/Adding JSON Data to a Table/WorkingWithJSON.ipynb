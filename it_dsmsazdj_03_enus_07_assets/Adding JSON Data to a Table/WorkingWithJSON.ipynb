{
    "metadata": {
        "kernelspec": {
            "name": "SQL",
            "display_name": "SQL",
            "language": "sql"
        },
        "language_info": {
            "name": "sql",
            "version": ""
        }
    },
    "nbformat_minor": 2,
    "nbformat": 4,
    "cells": [
        {
            "cell_type": "code",
            "source": [
                "CREATE SCHEMA data_models"
            ],
            "metadata": {
                "azdata_cell_guid": "14c3fff5-52fb-467d-b282-ed4eaa9f2405",
                "language": "sql"
            },
            "outputs": [
                {
                    "output_type": "error",
                    "evalue": "Msg 2714, Level 16, State 6, Line 1\nThere is already an object named 'data_models' in the database.",
                    "ename": "",
                    "traceback": []
                },
                {
                    "output_type": "error",
                    "evalue": "Msg 2759, Level 16, State 0, Line 1\nCREATE SCHEMA failed due to previous errors.",
                    "ename": "",
                    "traceback": []
                },
                {
                    "output_type": "display_data",
                    "data": {
                        "text/html": "Total execution time: 00:00:00.040"
                    },
                    "metadata": {}
                }
            ],
            "execution_count": 60
        },
        {
            "cell_type": "code",
            "source": [
                "CREATE TABLE data_models.employee_details\n",
                "(\n",
                "    id INT NOT NULL PRIMARY KEY,\n",
                "    firstName NVARCHAR(255) NOT NULL,\n",
                "    lastName NVARCHAR(255) NOT NULL,\n",
                "    isActive BIT NOT NULL,\n",
                "    age INT NOT NULL \n",
                ")"
            ],
            "metadata": {
                "azdata_cell_guid": "6a66115a-29a0-4136-9837-0cfc933efca4",
                "language": "sql"
            },
            "outputs": [
                {
                    "output_type": "display_data",
                    "data": {
                        "text/html": "Commands completed successfully."
                    },
                    "metadata": {}
                },
                {
                    "output_type": "display_data",
                    "data": {
                        "text/html": "Total execution time: 00:00:00.042"
                    },
                    "metadata": {}
                }
            ],
            "execution_count": 61
        },
        {
            "cell_type": "code",
            "source": [
                "INSERT INTO data_models.employee_details VALUES\n",
                "(1, 'Anneka', 'Anderssen', 1, 25),\n",
                "(2, 'Patty', 'Mukuji', 1, 32)"
            ],
            "metadata": {
                "azdata_cell_guid": "b8f2afc3-bb17-4f67-be29-6d10cb726630",
                "language": "sql"
            },
            "outputs": [
                {
                    "output_type": "display_data",
                    "data": {
                        "text/html": "(2 rows affected)"
                    },
                    "metadata": {}
                },
                {
                    "output_type": "display_data",
                    "data": {
                        "text/html": "Total execution time: 00:00:00.047"
                    },
                    "metadata": {}
                }
            ],
            "execution_count": 62
        },
        {
            "cell_type": "code",
            "source": [
                "CREATE TABLE data_models.employee_address\n",
                "(\n",
                "    id INT NOT NULL PRIMARY KEY,\n",
                "    empId INT NOT NULL \n",
                "        FOREIGN KEY REFERENCES data_models.employee_details(id),\n",
                "    streetAddress NVARCHAR(100) NOT NULL,\n",
                "    city NVARCHAR(100) NOT NULL,\n",
                "    state NVARCHAR(100) NULL, \n",
                "    postalCode NVARCHAR(100) NOT NULL\n",
                ")"
            ],
            "metadata": {
                "azdata_cell_guid": "f1bd49ff-cad9-4376-802b-314aabbda3e7",
                "language": "sql"
            },
            "outputs": [
                {
                    "output_type": "display_data",
                    "data": {
                        "text/html": "Commands completed successfully."
                    },
                    "metadata": {}
                },
                {
                    "output_type": "display_data",
                    "data": {
                        "text/html": "Total execution time: 00:00:00.041"
                    },
                    "metadata": {}
                }
            ],
            "execution_count": 63
        },
        {
            "cell_type": "code",
            "source": [
                "INSERT INTO data_models.employee_address VALUES\n",
                "(1, 1, '559 La Jolla Avenue', 'Los Angeles', null , '90212'),\n",
                "(2, 2, '620 Mission Street', 'New Orleans', null, '94188')"
            ],
            "metadata": {
                "azdata_cell_guid": "7c7b1286-9171-4856-8ea9-674c9a0ad20f",
                "language": "sql"
            },
            "outputs": [
                {
                    "output_type": "display_data",
                    "data": {
                        "text/html": "(2 rows affected)"
                    },
                    "metadata": {}
                },
                {
                    "output_type": "display_data",
                    "data": {
                        "text/html": "Total execution time: 00:00:00.059"
                    },
                    "metadata": {}
                }
            ],
            "execution_count": 64
        },
        {
            "cell_type": "code",
            "source": [
                "CREATE TABLE data_models.employee_phone\n",
                "(\n",
                "    id INT NOT NULL PRIMARY KEY,\n",
                "    empId INT NOT NULL \n",
                "        FOREIGN KEY REFERENCES data_models.employee_details(id),\n",
                "    type NVARCHAR(100) NOT NULL,\n",
                "    number NVARCHAR(100) NOT NULL\n",
                ")"
            ],
            "metadata": {
                "azdata_cell_guid": "f8ec6377-e4ad-4729-b248-3692a275603e",
                "language": "sql"
            },
            "outputs": [
                {
                    "output_type": "display_data",
                    "data": {
                        "text/html": "Commands completed successfully."
                    },
                    "metadata": {}
                },
                {
                    "output_type": "display_data",
                    "data": {
                        "text/html": "Total execution time: 00:00:00.044"
                    },
                    "metadata": {}
                }
            ],
            "execution_count": 65
        },
        {
            "cell_type": "code",
            "source": [
                "INSERT INTO data_models.employee_phone VALUES\n",
                "(1, 1, 'home', '212 555-1234'),\n",
                "(2, 1, 'office', '646 555-4567'),\n",
                "(3, 1, 'mobile', '123 456-7890'),\n",
                "(4, 2, 'home', '020 7946 0891'),\n",
                "(5, 2, 'office', '020 7946 0986'),\n",
                "(6, 2, 'mobile', '123 789-4560')"
            ],
            "metadata": {
                "azdata_cell_guid": "772b09e4-19fb-42a5-8fe8-4d2ad49008ac",
                "language": "sql"
            },
            "outputs": [
                {
                    "output_type": "display_data",
                    "data": {
                        "text/html": "(6 rows affected)"
                    },
                    "metadata": {}
                },
                {
                    "output_type": "display_data",
                    "data": {
                        "text/html": "Total execution time: 00:00:00.049"
                    },
                    "metadata": {}
                }
            ],
            "execution_count": 66
        },
        {
            "cell_type": "markdown",
            "source": [
                "### Retrieving all data for the employees requires complex join operations"
            ],
            "metadata": {
                "azdata_cell_guid": "da748f51-273c-4291-9da6-02d2f74eb35d"
            },
            "attachments": {}
        },
        {
            "cell_type": "code",
            "source": [
                "SELECT e.firstName, e.age, \n",
                "       a.streetAddress, a.city,\n",
                "       p.type, p.number\n",
                "FROM data_models.employee_details e\n",
                "    INNER JOIN data_models.employee_address a \n",
                "        ON (e.id = a.empId)\n",
                "    INNER JOIN data_models.employee_phone p\n",
                "        ON (e.id = p.empId)"
            ],
            "metadata": {
                "azdata_cell_guid": "1a2c61a6-49d7-451b-a26c-68b71ccd0d44",
                "language": "sql"
            },
            "outputs": [
                {
                    "output_type": "display_data",
                    "data": {
                        "text/html": "(6 rows affected)"
                    },
                    "metadata": {}
                },
                {
                    "output_type": "display_data",
                    "data": {
                        "text/html": "Total execution time: 00:00:00.059"
                    },
                    "metadata": {}
                },
                {
                    "output_type": "execute_result",
                    "metadata": {},
                    "execution_count": 67,
                    "data": {
                        "application/vnd.dataresource+json": {
                            "schema": {
                                "fields": [
                                    {
                                        "name": "firstName"
                                    },
                                    {
                                        "name": "age"
                                    },
                                    {
                                        "name": "streetAddress"
                                    },
                                    {
                                        "name": "city"
                                    },
                                    {
                                        "name": "type"
                                    },
                                    {
                                        "name": "number"
                                    }
                                ]
                            },
                            "data": [
                                {
                                    "0": "Anneka",
                                    "1": "25",
                                    "2": "559 La Jolla Avenue",
                                    "3": "Los Angeles",
                                    "4": "home",
                                    "5": "212 555-1234"
                                },
                                {
                                    "0": "Anneka",
                                    "1": "25",
                                    "2": "559 La Jolla Avenue",
                                    "3": "Los Angeles",
                                    "4": "office",
                                    "5": "646 555-4567"
                                },
                                {
                                    "0": "Anneka",
                                    "1": "25",
                                    "2": "559 La Jolla Avenue",
                                    "3": "Los Angeles",
                                    "4": "mobile",
                                    "5": "123 456-7890"
                                },
                                {
                                    "0": "Patty",
                                    "1": "32",
                                    "2": "620 Mission Street",
                                    "3": "New Orleans",
                                    "4": "home",
                                    "5": "020 7946 0891"
                                },
                                {
                                    "0": "Patty",
                                    "1": "32",
                                    "2": "620 Mission Street",
                                    "3": "New Orleans",
                                    "4": "office",
                                    "5": "020 7946 0986"
                                },
                                {
                                    "0": "Patty",
                                    "1": "32",
                                    "2": "620 Mission Street",
                                    "3": "New Orleans",
                                    "4": "mobile",
                                    "5": "123 789-4560"
                                }
                            ]
                        },
                        "text/html": [
                            "<table>",
                            "<tr><th>firstName</th><th>age</th><th>streetAddress</th><th>city</th><th>type</th><th>number</th></tr>",
                            "<tr><td>Anneka</td><td>25</td><td>559 La Jolla Avenue</td><td>Los Angeles</td><td>home</td><td>212 555-1234</td></tr>",
                            "<tr><td>Anneka</td><td>25</td><td>559 La Jolla Avenue</td><td>Los Angeles</td><td>office</td><td>646 555-4567</td></tr>",
                            "<tr><td>Anneka</td><td>25</td><td>559 La Jolla Avenue</td><td>Los Angeles</td><td>mobile</td><td>123 456-7890</td></tr>",
                            "<tr><td>Patty</td><td>32</td><td>620 Mission Street</td><td>New Orleans</td><td>home</td><td>020 7946 0891</td></tr>",
                            "<tr><td>Patty</td><td>32</td><td>620 Mission Street</td><td>New Orleans</td><td>office</td><td>020 7946 0986</td></tr>",
                            "<tr><td>Patty</td><td>32</td><td>620 Mission Street</td><td>New Orleans</td><td>mobile</td><td>123 789-4560</td></tr>",
                            "</table>"
                        ]
                    }
                }
            ],
            "execution_count": 67
        },
        {
            "cell_type": "code",
            "source": [
                "CREATE TABLE data_models.employee_json \n",
                "(\n",
                "    id INT NOT NULL PRIMARY KEY,\n",
                "    json_data NVARCHAR(MAX) NOT NULL CHECK(isjson(json_data)=1)\n",
                ")"
            ],
            "metadata": {
                "azdata_cell_guid": "31628df5-cc52-4b2c-96f3-823630385b70",
                "language": "sql"
            },
            "outputs": [
                {
                    "output_type": "display_data",
                    "data": {
                        "text/html": "Commands completed successfully."
                    },
                    "metadata": {}
                },
                {
                    "output_type": "display_data",
                    "data": {
                        "text/html": "Total execution time: 00:00:00.046"
                    },
                    "metadata": {}
                }
            ],
            "execution_count": 68
        },
        {
            "cell_type": "code",
            "source": [
                "INSERT INTO data_models.employee_json VALUES\n",
                "(1, N'{\n",
                "    \"firstName\" : \"Anneka\",\n",
                "    \"lastName\" : \"Anderssen\",\n",
                "    \"isActive\" : true, \n",
                "    \"age\" : 25,\n",
                "    \"address\" : {\n",
                "        \"streetAddress\" : \"559 La Jolla Avenue\", \n",
                "        \"city\": \"Los Angeles\", \n",
                "        \"postalCode\" : \"90212\"\n",
                "        },\n",
                "    \"phoneNumbers\":[\n",
                "        {\n",
                "            \"type\":\"home\",\n",
                "            \"number\":\"212 555-1234\"\n",
                "            },\n",
                "            {\n",
                "                \"type\" : \"office\",\n",
                "                \"number\":\"646 555-4567\"\n",
                "                },\n",
                "                {\n",
                "                \"type\" : \"mobile\",\n",
                "                \"number\":\"123 456-7890\"\n",
                "                }\n",
                "\n",
                "    ],\n",
                "    \"children\" : [],\n",
                "    \"spouse\" :null\n",
                "    }'),\n",
                "\n",
                "(2, N'{\n",
                "  \"firstName\": \"Patty\",\n",
                "  \"lastName\": \"Mukuji\",\n",
                "  \"isActive\": true,\n",
                "  \"age\": 32,\n",
                "  \"address\": {\n",
                "    \"streetAddress\": \"620 Mission Street\",\n",
                "    \"city\": \"New Orleans\",\n",
                "    \"postalCode\": \"94188\"\n",
                "  },\n",
                "  \"phoneNumbers\": [\n",
                "    {\n",
                "      \"type\": \"home\",\n",
                "      \"number\": \"020 7946 0891\"\n",
                "    },\n",
                "    {\n",
                "      \"type\": \"office\",\n",
                "      \"number\": \"020 7946 0986\"\n",
                "    },\n",
                "    {\n",
                "      \"type\": \"mobile\",\n",
                "      \"number\": \"123 789-4560\"\n",
                "    }\n",
                "  ],\n",
                "  \"children\": [\"Rose\", \"Rosa\"],\n",
                "  \"spouse\": \"Norma Mukuji\"\n",
                "}')"
            ],
            "metadata": {
                "azdata_cell_guid": "9a4e3baa-d3be-4e03-8d3a-ebbfa1fdd1e8",
                "language": "sql"
            },
            "outputs": [
                {
                    "output_type": "display_data",
                    "data": {
                        "text/html": "(2 rows affected)"
                    },
                    "metadata": {}
                },
                {
                    "output_type": "display_data",
                    "data": {
                        "text/html": "Total execution time: 00:00:00.047"
                    },
                    "metadata": {}
                }
            ],
            "execution_count": 69
        },
        {
            "cell_type": "code",
            "source": [
                "SELECT * FROM data_models.employee_json"
            ],
            "metadata": {
                "azdata_cell_guid": "aef1d05f-086f-423c-87c1-724a2c0b3ad4",
                "language": "sql"
            },
            "outputs": [
                {
                    "output_type": "display_data",
                    "data": {
                        "text/html": "(2 rows affected)"
                    },
                    "metadata": {}
                },
                {
                    "output_type": "display_data",
                    "data": {
                        "text/html": "Total execution time: 00:00:00.046"
                    },
                    "metadata": {}
                },
                {
                    "output_type": "execute_result",
                    "metadata": {},
                    "execution_count": 70,
                    "data": {
                        "application/vnd.dataresource+json": {
                            "schema": {
                                "fields": [
                                    {
                                        "name": "id"
                                    },
                                    {
                                        "name": "json_data"
                                    }
                                ]
                            },
                            "data": [
                                {
                                    "0": "1",
                                    "1": "{\n    \"firstName\" : \"Anneka\",\n    \"lastName\" : \"Anderssen\",\n    \"isActive\" : true, \n    \"age\" : 25,\n    \"address\" : {\n        \"streetAddress\" : \"559 La Jolla Avenue\", \n        \"city\": \"Los Angeles\", \n        \"postalCode\" : \"90212\"\n        },\n    \"phoneNumbers\":[\n        {\n            \"type\":\"home\",\n            \"number\":\"212 555-1234\"\n            },\n            {\n                \"type\" : \"office\",\n                \"number\":\"646 555-4567\"\n                },\n                {\n                \"type\" : \"mobile\",\n                \"number\":\"123 456-7890\"\n                }\n\n    ],\n    \"children\" : [],\n    \"spouse\" :null\n    }"
                                },
                                {
                                    "0": "2",
                                    "1": "{\n  \"firstName\": \"Patty\",\n  \"lastName\": \"Mukuji\",\n  \"isActive\": true,\n  \"age\": 32,\n  \"address\": {\n    \"streetAddress\": \"620 Mission Street\",\n    \"city\": \"New Orleans\",\n    \"postalCode\": \"94188\"\n  },\n  \"phoneNumbers\": [\n    {\n      \"type\": \"home\",\n      \"number\": \"020 7946 0891\"\n    },\n    {\n      \"type\": \"office\",\n      \"number\": \"020 7946 0986\"\n    },\n    {\n      \"type\": \"mobile\",\n      \"number\": \"123 789-4560\"\n    }\n  ],\n  \"children\": [\"Rose\", \"Rosa\"],\n  \"spouse\": \"Norma Mukuji\"\n}"
                                }
                            ]
                        },
                        "text/html": [
                            "<table>",
                            "<tr><th>id</th><th>json_data</th></tr>",
                            "<tr><td>1</td><td>{\n    &quot;firstName&quot; : &quot;Anneka&quot;,\n    &quot;lastName&quot; : &quot;Anderssen&quot;,\n    &quot;isActive&quot; : true, \n    &quot;age&quot; : 25,\n    &quot;address&quot; : {\n        &quot;streetAddress&quot; : &quot;559 La Jolla Avenue&quot;, \n        &quot;city&quot;: &quot;Los Angeles&quot;, \n        &quot;postalCode&quot; : &quot;90212&quot;\n        },\n    &quot;phoneNumbers&quot;:[\n        {\n            &quot;type&quot;:&quot;home&quot;,\n            &quot;number&quot;:&quot;212 555-1234&quot;\n            },\n            {\n                &quot;type&quot; : &quot;office&quot;,\n                &quot;number&quot;:&quot;646 555-4567&quot;\n                },\n                {\n                &quot;type&quot; : &quot;mobile&quot;,\n                &quot;number&quot;:&quot;123 456-7890&quot;\n                }\n\n    ],\n    &quot;children&quot; : [],\n    &quot;spouse&quot; :null\n    }</td></tr>",
                            "<tr><td>2</td><td>{\n  &quot;firstName&quot;: &quot;Patty&quot;,\n  &quot;lastName&quot;: &quot;Mukuji&quot;,\n  &quot;isActive&quot;: true,\n  &quot;age&quot;: 32,\n  &quot;address&quot;: {\n    &quot;streetAddress&quot;: &quot;620 Mission Street&quot;,\n    &quot;city&quot;: &quot;New Orleans&quot;,\n    &quot;postalCode&quot;: &quot;94188&quot;\n  },\n  &quot;phoneNumbers&quot;: [\n    {\n      &quot;type&quot;: &quot;home&quot;,\n      &quot;number&quot;: &quot;020 7946 0891&quot;\n    },\n    {\n      &quot;type&quot;: &quot;office&quot;,\n      &quot;number&quot;: &quot;020 7946 0986&quot;\n    },\n    {\n      &quot;type&quot;: &quot;mobile&quot;,\n      &quot;number&quot;: &quot;123 789-4560&quot;\n    }\n  ],\n  &quot;children&quot;: [&quot;Rose&quot;, &quot;Rosa&quot;],\n  &quot;spouse&quot;: &quot;Norma Mukuji&quot;\n}</td></tr>",
                            "</table>"
                        ]
                    }
                }
            ],
            "execution_count": 70
        },
        {
            "cell_type": "code",
            "source": [
                "DECLARE @JSON VARCHAR(MAX)\n",
                "\n",
                "SELECT TOP(1) @JSON=json_data \n",
                "FROM data_models.employee_json \n",
                "WHERE id = 1\n",
                "\n",
                "SELECT JSON_VALUE(@JSON, '$.firstName') AS name"
            ],
            "metadata": {
                "azdata_cell_guid": "982cb423-0a78-4abe-95a0-5ff452d208f9",
                "language": "sql"
            },
            "outputs": [
                {
                    "output_type": "display_data",
                    "data": {
                        "text/html": "(1 row affected)"
                    },
                    "metadata": {}
                },
                {
                    "output_type": "display_data",
                    "data": {
                        "text/html": "Total execution time: 00:00:00.068"
                    },
                    "metadata": {}
                },
                {
                    "output_type": "execute_result",
                    "metadata": {},
                    "execution_count": 71,
                    "data": {
                        "application/vnd.dataresource+json": {
                            "schema": {
                                "fields": [
                                    {
                                        "name": "name"
                                    }
                                ]
                            },
                            "data": [
                                {
                                    "0": "Anneka"
                                }
                            ]
                        },
                        "text/html": [
                            "<table>",
                            "<tr><th>name</th></tr>",
                            "<tr><td>Anneka</td></tr>",
                            "</table>"
                        ]
                    }
                }
            ],
            "execution_count": 71
        },
        {
            "cell_type": "code",
            "source": [
                "DECLARE @JSON VARCHAR(MAX)\n",
                "\n",
                "SELECT TOP(1) @JSON=json_data \n",
                "FROM data_models.employee_json \n",
                "WHERE id = 1\n",
                "\n",
                "SELECT JSON_QUERY(@JSON, '$.address') AS address"
            ],
            "metadata": {
                "azdata_cell_guid": "242370fd-3324-43cd-b180-5e7ea8b66c0a",
                "language": "sql"
            },
            "outputs": [
                {
                    "output_type": "display_data",
                    "data": {
                        "text/html": "(1 row affected)"
                    },
                    "metadata": {}
                },
                {
                    "output_type": "display_data",
                    "data": {
                        "text/html": "Total execution time: 00:00:00.041"
                    },
                    "metadata": {}
                },
                {
                    "output_type": "execute_result",
                    "metadata": {},
                    "execution_count": 72,
                    "data": {
                        "application/vnd.dataresource+json": {
                            "schema": {
                                "fields": [
                                    {
                                        "name": "address"
                                    }
                                ]
                            },
                            "data": [
                                {
                                    "0": "{\n        \"streetAddress\" : \"559 La Jolla Avenue\", \n        \"city\": \"Los Angeles\", \n        \"postalCode\" : \"90212\"\n        }"
                                }
                            ]
                        },
                        "text/html": [
                            "<table>",
                            "<tr><th>address</th></tr>",
                            "<tr><td>{\n        &quot;streetAddress&quot; : &quot;559 La Jolla Avenue&quot;, \n        &quot;city&quot;: &quot;Los Angeles&quot;, \n        &quot;postalCode&quot; : &quot;90212&quot;\n        }</td></tr>",
                            "</table>"
                        ]
                    }
                }
            ],
            "execution_count": 72
        },
        {
            "cell_type": "code",
            "source": [
                "DECLARE @JSON VARCHAR(MAX)\n",
                "\n",
                "SELECT TOP(1) @JSON=json_data \n",
                "FROM data_models.employee_json \n",
                "WHERE id = 1\n",
                "\n",
                "SELECT JSON_VALUE(@JSON, '$.address.city') AS city"
            ],
            "metadata": {
                "azdata_cell_guid": "5eea43fc-f678-4dfd-a585-865262d8a330",
                "language": "sql"
            },
            "outputs": [
                {
                    "output_type": "display_data",
                    "data": {
                        "text/html": "(1 row affected)"
                    },
                    "metadata": {}
                },
                {
                    "output_type": "display_data",
                    "data": {
                        "text/html": "Total execution time: 00:00:00.046"
                    },
                    "metadata": {}
                },
                {
                    "output_type": "execute_result",
                    "metadata": {},
                    "execution_count": 73,
                    "data": {
                        "application/vnd.dataresource+json": {
                            "schema": {
                                "fields": [
                                    {
                                        "name": "city"
                                    }
                                ]
                            },
                            "data": [
                                {
                                    "0": "Los Angeles"
                                }
                            ]
                        },
                        "text/html": [
                            "<table>",
                            "<tr><th>city</th></tr>",
                            "<tr><td>Los Angeles</td></tr>",
                            "</table>"
                        ]
                    }
                }
            ],
            "execution_count": 73
        },
        {
            "cell_type": "code",
            "source": [
                "SELECT JSON_VALUE(json_data, '$.firstName') AS firstName,\n",
                "       JSON_VALUE(json_data, '$.address.city') AS city,\n",
                "       JSON_QUERY(json_data, '$.phoneNumbers[0]') AS main_phone\n",
                "FROM data_models.employee_json\n",
                "WHERE id = 1"
            ],
            "metadata": {
                "azdata_cell_guid": "e1071c4a-7b37-4031-8890-5a17dd1aaa4e",
                "language": "sql"
            },
            "outputs": [
                {
                    "output_type": "display_data",
                    "data": {
                        "text/html": "(1 row affected)"
                    },
                    "metadata": {}
                },
                {
                    "output_type": "display_data",
                    "data": {
                        "text/html": "Total execution time: 00:00:00.054"
                    },
                    "metadata": {}
                },
                {
                    "output_type": "execute_result",
                    "metadata": {},
                    "execution_count": 74,
                    "data": {
                        "application/vnd.dataresource+json": {
                            "schema": {
                                "fields": [
                                    {
                                        "name": "firstName"
                                    },
                                    {
                                        "name": "city"
                                    },
                                    {
                                        "name": "main_phone"
                                    }
                                ]
                            },
                            "data": [
                                {
                                    "0": "Anneka",
                                    "1": "Los Angeles",
                                    "2": "{\n            \"type\":\"home\",\n            \"number\":\"212 555-1234\"\n            }"
                                }
                            ]
                        },
                        "text/html": [
                            "<table>",
                            "<tr><th>firstName</th><th>city</th><th>main_phone</th></tr>",
                            "<tr><td>Anneka</td><td>Los Angeles</td><td>{\n            &quot;type&quot;:&quot;home&quot;,\n            &quot;number&quot;:&quot;212 555-1234&quot;\n            }</td></tr>",
                            "</table>"
                        ]
                    }
                }
            ],
            "execution_count": 74
        },
        {
            "cell_type": "code",
            "source": [
                "SELECT JSON_VALUE(json_data, '$.firstName') AS firstName,\n",
                "       JSON_VALUE(json_data, '$.address.city') AS city,\n",
                "       JSON_VALUE(json_data, '$.phoneNumbers[0].number') AS main_phone\n",
                "FROM data_models.employee_json\n",
                "WHERE id = 1"
            ],
            "metadata": {
                "azdata_cell_guid": "3d4683f6-bfaa-48d4-9441-32dd281abc46",
                "language": "sql"
            },
            "outputs": [
                {
                    "output_type": "display_data",
                    "data": {
                        "text/html": "(1 row affected)"
                    },
                    "metadata": {}
                },
                {
                    "output_type": "display_data",
                    "data": {
                        "text/html": "Total execution time: 00:00:00.067"
                    },
                    "metadata": {}
                },
                {
                    "output_type": "execute_result",
                    "metadata": {},
                    "execution_count": 75,
                    "data": {
                        "application/vnd.dataresource+json": {
                            "schema": {
                                "fields": [
                                    {
                                        "name": "firstName"
                                    },
                                    {
                                        "name": "city"
                                    },
                                    {
                                        "name": "main_phone"
                                    }
                                ]
                            },
                            "data": [
                                {
                                    "0": "Anneka",
                                    "1": "Los Angeles",
                                    "2": "212 555-1234"
                                }
                            ]
                        },
                        "text/html": [
                            "<table>",
                            "<tr><th>firstName</th><th>city</th><th>main_phone</th></tr>",
                            "<tr><td>Anneka</td><td>Los Angeles</td><td>212 555-1234</td></tr>",
                            "</table>"
                        ]
                    }
                }
            ],
            "execution_count": 75
        },
        {
            "cell_type": "code",
            "source": [
                "SELECT JSON_VALUE(json_data, '$.firstName') AS firstName,\n",
                "       JSON_VALUE(json_data, '$.address.city') AS city,\n",
                "       JSON_VALUE(json_data, '$.phoneNumbers[0].number') AS main_phone\n",
                "FROM data_models.employee_json\n",
                "WHERE JSON_VALUE(json_data, '$.address.city') LIKE 'New%'"
            ],
            "metadata": {
                "azdata_cell_guid": "e4a94826-041e-45f7-9ede-71b28700ef5a",
                "language": "sql"
            },
            "outputs": [
                {
                    "output_type": "display_data",
                    "data": {
                        "text/html": "(1 row affected)"
                    },
                    "metadata": {}
                },
                {
                    "output_type": "display_data",
                    "data": {
                        "text/html": "Total execution time: 00:00:00.039"
                    },
                    "metadata": {}
                },
                {
                    "output_type": "execute_result",
                    "metadata": {},
                    "execution_count": 76,
                    "data": {
                        "application/vnd.dataresource+json": {
                            "schema": {
                                "fields": [
                                    {
                                        "name": "firstName"
                                    },
                                    {
                                        "name": "city"
                                    },
                                    {
                                        "name": "main_phone"
                                    }
                                ]
                            },
                            "data": [
                                {
                                    "0": "Patty",
                                    "1": "New Orleans",
                                    "2": "020 7946 0891"
                                }
                            ]
                        },
                        "text/html": [
                            "<table>",
                            "<tr><th>firstName</th><th>city</th><th>main_phone</th></tr>",
                            "<tr><td>Patty</td><td>New Orleans</td><td>020 7946 0891</td></tr>",
                            "</table>"
                        ]
                    }
                }
            ],
            "execution_count": 76
        },
        {
            "cell_type": "code",
            "source": [
                "SELECT j.id AS document_id, t.* \n",
                "FROM data_models.employee_json AS j \n",
                "    CROSS APPLY openjson(j.json_data) AS t"
            ],
            "metadata": {
                "azdata_cell_guid": "d1cfd921-a44c-43fd-9896-3bf9cef8beb9",
                "language": "sql"
            },
            "outputs": [
                {
                    "output_type": "display_data",
                    "data": {
                        "text/html": "(16 rows affected)"
                    },
                    "metadata": {}
                },
                {
                    "output_type": "display_data",
                    "data": {
                        "text/html": "Total execution time: 00:00:00.075"
                    },
                    "metadata": {}
                },
                {
                    "output_type": "execute_result",
                    "metadata": {},
                    "execution_count": 77,
                    "data": {
                        "application/vnd.dataresource+json": {
                            "schema": {
                                "fields": [
                                    {
                                        "name": "document_id"
                                    },
                                    {
                                        "name": "key"
                                    },
                                    {
                                        "name": "value"
                                    },
                                    {
                                        "name": "type"
                                    }
                                ]
                            },
                            "data": [
                                {
                                    "0": "1",
                                    "1": "firstName",
                                    "2": "Anneka",
                                    "3": "1"
                                },
                                {
                                    "0": "1",
                                    "1": "lastName",
                                    "2": "Anderssen",
                                    "3": "1"
                                },
                                {
                                    "0": "1",
                                    "1": "isActive",
                                    "2": "true",
                                    "3": "3"
                                },
                                {
                                    "0": "1",
                                    "1": "age",
                                    "2": "25",
                                    "3": "2"
                                },
                                {
                                    "0": "1",
                                    "1": "address",
                                    "2": "{\n        \"streetAddress\" : \"559 La Jolla Avenue\", \n        \"city\": \"Los Angeles\", \n        \"postalCode\" : \"90212\"\n        }",
                                    "3": "5"
                                },
                                {
                                    "0": "1",
                                    "1": "phoneNumbers",
                                    "2": "[\n        {\n            \"type\":\"home\",\n            \"number\":\"212 555-1234\"\n            },\n            {\n                \"type\" : \"office\",\n                \"number\":\"646 555-4567\"\n                },\n                {\n                \"type\" : \"mobile\",\n                \"number\":\"123 456-7890\"\n                }\n\n    ]",
                                    "3": "4"
                                },
                                {
                                    "0": "1",
                                    "1": "children",
                                    "2": "[]",
                                    "3": "4"
                                },
                                {
                                    "0": "1",
                                    "1": "spouse",
                                    "2": "NULL",
                                    "3": "0"
                                },
                                {
                                    "0": "2",
                                    "1": "firstName",
                                    "2": "Patty",
                                    "3": "1"
                                },
                                {
                                    "0": "2",
                                    "1": "lastName",
                                    "2": "Mukuji",
                                    "3": "1"
                                },
                                {
                                    "0": "2",
                                    "1": "isActive",
                                    "2": "true",
                                    "3": "3"
                                },
                                {
                                    "0": "2",
                                    "1": "age",
                                    "2": "32",
                                    "3": "2"
                                },
                                {
                                    "0": "2",
                                    "1": "address",
                                    "2": "{\n    \"streetAddress\": \"620 Mission Street\",\n    \"city\": \"New Orleans\",\n    \"postalCode\": \"94188\"\n  }",
                                    "3": "5"
                                },
                                {
                                    "0": "2",
                                    "1": "phoneNumbers",
                                    "2": "[\n    {\n      \"type\": \"home\",\n      \"number\": \"020 7946 0891\"\n    },\n    {\n      \"type\": \"office\",\n      \"number\": \"020 7946 0986\"\n    },\n    {\n      \"type\": \"mobile\",\n      \"number\": \"123 789-4560\"\n    }\n  ]",
                                    "3": "4"
                                },
                                {
                                    "0": "2",
                                    "1": "children",
                                    "2": "[\"Rose\", \"Rosa\"]",
                                    "3": "4"
                                },
                                {
                                    "0": "2",
                                    "1": "spouse",
                                    "2": "Norma Mukuji",
                                    "3": "1"
                                }
                            ]
                        },
                        "text/html": [
                            "<table>",
                            "<tr><th>document_id</th><th>key</th><th>value</th><th>type</th></tr>",
                            "<tr><td>1</td><td>firstName</td><td>Anneka</td><td>1</td></tr>",
                            "<tr><td>1</td><td>lastName</td><td>Anderssen</td><td>1</td></tr>",
                            "<tr><td>1</td><td>isActive</td><td>true</td><td>3</td></tr>",
                            "<tr><td>1</td><td>age</td><td>25</td><td>2</td></tr>",
                            "<tr><td>1</td><td>address</td><td>{\n        &quot;streetAddress&quot; : &quot;559 La Jolla Avenue&quot;, \n        &quot;city&quot;: &quot;Los Angeles&quot;, \n        &quot;postalCode&quot; : &quot;90212&quot;\n        }</td><td>5</td></tr>",
                            "<tr><td>1</td><td>phoneNumbers</td><td>[\n        {\n            &quot;type&quot;:&quot;home&quot;,\n            &quot;number&quot;:&quot;212 555-1234&quot;\n            },\n            {\n                &quot;type&quot; : &quot;office&quot;,\n                &quot;number&quot;:&quot;646 555-4567&quot;\n                },\n                {\n                &quot;type&quot; : &quot;mobile&quot;,\n                &quot;number&quot;:&quot;123 456-7890&quot;\n                }\n\n    ]</td><td>4</td></tr>",
                            "<tr><td>1</td><td>children</td><td>[]</td><td>4</td></tr>",
                            "<tr><td>1</td><td>spouse</td><td>NULL</td><td>0</td></tr>",
                            "<tr><td>2</td><td>firstName</td><td>Patty</td><td>1</td></tr>",
                            "<tr><td>2</td><td>lastName</td><td>Mukuji</td><td>1</td></tr>",
                            "<tr><td>2</td><td>isActive</td><td>true</td><td>3</td></tr>",
                            "<tr><td>2</td><td>age</td><td>32</td><td>2</td></tr>",
                            "<tr><td>2</td><td>address</td><td>{\n    &quot;streetAddress&quot;: &quot;620 Mission Street&quot;,\n    &quot;city&quot;: &quot;New Orleans&quot;,\n    &quot;postalCode&quot;: &quot;94188&quot;\n  }</td><td>5</td></tr>",
                            "<tr><td>2</td><td>phoneNumbers</td><td>[\n    {\n      &quot;type&quot;: &quot;home&quot;,\n      &quot;number&quot;: &quot;020 7946 0891&quot;\n    },\n    {\n      &quot;type&quot;: &quot;office&quot;,\n      &quot;number&quot;: &quot;020 7946 0986&quot;\n    },\n    {\n      &quot;type&quot;: &quot;mobile&quot;,\n      &quot;number&quot;: &quot;123 789-4560&quot;\n    }\n  ]</td><td>4</td></tr>",
                            "<tr><td>2</td><td>children</td><td>[&quot;Rose&quot;, &quot;Rosa&quot;]</td><td>4</td></tr>",
                            "<tr><td>2</td><td>spouse</td><td>Norma Mukuji</td><td>1</td></tr>",
                            "</table>"
                        ]
                    }
                }
            ],
            "execution_count": 77
        },
        {
            "cell_type": "code",
            "source": [
                "SELECT c.value AS child_name\n",
                "FROM data_models.employee_json AS j \n",
                "    CROSS APPLY openjson(j.json_data, '$.children') AS c "
            ],
            "metadata": {
                "azdata_cell_guid": "43035c0a-e581-461e-bf8d-529788d156f7",
                "language": "sql"
            },
            "outputs": [
                {
                    "output_type": "display_data",
                    "data": {
                        "text/html": "(2 rows affected)"
                    },
                    "metadata": {}
                },
                {
                    "output_type": "display_data",
                    "data": {
                        "text/html": "Total execution time: 00:00:00.038"
                    },
                    "metadata": {}
                },
                {
                    "output_type": "execute_result",
                    "metadata": {},
                    "execution_count": 78,
                    "data": {
                        "application/vnd.dataresource+json": {
                            "schema": {
                                "fields": [
                                    {
                                        "name": "child_name"
                                    }
                                ]
                            },
                            "data": [
                                {
                                    "0": "Rose"
                                },
                                {
                                    "0": "Rosa"
                                }
                            ]
                        },
                        "text/html": [
                            "<table>",
                            "<tr><th>child_name</th></tr>",
                            "<tr><td>Rose</td></tr>",
                            "<tr><td>Rosa</td></tr>",
                            "</table>"
                        ]
                    }
                }
            ],
            "execution_count": 78
        },
        {
            "cell_type": "code",
            "source": [
                "SELECT JSON_VALUE(c.value, '$.number') AS phone_number\n",
                "FROM data_models.employee_json AS j \n",
                "    CROSS APPLY openjson(j.json_data, '$.phoneNumbers') AS c "
            ],
            "metadata": {
                "language": "sql",
                "azdata_cell_guid": "a47a9773-9066-4f70-b528-a7bd0f6a5e83"
            },
            "outputs": [
                {
                    "output_type": "display_data",
                    "data": {
                        "text/html": "(6 rows affected)"
                    },
                    "metadata": {}
                },
                {
                    "output_type": "display_data",
                    "data": {
                        "text/html": "Total execution time: 00:00:00.108"
                    },
                    "metadata": {}
                },
                {
                    "output_type": "execute_result",
                    "metadata": {},
                    "execution_count": 79,
                    "data": {
                        "application/vnd.dataresource+json": {
                            "schema": {
                                "fields": [
                                    {
                                        "name": "phone_number"
                                    }
                                ]
                            },
                            "data": [
                                {
                                    "0": "212 555-1234"
                                },
                                {
                                    "0": "646 555-4567"
                                },
                                {
                                    "0": "123 456-7890"
                                },
                                {
                                    "0": "020 7946 0891"
                                },
                                {
                                    "0": "020 7946 0986"
                                },
                                {
                                    "0": "123 789-4560"
                                }
                            ]
                        },
                        "text/html": [
                            "<table>",
                            "<tr><th>phone_number</th></tr>",
                            "<tr><td>212 555-1234</td></tr>",
                            "<tr><td>646 555-4567</td></tr>",
                            "<tr><td>123 456-7890</td></tr>",
                            "<tr><td>020 7946 0891</td></tr>",
                            "<tr><td>020 7946 0986</td></tr>",
                            "<tr><td>123 789-4560</td></tr>",
                            "</table>"
                        ]
                    }
                }
            ],
            "execution_count": 79
        },
        {
            "cell_type": "code",
            "source": [
                "SELECT j.id as document_id, t.*\n",
                "FROM data_models.employee_json AS j \n",
                "    CROSS APPLY openjson(j.json_data) WITH \n",
                "        (\n",
                "            FirstName NVARCHAR(50) '$.firstName',\n",
                "            LastName NVARCHAR(50) '$.lastName',\n",
                "            Age INT '$.age',\n",
                "            City NVARCHAR(50) '$.address.city'\n",
                "        ) AS t"
            ],
            "metadata": {
                "language": "sql",
                "azdata_cell_guid": "141ee030-8dea-4a5b-a62c-7a69e50bfacc"
            },
            "outputs": [
                {
                    "output_type": "display_data",
                    "data": {
                        "text/html": "(2 rows affected)"
                    },
                    "metadata": {}
                },
                {
                    "output_type": "display_data",
                    "data": {
                        "text/html": "Total execution time: 00:00:00.042"
                    },
                    "metadata": {}
                },
                {
                    "output_type": "execute_result",
                    "metadata": {},
                    "execution_count": 80,
                    "data": {
                        "application/vnd.dataresource+json": {
                            "schema": {
                                "fields": [
                                    {
                                        "name": "document_id"
                                    },
                                    {
                                        "name": "FirstName"
                                    },
                                    {
                                        "name": "LastName"
                                    },
                                    {
                                        "name": "Age"
                                    },
                                    {
                                        "name": "City"
                                    }
                                ]
                            },
                            "data": [
                                {
                                    "0": "1",
                                    "1": "Anneka",
                                    "2": "Anderssen",
                                    "3": "25",
                                    "4": "Los Angeles"
                                },
                                {
                                    "0": "2",
                                    "1": "Patty",
                                    "2": "Mukuji",
                                    "3": "32",
                                    "4": "New Orleans"
                                }
                            ]
                        },
                        "text/html": [
                            "<table>",
                            "<tr><th>document_id</th><th>FirstName</th><th>LastName</th><th>Age</th><th>City</th></tr>",
                            "<tr><td>1</td><td>Anneka</td><td>Anderssen</td><td>25</td><td>Los Angeles</td></tr>",
                            "<tr><td>2</td><td>Patty</td><td>Mukuji</td><td>32</td><td>New Orleans</td></tr>",
                            "</table>"
                        ]
                    }
                }
            ],
            "execution_count": 80
        },
        {
            "cell_type": "markdown",
            "source": [
                "### We set things up to modify the JSON data in our table"
            ],
            "metadata": {
                "azdata_cell_guid": "8f2e63d9-e6d6-43a3-a83c-f9f95d77bcd2",
                "language": ""
            },
            "attachments": {}
        },
        {
            "cell_type": "code",
            "source": [
                "DECLARE @INFO VARCHAR(MAX)\n",
                "SELECT TOP(1) @INFO=json_data FROM data_models.employee_json \n",
                "                              WHERE id = 1\n",
                "\n",
                "PRINT @INFO"
            ],
            "metadata": {
                "language": "sql",
                "azdata_cell_guid": "e6c05a9f-3666-4905-9214-0eb4d345d25d"
            },
            "outputs": [
                {
                    "output_type": "display_data",
                    "data": {
                        "text/html": "{\n    \"firstName\" : \"Anneka\",\n    \"lastName\" : \"Anderssen\",\n    \"isAlive\" : true, \n    \"age\" : 25,\n    \"address\" : {\n        \"streetAddress\" : \"559 La Jolla Avenue\", \n        \"city\": \"Los Angeles\", \n        \"postalCode\" : \"90212\"\n        },\n    \"phoneNumbers\":[\n        {\n            \"type\":\"home\",\n            \"number\":\"212 555-1234\"\n            },\n            {\n                \"type\" : \"office\",\n                \"number\":\"646 555-4567\"\n                },\n                {\n                \"type\" : \"mobile\",\n                \"number\":\"123 456-7890\"\n                }\n\n    ],\n    \"children\" : [],\n    \"spouse\" :null\n    }"
                    },
                    "metadata": {}
                },
                {
                    "output_type": "display_data",
                    "data": {
                        "text/html": "Total execution time: 00:00:00.042"
                    },
                    "metadata": {}
                }
            ],
            "execution_count": 54
        },
        {
            "cell_type": "code",
            "source": [
                "DECLARE @INFO VARCHAR(MAX)\n",
                "SELECT TOP(1) @INFO=json_data FROM data_models.employee_json \n",
                "                              WHERE id = 1\n",
                "\n",
                "SET @INFO = JSON_MODIFY(@INFO, '$.spouse', 'Alisha Kane')\n",
                "\n",
                "PRINT @INFO\n",
                ""
            ],
            "metadata": {
                "language": "sql",
                "azdata_cell_guid": "ae6e2492-635e-457b-a555-3f24782836eb"
            },
            "outputs": [
                {
                    "output_type": "display_data",
                    "data": {
                        "text/html": "{\n    \"firstName\" : \"Anneka\",\n    \"lastName\" : \"Anderssen\",\n    \"isActive\" : true, \n    \"age\" : 25,\n    \"address\" : {\n        \"streetAddress\" : \"559 La Jolla Avenue\", \n        \"city\": \"Los Angeles\", \n        \"postalCode\" : \"90212\"\n        },\n    \"phoneNumbers\":[\n        {\n            \"type\":\"home\",\n            \"number\":\"212 555-1234\"\n            },\n            {\n                \"type\" : \"office\",\n                \"number\":\"646 555-4567\"\n                },\n                {\n                \"type\" : \"mobile\",\n                \"number\":\"123 456-7890\"\n                }\n\n    ],\n    \"children\" : [],\n    \"spouse\" :\"Alisha Kane\"\n    }"
                    },
                    "metadata": {}
                },
                {
                    "output_type": "display_data",
                    "data": {
                        "text/html": "Total execution time: 00:00:00.039"
                    },
                    "metadata": {}
                }
            ],
            "execution_count": 81
        },
        {
            "cell_type": "markdown",
            "source": [
                "### This has not modified the contents of the database - spouse is still null in there"
            ],
            "metadata": {
                "azdata_cell_guid": "223da37b-6776-40b9-8c5a-1a2ce2b75beb"
            },
            "attachments": {}
        },
        {
            "cell_type": "code",
            "source": [
                "DECLARE @INFO VARCHAR(MAX)\n",
                "SELECT TOP(1) @INFO=json_data FROM data_models.employee_json \n",
                "                              WHERE id = 1\n",
                "\n",
                "PRINT @INFO"
            ],
            "metadata": {
                "language": "sql",
                "azdata_cell_guid": "8568635f-e0bf-4de8-b6f1-70cd00eee87c"
            },
            "outputs": [
                {
                    "output_type": "display_data",
                    "data": {
                        "text/html": "{\n    \"firstName\" : \"Anneka\",\n    \"lastName\" : \"Anderssen\",\n    \"isActive\" : true, \n    \"age\" : 25,\n    \"address\" : {\n        \"streetAddress\" : \"559 La Jolla Avenue\", \n        \"city\": \"Los Angeles\", \n        \"postalCode\" : \"90212\"\n        },\n    \"phoneNumbers\":[\n        {\n            \"type\":\"home\",\n            \"number\":\"212 555-1234\"\n            },\n            {\n                \"type\" : \"office\",\n                \"number\":\"646 555-4567\"\n                },\n                {\n                \"type\" : \"mobile\",\n                \"number\":\"123 456-7890\"\n                }\n\n    ],\n    \"children\" : [],\n    \"spouse\" :null\n    }"
                    },
                    "metadata": {}
                },
                {
                    "output_type": "display_data",
                    "data": {
                        "text/html": "Total execution time: 00:00:00.052"
                    },
                    "metadata": {}
                }
            ],
            "execution_count": 82
        },
        {
            "cell_type": "markdown",
            "source": [
                "### We use the modified JSON to perform an update"
            ],
            "metadata": {
                "azdata_cell_guid": "ca1a7532-b8b5-4c24-8c4f-58d51b498bca"
            },
            "attachments": {}
        },
        {
            "cell_type": "code",
            "source": [
                "DECLARE @INFO VARCHAR(MAX)\n",
                "SELECT TOP(1) @INFO=json_data FROM data_models.employee_json \n",
                "                              WHERE id = 1\n",
                "\n",
                "SET @INFO = JSON_MODIFY(@INFO, '$.spouse', 'Alisha Kane')\n",
                "\n",
                "UPDATE data_models.employee_json\n",
                "SET json_data = @INFO\n",
                "WHERE id = 1"
            ],
            "metadata": {
                "language": "sql",
                "azdata_cell_guid": "a5dea244-86bf-445b-ba12-16b5f92fd8f7"
            },
            "outputs": [
                {
                    "output_type": "display_data",
                    "data": {
                        "text/html": "(1 row affected)"
                    },
                    "metadata": {}
                },
                {
                    "output_type": "display_data",
                    "data": {
                        "text/html": "Total execution time: 00:00:00.066"
                    },
                    "metadata": {}
                }
            ],
            "execution_count": 83
        },
        {
            "cell_type": "markdown",
            "source": [
                "### Now the update has taken effect"
            ],
            "metadata": {
                "azdata_cell_guid": "dbd08068-328a-4605-aff3-fae44265b8ec"
            },
            "attachments": {}
        },
        {
            "cell_type": "code",
            "source": [
                "DECLARE @INFO VARCHAR(MAX)\n",
                "SELECT TOP(1) @INFO=json_data FROM data_models.employee_json \n",
                "                              WHERE id = 1\n",
                "\n",
                "PRINT @INFO"
            ],
            "metadata": {
                "azdata_cell_guid": "9f6e5536-435b-4317-9153-b10609c6f261",
                "language": "sql"
            },
            "outputs": [
                {
                    "output_type": "display_data",
                    "data": {
                        "text/html": "{\n    \"firstName\" : \"Anneka\",\n    \"lastName\" : \"Anderssen\",\n    \"isActive\" : true, \n    \"age\" : 25,\n    \"address\" : {\n        \"streetAddress\" : \"559 La Jolla Avenue\", \n        \"city\": \"Los Angeles\", \n        \"postalCode\" : \"90212\"\n        },\n    \"phoneNumbers\":[\n        {\n            \"type\":\"home\",\n            \"number\":\"212 555-1234\"\n            },\n            {\n                \"type\" : \"office\",\n                \"number\":\"646 555-4567\"\n                },\n                {\n                \"type\" : \"mobile\",\n                \"number\":\"123 456-7890\"\n                }\n\n    ],\n    \"children\" : [],\n    \"spouse\" :\"Alisha Kane\"\n    }"
                    },
                    "metadata": {}
                },
                {
                    "output_type": "display_data",
                    "data": {
                        "text/html": "Total execution time: 00:00:00.037"
                    },
                    "metadata": {}
                }
            ],
            "execution_count": 84
        },
        {
            "cell_type": "markdown",
            "source": [
                "### Clean up..."
            ],
            "metadata": {
                "azdata_cell_guid": "4962326c-51b9-4fd0-a59e-afc1378f3b4c"
            },
            "attachments": {}
        },
        {
            "cell_type": "code",
            "source": [
                "DROP TABLE data_models.employee_address\n",
                "\n",
                "DROP TABLE data_models.employee_phone\n",
                "\n",
                "DROP TABLE data_models.employee_details\n",
                "\n",
                "DROP TABLE data_models.employee_json"
            ],
            "metadata": {
                "azdata_cell_guid": "b043eb41-95bf-43da-949f-fbe8417a2ba3",
                "language": "sql"
            },
            "outputs": [
                {
                    "output_type": "display_data",
                    "data": {
                        "text/html": "Commands completed successfully."
                    },
                    "metadata": {}
                },
                {
                    "output_type": "display_data",
                    "data": {
                        "text/html": "Total execution time: 00:00:00.075"
                    },
                    "metadata": {}
                }
            ],
            "execution_count": 59
        }
    ]
}