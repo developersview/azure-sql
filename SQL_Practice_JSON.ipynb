{
    "metadata": {
        "kernelspec": {
            "name": "SQL",
            "display_name": "SQL",
            "language": "sql"
        },
        "language_info": {
            "name": "sql",
            "version": ""
        }
    },
    "nbformat_minor": 2,
    "nbformat": 4,
    "cells": [
        {
            "cell_type": "code",
            "source": [
                "CREATE SCHEMA data_models"
            ],
            "metadata": {
                "azdata_cell_guid": "0204a71b-d5fa-476f-938f-9c92242f67f6",
                "language": "sql"
            },
            "outputs": [
                {
                    "output_type": "display_data",
                    "data": {
                        "text/html": "Commands completed successfully."
                    },
                    "metadata": {}
                },
                {
                    "output_type": "display_data",
                    "data": {
                        "text/html": "Total execution time: 00:00:00.014"
                    },
                    "metadata": {}
                }
            ],
            "execution_count": 1
        },
        {
            "cell_type": "code",
            "source": [
                "CREATE TABLE data_models.employee_details\r\n",
                "(\r\n",
                "    id INT NOT NULL PRIMARY KEY,\r\n",
                "    firstName NVARCHAR(255) NOT NULL,\r\n",
                "    lastName NVARCHAR(255) NOT NULL,\r\n",
                "    isActive BIT NOT NULL,\r\n",
                "    age INT NOT NULL \r\n",
                ")"
            ],
            "metadata": {
                "language": "sql",
                "azdata_cell_guid": "f4cb0f15-2c16-481f-b9b0-76bbd49022c1"
            },
            "outputs": [
                {
                    "output_type": "display_data",
                    "data": {
                        "text/html": "Commands completed successfully."
                    },
                    "metadata": {}
                },
                {
                    "output_type": "display_data",
                    "data": {
                        "text/html": "Total execution time: 00:00:00.014"
                    },
                    "metadata": {}
                }
            ],
            "execution_count": 2
        },
        {
            "cell_type": "code",
            "source": [
                "INSERT INTO [data_models].[employee_details] VALUES\r\n",
                "(1, 'Anneka', 'Anderssen', 1, 25),\r\n",
                "(2, 'Patty', 'Mukuji', 1, 32)"
            ],
            "metadata": {
                "language": "sql",
                "azdata_cell_guid": "1d8fd643-d3ac-42fb-9f47-6f78727d9a31"
            },
            "outputs": [
                {
                    "output_type": "display_data",
                    "data": {
                        "text/html": "(2 rows affected)"
                    },
                    "metadata": {}
                },
                {
                    "output_type": "display_data",
                    "data": {
                        "text/html": "Total execution time: 00:00:00.010"
                    },
                    "metadata": {}
                }
            ],
            "execution_count": 5
        },
        {
            "cell_type": "code",
            "source": [
                "CREATE TABLE data_models.employee_address\r\n",
                "(\r\n",
                "    id INT NOT NULL PRIMARY KEY,\r\n",
                "    empId INT NOT NULL\r\n",
                "        FOREIGN KEY REFERENCES data_models.employee_details(id),\r\n",
                "    streetAddress NVARCHAR(100) NOT NULL,\r\n",
                "    city NVARCHAR(100) NOT NULL,\r\n",
                "    state NVARCHAR(100) NULL,\r\n",
                "    postalCode NVARCHAR(100) NOT NULL\r\n",
                ")"
            ],
            "metadata": {
                "language": "sql",
                "azdata_cell_guid": "2ce60d5e-258d-4088-96aa-573209b31f2f"
            },
            "outputs": [
                {
                    "output_type": "display_data",
                    "data": {
                        "text/html": "Commands completed successfully."
                    },
                    "metadata": {}
                },
                {
                    "output_type": "display_data",
                    "data": {
                        "text/html": "Total execution time: 00:00:00.013"
                    },
                    "metadata": {}
                }
            ],
            "execution_count": 11
        },
        {
            "cell_type": "code",
            "source": [
                "INSERT INTO data_models.employee_address VALUES\r\n",
                "(1, 1, '559 La Jolla Avenue', 'Los Angeles', null , '90212'),\r\n",
                "(2, 2, '620 Mission Street', 'New Orleans', null, '94188')"
            ],
            "metadata": {
                "language": "sql",
                "azdata_cell_guid": "1fc3ee6b-3c37-462e-bc4f-e5bcf2ef6779"
            },
            "outputs": [
                {
                    "output_type": "display_data",
                    "data": {
                        "text/html": "(2 rows affected)"
                    },
                    "metadata": {}
                },
                {
                    "output_type": "display_data",
                    "data": {
                        "text/html": "Total execution time: 00:00:00.013"
                    },
                    "metadata": {}
                }
            ],
            "execution_count": 12
        },
        {
            "cell_type": "code",
            "source": [
                "CREATE TABLE data_models.employee_phone\r\n",
                "(\r\n",
                "    id INT NOT NULL PRIMARY KEY,\r\n",
                "    empId INT NOT NULL \r\n",
                "        FOREIGN KEY REFERENCES data_models.employee_details(id),\r\n",
                "    type NVARCHAR(100) NOT NULL,\r\n",
                "    number NVARCHAR(100) NOT NULL\r\n",
                ")"
            ],
            "metadata": {
                "language": "sql",
                "azdata_cell_guid": "9ad5b736-8c86-4ddb-b24a-36e1d954daae"
            },
            "outputs": [
                {
                    "output_type": "display_data",
                    "data": {
                        "text/html": "Commands completed successfully."
                    },
                    "metadata": {}
                },
                {
                    "output_type": "display_data",
                    "data": {
                        "text/html": "Total execution time: 00:00:00.005"
                    },
                    "metadata": {}
                }
            ],
            "execution_count": 1
        },
        {
            "cell_type": "code",
            "source": [
                "INSERT INTO data_models.employee_phone VALUES\r\n",
                "(1, 1, 'home', '212 555-1234'),\r\n",
                "(2, 1, 'office', '646 555-4567'),\r\n",
                "(3, 1, 'mobile', '123 456-7890'),\r\n",
                "(4, 2, 'home', '020 7946 0891'),\r\n",
                "(5, 2, 'office', '020 7946 0986'),\r\n",
                "(6, 2, 'mobile', '123 789-4560')"
            ],
            "metadata": {
                "language": "sql",
                "azdata_cell_guid": "f76b5b61-3684-4614-a395-b125b32851ce"
            },
            "outputs": [
                {
                    "output_type": "display_data",
                    "data": {
                        "text/html": "(6 rows affected)"
                    },
                    "metadata": {}
                },
                {
                    "output_type": "display_data",
                    "data": {
                        "text/html": "Total execution time: 00:00:00.012"
                    },
                    "metadata": {}
                }
            ],
            "execution_count": 2
        },
        {
            "cell_type": "code",
            "source": [
                "SELECT e.firstName, e.age,\r\n",
                "       a.streetAddress, a.city,\r\n",
                "       p.type, p.number\r\n",
                "FROM data_models.employee_details e \r\n",
                "     INNER JOIN data_models.employee_address a\r\n",
                "           ON (e.id = a.empId)\r\n",
                "     INNER JOIN data_models.employee_phone p\r\n",
                "           ON (e.id = p.empId)"
            ],
            "metadata": {
                "language": "sql",
                "azdata_cell_guid": "6a408509-3009-4e6b-b64e-10f6934139bc",
                "tags": []
            },
            "outputs": [
                {
                    "output_type": "display_data",
                    "data": {
                        "text/html": "(6 rows affected)"
                    },
                    "metadata": {}
                },
                {
                    "output_type": "display_data",
                    "data": {
                        "text/html": "Total execution time: 00:00:00.037"
                    },
                    "metadata": {}
                },
                {
                    "output_type": "execute_result",
                    "metadata": {},
                    "execution_count": 5,
                    "data": {
                        "application/vnd.dataresource+json": {
                            "schema": {
                                "fields": [
                                    {
                                        "name": "firstName"
                                    },
                                    {
                                        "name": "age"
                                    },
                                    {
                                        "name": "streetAddress"
                                    },
                                    {
                                        "name": "city"
                                    },
                                    {
                                        "name": "type"
                                    },
                                    {
                                        "name": "number"
                                    }
                                ]
                            },
                            "data": [
                                {
                                    "0": "Anneka",
                                    "1": "25",
                                    "2": "559 La Jolla Avenue",
                                    "3": "Los Angeles",
                                    "4": "home",
                                    "5": "212 555-1234"
                                },
                                {
                                    "0": "Anneka",
                                    "1": "25",
                                    "2": "559 La Jolla Avenue",
                                    "3": "Los Angeles",
                                    "4": "office",
                                    "5": "646 555-4567"
                                },
                                {
                                    "0": "Anneka",
                                    "1": "25",
                                    "2": "559 La Jolla Avenue",
                                    "3": "Los Angeles",
                                    "4": "mobile",
                                    "5": "123 456-7890"
                                },
                                {
                                    "0": "Patty",
                                    "1": "32",
                                    "2": "620 Mission Street",
                                    "3": "New Orleans",
                                    "4": "home",
                                    "5": "020 7946 0891"
                                },
                                {
                                    "0": "Patty",
                                    "1": "32",
                                    "2": "620 Mission Street",
                                    "3": "New Orleans",
                                    "4": "office",
                                    "5": "020 7946 0986"
                                },
                                {
                                    "0": "Patty",
                                    "1": "32",
                                    "2": "620 Mission Street",
                                    "3": "New Orleans",
                                    "4": "mobile",
                                    "5": "123 789-4560"
                                }
                            ]
                        },
                        "text/html": [
                            "<table>",
                            "<tr><th>firstName</th><th>age</th><th>streetAddress</th><th>city</th><th>type</th><th>number</th></tr>",
                            "<tr><td>Anneka</td><td>25</td><td>559 La Jolla Avenue</td><td>Los Angeles</td><td>home</td><td>212 555-1234</td></tr>",
                            "<tr><td>Anneka</td><td>25</td><td>559 La Jolla Avenue</td><td>Los Angeles</td><td>office</td><td>646 555-4567</td></tr>",
                            "<tr><td>Anneka</td><td>25</td><td>559 La Jolla Avenue</td><td>Los Angeles</td><td>mobile</td><td>123 456-7890</td></tr>",
                            "<tr><td>Patty</td><td>32</td><td>620 Mission Street</td><td>New Orleans</td><td>home</td><td>020 7946 0891</td></tr>",
                            "<tr><td>Patty</td><td>32</td><td>620 Mission Street</td><td>New Orleans</td><td>office</td><td>020 7946 0986</td></tr>",
                            "<tr><td>Patty</td><td>32</td><td>620 Mission Street</td><td>New Orleans</td><td>mobile</td><td>123 789-4560</td></tr>",
                            "</table>"
                        ]
                    }
                }
            ],
            "execution_count": 5
        },
        {
            "cell_type": "code",
            "source": [
                "CREATE TABLE data_models.employee_json \r\n",
                "(\r\n",
                "    id INT NOT NULL PRIMARY KEY,\r\n",
                "    json_data NVARCHAR(MAX) NOT NULL CHECK(isjson(json_data)=1)\r\n",
                ")"
            ],
            "metadata": {
                "language": "sql",
                "azdata_cell_guid": "ce99abf8-0156-4d0f-91fa-217ecea50b41"
            },
            "outputs": [
                {
                    "output_type": "display_data",
                    "data": {
                        "text/html": "Commands completed successfully."
                    },
                    "metadata": {}
                },
                {
                    "output_type": "display_data",
                    "data": {
                        "text/html": "Total execution time: 00:00:00.013"
                    },
                    "metadata": {}
                }
            ],
            "execution_count": 7
        },
        {
            "cell_type": "code",
            "source": [
                "INSERT INTO data_models.employee_json VALUES\r\n",
                "(1, N'{\r\n",
                "    \"firstName\" : \"Anneka\",\r\n",
                "    \"lastName\" : \"Anderssen\",\r\n",
                "    \"isActive\" : true, \r\n",
                "    \"age\" : 25,\r\n",
                "    \"address\" : {\r\n",
                "        \"streetAddress\" : \"559 La Jolla Avenue\", \r\n",
                "        \"city\": \"Los Angeles\", \r\n",
                "        \"postalCode\" : \"90212\"\r\n",
                "        },\r\n",
                "    \"phoneNumbers\":[\r\n",
                "        {\r\n",
                "            \"type\":\"home\",\r\n",
                "            \"number\":\"212 555-1234\"\r\n",
                "            },\r\n",
                "            {\r\n",
                "                \"type\" : \"office\",\r\n",
                "                \"number\":\"646 555-4567\"\r\n",
                "                },\r\n",
                "                {\r\n",
                "                \"type\" : \"mobile\",\r\n",
                "                \"number\":\"123 456-7890\"\r\n",
                "                }\r\n",
                "\r\n",
                "    ],\r\n",
                "    \"children\" : [],\r\n",
                "    \"spouse\" :null\r\n",
                "    }'),\r\n",
                "\r\n",
                "(2, N'{\r\n",
                "  \"firstName\": \"Patty\",\r\n",
                "  \"lastName\": \"Mukuji\",\r\n",
                "  \"isActive\": true,\r\n",
                "  \"age\": 32,\r\n",
                "  \"address\": {\r\n",
                "    \"streetAddress\": \"620 Mission Street\",\r\n",
                "    \"city\": \"New Orleans\",\r\n",
                "    \"postalCode\": \"94188\"\r\n",
                "  },\r\n",
                "  \"phoneNumbers\": [\r\n",
                "    {\r\n",
                "      \"type\": \"home\",\r\n",
                "      \"number\": \"020 7946 0891\"\r\n",
                "    },\r\n",
                "    {\r\n",
                "      \"type\": \"office\",\r\n",
                "      \"number\": \"020 7946 0986\"\r\n",
                "    },\r\n",
                "    {\r\n",
                "      \"type\": \"mobile\",\r\n",
                "      \"number\": \"123 789-4560\"\r\n",
                "    }\r\n",
                "  ],\r\n",
                "  \"children\": [\"Rose\", \"Rosa\"],\r\n",
                "  \"spouse\": \"Norma Mukuji\"\r\n",
                "}')"
            ],
            "metadata": {
                "language": "sql",
                "azdata_cell_guid": "bfcc4ff8-05d9-4923-8491-bbb07e34a20d"
            },
            "outputs": [
                {
                    "output_type": "display_data",
                    "data": {
                        "text/html": "(2 rows affected)"
                    },
                    "metadata": {}
                },
                {
                    "output_type": "display_data",
                    "data": {
                        "text/html": "Total execution time: 00:00:00.003"
                    },
                    "metadata": {}
                }
            ],
            "execution_count": 8
        },
        {
            "cell_type": "code",
            "source": [
                "SELECT * FROM data_models.employee_json"
            ],
            "metadata": {
                "azdata_cell_guid": "316e3a77-5c87-4a26-83c2-e7cab71d61e3",
                "language": "sql"
            },
            "outputs": [
                {
                    "output_type": "display_data",
                    "data": {
                        "text/html": "(2 rows affected)"
                    },
                    "metadata": {}
                },
                {
                    "output_type": "display_data",
                    "data": {
                        "text/html": "Total execution time: 00:00:00.017"
                    },
                    "metadata": {}
                },
                {
                    "output_type": "execute_result",
                    "metadata": {},
                    "execution_count": 9,
                    "data": {
                        "application/vnd.dataresource+json": {
                            "schema": {
                                "fields": [
                                    {
                                        "name": "id"
                                    },
                                    {
                                        "name": "json_data"
                                    }
                                ]
                            },
                            "data": [
                                {
                                    "0": "1",
                                    "1": "{\r\n    \"firstName\" : \"Anneka\",\r\n    \"lastName\" : \"Anderssen\",\r\n    \"isActive\" : true, \r\n    \"age\" : 25,\r\n    \"address\" : {\r\n        \"streetAddress\" : \"559 La Jolla Avenue\", \r\n        \"city\": \"Los Angeles\", \r\n        \"postalCode\" : \"90212\"\r\n        },\r\n    \"phoneNumbers\":[\r\n        {\r\n            \"type\":\"home\",\r\n            \"number\":\"212 555-1234\"\r\n            },\r\n            {\r\n                \"type\" : \"office\",\r\n                \"number\":\"646 555-4567\"\r\n                },\r\n                {\r\n                \"type\" : \"mobile\",\r\n                \"number\":\"123 456-7890\"\r\n                }\r\n\r\n    ],\r\n    \"children\" : [],\r\n    \"spouse\" :null\r\n    }"
                                },
                                {
                                    "0": "2",
                                    "1": "{\r\n  \"firstName\": \"Patty\",\r\n  \"lastName\": \"Mukuji\",\r\n  \"isActive\": true,\r\n  \"age\": 32,\r\n  \"address\": {\r\n    \"streetAddress\": \"620 Mission Street\",\r\n    \"city\": \"New Orleans\",\r\n    \"postalCode\": \"94188\"\r\n  },\r\n  \"phoneNumbers\": [\r\n    {\r\n      \"type\": \"home\",\r\n      \"number\": \"020 7946 0891\"\r\n    },\r\n    {\r\n      \"type\": \"office\",\r\n      \"number\": \"020 7946 0986\"\r\n    },\r\n    {\r\n      \"type\": \"mobile\",\r\n      \"number\": \"123 789-4560\"\r\n    }\r\n  ],\r\n  \"children\": [\"Rose\", \"Rosa\"],\r\n  \"spouse\": \"Norma Mukuji\"\r\n}"
                                }
                            ]
                        },
                        "text/html": [
                            "<table>",
                            "<tr><th>id</th><th>json_data</th></tr>",
                            "<tr><td>1</td><td>{\r\n    &quot;firstName&quot; : &quot;Anneka&quot;,\r\n    &quot;lastName&quot; : &quot;Anderssen&quot;,\r\n    &quot;isActive&quot; : true, \r\n    &quot;age&quot; : 25,\r\n    &quot;address&quot; : {\r\n        &quot;streetAddress&quot; : &quot;559 La Jolla Avenue&quot;, \r\n        &quot;city&quot;: &quot;Los Angeles&quot;, \r\n        &quot;postalCode&quot; : &quot;90212&quot;\r\n        },\r\n    &quot;phoneNumbers&quot;:[\r\n        {\r\n            &quot;type&quot;:&quot;home&quot;,\r\n            &quot;number&quot;:&quot;212 555-1234&quot;\r\n            },\r\n            {\r\n                &quot;type&quot; : &quot;office&quot;,\r\n                &quot;number&quot;:&quot;646 555-4567&quot;\r\n                },\r\n                {\r\n                &quot;type&quot; : &quot;mobile&quot;,\r\n                &quot;number&quot;:&quot;123 456-7890&quot;\r\n                }\r\n\r\n    ],\r\n    &quot;children&quot; : [],\r\n    &quot;spouse&quot; :null\r\n    }</td></tr>",
                            "<tr><td>2</td><td>{\r\n  &quot;firstName&quot;: &quot;Patty&quot;,\r\n  &quot;lastName&quot;: &quot;Mukuji&quot;,\r\n  &quot;isActive&quot;: true,\r\n  &quot;age&quot;: 32,\r\n  &quot;address&quot;: {\r\n    &quot;streetAddress&quot;: &quot;620 Mission Street&quot;,\r\n    &quot;city&quot;: &quot;New Orleans&quot;,\r\n    &quot;postalCode&quot;: &quot;94188&quot;\r\n  },\r\n  &quot;phoneNumbers&quot;: [\r\n    {\r\n      &quot;type&quot;: &quot;home&quot;,\r\n      &quot;number&quot;: &quot;020 7946 0891&quot;\r\n    },\r\n    {\r\n      &quot;type&quot;: &quot;office&quot;,\r\n      &quot;number&quot;: &quot;020 7946 0986&quot;\r\n    },\r\n    {\r\n      &quot;type&quot;: &quot;mobile&quot;,\r\n      &quot;number&quot;: &quot;123 789-4560&quot;\r\n    }\r\n  ],\r\n  &quot;children&quot;: [&quot;Rose&quot;, &quot;Rosa&quot;],\r\n  &quot;spouse&quot;: &quot;Norma Mukuji&quot;\r\n}</td></tr>",
                            "</table>"
                        ]
                    }
                }
            ],
            "execution_count": 9
        },
        {
            "cell_type": "code",
            "source": [
                "DECLARE @JSON VARCHAR(MAX)\r\n",
                "SELECT TOP(1) @JSON = json_data\r\n",
                "FROM data_models.employee_json\r\n",
                "WHERE id = 1\r\n",
                "\r\n",
                "SELECT JSON_VALUE(@JSON, '$.firstName') AS name\r\n",
                ""
            ],
            "metadata": {
                "language": "sql",
                "azdata_cell_guid": "d1a9f7e3-45ff-49c5-95be-a420005f3b1c"
            },
            "outputs": [
                {
                    "output_type": "display_data",
                    "data": {
                        "text/html": "(1 row affected)"
                    },
                    "metadata": {}
                },
                {
                    "output_type": "display_data",
                    "data": {
                        "text/html": "Total execution time: 00:00:00.016"
                    },
                    "metadata": {}
                },
                {
                    "output_type": "execute_result",
                    "metadata": {},
                    "execution_count": 10,
                    "data": {
                        "application/vnd.dataresource+json": {
                            "schema": {
                                "fields": [
                                    {
                                        "name": "name"
                                    }
                                ]
                            },
                            "data": [
                                {
                                    "0": "Anneka"
                                }
                            ]
                        },
                        "text/html": [
                            "<table>",
                            "<tr><th>name</th></tr>",
                            "<tr><td>Anneka</td></tr>",
                            "</table>"
                        ]
                    }
                }
            ],
            "execution_count": 10
        },
        {
            "cell_type": "code",
            "source": [
                "DECLARE @JSON VARCHAR(MAX)\r\n",
                "\r\n",
                "SELECT TOP(1) @JSON=json_data \r\n",
                "FROM data_models.employee_json \r\n",
                "WHERE id = 1\r\n",
                "\r\n",
                "SELECT JSON_QUERY(@JSON, '$.address') AS address"
            ],
            "metadata": {
                "language": "sql",
                "azdata_cell_guid": "74b80645-d494-45ed-92a2-c90ef00a079a"
            },
            "outputs": [
                {
                    "output_type": "display_data",
                    "data": {
                        "text/html": "(1 row affected)"
                    },
                    "metadata": {}
                },
                {
                    "output_type": "display_data",
                    "data": {
                        "text/html": "Total execution time: 00:00:00.011"
                    },
                    "metadata": {}
                },
                {
                    "output_type": "execute_result",
                    "metadata": {},
                    "execution_count": 11,
                    "data": {
                        "application/vnd.dataresource+json": {
                            "schema": {
                                "fields": [
                                    {
                                        "name": "address"
                                    }
                                ]
                            },
                            "data": [
                                {
                                    "0": "{\r\n        \"streetAddress\" : \"559 La Jolla Avenue\", \r\n        \"city\": \"Los Angeles\", \r\n        \"postalCode\" : \"90212\"\r\n        }"
                                }
                            ]
                        },
                        "text/html": [
                            "<table>",
                            "<tr><th>address</th></tr>",
                            "<tr><td>{\r\n        &quot;streetAddress&quot; : &quot;559 La Jolla Avenue&quot;, \r\n        &quot;city&quot;: &quot;Los Angeles&quot;, \r\n        &quot;postalCode&quot; : &quot;90212&quot;\r\n        }</td></tr>",
                            "</table>"
                        ]
                    }
                }
            ],
            "execution_count": 11
        },
        {
            "cell_type": "code",
            "source": [
                "DECLARE @JSON VARCHAR(MAX)\r\n",
                "\r\n",
                "SELECT TOP(1) @JSON=json_data \r\n",
                "FROM data_models.employee_json \r\n",
                "WHERE id = 1\r\n",
                "\r\n",
                "SELECT JSON_VALUE(@JSON, '$.address.city') AS city"
            ],
            "metadata": {
                "language": "sql",
                "azdata_cell_guid": "be8af4c8-5220-44b0-ba3f-f8df03269e30"
            },
            "outputs": [
                {
                    "output_type": "display_data",
                    "data": {
                        "text/html": "(1 row affected)"
                    },
                    "metadata": {}
                },
                {
                    "output_type": "display_data",
                    "data": {
                        "text/html": "Total execution time: 00:00:00.014"
                    },
                    "metadata": {}
                },
                {
                    "output_type": "execute_result",
                    "metadata": {},
                    "execution_count": 12,
                    "data": {
                        "application/vnd.dataresource+json": {
                            "schema": {
                                "fields": [
                                    {
                                        "name": "city"
                                    }
                                ]
                            },
                            "data": [
                                {
                                    "0": "Los Angeles"
                                }
                            ]
                        },
                        "text/html": [
                            "<table>",
                            "<tr><th>city</th></tr>",
                            "<tr><td>Los Angeles</td></tr>",
                            "</table>"
                        ]
                    }
                }
            ],
            "execution_count": 12
        },
        {
            "cell_type": "code",
            "source": [
                "SELECT JSON_VALUE(json_data, '$.firstName') AS firstName,\r\n",
                "       JSON_VALUE(json_data, '$.address.city') AS city,\r\n",
                "       JSON_QUERY(json_data, '$.phoneNumbers[0]') AS main_phone\r\n",
                "FROM data_models.employee_json\r\n",
                "WHERE id = 1"
            ],
            "metadata": {
                "language": "sql",
                "azdata_cell_guid": "604b6aaf-438d-4b32-8712-e9d81f6b9ee4"
            },
            "outputs": [
                {
                    "output_type": "display_data",
                    "data": {
                        "text/html": "(1 row affected)"
                    },
                    "metadata": {}
                },
                {
                    "output_type": "display_data",
                    "data": {
                        "text/html": "Total execution time: 00:00:00.023"
                    },
                    "metadata": {}
                },
                {
                    "output_type": "execute_result",
                    "metadata": {},
                    "execution_count": 14,
                    "data": {
                        "application/vnd.dataresource+json": {
                            "schema": {
                                "fields": [
                                    {
                                        "name": "firstName"
                                    },
                                    {
                                        "name": "city"
                                    },
                                    {
                                        "name": "main_phone"
                                    }
                                ]
                            },
                            "data": [
                                {
                                    "0": "Anneka",
                                    "1": "Los Angeles",
                                    "2": "{\r\n            \"type\":\"home\",\r\n            \"number\":\"212 555-1234\"\r\n            }"
                                }
                            ]
                        },
                        "text/html": [
                            "<table>",
                            "<tr><th>firstName</th><th>city</th><th>main_phone</th></tr>",
                            "<tr><td>Anneka</td><td>Los Angeles</td><td>{\r\n            &quot;type&quot;:&quot;home&quot;,\r\n            &quot;number&quot;:&quot;212 555-1234&quot;\r\n            }</td></tr>",
                            "</table>"
                        ]
                    }
                }
            ],
            "execution_count": 14
        },
        {
            "cell_type": "code",
            "source": [
                "SELECT JSON_VALUE(json_data, '$.firstName') AS firstName,\r\n",
                "       JSON_VALUE(json_data, '$.address.city') AS city,\r\n",
                "       JSON_VALUE(json_data, '$.phoneNumbers[0].number') AS main_phone\r\n",
                "FROM data_models.employee_json\r\n",
                "WHERE id = 1"
            ],
            "metadata": {
                "language": "sql",
                "azdata_cell_guid": "21119209-9493-4468-a610-f59bde782988"
            },
            "outputs": [
                {
                    "output_type": "display_data",
                    "data": {
                        "text/html": "(1 row affected)"
                    },
                    "metadata": {}
                },
                {
                    "output_type": "display_data",
                    "data": {
                        "text/html": "Total execution time: 00:00:00.025"
                    },
                    "metadata": {}
                },
                {
                    "output_type": "execute_result",
                    "metadata": {},
                    "execution_count": 15,
                    "data": {
                        "application/vnd.dataresource+json": {
                            "schema": {
                                "fields": [
                                    {
                                        "name": "firstName"
                                    },
                                    {
                                        "name": "city"
                                    },
                                    {
                                        "name": "main_phone"
                                    }
                                ]
                            },
                            "data": [
                                {
                                    "0": "Anneka",
                                    "1": "Los Angeles",
                                    "2": "212 555-1234"
                                }
                            ]
                        },
                        "text/html": [
                            "<table>",
                            "<tr><th>firstName</th><th>city</th><th>main_phone</th></tr>",
                            "<tr><td>Anneka</td><td>Los Angeles</td><td>212 555-1234</td></tr>",
                            "</table>"
                        ]
                    }
                }
            ],
            "execution_count": 15
        },
        {
            "cell_type": "code",
            "source": [
                "SELECT JSON_VALUE(json_data, '$.firstName') AS firstName,\r\n",
                "       JSON_VALUE(json_data, '$.address.city') AS city,\r\n",
                "       JSON_VALUE(json_data, '$.phoneNumbers[0].number') AS main_phone\r\n",
                "FROM data_models.employee_json\r\n",
                "WHERE JSON_VALUE(json_data, '$.address.city') LIKE 'New%'"
            ],
            "metadata": {
                "language": "sql",
                "azdata_cell_guid": "bb7e3826-0bf5-4ca7-a841-87bc5389c97b"
            },
            "outputs": [
                {
                    "output_type": "display_data",
                    "data": {
                        "text/html": "(1 row affected)"
                    },
                    "metadata": {}
                },
                {
                    "output_type": "display_data",
                    "data": {
                        "text/html": "Total execution time: 00:00:00.061"
                    },
                    "metadata": {}
                },
                {
                    "output_type": "execute_result",
                    "metadata": {},
                    "execution_count": 16,
                    "data": {
                        "application/vnd.dataresource+json": {
                            "schema": {
                                "fields": [
                                    {
                                        "name": "firstName"
                                    },
                                    {
                                        "name": "city"
                                    },
                                    {
                                        "name": "main_phone"
                                    }
                                ]
                            },
                            "data": [
                                {
                                    "0": "Patty",
                                    "1": "New Orleans",
                                    "2": "020 7946 0891"
                                }
                            ]
                        },
                        "text/html": [
                            "<table>",
                            "<tr><th>firstName</th><th>city</th><th>main_phone</th></tr>",
                            "<tr><td>Patty</td><td>New Orleans</td><td>020 7946 0891</td></tr>",
                            "</table>"
                        ]
                    }
                }
            ],
            "execution_count": 16
        },
        {
            "cell_type": "code",
            "source": [
                "SELECT j.id AS document_id, t.* \r\n",
                "FROM data_models.employee_json AS j \r\n",
                "    CROSS APPLY openjson(j.json_data) AS t"
            ],
            "metadata": {
                "language": "sql",
                "azdata_cell_guid": "76a620bf-6bef-454f-aaab-f30f2be3b265"
            },
            "outputs": [
                {
                    "output_type": "display_data",
                    "data": {
                        "text/html": "(16 rows affected)"
                    },
                    "metadata": {}
                },
                {
                    "output_type": "display_data",
                    "data": {
                        "text/html": "Total execution time: 00:00:00.029"
                    },
                    "metadata": {}
                },
                {
                    "output_type": "execute_result",
                    "metadata": {},
                    "execution_count": 17,
                    "data": {
                        "application/vnd.dataresource+json": {
                            "schema": {
                                "fields": [
                                    {
                                        "name": "document_id"
                                    },
                                    {
                                        "name": "key"
                                    },
                                    {
                                        "name": "value"
                                    },
                                    {
                                        "name": "type"
                                    }
                                ]
                            },
                            "data": [
                                {
                                    "0": "1",
                                    "1": "firstName",
                                    "2": "Anneka",
                                    "3": "1"
                                },
                                {
                                    "0": "1",
                                    "1": "lastName",
                                    "2": "Anderssen",
                                    "3": "1"
                                },
                                {
                                    "0": "1",
                                    "1": "isActive",
                                    "2": "true",
                                    "3": "3"
                                },
                                {
                                    "0": "1",
                                    "1": "age",
                                    "2": "25",
                                    "3": "2"
                                },
                                {
                                    "0": "1",
                                    "1": "address",
                                    "2": "{\r\n        \"streetAddress\" : \"559 La Jolla Avenue\", \r\n        \"city\": \"Los Angeles\", \r\n        \"postalCode\" : \"90212\"\r\n        }",
                                    "3": "5"
                                },
                                {
                                    "0": "1",
                                    "1": "phoneNumbers",
                                    "2": "[\r\n        {\r\n            \"type\":\"home\",\r\n            \"number\":\"212 555-1234\"\r\n            },\r\n            {\r\n                \"type\" : \"office\",\r\n                \"number\":\"646 555-4567\"\r\n                },\r\n                {\r\n                \"type\" : \"mobile\",\r\n                \"number\":\"123 456-7890\"\r\n                }\r\n\r\n    ]",
                                    "3": "4"
                                },
                                {
                                    "0": "1",
                                    "1": "children",
                                    "2": "[]",
                                    "3": "4"
                                },
                                {
                                    "0": "1",
                                    "1": "spouse",
                                    "2": "NULL",
                                    "3": "0"
                                },
                                {
                                    "0": "2",
                                    "1": "firstName",
                                    "2": "Patty",
                                    "3": "1"
                                },
                                {
                                    "0": "2",
                                    "1": "lastName",
                                    "2": "Mukuji",
                                    "3": "1"
                                },
                                {
                                    "0": "2",
                                    "1": "isActive",
                                    "2": "true",
                                    "3": "3"
                                },
                                {
                                    "0": "2",
                                    "1": "age",
                                    "2": "32",
                                    "3": "2"
                                },
                                {
                                    "0": "2",
                                    "1": "address",
                                    "2": "{\r\n    \"streetAddress\": \"620 Mission Street\",\r\n    \"city\": \"New Orleans\",\r\n    \"postalCode\": \"94188\"\r\n  }",
                                    "3": "5"
                                },
                                {
                                    "0": "2",
                                    "1": "phoneNumbers",
                                    "2": "[\r\n    {\r\n      \"type\": \"home\",\r\n      \"number\": \"020 7946 0891\"\r\n    },\r\n    {\r\n      \"type\": \"office\",\r\n      \"number\": \"020 7946 0986\"\r\n    },\r\n    {\r\n      \"type\": \"mobile\",\r\n      \"number\": \"123 789-4560\"\r\n    }\r\n  ]",
                                    "3": "4"
                                },
                                {
                                    "0": "2",
                                    "1": "children",
                                    "2": "[\"Rose\", \"Rosa\"]",
                                    "3": "4"
                                },
                                {
                                    "0": "2",
                                    "1": "spouse",
                                    "2": "Norma Mukuji",
                                    "3": "1"
                                }
                            ]
                        },
                        "text/html": [
                            "<table>",
                            "<tr><th>document_id</th><th>key</th><th>value</th><th>type</th></tr>",
                            "<tr><td>1</td><td>firstName</td><td>Anneka</td><td>1</td></tr>",
                            "<tr><td>1</td><td>lastName</td><td>Anderssen</td><td>1</td></tr>",
                            "<tr><td>1</td><td>isActive</td><td>true</td><td>3</td></tr>",
                            "<tr><td>1</td><td>age</td><td>25</td><td>2</td></tr>",
                            "<tr><td>1</td><td>address</td><td>{\r\n        &quot;streetAddress&quot; : &quot;559 La Jolla Avenue&quot;, \r\n        &quot;city&quot;: &quot;Los Angeles&quot;, \r\n        &quot;postalCode&quot; : &quot;90212&quot;\r\n        }</td><td>5</td></tr>",
                            "<tr><td>1</td><td>phoneNumbers</td><td>[\r\n        {\r\n            &quot;type&quot;:&quot;home&quot;,\r\n            &quot;number&quot;:&quot;212 555-1234&quot;\r\n            },\r\n            {\r\n                &quot;type&quot; : &quot;office&quot;,\r\n                &quot;number&quot;:&quot;646 555-4567&quot;\r\n                },\r\n                {\r\n                &quot;type&quot; : &quot;mobile&quot;,\r\n                &quot;number&quot;:&quot;123 456-7890&quot;\r\n                }\r\n\r\n    ]</td><td>4</td></tr>",
                            "<tr><td>1</td><td>children</td><td>[]</td><td>4</td></tr>",
                            "<tr><td>1</td><td>spouse</td><td>NULL</td><td>0</td></tr>",
                            "<tr><td>2</td><td>firstName</td><td>Patty</td><td>1</td></tr>",
                            "<tr><td>2</td><td>lastName</td><td>Mukuji</td><td>1</td></tr>",
                            "<tr><td>2</td><td>isActive</td><td>true</td><td>3</td></tr>",
                            "<tr><td>2</td><td>age</td><td>32</td><td>2</td></tr>",
                            "<tr><td>2</td><td>address</td><td>{\r\n    &quot;streetAddress&quot;: &quot;620 Mission Street&quot;,\r\n    &quot;city&quot;: &quot;New Orleans&quot;,\r\n    &quot;postalCode&quot;: &quot;94188&quot;\r\n  }</td><td>5</td></tr>",
                            "<tr><td>2</td><td>phoneNumbers</td><td>[\r\n    {\r\n      &quot;type&quot;: &quot;home&quot;,\r\n      &quot;number&quot;: &quot;020 7946 0891&quot;\r\n    },\r\n    {\r\n      &quot;type&quot;: &quot;office&quot;,\r\n      &quot;number&quot;: &quot;020 7946 0986&quot;\r\n    },\r\n    {\r\n      &quot;type&quot;: &quot;mobile&quot;,\r\n      &quot;number&quot;: &quot;123 789-4560&quot;\r\n    }\r\n  ]</td><td>4</td></tr>",
                            "<tr><td>2</td><td>children</td><td>[&quot;Rose&quot;, &quot;Rosa&quot;]</td><td>4</td></tr>",
                            "<tr><td>2</td><td>spouse</td><td>Norma Mukuji</td><td>1</td></tr>",
                            "</table>"
                        ]
                    }
                }
            ],
            "execution_count": 17
        },
        {
            "cell_type": "code",
            "source": [
                "SELECT c.value AS child_name\r\n",
                "FROM data_models.employee_json AS j \r\n",
                "    CROSS APPLY openjson(j.json_data, '$.children') AS c "
            ],
            "metadata": {
                "azdata_cell_guid": "1cc17a1e-835c-4e4d-8d6a-fa466aea6dc0",
                "language": "sql"
            },
            "outputs": [
                {
                    "output_type": "display_data",
                    "data": {
                        "text/html": "(2 rows affected)"
                    },
                    "metadata": {}
                },
                {
                    "output_type": "display_data",
                    "data": {
                        "text/html": "Total execution time: 00:00:00.020"
                    },
                    "metadata": {}
                },
                {
                    "output_type": "execute_result",
                    "metadata": {},
                    "execution_count": 19,
                    "data": {
                        "application/vnd.dataresource+json": {
                            "schema": {
                                "fields": [
                                    {
                                        "name": "child_name"
                                    }
                                ]
                            },
                            "data": [
                                {
                                    "0": "Rose"
                                },
                                {
                                    "0": "Rosa"
                                }
                            ]
                        },
                        "text/html": [
                            "<table>",
                            "<tr><th>child_name</th></tr>",
                            "<tr><td>Rose</td></tr>",
                            "<tr><td>Rosa</td></tr>",
                            "</table>"
                        ]
                    }
                }
            ],
            "execution_count": 19
        },
        {
            "cell_type": "code",
            "source": [
                "DECLARE @INFO VARCHAR(MAX)\r\n",
                "SELECT TOP(1) @INFO=json_data FROM data_models.employee_json \r\n",
                "                              WHERE id = 1\r\n",
                "\r\n",
                "PRINT @INFO"
            ],
            "metadata": {
                "language": "sql",
                "azdata_cell_guid": "b62ea845-831f-4541-9875-f9c5513652e7"
            },
            "outputs": [
                {
                    "output_type": "display_data",
                    "data": {
                        "text/html": "{\r\n    \"firstName\" : \"Anneka\",\r\n    \"lastName\" : \"Anderssen\",\r\n    \"isActive\" : true, \r\n    \"age\" : 25,\r\n    \"address\" : {\r\n        \"streetAddress\" : \"559 La Jolla Avenue\", \r\n        \"city\": \"Los Angeles\", \r\n        \"postalCode\" : \"90212\"\r\n        },\r\n    \"phoneNumbers\":[\r\n        {\r\n            \"type\":\"home\",\r\n            \"number\":\"212 555-1234\"\r\n            },\r\n            {\r\n                \"type\" : \"office\",\r\n                \"number\":\"646 555-4567\"\r\n                },\r\n                {\r\n                \"type\" : \"mobile\",\r\n                \"number\":\"123 456-7890\"\r\n                }\r\n\r\n    ],\r\n    \"children\" : [],\r\n    \"spouse\" :null\r\n    }"
                    },
                    "metadata": {}
                },
                {
                    "output_type": "display_data",
                    "data": {
                        "text/html": "Total execution time: 00:00:00.042"
                    },
                    "metadata": {}
                }
            ],
            "execution_count": 20
        },
        {
            "cell_type": "code",
            "source": [
                "DECLARE @INFO VARCHAR(MAX)\r\n",
                "SELECT TOP(1) @INFO=json_data FROM data_models.employee_json \r\n",
                "                              WHERE id = 1\r\n",
                "\r\n",
                "SET @INFO = JSON_MODIFY(@INFO, '$.spouse', 'Alisha Kane')\r\n",
                "\r\n",
                "PRINT @INFO"
            ],
            "metadata": {
                "language": "sql",
                "azdata_cell_guid": "19991e29-796e-486c-a2cd-7e79793b9006"
            },
            "outputs": [
                {
                    "output_type": "display_data",
                    "data": {
                        "text/html": "{\r\n    \"firstName\" : \"Anneka\",\r\n    \"lastName\" : \"Anderssen\",\r\n    \"isActive\" : true, \r\n    \"age\" : 25,\r\n    \"address\" : {\r\n        \"streetAddress\" : \"559 La Jolla Avenue\", \r\n        \"city\": \"Los Angeles\", \r\n        \"postalCode\" : \"90212\"\r\n        },\r\n    \"phoneNumbers\":[\r\n        {\r\n            \"type\":\"home\",\r\n            \"number\":\"212 555-1234\"\r\n            },\r\n            {\r\n                \"type\" : \"office\",\r\n                \"number\":\"646 555-4567\"\r\n                },\r\n                {\r\n                \"type\" : \"mobile\",\r\n                \"number\":\"123 456-7890\"\r\n                }\r\n\r\n    ],\r\n    \"children\" : [],\r\n    \"spouse\" :\"Alisha Kane\"\r\n    }"
                    },
                    "metadata": {}
                },
                {
                    "output_type": "display_data",
                    "data": {
                        "text/html": "Total execution time: 00:00:00.004"
                    },
                    "metadata": {}
                }
            ],
            "execution_count": 21
        }
    ]
}