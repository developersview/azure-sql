{
    "metadata": {
        "kernelspec": {
            "name": "SQL",
            "display_name": "SQL",
            "language": "sql"
        },
        "language_info": {
            "name": "sql",
            "version": ""
        }
    },
    "nbformat_minor": 2,
    "nbformat": 4,
    "cells": [
        {
            "cell_type": "code",
            "source": [
                "CREATE SCHEMA BookStore;"
            ],
            "metadata": {
                "azdata_cell_guid": "55872c8d-8be2-4cb4-885c-7018b24e7316",
                "language": "sql"
            },
            "outputs": [
                {
                    "output_type": "display_data",
                    "data": {
                        "text/html": "Commands completed successfully."
                    },
                    "metadata": {}
                },
                {
                    "output_type": "display_data",
                    "data": {
                        "text/html": "Total execution time: 00:00:00.855"
                    },
                    "metadata": {}
                }
            ],
            "execution_count": 1
        },
        {
            "cell_type": "code",
            "source": [
                "CREATE TABLE [BookStore].[Books]\n",
                "(\n",
                "  id INT,\n",
                "  book_title VARCHAR(50),\n",
                "  genre VARCHAR(50),\n",
                "  price FLOAT,\n",
                "  year INT\n",
                ");"
            ],
            "metadata": {
                "azdata_cell_guid": "09d35322-ab44-4e89-b317-8086a4928edd",
                "language": "sql"
            },
            "outputs": [
                {
                    "output_type": "display_data",
                    "data": {
                        "text/html": "Commands completed successfully."
                    },
                    "metadata": {}
                },
                {
                    "output_type": "display_data",
                    "data": {
                        "text/html": "Total execution time: 00:00:00.078"
                    },
                    "metadata": {}
                }
            ],
            "execution_count": 2
        },
        {
            "cell_type": "code",
            "source": [
                "INSERT INTO [BookStore].[Books]\n",
                "VALUES\n",
                "(1, 'The Candy House', 'Science Fiction', 626.05, 2022),\n",
                "(2, 'Fiona and Jane', 'Literary Fiction', 451.51 , 2022),\n",
                "(3, 'To Paradise', 'Historical Fiction', 379.28, 2022),\n",
                "(4, 'Book Lovers', 'Romance Novel', 223.25, 2022),\n",
                "(5, 'The Living Mountain', 'Fiction', 116.65, 2022 ),\n",
                "(6, 'Unfinished', 'Memoir,', 206.15, 2021),\n",
                "(7, 'Matrix', 'Historical Fiction', 309.30, 2021),\n",
                "(8, 'Beautiful Things', 'Biography', 407.55, 2021),\n",
                "(9, 'Malibu Rising', 'Historical Fiction', 309.30, 2021);"
            ],
            "metadata": {
                "azdata_cell_guid": "aa1c9f16-5c64-4d2b-aec4-d2dbed3c6e85",
                "language": "sql"
            },
            "outputs": [
                {
                    "output_type": "display_data",
                    "data": {
                        "text/html": "(9 rows affected)"
                    },
                    "metadata": {}
                },
                {
                    "output_type": "display_data",
                    "data": {
                        "text/html": "Total execution time: 00:00:00.051"
                    },
                    "metadata": {}
                }
            ],
            "execution_count": 3
        },
        {
            "cell_type": "code",
            "source": [
                "SELECT * FROM [BookStore].[Books];"
            ],
            "metadata": {
                "azdata_cell_guid": "757b0eec-39c1-49a2-8229-e739424cfce0",
                "language": "sql"
            },
            "outputs": [
                {
                    "output_type": "display_data",
                    "data": {
                        "text/html": "(9 rows affected)"
                    },
                    "metadata": {}
                },
                {
                    "output_type": "display_data",
                    "data": {
                        "text/html": "Total execution time: 00:00:00.099"
                    },
                    "metadata": {}
                },
                {
                    "output_type": "execute_result",
                    "metadata": {},
                    "execution_count": 4,
                    "data": {
                        "application/vnd.dataresource+json": {
                            "schema": {
                                "fields": [
                                    {
                                        "name": "id"
                                    },
                                    {
                                        "name": "book_title"
                                    },
                                    {
                                        "name": "genre"
                                    },
                                    {
                                        "name": "price"
                                    },
                                    {
                                        "name": "year"
                                    }
                                ]
                            },
                            "data": [
                                {
                                    "0": "1",
                                    "1": "The Candy House",
                                    "2": "Science Fiction",
                                    "3": "626.05",
                                    "4": "2022"
                                },
                                {
                                    "0": "2",
                                    "1": "Fiona and Jane",
                                    "2": "Literary Fiction",
                                    "3": "451.51",
                                    "4": "2022"
                                },
                                {
                                    "0": "3",
                                    "1": "To Paradise",
                                    "2": "Historical Fiction",
                                    "3": "379.28",
                                    "4": "2022"
                                },
                                {
                                    "0": "4",
                                    "1": "Book Lovers",
                                    "2": "Romance Novel",
                                    "3": "223.25",
                                    "4": "2022"
                                },
                                {
                                    "0": "5",
                                    "1": "The Living Mountain",
                                    "2": "Fiction",
                                    "3": "116.65",
                                    "4": "2022"
                                },
                                {
                                    "0": "6",
                                    "1": "Unfinished",
                                    "2": "Memoir,",
                                    "3": "206.15",
                                    "4": "2021"
                                },
                                {
                                    "0": "7",
                                    "1": "Matrix",
                                    "2": "Historical Fiction",
                                    "3": "309.3",
                                    "4": "2021"
                                },
                                {
                                    "0": "8",
                                    "1": "Beautiful Things",
                                    "2": "Biography",
                                    "3": "407.55",
                                    "4": "2021"
                                },
                                {
                                    "0": "9",
                                    "1": "Malibu Rising",
                                    "2": "Historical Fiction",
                                    "3": "309.3",
                                    "4": "2021"
                                }
                            ]
                        },
                        "text/html": [
                            "<table>",
                            "<tr><th>id</th><th>book_title</th><th>genre</th><th>price</th><th>year</th></tr>",
                            "<tr><td>1</td><td>The Candy House</td><td>Science Fiction</td><td>626.05</td><td>2022</td></tr>",
                            "<tr><td>2</td><td>Fiona and Jane</td><td>Literary Fiction</td><td>451.51</td><td>2022</td></tr>",
                            "<tr><td>3</td><td>To Paradise</td><td>Historical Fiction</td><td>379.28</td><td>2022</td></tr>",
                            "<tr><td>4</td><td>Book Lovers</td><td>Romance Novel</td><td>223.25</td><td>2022</td></tr>",
                            "<tr><td>5</td><td>The Living Mountain</td><td>Fiction</td><td>116.65</td><td>2022</td></tr>",
                            "<tr><td>6</td><td>Unfinished</td><td>Memoir,</td><td>206.15</td><td>2021</td></tr>",
                            "<tr><td>7</td><td>Matrix</td><td>Historical Fiction</td><td>309.3</td><td>2021</td></tr>",
                            "<tr><td>8</td><td>Beautiful Things</td><td>Biography</td><td>407.55</td><td>2021</td></tr>",
                            "<tr><td>9</td><td>Malibu Rising</td><td>Historical Fiction</td><td>309.3</td><td>2021</td></tr>",
                            "</table>"
                        ]
                    }
                }
            ],
            "execution_count": 4
        },
        {
            "cell_type": "code",
            "source": [
                "INSERT INTO [BookStore].[Books] \n",
                "VALUES (10, 'Gingerbread', 'Fairy tale', 450, 2019);\n",
                "\n",
                "UPDATE [BookStore].[Books] \n",
                "SET price = '5 Hundred' \n",
                "WHERE id = 10;"
            ],
            "metadata": {
                "azdata_cell_guid": "42a54e7c-5a79-48ee-a602-1daf59f95bf0",
                "language": "sql"
            },
            "outputs": [
                {
                    "output_type": "display_data",
                    "data": {
                        "text/html": "(1 row affected)"
                    },
                    "metadata": {}
                },
                {
                    "output_type": "error",
                    "evalue": "Msg 8114, Level 16, State 5, Line 4\nError converting data type varchar to float.",
                    "ename": "",
                    "traceback": []
                },
                {
                    "output_type": "display_data",
                    "data": {
                        "text/html": "Total execution time: 00:00:00.087"
                    },
                    "metadata": {}
                }
            ],
            "execution_count": 5
        },
        {
            "cell_type": "code",
            "source": [
                "SELECT * FROM [BookStore].[Books];"
            ],
            "metadata": {
                "azdata_cell_guid": "ded1f5e4-c937-4c7d-9fd3-29d58cd3f7ef",
                "language": "sql"
            },
            "outputs": [
                {
                    "output_type": "display_data",
                    "data": {
                        "text/html": "(10 rows affected)"
                    },
                    "metadata": {}
                },
                {
                    "output_type": "display_data",
                    "data": {
                        "text/html": "Total execution time: 00:00:00.047"
                    },
                    "metadata": {}
                },
                {
                    "output_type": "execute_result",
                    "metadata": {},
                    "execution_count": 6,
                    "data": {
                        "application/vnd.dataresource+json": {
                            "schema": {
                                "fields": [
                                    {
                                        "name": "id"
                                    },
                                    {
                                        "name": "book_title"
                                    },
                                    {
                                        "name": "genre"
                                    },
                                    {
                                        "name": "price"
                                    },
                                    {
                                        "name": "year"
                                    }
                                ]
                            },
                            "data": [
                                {
                                    "0": "1",
                                    "1": "The Candy House",
                                    "2": "Science Fiction",
                                    "3": "626.05",
                                    "4": "2022"
                                },
                                {
                                    "0": "2",
                                    "1": "Fiona and Jane",
                                    "2": "Literary Fiction",
                                    "3": "451.51",
                                    "4": "2022"
                                },
                                {
                                    "0": "3",
                                    "1": "To Paradise",
                                    "2": "Historical Fiction",
                                    "3": "379.28",
                                    "4": "2022"
                                },
                                {
                                    "0": "4",
                                    "1": "Book Lovers",
                                    "2": "Romance Novel",
                                    "3": "223.25",
                                    "4": "2022"
                                },
                                {
                                    "0": "5",
                                    "1": "The Living Mountain",
                                    "2": "Fiction",
                                    "3": "116.65",
                                    "4": "2022"
                                },
                                {
                                    "0": "6",
                                    "1": "Unfinished",
                                    "2": "Memoir,",
                                    "3": "206.15",
                                    "4": "2021"
                                },
                                {
                                    "0": "7",
                                    "1": "Matrix",
                                    "2": "Historical Fiction",
                                    "3": "309.3",
                                    "4": "2021"
                                },
                                {
                                    "0": "8",
                                    "1": "Beautiful Things",
                                    "2": "Biography",
                                    "3": "407.55",
                                    "4": "2021"
                                },
                                {
                                    "0": "9",
                                    "1": "Malibu Rising",
                                    "2": "Historical Fiction",
                                    "3": "309.3",
                                    "4": "2021"
                                },
                                {
                                    "0": "10",
                                    "1": "Gingerbread",
                                    "2": "Fairy tale",
                                    "3": "450",
                                    "4": "2019"
                                }
                            ]
                        },
                        "text/html": [
                            "<table>",
                            "<tr><th>id</th><th>book_title</th><th>genre</th><th>price</th><th>year</th></tr>",
                            "<tr><td>1</td><td>The Candy House</td><td>Science Fiction</td><td>626.05</td><td>2022</td></tr>",
                            "<tr><td>2</td><td>Fiona and Jane</td><td>Literary Fiction</td><td>451.51</td><td>2022</td></tr>",
                            "<tr><td>3</td><td>To Paradise</td><td>Historical Fiction</td><td>379.28</td><td>2022</td></tr>",
                            "<tr><td>4</td><td>Book Lovers</td><td>Romance Novel</td><td>223.25</td><td>2022</td></tr>",
                            "<tr><td>5</td><td>The Living Mountain</td><td>Fiction</td><td>116.65</td><td>2022</td></tr>",
                            "<tr><td>6</td><td>Unfinished</td><td>Memoir,</td><td>206.15</td><td>2021</td></tr>",
                            "<tr><td>7</td><td>Matrix</td><td>Historical Fiction</td><td>309.3</td><td>2021</td></tr>",
                            "<tr><td>8</td><td>Beautiful Things</td><td>Biography</td><td>407.55</td><td>2021</td></tr>",
                            "<tr><td>9</td><td>Malibu Rising</td><td>Historical Fiction</td><td>309.3</td><td>2021</td></tr>",
                            "<tr><td>10</td><td>Gingerbread</td><td>Fairy tale</td><td>450</td><td>2019</td></tr>",
                            "</table>"
                        ]
                    }
                }
            ],
            "execution_count": 6
        },
        {
            "cell_type": "code",
            "source": [
                "BEGIN TRANSACTION\n",
                " \n",
                "  INSERT INTO [BookStore].[Books] \n",
                "  VALUES (11, 'The Water Dancer', 'Magical Realism', 350.46, 2019)\n",
                " \n",
                "  UPDATE [BookStore].[Books]\n",
                "  SET price = '5 Hundred' WHERE id = 11\n",
                " \n",
                "COMMIT TRANSACTION"
            ],
            "metadata": {
                "azdata_cell_guid": "f4ce9f3b-95c5-4e99-8ec4-d4f203c33d86",
                "language": "sql"
            },
            "outputs": [
                {
                    "output_type": "display_data",
                    "data": {
                        "text/html": "(1 row affected)"
                    },
                    "metadata": {}
                },
                {
                    "output_type": "error",
                    "evalue": "Msg 8114, Level 16, State 5, Line 6\nError converting data type varchar to float.",
                    "ename": "",
                    "traceback": []
                },
                {
                    "output_type": "display_data",
                    "data": {
                        "text/html": "Total execution time: 00:00:00.087"
                    },
                    "metadata": {}
                }
            ],
            "execution_count": 7
        },
        {
            "cell_type": "code",
            "source": [
                "SELECT * FROM [BookStore].[Books];"
            ],
            "metadata": {
                "azdata_cell_guid": "0813f005-56a0-444b-84d1-727a8f2e2f1d",
                "language": "sql"
            },
            "outputs": [
                {
                    "output_type": "display_data",
                    "data": {
                        "text/html": "(10 rows affected)"
                    },
                    "metadata": {}
                },
                {
                    "output_type": "display_data",
                    "data": {
                        "text/html": "Total execution time: 00:00:00.045"
                    },
                    "metadata": {}
                },
                {
                    "output_type": "execute_result",
                    "metadata": {},
                    "execution_count": 8,
                    "data": {
                        "application/vnd.dataresource+json": {
                            "schema": {
                                "fields": [
                                    {
                                        "name": "id"
                                    },
                                    {
                                        "name": "book_title"
                                    },
                                    {
                                        "name": "genre"
                                    },
                                    {
                                        "name": "price"
                                    },
                                    {
                                        "name": "year"
                                    }
                                ]
                            },
                            "data": [
                                {
                                    "0": "1",
                                    "1": "The Candy House",
                                    "2": "Science Fiction",
                                    "3": "626.05",
                                    "4": "2022"
                                },
                                {
                                    "0": "2",
                                    "1": "Fiona and Jane",
                                    "2": "Literary Fiction",
                                    "3": "451.51",
                                    "4": "2022"
                                },
                                {
                                    "0": "3",
                                    "1": "To Paradise",
                                    "2": "Historical Fiction",
                                    "3": "379.28",
                                    "4": "2022"
                                },
                                {
                                    "0": "4",
                                    "1": "Book Lovers",
                                    "2": "Romance Novel",
                                    "3": "223.25",
                                    "4": "2022"
                                },
                                {
                                    "0": "5",
                                    "1": "The Living Mountain",
                                    "2": "Fiction",
                                    "3": "116.65",
                                    "4": "2022"
                                },
                                {
                                    "0": "6",
                                    "1": "Unfinished",
                                    "2": "Memoir,",
                                    "3": "206.15",
                                    "4": "2021"
                                },
                                {
                                    "0": "7",
                                    "1": "Matrix",
                                    "2": "Historical Fiction",
                                    "3": "309.3",
                                    "4": "2021"
                                },
                                {
                                    "0": "8",
                                    "1": "Beautiful Things",
                                    "2": "Biography",
                                    "3": "407.55",
                                    "4": "2021"
                                },
                                {
                                    "0": "9",
                                    "1": "Malibu Rising",
                                    "2": "Historical Fiction",
                                    "3": "309.3",
                                    "4": "2021"
                                },
                                {
                                    "0": "10",
                                    "1": "Gingerbread",
                                    "2": "Fairy tale",
                                    "3": "450",
                                    "4": "2019"
                                }
                            ]
                        },
                        "text/html": [
                            "<table>",
                            "<tr><th>id</th><th>book_title</th><th>genre</th><th>price</th><th>year</th></tr>",
                            "<tr><td>1</td><td>The Candy House</td><td>Science Fiction</td><td>626.05</td><td>2022</td></tr>",
                            "<tr><td>2</td><td>Fiona and Jane</td><td>Literary Fiction</td><td>451.51</td><td>2022</td></tr>",
                            "<tr><td>3</td><td>To Paradise</td><td>Historical Fiction</td><td>379.28</td><td>2022</td></tr>",
                            "<tr><td>4</td><td>Book Lovers</td><td>Romance Novel</td><td>223.25</td><td>2022</td></tr>",
                            "<tr><td>5</td><td>The Living Mountain</td><td>Fiction</td><td>116.65</td><td>2022</td></tr>",
                            "<tr><td>6</td><td>Unfinished</td><td>Memoir,</td><td>206.15</td><td>2021</td></tr>",
                            "<tr><td>7</td><td>Matrix</td><td>Historical Fiction</td><td>309.3</td><td>2021</td></tr>",
                            "<tr><td>8</td><td>Beautiful Things</td><td>Biography</td><td>407.55</td><td>2021</td></tr>",
                            "<tr><td>9</td><td>Malibu Rising</td><td>Historical Fiction</td><td>309.3</td><td>2021</td></tr>",
                            "<tr><td>10</td><td>Gingerbread</td><td>Fairy tale</td><td>450</td><td>2019</td></tr>",
                            "</table>"
                        ]
                    }
                }
            ],
            "execution_count": 8
        },
        {
            "cell_type": "code",
            "source": [
                "DECLARE @BookCount int\n",
                " \n",
                "BEGIN TRANSACTION \n",
                " \n",
                "  INSERT INTO [BookStore].[Books]\n",
                "  VALUES (10, 'The Water Dancer', 'Magical Realism', 350.46, 2019)\n",
                " \n",
                "  SELECT @BookCount = COUNT(*) FROM [BookStore].[Books] WHERE id = 10\n",
                " \n",
                "  IF @BookCount > 0\n",
                "    BEGIN \n",
                "      ROLLBACK TRANSACTION \n",
                "      PRINT 'A book with the same id already exists'\n",
                "    END\n",
                "  ELSE\n",
                "    BEGIN\n",
                "      COMMIT TRANSACTION\n",
                "      PRINT 'New book added successfully!'\n",
                "    END"
            ],
            "metadata": {
                "azdata_cell_guid": "1c1fe97f-fd91-4536-bdce-fca4bb7b849a",
                "language": "sql"
            },
            "outputs": [
                {
                    "output_type": "display_data",
                    "data": {
                        "text/html": "(1 row affected)"
                    },
                    "metadata": {}
                },
                {
                    "output_type": "display_data",
                    "data": {
                        "text/html": "A book with the same id already exists"
                    },
                    "metadata": {}
                },
                {
                    "output_type": "display_data",
                    "data": {
                        "text/html": "Total execution time: 00:00:00.061"
                    },
                    "metadata": {}
                }
            ],
            "execution_count": 9
        },
        {
            "cell_type": "code",
            "source": [
                "DECLARE @BookCount int\n",
                " \n",
                "BEGIN TRANSACTION \n",
                " \n",
                "  INSERT INTO [BookStore].[Books]\n",
                "  VALUES (11, 'The Water Dancer', 'Magical Realism', 350.46, 2019)\n",
                " \n",
                "  SELECT @BookCount = COUNT(*) FROM [BookStore].[Books] WHERE id = 11\n",
                " \n",
                "  IF @BookCount > 1\n",
                "    BEGIN \n",
                "      ROLLBACK TRANSACTION \n",
                "      PRINT 'A book with the same id already exists'\n",
                "    END\n",
                "  ELSE\n",
                "    BEGIN\n",
                "      COMMIT TRANSACTION\n",
                "      PRINT 'New book added successfully!'\n",
                "    END"
            ],
            "metadata": {
                "azdata_cell_guid": "68e5aedd-78eb-4687-ba36-b9897820804c",
                "language": "sql"
            },
            "outputs": [
                {
                    "output_type": "display_data",
                    "data": {
                        "text/html": "(1 row affected)"
                    },
                    "metadata": {}
                },
                {
                    "output_type": "display_data",
                    "data": {
                        "text/html": "New book added successfully!"
                    },
                    "metadata": {}
                },
                {
                    "output_type": "display_data",
                    "data": {
                        "text/html": "Total execution time: 00:00:00.070"
                    },
                    "metadata": {}
                }
            ],
            "execution_count": 10
        },
        {
            "cell_type": "code",
            "source": [
                " SELECT * FROM [BookStore].[Books];"
            ],
            "metadata": {
                "azdata_cell_guid": "6e555e12-f0d1-4814-96ab-389394540335",
                "language": "sql"
            },
            "outputs": [
                {
                    "output_type": "display_data",
                    "data": {
                        "text/html": "(11 rows affected)"
                    },
                    "metadata": {}
                },
                {
                    "output_type": "display_data",
                    "data": {
                        "text/html": "Total execution time: 00:00:00.077"
                    },
                    "metadata": {}
                },
                {
                    "output_type": "execute_result",
                    "metadata": {},
                    "execution_count": 11,
                    "data": {
                        "application/vnd.dataresource+json": {
                            "schema": {
                                "fields": [
                                    {
                                        "name": "id"
                                    },
                                    {
                                        "name": "book_title"
                                    },
                                    {
                                        "name": "genre"
                                    },
                                    {
                                        "name": "price"
                                    },
                                    {
                                        "name": "year"
                                    }
                                ]
                            },
                            "data": [
                                {
                                    "0": "1",
                                    "1": "The Candy House",
                                    "2": "Science Fiction",
                                    "3": "626.05",
                                    "4": "2022"
                                },
                                {
                                    "0": "2",
                                    "1": "Fiona and Jane",
                                    "2": "Literary Fiction",
                                    "3": "451.51",
                                    "4": "2022"
                                },
                                {
                                    "0": "3",
                                    "1": "To Paradise",
                                    "2": "Historical Fiction",
                                    "3": "379.28",
                                    "4": "2022"
                                },
                                {
                                    "0": "4",
                                    "1": "Book Lovers",
                                    "2": "Romance Novel",
                                    "3": "223.25",
                                    "4": "2022"
                                },
                                {
                                    "0": "5",
                                    "1": "The Living Mountain",
                                    "2": "Fiction",
                                    "3": "116.65",
                                    "4": "2022"
                                },
                                {
                                    "0": "6",
                                    "1": "Unfinished",
                                    "2": "Memoir,",
                                    "3": "206.15",
                                    "4": "2021"
                                },
                                {
                                    "0": "7",
                                    "1": "Matrix",
                                    "2": "Historical Fiction",
                                    "3": "309.3",
                                    "4": "2021"
                                },
                                {
                                    "0": "8",
                                    "1": "Beautiful Things",
                                    "2": "Biography",
                                    "3": "407.55",
                                    "4": "2021"
                                },
                                {
                                    "0": "9",
                                    "1": "Malibu Rising",
                                    "2": "Historical Fiction",
                                    "3": "309.3",
                                    "4": "2021"
                                },
                                {
                                    "0": "10",
                                    "1": "Gingerbread",
                                    "2": "Fairy tale",
                                    "3": "450",
                                    "4": "2019"
                                },
                                {
                                    "0": "11",
                                    "1": "The Water Dancer",
                                    "2": "Magical Realism",
                                    "3": "350.46",
                                    "4": "2019"
                                }
                            ]
                        },
                        "text/html": [
                            "<table>",
                            "<tr><th>id</th><th>book_title</th><th>genre</th><th>price</th><th>year</th></tr>",
                            "<tr><td>1</td><td>The Candy House</td><td>Science Fiction</td><td>626.05</td><td>2022</td></tr>",
                            "<tr><td>2</td><td>Fiona and Jane</td><td>Literary Fiction</td><td>451.51</td><td>2022</td></tr>",
                            "<tr><td>3</td><td>To Paradise</td><td>Historical Fiction</td><td>379.28</td><td>2022</td></tr>",
                            "<tr><td>4</td><td>Book Lovers</td><td>Romance Novel</td><td>223.25</td><td>2022</td></tr>",
                            "<tr><td>5</td><td>The Living Mountain</td><td>Fiction</td><td>116.65</td><td>2022</td></tr>",
                            "<tr><td>6</td><td>Unfinished</td><td>Memoir,</td><td>206.15</td><td>2021</td></tr>",
                            "<tr><td>7</td><td>Matrix</td><td>Historical Fiction</td><td>309.3</td><td>2021</td></tr>",
                            "<tr><td>8</td><td>Beautiful Things</td><td>Biography</td><td>407.55</td><td>2021</td></tr>",
                            "<tr><td>9</td><td>Malibu Rising</td><td>Historical Fiction</td><td>309.3</td><td>2021</td></tr>",
                            "<tr><td>10</td><td>Gingerbread</td><td>Fairy tale</td><td>450</td><td>2019</td></tr>",
                            "<tr><td>11</td><td>The Water Dancer</td><td>Magical Realism</td><td>350.46</td><td>2019</td></tr>",
                            "</table>"
                        ]
                    }
                }
            ],
            "execution_count": 11
        },
        {
            "cell_type": "code",
            "source": [
                "DECLARE @BookCount int\n",
                " \n",
                "BEGIN TRANSACTION AddBook\n",
                " \n",
                "  INSERT INTO [BookStore].[Books]\n",
                "  VALUES (10, 'The Andromeda Strain', 'Science Fiction', 499, 1969)\n",
                " \n",
                "  SELECT @BookCount = COUNT(*) FROM [BookStore].[Books] WHERE id = 10\n",
                " \n",
                "  IF @BookCount > 0\n",
                "    BEGIN \n",
                "      ROLLBACK TRANSACTION AddBook\n",
                "      PRINT 'A book with the same id already exists'\n",
                "    END\n",
                "  ELSE\n",
                "    BEGIN\n",
                "      COMMIT TRANSACTION AddBook\n",
                "      PRINT 'New book added successfully!'\n",
                "    END"
            ],
            "metadata": {
                "azdata_cell_guid": "689ba04b-a42d-4c34-b4e5-a3fabb9894c5",
                "language": "sql"
            },
            "outputs": [
                {
                    "output_type": "display_data",
                    "data": {
                        "text/html": "(1 row affected)"
                    },
                    "metadata": {}
                },
                {
                    "output_type": "display_data",
                    "data": {
                        "text/html": "A book with the same id already exists"
                    },
                    "metadata": {}
                },
                {
                    "output_type": "display_data",
                    "data": {
                        "text/html": "Total execution time: 00:00:00.060"
                    },
                    "metadata": {}
                }
            ],
            "execution_count": 12
        },
        {
            "cell_type": "code",
            "source": [
                "BEGIN TRANSACTION \n",
                " \n",
                "   INSERT INTO [BookStore].[Books]\n",
                "   VALUES (12, 'The Andromeda Strain', 'Science Fiction', 499, 1969)\n",
                "   -- This will create a savepoint after the first INSERT\n",
                "   SAVE TRANSACTION FirstInsert\n",
                "\n",
                "   INSERT INTO [BookStore].[Books]\n",
                "   VALUES  ( 13, 'The Dutch House', 'Historical Fiction', 342.30, 2019)\n",
                "\n",
                "   SAVE TRANSACTION SecondInsert\n",
                " \n",
                "   -- This will rollback to the savepoint right after the first INSERT\n",
                "   ROLLBACK TRANSACTION FirstInsert\n",
                "\n",
                "-- This will commit the transaction leaving just the first INSERT \n",
                "COMMIT"
            ],
            "metadata": {
                "azdata_cell_guid": "f939781d-e346-4a9f-a3b1-061bddbc2cd1",
                "language": "sql"
            },
            "outputs": [
                {
                    "output_type": "display_data",
                    "data": {
                        "text/html": "(1 row affected)"
                    },
                    "metadata": {}
                },
                {
                    "output_type": "display_data",
                    "data": {
                        "text/html": "(1 row affected)"
                    },
                    "metadata": {}
                },
                {
                    "output_type": "display_data",
                    "data": {
                        "text/html": "Total execution time: 00:00:00.205"
                    },
                    "metadata": {}
                }
            ],
            "execution_count": 13
        },
        {
            "cell_type": "code",
            "source": [
                "SELECT * FROM [BookStore].[Books]"
            ],
            "metadata": {
                "azdata_cell_guid": "9b471b6f-8d83-4562-b5db-a5709630d554",
                "language": "sql"
            },
            "outputs": [
                {
                    "output_type": "display_data",
                    "data": {
                        "text/html": "(12 rows affected)"
                    },
                    "metadata": {}
                },
                {
                    "output_type": "display_data",
                    "data": {
                        "text/html": "Total execution time: 00:00:00.045"
                    },
                    "metadata": {}
                },
                {
                    "output_type": "execute_result",
                    "metadata": {},
                    "execution_count": 14,
                    "data": {
                        "application/vnd.dataresource+json": {
                            "schema": {
                                "fields": [
                                    {
                                        "name": "id"
                                    },
                                    {
                                        "name": "book_title"
                                    },
                                    {
                                        "name": "genre"
                                    },
                                    {
                                        "name": "price"
                                    },
                                    {
                                        "name": "year"
                                    }
                                ]
                            },
                            "data": [
                                {
                                    "0": "1",
                                    "1": "The Candy House",
                                    "2": "Science Fiction",
                                    "3": "626.05",
                                    "4": "2022"
                                },
                                {
                                    "0": "2",
                                    "1": "Fiona and Jane",
                                    "2": "Literary Fiction",
                                    "3": "451.51",
                                    "4": "2022"
                                },
                                {
                                    "0": "3",
                                    "1": "To Paradise",
                                    "2": "Historical Fiction",
                                    "3": "379.28",
                                    "4": "2022"
                                },
                                {
                                    "0": "4",
                                    "1": "Book Lovers",
                                    "2": "Romance Novel",
                                    "3": "223.25",
                                    "4": "2022"
                                },
                                {
                                    "0": "5",
                                    "1": "The Living Mountain",
                                    "2": "Fiction",
                                    "3": "116.65",
                                    "4": "2022"
                                },
                                {
                                    "0": "6",
                                    "1": "Unfinished",
                                    "2": "Memoir,",
                                    "3": "206.15",
                                    "4": "2021"
                                },
                                {
                                    "0": "7",
                                    "1": "Matrix",
                                    "2": "Historical Fiction",
                                    "3": "309.3",
                                    "4": "2021"
                                },
                                {
                                    "0": "8",
                                    "1": "Beautiful Things",
                                    "2": "Biography",
                                    "3": "407.55",
                                    "4": "2021"
                                },
                                {
                                    "0": "9",
                                    "1": "Malibu Rising",
                                    "2": "Historical Fiction",
                                    "3": "309.3",
                                    "4": "2021"
                                },
                                {
                                    "0": "10",
                                    "1": "Gingerbread",
                                    "2": "Fairy tale",
                                    "3": "450",
                                    "4": "2019"
                                },
                                {
                                    "0": "11",
                                    "1": "The Water Dancer",
                                    "2": "Magical Realism",
                                    "3": "350.46",
                                    "4": "2019"
                                },
                                {
                                    "0": "12",
                                    "1": "The Andromeda Strain",
                                    "2": "Science Fiction",
                                    "3": "499",
                                    "4": "1969"
                                }
                            ]
                        },
                        "text/html": [
                            "<table>",
                            "<tr><th>id</th><th>book_title</th><th>genre</th><th>price</th><th>year</th></tr>",
                            "<tr><td>1</td><td>The Candy House</td><td>Science Fiction</td><td>626.05</td><td>2022</td></tr>",
                            "<tr><td>2</td><td>Fiona and Jane</td><td>Literary Fiction</td><td>451.51</td><td>2022</td></tr>",
                            "<tr><td>3</td><td>To Paradise</td><td>Historical Fiction</td><td>379.28</td><td>2022</td></tr>",
                            "<tr><td>4</td><td>Book Lovers</td><td>Romance Novel</td><td>223.25</td><td>2022</td></tr>",
                            "<tr><td>5</td><td>The Living Mountain</td><td>Fiction</td><td>116.65</td><td>2022</td></tr>",
                            "<tr><td>6</td><td>Unfinished</td><td>Memoir,</td><td>206.15</td><td>2021</td></tr>",
                            "<tr><td>7</td><td>Matrix</td><td>Historical Fiction</td><td>309.3</td><td>2021</td></tr>",
                            "<tr><td>8</td><td>Beautiful Things</td><td>Biography</td><td>407.55</td><td>2021</td></tr>",
                            "<tr><td>9</td><td>Malibu Rising</td><td>Historical Fiction</td><td>309.3</td><td>2021</td></tr>",
                            "<tr><td>10</td><td>Gingerbread</td><td>Fairy tale</td><td>450</td><td>2019</td></tr>",
                            "<tr><td>11</td><td>The Water Dancer</td><td>Magical Realism</td><td>350.46</td><td>2019</td></tr>",
                            "<tr><td>12</td><td>The Andromeda Strain</td><td>Science Fiction</td><td>499</td><td>1969</td></tr>",
                            "</table>"
                        ]
                    }
                }
            ],
            "execution_count": 14
        },
        {
            "cell_type": "code",
            "source": [
                "DECLARE @vSecondInsert NCHAR(50) = 'SecondInsert'\n",
                " \n",
                "BEGIN TRANSACTION \n",
                " \n",
                "   INSERT INTO [BookStore].[Books]\n",
                "   VALUES  ( 13, 'The Dutch House', 'Historical Fiction', 342.30, 2019)\n",
                "   SAVE TRANSACTION FirstInsert\n",
                " \n",
                "   INSERT INTO [BookStore].[Books]\n",
                "   VALUES  ( 14, 'The Nickel Boys', 'Historical Fiction', 299.48, 2019)\n",
                "   SAVE TRANSACTION @vSecondInsert\n",
                "\n",
                "   INSERT INTO [BookStore].[Books]\n",
                "   VALUES  ( 15, 'Olive Again', 'Psychological Fiction', 309.13, 2019)\n",
                "   SAVE TRANSACTION ThirdInsert\n",
                " \n",
                "   ROLLBACK TRANSACTION @vSecondInsert \n",
                "   -- can also use ROLLBACK TRANSACTION SecondInsert\n",
                " \n",
                "COMMIT"
            ],
            "metadata": {
                "azdata_cell_guid": "c4a8617d-ee57-43e5-af1e-9fa86166a406",
                "language": "sql"
            },
            "outputs": [
                {
                    "output_type": "display_data",
                    "data": {
                        "text/html": "(1 row affected)"
                    },
                    "metadata": {}
                },
                {
                    "output_type": "display_data",
                    "data": {
                        "text/html": "(1 row affected)"
                    },
                    "metadata": {}
                },
                {
                    "output_type": "display_data",
                    "data": {
                        "text/html": "(1 row affected)"
                    },
                    "metadata": {}
                },
                {
                    "output_type": "display_data",
                    "data": {
                        "text/html": "Total execution time: 00:00:00.130"
                    },
                    "metadata": {}
                }
            ],
            "execution_count": 15
        },
        {
            "cell_type": "code",
            "source": [
                "SELECT * FROM [BookStore].[Books]"
            ],
            "metadata": {
                "azdata_cell_guid": "8b028fd5-81a4-4f40-b705-c62a3a0c6bf5",
                "language": "sql"
            },
            "outputs": [
                {
                    "output_type": "display_data",
                    "data": {
                        "text/html": "(14 rows affected)"
                    },
                    "metadata": {}
                },
                {
                    "output_type": "display_data",
                    "data": {
                        "text/html": "Total execution time: 00:00:00.077"
                    },
                    "metadata": {}
                },
                {
                    "output_type": "execute_result",
                    "metadata": {},
                    "execution_count": 16,
                    "data": {
                        "application/vnd.dataresource+json": {
                            "schema": {
                                "fields": [
                                    {
                                        "name": "id"
                                    },
                                    {
                                        "name": "book_title"
                                    },
                                    {
                                        "name": "genre"
                                    },
                                    {
                                        "name": "price"
                                    },
                                    {
                                        "name": "year"
                                    }
                                ]
                            },
                            "data": [
                                {
                                    "0": "1",
                                    "1": "The Candy House",
                                    "2": "Science Fiction",
                                    "3": "626.05",
                                    "4": "2022"
                                },
                                {
                                    "0": "2",
                                    "1": "Fiona and Jane",
                                    "2": "Literary Fiction",
                                    "3": "451.51",
                                    "4": "2022"
                                },
                                {
                                    "0": "3",
                                    "1": "To Paradise",
                                    "2": "Historical Fiction",
                                    "3": "379.28",
                                    "4": "2022"
                                },
                                {
                                    "0": "4",
                                    "1": "Book Lovers",
                                    "2": "Romance Novel",
                                    "3": "223.25",
                                    "4": "2022"
                                },
                                {
                                    "0": "5",
                                    "1": "The Living Mountain",
                                    "2": "Fiction",
                                    "3": "116.65",
                                    "4": "2022"
                                },
                                {
                                    "0": "6",
                                    "1": "Unfinished",
                                    "2": "Memoir,",
                                    "3": "206.15",
                                    "4": "2021"
                                },
                                {
                                    "0": "7",
                                    "1": "Matrix",
                                    "2": "Historical Fiction",
                                    "3": "309.3",
                                    "4": "2021"
                                },
                                {
                                    "0": "8",
                                    "1": "Beautiful Things",
                                    "2": "Biography",
                                    "3": "407.55",
                                    "4": "2021"
                                },
                                {
                                    "0": "9",
                                    "1": "Malibu Rising",
                                    "2": "Historical Fiction",
                                    "3": "309.3",
                                    "4": "2021"
                                },
                                {
                                    "0": "10",
                                    "1": "Gingerbread",
                                    "2": "Fairy tale",
                                    "3": "450",
                                    "4": "2019"
                                },
                                {
                                    "0": "11",
                                    "1": "The Water Dancer",
                                    "2": "Magical Realism",
                                    "3": "350.46",
                                    "4": "2019"
                                },
                                {
                                    "0": "12",
                                    "1": "The Andromeda Strain",
                                    "2": "Science Fiction",
                                    "3": "499",
                                    "4": "1969"
                                },
                                {
                                    "0": "13",
                                    "1": "The Dutch House",
                                    "2": "Historical Fiction",
                                    "3": "342.3",
                                    "4": "2019"
                                },
                                {
                                    "0": "14",
                                    "1": "The Nickel Boys",
                                    "2": "Historical Fiction",
                                    "3": "299.48",
                                    "4": "2019"
                                }
                            ]
                        },
                        "text/html": [
                            "<table>",
                            "<tr><th>id</th><th>book_title</th><th>genre</th><th>price</th><th>year</th></tr>",
                            "<tr><td>1</td><td>The Candy House</td><td>Science Fiction</td><td>626.05</td><td>2022</td></tr>",
                            "<tr><td>2</td><td>Fiona and Jane</td><td>Literary Fiction</td><td>451.51</td><td>2022</td></tr>",
                            "<tr><td>3</td><td>To Paradise</td><td>Historical Fiction</td><td>379.28</td><td>2022</td></tr>",
                            "<tr><td>4</td><td>Book Lovers</td><td>Romance Novel</td><td>223.25</td><td>2022</td></tr>",
                            "<tr><td>5</td><td>The Living Mountain</td><td>Fiction</td><td>116.65</td><td>2022</td></tr>",
                            "<tr><td>6</td><td>Unfinished</td><td>Memoir,</td><td>206.15</td><td>2021</td></tr>",
                            "<tr><td>7</td><td>Matrix</td><td>Historical Fiction</td><td>309.3</td><td>2021</td></tr>",
                            "<tr><td>8</td><td>Beautiful Things</td><td>Biography</td><td>407.55</td><td>2021</td></tr>",
                            "<tr><td>9</td><td>Malibu Rising</td><td>Historical Fiction</td><td>309.3</td><td>2021</td></tr>",
                            "<tr><td>10</td><td>Gingerbread</td><td>Fairy tale</td><td>450</td><td>2019</td></tr>",
                            "<tr><td>11</td><td>The Water Dancer</td><td>Magical Realism</td><td>350.46</td><td>2019</td></tr>",
                            "<tr><td>12</td><td>The Andromeda Strain</td><td>Science Fiction</td><td>499</td><td>1969</td></tr>",
                            "<tr><td>13</td><td>The Dutch House</td><td>Historical Fiction</td><td>342.3</td><td>2019</td></tr>",
                            "<tr><td>14</td><td>The Nickel Boys</td><td>Historical Fiction</td><td>299.48</td><td>2019</td></tr>",
                            "</table>"
                        ]
                    }
                }
            ],
            "execution_count": 16
        },
        {
            "cell_type": "code",
            "source": [
                "SELECT @@TRANCOUNT AS '1. - @@TRANCOUNT before starting the first transaction'\n",
                " \n",
                "BEGIN TRANSACTION -- Tran 1\n",
                "  SELECT @@TRANCOUNT AS '2. - @@TRANCOUNT after starting the first transaction'\n",
                "  \n",
                "  INSERT INTO [BookStore].[Books]\n",
                "  VALUES  ( 15, 'Olive Again', 'Psychological Fiction', 309.13, 2019)\n",
                "  SAVE TRANSACTION FirstInsert\n",
                "   \n",
                "  BEGIN TRANSACTION -- Tran 2\n",
                "    SELECT @@TRANCOUNT AS '3. - @@TRANCOUNT after starting the second transaction'\n",
                "\n",
                "    INSERT INTO [BookStore].[Books]\n",
                "    VALUES  ( 16, 'American Spy', 'Thriller', null, 2019)\n",
                "      \n",
                "    ROLLBACK TRANSACTION FirstInsert\n",
                "    SELECT @@TRANCOUNT AS '4. - @@TRANCOUNT after rolling back to the save point'\n",
                "  \n",
                "    BEGIN TRANSACTION -- Tran 3 \n",
                "      SELECT @@TRANCOUNT AS '5. - @@TRANCOUNT after starting the third transaction'\n",
                "\n",
                "      INSERT INTO [BookStore].[Books] \n",
                "      VALUES( 17, 'The Need', 'Suspense', 353.56, 2019)\n",
                " \n",
                "      COMMIT -- Tran 3\n",
                "      SELECT @@TRANCOUNT AS '6. - @@TRANCOUNT after committing the third transaction'\n",
                "  \n",
                "      SELECT * FROM [BookStore].[Books]\n",
                " \n",
                "    COMMIT -- Tran 2\n",
                "    SELECT @@TRANCOUNT AS '7. - @@TRANCOUNT after committing the second transaction'\n",
                "\n",
                "  ROLLBACK -- Tran 1\n",
                "  SELECT @@TRANCOUNT AS '8. - @@TRANCOUNT after rolling back the first transaction'"
            ],
            "metadata": {
                "azdata_cell_guid": "9f514c56-c5c1-47de-b935-0856d2d55d2e",
                "language": "sql"
            },
            "outputs": [
                {
                    "output_type": "display_data",
                    "data": {
                        "text/html": "(1 row affected)"
                    },
                    "metadata": {}
                },
                {
                    "output_type": "display_data",
                    "data": {
                        "text/html": "(1 row affected)"
                    },
                    "metadata": {}
                },
                {
                    "output_type": "display_data",
                    "data": {
                        "text/html": "(1 row affected)"
                    },
                    "metadata": {}
                },
                {
                    "output_type": "display_data",
                    "data": {
                        "text/html": "(1 row affected)"
                    },
                    "metadata": {}
                },
                {
                    "output_type": "display_data",
                    "data": {
                        "text/html": "(1 row affected)"
                    },
                    "metadata": {}
                },
                {
                    "output_type": "display_data",
                    "data": {
                        "text/html": "(1 row affected)"
                    },
                    "metadata": {}
                },
                {
                    "output_type": "display_data",
                    "data": {
                        "text/html": "(1 row affected)"
                    },
                    "metadata": {}
                },
                {
                    "output_type": "display_data",
                    "data": {
                        "text/html": "(1 row affected)"
                    },
                    "metadata": {}
                },
                {
                    "output_type": "display_data",
                    "data": {
                        "text/html": "(1 row affected)"
                    },
                    "metadata": {}
                },
                {
                    "output_type": "display_data",
                    "data": {
                        "text/html": "(16 rows affected)"
                    },
                    "metadata": {}
                },
                {
                    "output_type": "display_data",
                    "data": {
                        "text/html": "(1 row affected)"
                    },
                    "metadata": {}
                },
                {
                    "output_type": "display_data",
                    "data": {
                        "text/html": "(1 row affected)"
                    },
                    "metadata": {}
                },
                {
                    "output_type": "display_data",
                    "data": {
                        "text/html": "Total execution time: 00:00:00.116"
                    },
                    "metadata": {}
                },
                {
                    "output_type": "execute_result",
                    "metadata": {},
                    "execution_count": 19,
                    "data": {
                        "application/vnd.dataresource+json": {
                            "schema": {
                                "fields": [
                                    {
                                        "name": "1. - @@TRANCOUNT before starting the first transaction"
                                    }
                                ]
                            },
                            "data": [
                                {
                                    "0": "0"
                                }
                            ]
                        },
                        "text/html": [
                            "<table>",
                            "<tr><th>1. - @@TRANCOUNT before starting the first transaction</th></tr>",
                            "<tr><td>0</td></tr>",
                            "</table>"
                        ]
                    }
                },
                {
                    "output_type": "execute_result",
                    "metadata": {},
                    "execution_count": 19,
                    "data": {
                        "application/vnd.dataresource+json": {
                            "schema": {
                                "fields": [
                                    {
                                        "name": "2. - @@TRANCOUNT after starting the first transaction"
                                    }
                                ]
                            },
                            "data": [
                                {
                                    "0": "1"
                                }
                            ]
                        },
                        "text/html": [
                            "<table>",
                            "<tr><th>2. - @@TRANCOUNT after starting the first transaction</th></tr>",
                            "<tr><td>1</td></tr>",
                            "</table>"
                        ]
                    }
                },
                {
                    "output_type": "execute_result",
                    "metadata": {},
                    "execution_count": 19,
                    "data": {
                        "application/vnd.dataresource+json": {
                            "schema": {
                                "fields": [
                                    {
                                        "name": "3. - @@TRANCOUNT after starting the second transaction"
                                    }
                                ]
                            },
                            "data": [
                                {
                                    "0": "2"
                                }
                            ]
                        },
                        "text/html": [
                            "<table>",
                            "<tr><th>3. - @@TRANCOUNT after starting the second transaction</th></tr>",
                            "<tr><td>2</td></tr>",
                            "</table>"
                        ]
                    }
                },
                {
                    "output_type": "execute_result",
                    "metadata": {},
                    "execution_count": 19,
                    "data": {
                        "application/vnd.dataresource+json": {
                            "schema": {
                                "fields": [
                                    {
                                        "name": "4. - @@TRANCOUNT after rolling back to the save point"
                                    }
                                ]
                            },
                            "data": [
                                {
                                    "0": "2"
                                }
                            ]
                        },
                        "text/html": [
                            "<table>",
                            "<tr><th>4. - @@TRANCOUNT after rolling back to the save point</th></tr>",
                            "<tr><td>2</td></tr>",
                            "</table>"
                        ]
                    }
                },
                {
                    "output_type": "execute_result",
                    "metadata": {},
                    "execution_count": 19,
                    "data": {
                        "application/vnd.dataresource+json": {
                            "schema": {
                                "fields": [
                                    {
                                        "name": "5. - @@TRANCOUNT after starting the third transaction"
                                    }
                                ]
                            },
                            "data": [
                                {
                                    "0": "3"
                                }
                            ]
                        },
                        "text/html": [
                            "<table>",
                            "<tr><th>5. - @@TRANCOUNT after starting the third transaction</th></tr>",
                            "<tr><td>3</td></tr>",
                            "</table>"
                        ]
                    }
                },
                {
                    "output_type": "execute_result",
                    "metadata": {},
                    "execution_count": 19,
                    "data": {
                        "application/vnd.dataresource+json": {
                            "schema": {
                                "fields": [
                                    {
                                        "name": "6. - @@TRANCOUNT after committing the third transaction"
                                    }
                                ]
                            },
                            "data": [
                                {
                                    "0": "2"
                                }
                            ]
                        },
                        "text/html": [
                            "<table>",
                            "<tr><th>6. - @@TRANCOUNT after committing the third transaction</th></tr>",
                            "<tr><td>2</td></tr>",
                            "</table>"
                        ]
                    }
                },
                {
                    "output_type": "execute_result",
                    "metadata": {},
                    "execution_count": 19,
                    "data": {
                        "application/vnd.dataresource+json": {
                            "schema": {
                                "fields": [
                                    {
                                        "name": "id"
                                    },
                                    {
                                        "name": "book_title"
                                    },
                                    {
                                        "name": "genre"
                                    },
                                    {
                                        "name": "price"
                                    },
                                    {
                                        "name": "year"
                                    }
                                ]
                            },
                            "data": [
                                {
                                    "0": "1",
                                    "1": "The Candy House",
                                    "2": "Science Fiction",
                                    "3": "626.05",
                                    "4": "2022"
                                },
                                {
                                    "0": "2",
                                    "1": "Fiona and Jane",
                                    "2": "Literary Fiction",
                                    "3": "451.51",
                                    "4": "2022"
                                },
                                {
                                    "0": "3",
                                    "1": "To Paradise",
                                    "2": "Historical Fiction",
                                    "3": "379.28",
                                    "4": "2022"
                                },
                                {
                                    "0": "4",
                                    "1": "Book Lovers",
                                    "2": "Romance Novel",
                                    "3": "223.25",
                                    "4": "2022"
                                },
                                {
                                    "0": "5",
                                    "1": "The Living Mountain",
                                    "2": "Fiction",
                                    "3": "116.65",
                                    "4": "2022"
                                },
                                {
                                    "0": "6",
                                    "1": "Unfinished",
                                    "2": "Memoir,",
                                    "3": "206.15",
                                    "4": "2021"
                                },
                                {
                                    "0": "7",
                                    "1": "Matrix",
                                    "2": "Historical Fiction",
                                    "3": "309.3",
                                    "4": "2021"
                                },
                                {
                                    "0": "8",
                                    "1": "Beautiful Things",
                                    "2": "Biography",
                                    "3": "407.55",
                                    "4": "2021"
                                },
                                {
                                    "0": "9",
                                    "1": "Malibu Rising",
                                    "2": "Historical Fiction",
                                    "3": "309.3",
                                    "4": "2021"
                                },
                                {
                                    "0": "10",
                                    "1": "Gingerbread",
                                    "2": "Fairy tale",
                                    "3": "450",
                                    "4": "2019"
                                },
                                {
                                    "0": "11",
                                    "1": "The Water Dancer",
                                    "2": "Magical Realism",
                                    "3": "350.46",
                                    "4": "2019"
                                },
                                {
                                    "0": "12",
                                    "1": "The Andromeda Strain",
                                    "2": "Science Fiction",
                                    "3": "499",
                                    "4": "1969"
                                },
                                {
                                    "0": "13",
                                    "1": "The Dutch House",
                                    "2": "Historical Fiction",
                                    "3": "342.3",
                                    "4": "2019"
                                },
                                {
                                    "0": "14",
                                    "1": "The Nickel Boys",
                                    "2": "Historical Fiction",
                                    "3": "299.48",
                                    "4": "2019"
                                },
                                {
                                    "0": "15",
                                    "1": "Olive Again",
                                    "2": "Psychological Fiction",
                                    "3": "309.13",
                                    "4": "2019"
                                },
                                {
                                    "0": "17",
                                    "1": "The Need",
                                    "2": "Suspense",
                                    "3": "353.56",
                                    "4": "2019"
                                }
                            ]
                        },
                        "text/html": [
                            "<table>",
                            "<tr><th>id</th><th>book_title</th><th>genre</th><th>price</th><th>year</th></tr>",
                            "<tr><td>1</td><td>The Candy House</td><td>Science Fiction</td><td>626.05</td><td>2022</td></tr>",
                            "<tr><td>2</td><td>Fiona and Jane</td><td>Literary Fiction</td><td>451.51</td><td>2022</td></tr>",
                            "<tr><td>3</td><td>To Paradise</td><td>Historical Fiction</td><td>379.28</td><td>2022</td></tr>",
                            "<tr><td>4</td><td>Book Lovers</td><td>Romance Novel</td><td>223.25</td><td>2022</td></tr>",
                            "<tr><td>5</td><td>The Living Mountain</td><td>Fiction</td><td>116.65</td><td>2022</td></tr>",
                            "<tr><td>6</td><td>Unfinished</td><td>Memoir,</td><td>206.15</td><td>2021</td></tr>",
                            "<tr><td>7</td><td>Matrix</td><td>Historical Fiction</td><td>309.3</td><td>2021</td></tr>",
                            "<tr><td>8</td><td>Beautiful Things</td><td>Biography</td><td>407.55</td><td>2021</td></tr>",
                            "<tr><td>9</td><td>Malibu Rising</td><td>Historical Fiction</td><td>309.3</td><td>2021</td></tr>",
                            "<tr><td>10</td><td>Gingerbread</td><td>Fairy tale</td><td>450</td><td>2019</td></tr>",
                            "<tr><td>11</td><td>The Water Dancer</td><td>Magical Realism</td><td>350.46</td><td>2019</td></tr>",
                            "<tr><td>12</td><td>The Andromeda Strain</td><td>Science Fiction</td><td>499</td><td>1969</td></tr>",
                            "<tr><td>13</td><td>The Dutch House</td><td>Historical Fiction</td><td>342.3</td><td>2019</td></tr>",
                            "<tr><td>14</td><td>The Nickel Boys</td><td>Historical Fiction</td><td>299.48</td><td>2019</td></tr>",
                            "<tr><td>15</td><td>Olive Again</td><td>Psychological Fiction</td><td>309.13</td><td>2019</td></tr>",
                            "<tr><td>17</td><td>The Need</td><td>Suspense</td><td>353.56</td><td>2019</td></tr>",
                            "</table>"
                        ]
                    }
                },
                {
                    "output_type": "execute_result",
                    "metadata": {},
                    "execution_count": 19,
                    "data": {
                        "application/vnd.dataresource+json": {
                            "schema": {
                                "fields": [
                                    {
                                        "name": "7. - @@TRANCOUNT after committing the second transaction"
                                    }
                                ]
                            },
                            "data": [
                                {
                                    "0": "1"
                                }
                            ]
                        },
                        "text/html": [
                            "<table>",
                            "<tr><th>7. - @@TRANCOUNT after committing the second transaction</th></tr>",
                            "<tr><td>1</td></tr>",
                            "</table>"
                        ]
                    }
                },
                {
                    "output_type": "execute_result",
                    "metadata": {},
                    "execution_count": 19,
                    "data": {
                        "application/vnd.dataresource+json": {
                            "schema": {
                                "fields": [
                                    {
                                        "name": "8. - @@TRANCOUNT after rolling back the first transaction"
                                    }
                                ]
                            },
                            "data": [
                                {
                                    "0": "0"
                                }
                            ]
                        },
                        "text/html": [
                            "<table>",
                            "<tr><th>8. - @@TRANCOUNT after rolling back the first transaction</th></tr>",
                            "<tr><td>0</td></tr>",
                            "</table>"
                        ]
                    }
                }
            ],
            "execution_count": 19
        },
        {
            "cell_type": "code",
            "source": [
                "SELECT * FROM [BookStore].[Books]"
            ],
            "metadata": {
                "azdata_cell_guid": "e695acaa-7bcf-4ec6-b435-78a918d4c876",
                "language": "sql"
            },
            "outputs": [
                {
                    "output_type": "display_data",
                    "data": {
                        "text/html": "(14 rows affected)"
                    },
                    "metadata": {}
                },
                {
                    "output_type": "display_data",
                    "data": {
                        "text/html": "Total execution time: 00:00:00.040"
                    },
                    "metadata": {}
                },
                {
                    "output_type": "execute_result",
                    "metadata": {},
                    "execution_count": 18,
                    "data": {
                        "application/vnd.dataresource+json": {
                            "schema": {
                                "fields": [
                                    {
                                        "name": "id"
                                    },
                                    {
                                        "name": "book_title"
                                    },
                                    {
                                        "name": "genre"
                                    },
                                    {
                                        "name": "price"
                                    },
                                    {
                                        "name": "year"
                                    }
                                ]
                            },
                            "data": [
                                {
                                    "0": "1",
                                    "1": "The Candy House",
                                    "2": "Science Fiction",
                                    "3": "626.05",
                                    "4": "2022"
                                },
                                {
                                    "0": "2",
                                    "1": "Fiona and Jane",
                                    "2": "Literary Fiction",
                                    "3": "451.51",
                                    "4": "2022"
                                },
                                {
                                    "0": "3",
                                    "1": "To Paradise",
                                    "2": "Historical Fiction",
                                    "3": "379.28",
                                    "4": "2022"
                                },
                                {
                                    "0": "4",
                                    "1": "Book Lovers",
                                    "2": "Romance Novel",
                                    "3": "223.25",
                                    "4": "2022"
                                },
                                {
                                    "0": "5",
                                    "1": "The Living Mountain",
                                    "2": "Fiction",
                                    "3": "116.65",
                                    "4": "2022"
                                },
                                {
                                    "0": "6",
                                    "1": "Unfinished",
                                    "2": "Memoir,",
                                    "3": "206.15",
                                    "4": "2021"
                                },
                                {
                                    "0": "7",
                                    "1": "Matrix",
                                    "2": "Historical Fiction",
                                    "3": "309.3",
                                    "4": "2021"
                                },
                                {
                                    "0": "8",
                                    "1": "Beautiful Things",
                                    "2": "Biography",
                                    "3": "407.55",
                                    "4": "2021"
                                },
                                {
                                    "0": "9",
                                    "1": "Malibu Rising",
                                    "2": "Historical Fiction",
                                    "3": "309.3",
                                    "4": "2021"
                                },
                                {
                                    "0": "10",
                                    "1": "Gingerbread",
                                    "2": "Fairy tale",
                                    "3": "450",
                                    "4": "2019"
                                },
                                {
                                    "0": "11",
                                    "1": "The Water Dancer",
                                    "2": "Magical Realism",
                                    "3": "350.46",
                                    "4": "2019"
                                },
                                {
                                    "0": "12",
                                    "1": "The Andromeda Strain",
                                    "2": "Science Fiction",
                                    "3": "499",
                                    "4": "1969"
                                },
                                {
                                    "0": "13",
                                    "1": "The Dutch House",
                                    "2": "Historical Fiction",
                                    "3": "342.3",
                                    "4": "2019"
                                },
                                {
                                    "0": "14",
                                    "1": "The Nickel Boys",
                                    "2": "Historical Fiction",
                                    "3": "299.48",
                                    "4": "2019"
                                }
                            ]
                        },
                        "text/html": [
                            "<table>",
                            "<tr><th>id</th><th>book_title</th><th>genre</th><th>price</th><th>year</th></tr>",
                            "<tr><td>1</td><td>The Candy House</td><td>Science Fiction</td><td>626.05</td><td>2022</td></tr>",
                            "<tr><td>2</td><td>Fiona and Jane</td><td>Literary Fiction</td><td>451.51</td><td>2022</td></tr>",
                            "<tr><td>3</td><td>To Paradise</td><td>Historical Fiction</td><td>379.28</td><td>2022</td></tr>",
                            "<tr><td>4</td><td>Book Lovers</td><td>Romance Novel</td><td>223.25</td><td>2022</td></tr>",
                            "<tr><td>5</td><td>The Living Mountain</td><td>Fiction</td><td>116.65</td><td>2022</td></tr>",
                            "<tr><td>6</td><td>Unfinished</td><td>Memoir,</td><td>206.15</td><td>2021</td></tr>",
                            "<tr><td>7</td><td>Matrix</td><td>Historical Fiction</td><td>309.3</td><td>2021</td></tr>",
                            "<tr><td>8</td><td>Beautiful Things</td><td>Biography</td><td>407.55</td><td>2021</td></tr>",
                            "<tr><td>9</td><td>Malibu Rising</td><td>Historical Fiction</td><td>309.3</td><td>2021</td></tr>",
                            "<tr><td>10</td><td>Gingerbread</td><td>Fairy tale</td><td>450</td><td>2019</td></tr>",
                            "<tr><td>11</td><td>The Water Dancer</td><td>Magical Realism</td><td>350.46</td><td>2019</td></tr>",
                            "<tr><td>12</td><td>The Andromeda Strain</td><td>Science Fiction</td><td>499</td><td>1969</td></tr>",
                            "<tr><td>13</td><td>The Dutch House</td><td>Historical Fiction</td><td>342.3</td><td>2019</td></tr>",
                            "<tr><td>14</td><td>The Nickel Boys</td><td>Historical Fiction</td><td>299.48</td><td>2019</td></tr>",
                            "</table>"
                        ]
                    }
                }
            ],
            "execution_count": 18
        },
        {
            "cell_type": "code",
            "source": [
                "BEGIN TRY\n",
                "\n",
                "  BEGIN TRANSACTION\n",
                "\n",
                "    INSERT INTO [BookStore].[Books]\n",
                "    VALUES  ( 16, 'American Spy', 'Thriller', 'NA', 2019)\n",
                "    COMMIT TRANSACTION\n",
                "END TRY\n",
                "\n",
                "BEGIN CATCH\n",
                "\n",
                "  SELECT SUSER_SNAME() AS USER_NAME,\n",
                "         ERROR_NUMBER() AS ERROR_NUMBER,\n",
                "         ERROR_STATE() AS ERROR_STATE,\n",
                "         ERROR_SEVERITY() AS ERROR_SEVERITY,\n",
                "         ERROR_LINE() AS ERROR_LINE,\n",
                "         ERROR_PROCEDURE() AS ERROR_PROCEDURE,\n",
                "         ERROR_MESSAGE() AS ERROR_MESSAGE ,\n",
                "         GETDATE() AS GETDATE;\n",
                " \n",
                "  -- Transaction uncommittable\n",
                "  IF (XACT_STATE()) = -1\n",
                "    ROLLBACK TRANSACTION\n",
                " \n",
                "  -- Transaction committable\n",
                "  IF (XACT_STATE()) = 1\n",
                "    COMMIT TRANSACTION\n",
                "\n",
                "END CATCH"
            ],
            "metadata": {
                "azdata_cell_guid": "348b3f29-5f9a-4078-bdb6-1a76547745e4",
                "language": "sql"
            },
            "outputs": [
                {
                    "output_type": "display_data",
                    "data": {
                        "text/html": "(0 rows affected)"
                    },
                    "metadata": {}
                },
                {
                    "output_type": "display_data",
                    "data": {
                        "text/html": "(1 row affected)"
                    },
                    "metadata": {}
                },
                {
                    "output_type": "display_data",
                    "data": {
                        "text/html": "Total execution time: 00:00:00.149"
                    },
                    "metadata": {}
                },
                {
                    "output_type": "execute_result",
                    "metadata": {},
                    "execution_count": 21,
                    "data": {
                        "application/vnd.dataresource+json": {
                            "schema": {
                                "fields": [
                                    {
                                        "name": "USER_NAME"
                                    },
                                    {
                                        "name": "ERROR_NUMBER"
                                    },
                                    {
                                        "name": "ERROR_STATE"
                                    },
                                    {
                                        "name": "ERROR_SEVERITY"
                                    },
                                    {
                                        "name": "ERROR_LINE"
                                    },
                                    {
                                        "name": "ERROR_PROCEDURE"
                                    },
                                    {
                                        "name": "ERROR_MESSAGE"
                                    },
                                    {
                                        "name": "GETDATE"
                                    }
                                ]
                            },
                            "data": [
                                {
                                    "0": "loonyuser",
                                    "1": "8114",
                                    "2": "5",
                                    "3": "16",
                                    "4": "5",
                                    "5": "NULL",
                                    "6": "Error converting data type varchar to float.",
                                    "7": "2022-11-02 11:48:41.960"
                                }
                            ]
                        },
                        "text/html": [
                            "<table>",
                            "<tr><th>USER_NAME</th><th>ERROR_NUMBER</th><th>ERROR_STATE</th><th>ERROR_SEVERITY</th><th>ERROR_LINE</th><th>ERROR_PROCEDURE</th><th>ERROR_MESSAGE</th><th>GETDATE</th></tr>",
                            "<tr><td>loonyuser</td><td>8114</td><td>5</td><td>16</td><td>5</td><td>NULL</td><td>Error converting data type varchar to float.</td><td>2022-11-02 11:48:41.960</td></tr>",
                            "</table>"
                        ]
                    }
                }
            ],
            "execution_count": 21
        },
        {
            "cell_type": "code",
            "source": [
                "SELECT * FROM [BookStore].[Books]"
            ],
            "metadata": {
                "azdata_cell_guid": "26fa31e7-0a37-43ea-8935-8c7fea717e42",
                "language": "sql"
            },
            "outputs": [
                {
                    "output_type": "display_data",
                    "data": {
                        "text/html": "(14 rows affected)"
                    },
                    "metadata": {}
                },
                {
                    "output_type": "display_data",
                    "data": {
                        "text/html": "Total execution time: 00:00:00.083"
                    },
                    "metadata": {}
                },
                {
                    "output_type": "execute_result",
                    "metadata": {},
                    "execution_count": 22,
                    "data": {
                        "application/vnd.dataresource+json": {
                            "schema": {
                                "fields": [
                                    {
                                        "name": "id"
                                    },
                                    {
                                        "name": "book_title"
                                    },
                                    {
                                        "name": "genre"
                                    },
                                    {
                                        "name": "price"
                                    },
                                    {
                                        "name": "year"
                                    }
                                ]
                            },
                            "data": [
                                {
                                    "0": "1",
                                    "1": "The Candy House",
                                    "2": "Science Fiction",
                                    "3": "626.05",
                                    "4": "2022"
                                },
                                {
                                    "0": "2",
                                    "1": "Fiona and Jane",
                                    "2": "Literary Fiction",
                                    "3": "451.51",
                                    "4": "2022"
                                },
                                {
                                    "0": "3",
                                    "1": "To Paradise",
                                    "2": "Historical Fiction",
                                    "3": "379.28",
                                    "4": "2022"
                                },
                                {
                                    "0": "4",
                                    "1": "Book Lovers",
                                    "2": "Romance Novel",
                                    "3": "223.25",
                                    "4": "2022"
                                },
                                {
                                    "0": "5",
                                    "1": "The Living Mountain",
                                    "2": "Fiction",
                                    "3": "116.65",
                                    "4": "2022"
                                },
                                {
                                    "0": "6",
                                    "1": "Unfinished",
                                    "2": "Memoir,",
                                    "3": "206.15",
                                    "4": "2021"
                                },
                                {
                                    "0": "7",
                                    "1": "Matrix",
                                    "2": "Historical Fiction",
                                    "3": "309.3",
                                    "4": "2021"
                                },
                                {
                                    "0": "8",
                                    "1": "Beautiful Things",
                                    "2": "Biography",
                                    "3": "407.55",
                                    "4": "2021"
                                },
                                {
                                    "0": "9",
                                    "1": "Malibu Rising",
                                    "2": "Historical Fiction",
                                    "3": "309.3",
                                    "4": "2021"
                                },
                                {
                                    "0": "10",
                                    "1": "Gingerbread",
                                    "2": "Fairy tale",
                                    "3": "450",
                                    "4": "2019"
                                },
                                {
                                    "0": "11",
                                    "1": "The Water Dancer",
                                    "2": "Magical Realism",
                                    "3": "350.46",
                                    "4": "2019"
                                },
                                {
                                    "0": "12",
                                    "1": "The Andromeda Strain",
                                    "2": "Science Fiction",
                                    "3": "499",
                                    "4": "1969"
                                },
                                {
                                    "0": "13",
                                    "1": "The Dutch House",
                                    "2": "Historical Fiction",
                                    "3": "342.3",
                                    "4": "2019"
                                },
                                {
                                    "0": "14",
                                    "1": "The Nickel Boys",
                                    "2": "Historical Fiction",
                                    "3": "299.48",
                                    "4": "2019"
                                }
                            ]
                        },
                        "text/html": [
                            "<table>",
                            "<tr><th>id</th><th>book_title</th><th>genre</th><th>price</th><th>year</th></tr>",
                            "<tr><td>1</td><td>The Candy House</td><td>Science Fiction</td><td>626.05</td><td>2022</td></tr>",
                            "<tr><td>2</td><td>Fiona and Jane</td><td>Literary Fiction</td><td>451.51</td><td>2022</td></tr>",
                            "<tr><td>3</td><td>To Paradise</td><td>Historical Fiction</td><td>379.28</td><td>2022</td></tr>",
                            "<tr><td>4</td><td>Book Lovers</td><td>Romance Novel</td><td>223.25</td><td>2022</td></tr>",
                            "<tr><td>5</td><td>The Living Mountain</td><td>Fiction</td><td>116.65</td><td>2022</td></tr>",
                            "<tr><td>6</td><td>Unfinished</td><td>Memoir,</td><td>206.15</td><td>2021</td></tr>",
                            "<tr><td>7</td><td>Matrix</td><td>Historical Fiction</td><td>309.3</td><td>2021</td></tr>",
                            "<tr><td>8</td><td>Beautiful Things</td><td>Biography</td><td>407.55</td><td>2021</td></tr>",
                            "<tr><td>9</td><td>Malibu Rising</td><td>Historical Fiction</td><td>309.3</td><td>2021</td></tr>",
                            "<tr><td>10</td><td>Gingerbread</td><td>Fairy tale</td><td>450</td><td>2019</td></tr>",
                            "<tr><td>11</td><td>The Water Dancer</td><td>Magical Realism</td><td>350.46</td><td>2019</td></tr>",
                            "<tr><td>12</td><td>The Andromeda Strain</td><td>Science Fiction</td><td>499</td><td>1969</td></tr>",
                            "<tr><td>13</td><td>The Dutch House</td><td>Historical Fiction</td><td>342.3</td><td>2019</td></tr>",
                            "<tr><td>14</td><td>The Nickel Boys</td><td>Historical Fiction</td><td>299.48</td><td>2019</td></tr>",
                            "</table>"
                        ]
                    }
                }
            ],
            "execution_count": 22
        },
        {
            "cell_type": "code",
            "source": [
                "BEGIN TRY\n",
                "\n",
                "  BEGIN TRANSACTION\n",
                "\n",
                "    INSERT INTO [BookStore].[Books]\n",
                "    VALUES  ( 16, 'American Spy', 'Thriller', null, 2019)\n",
                "    COMMIT TRANSACTION\n",
                "END TRY\n",
                "\n",
                "BEGIN CATCH\n",
                "\n",
                "  SELECT SUSER_SNAME() AS USER_NAME,\n",
                "         ERROR_NUMBER() AS ERROR_NUMBER,\n",
                "         ERROR_STATE() AS ERROR_STATE,\n",
                "         ERROR_SEVERITY() AS ERROR_SEVERITY,\n",
                "         ERROR_LINE() AS ERROR_LINE,\n",
                "         ERROR_PROCEDURE() AS ERROR_PROCEDURE,\n",
                "         ERROR_MESSAGE() AS ERROR_MESSAGE ,\n",
                "         GETDATE() AS GETDATE;\n",
                " \n",
                "  -- Transaction uncommittable\n",
                "  IF (XACT_STATE()) = -1\n",
                "    ROLLBACK TRANSACTION\n",
                " \n",
                "  -- Transaction committable\n",
                "  IF (XACT_STATE()) = 1\n",
                "    COMMIT TRANSACTION\n",
                "\n",
                "END CATCH"
            ],
            "metadata": {
                "azdata_cell_guid": "0b6351e2-b8fd-4ae7-8b63-4e37b0e0fbab",
                "language": "sql"
            },
            "outputs": [
                {
                    "output_type": "display_data",
                    "data": {
                        "text/html": "(1 row affected)"
                    },
                    "metadata": {}
                },
                {
                    "output_type": "display_data",
                    "data": {
                        "text/html": "Total execution time: 00:00:00.069"
                    },
                    "metadata": {}
                }
            ],
            "execution_count": 23
        },
        {
            "cell_type": "code",
            "source": [
                "SELECT * FROM [BookStore].[Books]"
            ],
            "metadata": {
                "azdata_cell_guid": "ed46213f-9ede-4c1c-9822-9c8f86c5c585",
                "language": "sql"
            },
            "outputs": [
                {
                    "output_type": "display_data",
                    "data": {
                        "text/html": "(15 rows affected)"
                    },
                    "metadata": {}
                },
                {
                    "output_type": "display_data",
                    "data": {
                        "text/html": "Total execution time: 00:00:00.068"
                    },
                    "metadata": {}
                },
                {
                    "output_type": "execute_result",
                    "metadata": {},
                    "execution_count": 24,
                    "data": {
                        "application/vnd.dataresource+json": {
                            "schema": {
                                "fields": [
                                    {
                                        "name": "id"
                                    },
                                    {
                                        "name": "book_title"
                                    },
                                    {
                                        "name": "genre"
                                    },
                                    {
                                        "name": "price"
                                    },
                                    {
                                        "name": "year"
                                    }
                                ]
                            },
                            "data": [
                                {
                                    "0": "1",
                                    "1": "The Candy House",
                                    "2": "Science Fiction",
                                    "3": "626.05",
                                    "4": "2022"
                                },
                                {
                                    "0": "2",
                                    "1": "Fiona and Jane",
                                    "2": "Literary Fiction",
                                    "3": "451.51",
                                    "4": "2022"
                                },
                                {
                                    "0": "3",
                                    "1": "To Paradise",
                                    "2": "Historical Fiction",
                                    "3": "379.28",
                                    "4": "2022"
                                },
                                {
                                    "0": "4",
                                    "1": "Book Lovers",
                                    "2": "Romance Novel",
                                    "3": "223.25",
                                    "4": "2022"
                                },
                                {
                                    "0": "5",
                                    "1": "The Living Mountain",
                                    "2": "Fiction",
                                    "3": "116.65",
                                    "4": "2022"
                                },
                                {
                                    "0": "6",
                                    "1": "Unfinished",
                                    "2": "Memoir,",
                                    "3": "206.15",
                                    "4": "2021"
                                },
                                {
                                    "0": "7",
                                    "1": "Matrix",
                                    "2": "Historical Fiction",
                                    "3": "309.3",
                                    "4": "2021"
                                },
                                {
                                    "0": "8",
                                    "1": "Beautiful Things",
                                    "2": "Biography",
                                    "3": "407.55",
                                    "4": "2021"
                                },
                                {
                                    "0": "9",
                                    "1": "Malibu Rising",
                                    "2": "Historical Fiction",
                                    "3": "309.3",
                                    "4": "2021"
                                },
                                {
                                    "0": "10",
                                    "1": "Gingerbread",
                                    "2": "Fairy tale",
                                    "3": "450",
                                    "4": "2019"
                                },
                                {
                                    "0": "11",
                                    "1": "The Water Dancer",
                                    "2": "Magical Realism",
                                    "3": "350.46",
                                    "4": "2019"
                                },
                                {
                                    "0": "12",
                                    "1": "The Andromeda Strain",
                                    "2": "Science Fiction",
                                    "3": "499",
                                    "4": "1969"
                                },
                                {
                                    "0": "13",
                                    "1": "The Dutch House",
                                    "2": "Historical Fiction",
                                    "3": "342.3",
                                    "4": "2019"
                                },
                                {
                                    "0": "14",
                                    "1": "The Nickel Boys",
                                    "2": "Historical Fiction",
                                    "3": "299.48",
                                    "4": "2019"
                                },
                                {
                                    "0": "16",
                                    "1": "American Spy",
                                    "2": "Thriller",
                                    "3": "NULL",
                                    "4": "2019"
                                }
                            ]
                        },
                        "text/html": [
                            "<table>",
                            "<tr><th>id</th><th>book_title</th><th>genre</th><th>price</th><th>year</th></tr>",
                            "<tr><td>1</td><td>The Candy House</td><td>Science Fiction</td><td>626.05</td><td>2022</td></tr>",
                            "<tr><td>2</td><td>Fiona and Jane</td><td>Literary Fiction</td><td>451.51</td><td>2022</td></tr>",
                            "<tr><td>3</td><td>To Paradise</td><td>Historical Fiction</td><td>379.28</td><td>2022</td></tr>",
                            "<tr><td>4</td><td>Book Lovers</td><td>Romance Novel</td><td>223.25</td><td>2022</td></tr>",
                            "<tr><td>5</td><td>The Living Mountain</td><td>Fiction</td><td>116.65</td><td>2022</td></tr>",
                            "<tr><td>6</td><td>Unfinished</td><td>Memoir,</td><td>206.15</td><td>2021</td></tr>",
                            "<tr><td>7</td><td>Matrix</td><td>Historical Fiction</td><td>309.3</td><td>2021</td></tr>",
                            "<tr><td>8</td><td>Beautiful Things</td><td>Biography</td><td>407.55</td><td>2021</td></tr>",
                            "<tr><td>9</td><td>Malibu Rising</td><td>Historical Fiction</td><td>309.3</td><td>2021</td></tr>",
                            "<tr><td>10</td><td>Gingerbread</td><td>Fairy tale</td><td>450</td><td>2019</td></tr>",
                            "<tr><td>11</td><td>The Water Dancer</td><td>Magical Realism</td><td>350.46</td><td>2019</td></tr>",
                            "<tr><td>12</td><td>The Andromeda Strain</td><td>Science Fiction</td><td>499</td><td>1969</td></tr>",
                            "<tr><td>13</td><td>The Dutch House</td><td>Historical Fiction</td><td>342.3</td><td>2019</td></tr>",
                            "<tr><td>14</td><td>The Nickel Boys</td><td>Historical Fiction</td><td>299.48</td><td>2019</td></tr>",
                            "<tr><td>16</td><td>American Spy</td><td>Thriller</td><td>NULL</td><td>2019</td></tr>",
                            "</table>"
                        ]
                    }
                }
            ],
            "execution_count": 24
        },
        {
            "cell_type": "code",
            "source": [
                ""
            ],
            "metadata": {
                "azdata_cell_guid": "4e612d98-b7cb-4d05-aaa4-29c8d470a1ef",
                "language": "sql"
            },
            "outputs": [],
            "execution_count": null
        }
    ]
}