{
    "metadata": {
        "kernelspec": {
            "name": "SQL",
            "display_name": "SQL",
            "language": "sql"
        },
        "language_info": {
            "name": "sql",
            "version": ""
        }
    },
    "nbformat_minor": 2,
    "nbformat": 4,
    "cells": [
        {
            "cell_type": "code",
            "source": [
                "SELECT * FROM [azure-sql-practice].[dbo].[bike_details];\r\n",
                "SELECT COUNT(name) AS bike_count\r\n",
                "FROM [azure-sql-practice].[dbo].[bike_details]"
            ],
            "metadata": {
                "azdata_cell_guid": "53407344-b997-4906-a219-1a7fc0fb2e56",
                "language": "sql"
            },
            "outputs": [
                {
                    "output_type": "display_data",
                    "data": {
                        "text/html": "(1061 rows affected)"
                    },
                    "metadata": {}
                },
                {
                    "output_type": "display_data",
                    "data": {
                        "text/html": "(1 row affected)"
                    },
                    "metadata": {}
                },
                {
                    "output_type": "display_data",
                    "data": {
                        "text/html": "Total execution time: 00:00:00.045"
                    },
                    "metadata": {}
                },
                {
                    "output_type": "execute_result",
                    "metadata": {},
                    "execution_count": 6,
                    "data": {
                        "application/vnd.dataresource+json": {
                            "schema": {
                                "fields": [
                                    {
                                        "name": "name"
                                    },
                                    {
                                        "name": "selling_price"
                                    },
                                    {
                                        "name": "year"
                                    },
                                    {
                                        "name": "seller_type"
                                    },
                                    {
                                        "name": "owner"
                                    },
                                    {
                                        "name": "km_driven"
                                    },
                                    {
                                        "name": "ex_showroom_price"
                                    }
                                ]
                            },
                            "data": [
                                {
                                    "0": "Royal Enfield Classic 350",
                                    "1": "175000",
                                    "2": "2019",
                                    "3": "Individual",
                                    "4": "1st owner",
                                    "5": "350",
                                    "6": "NULL"
                                },
                                {
                                    "0": "Honda Dio",
                                    "1": "45000",
                                    "2": "2017",
                                    "3": "Individual",
                                    "4": "1st owner",
                                    "5": "5650",
                                    "6": "NULL"
                                },
                                {
                                    "0": "Royal Enfield Classic Gunmetal Grey",
                                    "1": "150000",
                                    "2": "2018",
                                    "3": "Individual",
                                    "4": "1st owner",
                                    "5": "12000",
                                    "6": "148114"
                                },
                                {
                                    "0": "Yamaha Fazer FI V 2.0 [2016-2018]",
                                    "1": "65000",
                                    "2": "2015",
                                    "3": "Individual",
                                    "4": "1st owner",
                                    "5": "23000",
                                    "6": "89643"
                                },
                                {
                                    "0": "Yamaha SZ [2013-2014]",
                                    "1": "20000",
                                    "2": "2011",
                                    "3": "Individual",
                                    "4": "2nd owner",
                                    "5": "21000",
                                    "6": "NULL"
                                },
                                {
                                    "0": "Honda CB Twister",
                                    "1": "18000",
                                    "2": "2010",
                                    "3": "Individual",
                                    "4": "1st owner",
                                    "5": "60000",
                                    "6": "53857"
                                },
                                {
                                    "0": "Honda CB Hornet 160R",
                                    "1": "78500",
                                    "2": "2018",
                                    "3": "Individual",
                                    "4": "1st owner",
                                    "5": "17000",
                                    "6": "87719"
                                },
                                {
                                    "0": "Royal Enfield Bullet 350 [2007-2011]",
                                    "1": "180000",
                                    "2": "2008",
                                    "3": "Individual",
                                    "4": "2nd owner",
                                    "5": "39000",
                                    "6": "NULL"
                                },
                                {
                                    "0": "Hero Honda CBZ extreme",
                                    "1": "30000",
                                    "2": "2010",
                                    "3": "Individual",
                                    "4": "1st owner",
                                    "5": "32000",
                                    "6": "NULL"
                                },
                                {
                                    "0": "Bajaj Discover 125",
                                    "1": "50000",
                                    "2": "2016",
                                    "3": "Individual",
                                    "4": "1st owner",
                                    "5": "42000",
                                    "6": "60122"
                                },
                                {
                                    "0": "Yamaha FZ16",
                                    "1": "35000",
                                    "2": "2015",
                                    "3": "Individual",
                                    "4": "1st owner",
                                    "5": "32000",
                                    "6": "78712"
                                },
                                {
                                    "0": "Honda Navi",
                                    "1": "28000",
                                    "2": "2016",
                                    "3": "Individual",
                                    "4": "2nd owner",
                                    "5": "10000",
                                    "6": "47255"
                                },
                                {
                                    "0": "Bajaj Avenger Street 220",
                                    "1": "80000",
                                    "2": "2018",
                                    "3": "Individual",
                                    "4": "1st owner",
                                    "5": "21178",
                                    "6": "95955"
                                },
                                {
                                    "0": "Yamaha YZF R3",
                                    "1": "365000",
                                    "2": "2019",
                                    "3": "Individual",
                                    "4": "1st owner",
                                    "5": "1127",
                                    "6": "351680"
                                },
                                {
                                    "0": "Jawa 42",
                                    "1": "185000",
                                    "2": "2020",
                                    "3": "Individual",
                                    "4": "1st owner",
                                    "5": "1700",
                                    "6": "NULL"
                                },
                                {
                                    "0": "Suzuki Access 125 [2007-2016]",
                                    "1": "25000",
                                    "2": "2012",
                                    "3": "Individual",
                                    "4": "1st owner",
                                    "5": "55000",
                                    "6": "58314"
                                },
                                {
                                    "0": "Hero Honda Glamour",
                                    "1": "25000",
                                    "2": "2006",
                                    "3": "Individual",
                                    "4": "1st owner",
                                    "5": "27000",
                                    "6": "NULL"
                                },
                                {
                                    "0": "Yamaha YZF R15 S",
                                    "1": "40000",
                                    "2": "2010",
                                    "3": "Individual",
                                    "4": "2nd owner",
                                    "5": "45000",
                                    "6": "117926"
                                },
                                {
                                    "0": "Royal Enfield Classic Gunmetal Grey",
                                    "1": "150000",
                                    "2": "2018",
                                    "3": "Individual",
                                    "4": "1st owner",
                                    "5": "23000",
                                    "6": "148114"
                                },
                                {
                                    "0": "Yamaha FZ25",
                                    "1": "120000",
                                    "2": "2018",
                                    "3": "Individual",
                                    "4": "1st owner",
                                    "5": "39000",
                                    "6": "132680"
                                },
                                {
                                    "0": "Hero Passion Pro 110",
                                    "1": "15000",
                                    "2": "2008",
                                    "3": "Individual",
                                    "4": "1st owner",
                                    "5": "60000",
                                    "6": "NULL"
                                },
                                {
                                    "0": "Honda Navi [2016-2017]",
                                    "1": "26000",
                                    "2": "2016",
                                    "3": "Individual",
                                    "4": "1st owner",
                                    "5": "17450",
                                    "6": "44389"
                                },
                                {
                                    "0": "Honda Activa i",
                                    "1": "32000",
                                    "2": "2013",
                                    "3": "Individual",
                                    "4": "2nd owner",
                                    "5": "20696",
                                    "6": "53900"
                                },
                                {
                                    "0": "Jawa Standard",
                                    "1": "180000",
                                    "2": "2019",
                                    "3": "Individual",
                                    "4": "1st owner",
                                    "5": "2000",
                                    "6": "NULL"
                                },
                                {
                                    "0": "Royal Enfield Thunderbird 350",
                                    "1": "110000",
                                    "2": "2016",
                                    "3": "Individual",
                                    "4": "1st owner",
                                    "5": "20000",
                                    "6": "NULL"
                                },
                                {
                                    "0": "Honda Dream Yuga",
                                    "1": "25000",
                                    "2": "2012",
                                    "3": "Individual",
                                    "4": "1st owner",
                                    "5": "35000",
                                    "6": "56147"
                                },
                                {
                                    "0": "TVS Apache RTR 160 4V",
                                    "1": "80000",
                                    "2": "2018",
                                    "3": "Individual",
                                    "4": "1st owner",
                                    "5": "15210",
                                    "6": "NULL"
                                },
                                {
                                    "0": "Honda Navi [2016-2017]",
                                    "1": "42000",
                                    "2": "2017",
                                    "3": "Individual",
                                    "4": "1st owner",
                                    "5": "24000",
                                    "6": "44389"
                                },
                                {
                                    "0": "Yamaha Fazer [2009-2016]",
                                    "1": "40000",
                                    "2": "2013",
                                    "3": "Individual",
                                    "4": "3rd owner",
                                    "5": "35000",
                                    "6": "84751"
                                },
                                {
                                    "0": "Hero Honda Splendor NXG",
                                    "1": "21000",
                                    "2": "2009",
                                    "3": "Individual",
                                    "4": "1st owner",
                                    "5": "10000",
                                    "6": "NULL"
                                },
                                {
                                    "0": "Hero Glamour 125",
                                    "1": "55000",
                                    "2": "2017",
                                    "3": "Individual",
                                    "4": "1st owner",
                                    "5": "2500",
                                    "6": "61600"
                                },
                                {
                                    "0": "Yamaha FZ S [2012-2016]",
                                    "1": "38000",
                                    "2": "2013",
                                    "3": "Individual",
                                    "4": "1st owner",
                                    "5": "75000",
                                    "6": "79432"
                                },
                                {
                                    "0": "Hero Xtreme Sports",
                                    "1": "43000",
                                    "2": "2016",
                                    "3": "Individual",
                                    "4": "2nd owner",
                                    "5": "50000",
                                    "6": "78350"
                                },
                                {
                                    "0": "Honda X-Blade",
                                    "1": "65000",
                                    "2": "2018",
                                    "3": "Individual",
                                    "4": "1st owner",
                                    "5": "27000",
                                    "6": "NULL"
                                },
                                {
                                    "0": "Honda CB Shine SP",
                                    "1": "62000",
                                    "2": "2019",
                                    "3": "Individual",
                                    "4": "1st owner",
                                    "5": "10000",
                                    "6": "71049"
                                },
                                {
                                    "0": "Honda Activa 5G",
                                    "1": "60000",
                                    "2": "2018",
                                    "3": "Individual",
                                    "4": "1st owner",
                                    "5": "6502",
                                    "6": "57557"
                                },
                                {
                                    "0": "Hero Glamour 125",
                                    "1": "45000",
                                    "2": "2018",
                                    "3": "Individual",
                                    "4": "1st owner",
                                    "5": "21000",
                                    "6": "61600"
                                },
                                {
                                    "0": "Honda CBR-250R",
                                    "1": "120000",
                                    "2": "2016",
                                    "3": "Individual",
                                    "4": "1st owner",
                                    "5": "16000",
                                    "6": "202310"
                                },
                                {
                                    "0": "Hero Honda Passion PRO [2012]",
                                    "1": "30000",
                                    "2": "2011",
                                    "3": "Individual",
                                    "4": "1st owner",
                                    "5": "42000",
                                    "6": "NULL"
                                },
                                {
                                    "0": "Royal Enfield Thunderbird 350",
                                    "1": "90000",
                                    "2": "2015",
                                    "3": "Individual",
                                    "4": "3rd owner",
                                    "5": "13000",
                                    "6": "NULL"
                                },
                                {
                                    "0": "Bajaj Dominar 400",
                                    "1": "125000",
                                    "2": "2017",
                                    "3": "Individual",
                                    "4": "1st owner",
                                    "5": "12800",
                                    "6": "NULL"
                                },
                                {
                                    "0": "Hero Glamour FI",
                                    "1": "50000",
                                    "2": "2018",
                                    "3": "Individual",
                                    "4": "1st owner",
                                    "5": "20000",
                                    "6": "71150"
                                },
                                {
                                    "0": "KTM 390 Duke",
                                    "1": "175000",
                                    "2": "2017",
                                    "3": "Individual",
                                    "4": "1st owner",
                                    "5": "4600",
                                    "6": "NULL"
                                },
                                {
                                    "0": "Hero Passion XPro",
                                    "1": "28000",
                                    "2": "2012",
                                    "3": "Individual",
                                    "4": "1st owner",
                                    "5": "81000",
                                    "6": "56750"
                                },
                                {
                                    "0": "Yamaha FZ S V 2.0",
                                    "1": "85000",
                                    "2": "2018",
                                    "3": "Individual",
                                    "4": "1st owner",
                                    "5": "8000",
                                    "6": "84042"
                                },
                                {
                                    "0": "Hero Achiever 150",
                                    "1": "29900",
                                    "2": "2016",
                                    "3": "Individual",
                                    "4": "1st owner",
                                    "5": "55000",
                                    "6": "69750"
                                },
                                {
                                    "0": "Bajaj Discover 125",
                                    "1": "25000",
                                    "2": "2011",
                                    "3": "Individual",
                                    "4": "1st owner",
                                    "5": "57000",
                                    "6": "60122"
                                },
                                {
                                    "0": "Yamaha FZ16",
                                    "1": "30000",
                                    "2": "2009",
                                    "3": "Individual",
                                    "4": "2nd owner",
                                    "5": "26000",
                                    "6": "78712"
                                },
                                {
                                    "0": "Yamaha Saluto",
                                    "1": "60000",
                                    "2": "2018",
                                    "3": "Individual",
                                    "4": "1st owner",
                                    "5": "13000",
                                    "6": "59844"
                                },
                                {
                                    "0": "Yamaha FZ16",
                                    "1": "35000",
                                    "2": "2012",
                                    "3": "Individual",
                                    "4": "2nd owner",
                                    "5": "29000",
                                    "6": "78712"
                                },
                                {
                                    "0": "Bajaj Discover 100",
                                    "1": "25000",
                                    "2": "2010",
                                    "3": "Individual",
                                    "4": "1st owner",
                                    "5": "43000",
                                    "6": "42859"
                                },
                                {
                                    "0": "Honda CB Trigger",
                                    "1": "30000",
                                    "2": "2015",
                                    "3": "Individual",
                                    "4": "1st owner",
                                    "5": "40000",
                                    "6": "73413"
                                },
                                {
                                    "0": "Royal Enfield Electra 5 S",
                                    "1": "90000",
                                    "2": "2010",
                                    "3": "Individual",
                                    "4": "2nd owner",
                                    "5": "40000",
                                    "6": "NULL"
                                },
                                {
                                    "0": "Hero Splendor PRO",
                                    "1": "35000",
                                    "2": "2015",
                                    "3": "Individual",
                                    "4": "2nd owner",
                                    "5": "24000",
                                    "6": "49900"
                                },
                                {
                                    "0": "Honda Activa 5G",
                                    "1": "70000",
                                    "2": "2019",
                                    "3": "Individual",
                                    "4": "1st owner",
                                    "5": "3000",
                                    "6": "59422"
                                },
                                {
                                    "0": "Hero Honda Passion Plus",
                                    "1": "25000",
                                    "2": "2006",
                                    "3": "Individual",
                                    "4": "1st owner",
                                    "5": "75000",
                                    "6": "NULL"
                                },
                                {
                                    "0": "Bajaj Pulsar 150",
                                    "1": "25000",
                                    "2": "2010",
                                    "3": "Individual",
                                    "4": "1st owner",
                                    "5": "42000",
                                    "6": "NULL"
                                },
                                {
                                    "0": "Royal Enfield Bullet 350",
                                    "1": "90000",
                                    "2": "2014",
                                    "3": "Individual",
                                    "4": "1st owner",
                                    "5": "13000",
                                    "6": "NULL"
                                },
                                {
                                    "0": "Bajaj Discover 125",
                                    "1": "25000",
                                    "2": "2013",
                                    "3": "Individual",
                                    "4": "1st owner",
                                    "5": "55000",
                                    "6": "57549"
                                },
                                {
                                    "0": "Bajaj Pulsar 150 [2001-2011]",
                                    "1": "42000",
                                    "2": "2011",
                                    "3": "Individual",
                                    "4": "1st owner",
                                    "5": "23000",
                                    "6": "NULL"
                                },
                                {
                                    "0": "Hero Splendor PRO",
                                    "1": "35000",
                                    "2": "2015",
                                    "3": "Individual",
                                    "4": "2nd owner",
                                    "5": "24000",
                                    "6": "51994"
                                },
                                {
                                    "0": "Hero Xtreme Sports",
                                    "1": "50000",
                                    "2": "2014",
                                    "3": "Individual",
                                    "4": "1st owner",
                                    "5": "80000",
                                    "6": "80350"
                                },
                                {
                                    "0": "Honda Activa 3G",
                                    "1": "30000",
                                    "2": "2015",
                                    "3": "Individual",
                                    "4": "1st owner",
                                    "5": "39000",
                                    "6": "54605"
                                },
                                {
                                    "0": "Yamaha FZ16",
                                    "1": "48000",
                                    "2": "2016",
                                    "3": "Individual",
                                    "4": "1st owner",
                                    "5": "20000",
                                    "6": "78712"
                                },
                                {
                                    "0": "Honda CB Hornet 160R",
                                    "1": "65000",
                                    "2": "2016",
                                    "3": "Individual",
                                    "4": "1st owner",
                                    "5": "30000",
                                    "6": "88161"
                                },
                                {
                                    "0": "Royal Enfield Thunderbird 350",
                                    "1": "85000",
                                    "2": "2013",
                                    "3": "Individual",
                                    "4": "1st owner",
                                    "5": "21000",
                                    "6": "NULL"
                                },
                                {
                                    "0": "Hero Hunk",
                                    "1": "45000",
                                    "2": "2014",
                                    "3": "Individual",
                                    "4": "1st owner",
                                    "5": "41000",
                                    "6": "78513"
                                },
                                {
                                    "0": "Suzuki Let''s",
                                    "1": "34000",
                                    "2": "2014",
                                    "3": "Individual",
                                    "4": "1st owner",
                                    "5": "8000",
                                    "6": "50098"
                                },
                                {
                                    "0": "Royal Enfield Electra 4 S",
                                    "1": "90000",
                                    "2": "2008",
                                    "3": "Individual",
                                    "4": "1st owner",
                                    "5": "50000",
                                    "6": "NULL"
                                },
                                {
                                    "0": "TVS Scooty Pep Plus",
                                    "1": "35000",
                                    "2": "2012",
                                    "3": "Individual",
                                    "4": "1st owner",
                                    "5": "8150",
                                    "6": "NULL"
                                },
                                {
                                    "0": "Mahindra Mojo XT300",
                                    "1": "165000",
                                    "2": "2017",
                                    "3": "Individual",
                                    "4": "1st owner",
                                    "5": "1933",
                                    "6": "195500"
                                },
                                {
                                    "0": "TVS Apache RTR 160",
                                    "1": "35000",
                                    "2": "2013",
                                    "3": "Individual",
                                    "4": "1st owner",
                                    "5": "55750",
                                    "6": "NULL"
                                },
                                {
                                    "0": "Bajaj Pulsar AS200",
                                    "1": "65000",
                                    "2": "2015",
                                    "3": "Individual",
                                    "4": "1st owner",
                                    "5": "15856",
                                    "6": "92074"
                                },
                                {
                                    "0": "Bajaj Pulsar 150",
                                    "1": "29500",
                                    "2": "2013",
                                    "3": "Individual",
                                    "4": "1st owner",
                                    "5": "27000",
                                    "6": "NULL"
                                },
                                {
                                    "0": "Royal Enfield Thunderbird 350X",
                                    "1": "165000",
                                    "2": "2019",
                                    "3": "Individual",
                                    "4": "1st owner",
                                    "5": "3700",
                                    "6": "164004"
                                },
                                {
                                    "0": "Suzuki Intruder 150",
                                    "1": "95000",
                                    "2": "2018",
                                    "3": "Individual",
                                    "4": "1st owner",
                                    "5": "21938",
                                    "6": "NULL"
                                },
                                {
                                    "0": "Hero Honda Karizma ZMR [2010]",
                                    "1": "50000",
                                    "2": "2010",
                                    "3": "Individual",
                                    "4": "1st owner",
                                    "5": "48000",
                                    "6": "NULL"
                                },
                                {
                                    "0": "Honda Dio",
                                    "1": "7500",
                                    "2": "2009",
                                    "3": "Individual",
                                    "4": "2nd owner",
                                    "5": "16000",
                                    "6": "NULL"
                                },
                                {
                                    "0": "Bajaj Xcd",
                                    "1": "25000",
                                    "2": "2008",
                                    "3": "Individual",
                                    "4": "1st owner",
                                    "5": "54000",
                                    "6": "NULL"
                                },
                                {
                                    "0": "Hero Splendor Plus",
                                    "1": "35000",
                                    "2": "2014",
                                    "3": "Individual",
                                    "4": "2nd owner",
                                    "5": "35000",
                                    "6": "NULL"
                                },
                                {
                                    "0": "Royal Enfield Thunderbird 350X",
                                    "1": "160000",
                                    "2": "2018",
                                    "3": "Individual",
                                    "4": "1st owner",
                                    "5": "15000",
                                    "6": "NULL"
                                },
                                {
                                    "0": "Honda CB Unicorn 150",
                                    "1": "50000",
                                    "2": "2014",
                                    "3": "Individual",
                                    "4": "1st owner",
                                    "5": "32000",
                                    "6": "74295"
                                },
                                {
                                    "0": "Honda Activa 5G",
                                    "1": "62000",
                                    "2": "2019",
                                    "3": "Individual",
                                    "4": "1st owner",
                                    "5": "3500",
                                    "6": "57557"
                                },
                                {
                                    "0": "Honda CB Twister",
                                    "1": "30000",
                                    "2": "2013",
                                    "3": "Individual",
                                    "4": "1st owner",
                                    "5": "9000",
                                    "6": "53857"
                                },
                                {
                                    "0": "Hero Splendor PRO",
                                    "1": "28000",
                                    "2": "2015",
                                    "3": "Individual",
                                    "4": "1st owner",
                                    "5": "38000",
                                    "6": "49642"
                                },
                                {
                                    "0": "Hero Honda CD Deluxe",
                                    "1": "25000",
                                    "2": "2009",
                                    "3": "Individual",
                                    "4": "1st owner",
                                    "5": "50000",
                                    "6": "NULL"
                                },
                                {
                                    "0": "Honda Activa i [2016-2017]",
                                    "1": "30000",
                                    "2": "2015",
                                    "3": "Individual",
                                    "4": "2nd owner",
                                    "5": "20000",
                                    "6": "51112"
                                },
                                {
                                    "0": "Royal Enfield Classic Gunmetal Grey",
                                    "1": "140000",
                                    "2": "2018",
                                    "3": "Individual",
                                    "4": "1st owner",
                                    "5": "22000",
                                    "6": "148114"
                                },
                                {
                                    "0": "TVS Scooty Zest 110",
                                    "1": "30000",
                                    "2": "2017",
                                    "3": "Individual",
                                    "4": "1st owner",
                                    "5": "9432",
                                    "6": "53751"
                                },
                                {
                                    "0": "Hero CD Deluxe",
                                    "1": "25000",
                                    "2": "2014",
                                    "3": "Individual",
                                    "4": "1st owner",
                                    "5": "70000",
                                    "6": "NULL"
                                },
                                {
                                    "0": "Suzuki Access 125 [2007-2016]",
                                    "1": "22000",
                                    "2": "2010",
                                    "3": "Individual",
                                    "4": "2nd owner",
                                    "5": "43000",
                                    "6": "58314"
                                },
                                {
                                    "0": "Honda Activa [2000-2015]",
                                    "1": "22989",
                                    "2": "2012",
                                    "3": "Individual",
                                    "4": "1st owner",
                                    "5": "500000",
                                    "6": "50267"
                                },
                                {
                                    "0": "Honda Activa 125 [2016-2017]",
                                    "1": "42000",
                                    "2": "2016",
                                    "3": "Individual",
                                    "4": "1st owner",
                                    "5": "30514",
                                    "6": "61653"
                                },
                                {
                                    "0": "Suzuki GS150R",
                                    "1": "30000",
                                    "2": "2010",
                                    "3": "Individual",
                                    "4": "1st owner",
                                    "5": "130000",
                                    "6": "70851"
                                },
                                {
                                    "0": "Bajaj Pulsar 220S",
                                    "1": "55000",
                                    "2": "2015",
                                    "3": "Individual",
                                    "4": "1st owner",
                                    "5": "45000",
                                    "6": "NULL"
                                },
                                {
                                    "0": "Honda Activa 4G",
                                    "1": "45000",
                                    "2": "2018",
                                    "3": "Individual",
                                    "4": "1st owner",
                                    "5": "25000",
                                    "6": "53079"
                                },
                                {
                                    "0": "Yamaha FZ25",
                                    "1": "150000",
                                    "2": "2019",
                                    "3": "Individual",
                                    "4": "1st owner",
                                    "5": "2500",
                                    "6": "133680"
                                },
                                {
                                    "0": "Bajaj Pulsar 150",
                                    "1": "42000",
                                    "2": "2015",
                                    "3": "Individual",
                                    "4": "1st owner",
                                    "5": "22770",
                                    "6": "NULL"
                                },
                                {
                                    "0": "Hero Splendor Plus",
                                    "1": "30000",
                                    "2": "2015",
                                    "3": "Individual",
                                    "4": "1st owner",
                                    "5": "30000",
                                    "6": "NULL"
                                },
                                {
                                    "0": "Bajaj Discover 100",
                                    "1": "24999",
                                    "2": "2012",
                                    "3": "Individual",
                                    "4": "2nd owner",
                                    "5": "35000",
                                    "6": "42859"
                                },
                                {
                                    "0": "Royal Enfield Thunderbird 350X",
                                    "1": "160000",
                                    "2": "2019",
                                    "3": "Individual",
                                    "4": "1st owner",
                                    "5": "6330",
                                    "6": "NULL"
                                },
                                {
                                    "0": "Royal Enfield Classic 350",
                                    "1": "175000",
                                    "2": "2020",
                                    "3": "Individual",
                                    "4": "1st owner",
                                    "5": "500",
                                    "6": "NULL"
                                },
                                {
                                    "0": "Bajaj Pulsar 150",
                                    "1": "40000",
                                    "2": "2013",
                                    "3": "Individual",
                                    "4": "1st owner",
                                    "5": "43400",
                                    "6": "NULL"
                                },
                                {
                                    "0": "Bajaj Pulsar NS160",
                                    "1": "85000",
                                    "2": "2018",
                                    "3": "Individual",
                                    "4": "1st owner",
                                    "5": "7004",
                                    "6": "NULL"
                                },
                                {
                                    "0": "Royal Enfield Classic Desert Storm",
                                    "1": "150000",
                                    "2": "2017",
                                    "3": "Individual",
                                    "4": "1st owner",
                                    "5": "16500",
                                    "6": "181445"
                                },
                                {
                                    "0": "Suzuki Gixxer SF",
                                    "1": "80000",
                                    "2": "2018",
                                    "3": "Individual",
                                    "4": "1st owner",
                                    "5": "12500",
                                    "6": "NULL"
                                },
                                {
                                    "0": "TVS Apache RTR 200 4V",
                                    "1": "95000",
                                    "2": "2018",
                                    "3": "Individual",
                                    "4": "1st owner",
                                    "5": "9600",
                                    "6": "NULL"
                                },
                                {
                                    "0": "Bajaj V15",
                                    "1": "42000",
                                    "2": "2016",
                                    "3": "Individual",
                                    "4": "1st owner",
                                    "5": "35000",
                                    "6": "65626"
                                },
                                {
                                    "0": "TVS XL 100 Heavy Duty",
                                    "1": "40000",
                                    "2": "2019",
                                    "3": "Individual",
                                    "4": "1st owner",
                                    "5": "11000",
                                    "6": "NULL"
                                },
                                {
                                    "0": "Yamaha FZ S V 2.0",
                                    "1": "50000",
                                    "2": "2015",
                                    "3": "Individual",
                                    "4": "1st owner",
                                    "5": "20000",
                                    "6": "84042"
                                },
                                {
                                    "0": "Hero HF Deluxe",
                                    "1": "40000",
                                    "2": "2018",
                                    "3": "Individual",
                                    "4": "1st owner",
                                    "5": "13000",
                                    "6": "NULL"
                                },
                                {
                                    "0": "Aprilia SR 125",
                                    "1": "75000",
                                    "2": "2019",
                                    "3": "Individual",
                                    "4": "1st owner",
                                    "5": "3500",
                                    "6": "NULL"
                                },
                                {
                                    "0": "Yamaha FZ25",
                                    "1": "120000",
                                    "2": "2017",
                                    "3": "Individual",
                                    "4": "1st owner",
                                    "5": "9000",
                                    "6": "132680"
                                },
                                {
                                    "0": "Hero Honda Glamour",
                                    "1": "30000",
                                    "2": "2008",
                                    "3": "Individual",
                                    "4": "1st owner",
                                    "5": "7500",
                                    "6": "NULL"
                                },
                                {
                                    "0": "Bajaj Discover 125 ST",
                                    "1": "17500",
                                    "2": "2013",
                                    "3": "Individual",
                                    "4": "1st owner",
                                    "5": "38000",
                                    "6": "58438"
                                },
                                {
                                    "0": "Hero Honda Passion Plus",
                                    "1": "7500",
                                    "2": "2004",
                                    "3": "Individual",
                                    "4": "1st owner",
                                    "5": "120000",
                                    "6": "NULL"
                                },
                                {
                                    "0": "Honda Aviator",
                                    "1": "57000",
                                    "2": "2018",
                                    "3": "Individual",
                                    "4": "1st owner",
                                    "5": "6465",
                                    "6": "61118"
                                },
                                {
                                    "0": "Vespa SXL 149",
                                    "1": "80000",
                                    "2": "2018",
                                    "3": "Individual",
                                    "4": "1st owner",
                                    "5": "18803",
                                    "6": "NULL"
                                },
                                {
                                    "0": "TVS Scooty Pep Plus",
                                    "1": "18000",
                                    "2": "2010",
                                    "3": "Individual",
                                    "4": "1st owner",
                                    "5": "20000",
                                    "6": "NULL"
                                },
                                {
                                    "0": "Hero Xtreme [2013-2014]",
                                    "1": "25000",
                                    "2": "2013",
                                    "3": "Individual",
                                    "4": "1st owner",
                                    "5": "24000",
                                    "6": "75936"
                                },
                                {
                                    "0": "Royal Enfield Thunderbird 350",
                                    "1": "83900",
                                    "2": "2014",
                                    "3": "Individual",
                                    "4": "2nd owner",
                                    "5": "22000",
                                    "6": "NULL"
                                },
                                {
                                    "0": "UM Renegade Commando",
                                    "1": "160000",
                                    "2": "2018",
                                    "3": "Individual",
                                    "4": "1st owner",
                                    "5": "7000",
                                    "6": "180525"
                                },
                                {
                                    "0": "Royal Enfield Classic Gunmetal Grey",
                                    "1": "135000",
                                    "2": "2018",
                                    "3": "Individual",
                                    "4": "1st owner",
                                    "5": "6100",
                                    "6": "148114"
                                },
                                {
                                    "0": "Honda CB Hornet 160R",
                                    "1": "55000",
                                    "2": "2017",
                                    "3": "Individual",
                                    "4": "1st owner",
                                    "5": "14000",
                                    "6": "87543"
                                },
                                {
                                    "0": "Honda Shine",
                                    "1": "50000",
                                    "2": "2017",
                                    "3": "Individual",
                                    "4": "1st owner",
                                    "5": "23000",
                                    "6": "NULL"
                                },
                                {
                                    "0": "Bajaj Discover 100",
                                    "1": "20000",
                                    "2": "2012",
                                    "3": "Individual",
                                    "4": "1st owner",
                                    "5": "85000",
                                    "6": "42859"
                                },
                                {
                                    "0": "Hero Honda CBZ extreme",
                                    "1": "25000",
                                    "2": "2010",
                                    "3": "Individual",
                                    "4": "1st owner",
                                    "5": "40000",
                                    "6": "NULL"
                                },
                                {
                                    "0": "Royal Enfield Classic 350",
                                    "1": "125000",
                                    "2": "2017",
                                    "3": "Individual",
                                    "4": "1st owner",
                                    "5": "18000",
                                    "6": "NULL"
                                },
                                {
                                    "0": "Honda Activa 5G",
                                    "1": "55000",
                                    "2": "2019",
                                    "3": "Individual",
                                    "4": "1st owner",
                                    "5": "10000",
                                    "6": "57557"
                                },
                                {
                                    "0": "Bajaj Avenger Street 150 [2018]",
                                    "1": "50000",
                                    "2": "2016",
                                    "3": "Individual",
                                    "4": "1st owner",
                                    "5": "40000",
                                    "6": "80435"
                                },
                                {
                                    "0": "Royal Enfield Continental GT 650",
                                    "1": "299000",
                                    "2": "2019",
                                    "3": "Individual",
                                    "4": "1st owner",
                                    "5": "1500",
                                    "6": "NULL"
                                },
                                {
                                    "0": "Honda Activa 3G",
                                    "1": "60000",
                                    "2": "2015",
                                    "3": "Individual",
                                    "4": "1st owner",
                                    "5": "30000",
                                    "6": "54605"
                                },
                                {
                                    "0": "Honda Activa 3G",
                                    "1": "40000",
                                    "2": "2015",
                                    "3": "Individual",
                                    "4": "1st owner",
                                    "5": "3000",
                                    "6": "54605"
                                },
                                {
                                    "0": "Bajaj Pulsar 180",
                                    "1": "15000",
                                    "2": "2008",
                                    "3": "Individual",
                                    "4": "1st owner",
                                    "5": "55000",
                                    "6": "85011"
                                },
                                {
                                    "0": "Harley-Davidson Street Bob",
                                    "1": "750000",
                                    "2": "2013",
                                    "3": "Individual",
                                    "4": "2nd owner",
                                    "5": "12000",
                                    "6": "1278000"
                                },
                                {
                                    "0": "Hero Honda CBZ extreme",
                                    "1": "20000",
                                    "2": "2007",
                                    "3": "Individual",
                                    "4": "1st owner",
                                    "5": "90000",
                                    "6": "NULL"
                                },
                                {
                                    "0": "Royal Enfield Classic Gunmetal Grey",
                                    "1": "190000",
                                    "2": "2020",
                                    "3": "Individual",
                                    "4": "1st owner",
                                    "5": "500",
                                    "6": "155740"
                                },
                                {
                                    "0": "KTM 390 Duke ABS [2013-2016]",
                                    "1": "130000",
                                    "2": "2015",
                                    "3": "Individual",
                                    "4": "1st owner",
                                    "5": "50000",
                                    "6": "202127"
                                },
                                {
                                    "0": "Honda CB Hornet 160R",
                                    "1": "54786",
                                    "2": "2016",
                                    "3": "Individual",
                                    "4": "1st owner",
                                    "5": "25000",
                                    "6": "88161"
                                },
                                {
                                    "0": "KTM 200 Duke",
                                    "1": "72000",
                                    "2": "2013",
                                    "3": "Individual",
                                    "4": "1st owner",
                                    "5": "36500",
                                    "6": "NULL"
                                },
                                {
                                    "0": "Hero Karizma 2014",
                                    "1": "35000",
                                    "2": "2013",
                                    "3": "Individual",
                                    "4": "1st owner",
                                    "5": "26000",
                                    "6": "86744"
                                },
                                {
                                    "0": "Hero Glamour 125",
                                    "1": "45000",
                                    "2": "2017",
                                    "3": "Individual",
                                    "4": "1st owner",
                                    "5": "18000",
                                    "6": "61600"
                                },
                                {
                                    "0": "Royal Enfield Classic 350",
                                    "1": "85000",
                                    "2": "2013",
                                    "3": "Individual",
                                    "4": "1st owner",
                                    "5": "49000",
                                    "6": "NULL"
                                },
                                {
                                    "0": "Royal Enfield Classic 500",
                                    "1": "100000",
                                    "2": "2013",
                                    "3": "Individual",
                                    "4": "1st owner",
                                    "5": "18000",
                                    "6": "156304"
                                },
                                {
                                    "0": "Bajaj Dominar 400",
                                    "1": "138000",
                                    "2": "2017",
                                    "3": "Individual",
                                    "4": "1st owner",
                                    "5": "15000",
                                    "6": "NULL"
                                },
                                {
                                    "0": "Royal Enfield Thunderbird 350X",
                                    "1": "150000",
                                    "2": "2018",
                                    "3": "Individual",
                                    "4": "1st owner",
                                    "5": "8500",
                                    "6": "NULL"
                                },
                                {
                                    "0": "KTM RC 390",
                                    "1": "180000",
                                    "2": "2017",
                                    "3": "Individual",
                                    "4": "1st owner",
                                    "5": "3775",
                                    "6": "NULL"
                                },
                                {
                                    "0": "Royal Enfield Thunderbird 350",
                                    "1": "100000",
                                    "2": "2015",
                                    "3": "Individual",
                                    "4": "1st owner",
                                    "5": "14500",
                                    "6": "NULL"
                                },
                                {
                                    "0": "Hero Hunk",
                                    "1": "20000",
                                    "2": "2010",
                                    "3": "Individual",
                                    "4": "1st owner",
                                    "5": "35000",
                                    "6": "78513"
                                },
                                {
                                    "0": "KTM 390 Duke",
                                    "1": "170000",
                                    "2": "2017",
                                    "3": "Individual",
                                    "4": "1st owner",
                                    "5": "14000",
                                    "6": "NULL"
                                },
                                {
                                    "0": "Suzuki Gixxer [2014-2018]",
                                    "1": "60000",
                                    "2": "2016",
                                    "3": "Individual",
                                    "4": "1st owner",
                                    "5": "16000",
                                    "6": "84246"
                                },
                                {
                                    "0": "Royal Enfield Bullet 350",
                                    "1": "123000",
                                    "2": "2016",
                                    "3": "Individual",
                                    "4": "1st owner",
                                    "5": "7000",
                                    "6": "NULL"
                                },
                                {
                                    "0": "Suzuki Access 125",
                                    "1": "60000",
                                    "2": "2017",
                                    "3": "Individual",
                                    "4": "1st owner",
                                    "5": "4000",
                                    "6": "NULL"
                                },
                                {
                                    "0": "TVS Apache RTR 200 4V",
                                    "1": "100000",
                                    "2": "2017",
                                    "3": "Individual",
                                    "4": "1st owner",
                                    "5": "45000",
                                    "6": "NULL"
                                },
                                {
                                    "0": "Hero Xtreme Sports",
                                    "1": "22000",
                                    "2": "2014",
                                    "3": "Individual",
                                    "4": "1st owner",
                                    "5": "99000",
                                    "6": "78350"
                                },
                                {
                                    "0": "Honda Activa [2000-2015]",
                                    "1": "30000",
                                    "2": "2014",
                                    "3": "Individual",
                                    "4": "1st owner",
                                    "5": "52000",
                                    "6": "50267"
                                },
                                {
                                    "0": "Bajaj Discover 125",
                                    "1": "28000",
                                    "2": "2013",
                                    "3": "Individual",
                                    "4": "1st owner",
                                    "5": "45000",
                                    "6": "60122"
                                },
                                {
                                    "0": "Bajaj Pulsar 150",
                                    "1": "50000",
                                    "2": "2007",
                                    "3": "Individual",
                                    "4": "1st owner",
                                    "5": "52000",
                                    "6": "NULL"
                                },
                                {
                                    "0": "Yamaha Saluto RX",
                                    "1": "40000",
                                    "2": "2017",
                                    "3": "Individual",
                                    "4": "1st owner",
                                    "5": "27000",
                                    "6": "49521"
                                },
                                {
                                    "0": "Hero HF Deluxe",
                                    "1": "43000",
                                    "2": "2018",
                                    "3": "Individual",
                                    "4": "1st owner",
                                    "5": "60000",
                                    "6": "NULL"
                                },
                                {
                                    "0": "Suzuki Access 125",
                                    "1": "40000",
                                    "2": "2015",
                                    "3": "Individual",
                                    "4": "1st owner",
                                    "5": "2300",
                                    "6": "NULL"
                                },
                                {
                                    "0": "Royal Enfield Classic Desert Storm",
                                    "1": "100000",
                                    "2": "2012",
                                    "3": "Individual",
                                    "4": "1st owner",
                                    "5": "15000",
                                    "6": "181445"
                                },
                                {
                                    "0": "Hero HF Deluxe",
                                    "1": "30000",
                                    "2": "2016",
                                    "3": "Individual",
                                    "4": "1st owner",
                                    "5": "50000",
                                    "6": "NULL"
                                },
                                {
                                    "0": "KTM RC 200",
                                    "1": "130000",
                                    "2": "2017",
                                    "3": "Individual",
                                    "4": "1st owner",
                                    "5": "27000",
                                    "6": "NULL"
                                },
                                {
                                    "0": "Honda CB Hornet 160R",
                                    "1": "48000",
                                    "2": "2016",
                                    "3": "Individual",
                                    "4": "2nd owner",
                                    "5": "25000",
                                    "6": "88161"
                                },
                                {
                                    "0": "Bajaj CT 100",
                                    "1": "32000",
                                    "2": "2017",
                                    "3": "Individual",
                                    "4": "1st owner",
                                    "5": "40000",
                                    "6": "NULL"
                                },
                                {
                                    "0": "Hero Honda Pleasure",
                                    "1": "23000",
                                    "2": "2010",
                                    "3": "Individual",
                                    "4": "1st owner",
                                    "5": "32000",
                                    "6": "NULL"
                                },
                                {
                                    "0": "Bajaj Pulsar 135 LS",
                                    "1": "20000",
                                    "2": "2010",
                                    "3": "Individual",
                                    "4": "2nd owner",
                                    "5": "50000",
                                    "6": "64589"
                                },
                                {
                                    "0": "Royal Enfield Classic 350",
                                    "1": "125000",
                                    "2": "2017",
                                    "3": "Individual",
                                    "4": "1st owner",
                                    "5": "36000",
                                    "6": "NULL"
                                },
                                {
                                    "0": "Honda Navi [2016-2017]",
                                    "1": "23000",
                                    "2": "2016",
                                    "3": "Individual",
                                    "4": "1st owner",
                                    "5": "17450",
                                    "6": "44389"
                                },
                                {
                                    "0": "Bajaj Discover 125",
                                    "1": "15000",
                                    "2": "2011",
                                    "3": "Individual",
                                    "4": "1st owner",
                                    "5": "32000",
                                    "6": "57549"
                                },
                                {
                                    "0": "Yamaha SZ RR V 2.0",
                                    "1": "35000",
                                    "2": "2015",
                                    "3": "Individual",
                                    "4": "1st owner",
                                    "5": "38000",
                                    "6": "69983"
                                },
                                {
                                    "0": "Bajaj Discover 150",
                                    "1": "25000",
                                    "2": "2014",
                                    "3": "Individual",
                                    "4": "2nd owner",
                                    "5": "71000",
                                    "6": "54299"
                                },
                                {
                                    "0": "Bajaj Pulsar 150",
                                    "1": "80000",
                                    "2": "2019",
                                    "3": "Individual",
                                    "4": "1st owner",
                                    "5": "8000",
                                    "6": "NULL"
                                },
                                {
                                    "0": "TVS Flame",
                                    "1": "15000",
                                    "2": "2010",
                                    "3": "Individual",
                                    "4": "1st owner",
                                    "5": "12000",
                                    "6": "NULL"
                                },
                                {
                                    "0": "Vespa VX 125",
                                    "1": "45000",
                                    "2": "2013",
                                    "3": "Individual",
                                    "4": "2nd owner",
                                    "5": "50000",
                                    "6": "72303"
                                },
                                {
                                    "0": "Yamaha SZ X",
                                    "1": "25000",
                                    "2": "2012",
                                    "3": "Individual",
                                    "4": "2nd owner",
                                    "5": "30000",
                                    "6": "65800"
                                },
                                {
                                    "0": "Honda CBF Stunner",
                                    "1": "35000",
                                    "2": "2013",
                                    "3": "Individual",
                                    "4": "1st owner",
                                    "5": "15888",
                                    "6": "58757"
                                },
                                {
                                    "0": "Bajaj Discover 100 T",
                                    "1": "25000",
                                    "2": "2013",
                                    "3": "Individual",
                                    "4": "1st owner",
                                    "5": "26000",
                                    "6": "47032"
                                },
                                {
                                    "0": "Royal Enfield Classic 350",
                                    "1": "170000",
                                    "2": "2018",
                                    "3": "Individual",
                                    "4": "1st owner",
                                    "5": "5600",
                                    "6": "NULL"
                                },
                                {
                                    "0": "Honda Activa [2000-2015]",
                                    "1": "25000",
                                    "2": "2014",
                                    "3": "Individual",
                                    "4": "1st owner",
                                    "5": "41000",
                                    "6": "50267"
                                },
                                {
                                    "0": "Royal Enfield Electra 5 S",
                                    "1": "60000",
                                    "2": "2007",
                                    "3": "Individual",
                                    "4": "2nd owner",
                                    "5": "19612",
                                    "6": "NULL"
                                },
                                {
                                    "0": "Bajaj Pulsar 150",
                                    "1": "41000",
                                    "2": "2012",
                                    "3": "Individual",
                                    "4": "1st owner",
                                    "5": "17000",
                                    "6": "NULL"
                                },
                                {
                                    "0": "Honda Shine",
                                    "1": "35000",
                                    "2": "2012",
                                    "3": "Individual",
                                    "4": "1st owner",
                                    "5": "33700",
                                    "6": "NULL"
                                },
                                {
                                    "0": "Honda CB Unicorn 160",
                                    "1": "75000",
                                    "2": "2015",
                                    "3": "Individual",
                                    "4": "1st owner",
                                    "5": "100000",
                                    "6": "79233"
                                },
                                {
                                    "0": "Honda Activa 3G",
                                    "1": "47999",
                                    "2": "2016",
                                    "3": "Individual",
                                    "4": "1st owner",
                                    "5": "6000",
                                    "6": "54605"
                                },
                                {
                                    "0": "Honda Shine",
                                    "1": "36999",
                                    "2": "2011",
                                    "3": "Individual",
                                    "4": "1st owner",
                                    "5": "21000",
                                    "6": "NULL"
                                },
                                {
                                    "0": "Bajaj Pulsar 180",
                                    "1": "25000",
                                    "2": "2007",
                                    "3": "Individual",
                                    "4": "1st owner",
                                    "5": "80000",
                                    "6": "85011"
                                },
                                {
                                    "0": "Suzuki Gixxer SF",
                                    "1": "60000",
                                    "2": "2016",
                                    "3": "Individual",
                                    "4": "1st owner",
                                    "5": "15000",
                                    "6": "NULL"
                                },
                                {
                                    "0": "Honda CB Unicorn 150",
                                    "1": "50000",
                                    "2": "2007",
                                    "3": "Individual",
                                    "4": "1st owner",
                                    "5": "46000",
                                    "6": "74295"
                                },
                                {
                                    "0": "Yamaha YZF R15 [2011-2018]",
                                    "1": "65000",
                                    "2": "2013",
                                    "3": "Individual",
                                    "4": "1st owner",
                                    "5": "11000",
                                    "6": "118997"
                                },
                                {
                                    "0": "TVS Sport",
                                    "1": "12000",
                                    "2": "2007",
                                    "3": "Individual",
                                    "4": "1st owner",
                                    "5": "72000",
                                    "6": "NULL"
                                },
                                {
                                    "0": "Bajaj Pulsar AS200",
                                    "1": "60000",
                                    "2": "2015",
                                    "3": "Individual",
                                    "4": "1st owner",
                                    "5": "50000",
                                    "6": "92074"
                                },
                                {
                                    "0": "Honda Activa [2000-2015]",
                                    "1": "20000",
                                    "2": "2010",
                                    "3": "Individual",
                                    "4": "1st owner",
                                    "5": "50000",
                                    "6": "50267"
                                },
                                {
                                    "0": "Yamaha FZ16",
                                    "1": "27000",
                                    "2": "2011",
                                    "3": "Individual",
                                    "4": "1st owner",
                                    "5": "67000",
                                    "6": "78712"
                                },
                                {
                                    "0": "Bajaj Boxer",
                                    "1": "10000",
                                    "2": "2000",
                                    "3": "Individual",
                                    "4": "1st owner",
                                    "5": "30000",
                                    "6": "NULL"
                                },
                                {
                                    "0": "Hero Honda Hunk",
                                    "1": "56000",
                                    "2": "2015",
                                    "3": "Individual",
                                    "4": "1st owner",
                                    "5": "48000",
                                    "6": "NULL"
                                },
                                {
                                    "0": "Hero Honda Hunk",
                                    "1": "58000",
                                    "2": "2015",
                                    "3": "Individual",
                                    "4": "1st owner",
                                    "5": "48000",
                                    "6": "NULL"
                                },
                                {
                                    "0": "Bajaj Avenger Cruise 220",
                                    "1": "87000",
                                    "2": "2018",
                                    "3": "Individual",
                                    "4": "1st owner",
                                    "5": "8000",
                                    "6": "NULL"
                                },
                                {
                                    "0": "Yamaha Ray Z",
                                    "1": "35000",
                                    "2": "2015",
                                    "3": "Individual",
                                    "4": "1st owner",
                                    "5": "15500",
                                    "6": "52949"
                                },
                                {
                                    "0": "Bajaj Pulsar 180",
                                    "1": "35000",
                                    "2": "2012",
                                    "3": "Individual",
                                    "4": "1st owner",
                                    "5": "45000",
                                    "6": "85011"
                                },
                                {
                                    "0": "Bajaj Discover 150F",
                                    "1": "40000",
                                    "2": "2014",
                                    "3": "Individual",
                                    "4": "2nd owner",
                                    "5": "60855",
                                    "6": "64071"
                                },
                                {
                                    "0": "Bajaj Pulsar 135 LS",
                                    "1": "56000",
                                    "2": "2017",
                                    "3": "Individual",
                                    "4": "3rd owner",
                                    "5": "37714",
                                    "6": "64589"
                                },
                                {
                                    "0": "Bajaj Pulsar 180",
                                    "1": "30000",
                                    "2": "2008",
                                    "3": "Individual",
                                    "4": "2nd owner",
                                    "5": "60000",
                                    "6": "85011"
                                },
                                {
                                    "0": "Honda Activa 125 [2016-2017]",
                                    "1": "40000",
                                    "2": "2017",
                                    "3": "Individual",
                                    "4": "1st owner",
                                    "5": "26000",
                                    "6": "61545"
                                },
                                {
                                    "0": "Hero HF Deluxe",
                                    "1": "60000",
                                    "2": "2019",
                                    "3": "Individual",
                                    "4": "1st owner",
                                    "5": "6000",
                                    "6": "NULL"
                                },
                                {
                                    "0": "Hero Karizma 2014",
                                    "1": "40000",
                                    "2": "2013",
                                    "3": "Individual",
                                    "4": "1st owner",
                                    "5": "30000",
                                    "6": "86744"
                                },
                                {
                                    "0": "Bajaj Platina 100",
                                    "1": "40000",
                                    "2": "2018",
                                    "3": "Individual",
                                    "4": "1st owner",
                                    "5": "17000",
                                    "6": "NULL"
                                },
                                {
                                    "0": "Royal Enfield Bullet 500",
                                    "1": "130000",
                                    "2": "2015",
                                    "3": "Individual",
                                    "4": "1st owner",
                                    "5": "34601",
                                    "6": "168482"
                                },
                                {
                                    "0": "Bajaj Pulsar AS200",
                                    "1": "45000",
                                    "2": "2015",
                                    "3": "Individual",
                                    "4": "1st owner",
                                    "5": "48000",
                                    "6": "92074"
                                },
                                {
                                    "0": "Yamaha FZ S [2012-2016]",
                                    "1": "42000",
                                    "2": "2013",
                                    "3": "Individual",
                                    "4": "1st owner",
                                    "5": "60000",
                                    "6": "79432"
                                },
                                {
                                    "0": "Bajaj Pulsar 220 Fi",
                                    "1": "25000",
                                    "2": "2012",
                                    "3": "Individual",
                                    "4": "1st owner",
                                    "5": "44000",
                                    "6": "NULL"
                                },
                                {
                                    "0": "Bajaj Pulsar 150",
                                    "1": "15000",
                                    "2": "2006",
                                    "3": "Individual",
                                    "4": "1st owner",
                                    "5": "55000",
                                    "6": "NULL"
                                },
                                {
                                    "0": "Bajaj Dominar 400 [2018]",
                                    "1": "170000",
                                    "2": "2018",
                                    "3": "Individual",
                                    "4": "1st owner",
                                    "5": "16000",
                                    "6": "163331"
                                },
                                {
                                    "0": "Hero Passion X Pro [2016-2017]",
                                    "1": "38000",
                                    "2": "2016",
                                    "3": "Individual",
                                    "4": "2nd owner",
                                    "5": "20000",
                                    "6": "59095"
                                },
                                {
                                    "0": "Yamaha FZ S V 2.0",
                                    "1": "60000",
                                    "2": "2015",
                                    "3": "Individual",
                                    "4": "2nd owner",
                                    "5": "17500",
                                    "6": "84042"
                                },
                                {
                                    "0": "TVS Apache RTR 160",
                                    "1": "65000",
                                    "2": "2017",
                                    "3": "Individual",
                                    "4": "1st owner",
                                    "5": "46000",
                                    "6": "NULL"
                                },
                                {
                                    "0": "Bajaj Avenger [2015]",
                                    "1": "35000",
                                    "2": "2011",
                                    "3": "Individual",
                                    "4": "1st owner",
                                    "5": "30000",
                                    "6": "75502"
                                },
                                {
                                    "0": "Bajaj Pulsar 150",
                                    "1": "70000",
                                    "2": "2019",
                                    "3": "Individual",
                                    "4": "1st owner",
                                    "5": "6500",
                                    "6": "NULL"
                                },
                                {
                                    "0": "Hero Honda Glamour",
                                    "1": "15000",
                                    "2": "2006",
                                    "3": "Individual",
                                    "4": "1st owner",
                                    "5": "80000",
                                    "6": "NULL"
                                },
                                {
                                    "0": "Hero Splendor iSmart",
                                    "1": "50000",
                                    "2": "2017",
                                    "3": "Individual",
                                    "4": "2nd owner",
                                    "5": "10000",
                                    "6": "52271"
                                },
                                {
                                    "0": "Royal Enfield Classic 350",
                                    "1": "145000",
                                    "2": "2017",
                                    "3": "Individual",
                                    "4": "1st owner",
                                    "5": "2200",
                                    "6": "NULL"
                                },
                                {
                                    "0": "Yamaha FZ16",
                                    "1": "25000",
                                    "2": "2008",
                                    "3": "Individual",
                                    "4": "1st owner",
                                    "5": "40000",
                                    "6": "78712"
                                },
                                {
                                    "0": "Hero Xtreme Sports",
                                    "1": "58000",
                                    "2": "2016",
                                    "3": "Individual",
                                    "4": "1st owner",
                                    "5": "21000",
                                    "6": "80350"
                                },
                                {
                                    "0": "Royal Enfield Bullet 350 [2007-2011]",
                                    "1": "90000",
                                    "2": "2007",
                                    "3": "Individual",
                                    "4": "1st owner",
                                    "5": "3500",
                                    "6": "NULL"
                                },
                                {
                                    "0": "Hero Honda Passion",
                                    "1": "9000",
                                    "2": "2002",
                                    "3": "Individual",
                                    "4": "2nd owner",
                                    "5": "66191",
                                    "6": "NULL"
                                },
                                {
                                    "0": "Bajaj Discover 150S",
                                    "1": "40000",
                                    "2": "2014",
                                    "3": "Individual",
                                    "4": "1st owner",
                                    "5": "50000",
                                    "6": "63331"
                                },
                                {
                                    "0": "TVS Scooty Zest 110",
                                    "1": "28000",
                                    "2": "2015",
                                    "3": "Individual",
                                    "4": "1st owner",
                                    "5": "32800",
                                    "6": "52372"
                                },
                                {
                                    "0": "Bajaj Avenger Street 150 [2018]",
                                    "1": "50000",
                                    "2": "2016",
                                    "3": "Individual",
                                    "4": "1st owner",
                                    "5": "32000",
                                    "6": "80435"
                                },
                                {
                                    "0": "Yamaha Cygnus Ray ZR",
                                    "1": "56000",
                                    "2": "2019",
                                    "3": "Individual",
                                    "4": "1st owner",
                                    "5": "3900",
                                    "6": "58630"
                                },
                                {
                                    "0": "Honda Activa [2000-2015]",
                                    "1": "35000",
                                    "2": "2014",
                                    "3": "Individual",
                                    "4": "1st owner",
                                    "5": "10000",
                                    "6": "50267"
                                },
                                {
                                    "0": "TVS Apache RTR 200 4V",
                                    "1": "95000",
                                    "2": "2018",
                                    "3": "Individual",
                                    "4": "1st owner",
                                    "5": "9600",
                                    "6": "NULL"
                                },
                                {
                                    "0": "Honda Shine",
                                    "1": "30000",
                                    "2": "2010",
                                    "3": "Individual",
                                    "4": "1st owner",
                                    "5": "46782",
                                    "6": "NULL"
                                },
                                {
                                    "0": "Honda CB Hornet 160R",
                                    "1": "95000",
                                    "2": "2019",
                                    "3": "Individual",
                                    "4": "1st owner",
                                    "5": "8000",
                                    "6": "94703"
                                },
                                {
                                    "0": "Honda Activa i [2016-2017]",
                                    "1": "40000",
                                    "2": "2017",
                                    "3": "Individual",
                                    "4": "1st owner",
                                    "5": "11000",
                                    "6": "53436"
                                },
                                {
                                    "0": "Hero Karizma 2014",
                                    "1": "30000",
                                    "2": "2014",
                                    "3": "Individual",
                                    "4": "2nd owner",
                                    "5": "51000",
                                    "6": "86744"
                                },
                                {
                                    "0": "Bajaj Discover 100 T",
                                    "1": "18000",
                                    "2": "2013",
                                    "3": "Individual",
                                    "4": "1st owner",
                                    "5": "45000",
                                    "6": "47032"
                                },
                                {
                                    "0": "Honda Aviator",
                                    "1": "14000",
                                    "2": "2008",
                                    "3": "Individual",
                                    "4": "1st owner",
                                    "5": "66000",
                                    "6": "59183"
                                },
                                {
                                    "0": "Hero Splendor Plus",
                                    "1": "17000",
                                    "2": "2010",
                                    "3": "Individual",
                                    "4": "2nd owner",
                                    "5": "50000",
                                    "6": "NULL"
                                },
                                {
                                    "0": "Royal Enfield Thunderbird 350",
                                    "1": "125000",
                                    "2": "2017",
                                    "3": "Individual",
                                    "4": "1st owner",
                                    "5": "23500",
                                    "6": "NULL"
                                },
                                {
                                    "0": "Bajaj CT 110",
                                    "1": "20000",
                                    "2": "2015",
                                    "3": "Individual",
                                    "4": "1st owner",
                                    "5": "25000",
                                    "6": "NULL"
                                },
                                {
                                    "0": "Hero Passion PRO i3s",
                                    "1": "50000",
                                    "2": "2017",
                                    "3": "Individual",
                                    "4": "1st owner",
                                    "5": "41000",
                                    "6": "56925"
                                },
                                {
                                    "0": "KTM RC 390",
                                    "1": "210000",
                                    "2": "2017",
                                    "3": "Individual",
                                    "4": "1st owner",
                                    "5": "12000",
                                    "6": "NULL"
                                },
                                {
                                    "0": "Bajaj Pulsar 220F",
                                    "1": "70000",
                                    "2": "2018",
                                    "3": "Individual",
                                    "4": "1st owner",
                                    "5": "33000",
                                    "6": "NULL"
                                },
                                {
                                    "0": "Hero Maestro Edge",
                                    "1": "40000",
                                    "2": "2017",
                                    "3": "Individual",
                                    "4": "1st owner",
                                    "5": "15000",
                                    "6": "55980"
                                },
                                {
                                    "0": "Bajaj Xcd",
                                    "1": "10000",
                                    "2": "2008",
                                    "3": "Individual",
                                    "4": "1st owner",
                                    "5": "50000",
                                    "6": "NULL"
                                },
                                {
                                    "0": "Bajaj Pulsar 150",
                                    "1": "35000",
                                    "2": "2010",
                                    "3": "Individual",
                                    "4": "1st owner",
                                    "5": "40000",
                                    "6": "NULL"
                                },
                                {
                                    "0": "TVS Centra",
                                    "1": "10000",
                                    "2": "2005",
                                    "3": "Individual",
                                    "4": "1st owner",
                                    "5": "50000",
                                    "6": "NULL"
                                },
                                {
                                    "0": "Honda Activa 3G",
                                    "1": "42000",
                                    "2": "2015",
                                    "3": "Individual",
                                    "4": "1st owner",
                                    "5": "20000",
                                    "6": "54605"
                                },
                                {
                                    "0": "Yamaha FZ16",
                                    "1": "20000",
                                    "2": "2009",
                                    "3": "Individual",
                                    "4": "1st owner",
                                    "5": "50000",
                                    "6": "78712"
                                },
                                {
                                    "0": "Hero Maestro Edge",
                                    "1": "25000",
                                    "2": "2017",
                                    "3": "Individual",
                                    "4": "1st owner",
                                    "5": "55000",
                                    "6": "52790"
                                },
                                {
                                    "0": "Bajaj Discover 125",
                                    "1": "25000",
                                    "2": "2016",
                                    "3": "Individual",
                                    "4": "1st owner",
                                    "5": "70350",
                                    "6": "60122"
                                },
                                {
                                    "0": "Royal Enfield Thunderbird 350X",
                                    "1": "145000",
                                    "2": "2019",
                                    "3": "Individual",
                                    "4": "1st owner",
                                    "5": "2700",
                                    "6": "164004"
                                },
                                {
                                    "0": "Hero Super Splendor",
                                    "1": "50000",
                                    "2": "2016",
                                    "3": "Individual",
                                    "4": "1st owner",
                                    "5": "20000",
                                    "6": "NULL"
                                },
                                {
                                    "0": "TVS Scooty Pep Plus",
                                    "1": "30000",
                                    "2": "2011",
                                    "3": "Individual",
                                    "4": "1st owner",
                                    "5": "20000",
                                    "6": "NULL"
                                },
                                {
                                    "0": "Yamaha FZ V 2.0",
                                    "1": "60000",
                                    "2": "2014",
                                    "3": "Individual",
                                    "4": "1st owner",
                                    "5": "41311",
                                    "6": "81508"
                                },
                                {
                                    "0": "Hero Honda Splendor Plus",
                                    "1": "15000",
                                    "2": "2005",
                                    "3": "Individual",
                                    "4": "1st owner",
                                    "5": "65000",
                                    "6": "NULL"
                                },
                                {
                                    "0": "Hero CD Deluxe",
                                    "1": "15000",
                                    "2": "2014",
                                    "3": "Individual",
                                    "4": "2nd owner",
                                    "5": "34000",
                                    "6": "NULL"
                                },
                                {
                                    "0": "Hero Honda Passion PRO [2012]",
                                    "1": "25000",
                                    "2": "2011",
                                    "3": "Individual",
                                    "4": "1st owner",
                                    "5": "20000",
                                    "6": "NULL"
                                },
                                {
                                    "0": "Hero HF Deluxe i3s",
                                    "1": "54000",
                                    "2": "2019",
                                    "3": "Individual",
                                    "4": "1st owner",
                                    "5": "11000",
                                    "6": "NULL"
                                },
                                {
                                    "0": "Bajaj Xcd",
                                    "1": "25000",
                                    "2": "2007",
                                    "3": "Individual",
                                    "4": "1st owner",
                                    "5": "75000",
                                    "6": "NULL"
                                },
                                {
                                    "0": "Royal Enfield Interceptor 650",
                                    "1": "260000",
                                    "2": "2019",
                                    "3": "Individual",
                                    "4": "1st owner",
                                    "5": "1200",
                                    "6": "NULL"
                                },
                                {
                                    "0": "Honda CBR-250R",
                                    "1": "100000",
                                    "2": "2014",
                                    "3": "Individual",
                                    "4": "1st owner",
                                    "5": "19000",
                                    "6": "199275"
                                },
                                {
                                    "0": "Bajaj Kristal",
                                    "1": "15000",
                                    "2": "2007",
                                    "3": "Individual",
                                    "4": "1st owner",
                                    "5": "30000",
                                    "6": "NULL"
                                },
                                {
                                    "0": "Hero Honda Splendor Plus",
                                    "1": "20000",
                                    "2": "2006",
                                    "3": "Individual",
                                    "4": "1st owner",
                                    "5": "23000",
                                    "6": "NULL"
                                },
                                {
                                    "0": "Honda Dream Yuga",
                                    "1": "35000",
                                    "2": "2014",
                                    "3": "Individual",
                                    "4": "1st owner",
                                    "5": "10000",
                                    "6": "56147"
                                },
                                {
                                    "0": "Yamaha FZ S V 2.0",
                                    "1": "50000",
                                    "2": "2016",
                                    "3": "Individual",
                                    "4": "1st owner",
                                    "5": "40000",
                                    "6": "87042"
                                },
                                {
                                    "0": "Hero Xpulse 200",
                                    "1": "90000",
                                    "2": "2019",
                                    "3": "Individual",
                                    "4": "1st owner",
                                    "5": "8600",
                                    "6": "107500"
                                },
                                {
                                    "0": "Bajaj V15",
                                    "1": "40000",
                                    "2": "2016",
                                    "3": "Individual",
                                    "4": "1st owner",
                                    "5": "45000",
                                    "6": "67187"
                                },
                                {
                                    "0": "Bajaj Avenger Street 220",
                                    "1": "80000",
                                    "2": "2016",
                                    "3": "Individual",
                                    "4": "1st owner",
                                    "5": "7200",
                                    "6": "95955"
                                },
                                {
                                    "0": "Bajaj Discover 135",
                                    "1": "20000",
                                    "2": "2010",
                                    "3": "Individual",
                                    "4": "1st owner",
                                    "5": "31195",
                                    "6": "NULL"
                                },
                                {
                                    "0": "Honda CB Unicorn 150",
                                    "1": "70000",
                                    "2": "2017",
                                    "3": "Individual",
                                    "4": "1st owner",
                                    "5": "18000",
                                    "6": "74295"
                                },
                                {
                                    "0": "Vespa SXL 149",
                                    "1": "98000",
                                    "2": "2019",
                                    "3": "Individual",
                                    "4": "1st owner",
                                    "5": "1000",
                                    "6": "NULL"
                                },
                                {
                                    "0": "Royal Enfield Machismo",
                                    "1": "75000",
                                    "2": "2008",
                                    "3": "Individual",
                                    "4": "2nd owner",
                                    "5": "17000",
                                    "6": "NULL"
                                },
                                {
                                    "0": "Honda CB Shine SP",
                                    "1": "50000",
                                    "2": "2016",
                                    "3": "Individual",
                                    "4": "1st owner",
                                    "5": "46000",
                                    "6": "67214"
                                },
                                {
                                    "0": "Honda CB Unicorn 150",
                                    "1": "40000",
                                    "2": "2014",
                                    "3": "Individual",
                                    "4": "1st owner",
                                    "5": "77592",
                                    "6": "74295"
                                },
                                {
                                    "0": "Honda CB Unicorn 150",
                                    "1": "75000",
                                    "2": "2013",
                                    "3": "Individual",
                                    "4": "1st owner",
                                    "5": "54000",
                                    "6": "74295"
                                },
                                {
                                    "0": "Honda CB Unicorn 150",
                                    "1": "50000",
                                    "2": "2013",
                                    "3": "Individual",
                                    "4": "1st owner",
                                    "5": "17000",
                                    "6": "74295"
                                },
                                {
                                    "0": "Bajaj Pulsar 150",
                                    "1": "60000",
                                    "2": "2014",
                                    "3": "Individual",
                                    "4": "1st owner",
                                    "5": "60000",
                                    "6": "NULL"
                                },
                                {
                                    "0": "TVS Apache RTR 160",
                                    "1": "50000",
                                    "2": "2016",
                                    "3": "Individual",
                                    "4": "1st owner",
                                    "5": "40000",
                                    "6": "NULL"
                                },
                                {
                                    "0": "Honda Dio",
                                    "1": "35000",
                                    "2": "2014",
                                    "3": "Individual",
                                    "4": "1st owner",
                                    "5": "25000",
                                    "6": "NULL"
                                },
                                {
                                    "0": "Royal Enfield Thunderbird 350",
                                    "1": "160000",
                                    "2": "2018",
                                    "3": "Individual",
                                    "4": "1st owner",
                                    "5": "19000",
                                    "6": "NULL"
                                },
                                {
                                    "0": "Hero Maestro",
                                    "1": "25000",
                                    "2": "2015",
                                    "3": "Individual",
                                    "4": "2nd owner",
                                    "5": "40000",
                                    "6": "49412"
                                },
                                {
                                    "0": "Hero Honda CBZ extreme",
                                    "1": "42000",
                                    "2": "2010",
                                    "3": "Individual",
                                    "4": "1st owner",
                                    "5": "51000",
                                    "6": "NULL"
                                },
                                {
                                    "0": "Bajaj Dominar 400",
                                    "1": "200000",
                                    "2": "2019",
                                    "3": "Individual",
                                    "4": "1st owner",
                                    "5": "7600",
                                    "6": "NULL"
                                },
                                {
                                    "0": "Honda Activa 125",
                                    "1": "40000",
                                    "2": "2014",
                                    "3": "Individual",
                                    "4": "1st owner",
                                    "5": "14965",
                                    "6": "NULL"
                                },
                                {
                                    "0": "Royal Enfield Classic Desert Storm",
                                    "1": "130000",
                                    "2": "2015",
                                    "3": "Individual",
                                    "4": "2nd owner",
                                    "5": "25000",
                                    "6": "181445"
                                },
                                {
                                    "0": "KTM 250 Duke",
                                    "1": "195000",
                                    "2": "2019",
                                    "3": "Individual",
                                    "4": "1st owner",
                                    "5": "6000",
                                    "6": "NULL"
                                },
                                {
                                    "0": "KTM RC 390",
                                    "1": "270000",
                                    "2": "2019",
                                    "3": "Individual",
                                    "4": "1st owner",
                                    "5": "2380",
                                    "6": "NULL"
                                },
                                {
                                    "0": "Kawasaki Ninja 650 [2018-2019]",
                                    "1": "425000",
                                    "2": "2017",
                                    "3": "Individual",
                                    "4": "2nd owner",
                                    "5": "13600",
                                    "6": "599000"
                                },
                                {
                                    "0": "TVS Apache RTR 200 4V",
                                    "1": "85000",
                                    "2": "2018",
                                    "3": "Individual",
                                    "4": "1st owner",
                                    "5": "10000",
                                    "6": "NULL"
                                },
                                {
                                    "0": "Kawasaki Ninja 250R",
                                    "1": "125000",
                                    "2": "2010",
                                    "3": "Individual",
                                    "4": "2nd owner",
                                    "5": "21000",
                                    "6": "317934"
                                },
                                {
                                    "0": "TVS Wego",
                                    "1": "45000",
                                    "2": "2018",
                                    "3": "Individual",
                                    "4": "1st owner",
                                    "5": "10000",
                                    "6": "54760"
                                },
                                {
                                    "0": "Honda CBR-250R",
                                    "1": "85000",
                                    "2": "2014",
                                    "3": "Individual",
                                    "4": "2nd owner",
                                    "5": "18600",
                                    "6": "171646"
                                },
                                {
                                    "0": "Bajaj Pulsar NS200",
                                    "1": "85000",
                                    "2": "2018",
                                    "3": "Individual",
                                    "4": "1st owner",
                                    "5": "7750",
                                    "6": "NULL"
                                },
                                {
                                    "0": "Suzuki GSX S750",
                                    "1": "760000",
                                    "2": "2019",
                                    "3": "Individual",
                                    "4": "1st owner",
                                    "5": "2800",
                                    "6": "752020"
                                },
                                {
                                    "0": "Royal Enfield Thunderbird 350",
                                    "1": "100000",
                                    "2": "2015",
                                    "3": "Individual",
                                    "4": "1st owner",
                                    "5": "30000",
                                    "6": "NULL"
                                },
                                {
                                    "0": "Royal Enfield Classic 350",
                                    "1": "95000",
                                    "2": "2015",
                                    "3": "Individual",
                                    "4": "1st owner",
                                    "5": "9800",
                                    "6": "NULL"
                                },
                                {
                                    "0": "Honda CB Shine SP",
                                    "1": "48000",
                                    "2": "2015",
                                    "3": "Individual",
                                    "4": "1st owner",
                                    "5": "25000",
                                    "6": "67469"
                                },
                                {
                                    "0": "Bajaj Avenger Street 150 [2018]",
                                    "1": "40000",
                                    "2": "2016",
                                    "3": "Individual",
                                    "4": "1st owner",
                                    "5": "29689",
                                    "6": "80435"
                                },
                                {
                                    "0": "Honda CBF Stunner",
                                    "1": "37000",
                                    "2": "2014",
                                    "3": "Individual",
                                    "4": "1st owner",
                                    "5": "43000",
                                    "6": "58757"
                                },
                                {
                                    "0": "Bajaj Avenger [2015]",
                                    "1": "38000",
                                    "2": "2014",
                                    "3": "Individual",
                                    "4": "2nd owner",
                                    "5": "28243",
                                    "6": "75502"
                                },
                                {
                                    "0": "Suzuki Gixxer [2014-2018]",
                                    "1": "55000",
                                    "2": "2015",
                                    "3": "Individual",
                                    "4": "1st owner",
                                    "5": "25000",
                                    "6": "78316"
                                },
                                {
                                    "0": "Suzuki Access 125",
                                    "1": "45000",
                                    "2": "2017",
                                    "3": "Individual",
                                    "4": "1st owner",
                                    "5": "22300",
                                    "6": "NULL"
                                },
                                {
                                    "0": "TVS Scooty Streak",
                                    "1": "18000",
                                    "2": "2009",
                                    "3": "Individual",
                                    "4": "2nd owner",
                                    "5": "33595",
                                    "6": "44140"
                                },
                                {
                                    "0": "Royal Enfield Thunderbird 350X",
                                    "1": "140000",
                                    "2": "2018",
                                    "3": "Individual",
                                    "4": "1st owner",
                                    "5": "5505",
                                    "6": "NULL"
                                },
                                {
                                    "0": "Yamaha Rx",
                                    "1": "70000",
                                    "2": "2000",
                                    "3": "Individual",
                                    "4": "3rd owner",
                                    "5": "5000",
                                    "6": "NULL"
                                },
                                {
                                    "0": "Hero Honda Splendor Plus",
                                    "1": "15000",
                                    "2": "2007",
                                    "3": "Individual",
                                    "4": "1st owner",
                                    "5": "30000",
                                    "6": "NULL"
                                },
                                {
                                    "0": "Bajaj Pulsar 125",
                                    "1": "65000",
                                    "2": "2019",
                                    "3": "Individual",
                                    "4": "1st owner",
                                    "5": "16000",
                                    "6": "NULL"
                                },
                                {
                                    "0": "Honda Activa 5G",
                                    "1": "42000",
                                    "2": "2018",
                                    "3": "Individual",
                                    "4": "1st owner",
                                    "5": "22000",
                                    "6": "57557"
                                },
                                {
                                    "0": "Yamaha Fazer Dlx",
                                    "1": "58000",
                                    "2": "2012",
                                    "3": "Individual",
                                    "4": "1st owner",
                                    "5": "40000",
                                    "6": "NULL"
                                },
                                {
                                    "0": "Harley-Davidson Street 750",
                                    "1": "330000",
                                    "2": "2014",
                                    "3": "Individual",
                                    "4": "4th owner",
                                    "5": "6500",
                                    "6": "534000"
                                },
                                {
                                    "0": "Hero Xtreme 2014",
                                    "1": "35000",
                                    "2": "2013",
                                    "3": "Individual",
                                    "4": "1st owner",
                                    "5": "15000",
                                    "6": "72973"
                                },
                                {
                                    "0": "Royal Enfield Classic 350",
                                    "1": "162000",
                                    "2": "2018",
                                    "3": "Individual",
                                    "4": "1st owner",
                                    "5": "17365",
                                    "6": "NULL"
                                },
                                {
                                    "0": "Hero Honda Hunk",
                                    "1": "28000",
                                    "2": "2009",
                                    "3": "Individual",
                                    "4": "1st owner",
                                    "5": "40000",
                                    "6": "NULL"
                                },
                                {
                                    "0": "Royal Enfield Interceptor 650",
                                    "1": "285000",
                                    "2": "2019",
                                    "3": "Individual",
                                    "4": "1st owner",
                                    "5": "5500",
                                    "6": "NULL"
                                },
                                {
                                    "0": "Royal Enfield Classic 350",
                                    "1": "125000",
                                    "2": "2017",
                                    "3": "Individual",
                                    "4": "1st owner",
                                    "5": "33900",
                                    "6": "NULL"
                                },
                                {
                                    "0": "Bajaj Pulsar 150 [2001-2011]",
                                    "1": "15000",
                                    "2": "2005",
                                    "3": "Individual",
                                    "4": "1st owner",
                                    "5": "47670",
                                    "6": "NULL"
                                },
                                {
                                    "0": "Honda Activa [2000-2015]",
                                    "1": "29500",
                                    "2": "2013",
                                    "3": "Individual",
                                    "4": "1st owner",
                                    "5": "45000",
                                    "6": "50267"
                                },
                                {
                                    "0": "TVS Apache RR310",
                                    "1": "200000",
                                    "2": "2019",
                                    "3": "Individual",
                                    "4": "1st owner",
                                    "5": "5000",
                                    "6": "NULL"
                                },
                                {
                                    "0": "Jawa Standard",
                                    "1": "160000",
                                    "2": "2019",
                                    "3": "Individual",
                                    "4": "1st owner",
                                    "5": "5700",
                                    "6": "NULL"
                                },
                                {
                                    "0": "Hero Honda Splendor PRO",
                                    "1": "30000",
                                    "2": "2012",
                                    "3": "Individual",
                                    "4": "1st owner",
                                    "5": "22866",
                                    "6": "NULL"
                                },
                                {
                                    "0": "Yamaha FZ25",
                                    "1": "110000",
                                    "2": "2019",
                                    "3": "Individual",
                                    "4": "1st owner",
                                    "5": "10000",
                                    "6": "133680"
                                },
                                {
                                    "0": "Bajaj Pulsar 220F",
                                    "1": "70000",
                                    "2": "2016",
                                    "3": "Individual",
                                    "4": "1st owner",
                                    "5": "31000",
                                    "6": "NULL"
                                },
                                {
                                    "0": "Yamaha Fascino 110",
                                    "1": "69000",
                                    "2": "2019",
                                    "3": "Individual",
                                    "4": "1st owner",
                                    "5": "1600",
                                    "6": "57112"
                                },
                                {
                                    "0": "Yamaha FZ16",
                                    "1": "30000",
                                    "2": "2011",
                                    "3": "Individual",
                                    "4": "1st owner",
                                    "5": "44000",
                                    "6": "78712"
                                },
                                {
                                    "0": "Yamaha FZ16",
                                    "1": "30000",
                                    "2": "2010",
                                    "3": "Individual",
                                    "4": "1st owner",
                                    "5": "70000",
                                    "6": "78712"
                                },
                                {
                                    "0": "TVS Star City Plus",
                                    "1": "42000",
                                    "2": "2017",
                                    "3": "Individual",
                                    "4": "1st owner",
                                    "5": "21000",
                                    "6": "NULL"
                                },
                                {
                                    "0": "Royal Enfield Classic 350",
                                    "1": "160000",
                                    "2": "2018",
                                    "3": "Individual",
                                    "4": "1st owner",
                                    "5": "17365",
                                    "6": "NULL"
                                },
                                {
                                    "0": "Bajaj Pulsar 135 LS",
                                    "1": "20000",
                                    "2": "2010",
                                    "3": "Individual",
                                    "4": "1st owner",
                                    "5": "80000",
                                    "6": "64589"
                                },
                                {
                                    "0": "Suzuki Access 125",
                                    "1": "45000",
                                    "2": "2017",
                                    "3": "Individual",
                                    "4": "1st owner",
                                    "5": "15000",
                                    "6": "NULL"
                                },
                                {
                                    "0": "Bajaj Pulsar 135 LS",
                                    "1": "23000",
                                    "2": "2010",
                                    "3": "Individual",
                                    "4": "1st owner",
                                    "5": "77000",
                                    "6": "64589"
                                },
                                {
                                    "0": "UM Renegade Commando",
                                    "1": "140000",
                                    "2": "2017",
                                    "3": "Individual",
                                    "4": "2nd owner",
                                    "5": "40000",
                                    "6": "180525"
                                },
                                {
                                    "0": "Hero Honda Splendor Plus",
                                    "1": "12000",
                                    "2": "2005",
                                    "3": "Individual",
                                    "4": "1st owner",
                                    "5": "48000",
                                    "6": "NULL"
                                },
                                {
                                    "0": "Hero Passion PRO i3s",
                                    "1": "50000",
                                    "2": "2017",
                                    "3": "Individual",
                                    "4": "1st owner",
                                    "5": "18000",
                                    "6": "56925"
                                },
                                {
                                    "0": "Royal Enfield Classic 350",
                                    "1": "140000",
                                    "2": "2018",
                                    "3": "Individual",
                                    "4": "1st owner",
                                    "5": "20000",
                                    "6": "NULL"
                                },
                                {
                                    "0": "Honda Activa 5G",
                                    "1": "55000",
                                    "2": "2019",
                                    "3": "Individual",
                                    "4": "1st owner",
                                    "5": "9000",
                                    "6": "59422"
                                },
                                {
                                    "0": "Yamaha Fascino 110",
                                    "1": "45000",
                                    "2": "2016",
                                    "3": "Individual",
                                    "4": "1st owner",
                                    "5": "56000",
                                    "6": "54500"
                                },
                                {
                                    "0": "Hero Splendor Plus",
                                    "1": "25000",
                                    "2": "2012",
                                    "3": "Individual",
                                    "4": "1st owner",
                                    "5": "50000",
                                    "6": "NULL"
                                },
                                {
                                    "0": "Royal Enfield Thunderbird 350",
                                    "1": "90000",
                                    "2": "2014",
                                    "3": "Individual",
                                    "4": "1st owner",
                                    "5": "12000",
                                    "6": "NULL"
                                },
                                {
                                    "0": "Yamaha YZF R15 V3",
                                    "1": "120000",
                                    "2": "2018",
                                    "3": "Individual",
                                    "4": "1st owner",
                                    "5": "11500",
                                    "6": "NULL"
                                },
                                {
                                    "0": "KTM RC 200",
                                    "1": "120000",
                                    "2": "2015",
                                    "3": "Individual",
                                    "4": "1st owner",
                                    "5": "20000",
                                    "6": "NULL"
                                },
                                {
                                    "0": "TVS Radeon",
                                    "1": "35000",
                                    "2": "2017",
                                    "3": "Individual",
                                    "4": "1st owner",
                                    "5": "20000",
                                    "6": "66492"
                                },
                                {
                                    "0": "Hero HF Deluxe",
                                    "1": "35000",
                                    "2": "2017",
                                    "3": "Individual",
                                    "4": "1st owner",
                                    "5": "27000",
                                    "6": "NULL"
                                },
                                {
                                    "0": "BMW G310GS",
                                    "1": "300000",
                                    "2": "2018",
                                    "3": "Individual",
                                    "4": "1st owner",
                                    "5": "2500",
                                    "6": "349000"
                                },
                                {
                                    "0": "Royal Enfield Thunderbird 350",
                                    "1": "87000",
                                    "2": "2012",
                                    "3": "Individual",
                                    "4": "1st owner",
                                    "5": "20477",
                                    "6": "NULL"
                                },
                                {
                                    "0": "Hero Honda Splendor Plus",
                                    "1": "18000",
                                    "2": "2010",
                                    "3": "Individual",
                                    "4": "1st owner",
                                    "5": "35700",
                                    "6": "NULL"
                                },
                                {
                                    "0": "Yamaha FZ S V 2.0",
                                    "1": "50000",
                                    "2": "2014",
                                    "3": "Individual",
                                    "4": "1st owner",
                                    "5": "70000",
                                    "6": "84042"
                                },
                                {
                                    "0": "Bajaj Avenger Street 220",
                                    "1": "60000",
                                    "2": "2016",
                                    "3": "Individual",
                                    "4": "1st owner",
                                    "5": "29000",
                                    "6": "95955"
                                },
                                {
                                    "0": "Hero Honda Splendor Plus",
                                    "1": "15000",
                                    "2": "2004",
                                    "3": "Individual",
                                    "4": "1st owner",
                                    "5": "14500",
                                    "6": "NULL"
                                },
                                {
                                    "0": "Bajaj Platina 100",
                                    "1": "30000",
                                    "2": "2018",
                                    "3": "Individual",
                                    "4": "1st owner",
                                    "5": "37000",
                                    "6": "NULL"
                                },
                                {
                                    "0": "Royal Enfield Thunderbird 350X",
                                    "1": "160000",
                                    "2": "2018",
                                    "3": "Individual",
                                    "4": "1st owner",
                                    "5": "3246",
                                    "6": "NULL"
                                },
                                {
                                    "0": "Honda CB Unicorn 150",
                                    "1": "50000",
                                    "2": "2016",
                                    "3": "Individual",
                                    "4": "1st owner",
                                    "5": "27000",
                                    "6": "74295"
                                },
                                {
                                    "0": "Suzuki Gixxer [2014-2018]",
                                    "1": "62000",
                                    "2": "2017",
                                    "3": "Individual",
                                    "4": "1st owner",
                                    "5": "15000",
                                    "6": "78316"
                                },
                                {
                                    "0": "Bajaj Platina 100",
                                    "1": "45000",
                                    "2": "2019",
                                    "3": "Individual",
                                    "4": "1st owner",
                                    "5": "15000",
                                    "6": "NULL"
                                },
                                {
                                    "0": "Royal Enfield Thunderbird 350",
                                    "1": "120000",
                                    "2": "2017",
                                    "3": "Individual",
                                    "4": "1st owner",
                                    "5": "4050",
                                    "6": "NULL"
                                },
                                {
                                    "0": "Royal Enfield Thunderbird 500",
                                    "1": "125000",
                                    "2": "2014",
                                    "3": "Individual",
                                    "4": "1st owner",
                                    "5": "25000",
                                    "6": "190874"
                                },
                                {
                                    "0": "Bajaj Pulsar AS150",
                                    "1": "50000",
                                    "2": "2015",
                                    "3": "Individual",
                                    "4": "1st owner",
                                    "5": "5000",
                                    "6": "80821"
                                },
                                {
                                    "0": "Bajaj Pulsar 150",
                                    "1": "30000",
                                    "2": "2012",
                                    "3": "Individual",
                                    "4": "2nd owner",
                                    "5": "5000",
                                    "6": "NULL"
                                },
                                {
                                    "0": "Hero Pleasure",
                                    "1": "40000",
                                    "2": "2014",
                                    "3": "Individual",
                                    "4": "1st owner",
                                    "5": "14000",
                                    "6": "51600"
                                },
                                {
                                    "0": "Honda Aviator",
                                    "1": "41000",
                                    "2": "2013",
                                    "3": "Individual",
                                    "4": "1st owner",
                                    "5": "36500",
                                    "6": "63537"
                                },
                                {
                                    "0": "Royal Enfield Thunderbird 350",
                                    "1": "120000",
                                    "2": "2017",
                                    "3": "Individual",
                                    "4": "2nd owner",
                                    "5": "9000",
                                    "6": "NULL"
                                },
                                {
                                    "0": "Hero Ignitor",
                                    "1": "35000",
                                    "2": "2014",
                                    "3": "Individual",
                                    "4": "1st owner",
                                    "5": "33200",
                                    "6": "67722"
                                },
                                {
                                    "0": "Hero Honda CD100SS",
                                    "1": "10000",
                                    "2": "1997",
                                    "3": "Individual",
                                    "4": "1st owner",
                                    "5": "646000",
                                    "6": "NULL"
                                },
                                {
                                    "0": "TVS Apache RTR 160",
                                    "1": "35000",
                                    "2": "2011",
                                    "3": "Individual",
                                    "4": "1st owner",
                                    "5": "25000",
                                    "6": "NULL"
                                },
                                {
                                    "0": "Hero Achiever 150",
                                    "1": "38000",
                                    "2": "2017",
                                    "3": "Individual",
                                    "4": "1st owner",
                                    "5": "26000",
                                    "6": "69750"
                                },
                                {
                                    "0": "Vespa LX 125",
                                    "1": "50000",
                                    "2": "2015",
                                    "3": "Individual",
                                    "4": "1st owner",
                                    "5": "3909",
                                    "6": "77900"
                                },
                                {
                                    "0": "Honda Activa 3G",
                                    "1": "40000",
                                    "2": "2015",
                                    "3": "Individual",
                                    "4": "1st owner",
                                    "5": "7672",
                                    "6": "54605"
                                },
                                {
                                    "0": "Hero Splendor Plus i3s",
                                    "1": "70000",
                                    "2": "2019",
                                    "3": "Individual",
                                    "4": "1st owner",
                                    "5": "3000",
                                    "6": "55600"
                                },
                                {
                                    "0": "Royal Enfield Classic 350",
                                    "1": "140000",
                                    "2": "2016",
                                    "3": "Individual",
                                    "4": "1st owner",
                                    "5": "3654",
                                    "6": "NULL"
                                },
                                {
                                    "0": "Hero Maestro",
                                    "1": "26500",
                                    "2": "2016",
                                    "3": "Individual",
                                    "4": "2nd owner",
                                    "5": "40000",
                                    "6": "53830"
                                },
                                {
                                    "0": "Hero Glamour 125",
                                    "1": "38000",
                                    "2": "2016",
                                    "3": "Dealer",
                                    "4": "1st owner",
                                    "5": "5500",
                                    "6": "61600"
                                },
                                {
                                    "0": "Yamaha FZ16",
                                    "1": "60000",
                                    "2": "2016",
                                    "3": "Individual",
                                    "4": "1st owner",
                                    "5": "29950",
                                    "6": "78712"
                                },
                                {
                                    "0": "Royal Enfield Himalayan",
                                    "1": "145000",
                                    "2": "2017",
                                    "3": "Individual",
                                    "4": "1st owner",
                                    "5": "14000",
                                    "6": "NULL"
                                },
                                {
                                    "0": "Yamaha FZ S V 2.0",
                                    "1": "78000",
                                    "2": "2017",
                                    "3": "Individual",
                                    "4": "1st owner",
                                    "5": "26100",
                                    "6": "84480"
                                },
                                {
                                    "0": "Hero Maestro Edge",
                                    "1": "58000",
                                    "2": "2018",
                                    "3": "Individual",
                                    "4": "1st owner",
                                    "5": "6000",
                                    "6": "54580"
                                },
                                {
                                    "0": "Yamaha FZ25",
                                    "1": "130000",
                                    "2": "2017",
                                    "3": "Individual",
                                    "4": "1st owner",
                                    "5": "4000",
                                    "6": "132680"
                                },
                                {
                                    "0": "TVS Victor",
                                    "1": "20000",
                                    "2": "2001",
                                    "3": "Individual",
                                    "4": "1st owner",
                                    "5": "50000",
                                    "6": "54852"
                                },
                                {
                                    "0": "Bajaj Dominar 400 [2018]",
                                    "1": "150000",
                                    "2": "2018",
                                    "3": "Individual",
                                    "4": "1st owner",
                                    "5": "5475",
                                    "6": "163331"
                                },
                                {
                                    "0": "Bajaj Pulsar 180",
                                    "1": "32000",
                                    "2": "2012",
                                    "3": "Individual",
                                    "4": "1st owner",
                                    "5": "40000",
                                    "6": "85011"
                                },
                                {
                                    "0": "Bajaj Pulsar 180",
                                    "1": "50000",
                                    "2": "2017",
                                    "3": "Individual",
                                    "4": "1st owner",
                                    "5": "20500",
                                    "6": "85011"
                                },
                                {
                                    "0": "KTM 200 Duke",
                                    "1": "120000",
                                    "2": "2017",
                                    "3": "Individual",
                                    "4": "1st owner",
                                    "5": "4100",
                                    "6": "NULL"
                                },
                                {
                                    "0": "Bajaj Avenger Street 150 [2018]",
                                    "1": "60000",
                                    "2": "2016",
                                    "3": "Individual",
                                    "4": "2nd owner",
                                    "5": "23097",
                                    "6": "80435"
                                },
                                {
                                    "0": "Bajaj Discover 100 M",
                                    "1": "20000",
                                    "2": "2011",
                                    "3": "Individual",
                                    "4": "1st owner",
                                    "5": "37734",
                                    "6": "44756"
                                },
                                {
                                    "0": "Royal Enfield Bullet 350 [2007-2011]",
                                    "1": "65000",
                                    "2": "2011",
                                    "3": "Individual",
                                    "4": "2nd owner",
                                    "5": "65000",
                                    "6": "NULL"
                                },
                                {
                                    "0": "Yamaha YZF R15 S",
                                    "1": "70000",
                                    "2": "2016",
                                    "3": "Individual",
                                    "4": "1st owner",
                                    "5": "8000",
                                    "6": "117926"
                                },
                                {
                                    "0": "Yamaha FZ V 2.0",
                                    "1": "35000",
                                    "2": "2014",
                                    "3": "Individual",
                                    "4": "1st owner",
                                    "5": "13500",
                                    "6": "81508"
                                },
                                {
                                    "0": "Bajaj Avenger Street 220",
                                    "1": "95000",
                                    "2": "2018",
                                    "3": "Individual",
                                    "4": "1st owner",
                                    "5": "23000",
                                    "6": "95955"
                                },
                                {
                                    "0": "Bajaj Pulsar 150",
                                    "1": "8000",
                                    "2": "2005",
                                    "3": "Individual",
                                    "4": "1st owner",
                                    "5": "58000",
                                    "6": "NULL"
                                },
                                {
                                    "0": "Royal Enfield Thunderbird 350",
                                    "1": "85000",
                                    "2": "2010",
                                    "3": "Individual",
                                    "4": "1st owner",
                                    "5": "15000",
                                    "6": "NULL"
                                },
                                {
                                    "0": "Hero Achiever 150",
                                    "1": "65000",
                                    "2": "2016",
                                    "3": "Individual",
                                    "4": "1st owner",
                                    "5": "29000",
                                    "6": "69750"
                                },
                                {
                                    "0": "Hero Passion Pro 110",
                                    "1": "39000",
                                    "2": "2013",
                                    "3": "Individual",
                                    "4": "1st owner",
                                    "5": "20000",
                                    "6": "NULL"
                                },
                                {
                                    "0": "Hero Duet",
                                    "1": "45000",
                                    "2": "2017",
                                    "3": "Individual",
                                    "4": "1st owner",
                                    "5": "35000",
                                    "6": "50280"
                                },
                                {
                                    "0": "Bajaj Avenger Street 150 [2018]",
                                    "1": "60000",
                                    "2": "2016",
                                    "3": "Individual",
                                    "4": "1st owner",
                                    "5": "45137",
                                    "6": "80435"
                                },
                                {
                                    "0": "Royal Enfield Classic Stealth Black",
                                    "1": "160000",
                                    "2": "2018",
                                    "3": "Individual",
                                    "4": "1st owner",
                                    "5": "7500",
                                    "6": "204977"
                                },
                                {
                                    "0": "Bajaj Pulsar 150",
                                    "1": "35000",
                                    "2": "2011",
                                    "3": "Individual",
                                    "4": "1st owner",
                                    "5": "35600",
                                    "6": "NULL"
                                },
                                {
                                    "0": "Bajaj Pulsar 135 LS",
                                    "1": "40000",
                                    "2": "2018",
                                    "3": "Individual",
                                    "4": "1st owner",
                                    "5": "15000",
                                    "6": "64589"
                                },
                                {
                                    "0": "Yamaha Fazer [2009-2016]",
                                    "1": "40000",
                                    "2": "2012",
                                    "3": "Individual",
                                    "4": "1st owner",
                                    "5": "7353",
                                    "6": "84751"
                                },
                                {
                                    "0": "Honda CB Hornet 160R",
                                    "1": "56000",
                                    "2": "2017",
                                    "3": "Individual",
                                    "4": "2nd owner",
                                    "5": "13200",
                                    "6": "87543"
                                },
                                {
                                    "0": "Honda CB Unicorn Dazzler",
                                    "1": "22000",
                                    "2": "2011",
                                    "3": "Individual",
                                    "4": "1st owner",
                                    "5": "38350",
                                    "6": "71757"
                                },
                                {
                                    "0": "Yamaha YBR 125",
                                    "1": "36000",
                                    "2": "2014",
                                    "3": "Individual",
                                    "4": "1st owner",
                                    "5": "20400",
                                    "6": "54593"
                                },
                                {
                                    "0": "Suzuki Intruder 150 Fi",
                                    "1": "100000",
                                    "2": "2018",
                                    "3": "Individual",
                                    "4": "1st owner",
                                    "5": "14500",
                                    "6": "110240"
                                },
                                {
                                    "0": "Bajaj V15",
                                    "1": "42000",
                                    "2": "2016",
                                    "3": "Individual",
                                    "4": "1st owner",
                                    "5": "19500",
                                    "6": "67187"
                                },
                                {
                                    "0": "Royal Enfield Electra 5 S",
                                    "1": "85000",
                                    "2": "2008",
                                    "3": "Individual",
                                    "4": "1st owner",
                                    "5": "20000",
                                    "6": "NULL"
                                },
                                {
                                    "0": "Hero Passion PRO TR",
                                    "1": "45000",
                                    "2": "2014",
                                    "3": "Individual",
                                    "4": "1st owner",
                                    "5": "36000",
                                    "6": "54586"
                                },
                                {
                                    "0": "Yamaha FZ25",
                                    "1": "145000",
                                    "2": "2019",
                                    "3": "Individual",
                                    "4": "1st owner",
                                    "5": "4500",
                                    "6": "133680"
                                },
                                {
                                    "0": "Hero Karizma [2003-2014]",
                                    "1": "50000",
                                    "2": "2013",
                                    "3": "Individual",
                                    "4": "1st owner",
                                    "5": "38000",
                                    "6": "85766"
                                },
                                {
                                    "0": "Royal Enfield Interceptor 650",
                                    "1": "270000",
                                    "2": "2019",
                                    "3": "Individual",
                                    "4": "1st owner",
                                    "5": "9000",
                                    "6": "NULL"
                                },
                                {
                                    "0": "Royal Enfield Thunderbird 350",
                                    "1": "60000",
                                    "2": "2006",
                                    "3": "Individual",
                                    "4": "1st owner",
                                    "5": "40000",
                                    "6": "NULL"
                                },
                                {
                                    "0": "Royal Enfield Classic Squadron Blue",
                                    "1": "140000",
                                    "2": "2017",
                                    "3": "Individual",
                                    "4": "1st owner",
                                    "5": "25000",
                                    "6": "181445"
                                },
                                {
                                    "0": "Hero Honda Splendor Plus",
                                    "1": "28000",
                                    "2": "2008",
                                    "3": "Individual",
                                    "4": "1st owner",
                                    "5": "70889",
                                    "6": "NULL"
                                },
                                {
                                    "0": "KTM 390 Duke ABS [2013-2016]",
                                    "1": "180000",
                                    "2": "2015",
                                    "3": "Individual",
                                    "4": "2nd owner",
                                    "5": "13125",
                                    "6": "202127"
                                },
                                {
                                    "0": "Bajaj Pulsar 180",
                                    "1": "42000",
                                    "2": "2014",
                                    "3": "Individual",
                                    "4": "2nd owner",
                                    "5": "19600",
                                    "6": "85011"
                                },
                                {
                                    "0": "Suzuki Access 125 [2007-2016]",
                                    "1": "16000",
                                    "2": "2011",
                                    "3": "Individual",
                                    "4": "1st owner",
                                    "5": "40000",
                                    "6": "58314"
                                },
                                {
                                    "0": "Hero Splendor iSmart",
                                    "1": "40000",
                                    "2": "2015",
                                    "3": "Individual",
                                    "4": "1st owner",
                                    "5": "19055",
                                    "6": "52271"
                                },
                                {
                                    "0": "Bajaj Pulsar 180",
                                    "1": "38000",
                                    "2": "2012",
                                    "3": "Individual",
                                    "4": "2nd owner",
                                    "5": "57000",
                                    "6": "85011"
                                },
                                {
                                    "0": "Yamaha YZF R15 S",
                                    "1": "85000",
                                    "2": "2017",
                                    "3": "Individual",
                                    "4": "1st owner",
                                    "5": "13000",
                                    "6": "117926"
                                },
                                {
                                    "0": "Honda Aviator",
                                    "1": "28000",
                                    "2": "2013",
                                    "3": "Individual",
                                    "4": "1st owner",
                                    "5": "28087",
                                    "6": "63537"
                                },
                                {
                                    "0": "KTM 200 Duke",
                                    "1": "135000",
                                    "2": "2018",
                                    "3": "Individual",
                                    "4": "1st owner",
                                    "5": "24000",
                                    "6": "NULL"
                                },
                                {
                                    "0": "Royal Enfield Thunderbird 350",
                                    "1": "120000",
                                    "2": "2016",
                                    "3": "Individual",
                                    "4": "1st owner",
                                    "5": "24600",
                                    "6": "NULL"
                                },
                                {
                                    "0": "Hero Karizma ZMR",
                                    "1": "37000",
                                    "2": "2010",
                                    "3": "Individual",
                                    "4": "1st owner",
                                    "5": "27500",
                                    "6": "108000"
                                },
                                {
                                    "0": "Royal Enfield Classic Chrome",
                                    "1": "135000",
                                    "2": "2015",
                                    "3": "Individual",
                                    "4": "1st owner",
                                    "5": "45000",
                                    "6": "189313"
                                },
                                {
                                    "0": "Hero Honda Splendor",
                                    "1": "10000",
                                    "2": "2000",
                                    "3": "Individual",
                                    "4": "1st owner",
                                    "5": "61000",
                                    "6": "NULL"
                                },
                                {
                                    "0": "Mahindra Rodeo",
                                    "1": "20000",
                                    "2": "2013",
                                    "3": "Individual",
                                    "4": "1st owner",
                                    "5": "7000",
                                    "6": "47343"
                                },
                                {
                                    "0": "TVS Apache RTR 160",
                                    "1": "83299",
                                    "2": "2019",
                                    "3": "Individual",
                                    "4": "1st owner",
                                    "5": "6400",
                                    "6": "NULL"
                                },
                                {
                                    "0": "Yamaha Fazer FI V 2.0 [2016-2018]",
                                    "1": "65000",
                                    "2": "2018",
                                    "3": "Individual",
                                    "4": "1st owner",
                                    "5": "3500",
                                    "6": "89643"
                                },
                                {
                                    "0": "Honda Activa 5G",
                                    "1": "50000",
                                    "2": "2018",
                                    "3": "Individual",
                                    "4": "1st owner",
                                    "5": "14000",
                                    "6": "59422"
                                },
                                {
                                    "0": "Bajaj Pulsar 220 Fi",
                                    "1": "65000",
                                    "2": "2013",
                                    "3": "Individual",
                                    "4": "1st owner",
                                    "5": "6409",
                                    "6": "NULL"
                                },
                                {
                                    "0": "Hero Honda Karizma ZMR [2010]",
                                    "1": "45000",
                                    "2": "2012",
                                    "3": "Individual",
                                    "4": "3rd owner",
                                    "5": "44000",
                                    "6": "NULL"
                                },
                                {
                                    "0": "Honda CB Hornet 160R",
                                    "1": "60000",
                                    "2": "2017",
                                    "3": "Individual",
                                    "4": "1st owner",
                                    "5": "16500",
                                    "6": "92210"
                                },
                                {
                                    "0": "Royal Enfield Bullet 350",
                                    "1": "110000",
                                    "2": "2015",
                                    "3": "Individual",
                                    "4": "1st owner",
                                    "5": "36000",
                                    "6": "NULL"
                                },
                                {
                                    "0": "Hero Honda CD Deluxe",
                                    "1": "14700",
                                    "2": "2005",
                                    "3": "Individual",
                                    "4": "2nd owner",
                                    "5": "30000",
                                    "6": "NULL"
                                },
                                {
                                    "0": "Yamaha Saluto",
                                    "1": "38000",
                                    "2": "2015",
                                    "3": "Individual",
                                    "4": "1st owner",
                                    "5": "15000",
                                    "6": "63180"
                                },
                                {
                                    "0": "Suzuki Access 125",
                                    "1": "70000",
                                    "2": "2018",
                                    "3": "Individual",
                                    "4": "1st owner",
                                    "5": "14500",
                                    "6": "NULL"
                                },
                                {
                                    "0": "TVS Sport",
                                    "1": "35000",
                                    "2": "2018",
                                    "3": "Individual",
                                    "4": "1st owner",
                                    "5": "26600",
                                    "6": "NULL"
                                },
                                {
                                    "0": "Hero Honda Glamour",
                                    "1": "19000",
                                    "2": "2012",
                                    "3": "Individual",
                                    "4": "1st owner",
                                    "5": "32000",
                                    "6": "NULL"
                                },
                                {
                                    "0": "KTM 125 Duke",
                                    "1": "130000",
                                    "2": "2019",
                                    "3": "Individual",
                                    "4": "1st owner",
                                    "5": "3500",
                                    "6": "NULL"
                                },
                                {
                                    "0": "Bajaj Pulsar NS200",
                                    "1": "50000",
                                    "2": "2013",
                                    "3": "Dealer",
                                    "4": "1st owner",
                                    "5": "58203",
                                    "6": "NULL"
                                },
                                {
                                    "0": "Bajaj Pulsar 150 [2001-2011]",
                                    "1": "18000",
                                    "2": "2005",
                                    "3": "Individual",
                                    "4": "1st owner",
                                    "5": "21885",
                                    "6": "NULL"
                                },
                                {
                                    "0": "Hero Xtreme 200R",
                                    "1": "87000",
                                    "2": "2019",
                                    "3": "Individual",
                                    "4": "1st owner",
                                    "5": "3200",
                                    "6": "93400"
                                },
                                {
                                    "0": "Hero Honda Splendor Plus",
                                    "1": "40000",
                                    "2": "2007",
                                    "3": "Individual",
                                    "4": "1st owner",
                                    "5": "40000",
                                    "6": "NULL"
                                },
                                {
                                    "0": "Bajaj Discover 150S",
                                    "1": "35000",
                                    "2": "2015",
                                    "3": "Individual",
                                    "4": "1st owner",
                                    "5": "28000",
                                    "6": "63331"
                                },
                                {
                                    "0": "Honda CBR-250R",
                                    "1": "100000",
                                    "2": "2011",
                                    "3": "Individual",
                                    "4": "2nd owner",
                                    "5": "3500",
                                    "6": "171646"
                                },
                                {
                                    "0": "Hero Pleasure",
                                    "1": "30000",
                                    "2": "2013",
                                    "3": "Individual",
                                    "4": "1st owner",
                                    "5": "24000",
                                    "6": "51600"
                                },
                                {
                                    "0": "Bajaj Avenger Cruise 220",
                                    "1": "95000",
                                    "2": "2018",
                                    "3": "Individual",
                                    "4": "1st owner",
                                    "5": "1800",
                                    "6": "NULL"
                                },
                                {
                                    "0": "Bajaj Discover 125 ST",
                                    "1": "25000",
                                    "2": "2012",
                                    "3": "Individual",
                                    "4": "1st owner",
                                    "5": "76000",
                                    "6": "58438"
                                },
                                {
                                    "0": "Bajaj Pulsar 150 [2001-2011]",
                                    "1": "26500",
                                    "2": "2010",
                                    "3": "Individual",
                                    "4": "1st owner",
                                    "5": "52500",
                                    "6": "NULL"
                                },
                                {
                                    "0": "Bajaj Boxer",
                                    "1": "12000",
                                    "2": "2008",
                                    "3": "Individual",
                                    "4": "1st owner",
                                    "5": "17500",
                                    "6": "NULL"
                                },
                                {
                                    "0": "Bajaj Pulsar 150",
                                    "1": "20000",
                                    "2": "2006",
                                    "3": "Individual",
                                    "4": "1st owner",
                                    "5": "41000",
                                    "6": "NULL"
                                },
                                {
                                    "0": "Royal Enfield Classic Signals",
                                    "1": "195000",
                                    "2": "2018",
                                    "3": "Individual",
                                    "4": "1st owner",
                                    "5": "2845",
                                    "6": "164095"
                                },
                                {
                                    "0": "Bajaj Pulsar 180",
                                    "1": "14900",
                                    "2": "2007",
                                    "3": "Individual",
                                    "4": "1st owner",
                                    "5": "50000",
                                    "6": "85011"
                                },
                                {
                                    "0": "Honda Dream Yuga",
                                    "1": "48000",
                                    "2": "2018",
                                    "3": "Individual",
                                    "4": "1st owner",
                                    "5": "7110",
                                    "6": "56147"
                                },
                                {
                                    "0": "Yamaha FZ S [2012-2016]",
                                    "1": "40000",
                                    "2": "2014",
                                    "3": "Individual",
                                    "4": "1st owner",
                                    "5": "27785",
                                    "6": "79432"
                                },
                                {
                                    "0": "Honda CB Unicorn",
                                    "1": "45000",
                                    "2": "2010",
                                    "3": "Individual",
                                    "4": "1st owner",
                                    "5": "75000",
                                    "6": "71681"
                                },
                                {
                                    "0": "Honda Shine",
                                    "1": "25000",
                                    "2": "2010",
                                    "3": "Individual",
                                    "4": "1st owner",
                                    "5": "20000",
                                    "6": "NULL"
                                },
                                {
                                    "0": "Honda Activa 3G",
                                    "1": "25000",
                                    "2": "2011",
                                    "3": "Individual",
                                    "4": "1st owner",
                                    "5": "20000",
                                    "6": "54605"
                                },
                                {
                                    "0": "Honda Activa [2000-2015]",
                                    "1": "10000",
                                    "2": "2009",
                                    "3": "Individual",
                                    "4": "1st owner",
                                    "5": "60000",
                                    "6": "50267"
                                },
                                {
                                    "0": "Mahindra Flyte",
                                    "1": "22000",
                                    "2": "2009",
                                    "3": "Individual",
                                    "4": "3rd owner",
                                    "5": "20000",
                                    "6": "44493"
                                },
                                {
                                    "0": "Honda Activa 3G",
                                    "1": "45000",
                                    "2": "2015",
                                    "3": "Individual",
                                    "4": "1st owner",
                                    "5": "18000",
                                    "6": "54605"
                                },
                                {
                                    "0": "KTM 250 Duke",
                                    "1": "135000",
                                    "2": "2017",
                                    "3": "Individual",
                                    "4": "1st owner",
                                    "5": "16500",
                                    "6": "NULL"
                                },
                                {
                                    "0": "Yamaha Ray Z",
                                    "1": "75000",
                                    "2": "2017",
                                    "3": "Individual",
                                    "4": "1st owner",
                                    "5": "15000",
                                    "6": "52949"
                                },
                                {
                                    "0": "Bajaj Pulsar 135 LS",
                                    "1": "24000",
                                    "2": "2010",
                                    "3": "Individual",
                                    "4": "1st owner",
                                    "5": "45000",
                                    "6": "64589"
                                },
                                {
                                    "0": "Yamaha FZ16",
                                    "1": "45000",
                                    "2": "2016",
                                    "3": "Individual",
                                    "4": "1st owner",
                                    "5": "37000",
                                    "6": "78712"
                                },
                                {
                                    "0": "Hero Passion PRO i3s",
                                    "1": "55000",
                                    "2": "2017",
                                    "3": "Individual",
                                    "4": "1st owner",
                                    "5": "14600",
                                    "6": "54475"
                                },
                                {
                                    "0": "Bajaj Discover 125",
                                    "1": "10000",
                                    "2": "2006",
                                    "3": "Individual",
                                    "4": "1st owner",
                                    "5": "51000",
                                    "6": "57549"
                                },
                                {
                                    "0": "Royal Enfield Classic 350",
                                    "1": "135000",
                                    "2": "2017",
                                    "3": "Individual",
                                    "4": "1st owner",
                                    "5": "15000",
                                    "6": "NULL"
                                },
                                {
                                    "0": "Honda CB Unicorn 150",
                                    "1": "55000",
                                    "2": "2017",
                                    "3": "Individual",
                                    "4": "1st owner",
                                    "5": "12000",
                                    "6": "74295"
                                },
                                {
                                    "0": "Bajaj Avenger [2015]",
                                    "1": "35000",
                                    "2": "2012",
                                    "3": "Individual",
                                    "4": "1st owner",
                                    "5": "15000",
                                    "6": "75502"
                                },
                                {
                                    "0": "Bajaj Super",
                                    "1": "20000",
                                    "2": "1988",
                                    "3": "Individual",
                                    "4": "1st owner",
                                    "5": "21000",
                                    "6": "NULL"
                                },
                                {
                                    "0": "Bajaj Pulsar 150",
                                    "1": "26000",
                                    "2": "2012",
                                    "3": "Individual",
                                    "4": "2nd owner",
                                    "5": "65000",
                                    "6": "NULL"
                                },
                                {
                                    "0": "Honda Activa [2000-2015]",
                                    "1": "23000",
                                    "2": "2009",
                                    "3": "Individual",
                                    "4": "1st owner",
                                    "5": "95000",
                                    "6": "50267"
                                },
                                {
                                    "0": "Royal Enfield Classic Desert Storm",
                                    "1": "150000",
                                    "2": "2015",
                                    "3": "Individual",
                                    "4": "1st owner",
                                    "5": "23000",
                                    "6": "181445"
                                },
                                {
                                    "0": "Hero Honda CD Deluxe",
                                    "1": "24700",
                                    "2": "2012",
                                    "3": "Individual",
                                    "4": "2nd owner",
                                    "5": "40000",
                                    "6": "NULL"
                                },
                                {
                                    "0": "Hero Duet",
                                    "1": "35000",
                                    "2": "2016",
                                    "3": "Individual",
                                    "4": "2nd owner",
                                    "5": "49637",
                                    "6": "54080"
                                },
                                {
                                    "0": "Hero Honda Passion PRO [2012]",
                                    "1": "12000",
                                    "2": "2012",
                                    "3": "Individual",
                                    "4": "1st owner",
                                    "5": "90000",
                                    "6": "NULL"
                                },
                                {
                                    "0": "Royal Enfield Classic 350",
                                    "1": "150000",
                                    "2": "2017",
                                    "3": "Individual",
                                    "4": "1st owner",
                                    "5": "7000",
                                    "6": "NULL"
                                },
                                {
                                    "0": "Honda Activa 3G",
                                    "1": "50000",
                                    "2": "2016",
                                    "3": "Individual",
                                    "4": "1st owner",
                                    "5": "5326",
                                    "6": "54605"
                                },
                                {
                                    "0": "Honda Activa [2000-2015]",
                                    "1": "25000",
                                    "2": "2009",
                                    "3": "Individual",
                                    "4": "1st owner",
                                    "5": "585659",
                                    "6": "50267"
                                },
                                {
                                    "0": "Hero Honda CD100",
                                    "1": "15000",
                                    "2": "1999",
                                    "3": "Dealer",
                                    "4": "2nd owner",
                                    "5": "10000",
                                    "6": "NULL"
                                },
                                {
                                    "0": "Hero Super Splendor",
                                    "1": "35000",
                                    "2": "2014",
                                    "3": "Individual",
                                    "4": "2nd owner",
                                    "5": "37541",
                                    "6": "NULL"
                                },
                                {
                                    "0": "Honda CB Trigger",
                                    "1": "45000",
                                    "2": "2015",
                                    "3": "Individual",
                                    "4": "1st owner",
                                    "5": "36000",
                                    "6": "83437"
                                },
                                {
                                    "0": "Honda Dream Yuga",
                                    "1": "25000",
                                    "2": "2013",
                                    "3": "Individual",
                                    "4": "1st owner",
                                    "5": "29000",
                                    "6": "56147"
                                },
                                {
                                    "0": "Hero Honda Passion Plus",
                                    "1": "40000",
                                    "2": "2018",
                                    "3": "Individual",
                                    "4": "1st owner",
                                    "5": "29000",
                                    "6": "NULL"
                                },
                                {
                                    "0": "TVS Spectra",
                                    "1": "17000",
                                    "2": "2008",
                                    "3": "Individual",
                                    "4": "1st owner",
                                    "5": "50000",
                                    "6": "NULL"
                                },
                                {
                                    "0": "Hero Ignitor",
                                    "1": "30000",
                                    "2": "2016",
                                    "3": "Individual",
                                    "4": "1st owner",
                                    "5": "18000",
                                    "6": "67722"
                                },
                                {
                                    "0": "Hero Honda CD100",
                                    "1": "15000",
                                    "2": "2000",
                                    "3": "Individual",
                                    "4": "1st owner",
                                    "5": "50000",
                                    "6": "NULL"
                                },
                                {
                                    "0": "Bajaj Pulsar 220F",
                                    "1": "60000",
                                    "2": "2017",
                                    "3": "Individual",
                                    "4": "2nd owner",
                                    "5": "40000",
                                    "6": "NULL"
                                },
                                {
                                    "0": "Hero Splendor Plus",
                                    "1": "30000",
                                    "2": "2013",
                                    "3": "Individual",
                                    "4": "1st owner",
                                    "5": "20000",
                                    "6": "NULL"
                                },
                                {
                                    "0": "Yamaha YZF R15 [2011-2018]",
                                    "1": "60000",
                                    "2": "2012",
                                    "3": "Individual",
                                    "4": "1st owner",
                                    "5": "22000",
                                    "6": "118997"
                                },
                                {
                                    "0": "Honda Activa 3G",
                                    "1": "32000",
                                    "2": "2015",
                                    "3": "Individual",
                                    "4": "1st owner",
                                    "5": "4500",
                                    "6": "54605"
                                },
                                {
                                    "0": "Bajaj Discover 150",
                                    "1": "30000",
                                    "2": "2012",
                                    "3": "Individual",
                                    "4": "1st owner",
                                    "5": "50000",
                                    "6": "54299"
                                },
                                {
                                    "0": "Bajaj Pulsar 150 [2001-2011]",
                                    "1": "55000",
                                    "2": "2010",
                                    "3": "Individual",
                                    "4": "1st owner",
                                    "5": "42000",
                                    "6": "NULL"
                                },
                                {
                                    "0": "Bajaj Avenger Street 150 [2018]",
                                    "1": "75000",
                                    "2": "2016",
                                    "3": "Individual",
                                    "4": "1st owner",
                                    "5": "35000",
                                    "6": "80435"
                                },
                                {
                                    "0": "TVS Star City Plus",
                                    "1": "52000",
                                    "2": "2017",
                                    "3": "Individual",
                                    "4": "1st owner",
                                    "5": "25000",
                                    "6": "NULL"
                                },
                                {
                                    "0": "Bajaj Discover 125",
                                    "1": "38000",
                                    "2": "2018",
                                    "3": "Individual",
                                    "4": "1st owner",
                                    "5": "34000",
                                    "6": "60122"
                                },
                                {
                                    "0": "Bajaj Discover 135",
                                    "1": "12000",
                                    "2": "2007",
                                    "3": "Individual",
                                    "4": "1st owner",
                                    "5": "60000",
                                    "6": "NULL"
                                },
                                {
                                    "0": "Honda CB Shine SP",
                                    "1": "47000",
                                    "2": "2017",
                                    "3": "Individual",
                                    "4": "1st owner",
                                    "5": "73000",
                                    "6": "64750"
                                },
                                {
                                    "0": "Honda Activa [2000-2015]",
                                    "1": "22000",
                                    "2": "2014",
                                    "3": "Individual",
                                    "4": "1st owner",
                                    "5": "38000",
                                    "6": "50267"
                                },
                                {
                                    "0": "Bajaj Avenger [2015]",
                                    "1": "65000",
                                    "2": "2015",
                                    "3": "Individual",
                                    "4": "1st owner",
                                    "5": "26000",
                                    "6": "75502"
                                },
                                {
                                    "0": "Bajaj Platina 100",
                                    "1": "23000",
                                    "2": "2013",
                                    "3": "Individual",
                                    "4": "2nd owner",
                                    "5": "24000",
                                    "6": "NULL"
                                },
                                {
                                    "0": "Bajaj Discover 100",
                                    "1": "30000",
                                    "2": "2011",
                                    "3": "Individual",
                                    "4": "1st owner",
                                    "5": "45000",
                                    "6": "42859"
                                },
                                {
                                    "0": "Bajaj Pulsar 150",
                                    "1": "35000",
                                    "2": "2011",
                                    "3": "Individual",
                                    "4": "1st owner",
                                    "5": "36000",
                                    "6": "NULL"
                                },
                                {
                                    "0": "Bajaj Avenger Street 150 [2018]",
                                    "1": "80000",
                                    "2": "2017",
                                    "3": "Individual",
                                    "4": "1st owner",
                                    "5": "30000",
                                    "6": "80435"
                                },
                                {
                                    "0": "Bajaj Platina 100",
                                    "1": "20000",
                                    "2": "2012",
                                    "3": "Individual",
                                    "4": "1st owner",
                                    "5": "16295",
                                    "6": "NULL"
                                },
                                {
                                    "0": "Bajaj Pulsar 150",
                                    "1": "16000",
                                    "2": "2011",
                                    "3": "Individual",
                                    "4": "2nd owner",
                                    "5": "59000",
                                    "6": "NULL"
                                },
                                {
                                    "0": "Bajaj Pulsar 150",
                                    "1": "20000",
                                    "2": "2006",
                                    "3": "Individual",
                                    "4": "1st owner",
                                    "5": "9500",
                                    "6": "NULL"
                                },
                                {
                                    "0": "Bajaj Pulsar NS200",
                                    "1": "50000",
                                    "2": "2012",
                                    "3": "Individual",
                                    "4": "1st owner",
                                    "5": "46000",
                                    "6": "NULL"
                                },
                                {
                                    "0": "Honda CB Trigger",
                                    "1": "40000",
                                    "2": "2015",
                                    "3": "Individual",
                                    "4": "1st owner",
                                    "5": "75000",
                                    "6": "76572"
                                },
                                {
                                    "0": "Bajaj Pulsar 135 LS",
                                    "1": "20000",
                                    "2": "2010",
                                    "3": "Individual",
                                    "4": "1st owner",
                                    "5": "80000",
                                    "6": "64589"
                                },
                                {
                                    "0": "Bajaj Pulsar 180",
                                    "1": "65000",
                                    "2": "2018",
                                    "3": "Individual",
                                    "4": "1st owner",
                                    "5": "26000",
                                    "6": "85011"
                                },
                                {
                                    "0": "Yamaha YZF R15 S",
                                    "1": "85000",
                                    "2": "2016",
                                    "3": "Individual",
                                    "4": "1st owner",
                                    "5": "26000",
                                    "6": "117926"
                                },
                                {
                                    "0": "Hero Splendor Plus",
                                    "1": "12000",
                                    "2": "2007",
                                    "3": "Individual",
                                    "4": "1st owner",
                                    "5": "100000",
                                    "6": "NULL"
                                },
                                {
                                    "0": "Hero Xpulse 200T",
                                    "1": "105000",
                                    "2": "2019",
                                    "3": "Individual",
                                    "4": "1st owner",
                                    "5": "2900",
                                    "6": "96500"
                                },
                                {
                                    "0": "Yamaha FZ S V 2.0",
                                    "1": "40000",
                                    "2": "2015",
                                    "3": "Individual",
                                    "4": "1st owner",
                                    "5": "25000",
                                    "6": "84042"
                                },
                                {
                                    "0": "Bajaj Discover 150",
                                    "1": "30000",
                                    "2": "2011",
                                    "3": "Individual",
                                    "4": "2nd owner",
                                    "5": "39500",
                                    "6": "54299"
                                },
                                {
                                    "0": "Honda Activa [2000-2015]",
                                    "1": "25000",
                                    "2": "2012",
                                    "3": "Individual",
                                    "4": "1st owner",
                                    "5": "40000",
                                    "6": "50267"
                                },
                                {
                                    "0": "Hero Splendor PRO",
                                    "1": "40000",
                                    "2": "2016",
                                    "3": "Individual",
                                    "4": "1st owner",
                                    "5": "16000",
                                    "6": "51994"
                                },
                                {
                                    "0": "Honda Dream Neo",
                                    "1": "45000",
                                    "2": "2017",
                                    "3": "Individual",
                                    "4": "2nd owner",
                                    "5": "21000",
                                    "6": "49211"
                                },
                                {
                                    "0": "Bajaj CT 100",
                                    "1": "40000",
                                    "2": "2018",
                                    "3": "Individual",
                                    "4": "1st owner",
                                    "5": "14000",
                                    "6": "NULL"
                                },
                                {
                                    "0": "Suzuki Access 125",
                                    "1": "70000",
                                    "2": "2018",
                                    "3": "Individual",
                                    "4": "1st owner",
                                    "5": "7000",
                                    "6": "76632"
                                },
                                {
                                    "0": "Honda Activa [2000-2015]",
                                    "1": "30000",
                                    "2": "2012",
                                    "3": "Individual",
                                    "4": "1st owner",
                                    "5": "22000",
                                    "6": "50267"
                                },
                                {
                                    "0": "Hero Honda Pleasure",
                                    "1": "25000",
                                    "2": "2009",
                                    "3": "Individual",
                                    "4": "1st owner",
                                    "5": "50000",
                                    "6": "NULL"
                                },
                                {
                                    "0": "Bajaj Platina 100",
                                    "1": "20000",
                                    "2": "2012",
                                    "3": "Individual",
                                    "4": "1st owner",
                                    "5": "16295",
                                    "6": "NULL"
                                },
                                {
                                    "0": "Honda CB Hornet 160R",
                                    "1": "70000",
                                    "2": "2017",
                                    "3": "Individual",
                                    "4": "1st owner",
                                    "5": "35000",
                                    "6": "87719"
                                },
                                {
                                    "0": "Bajaj V15",
                                    "1": "50000",
                                    "2": "2017",
                                    "3": "Individual",
                                    "4": "1st owner",
                                    "5": "9000",
                                    "6": "65626"
                                },
                                {
                                    "0": "Hero Honda CD Deluxe",
                                    "1": "25000",
                                    "2": "2010",
                                    "3": "Individual",
                                    "4": "1st owner",
                                    "5": "35000",
                                    "6": "NULL"
                                },
                                {
                                    "0": "Bajaj Pulsar 150",
                                    "1": "22000",
                                    "2": "2011",
                                    "3": "Individual",
                                    "4": "1st owner",
                                    "5": "60000",
                                    "6": "NULL"
                                },
                                {
                                    "0": "Honda Activa [2000-2015]",
                                    "1": "35000",
                                    "2": "2013",
                                    "3": "Individual",
                                    "4": "1st owner",
                                    "5": "29500",
                                    "6": "50267"
                                },
                                {
                                    "0": "TVS Apache RTR 160",
                                    "1": "40000",
                                    "2": "2014",
                                    "3": "Individual",
                                    "4": "2nd owner",
                                    "5": "50000",
                                    "6": "NULL"
                                },
                                {
                                    "0": "Bajaj Pulsar 220F",
                                    "1": "75000",
                                    "2": "2016",
                                    "3": "Individual",
                                    "4": "1st owner",
                                    "5": "10500",
                                    "6": "NULL"
                                },
                                {
                                    "0": "Hero Honda Passion PRO [2012]",
                                    "1": "28000",
                                    "2": "2011",
                                    "3": "Individual",
                                    "4": "2nd owner",
                                    "5": "60000",
                                    "6": "NULL"
                                },
                                {
                                    "0": "Hero Maestro Edge",
                                    "1": "55000",
                                    "2": "2018",
                                    "3": "Individual",
                                    "4": "1st owner",
                                    "5": "39000",
                                    "6": "52790"
                                },
                                {
                                    "0": "Honda Dio",
                                    "1": "30000",
                                    "2": "2014",
                                    "3": "Individual",
                                    "4": "1st owner",
                                    "5": "24000",
                                    "6": "NULL"
                                },
                                {
                                    "0": "Hero Glamour 125",
                                    "1": "40000",
                                    "2": "2016",
                                    "3": "Individual",
                                    "4": "1st owner",
                                    "5": "15000",
                                    "6": "61600"
                                },
                                {
                                    "0": "Bajaj Avenger Street 160",
                                    "1": "85000",
                                    "2": "2019",
                                    "3": "Individual",
                                    "4": "1st owner",
                                    "5": "3000",
                                    "6": "NULL"
                                },
                                {
                                    "0": "Hero Honda CD Deluxe",
                                    "1": "12000",
                                    "2": "2007",
                                    "3": "Individual",
                                    "4": "2nd owner",
                                    "5": "100000",
                                    "6": "NULL"
                                },
                                {
                                    "0": "Yamaha YBR 125",
                                    "1": "35000",
                                    "2": "2013",
                                    "3": "Individual",
                                    "4": "1st owner",
                                    "5": "20350",
                                    "6": "54593"
                                },
                                {
                                    "0": "Bajaj Pulsar 150",
                                    "1": "25000",
                                    "2": "2015",
                                    "3": "Individual",
                                    "4": "2nd owner",
                                    "5": "50000",
                                    "6": "NULL"
                                },
                                {
                                    "0": "Bajaj Pulsar 150",
                                    "1": "40000",
                                    "2": "2012",
                                    "3": "Individual",
                                    "4": "2nd owner",
                                    "5": "37000",
                                    "6": "NULL"
                                },
                                {
                                    "0": "Hero Honda CD Deluxe",
                                    "1": "15000",
                                    "2": "2011",
                                    "3": "Individual",
                                    "4": "1st owner",
                                    "5": "70000",
                                    "6": "NULL"
                                },
                                {
                                    "0": "Hero Passion PRO i3s",
                                    "1": "55000",
                                    "2": "2018",
                                    "3": "Individual",
                                    "4": "1st owner",
                                    "5": "15000",
                                    "6": "54475"
                                },
                                {
                                    "0": "Bajaj Pulsar 180",
                                    "1": "60000",
                                    "2": "2015",
                                    "3": "Individual",
                                    "4": "1st owner",
                                    "5": "28563",
                                    "6": "85011"
                                },
                                {
                                    "0": "Yamaha Fazer 25",
                                    "1": "115000",
                                    "2": "2018",
                                    "3": "Individual",
                                    "4": "1st owner",
                                    "5": "11000",
                                    "6": "142680"
                                },
                                {
                                    "0": "TVS Excel",
                                    "1": "5000",
                                    "2": "1998",
                                    "3": "Individual",
                                    "4": "1st owner",
                                    "5": "60000",
                                    "6": "NULL"
                                },
                                {
                                    "0": "Honda Shine",
                                    "1": "40000",
                                    "2": "2015",
                                    "3": "Individual",
                                    "4": "1st owner",
                                    "5": "21121",
                                    "6": "NULL"
                                },
                                {
                                    "0": "Honda Dream Neo",
                                    "1": "50000",
                                    "2": "2014",
                                    "3": "Individual",
                                    "4": "1st owner",
                                    "5": "25000",
                                    "6": "49211"
                                },
                                {
                                    "0": "Honda Dio",
                                    "1": "28000",
                                    "2": "2014",
                                    "3": "Individual",
                                    "4": "1st owner",
                                    "5": "13000",
                                    "6": "NULL"
                                },
                                {
                                    "0": "Hero Splendor Plus",
                                    "1": "35000",
                                    "2": "2013",
                                    "3": "Individual",
                                    "4": "1st owner",
                                    "5": "55000",
                                    "6": "NULL"
                                },
                                {
                                    "0": "Bajaj Xcd",
                                    "1": "25000",
                                    "2": "2007",
                                    "3": "Individual",
                                    "4": "2nd owner",
                                    "5": "100000",
                                    "6": "NULL"
                                },
                                {
                                    "0": "TVS Streak",
                                    "1": "20000",
                                    "2": "2009",
                                    "3": "Individual",
                                    "4": "2nd owner",
                                    "5": "36000",
                                    "6": "NULL"
                                },
                                {
                                    "0": "Bajaj Pulsar 180",
                                    "1": "40000",
                                    "2": "2013",
                                    "3": "Individual",
                                    "4": "1st owner",
                                    "5": "34000",
                                    "6": "85011"
                                },
                                {
                                    "0": "Hero Xtreme 200R",
                                    "1": "86000",
                                    "2": "2018",
                                    "3": "Individual",
                                    "4": "1st owner",
                                    "5": "12000",
                                    "6": "93400"
                                },
                                {
                                    "0": "Yamaha YZF R15 [2011-2018]",
                                    "1": "65000",
                                    "2": "2011",
                                    "3": "Individual",
                                    "4": "1st owner",
                                    "5": "29000",
                                    "6": "NULL"
                                },
                                {
                                    "0": "Bajaj Avenger Street 150 [2018]",
                                    "1": "60000",
                                    "2": "2017",
                                    "3": "Individual",
                                    "4": "1st owner",
                                    "5": "30000",
                                    "6": "80435"
                                },
                                {
                                    "0": "Yamaha RX135",
                                    "1": "65000",
                                    "2": "1998",
                                    "3": "Individual",
                                    "4": "3rd owner",
                                    "5": "16500",
                                    "6": "NULL"
                                },
                                {
                                    "0": "Honda CB Shine SP",
                                    "1": "41000",
                                    "2": "2017",
                                    "3": "Individual",
                                    "4": "1st owner",
                                    "5": "33000",
                                    "6": "66697"
                                },
                                {
                                    "0": "Honda CBR150 R",
                                    "1": "110000",
                                    "2": "2017",
                                    "3": "Individual",
                                    "4": "1st owner",
                                    "5": "11800",
                                    "6": "129662"
                                },
                                {
                                    "0": "Honda Dream Yuga",
                                    "1": "32000",
                                    "2": "2017",
                                    "3": "Individual",
                                    "4": "1st owner",
                                    "5": "39000",
                                    "6": "56147"
                                },
                                {
                                    "0": "Honda Shine",
                                    "1": "37000",
                                    "2": "2014",
                                    "3": "Individual",
                                    "4": "1st owner",
                                    "5": "16145",
                                    "6": "NULL"
                                },
                                {
                                    "0": "Hero Splendor Plus i3s",
                                    "1": "65000",
                                    "2": "2019",
                                    "3": "Individual",
                                    "4": "1st owner",
                                    "5": "1000",
                                    "6": "55600"
                                },
                                {
                                    "0": "Hero Honda Passion Plus",
                                    "1": "18000",
                                    "2": "2007",
                                    "3": "Individual",
                                    "4": "2nd owner",
                                    "5": "50000",
                                    "6": "NULL"
                                },
                                {
                                    "0": "Hero Honda Passion PRO [2012]",
                                    "1": "28700",
                                    "2": "2012",
                                    "3": "Individual",
                                    "4": "2nd owner",
                                    "5": "49876",
                                    "6": "NULL"
                                },
                                {
                                    "0": "Honda Activa 3G",
                                    "1": "35000",
                                    "2": "2016",
                                    "3": "Individual",
                                    "4": "1st owner",
                                    "5": "51000",
                                    "6": "54605"
                                },
                                {
                                    "0": "Bajaj Pulsar 180F",
                                    "1": "100000",
                                    "2": "2019",
                                    "3": "Individual",
                                    "4": "1st owner",
                                    "5": "1300",
                                    "6": "NULL"
                                },
                                {
                                    "0": "Hero Honda Glamour",
                                    "1": "21000",
                                    "2": "2010",
                                    "3": "Individual",
                                    "4": "1st owner",
                                    "5": "11000",
                                    "6": "NULL"
                                },
                                {
                                    "0": "Bajaj Pulsar 150 [2001-2011]",
                                    "1": "30000",
                                    "2": "2010",
                                    "3": "Individual",
                                    "4": "2nd owner",
                                    "5": "55000",
                                    "6": "NULL"
                                },
                                {
                                    "0": "TVS Apache RTR 200 4V",
                                    "1": "90000",
                                    "2": "2019",
                                    "3": "Individual",
                                    "4": "1st owner",
                                    "5": "20000",
                                    "6": "NULL"
                                },
                                {
                                    "0": "Bajaj Super",
                                    "1": "6000",
                                    "2": "1991",
                                    "3": "Individual",
                                    "4": "1st owner",
                                    "5": "35000",
                                    "6": "NULL"
                                },
                                {
                                    "0": "Hero Honda Passion Plus",
                                    "1": "23500",
                                    "2": "2010",
                                    "3": "Individual",
                                    "4": "1st owner",
                                    "5": "60000",
                                    "6": "NULL"
                                },
                                {
                                    "0": "Bajaj Pulsar 150",
                                    "1": "55000",
                                    "2": "2015",
                                    "3": "Individual",
                                    "4": "2nd owner",
                                    "5": "40000",
                                    "6": "NULL"
                                },
                                {
                                    "0": "Yamaha SZ X",
                                    "1": "35000",
                                    "2": "2010",
                                    "3": "Individual",
                                    "4": "1st owner",
                                    "5": "46000",
                                    "6": "65800"
                                },
                                {
                                    "0": "Hero Honda CD100",
                                    "1": "15000",
                                    "2": "1998",
                                    "3": "Individual",
                                    "4": "1st owner",
                                    "5": "65000",
                                    "6": "NULL"
                                },
                                {
                                    "0": "Bajaj Pulsar 180",
                                    "1": "35000",
                                    "2": "2009",
                                    "3": "Individual",
                                    "4": "1st owner",
                                    "5": "19000",
                                    "6": "85011"
                                },
                                {
                                    "0": "Bajaj Pulsar 220 DTS-i",
                                    "1": "40000",
                                    "2": "2011",
                                    "3": "Individual",
                                    "4": "1st owner",
                                    "5": "26000",
                                    "6": "NULL"
                                },
                                {
                                    "0": "Hero Honda Achiever",
                                    "1": "15000",
                                    "2": "2009",
                                    "3": "Individual",
                                    "4": "1st owner",
                                    "5": "86000",
                                    "6": "NULL"
                                },
                                {
                                    "0": "Hero Honda Karizma",
                                    "1": "40000",
                                    "2": "2011",
                                    "3": "Individual",
                                    "4": "2nd owner",
                                    "5": "340000",
                                    "6": "NULL"
                                },
                                {
                                    "0": "Honda CB Unicorn 160",
                                    "1": "75000",
                                    "2": "2016",
                                    "3": "Individual",
                                    "4": "1st owner",
                                    "5": "40000",
                                    "6": "77545"
                                },
                                {
                                    "0": "Bajaj Avenger Cruise 220",
                                    "1": "70000",
                                    "2": "2016",
                                    "3": "Individual",
                                    "4": "1st owner",
                                    "5": "10000",
                                    "6": "NULL"
                                },
                                {
                                    "0": "Bajaj Discover 135",
                                    "1": "22000",
                                    "2": "2007",
                                    "3": "Individual",
                                    "4": "1st owner",
                                    "5": "25000",
                                    "6": "NULL"
                                },
                                {
                                    "0": "Yamaha FZ S V 2.0",
                                    "1": "80000",
                                    "2": "2019",
                                    "3": "Individual",
                                    "4": "1st owner",
                                    "5": "10000",
                                    "6": "87042"
                                },
                                {
                                    "0": "Bajaj Pulsar 150",
                                    "1": "72000",
                                    "2": "2017",
                                    "3": "Individual",
                                    "4": "1st owner",
                                    "5": "24000",
                                    "6": "NULL"
                                },
                                {
                                    "0": "Hero HF Deluxe",
                                    "1": "30000",
                                    "2": "2014",
                                    "3": "Individual",
                                    "4": "2nd owner",
                                    "5": "35000",
                                    "6": "NULL"
                                },
                                {
                                    "0": "Bajaj Pulsar 135 LS",
                                    "1": "25000",
                                    "2": "2011",
                                    "3": "Individual",
                                    "4": "2nd owner",
                                    "5": "30000",
                                    "6": "64589"
                                },
                                {
                                    "0": "Aprilia SR 125",
                                    "1": "65000",
                                    "2": "2018",
                                    "3": "Individual",
                                    "4": "1st owner",
                                    "5": "6500",
                                    "6": "NULL"
                                },
                                {
                                    "0": "Bajaj Pulsar 150",
                                    "1": "68000",
                                    "2": "2019",
                                    "3": "Individual",
                                    "4": "1st owner",
                                    "5": "10000",
                                    "6": "NULL"
                                },
                                {
                                    "0": "Hero Duet",
                                    "1": "27000",
                                    "2": "2016",
                                    "3": "Individual",
                                    "4": "1st owner",
                                    "5": "28000",
                                    "6": "50280"
                                },
                                {
                                    "0": "Honda CB Twister",
                                    "1": "25000",
                                    "2": "2015",
                                    "3": "Individual",
                                    "4": "1st owner",
                                    "5": "35000",
                                    "6": "57241"
                                },
                                {
                                    "0": "Bajaj Discover 125",
                                    "1": "45000",
                                    "2": "2016",
                                    "3": "Individual",
                                    "4": "1st owner",
                                    "5": "20000",
                                    "6": "60122"
                                },
                                {
                                    "0": "Honda CBR-250R",
                                    "1": "200000",
                                    "2": "2019",
                                    "3": "Individual",
                                    "4": "1st owner",
                                    "5": "5500",
                                    "6": "202310"
                                },
                                {
                                    "0": "Bajaj Pulsar 180",
                                    "1": "20100",
                                    "2": "2008",
                                    "3": "Individual",
                                    "4": "1st owner",
                                    "5": "36000",
                                    "6": "85011"
                                },
                                {
                                    "0": "Honda Shine",
                                    "1": "30000",
                                    "2": "2014",
                                    "3": "Individual",
                                    "4": "1st owner",
                                    "5": "25000",
                                    "6": "NULL"
                                },
                                {
                                    "0": "Suzuki Swish [2012-2015]",
                                    "1": "30000",
                                    "2": "2014",
                                    "3": "Individual",
                                    "4": "1st owner",
                                    "5": "30000",
                                    "6": "51685"
                                },
                                {
                                    "0": "TVS Star City",
                                    "1": "21000",
                                    "2": "2011",
                                    "3": "Individual",
                                    "4": "1st owner",
                                    "5": "101000",
                                    "6": "47108"
                                },
                                {
                                    "0": "Hero Super Splendor",
                                    "1": "45000",
                                    "2": "2012",
                                    "3": "Individual",
                                    "4": "1st owner",
                                    "5": "21000",
                                    "6": "NULL"
                                },
                                {
                                    "0": "Yamaha Fazer [2009-2016]",
                                    "1": "45000",
                                    "2": "2014",
                                    "3": "Individual",
                                    "4": "1st owner",
                                    "5": "57700",
                                    "6": "84751"
                                },
                                {
                                    "0": "TVS Scooty Pep DLX",
                                    "1": "14500",
                                    "2": "2012",
                                    "3": "Individual",
                                    "4": "1st owner",
                                    "5": "44000",
                                    "6": "NULL"
                                },
                                {
                                    "0": "Honda Dream Yuga",
                                    "1": "47000",
                                    "2": "2019",
                                    "3": "Individual",
                                    "4": "1st owner",
                                    "5": "8800",
                                    "6": "56147"
                                },
                                {
                                    "0": "TVS Star City Plus",
                                    "1": "26000",
                                    "2": "2014",
                                    "3": "Individual",
                                    "4": "2nd owner",
                                    "5": "68000",
                                    "6": "NULL"
                                },
                                {
                                    "0": "Yamaha Fazer [2009-2016]",
                                    "1": "25000",
                                    "2": "2013",
                                    "3": "Individual",
                                    "4": "1st owner",
                                    "5": "120000",
                                    "6": "84751"
                                },
                                {
                                    "0": "Hero Honda Street Smart",
                                    "1": "10000",
                                    "2": "2000",
                                    "3": "Individual",
                                    "4": "1st owner",
                                    "5": "24000",
                                    "6": "NULL"
                                },
                                {
                                    "0": "TVS Apache RTR 160",
                                    "1": "50000",
                                    "2": "2017",
                                    "3": "Individual",
                                    "4": "1st owner",
                                    "5": "38000",
                                    "6": "NULL"
                                },
                                {
                                    "0": "Honda Dio",
                                    "1": "23000",
                                    "2": "2010",
                                    "3": "Individual",
                                    "4": "1st owner",
                                    "5": "40000",
                                    "6": "NULL"
                                },
                                {
                                    "0": "Honda Activa [2000-2015]",
                                    "1": "50000",
                                    "2": "2014",
                                    "3": "Individual",
                                    "4": "1st owner",
                                    "5": "48000",
                                    "6": "50267"
                                },
                                {
                                    "0": "Hero Maestro Edge",
                                    "1": "46000",
                                    "2": "2015",
                                    "3": "Individual",
                                    "4": "1st owner",
                                    "5": "14000",
                                    "6": "55980"
                                },
                                {
                                    "0": "Honda CB Hornet 160R",
                                    "1": "80000",
                                    "2": "2017",
                                    "3": "Individual",
                                    "4": "1st owner",
                                    "5": "18000",
                                    "6": "87719"
                                },
                                {
                                    "0": "Hero Karizma [2003-2014]",
                                    "1": "50000",
                                    "2": "2013",
                                    "3": "Individual",
                                    "4": "1st owner",
                                    "5": "38000",
                                    "6": "85766"
                                },
                                {
                                    "0": "Honda CB Trigger",
                                    "1": "40000",
                                    "2": "2014",
                                    "3": "Individual",
                                    "4": "1st owner",
                                    "5": "75000",
                                    "6": "83437"
                                },
                                {
                                    "0": "Honda CB Hornet 160R",
                                    "1": "70000",
                                    "2": "2017",
                                    "3": "Individual",
                                    "4": "1st owner",
                                    "5": "35000",
                                    "6": "87719"
                                },
                                {
                                    "0": "Hero Glamour FI",
                                    "1": "30900",
                                    "2": "2014",
                                    "3": "Individual",
                                    "4": "1st owner",
                                    "5": "25000",
                                    "6": "71150"
                                },
                                {
                                    "0": "Bajaj Avenger [2015]",
                                    "1": "65000",
                                    "2": "2010",
                                    "3": "Individual",
                                    "4": "1st owner",
                                    "5": "20000",
                                    "6": "75502"
                                },
                                {
                                    "0": "Hero Honda Splendor Plus",
                                    "1": "15000",
                                    "2": "2006",
                                    "3": "Individual",
                                    "4": "1st owner",
                                    "5": "100000",
                                    "6": "NULL"
                                },
                                {
                                    "0": "TVS Apache RTR 160",
                                    "1": "89999",
                                    "2": "2019",
                                    "3": "Individual",
                                    "4": "1st owner",
                                    "5": "6400",
                                    "6": "NULL"
                                },
                                {
                                    "0": "Hero Honda Splendor Plus",
                                    "1": "17600",
                                    "2": "2006",
                                    "3": "Individual",
                                    "4": "1st owner",
                                    "5": "52000",
                                    "6": "NULL"
                                },
                                {
                                    "0": "Bajaj Platina 100",
                                    "1": "17000",
                                    "2": "2007",
                                    "3": "Individual",
                                    "4": "1st owner",
                                    "5": "16000",
                                    "6": "NULL"
                                },
                                {
                                    "0": "Yamaha FZ25",
                                    "1": "90000",
                                    "2": "2018",
                                    "3": "Individual",
                                    "4": "1st owner",
                                    "5": "8200",
                                    "6": "132680"
                                },
                                {
                                    "0": "Bajaj Pulsar 150 [2001-2011]",
                                    "1": "35000",
                                    "2": "2010",
                                    "3": "Individual",
                                    "4": "1st owner",
                                    "5": "60000",
                                    "6": "NULL"
                                },
                                {
                                    "0": "Yamaha YZF R15 S",
                                    "1": "70000",
                                    "2": "2017",
                                    "3": "Individual",
                                    "4": "1st owner",
                                    "5": "16000",
                                    "6": "117926"
                                },
                                {
                                    "0": "Bajaj Discover 125",
                                    "1": "15000",
                                    "2": "2011",
                                    "3": "Individual",
                                    "4": "1st owner",
                                    "5": "47000",
                                    "6": "57549"
                                },
                                {
                                    "0": "Hero Passion PRO i3s",
                                    "1": "35000",
                                    "2": "2016",
                                    "3": "Individual",
                                    "4": "1st owner",
                                    "5": "18000",
                                    "6": "54475"
                                },
                                {
                                    "0": "Honda Activa [2000-2015]",
                                    "1": "15000",
                                    "2": "2006",
                                    "3": "Individual",
                                    "4": "1st owner",
                                    "5": "50000",
                                    "6": "50267"
                                },
                                {
                                    "0": "Bajaj Discover 125",
                                    "1": "50000",
                                    "2": "2018",
                                    "3": "Individual",
                                    "4": "1st owner",
                                    "5": "6000",
                                    "6": "60122"
                                },
                                {
                                    "0": "Suzuki Gixxer [2014-2018]",
                                    "1": "69000",
                                    "2": "2017",
                                    "3": "Individual",
                                    "4": "1st owner",
                                    "5": "20000",
                                    "6": "82813"
                                },
                                {
                                    "0": "TVS Wego",
                                    "1": "15000",
                                    "2": "2011",
                                    "3": "Individual",
                                    "4": "1st owner",
                                    "5": "65000",
                                    "6": "54760"
                                },
                                {
                                    "0": "Bajaj Discover 150",
                                    "1": "25000",
                                    "2": "2008",
                                    "3": "Individual",
                                    "4": "1st owner",
                                    "5": "25000",
                                    "6": "54299"
                                },
                                {
                                    "0": "Suzuki Access 125 [2007-2016]",
                                    "1": "30000",
                                    "2": "2012",
                                    "3": "Individual",
                                    "4": "1st owner",
                                    "5": "23000",
                                    "6": "58314"
                                },
                                {
                                    "0": "Hero Karizma 2014",
                                    "1": "45000",
                                    "2": "2014",
                                    "3": "Individual",
                                    "4": "1st owner",
                                    "5": "5555",
                                    "6": "86744"
                                },
                                {
                                    "0": "Hero CD Deluxe",
                                    "1": "35000",
                                    "2": "2016",
                                    "3": "Individual",
                                    "4": "1st owner",
                                    "5": "38000",
                                    "6": "NULL"
                                },
                                {
                                    "0": "Yamaha Fazer 25",
                                    "1": "120000",
                                    "2": "2018",
                                    "3": "Individual",
                                    "4": "1st owner",
                                    "5": "6000",
                                    "6": "142680"
                                },
                                {
                                    "0": "Hero Splendor Plus",
                                    "1": "25000",
                                    "2": "2015",
                                    "3": "Individual",
                                    "4": "1st owner",
                                    "5": "45000",
                                    "6": "NULL"
                                },
                                {
                                    "0": "Yamaha YZF R15 [2011-2018]",
                                    "1": "80000",
                                    "2": "2017",
                                    "3": "Individual",
                                    "4": "1st owner",
                                    "5": "27000",
                                    "6": "118997"
                                },
                                {
                                    "0": "Hero Honda Splendor Plus",
                                    "1": "10000",
                                    "2": "2007",
                                    "3": "Individual",
                                    "4": "1st owner",
                                    "5": "98000",
                                    "6": "NULL"
                                },
                                {
                                    "0": "TVS Apache RTR 160",
                                    "1": "70000",
                                    "2": "2018",
                                    "3": "Individual",
                                    "4": "1st owner",
                                    "5": "16000",
                                    "6": "NULL"
                                },
                                {
                                    "0": "Bajaj Pulsar 150",
                                    "1": "35000",
                                    "2": "2011",
                                    "3": "Individual",
                                    "4": "1st owner",
                                    "5": "50000",
                                    "6": "NULL"
                                },
                                {
                                    "0": "Hero Glamour 125",
                                    "1": "40000",
                                    "2": "2015",
                                    "3": "Individual",
                                    "4": "1st owner",
                                    "5": "71250",
                                    "6": "61600"
                                },
                                {
                                    "0": "Hero Honda Passion Plus",
                                    "1": "20000",
                                    "2": "2006",
                                    "3": "Individual",
                                    "4": "1st owner",
                                    "5": "28000",
                                    "6": "NULL"
                                },
                                {
                                    "0": "Honda CB Twister",
                                    "1": "30000",
                                    "2": "2012",
                                    "3": "Individual",
                                    "4": "1st owner",
                                    "5": "50000",
                                    "6": "57241"
                                },
                                {
                                    "0": "Bajaj CT 100",
                                    "1": "8000",
                                    "2": "2005",
                                    "3": "Individual",
                                    "4": "2nd owner",
                                    "5": "82000",
                                    "6": "NULL"
                                },
                                {
                                    "0": "Bajaj Pulsar 220 DTS-i",
                                    "1": "65000",
                                    "2": "2013",
                                    "3": "Individual",
                                    "4": "1st owner",
                                    "5": "6409",
                                    "6": "NULL"
                                },
                                {
                                    "0": "Hero Honda Super Splendor [2005]",
                                    "1": "20000",
                                    "2": "2008",
                                    "3": "Individual",
                                    "4": "1st owner",
                                    "5": "54000",
                                    "6": "NULL"
                                },
                                {
                                    "0": "Honda CB Trigger",
                                    "1": "45000",
                                    "2": "2013",
                                    "3": "Individual",
                                    "4": "1st owner",
                                    "5": "20000",
                                    "6": "76572"
                                },
                                {
                                    "0": "Hero Hunk",
                                    "1": "35000",
                                    "2": "2013",
                                    "3": "Individual",
                                    "4": "1st owner",
                                    "5": "50000",
                                    "6": "78513"
                                },
                                {
                                    "0": "Bajaj Discover 150",
                                    "1": "25000",
                                    "2": "2011",
                                    "3": "Individual",
                                    "4": "1st owner",
                                    "5": "52000",
                                    "6": "54299"
                                },
                                {
                                    "0": "TVS Apache RTR 160",
                                    "1": "15000",
                                    "2": "2009",
                                    "3": "Individual",
                                    "4": "4th owner",
                                    "5": "880000",
                                    "6": "NULL"
                                },
                                {
                                    "0": "Hero Xtreme Sports",
                                    "1": "65000",
                                    "2": "2017",
                                    "3": "Individual",
                                    "4": "1st owner",
                                    "5": "23000",
                                    "6": "78350"
                                },
                                {
                                    "0": "Bajaj Avenger [2015]",
                                    "1": "45000",
                                    "2": "2011",
                                    "3": "Individual",
                                    "4": "1st owner",
                                    "5": "35000",
                                    "6": "75502"
                                },
                                {
                                    "0": "Honda Activa 125",
                                    "1": "45000",
                                    "2": "2017",
                                    "3": "Individual",
                                    "4": "1st owner",
                                    "5": "49000",
                                    "6": "NULL"
                                },
                                {
                                    "0": "Bajaj Pulsar 220F",
                                    "1": "50000",
                                    "2": "2011",
                                    "3": "Individual",
                                    "4": "2nd owner",
                                    "5": "55000",
                                    "6": "NULL"
                                },
                                {
                                    "0": "Bajaj Pulsar NS200",
                                    "1": "85000",
                                    "2": "2018",
                                    "3": "Individual",
                                    "4": "2nd owner",
                                    "5": "15100",
                                    "6": "NULL"
                                },
                                {
                                    "0": "Hero Honda Splendor",
                                    "1": "25000",
                                    "2": "2008",
                                    "3": "Individual",
                                    "4": "1st owner",
                                    "5": "38000",
                                    "6": "NULL"
                                },
                                {
                                    "0": "Honda CB Unicorn 150",
                                    "1": "60000",
                                    "2": "2017",
                                    "3": "Individual",
                                    "4": "1st owner",
                                    "5": "12652",
                                    "6": "74295"
                                },
                                {
                                    "0": "Suzuki Gixxer SF Fi",
                                    "1": "100000",
                                    "2": "2019",
                                    "3": "Individual",
                                    "4": "1st owner",
                                    "5": "7000",
                                    "6": "103170"
                                },
                                {
                                    "0": "KTM RC 200",
                                    "1": "180000",
                                    "2": "2019",
                                    "3": "Individual",
                                    "4": "2nd owner",
                                    "5": "13800",
                                    "6": "NULL"
                                },
                                {
                                    "0": "Bajaj Discover 100",
                                    "1": "25000",
                                    "2": "2010",
                                    "3": "Individual",
                                    "4": "2nd owner",
                                    "5": "28000",
                                    "6": "42859"
                                },
                                {
                                    "0": "TVS Wego",
                                    "1": "15000",
                                    "2": "2011",
                                    "3": "Individual",
                                    "4": "2nd owner",
                                    "5": "20000",
                                    "6": "54760"
                                },
                                {
                                    "0": "Honda CB Hornet 160R",
                                    "1": "60000",
                                    "2": "2017",
                                    "3": "Individual",
                                    "4": "2nd owner",
                                    "5": "16008",
                                    "6": "92210"
                                },
                                {
                                    "0": "Yamaha YZF R15 S",
                                    "1": "75000",
                                    "2": "2018",
                                    "3": "Individual",
                                    "4": "1st owner",
                                    "5": "36000",
                                    "6": "117926"
                                },
                                {
                                    "0": "Hero CBZ",
                                    "1": "35000",
                                    "2": "2010",
                                    "3": "Individual",
                                    "4": "1st owner",
                                    "5": "36000",
                                    "6": "NULL"
                                },
                                {
                                    "0": "TVS Scooty Zest 110",
                                    "1": "55000",
                                    "2": "2018",
                                    "3": "Individual",
                                    "4": "1st owner",
                                    "5": "380",
                                    "6": "53751"
                                },
                                {
                                    "0": "Yamaha FZ S V 2.0",
                                    "1": "85000",
                                    "2": "2018",
                                    "3": "Individual",
                                    "4": "1st owner",
                                    "5": "50000",
                                    "6": "87042"
                                },
                                {
                                    "0": "Hero Honda Glamour",
                                    "1": "35000",
                                    "2": "2012",
                                    "3": "Individual",
                                    "4": "1st owner",
                                    "5": "30000",
                                    "6": "NULL"
                                },
                                {
                                    "0": "Hero Honda CBZ extreme",
                                    "1": "35000",
                                    "2": "2011",
                                    "3": "Individual",
                                    "4": "1st owner",
                                    "5": "35000",
                                    "6": "NULL"
                                },
                                {
                                    "0": "Yamaha FZ S V 2.0",
                                    "1": "60000",
                                    "2": "2017",
                                    "3": "Individual",
                                    "4": "1st owner",
                                    "5": "14500",
                                    "6": "84042"
                                },
                                {
                                    "0": "Suzuki Access 125",
                                    "1": "40000",
                                    "2": "2017",
                                    "3": "Individual",
                                    "4": "1st owner",
                                    "5": "15000",
                                    "6": "NULL"
                                },
                                {
                                    "0": "Bajaj Pulsar 150",
                                    "1": "30000",
                                    "2": "2010",
                                    "3": "Individual",
                                    "4": "1st owner",
                                    "5": "54000",
                                    "6": "NULL"
                                },
                                {
                                    "0": "Bajaj Pulsar NS160",
                                    "1": "80000",
                                    "2": "2018",
                                    "3": "Individual",
                                    "4": "1st owner",
                                    "5": "11000",
                                    "6": "NULL"
                                },
                                {
                                    "0": "Hero Splendor PRO",
                                    "1": "24000",
                                    "2": "2011",
                                    "3": "Individual",
                                    "4": "1st owner",
                                    "5": "43000",
                                    "6": "51994"
                                },
                                {
                                    "0": "Honda Shine",
                                    "1": "18000",
                                    "2": "2010",
                                    "3": "Individual",
                                    "4": "1st owner",
                                    "5": "15000",
                                    "6": "NULL"
                                },
                                {
                                    "0": "Hero Passion Pro 110",
                                    "1": "20000",
                                    "2": "2008",
                                    "3": "Individual",
                                    "4": "3rd owner",
                                    "5": "40000",
                                    "6": "NULL"
                                },
                                {
                                    "0": "Yamaha FZ16",
                                    "1": "40000",
                                    "2": "2016",
                                    "3": "Individual",
                                    "4": "1st owner",
                                    "5": "93000",
                                    "6": "78712"
                                },
                                {
                                    "0": "Suzuki Access 125",
                                    "1": "20000",
                                    "2": "2012",
                                    "3": "Individual",
                                    "4": "1st owner",
                                    "5": "24000",
                                    "6": "NULL"
                                },
                                {
                                    "0": "TVS Jupiter",
                                    "1": "70000",
                                    "2": "2018",
                                    "3": "Individual",
                                    "4": "1st owner",
                                    "5": "14000",
                                    "6": "NULL"
                                },
                                {
                                    "0": "Hero Passion Pro 110",
                                    "1": "50000",
                                    "2": "2019",
                                    "3": "Individual",
                                    "4": "1st owner",
                                    "5": "29442",
                                    "6": "NULL"
                                },
                                {
                                    "0": "Yamaha FZ S V 2.0",
                                    "1": "75000",
                                    "2": "2017",
                                    "3": "Individual",
                                    "4": "1st owner",
                                    "5": "20000",
                                    "6": "84042"
                                },
                                {
                                    "0": "Honda Livo",
                                    "1": "25000",
                                    "2": "2015",
                                    "3": "Individual",
                                    "4": "1st owner",
                                    "5": "30000",
                                    "6": "NULL"
                                },
                                {
                                    "0": "Honda CB Hornet 160R",
                                    "1": "70000",
                                    "2": "2017",
                                    "3": "Individual",
                                    "4": "1st owner",
                                    "5": "38000",
                                    "6": "87543"
                                },
                                {
                                    "0": "Honda Activa 125 [2016-2017]",
                                    "1": "55000",
                                    "2": "2018",
                                    "3": "Individual",
                                    "4": "1st owner",
                                    "5": "18000",
                                    "6": "61545"
                                },
                                {
                                    "0": "Honda Activa 5G",
                                    "1": "51000",
                                    "2": "2018",
                                    "3": "Individual",
                                    "4": "1st owner",
                                    "5": "14000",
                                    "6": "59422"
                                },
                                {
                                    "0": "Yamaha Saluto",
                                    "1": "74000",
                                    "2": "2019",
                                    "3": "Individual",
                                    "4": "1st owner",
                                    "5": "13000",
                                    "6": "59844"
                                },
                                {
                                    "0": "Yamaha FZ S V 2.0",
                                    "1": "65000",
                                    "2": "2017",
                                    "3": "Individual",
                                    "4": "1st owner",
                                    "5": "42000",
                                    "6": "84042"
                                },
                                {
                                    "0": "Bajaj Avenger Street 150 [2018]",
                                    "1": "60000",
                                    "2": "2016",
                                    "3": "Individual",
                                    "4": "2nd owner",
                                    "5": "27000",
                                    "6": "80435"
                                },
                                {
                                    "0": "Bajaj Pulsar 220F",
                                    "1": "110000",
                                    "2": "2019",
                                    "3": "Individual",
                                    "4": "1st owner",
                                    "5": "4000",
                                    "6": "NULL"
                                },
                                {
                                    "0": "Yamaha YZF R15 [2011-2018]",
                                    "1": "50000",
                                    "2": "2014",
                                    "3": "Individual",
                                    "4": "1st owner",
                                    "5": "1200",
                                    "6": "118997"
                                },
                                {
                                    "0": "TVS Apache RTR 160 4V",
                                    "1": "85009",
                                    "2": "2018",
                                    "3": "Individual",
                                    "4": "1st owner",
                                    "5": "7500",
                                    "6": "NULL"
                                },
                                {
                                    "0": "Hero Passion Pro 110",
                                    "1": "60000",
                                    "2": "2013",
                                    "3": "Individual",
                                    "4": "1st owner",
                                    "5": "15000",
                                    "6": "NULL"
                                },
                                {
                                    "0": "Bajaj Pulsar 150",
                                    "1": "25000",
                                    "2": "2013",
                                    "3": "Individual",
                                    "4": "2nd owner",
                                    "5": "70000",
                                    "6": "NULL"
                                },
                                {
                                    "0": "TVS Apache RTR 160 4V",
                                    "1": "75000",
                                    "2": "2019",
                                    "3": "Individual",
                                    "4": "1st owner",
                                    "5": "12657",
                                    "6": "NULL"
                                },
                                {
                                    "0": "Honda CB Unicorn 150",
                                    "1": "30000",
                                    "2": "2010",
                                    "3": "Individual",
                                    "4": "1st owner",
                                    "5": "69000",
                                    "6": "74295"
                                },
                                {
                                    "0": "Honda Activa [2000-2015]",
                                    "1": "16600",
                                    "2": "2010",
                                    "3": "Individual",
                                    "4": "1st owner",
                                    "5": "100000",
                                    "6": "50267"
                                },
                                {
                                    "0": "Honda Activa 3G",
                                    "1": "30000",
                                    "2": "2015",
                                    "3": "Individual",
                                    "4": "1st owner",
                                    "5": "18000",
                                    "6": "54605"
                                },
                                {
                                    "0": "Honda Shine",
                                    "1": "20000",
                                    "2": "2007",
                                    "3": "Individual",
                                    "4": "1st owner",
                                    "5": "80000",
                                    "6": "NULL"
                                },
                                {
                                    "0": "Honda Activa 5G",
                                    "1": "62000",
                                    "2": "2019",
                                    "3": "Individual",
                                    "4": "1st owner",
                                    "5": "11200",
                                    "6": "59422"
                                },
                                {
                                    "0": "Bajaj Avenger Street 220",
                                    "1": "60000",
                                    "2": "2016",
                                    "3": "Individual",
                                    "4": "1st owner",
                                    "5": "17000",
                                    "6": "95955"
                                },
                                {
                                    "0": "Hero Xtreme [2013-2014]",
                                    "1": "45000",
                                    "2": "2014",
                                    "3": "Individual",
                                    "4": "1st owner",
                                    "5": "56420",
                                    "6": "72492"
                                },
                                {
                                    "0": "Yamaha FZ S [2012-2016]",
                                    "1": "40000",
                                    "2": "2011",
                                    "3": "Individual",
                                    "4": "1st owner",
                                    "5": "82000",
                                    "6": "79432"
                                },
                                {
                                    "0": "Suzuki Intruder 150",
                                    "1": "75000",
                                    "2": "2018",
                                    "3": "Individual",
                                    "4": "1st owner",
                                    "5": "10000",
                                    "6": "NULL"
                                },
                                {
                                    "0": "Yamaha Fazer [2009-2016]",
                                    "1": "50000",
                                    "2": "2012",
                                    "3": "Individual",
                                    "4": "1st owner",
                                    "5": "100000",
                                    "6": "84751"
                                },
                                {
                                    "0": "Bajaj Pulsar RS 200",
                                    "1": "105000",
                                    "2": "2017",
                                    "3": "Individual",
                                    "4": "1st owner",
                                    "5": "18345",
                                    "6": "NULL"
                                },
                                {
                                    "0": "Bajaj Discover 135",
                                    "1": "30000",
                                    "2": "2009",
                                    "3": "Individual",
                                    "4": "1st owner",
                                    "5": "20000",
                                    "6": "NULL"
                                },
                                {
                                    "0": "Hero Honda CBZ",
                                    "1": "10000",
                                    "2": "2000",
                                    "3": "Individual",
                                    "4": "4th owner",
                                    "5": "48000",
                                    "6": "NULL"
                                },
                                {
                                    "0": "Bajaj Pulsar 135 LS",
                                    "1": "45000",
                                    "2": "2014",
                                    "3": "Individual",
                                    "4": "1st owner",
                                    "5": "14000",
                                    "6": "64589"
                                },
                                {
                                    "0": "Yamaha Fazer 25",
                                    "1": "145000",
                                    "2": "2018",
                                    "3": "Individual",
                                    "4": "2nd owner",
                                    "5": "4100",
                                    "6": "142680"
                                },
                                {
                                    "0": "Honda CB Unicorn 150",
                                    "1": "45000",
                                    "2": "2016",
                                    "3": "Individual",
                                    "4": "2nd owner",
                                    "5": "50000",
                                    "6": "74295"
                                },
                                {
                                    "0": "Honda Activa 5G",
                                    "1": "65000",
                                    "2": "2019",
                                    "3": "Individual",
                                    "4": "1st owner",
                                    "5": "3025",
                                    "6": "59422"
                                },
                                {
                                    "0": "Bajaj Pulsar 135 LS",
                                    "1": "20000",
                                    "2": "2011",
                                    "3": "Individual",
                                    "4": "1st owner",
                                    "5": "60000",
                                    "6": "64589"
                                },
                                {
                                    "0": "Hero Duet",
                                    "1": "37000",
                                    "2": "2016",
                                    "3": "Individual",
                                    "4": "1st owner",
                                    "5": "6000",
                                    "6": "50280"
                                },
                                {
                                    "0": "Hero Splendor NXG",
                                    "1": "18000",
                                    "2": "2011",
                                    "3": "Individual",
                                    "4": "1st owner",
                                    "5": "35000",
                                    "6": "44814"
                                },
                                {
                                    "0": "Hero Glamour 125",
                                    "1": "25000",
                                    "2": "2013",
                                    "3": "Individual",
                                    "4": "1st owner",
                                    "5": "50000",
                                    "6": "61600"
                                },
                                {
                                    "0": "Honda Activa 5G",
                                    "1": "46000",
                                    "2": "2018",
                                    "3": "Individual",
                                    "4": "1st owner",
                                    "5": "10000",
                                    "6": "57557"
                                },
                                {
                                    "0": "Yamaha Fascino 110",
                                    "1": "55000",
                                    "2": "2019",
                                    "3": "Individual",
                                    "4": "1st owner",
                                    "5": "7000",
                                    "6": "57112"
                                },
                                {
                                    "0": "Bajaj V15",
                                    "1": "40000",
                                    "2": "2016",
                                    "3": "Individual",
                                    "4": "1st owner",
                                    "5": "34000",
                                    "6": "67187"
                                },
                                {
                                    "0": "Hero Honda Passion PRO [2012]",
                                    "1": "25000",
                                    "2": "2012",
                                    "3": "Individual",
                                    "4": "2nd owner",
                                    "5": "20000",
                                    "6": "NULL"
                                },
                                {
                                    "0": "Honda Activa [2000-2015]",
                                    "1": "25000",
                                    "2": "2012",
                                    "3": "Individual",
                                    "4": "1st owner",
                                    "5": "38000",
                                    "6": "50267"
                                },
                                {
                                    "0": "Bajaj Xcd",
                                    "1": "15000",
                                    "2": "2008",
                                    "3": "Individual",
                                    "4": "1st owner",
                                    "5": "100000",
                                    "6": "NULL"
                                },
                                {
                                    "0": "Bajaj Pulsar NS160",
                                    "1": "70000",
                                    "2": "2018",
                                    "3": "Individual",
                                    "4": "1st owner",
                                    "5": "20000",
                                    "6": "NULL"
                                },
                                {
                                    "0": "Honda CB Hornet 160R",
                                    "1": "70000",
                                    "2": "2017",
                                    "3": "Individual",
                                    "4": "1st owner",
                                    "5": "240000",
                                    "6": "92210"
                                },
                                {
                                    "0": "Yamaha RXG",
                                    "1": "25000",
                                    "2": "1997",
                                    "3": "Individual",
                                    "4": "1st owner",
                                    "5": "45354",
                                    "6": "NULL"
                                },
                                {
                                    "0": "TVS Streak",
                                    "1": "10000",
                                    "2": "2009",
                                    "3": "Individual",
                                    "4": "1st owner",
                                    "5": "100000",
                                    "6": "NULL"
                                },
                                {
                                    "0": "Bajaj Pulsar RS 200",
                                    "1": "80000",
                                    "2": "2015",
                                    "3": "Individual",
                                    "4": "1st owner",
                                    "5": "32000",
                                    "6": "NULL"
                                },
                                {
                                    "0": "Yamaha Alpha",
                                    "1": "25000",
                                    "2": "2015",
                                    "3": "Individual",
                                    "4": "2nd owner",
                                    "5": "14000",
                                    "6": "54253"
                                },
                                {
                                    "0": "Honda Livo",
                                    "1": "35000",
                                    "2": "2016",
                                    "3": "Individual",
                                    "4": "1st owner",
                                    "5": "70000",
                                    "6": "NULL"
                                },
                                {
                                    "0": "Mahindra Gusto",
                                    "1": "25000",
                                    "2": "2016",
                                    "3": "Individual",
                                    "4": "1st owner",
                                    "5": "13500",
                                    "6": "51185"
                                },
                                {
                                    "0": "Bajaj Discover 125",
                                    "1": "26000",
                                    "2": "2012",
                                    "3": "Individual",
                                    "4": "1st owner",
                                    "5": "75000",
                                    "6": "57549"
                                },
                                {
                                    "0": "Hero Glamour 125",
                                    "1": "15000",
                                    "2": "2011",
                                    "3": "Individual",
                                    "4": "1st owner",
                                    "5": "75000",
                                    "6": "61600"
                                },
                                {
                                    "0": "Honda CB Unicorn 160",
                                    "1": "50000",
                                    "2": "2017",
                                    "3": "Individual",
                                    "4": "1st owner",
                                    "5": "52000",
                                    "6": "77545"
                                },
                                {
                                    "0": "Hero Pleasure",
                                    "1": "26500",
                                    "2": "2013",
                                    "3": "Individual",
                                    "4": "1st owner",
                                    "5": "18860",
                                    "6": "49600"
                                },
                                {
                                    "0": "Royal Enfield Classic 350",
                                    "1": "135000",
                                    "2": "2017",
                                    "3": "Individual",
                                    "4": "1st owner",
                                    "5": "2700",
                                    "6": "NULL"
                                },
                                {
                                    "0": "Honda CB Hornet 160R",
                                    "1": "80000",
                                    "2": "2016",
                                    "3": "Individual",
                                    "4": "1st owner",
                                    "5": "100000",
                                    "6": "92661"
                                },
                                {
                                    "0": "Bajaj CT 100",
                                    "1": "30000",
                                    "2": "2016",
                                    "3": "Individual",
                                    "4": "1st owner",
                                    "5": "38500",
                                    "6": "NULL"
                                },
                                {
                                    "0": "Yamaha FZ S V 2.0",
                                    "1": "90000",
                                    "2": "2018",
                                    "3": "Individual",
                                    "4": "1st owner",
                                    "5": "10500",
                                    "6": "87042"
                                },
                                {
                                    "0": "Bajaj Pulsar 180",
                                    "1": "85000",
                                    "2": "2016",
                                    "3": "Individual",
                                    "4": "1st owner",
                                    "5": "35000",
                                    "6": "85011"
                                },
                                {
                                    "0": "Hero Glamour 125",
                                    "1": "54000",
                                    "2": "2013",
                                    "3": "Individual",
                                    "4": "1st owner",
                                    "5": "17000",
                                    "6": "61600"
                                },
                                {
                                    "0": "Bajaj CT 100",
                                    "1": "42000",
                                    "2": "2019",
                                    "3": "Individual",
                                    "4": "1st owner",
                                    "5": "2900",
                                    "6": "NULL"
                                },
                                {
                                    "0": "Bajaj Discover 100 T",
                                    "1": "25000",
                                    "2": "2014",
                                    "3": "Individual",
                                    "4": "1st owner",
                                    "5": "30000",
                                    "6": "47032"
                                },
                                {
                                    "0": "TVS Star City Plus",
                                    "1": "50000",
                                    "2": "2016",
                                    "3": "Individual",
                                    "4": "2nd owner",
                                    "5": "14000",
                                    "6": "NULL"
                                },
                                {
                                    "0": "Honda CB Unicorn 150",
                                    "1": "55000",
                                    "2": "2014",
                                    "3": "Individual",
                                    "4": "1st owner",
                                    "5": "10000",
                                    "6": "74295"
                                },
                                {
                                    "0": "Hero Passion PRO TR",
                                    "1": "35000",
                                    "2": "2014",
                                    "3": "Individual",
                                    "4": "1st owner",
                                    "5": "9556",
                                    "6": "54586"
                                },
                                {
                                    "0": "Honda CB Shine SP",
                                    "1": "50000",
                                    "2": "2018",
                                    "3": "Individual",
                                    "4": "1st owner",
                                    "5": "37000",
                                    "6": "64750"
                                },
                                {
                                    "0": "Bajaj V15",
                                    "1": "45000",
                                    "2": "2015",
                                    "3": "Individual",
                                    "4": "1st owner",
                                    "5": "2700",
                                    "6": "65626"
                                },
                                {
                                    "0": "Bajaj V15",
                                    "1": "45000",
                                    "2": "2016",
                                    "3": "Individual",
                                    "4": "1st owner",
                                    "5": "36000",
                                    "6": "67187"
                                },
                                {
                                    "0": "Bajaj Discover 100",
                                    "1": "28000",
                                    "2": "2015",
                                    "3": "Individual",
                                    "4": "2nd owner",
                                    "5": "52000",
                                    "6": "42859"
                                },
                                {
                                    "0": "Royal Enfield Electra 4 S",
                                    "1": "80000",
                                    "2": "2013",
                                    "3": "Individual",
                                    "4": "1st owner",
                                    "5": "46000",
                                    "6": "NULL"
                                },
                                {
                                    "0": "KTM 200 Duke",
                                    "1": "130000",
                                    "2": "2016",
                                    "3": "Individual",
                                    "4": "1st owner",
                                    "5": "12000",
                                    "6": "NULL"
                                },
                                {
                                    "0": "Bajaj Pulsar 220F",
                                    "1": "120000",
                                    "2": "2019",
                                    "3": "Individual",
                                    "4": "1st owner",
                                    "5": "6500",
                                    "6": "NULL"
                                },
                                {
                                    "0": "Suzuki GS150R",
                                    "1": "27000",
                                    "2": "2012",
                                    "3": "Individual",
                                    "4": "1st owner",
                                    "5": "14100",
                                    "6": "70851"
                                },
                                {
                                    "0": "Honda Shine",
                                    "1": "30000",
                                    "2": "2014",
                                    "3": "Individual",
                                    "4": "1st owner",
                                    "5": "40000",
                                    "6": "NULL"
                                },
                                {
                                    "0": "Honda CB Unicorn Dazzler",
                                    "1": "50000",
                                    "2": "2010",
                                    "3": "Individual",
                                    "4": "1st owner",
                                    "5": "75000",
                                    "6": "71757"
                                },
                                {
                                    "0": "Honda Livo",
                                    "1": "45000",
                                    "2": "2018",
                                    "3": "Individual",
                                    "4": "1st owner",
                                    "5": "10000",
                                    "6": "NULL"
                                },
                                {
                                    "0": "Honda Aviator",
                                    "1": "28000",
                                    "2": "2009",
                                    "3": "Individual",
                                    "4": "1st owner",
                                    "5": "29625",
                                    "6": "59183"
                                },
                                {
                                    "0": "Honda Activa [2000-2015]",
                                    "1": "6000",
                                    "2": "2006",
                                    "3": "Individual",
                                    "4": "2nd owner",
                                    "5": "35000",
                                    "6": "50267"
                                },
                                {
                                    "0": "Hero Hunk",
                                    "1": "35000",
                                    "2": "2016",
                                    "3": "Individual",
                                    "4": "1st owner",
                                    "5": "32000",
                                    "6": "78513"
                                },
                                {
                                    "0": "Honda Activa 125",
                                    "1": "30000",
                                    "2": "2014",
                                    "3": "Individual",
                                    "4": "1st owner",
                                    "5": "20000",
                                    "6": "NULL"
                                },
                                {
                                    "0": "Bajaj Discover 110",
                                    "1": "15000",
                                    "2": "2007",
                                    "3": "Individual",
                                    "4": "1st owner",
                                    "5": "70000",
                                    "6": "52710"
                                },
                                {
                                    "0": "Hero Xtreme [2013-2014]",
                                    "1": "45000",
                                    "2": "2013",
                                    "3": "Individual",
                                    "4": "1st owner",
                                    "5": "57000",
                                    "6": "75936"
                                },
                                {
                                    "0": "TVS Victor GLX",
                                    "1": "18000",
                                    "2": "2005",
                                    "3": "Individual",
                                    "4": "1st owner",
                                    "5": "11000",
                                    "6": "NULL"
                                },
                                {
                                    "0": "Bajaj Pulsar NS200",
                                    "1": "85000",
                                    "2": "2018",
                                    "3": "Individual",
                                    "4": "1st owner",
                                    "5": "17500",
                                    "6": "NULL"
                                },
                                {
                                    "0": "Honda Aviator",
                                    "1": "30000",
                                    "2": "2014",
                                    "3": "Individual",
                                    "4": "1st owner",
                                    "5": "7000",
                                    "6": "59183"
                                },
                                {
                                    "0": "Bajaj Platina 100",
                                    "1": "40000",
                                    "2": "2018",
                                    "3": "Individual",
                                    "4": "1st owner",
                                    "5": "17500",
                                    "6": "NULL"
                                },
                                {
                                    "0": "TVS Sport",
                                    "1": "34000",
                                    "2": "2018",
                                    "3": "Individual",
                                    "4": "1st owner",
                                    "5": "25000",
                                    "6": "NULL"
                                },
                                {
                                    "0": "Hero Honda Passion Plus",
                                    "1": "8000",
                                    "2": "2003",
                                    "3": "Individual",
                                    "4": "1st owner",
                                    "5": "53500",
                                    "6": "NULL"
                                },
                                {
                                    "0": "Bajaj V15",
                                    "1": "70000",
                                    "2": "2018",
                                    "3": "Individual",
                                    "4": "1st owner",
                                    "5": "15000",
                                    "6": "67187"
                                },
                                {
                                    "0": "Honda Dio",
                                    "1": "50000",
                                    "2": "2016",
                                    "3": "Individual",
                                    "4": "1st owner",
                                    "5": "8000",
                                    "6": "NULL"
                                },
                                {
                                    "0": "Honda Dream Yuga",
                                    "1": "35000",
                                    "2": "2015",
                                    "3": "Individual",
                                    "4": "1st owner",
                                    "5": "39448",
                                    "6": "56147"
                                },
                                {
                                    "0": "Hero Honda Splendor Plus",
                                    "1": "20000",
                                    "2": "2006",
                                    "3": "Individual",
                                    "4": "1st owner",
                                    "5": "75000",
                                    "6": "NULL"
                                },
                                {
                                    "0": "Bajaj Pulsar 150",
                                    "1": "50000",
                                    "2": "2012",
                                    "3": "Individual",
                                    "4": "1st owner",
                                    "5": "28000",
                                    "6": "NULL"
                                },
                                {
                                    "0": "Bajaj Discover 135",
                                    "1": "37000",
                                    "2": "2008",
                                    "3": "Individual",
                                    "4": "1st owner",
                                    "5": "62000",
                                    "6": "NULL"
                                },
                                {
                                    "0": "Honda Livo",
                                    "1": "69000",
                                    "2": "2018",
                                    "3": "Individual",
                                    "4": "1st owner",
                                    "5": "12000",
                                    "6": "NULL"
                                },
                                {
                                    "0": "Hero Honda Splendor NXG",
                                    "1": "28000",
                                    "2": "2012",
                                    "3": "Individual",
                                    "4": "1st owner",
                                    "5": "49999",
                                    "6": "NULL"
                                },
                                {
                                    "0": "Bajaj Discover 125",
                                    "1": "25000",
                                    "2": "2011",
                                    "3": "Individual",
                                    "4": "1st owner",
                                    "5": "70000",
                                    "6": "57549"
                                },
                                {
                                    "0": "Yamaha FZ V 2.0",
                                    "1": "60000",
                                    "2": "2018",
                                    "3": "Individual",
                                    "4": "1st owner",
                                    "5": "25000",
                                    "6": "81508"
                                },
                                {
                                    "0": "Yamaha SZ-S",
                                    "1": "50000",
                                    "2": "2014",
                                    "3": "Individual",
                                    "4": "1st owner",
                                    "5": "20000",
                                    "6": "72532"
                                },
                                {
                                    "0": "Royal Enfield Thunderbird 350",
                                    "1": "135000",
                                    "2": "2016",
                                    "3": "Individual",
                                    "4": "1st owner",
                                    "5": "4500",
                                    "6": "NULL"
                                },
                                {
                                    "0": "Bajaj Discover 125 M",
                                    "1": "30000",
                                    "2": "2014",
                                    "3": "Individual",
                                    "4": "1st owner",
                                    "5": "45000",
                                    "6": "49146"
                                },
                                {
                                    "0": "Yamaha FZ S [2012-2016]",
                                    "1": "60000",
                                    "2": "2014",
                                    "3": "Individual",
                                    "4": "1st owner",
                                    "5": "68000",
                                    "6": "79432"
                                },
                                {
                                    "0": "Honda Activa [2000-2015]",
                                    "1": "23000",
                                    "2": "2009",
                                    "3": "Individual",
                                    "4": "1st owner",
                                    "5": "95000",
                                    "6": "50267"
                                },
                                {
                                    "0": "Bajaj Xcd",
                                    "1": "20000",
                                    "2": "2009",
                                    "3": "Individual",
                                    "4": "1st owner",
                                    "5": "16000",
                                    "6": "NULL"
                                },
                                {
                                    "0": "Bajaj Avenger Street 160",
                                    "1": "80000",
                                    "2": "2019",
                                    "3": "Individual",
                                    "4": "1st owner",
                                    "5": "5000",
                                    "6": "NULL"
                                },
                                {
                                    "0": "Royal Enfield Electra 5 S",
                                    "1": "99000",
                                    "2": "2006",
                                    "3": "Individual",
                                    "4": "2nd owner",
                                    "5": "36000",
                                    "6": "NULL"
                                },
                                {
                                    "0": "TVS Apache RTR 200 4V",
                                    "1": "90000",
                                    "2": "2018",
                                    "3": "Individual",
                                    "4": "1st owner",
                                    "5": "70000",
                                    "6": "NULL"
                                },
                                {
                                    "0": "Hero Honda Splendor Plus",
                                    "1": "20000",
                                    "2": "2005",
                                    "3": "Individual",
                                    "4": "1st owner",
                                    "5": "27370",
                                    "6": "NULL"
                                },
                                {
                                    "0": "Hero Glamour 125",
                                    "1": "50000",
                                    "2": "2017",
                                    "3": "Individual",
                                    "4": "1st owner",
                                    "5": "8600",
                                    "6": "61600"
                                },
                                {
                                    "0": "TVS Victor GLX",
                                    "1": "27000",
                                    "2": "2002",
                                    "3": "Individual",
                                    "4": "1st owner",
                                    "5": "49000",
                                    "6": "NULL"
                                },
                                {
                                    "0": "Honda Grazia",
                                    "1": "60000",
                                    "2": "2018",
                                    "3": "Individual",
                                    "4": "1st owner",
                                    "5": "16000",
                                    "6": "NULL"
                                },
                                {
                                    "0": "Bajaj Pulsar 150 [2001-2011]",
                                    "1": "12000",
                                    "2": "2007",
                                    "3": "Individual",
                                    "4": "2nd owner",
                                    "5": "100000",
                                    "6": "NULL"
                                },
                                {
                                    "0": "Hero Xtreme 2014",
                                    "1": "50000",
                                    "2": "2014",
                                    "3": "Individual",
                                    "4": "1st owner",
                                    "5": "10000",
                                    "6": "72973"
                                },
                                {
                                    "0": "Hero Pleasure",
                                    "1": "20000",
                                    "2": "2012",
                                    "3": "Individual",
                                    "4": "2nd owner",
                                    "5": "30000",
                                    "6": "49600"
                                },
                                {
                                    "0": "Hero Passion XPro",
                                    "1": "45000",
                                    "2": "2018",
                                    "3": "Individual",
                                    "4": "1st owner",
                                    "5": "7000",
                                    "6": "58900"
                                },
                                {
                                    "0": "Hero Super Splendor",
                                    "1": "40000",
                                    "2": "2013",
                                    "3": "Individual",
                                    "4": "1st owner",
                                    "5": "68000",
                                    "6": "NULL"
                                },
                                {
                                    "0": "Yamaha FZ S [2012-2016]",
                                    "1": "45000",
                                    "2": "2016",
                                    "3": "Individual",
                                    "4": "2nd owner",
                                    "5": "20000",
                                    "6": "79432"
                                },
                                {
                                    "0": "Honda Activa [2000-2015]",
                                    "1": "25000",
                                    "2": "2015",
                                    "3": "Individual",
                                    "4": "1st owner",
                                    "5": "25000",
                                    "6": "50267"
                                },
                                {
                                    "0": "Hero Glamour FI",
                                    "1": "75000",
                                    "2": "2019",
                                    "3": "Individual",
                                    "4": "1st owner",
                                    "5": "8900",
                                    "6": "71150"
                                },
                                {
                                    "0": "Hero Honda Passion Plus",
                                    "1": "25000",
                                    "2": "2007",
                                    "3": "Individual",
                                    "4": "1st owner",
                                    "5": "70000",
                                    "6": "NULL"
                                },
                                {
                                    "0": "Hero Splendor Plus",
                                    "1": "25000",
                                    "2": "2006",
                                    "3": "Individual",
                                    "4": "2nd owner",
                                    "5": "40000",
                                    "6": "NULL"
                                },
                                {
                                    "0": "Hero Xpulse 200",
                                    "1": "100000",
                                    "2": "2019",
                                    "3": "Individual",
                                    "4": "1st owner",
                                    "5": "8500",
                                    "6": "107500"
                                },
                                {
                                    "0": "Honda CB Unicorn 150",
                                    "1": "30000",
                                    "2": "2012",
                                    "3": "Individual",
                                    "4": "1st owner",
                                    "5": "32000",
                                    "6": "74295"
                                },
                                {
                                    "0": "Bajaj Discover 135",
                                    "1": "25000",
                                    "2": "2010",
                                    "3": "Individual",
                                    "4": "1st owner",
                                    "5": "55000",
                                    "6": "NULL"
                                },
                                {
                                    "0": "Hero Honda Splendor",
                                    "1": "10000",
                                    "2": "2006",
                                    "3": "Individual",
                                    "4": "1st owner",
                                    "5": "75000",
                                    "6": "NULL"
                                },
                                {
                                    "0": "Hero Honda CD Deluxe",
                                    "1": "25000",
                                    "2": "2008",
                                    "3": "Individual",
                                    "4": "3rd owner",
                                    "5": "65000",
                                    "6": "NULL"
                                },
                                {
                                    "0": "Royal Enfield Electra Twinspark",
                                    "1": "120000",
                                    "2": "2016",
                                    "3": "Individual",
                                    "4": "1st owner",
                                    "5": "345000",
                                    "6": "NULL"
                                },
                                {
                                    "0": "Honda Dream Neo",
                                    "1": "42000",
                                    "2": "2014",
                                    "3": "Individual",
                                    "4": "1st owner",
                                    "5": "21000",
                                    "6": "53415"
                                },
                                {
                                    "0": "Hero Maestro",
                                    "1": "30000",
                                    "2": "2013",
                                    "3": "Individual",
                                    "4": "1st owner",
                                    "5": "60000",
                                    "6": "49412"
                                },
                                {
                                    "0": "Honda CBR150 R",
                                    "1": "77000",
                                    "2": "2014",
                                    "3": "Individual",
                                    "4": "1st owner",
                                    "5": "38000",
                                    "6": "132513"
                                },
                                {
                                    "0": "Honda CB Unicorn Dazzler",
                                    "1": "25000",
                                    "2": "2011",
                                    "3": "Individual",
                                    "4": "1st owner",
                                    "5": "40000",
                                    "6": "71757"
                                },
                                {
                                    "0": "TVS Apache [2006]",
                                    "1": "15000",
                                    "2": "2006",
                                    "3": "Individual",
                                    "4": "1st owner",
                                    "5": "40000",
                                    "6": "NULL"
                                },
                                {
                                    "0": "Hero Passion XPro",
                                    "1": "25000",
                                    "2": "2013",
                                    "3": "Individual",
                                    "4": "1st owner",
                                    "5": "25000",
                                    "6": "59640"
                                },
                                {
                                    "0": "Honda Activa 5G",
                                    "1": "50000",
                                    "2": "2018",
                                    "3": "Individual",
                                    "4": "1st owner",
                                    "5": "25000",
                                    "6": "57957"
                                },
                                {
                                    "0": "Honda Activa i",
                                    "1": "30000",
                                    "2": "2014",
                                    "3": "Individual",
                                    "4": "1st owner",
                                    "5": "25000",
                                    "6": "53900"
                                },
                                {
                                    "0": "TVS Apache RTR 200 4V",
                                    "1": "125000",
                                    "2": "2019",
                                    "3": "Individual",
                                    "4": "1st owner",
                                    "5": "3000",
                                    "6": "NULL"
                                },
                                {
                                    "0": "Hero Honda CBZ extreme",
                                    "1": "35000",
                                    "2": "2011",
                                    "3": "Individual",
                                    "4": "1st owner",
                                    "5": "28000",
                                    "6": "NULL"
                                },
                                {
                                    "0": "Suzuki Gixxer [2014-2018]",
                                    "1": "45000",
                                    "2": "2015",
                                    "3": "Individual",
                                    "4": "1st owner",
                                    "5": "40000",
                                    "6": "78316"
                                },
                                {
                                    "0": "Hero Xpulse 200",
                                    "1": "98000",
                                    "2": "2019",
                                    "3": "Individual",
                                    "4": "1st owner",
                                    "5": "8500",
                                    "6": "107500"
                                },
                                {
                                    "0": "Bajaj Pulsar 150",
                                    "1": "75000",
                                    "2": "2017",
                                    "3": "Individual",
                                    "4": "1st owner",
                                    "5": "30000",
                                    "6": "NULL"
                                },
                                {
                                    "0": "Bajaj Pulsar AS150",
                                    "1": "55000",
                                    "2": "2017",
                                    "3": "Individual",
                                    "4": "2nd owner",
                                    "5": "20000",
                                    "6": "80821"
                                },
                                {
                                    "0": "Bajaj Platina 100",
                                    "1": "25000",
                                    "2": "2013",
                                    "3": "Individual",
                                    "4": "1st owner",
                                    "5": "30000",
                                    "6": "NULL"
                                },
                                {
                                    "0": "Honda CB Twister",
                                    "1": "70000",
                                    "2": "2014",
                                    "3": "Individual",
                                    "4": "1st owner",
                                    "5": "12566",
                                    "6": "49150"
                                },
                                {
                                    "0": "Suzuki SlingShot",
                                    "1": "24000",
                                    "2": "2011",
                                    "3": "Individual",
                                    "4": "1st owner",
                                    "5": "17000",
                                    "6": "NULL"
                                },
                                {
                                    "0": "TVS Apache RTR 160",
                                    "1": "70000",
                                    "2": "2018",
                                    "3": "Individual",
                                    "4": "1st owner",
                                    "5": "17000",
                                    "6": "NULL"
                                },
                                {
                                    "0": "Bajaj V12",
                                    "1": "45000",
                                    "2": "2017",
                                    "3": "Individual",
                                    "4": "1st owner",
                                    "5": "35000",
                                    "6": "58906"
                                },
                                {
                                    "0": "Hero Karizma 2014",
                                    "1": "25000",
                                    "2": "2015",
                                    "3": "Individual",
                                    "4": "1st owner",
                                    "5": "40000",
                                    "6": "86744"
                                },
                                {
                                    "0": "Yamaha YZF R15 V3",
                                    "1": "170000",
                                    "2": "2019",
                                    "3": "Individual",
                                    "4": "1st owner",
                                    "5": "1400",
                                    "6": "146400"
                                },
                                {
                                    "0": "Yamaha Fascino 110",
                                    "1": "38000",
                                    "2": "2016",
                                    "3": "Individual",
                                    "4": "1st owner",
                                    "5": "37000",
                                    "6": "54500"
                                },
                                {
                                    "0": "Honda CB Unicorn 160",
                                    "1": "45000",
                                    "2": "2015",
                                    "3": "Individual",
                                    "4": "1st owner",
                                    "5": "15000",
                                    "6": "77545"
                                },
                                {
                                    "0": "Yamaha Gladiator",
                                    "1": "15000",
                                    "2": "2009",
                                    "3": "Individual",
                                    "4": "1st owner",
                                    "5": "46000",
                                    "6": "NULL"
                                },
                                {
                                    "0": "Hero Honda Glamour",
                                    "1": "45000",
                                    "2": "2012",
                                    "3": "Individual",
                                    "4": "1st owner",
                                    "5": "75000",
                                    "6": "NULL"
                                },
                                {
                                    "0": "Bajaj Discover 100",
                                    "1": "22000",
                                    "2": "2014",
                                    "3": "Individual",
                                    "4": "1st owner",
                                    "5": "14289",
                                    "6": "42859"
                                },
                                {
                                    "0": "Mahindra Gusto",
                                    "1": "30000",
                                    "2": "2015",
                                    "3": "Individual",
                                    "4": "2nd owner",
                                    "5": "20000",
                                    "6": "51185"
                                },
                                {
                                    "0": "Royal Enfield Thunderbird 350",
                                    "1": "100000",
                                    "2": "2012",
                                    "3": "Individual",
                                    "4": "1st owner",
                                    "5": "28000",
                                    "6": "NULL"
                                },
                                {
                                    "0": "Royal Enfield Classic 350",
                                    "1": "100000",
                                    "2": "2014",
                                    "3": "Individual",
                                    "4": "1st owner",
                                    "5": "19000",
                                    "6": "NULL"
                                },
                                {
                                    "0": "Bajaj Pulsar 150",
                                    "1": "60000",
                                    "2": "2017",
                                    "3": "Individual",
                                    "4": "1st owner",
                                    "5": "28450",
                                    "6": "NULL"
                                },
                                {
                                    "0": "Royal Enfield Electra Twinspark",
                                    "1": "100000",
                                    "2": "2014",
                                    "3": "Individual",
                                    "4": "1st owner",
                                    "5": "31500",
                                    "6": "NULL"
                                },
                                {
                                    "0": "Bajaj Pulsar 150",
                                    "1": "40000",
                                    "2": "2016",
                                    "3": "Individual",
                                    "4": "1st owner",
                                    "5": "28000",
                                    "6": "NULL"
                                },
                                {
                                    "0": "Bajaj Pulsar 150",
                                    "1": "21000",
                                    "2": "2007",
                                    "3": "Individual",
                                    "4": "1st owner",
                                    "5": "100000",
                                    "6": "NULL"
                                },
                                {
                                    "0": "Hero HF Deluxe",
                                    "1": "40000",
                                    "2": "2018",
                                    "3": "Individual",
                                    "4": "1st owner",
                                    "5": "16000",
                                    "6": "NULL"
                                },
                                {
                                    "0": "Honda Activa [2000-2015]",
                                    "1": "25000",
                                    "2": "2007",
                                    "3": "Individual",
                                    "4": "1st owner",
                                    "5": "17860",
                                    "6": "50267"
                                },
                                {
                                    "0": "Yamaha FZ S [2012-2016]",
                                    "1": "45000",
                                    "2": "2015",
                                    "3": "Individual",
                                    "4": "1st owner",
                                    "5": "24000",
                                    "6": "79432"
                                },
                                {
                                    "0": "Bajaj Avenger Cruise 220",
                                    "1": "75000",
                                    "2": "2016",
                                    "3": "Individual",
                                    "4": "1st owner",
                                    "5": "10950",
                                    "6": "NULL"
                                },
                                {
                                    "0": "Honda Dio",
                                    "1": "45000",
                                    "2": "2017",
                                    "3": "Individual",
                                    "4": "1st owner",
                                    "5": "35850",
                                    "6": "NULL"
                                },
                                {
                                    "0": "Honda Activa i [2016-2017]",
                                    "1": "35000",
                                    "2": "2016",
                                    "3": "Individual",
                                    "4": "1st owner",
                                    "5": "29000",
                                    "6": "53436"
                                },
                                {
                                    "0": "Royal Enfield Bullet 350 [2007-2011]",
                                    "1": "60000",
                                    "2": "2001",
                                    "3": "Individual",
                                    "4": "2nd owner",
                                    "5": "4000",
                                    "6": "NULL"
                                },
                                {
                                    "0": "Yamaha FZ V 2.0",
                                    "1": "60000",
                                    "2": "2016",
                                    "3": "Individual",
                                    "4": "1st owner",
                                    "5": "45420",
                                    "6": "81508"
                                },
                                {
                                    "0": "Royal Enfield Classic 350",
                                    "1": "130000",
                                    "2": "2018",
                                    "3": "Individual",
                                    "4": "2nd owner",
                                    "5": "35000",
                                    "6": "NULL"
                                },
                                {
                                    "0": "Honda CB Shine SP",
                                    "1": "42000",
                                    "2": "2017",
                                    "3": "Individual",
                                    "4": "1st owner",
                                    "5": "19800",
                                    "6": "64750"
                                },
                                {
                                    "0": "Bajaj V15",
                                    "1": "76000",
                                    "2": "2018",
                                    "3": "Individual",
                                    "4": "1st owner",
                                    "5": "23000",
                                    "6": "65626"
                                },
                                {
                                    "0": "Hero CBZ",
                                    "1": "40000",
                                    "2": "2014",
                                    "3": "Individual",
                                    "4": "1st owner",
                                    "5": "35000",
                                    "6": "NULL"
                                },
                                {
                                    "0": "Hero Splendor Plus",
                                    "1": "65000",
                                    "2": "2018",
                                    "3": "Individual",
                                    "4": "1st owner",
                                    "5": "7500",
                                    "6": "NULL"
                                },
                                {
                                    "0": "Bajaj Discover 100 T",
                                    "1": "20000",
                                    "2": "2013",
                                    "3": "Individual",
                                    "4": "1st owner",
                                    "5": "20000",
                                    "6": "47032"
                                },
                                {
                                    "0": "Honda CB Hornet 160R",
                                    "1": "75000",
                                    "2": "2016",
                                    "3": "Individual",
                                    "4": "1st owner",
                                    "5": "72000",
                                    "6": "92661"
                                },
                                {
                                    "0": "Honda CB Hornet 160R",
                                    "1": "70000",
                                    "2": "2018",
                                    "3": "Individual",
                                    "4": "1st owner",
                                    "5": "7000",
                                    "6": "92661"
                                },
                                {
                                    "0": "TVS Apache RTR 160 4V",
                                    "1": "105000",
                                    "2": "2019",
                                    "3": "Individual",
                                    "4": "1st owner",
                                    "5": "6000",
                                    "6": "NULL"
                                },
                                {
                                    "0": "Honda CB Shine SP",
                                    "1": "50000",
                                    "2": "2017",
                                    "3": "Individual",
                                    "4": "1st owner",
                                    "5": "34300",
                                    "6": "62317"
                                },
                                {
                                    "0": "Royal Enfield Classic 350",
                                    "1": "120000",
                                    "2": "2017",
                                    "3": "Individual",
                                    "4": "1st owner",
                                    "5": "7199",
                                    "6": "NULL"
                                },
                                {
                                    "0": "Bajaj Pulsar 180",
                                    "1": "25000",
                                    "2": "2011",
                                    "3": "Individual",
                                    "4": "1st owner",
                                    "5": "43000",
                                    "6": "85011"
                                },
                                {
                                    "0": "TVS XL 100",
                                    "1": "30000",
                                    "2": "2017",
                                    "3": "Individual",
                                    "4": "1st owner",
                                    "5": "8000",
                                    "6": "30490"
                                },
                                {
                                    "0": "Hero Super Splendor",
                                    "1": "50000",
                                    "2": "2017",
                                    "3": "Individual",
                                    "4": "1st owner",
                                    "5": "9999",
                                    "6": "NULL"
                                },
                                {
                                    "0": "Hero Honda CBZ extreme",
                                    "1": "25000",
                                    "2": "2007",
                                    "3": "Individual",
                                    "4": "1st owner",
                                    "5": "80000",
                                    "6": "NULL"
                                },
                                {
                                    "0": "Bajaj Pulsar 180",
                                    "1": "50000",
                                    "2": "2014",
                                    "3": "Individual",
                                    "4": "1st owner",
                                    "5": "30000",
                                    "6": "85011"
                                },
                                {
                                    "0": "Bajaj Discover 150",
                                    "1": "35000",
                                    "2": "2015",
                                    "3": "Individual",
                                    "4": "1st owner",
                                    "5": "12000",
                                    "6": "54299"
                                },
                                {
                                    "0": "Bajaj Pulsar 180",
                                    "1": "30000",
                                    "2": "2009",
                                    "3": "Individual",
                                    "4": "1st owner",
                                    "5": "17500",
                                    "6": "85011"
                                },
                                {
                                    "0": "Honda Shine",
                                    "1": "37000",
                                    "2": "2016",
                                    "3": "Individual",
                                    "4": "1st owner",
                                    "5": "45000",
                                    "6": "NULL"
                                },
                                {
                                    "0": "Honda CB Unicorn 150",
                                    "1": "42000",
                                    "2": "2013",
                                    "3": "Individual",
                                    "4": "1st owner",
                                    "5": "38000",
                                    "6": "74295"
                                },
                                {
                                    "0": "Royal Enfield Himalayan",
                                    "1": "119000",
                                    "2": "2016",
                                    "3": "Individual",
                                    "4": "1st owner",
                                    "5": "19800",
                                    "6": "NULL"
                                },
                                {
                                    "0": "Kawasaki Ninja 650 [2018-2019]",
                                    "1": "300000",
                                    "2": "2011",
                                    "3": "Individual",
                                    "4": "1st owner",
                                    "5": "12000",
                                    "6": "589000"
                                },
                                {
                                    "0": "Royal Enfield Classic 350",
                                    "1": "130000",
                                    "2": "1993",
                                    "3": "Individual",
                                    "4": "2nd owner",
                                    "5": "10000",
                                    "6": "NULL"
                                },
                                {
                                    "0": "Hero Honda Passion Plus",
                                    "1": "22000",
                                    "2": "2008",
                                    "3": "Individual",
                                    "4": "2nd owner",
                                    "5": "85000",
                                    "6": "NULL"
                                },
                                {
                                    "0": "Hero Honda Splendor Plus",
                                    "1": "15000",
                                    "2": "2007",
                                    "3": "Individual",
                                    "4": "1st owner",
                                    "5": "70000",
                                    "6": "NULL"
                                },
                                {
                                    "0": "Benelli TNT 25",
                                    "1": "160000",
                                    "2": "2017",
                                    "3": "Individual",
                                    "4": "1st owner",
                                    "5": "2009",
                                    "6": "170994"
                                },
                                {
                                    "0": "Royal Enfield Thunderbird 500X",
                                    "1": "185000",
                                    "2": "2018",
                                    "3": "Individual",
                                    "4": "1st owner",
                                    "5": "1500",
                                    "6": "198605"
                                },
                                {
                                    "0": "Royal Enfield Continental GT [2013 - 2018]",
                                    "1": "110000",
                                    "2": "2014",
                                    "3": "Individual",
                                    "4": "1st owner",
                                    "5": "12077",
                                    "6": "208902"
                                },
                                {
                                    "0": "KTM RC 200",
                                    "1": "150000",
                                    "2": "2017",
                                    "3": "Individual",
                                    "4": "1st owner",
                                    "5": "20000",
                                    "6": "NULL"
                                },
                                {
                                    "0": "Royal Enfield Bullet 350 [2007-2011]",
                                    "1": "150000",
                                    "2": "1995",
                                    "3": "Individual",
                                    "4": "3rd owner",
                                    "5": "20000",
                                    "6": "NULL"
                                },
                                {
                                    "0": "Bajaj Pulsar 220F",
                                    "1": "45000",
                                    "2": "2011",
                                    "3": "Individual",
                                    "4": "1st owner",
                                    "5": "40000",
                                    "6": "NULL"
                                },
                                {
                                    "0": "Bajaj Avenger Street 220",
                                    "1": "75000",
                                    "2": "2018",
                                    "3": "Individual",
                                    "4": "1st owner",
                                    "5": "12000",
                                    "6": "95955"
                                },
                                {
                                    "0": "Honda Activa 125 [2016-2017]",
                                    "1": "50000",
                                    "2": "2017",
                                    "3": "Individual",
                                    "4": "1st owner",
                                    "5": "27000",
                                    "6": "61545"
                                },
                                {
                                    "0": "Honda Shine",
                                    "1": "30000",
                                    "2": "2013",
                                    "3": "Individual",
                                    "4": "1st owner",
                                    "5": "93000",
                                    "6": "NULL"
                                },
                                {
                                    "0": "Bajaj Discover 150F",
                                    "1": "30000",
                                    "2": "2015",
                                    "3": "Individual",
                                    "4": "1st owner",
                                    "5": "12000",
                                    "6": "64071"
                                },
                                {
                                    "0": "Bajaj Pulsar 150 [2001-2011]",
                                    "1": "22000",
                                    "2": "2011",
                                    "3": "Individual",
                                    "4": "1st owner",
                                    "5": "36000",
                                    "6": "NULL"
                                },
                                {
                                    "0": "Hero Karizma ZMR",
                                    "1": "75000",
                                    "2": "2015",
                                    "3": "Individual",
                                    "4": "1st owner",
                                    "5": "11000",
                                    "6": "108000"
                                },
                                {
                                    "0": "Honda Dream Yuga",
                                    "1": "45000",
                                    "2": "2017",
                                    "3": "Individual",
                                    "4": "1st owner",
                                    "5": "26000",
                                    "6": "56147"
                                },
                                {
                                    "0": "Hero Glamour 125",
                                    "1": "35000",
                                    "2": "2014",
                                    "3": "Individual",
                                    "4": "1st owner",
                                    "5": "450000",
                                    "6": "61600"
                                },
                                {
                                    "0": "Honda Activa [2000-2015]",
                                    "1": "35000",
                                    "2": "2012",
                                    "3": "Individual",
                                    "4": "1st owner",
                                    "5": "29000",
                                    "6": "50267"
                                },
                                {
                                    "0": "Bajaj CT 100",
                                    "1": "25000",
                                    "2": "2017",
                                    "3": "Individual",
                                    "4": "1st owner",
                                    "5": "45000",
                                    "6": "NULL"
                                },
                                {
                                    "0": "Honda CB Hornet 160R",
                                    "1": "70000",
                                    "2": "2017",
                                    "3": "Individual",
                                    "4": "1st owner",
                                    "5": "13000",
                                    "6": "92210"
                                },
                                {
                                    "0": "Hero CD Dawn",
                                    "1": "10000",
                                    "2": "2005",
                                    "3": "Individual",
                                    "4": "1st owner",
                                    "5": "48000",
                                    "6": "NULL"
                                },
                                {
                                    "0": "Royal Enfield Classic Gunmetal Grey",
                                    "1": "180000",
                                    "2": "2018",
                                    "3": "Individual",
                                    "4": "1st owner",
                                    "5": "5814",
                                    "6": "148114"
                                },
                                {
                                    "0": "Bajaj Discover 100",
                                    "1": "24000",
                                    "2": "2014",
                                    "3": "Individual",
                                    "4": "1st owner",
                                    "5": "31000",
                                    "6": "42859"
                                },
                                {
                                    "0": "Honda Shine",
                                    "1": "42000",
                                    "2": "2017",
                                    "3": "Individual",
                                    "4": "1st owner",
                                    "5": "25000",
                                    "6": "NULL"
                                },
                                {
                                    "0": "TVS Max DLX",
                                    "1": "26000",
                                    "2": "2002",
                                    "3": "Individual",
                                    "4": "2nd owner",
                                    "5": "28000",
                                    "6": "NULL"
                                },
                                {
                                    "0": "Honda Dio",
                                    "1": "60000",
                                    "2": "2018",
                                    "3": "Individual",
                                    "4": "1st owner",
                                    "5": "11000",
                                    "6": "NULL"
                                },
                                {
                                    "0": "Bajaj Pulsar 180",
                                    "1": "72000",
                                    "2": "2017",
                                    "3": "Dealer",
                                    "4": "1st owner",
                                    "5": "7850",
                                    "6": "85011"
                                },
                                {
                                    "0": "Royal Enfield Thunderbird 350",
                                    "1": "120000",
                                    "2": "2015",
                                    "3": "Individual",
                                    "4": "1st owner",
                                    "5": "10000",
                                    "6": "NULL"
                                },
                                {
                                    "0": "Royal Enfield Thunderbird 350",
                                    "1": "59000",
                                    "2": "2005",
                                    "3": "Individual",
                                    "4": "2nd owner",
                                    "5": "40000",
                                    "6": "NULL"
                                },
                                {
                                    "0": "Royal Enfield Classic Chrome",
                                    "1": "185000",
                                    "2": "2015",
                                    "3": "Individual",
                                    "4": "2nd owner",
                                    "5": "5000",
                                    "6": "189313"
                                },
                                {
                                    "0": "Royal Enfield Classic Gunmetal Grey",
                                    "1": "140000",
                                    "2": "2018",
                                    "3": "Individual",
                                    "4": "1st owner",
                                    "5": "14000",
                                    "6": "148114"
                                },
                                {
                                    "0": "KTM 390 Duke",
                                    "1": "205000",
                                    "2": "2018",
                                    "3": "Individual",
                                    "4": "1st owner",
                                    "5": "7500",
                                    "6": "NULL"
                                },
                                {
                                    "0": "Hero Pleasure [2005-2015]",
                                    "1": "30000",
                                    "2": "2013",
                                    "3": "Individual",
                                    "4": "1st owner",
                                    "5": "25000",
                                    "6": "46779"
                                },
                                {
                                    "0": "TVS Victor",
                                    "1": "18000",
                                    "2": "2004",
                                    "3": "Individual",
                                    "4": "1st owner",
                                    "5": "46700",
                                    "6": "54852"
                                },
                                {
                                    "0": "Bajaj Pulsar 150",
                                    "1": "35000",
                                    "2": "2011",
                                    "3": "Individual",
                                    "4": "1st owner",
                                    "5": "12000",
                                    "6": "NULL"
                                },
                                {
                                    "0": "KTM RC 200",
                                    "1": "185000",
                                    "2": "2019",
                                    "3": "Individual",
                                    "4": "1st owner",
                                    "5": "6000",
                                    "6": "NULL"
                                },
                                {
                                    "0": "Kawasaki Ninja 300",
                                    "1": "300000",
                                    "2": "2016",
                                    "3": "Individual",
                                    "4": "1st owner",
                                    "5": "9800",
                                    "6": "360000"
                                },
                                {
                                    "0": "Honda Dream Yuga",
                                    "1": "30000",
                                    "2": "2015",
                                    "3": "Individual",
                                    "4": "2nd owner",
                                    "5": "46070",
                                    "6": "56147"
                                },
                                {
                                    "0": "Bajaj Pulsar 150",
                                    "1": "35000",
                                    "2": "2009",
                                    "3": "Individual",
                                    "4": "1st owner",
                                    "5": "14500",
                                    "6": "NULL"
                                },
                                {
                                    "0": "Bajaj Pulsar 150 [2001-2011]",
                                    "1": "35000",
                                    "2": "2008",
                                    "3": "Individual",
                                    "4": "1st owner",
                                    "5": "70000",
                                    "6": "NULL"
                                },
                                {
                                    "0": "Hero Honda Passion Plus",
                                    "1": "25000",
                                    "2": "2008",
                                    "3": "Dealer",
                                    "4": "2nd owner",
                                    "5": "100000",
                                    "6": "NULL"
                                },
                                {
                                    "0": "Yamaha YZF R15 [2011-2018]",
                                    "1": "80000",
                                    "2": "2013",
                                    "3": "Dealer",
                                    "4": "1st owner",
                                    "5": "30000",
                                    "6": "118997"
                                },
                                {
                                    "0": "Hero Honda Splendor Plus",
                                    "1": "20000",
                                    "2": "2004",
                                    "3": "Individual",
                                    "4": "2nd owner",
                                    "5": "127000",
                                    "6": "NULL"
                                },
                                {
                                    "0": "Hero Karizma ZMR",
                                    "1": "43000",
                                    "2": "2012",
                                    "3": "Individual",
                                    "4": "2nd owner",
                                    "5": "63000",
                                    "6": "108000"
                                },
                                {
                                    "0": "Hero Honda Splendor Plus",
                                    "1": "20000",
                                    "2": "2010",
                                    "3": "Individual",
                                    "4": "2nd owner",
                                    "5": "30000",
                                    "6": "NULL"
                                },
                                {
                                    "0": "Yo Style",
                                    "1": "20000",
                                    "2": "2011",
                                    "3": "Individual",
                                    "4": "1st owner",
                                    "5": "10000",
                                    "6": "37675"
                                },
                                {
                                    "0": "Hero Splendor iSmart",
                                    "1": "40000",
                                    "2": "2015",
                                    "3": "Individual",
                                    "4": "1st owner",
                                    "5": "10000",
                                    "6": "52271"
                                },
                                {
                                    "0": "Hero Super Splendor",
                                    "1": "30000",
                                    "2": "2011",
                                    "3": "Individual",
                                    "4": "1st owner",
                                    "5": "89000",
                                    "6": "NULL"
                                },
                                {
                                    "0": "Bajaj Discover 100",
                                    "1": "21000",
                                    "2": "2009",
                                    "3": "Individual",
                                    "4": "1st owner",
                                    "5": "50000",
                                    "6": "42859"
                                },
                                {
                                    "0": "Yamaha Fazer [2009-2016]",
                                    "1": "35000",
                                    "2": "2011",
                                    "3": "Individual",
                                    "4": "1st owner",
                                    "5": "15500",
                                    "6": "84751"
                                },
                                {
                                    "0": "Bajaj Discover 125",
                                    "1": "23000",
                                    "2": "2011",
                                    "3": "Individual",
                                    "4": "1st owner",
                                    "5": "66000",
                                    "6": "57549"
                                },
                                {
                                    "0": "Hero Super Splendor",
                                    "1": "40000",
                                    "2": "2017",
                                    "3": "Individual",
                                    "4": "2nd owner",
                                    "5": "80000",
                                    "6": "NULL"
                                },
                                {
                                    "0": "Honda Shine",
                                    "1": "40000",
                                    "2": "2011",
                                    "3": "Individual",
                                    "4": "1st owner",
                                    "5": "8600",
                                    "6": "NULL"
                                },
                                {
                                    "0": "Bajaj Discover 125 M",
                                    "1": "45000",
                                    "2": "2014",
                                    "3": "Individual",
                                    "4": "1st owner",
                                    "5": "40000",
                                    "6": "47186"
                                },
                                {
                                    "0": "Bajaj Avenger Street 150 [2018]",
                                    "1": "60000",
                                    "2": "2016",
                                    "3": "Individual",
                                    "4": "1st owner",
                                    "5": "25000",
                                    "6": "80435"
                                },
                                {
                                    "0": "Yamaha Fazer [2009-2016]",
                                    "1": "40000",
                                    "2": "2013",
                                    "3": "Individual",
                                    "4": "1st owner",
                                    "5": "34500",
                                    "6": "84751"
                                },
                                {
                                    "0": "Hero Passion X Pro [2016-2017]",
                                    "1": "42000",
                                    "2": "2016",
                                    "3": "Individual",
                                    "4": "1st owner",
                                    "5": "15500",
                                    "6": "59095"
                                },
                                {
                                    "0": "Honda Activa [2000-2015]",
                                    "1": "18000",
                                    "2": "2011",
                                    "3": "Individual",
                                    "4": "1st owner",
                                    "5": "28000",
                                    "6": "50267"
                                },
                                {
                                    "0": "TVS Star City",
                                    "1": "15000",
                                    "2": "2006",
                                    "3": "Individual",
                                    "4": "1st owner",
                                    "5": "40000",
                                    "6": "46575"
                                },
                                {
                                    "0": "Hero Honda Hunk",
                                    "1": "45000",
                                    "2": "2013",
                                    "3": "Individual",
                                    "4": "1st owner",
                                    "5": "40000",
                                    "6": "NULL"
                                },
                                {
                                    "0": "TVS Star City",
                                    "1": "25000",
                                    "2": "2016",
                                    "3": "Individual",
                                    "4": "1st owner",
                                    "5": "50000",
                                    "6": "47108"
                                },
                                {
                                    "0": "Bajaj Pulsar 150",
                                    "1": "70000",
                                    "2": "2017",
                                    "3": "Individual",
                                    "4": "1st owner",
                                    "5": "24000",
                                    "6": "NULL"
                                },
                                {
                                    "0": "Bajaj Discover 100",
                                    "1": "23000",
                                    "2": "2012",
                                    "3": "Individual",
                                    "4": "1st owner",
                                    "5": "50000",
                                    "6": "42859"
                                },
                                {
                                    "0": "TVS Victor",
                                    "1": "10000",
                                    "2": "2005",
                                    "3": "Individual",
                                    "4": "1st owner",
                                    "5": "55000",
                                    "6": "54852"
                                },
                                {
                                    "0": "Hero Honda Splendor Plus",
                                    "1": "25000",
                                    "2": "2012",
                                    "3": "Individual",
                                    "4": "1st owner",
                                    "5": "70000",
                                    "6": "NULL"
                                },
                                {
                                    "0": "Honda Aviator",
                                    "1": "25000",
                                    "2": "2012",
                                    "3": "Individual",
                                    "4": "2nd owner",
                                    "5": "12000",
                                    "6": "59183"
                                },
                                {
                                    "0": "Bajaj Pulsar 180",
                                    "1": "50000",
                                    "2": "2010",
                                    "3": "Individual",
                                    "4": "1st owner",
                                    "5": "70000",
                                    "6": "85011"
                                },
                                {
                                    "0": "Bajaj Avenger [2015]",
                                    "1": "60000",
                                    "2": "2015",
                                    "3": "Individual",
                                    "4": "2nd owner",
                                    "5": "16000",
                                    "6": "75502"
                                },
                                {
                                    "0": "Hero CD Dawn",
                                    "1": "35000",
                                    "2": "2014",
                                    "3": "Individual",
                                    "4": "1st owner",
                                    "5": "38000",
                                    "6": "NULL"
                                },
                                {
                                    "0": "Hero Maestro",
                                    "1": "50000",
                                    "2": "2016",
                                    "3": "Individual",
                                    "4": "1st owner",
                                    "5": "100000",
                                    "6": "49412"
                                },
                                {
                                    "0": "Honda CB Shine SP",
                                    "1": "50000",
                                    "2": "2016",
                                    "3": "Individual",
                                    "4": "1st owner",
                                    "5": "45000",
                                    "6": "64750"
                                },
                                {
                                    "0": "Hero Honda CD Deluxe",
                                    "1": "25500",
                                    "2": "2012",
                                    "3": "Individual",
                                    "4": "1st owner",
                                    "5": "28990",
                                    "6": "NULL"
                                },
                                {
                                    "0": "Hero Honda Hunk",
                                    "1": "35000",
                                    "2": "2010",
                                    "3": "Individual",
                                    "4": "1st owner",
                                    "5": "13000",
                                    "6": "NULL"
                                },
                                {
                                    "0": "Hero Honda CD Deluxe",
                                    "1": "20000",
                                    "2": "2005",
                                    "3": "Individual",
                                    "4": "1st owner",
                                    "5": "15000",
                                    "6": "NULL"
                                },
                                {
                                    "0": "Honda Activa 3G",
                                    "1": "40000",
                                    "2": "2016",
                                    "3": "Individual",
                                    "4": "1st owner",
                                    "5": "60000",
                                    "6": "54605"
                                },
                                {
                                    "0": "Bajaj Pulsar 135 LS",
                                    "1": "45000",
                                    "2": "2017",
                                    "3": "Individual",
                                    "4": "1st owner",
                                    "5": "22000",
                                    "6": "64589"
                                },
                                {
                                    "0": "Bajaj Pulsar 150 [2001-2011]",
                                    "1": "30000",
                                    "2": "2008",
                                    "3": "Individual",
                                    "4": "1st owner",
                                    "5": "19500",
                                    "6": "NULL"
                                },
                                {
                                    "0": "Hero Pleasure",
                                    "1": "30000",
                                    "2": "2013",
                                    "3": "Individual",
                                    "4": "1st owner",
                                    "5": "25000",
                                    "6": "49600"
                                },
                                {
                                    "0": "Hero Honda CBZ extreme",
                                    "1": "30000",
                                    "2": "2011",
                                    "3": "Individual",
                                    "4": "3rd owner",
                                    "5": "70000",
                                    "6": "NULL"
                                },
                                {
                                    "0": "Bajaj Pulsar 150",
                                    "1": "40000",
                                    "2": "2014",
                                    "3": "Individual",
                                    "4": "2nd owner",
                                    "5": "65000",
                                    "6": "NULL"
                                },
                                {
                                    "0": "Honda CB Twister",
                                    "1": "25000",
                                    "2": "2012",
                                    "3": "Individual",
                                    "4": "1st owner",
                                    "5": "86000",
                                    "6": "53857"
                                },
                                {
                                    "0": "Honda Livo",
                                    "1": "45000",
                                    "2": "2017",
                                    "3": "Individual",
                                    "4": "1st owner",
                                    "5": "30000",
                                    "6": "NULL"
                                },
                                {
                                    "0": "Bajaj Pulsar AS200",
                                    "1": "65000",
                                    "2": "2015",
                                    "3": "Individual",
                                    "4": "1st owner",
                                    "5": "33000",
                                    "6": "92074"
                                },
                                {
                                    "0": "Honda Activa 3G",
                                    "1": "40000",
                                    "2": "2015",
                                    "3": "Individual",
                                    "4": "1st owner",
                                    "5": "36000",
                                    "6": "54605"
                                },
                                {
                                    "0": "Hero Honda Hunk",
                                    "1": "40000",
                                    "2": "2010",
                                    "3": "Individual",
                                    "4": "1st owner",
                                    "5": "41000",
                                    "6": "NULL"
                                },
                                {
                                    "0": "Honda CB Hornet 160R",
                                    "1": "70000",
                                    "2": "2017",
                                    "3": "Individual",
                                    "4": "1st owner",
                                    "5": "28000",
                                    "6": "83340"
                                },
                                {
                                    "0": "Hero HF Deluxe",
                                    "1": "35000",
                                    "2": "2018",
                                    "3": "Individual",
                                    "4": "1st owner",
                                    "5": "15000",
                                    "6": "NULL"
                                },
                                {
                                    "0": "Hero Splendor PRO",
                                    "1": "35000",
                                    "2": "2015",
                                    "3": "Individual",
                                    "4": "1st owner",
                                    "5": "35280",
                                    "6": "51994"
                                },
                                {
                                    "0": "Bajaj Boxer",
                                    "1": "15000",
                                    "2": "2004",
                                    "3": "Individual",
                                    "4": "1st owner",
                                    "5": "18000",
                                    "6": "NULL"
                                },
                                {
                                    "0": "Royal Enfield Electra 5 S",
                                    "1": "99000",
                                    "2": "2012",
                                    "3": "Individual",
                                    "4": "1st owner",
                                    "5": "28000",
                                    "6": "NULL"
                                },
                                {
                                    "0": "Royal Enfield Electra 5 S",
                                    "1": "90000",
                                    "2": "2012",
                                    "3": "Individual",
                                    "4": "1st owner",
                                    "5": "40000",
                                    "6": "NULL"
                                },
                                {
                                    "0": "Hero Honda Hunk",
                                    "1": "20000",
                                    "2": "2010",
                                    "3": "Individual",
                                    "4": "1st owner",
                                    "5": "17000",
                                    "6": "NULL"
                                },
                                {
                                    "0": "Hero Ignitor",
                                    "1": "36000",
                                    "2": "2016",
                                    "3": "Individual",
                                    "4": "1st owner",
                                    "5": "23000",
                                    "6": "65599"
                                },
                                {
                                    "0": "Bajaj Discover 100 M",
                                    "1": "32000",
                                    "2": "2014",
                                    "3": "Individual",
                                    "4": "1st owner",
                                    "5": "30000",
                                    "6": "44756"
                                },
                                {
                                    "0": "Honda Activa 3G",
                                    "1": "50000",
                                    "2": "2016",
                                    "3": "Individual",
                                    "4": "1st owner",
                                    "5": "6000",
                                    "6": "54605"
                                },
                                {
                                    "0": "Bajaj Pulsar 135 LS",
                                    "1": "50000",
                                    "2": "2015",
                                    "3": "Individual",
                                    "4": "1st owner",
                                    "5": "48000",
                                    "6": "64589"
                                },
                                {
                                    "0": "Bajaj Pulsar 220 DTS-i",
                                    "1": "60000",
                                    "2": "2014",
                                    "3": "Individual",
                                    "4": "1st owner",
                                    "5": "16000",
                                    "6": "NULL"
                                },
                                {
                                    "0": "Hero Honda CBZ extreme",
                                    "1": "40000",
                                    "2": "2009",
                                    "3": "Individual",
                                    "4": "1st owner",
                                    "5": "50000",
                                    "6": "NULL"
                                },
                                {
                                    "0": "Hero Honda CBZ extreme",
                                    "1": "35000",
                                    "2": "2012",
                                    "3": "Individual",
                                    "4": "1st owner",
                                    "5": "60000",
                                    "6": "NULL"
                                },
                                {
                                    "0": "Royal Enfield Thunder 500",
                                    "1": "175000",
                                    "2": "2018",
                                    "3": "Individual",
                                    "4": "1st owner",
                                    "5": "3000",
                                    "6": "190000"
                                },
                                {
                                    "0": "UM Renegade Mojave",
                                    "1": "170000",
                                    "2": "2019",
                                    "3": "Individual",
                                    "4": "1st owner",
                                    "5": "1400",
                                    "6": "182000"
                                },
                                {
                                    "0": "KTM RC200",
                                    "1": "165000",
                                    "2": "2019",
                                    "3": "Individual",
                                    "4": "1st owner",
                                    "5": "4000",
                                    "6": "178000"
                                },
                                {
                                    "0": "Bajaj Dominar 400",
                                    "1": "145000",
                                    "2": "2019",
                                    "3": "Individual",
                                    "4": "1st owner",
                                    "5": "1200",
                                    "6": "160000"
                                },
                                {
                                    "0": "Royal Enfield Classic 350",
                                    "1": "135000",
                                    "2": "2019",
                                    "3": "Individual",
                                    "4": "1st owner",
                                    "5": "4100",
                                    "6": "147000"
                                },
                                {
                                    "0": "KTM RC390",
                                    "1": "135000",
                                    "2": "2017",
                                    "3": "Individual",
                                    "4": "1st owner",
                                    "5": "21700",
                                    "6": "237000"
                                },
                                {
                                    "0": "Hyosung GT250R",
                                    "1": "135000",
                                    "2": "2016",
                                    "3": "Individual",
                                    "4": "2nd owner",
                                    "5": "16500",
                                    "6": "345000"
                                },
                                {
                                    "0": "Royal Enfield Thunder 350",
                                    "1": "125000",
                                    "2": "2015",
                                    "3": "Individual",
                                    "4": "1st owner",
                                    "5": "15000",
                                    "6": "150000"
                                },
                                {
                                    "0": "Royal Enfield Thunder 350",
                                    "1": "120000",
                                    "2": "2018",
                                    "3": "Individual",
                                    "4": "1st owner",
                                    "5": "18000",
                                    "6": "150000"
                                },
                                {
                                    "0": "Royal Enfield Classic 350",
                                    "1": "120000",
                                    "2": "2019",
                                    "3": "Individual",
                                    "4": "1st owner",
                                    "5": "11000",
                                    "6": "147000"
                                },
                                {
                                    "0": "KTM RC200",
                                    "1": "120000",
                                    "2": "2018",
                                    "3": "Individual",
                                    "4": "1st owner",
                                    "5": "6000",
                                    "6": "178000"
                                },
                                {
                                    "0": "Royal Enfield Thunder 350",
                                    "1": "115000",
                                    "2": "2018",
                                    "3": "Individual",
                                    "4": "1st owner",
                                    "5": "8700",
                                    "6": "150000"
                                },
                                {
                                    "0": "KTM 390 Duke ",
                                    "1": "115000",
                                    "2": "2016",
                                    "3": "Individual",
                                    "4": "1st owner",
                                    "5": "7000",
                                    "6": "240000"
                                },
                                {
                                    "0": "Mahindra Mojo XT300",
                                    "1": "115000",
                                    "2": "2018",
                                    "3": "Individual",
                                    "4": "1st owner",
                                    "5": "35000",
                                    "6": "140000"
                                },
                                {
                                    "0": "Royal Enfield Classic 350",
                                    "1": "115000",
                                    "2": "2017",
                                    "3": "Individual",
                                    "4": "1st owner",
                                    "5": "17000",
                                    "6": "147000"
                                },
                                {
                                    "0": "Royal Enfield Classic 350",
                                    "1": "111000",
                                    "2": "2017",
                                    "3": "Individual",
                                    "4": "1st owner",
                                    "5": "17500",
                                    "6": "147000"
                                },
                                {
                                    "0": "Royal Enfield Classic 350",
                                    "1": "110000",
                                    "2": "2015",
                                    "3": "Individual",
                                    "4": "1st owner",
                                    "5": "33000",
                                    "6": "147000"
                                },
                                {
                                    "0": "Royal Enfield Thunder 500",
                                    "1": "110000",
                                    "2": "2017",
                                    "3": "Individual",
                                    "4": "1st owner",
                                    "5": "14000",
                                    "6": "190000"
                                },
                                {
                                    "0": "Royal Enfield Classic 350",
                                    "1": "110000",
                                    "2": "2017",
                                    "3": "Individual",
                                    "4": "1st owner",
                                    "5": "26000",
                                    "6": "147000"
                                },
                                {
                                    "0": "Royal Enfield Thunder 500",
                                    "1": "105000",
                                    "2": "2015",
                                    "3": "Individual",
                                    "4": "1st owner",
                                    "5": "5400",
                                    "6": "190000"
                                },
                                {
                                    "0": "Bajaj Pulsar RS200",
                                    "1": "105000",
                                    "2": "2018",
                                    "3": "Individual",
                                    "4": "1st owner",
                                    "5": "5700",
                                    "6": "126000"
                                },
                                {
                                    "0": "Royal Enfield Thunder 350",
                                    "1": "105000",
                                    "2": "2013",
                                    "3": "Individual",
                                    "4": "1st owner",
                                    "5": "6900",
                                    "6": "150000"
                                },
                                {
                                    "0": "Royal Enfield Bullet 350",
                                    "1": "105000",
                                    "2": "2018",
                                    "3": "Individual",
                                    "4": "1st owner",
                                    "5": "6000",
                                    "6": "117000"
                                },
                                {
                                    "0": "Royal Enfield Classic 350",
                                    "1": "100000",
                                    "2": "2015",
                                    "3": "Individual",
                                    "4": "1st owner",
                                    "5": "46500",
                                    "6": "147000"
                                },
                                {
                                    "0": "Royal Enfield Classic 500",
                                    "1": "95000",
                                    "2": "2014",
                                    "3": "Individual",
                                    "4": "1st owner",
                                    "5": "11500",
                                    "6": "175000"
                                },
                                {
                                    "0": "Royal Enfield Classic 500",
                                    "1": "90000",
                                    "2": "2011",
                                    "3": "Individual",
                                    "4": "1st owner",
                                    "5": "40000",
                                    "6": "175000"
                                },
                                {
                                    "0": "Bajaj Avenger 220",
                                    "1": "90000",
                                    "2": "2019",
                                    "3": "Individual",
                                    "4": "1st owner",
                                    "5": "1300",
                                    "6": "95000"
                                },
                                {
                                    "0": "Bajaj Avenger 150",
                                    "1": "75000",
                                    "2": "2018",
                                    "3": "Individual",
                                    "4": "1st owner",
                                    "5": "7000",
                                    "6": "80000"
                                },
                                {
                                    "0": "Honda CB Hornet 160R",
                                    "1": "80000",
                                    "2": "2019",
                                    "3": "Individual",
                                    "4": "1st owner",
                                    "5": "3000",
                                    "6": "87000"
                                },
                                {
                                    "0": "Yamaha FZ S V 2.0",
                                    "1": "78000",
                                    "2": "2019",
                                    "3": "Individual",
                                    "4": "1st owner",
                                    "5": "5000",
                                    "6": "84000"
                                },
                                {
                                    "0": "Honda CB Hornet 160R",
                                    "1": "75000",
                                    "2": "2019",
                                    "3": "Individual",
                                    "4": "1st owner",
                                    "5": "11000",
                                    "6": "87000"
                                },
                                {
                                    "0": "Yamaha FZ 16",
                                    "1": "75000",
                                    "2": "2017",
                                    "3": "Individual",
                                    "4": "1st owner",
                                    "5": "18000",
                                    "6": "82000"
                                },
                                {
                                    "0": "Bajaj Avenger 220",
                                    "1": "75000",
                                    "2": "2019",
                                    "3": "Individual",
                                    "4": "1st owner",
                                    "5": "3500",
                                    "6": "95000"
                                },
                                {
                                    "0": "Bajaj Avenger 220",
                                    "1": "72000",
                                    "2": "2018",
                                    "3": "Individual",
                                    "4": "1st owner",
                                    "5": "500",
                                    "6": "95000"
                                },
                                {
                                    "0": "TVS Apache RTR 160",
                                    "1": "65000",
                                    "2": "2019",
                                    "3": "Individual",
                                    "4": "1st owner",
                                    "5": "11800",
                                    "6": "81000"
                                },
                                {
                                    "0": "Bajaj Pulsar 150",
                                    "1": "65000",
                                    "2": "2017",
                                    "3": "Individual",
                                    "4": "1st owner",
                                    "5": "5000",
                                    "6": "74000"
                                },
                                {
                                    "0": "Honda CBR 150",
                                    "1": "65000",
                                    "2": "2016",
                                    "3": "Individual",
                                    "4": "1st owner",
                                    "5": "23500",
                                    "6": "120000"
                                },
                                {
                                    "0": "Hero Extreme",
                                    "1": "65000",
                                    "2": "2015",
                                    "3": "Individual",
                                    "4": "1st owner",
                                    "5": "16000",
                                    "6": "78700"
                                },
                                {
                                    "0": "Honda CB Hornet 160R",
                                    "1": "60000",
                                    "2": "2018",
                                    "3": "Individual",
                                    "4": "1st owner",
                                    "5": "15000",
                                    "6": "87000"
                                },
                                {
                                    "0": "Bajaj Avenger 220 dtsi",
                                    "1": "60000",
                                    "2": "2017",
                                    "3": "Individual",
                                    "4": "1st owner",
                                    "5": "16600",
                                    "6": "95000"
                                },
                                {
                                    "0": "Honda CBR 150",
                                    "1": "60000",
                                    "2": "2015",
                                    "3": "Individual",
                                    "4": "1st owner",
                                    "5": "32000",
                                    "6": "120000"
                                },
                                {
                                    "0": "Bajaj Avenger 150 street",
                                    "1": "60000",
                                    "2": "2018",
                                    "3": "Individual",
                                    "4": "1st owner",
                                    "5": "20000",
                                    "6": "80000"
                                },
                                {
                                    "0": "Yamaha FZ  v 2.0",
                                    "1": "60000",
                                    "2": "2017",
                                    "3": "Individual",
                                    "4": "1st owner",
                                    "5": "29000",
                                    "6": "84000"
                                },
                                {
                                    "0": "Yamaha FZ  v 2.0",
                                    "1": "60000",
                                    "2": "2018",
                                    "3": "Individual",
                                    "4": "1st owner",
                                    "5": "25000",
                                    "6": "84000"
                                },
                                {
                                    "0": "Bajaj Pulsar  NS 200",
                                    "1": "60000",
                                    "2": "2016",
                                    "3": "Individual",
                                    "4": "1st owner",
                                    "5": "25000",
                                    "6": "99000"
                                },
                                {
                                    "0": "TVS Apache RTR 160",
                                    "1": "60000",
                                    "2": "2014",
                                    "3": "Individual",
                                    "4": "1st owner",
                                    "5": "19000",
                                    "6": "81000"
                                },
                                {
                                    "0": "Hero Extreme",
                                    "1": "55000",
                                    "2": "2016",
                                    "3": "Individual",
                                    "4": "1st owner",
                                    "5": "15000",
                                    "6": "78700"
                                },
                                {
                                    "0": "Yamaha FZ S V 2.0",
                                    "1": "55000",
                                    "2": "2017",
                                    "3": "Individual",
                                    "4": "1st owner",
                                    "5": "58000",
                                    "6": "84000"
                                },
                                {
                                    "0": "Bajaj Pulsar 220 F",
                                    "1": "52000",
                                    "2": "2012",
                                    "3": "Individual",
                                    "4": "1st owner",
                                    "5": "45000",
                                    "6": "94000"
                                },
                                {
                                    "0": "Bajaj Pulsar 220 F",
                                    "1": "51000",
                                    "2": "2018",
                                    "3": "Individual",
                                    "4": "1st owner",
                                    "5": "24000",
                                    "6": "94000"
                                },
                                {
                                    "0": "TVS Apache RTR 180",
                                    "1": "50000",
                                    "2": "2013",
                                    "3": "Individual",
                                    "4": "1st owner",
                                    "5": "6000",
                                    "6": "82600"
                                },
                                {
                                    "0": "Hero Passion X pro",
                                    "1": "50000",
                                    "2": "2018",
                                    "3": "Individual",
                                    "4": "1st owner",
                                    "5": "31000",
                                    "6": "55000"
                                },
                                {
                                    "0": "Bajaj Pulsar NS 200",
                                    "1": "50000",
                                    "2": "2014",
                                    "3": "Individual",
                                    "4": "1st owner",
                                    "5": "13000",
                                    "6": "99000"
                                },
                                {
                                    "0": "Bajaj Pulsar NS 200",
                                    "1": "50000",
                                    "2": "2015",
                                    "3": "Individual",
                                    "4": "1st owner",
                                    "5": "45000",
                                    "6": "99000"
                                },
                                {
                                    "0": "Yamaha Fazer ",
                                    "1": "50000",
                                    "2": "2016",
                                    "3": "Individual",
                                    "4": "1st owner",
                                    "5": "8000",
                                    "6": "88000"
                                },
                                {
                                    "0": "Honda Activa 4G",
                                    "1": "48000",
                                    "2": "2019",
                                    "3": "Individual",
                                    "4": "1st owner",
                                    "5": "4300",
                                    "6": "51000"
                                },
                                {
                                    "0": "TVS Sport ",
                                    "1": "48000",
                                    "2": "2019",
                                    "3": "Individual",
                                    "4": "1st owner",
                                    "5": "15000",
                                    "6": "52000"
                                },
                                {
                                    "0": "Yamaha FZ S V 2.0",
                                    "1": "48000",
                                    "2": "2017",
                                    "3": "Individual",
                                    "4": "1st owner",
                                    "5": "23000",
                                    "6": "84000"
                                },
                                {
                                    "0": "Honda Dream Yuga ",
                                    "1": "48000",
                                    "2": "2019",
                                    "3": "Individual",
                                    "4": "1st owner",
                                    "5": "8600",
                                    "6": "54000"
                                },
                                {
                                    "0": "Honda Activa 4G",
                                    "1": "45000",
                                    "2": "2019",
                                    "3": "Individual",
                                    "4": "1st owner",
                                    "5": "4000",
                                    "6": "51000"
                                },
                                {
                                    "0": "Bajaj Avenger Street 220",
                                    "1": "45000",
                                    "2": "2013",
                                    "3": "Individual",
                                    "4": "1st owner",
                                    "5": "24000",
                                    "6": "95000"
                                },
                                {
                                    "0": "TVS Apache RTR 180",
                                    "1": "45000",
                                    "2": "2016",
                                    "3": "Individual",
                                    "4": "1st owner",
                                    "5": "23000",
                                    "6": "82600"
                                },
                                {
                                    "0": "Bajaj Pulsar NS 200",
                                    "1": "45000",
                                    "2": "2014",
                                    "3": "Individual",
                                    "4": "1st owner",
                                    "5": "14500",
                                    "6": "99000"
                                },
                                {
                                    "0": "Bajaj Avenger 220 dtsi",
                                    "1": "45000",
                                    "2": "2012",
                                    "3": "Individual",
                                    "4": "1st owner",
                                    "5": "27000",
                                    "6": "95000"
                                },
                                {
                                    "0": "Hero Splender iSmart",
                                    "1": "45000",
                                    "2": "2018",
                                    "3": "Individual",
                                    "4": "1st owner",
                                    "5": "14000",
                                    "6": "54000"
                                },
                                {
                                    "0": "Activa 3g",
                                    "1": "45000",
                                    "2": "2018",
                                    "3": "Individual",
                                    "4": "1st owner",
                                    "5": "500",
                                    "6": "54000"
                                },
                                {
                                    "0": "Hero Passion Pro",
                                    "1": "45000",
                                    "2": "2018",
                                    "3": "Individual",
                                    "4": "1st owner",
                                    "5": "1000",
                                    "6": "55000"
                                },
                                {
                                    "0": "TVS Apache RTR 160",
                                    "1": "42000",
                                    "2": "2016",
                                    "3": "Individual",
                                    "4": "1st owner",
                                    "5": "42000",
                                    "6": "81000"
                                },
                                {
                                    "0": "Honda CB Trigger",
                                    "1": "42000",
                                    "2": "2015",
                                    "3": "Individual",
                                    "4": "1st owner",
                                    "5": "12000",
                                    "6": "73000"
                                },
                                {
                                    "0": "Hero Splender iSmart",
                                    "1": "40000",
                                    "2": "2017",
                                    "3": "Individual",
                                    "4": "1st owner",
                                    "5": "14000",
                                    "6": "54000"
                                },
                                {
                                    "0": "Yamaha FZ S ",
                                    "1": "40000",
                                    "2": "2014",
                                    "3": "Individual",
                                    "4": "1st owner",
                                    "5": "5500",
                                    "6": "83000"
                                },
                                {
                                    "0": "Hero Passion Pro",
                                    "1": "40000",
                                    "2": "2017",
                                    "3": "Individual",
                                    "4": "1st owner",
                                    "5": "6700",
                                    "6": "55000"
                                },
                                {
                                    "0": "Bajaj Pulsar 135 LS",
                                    "1": "40000",
                                    "2": "2016",
                                    "3": "Individual",
                                    "4": "1st owner",
                                    "5": "13700",
                                    "6": "64000"
                                },
                                {
                                    "0": "Activa 4g",
                                    "1": "40000",
                                    "2": "2019",
                                    "3": "Individual",
                                    "4": "1st owner",
                                    "5": "1300",
                                    "6": "51000"
                                },
                                {
                                    "0": "Honda CB Unicorn",
                                    "1": "38000",
                                    "2": "2017",
                                    "3": "Individual",
                                    "4": "1st owner",
                                    "5": "38600",
                                    "6": "72000"
                                },
                                {
                                    "0": "Hero Honda CBZ extreme",
                                    "1": "38000",
                                    "2": "2013",
                                    "3": "Individual",
                                    "4": "1st owner",
                                    "5": "75000",
                                    "6": "78700"
                                },
                                {
                                    "0": "Honda Karizma",
                                    "1": "35000",
                                    "2": "2013",
                                    "3": "Individual",
                                    "4": "1st owner",
                                    "5": "30000",
                                    "6": "105000"
                                },
                                {
                                    "0": "Honda Activa 125",
                                    "1": "35000",
                                    "2": "2018",
                                    "3": "Individual",
                                    "4": "1st owner",
                                    "5": "24000",
                                    "6": "57000"
                                },
                                {
                                    "0": "TVS Jupyter",
                                    "1": "35000",
                                    "2": "2016",
                                    "3": "Individual",
                                    "4": "1st owner",
                                    "5": "19000",
                                    "6": "52000"
                                },
                                {
                                    "0": "Honda Karizma",
                                    "1": "31000",
                                    "2": "2012",
                                    "3": "Individual",
                                    "4": "1st owner",
                                    "5": "213000",
                                    "6": "105000"
                                },
                                {
                                    "0": "Hero Honda Passion Pro",
                                    "1": "30000",
                                    "2": "2014",
                                    "3": "Individual",
                                    "4": "1st owner",
                                    "5": "60000",
                                    "6": "51000"
                                },
                                {
                                    "0": "Hero Splender Plus",
                                    "1": "30000",
                                    "2": "2018",
                                    "3": "Individual",
                                    "4": "1st owner",
                                    "5": "50000",
                                    "6": "48000"
                                },
                                {
                                    "0": "Honda CB Shine",
                                    "1": "30000",
                                    "2": "2015",
                                    "3": "Individual",
                                    "4": "1st owner",
                                    "5": "30000",
                                    "6": "58000"
                                },
                                {
                                    "0": "Bajaj Discover 100",
                                    "1": "27000",
                                    "2": "2015",
                                    "3": "Individual",
                                    "4": "1st owner",
                                    "5": "21000",
                                    "6": "47000"
                                },
                                {
                                    "0": "Bajaj Pulsar 150",
                                    "1": "25000",
                                    "2": "2010",
                                    "3": "Individual",
                                    "4": "2nd owner",
                                    "5": "26000",
                                    "6": "75000"
                                },
                                {
                                    "0": "Suzuki Access 125",
                                    "1": "25000",
                                    "2": "2010",
                                    "3": "Individual",
                                    "4": "1st owner",
                                    "5": "1900",
                                    "6": "58000"
                                },
                                {
                                    "0": "TVS Wego",
                                    "1": "25000",
                                    "2": "2012",
                                    "3": "Individual",
                                    "4": "1st owner",
                                    "5": "22000",
                                    "6": "52000"
                                },
                                {
                                    "0": "Honda CB twister",
                                    "1": "25000",
                                    "2": "2015",
                                    "3": "Individual",
                                    "4": "1st owner",
                                    "5": "32000",
                                    "6": "51000"
                                },
                                {
                                    "0": "Hero Glamour",
                                    "1": "25000",
                                    "2": "2015",
                                    "3": "Individual",
                                    "4": "1st owner",
                                    "5": "18000",
                                    "6": "57000"
                                },
                                {
                                    "0": "Hero Super Splendor",
                                    "1": "20000",
                                    "2": "2007",
                                    "3": "Individual",
                                    "4": "1st owner",
                                    "5": "55000",
                                    "6": "57000"
                                },
                                {
                                    "0": "Bajaj Pulsar 150",
                                    "1": "20000",
                                    "2": "2010",
                                    "3": "Individual",
                                    "4": "1st owner",
                                    "5": "60000",
                                    "6": "75000"
                                },
                                {
                                    "0": "Bajaj Discover 125",
                                    "1": "20000",
                                    "2": "2014",
                                    "3": "Individual",
                                    "4": "2nd owner",
                                    "5": "25000",
                                    "6": "57000"
                                },
                                {
                                    "0": "Hero Hunk",
                                    "1": "20000",
                                    "2": "2009",
                                    "3": "Individual",
                                    "4": "2nd owner",
                                    "5": "49000",
                                    "6": "75000"
                                },
                                {
                                    "0": "Hero  Ignitor Disc",
                                    "1": "20000",
                                    "2": "2015",
                                    "3": "Individual",
                                    "4": "2nd owner",
                                    "5": "24000",
                                    "6": "65000"
                                },
                                {
                                    "0": "Hero  CBZ Xtreme",
                                    "1": "20000",
                                    "2": "2010",
                                    "3": "Individual",
                                    "4": "1st owner",
                                    "5": "50000",
                                    "6": "78700"
                                },
                                {
                                    "0": "Bajaj  ct 100",
                                    "1": "18000",
                                    "2": "2017",
                                    "3": "Individual",
                                    "4": "1st owner",
                                    "5": "35000",
                                    "6": "32000"
                                },
                                {
                                    "0": "Activa 3g",
                                    "1": "17000",
                                    "2": "2010",
                                    "3": "Individual",
                                    "4": "1st owner",
                                    "5": "500000",
                                    "6": "52000"
                                },
                                {
                                    "0": "Honda CB twister",
                                    "1": "16000",
                                    "2": "2012",
                                    "3": "Individual",
                                    "4": "1st owner",
                                    "5": "33000",
                                    "6": "51000"
                                },
                                {
                                    "0": "Bajaj Discover 125",
                                    "1": "15000",
                                    "2": "2013",
                                    "3": "Individual",
                                    "4": "2nd owner",
                                    "5": "35000",
                                    "6": "57000"
                                },
                                {
                                    "0": "Honda CB Shine",
                                    "1": "12000",
                                    "2": "2009",
                                    "3": "Individual",
                                    "4": "1st owner",
                                    "5": "53000",
                                    "6": "58000"
                                },
                                {
                                    "0": "Bajaj Pulsar 150",
                                    "1": "10000",
                                    "2": "2008",
                                    "3": "Individual",
                                    "4": "1st owner",
                                    "5": "92233",
                                    "6": "75000"
                                }
                            ]
                        },
                        "text/html": [
                            "<table>",
                            "<tr><th>name</th><th>selling_price</th><th>year</th><th>seller_type</th><th>owner</th><th>km_driven</th><th>ex_showroom_price</th></tr>",
                            "<tr><td>Royal Enfield Classic 350</td><td>175000</td><td>2019</td><td>Individual</td><td>1st owner</td><td>350</td><td>NULL</td></tr>",
                            "<tr><td>Honda Dio</td><td>45000</td><td>2017</td><td>Individual</td><td>1st owner</td><td>5650</td><td>NULL</td></tr>",
                            "<tr><td>Royal Enfield Classic Gunmetal Grey</td><td>150000</td><td>2018</td><td>Individual</td><td>1st owner</td><td>12000</td><td>148114</td></tr>",
                            "<tr><td>Yamaha Fazer FI V 2.0 [2016-2018]</td><td>65000</td><td>2015</td><td>Individual</td><td>1st owner</td><td>23000</td><td>89643</td></tr>",
                            "<tr><td>Yamaha SZ [2013-2014]</td><td>20000</td><td>2011</td><td>Individual</td><td>2nd owner</td><td>21000</td><td>NULL</td></tr>",
                            "<tr><td>Honda CB Twister</td><td>18000</td><td>2010</td><td>Individual</td><td>1st owner</td><td>60000</td><td>53857</td></tr>",
                            "<tr><td>Honda CB Hornet 160R</td><td>78500</td><td>2018</td><td>Individual</td><td>1st owner</td><td>17000</td><td>87719</td></tr>",
                            "<tr><td>Royal Enfield Bullet 350 [2007-2011]</td><td>180000</td><td>2008</td><td>Individual</td><td>2nd owner</td><td>39000</td><td>NULL</td></tr>",
                            "<tr><td>Hero Honda CBZ extreme</td><td>30000</td><td>2010</td><td>Individual</td><td>1st owner</td><td>32000</td><td>NULL</td></tr>",
                            "<tr><td>Bajaj Discover 125</td><td>50000</td><td>2016</td><td>Individual</td><td>1st owner</td><td>42000</td><td>60122</td></tr>",
                            "<tr><td>Yamaha FZ16</td><td>35000</td><td>2015</td><td>Individual</td><td>1st owner</td><td>32000</td><td>78712</td></tr>",
                            "<tr><td>Honda Navi</td><td>28000</td><td>2016</td><td>Individual</td><td>2nd owner</td><td>10000</td><td>47255</td></tr>",
                            "<tr><td>Bajaj Avenger Street 220</td><td>80000</td><td>2018</td><td>Individual</td><td>1st owner</td><td>21178</td><td>95955</td></tr>",
                            "<tr><td>Yamaha YZF R3</td><td>365000</td><td>2019</td><td>Individual</td><td>1st owner</td><td>1127</td><td>351680</td></tr>",
                            "<tr><td>Jawa 42</td><td>185000</td><td>2020</td><td>Individual</td><td>1st owner</td><td>1700</td><td>NULL</td></tr>",
                            "<tr><td>Suzuki Access 125 [2007-2016]</td><td>25000</td><td>2012</td><td>Individual</td><td>1st owner</td><td>55000</td><td>58314</td></tr>",
                            "<tr><td>Hero Honda Glamour</td><td>25000</td><td>2006</td><td>Individual</td><td>1st owner</td><td>27000</td><td>NULL</td></tr>",
                            "<tr><td>Yamaha YZF R15 S</td><td>40000</td><td>2010</td><td>Individual</td><td>2nd owner</td><td>45000</td><td>117926</td></tr>",
                            "<tr><td>Royal Enfield Classic Gunmetal Grey</td><td>150000</td><td>2018</td><td>Individual</td><td>1st owner</td><td>23000</td><td>148114</td></tr>",
                            "<tr><td>Yamaha FZ25</td><td>120000</td><td>2018</td><td>Individual</td><td>1st owner</td><td>39000</td><td>132680</td></tr>",
                            "<tr><td>Hero Passion Pro 110</td><td>15000</td><td>2008</td><td>Individual</td><td>1st owner</td><td>60000</td><td>NULL</td></tr>",
                            "<tr><td>Honda Navi [2016-2017]</td><td>26000</td><td>2016</td><td>Individual</td><td>1st owner</td><td>17450</td><td>44389</td></tr>",
                            "<tr><td>Honda Activa i</td><td>32000</td><td>2013</td><td>Individual</td><td>2nd owner</td><td>20696</td><td>53900</td></tr>",
                            "<tr><td>Jawa Standard</td><td>180000</td><td>2019</td><td>Individual</td><td>1st owner</td><td>2000</td><td>NULL</td></tr>",
                            "<tr><td>Royal Enfield Thunderbird 350</td><td>110000</td><td>2016</td><td>Individual</td><td>1st owner</td><td>20000</td><td>NULL</td></tr>",
                            "<tr><td>Honda Dream Yuga</td><td>25000</td><td>2012</td><td>Individual</td><td>1st owner</td><td>35000</td><td>56147</td></tr>",
                            "<tr><td>TVS Apache RTR 160 4V</td><td>80000</td><td>2018</td><td>Individual</td><td>1st owner</td><td>15210</td><td>NULL</td></tr>",
                            "<tr><td>Honda Navi [2016-2017]</td><td>42000</td><td>2017</td><td>Individual</td><td>1st owner</td><td>24000</td><td>44389</td></tr>",
                            "<tr><td>Yamaha Fazer [2009-2016]</td><td>40000</td><td>2013</td><td>Individual</td><td>3rd owner</td><td>35000</td><td>84751</td></tr>",
                            "<tr><td>Hero Honda Splendor NXG</td><td>21000</td><td>2009</td><td>Individual</td><td>1st owner</td><td>10000</td><td>NULL</td></tr>",
                            "<tr><td>Hero Glamour 125</td><td>55000</td><td>2017</td><td>Individual</td><td>1st owner</td><td>2500</td><td>61600</td></tr>",
                            "<tr><td>Yamaha FZ S [2012-2016]</td><td>38000</td><td>2013</td><td>Individual</td><td>1st owner</td><td>75000</td><td>79432</td></tr>",
                            "<tr><td>Hero Xtreme Sports</td><td>43000</td><td>2016</td><td>Individual</td><td>2nd owner</td><td>50000</td><td>78350</td></tr>",
                            "<tr><td>Honda X-Blade</td><td>65000</td><td>2018</td><td>Individual</td><td>1st owner</td><td>27000</td><td>NULL</td></tr>",
                            "<tr><td>Honda CB Shine SP</td><td>62000</td><td>2019</td><td>Individual</td><td>1st owner</td><td>10000</td><td>71049</td></tr>",
                            "<tr><td>Honda Activa 5G</td><td>60000</td><td>2018</td><td>Individual</td><td>1st owner</td><td>6502</td><td>57557</td></tr>",
                            "<tr><td>Hero Glamour 125</td><td>45000</td><td>2018</td><td>Individual</td><td>1st owner</td><td>21000</td><td>61600</td></tr>",
                            "<tr><td>Honda CBR-250R</td><td>120000</td><td>2016</td><td>Individual</td><td>1st owner</td><td>16000</td><td>202310</td></tr>",
                            "<tr><td>Hero Honda Passion PRO [2012]</td><td>30000</td><td>2011</td><td>Individual</td><td>1st owner</td><td>42000</td><td>NULL</td></tr>",
                            "<tr><td>Royal Enfield Thunderbird 350</td><td>90000</td><td>2015</td><td>Individual</td><td>3rd owner</td><td>13000</td><td>NULL</td></tr>",
                            "<tr><td>Bajaj Dominar 400</td><td>125000</td><td>2017</td><td>Individual</td><td>1st owner</td><td>12800</td><td>NULL</td></tr>",
                            "<tr><td>Hero Glamour FI</td><td>50000</td><td>2018</td><td>Individual</td><td>1st owner</td><td>20000</td><td>71150</td></tr>",
                            "<tr><td>KTM 390 Duke</td><td>175000</td><td>2017</td><td>Individual</td><td>1st owner</td><td>4600</td><td>NULL</td></tr>",
                            "<tr><td>Hero Passion XPro</td><td>28000</td><td>2012</td><td>Individual</td><td>1st owner</td><td>81000</td><td>56750</td></tr>",
                            "<tr><td>Yamaha FZ S V 2.0</td><td>85000</td><td>2018</td><td>Individual</td><td>1st owner</td><td>8000</td><td>84042</td></tr>",
                            "<tr><td>Hero Achiever 150</td><td>29900</td><td>2016</td><td>Individual</td><td>1st owner</td><td>55000</td><td>69750</td></tr>",
                            "<tr><td>Bajaj Discover 125</td><td>25000</td><td>2011</td><td>Individual</td><td>1st owner</td><td>57000</td><td>60122</td></tr>",
                            "<tr><td>Yamaha FZ16</td><td>30000</td><td>2009</td><td>Individual</td><td>2nd owner</td><td>26000</td><td>78712</td></tr>",
                            "<tr><td>Yamaha Saluto</td><td>60000</td><td>2018</td><td>Individual</td><td>1st owner</td><td>13000</td><td>59844</td></tr>",
                            "<tr><td>Yamaha FZ16</td><td>35000</td><td>2012</td><td>Individual</td><td>2nd owner</td><td>29000</td><td>78712</td></tr>",
                            "<tr><td>Bajaj Discover 100</td><td>25000</td><td>2010</td><td>Individual</td><td>1st owner</td><td>43000</td><td>42859</td></tr>",
                            "<tr><td>Honda CB Trigger</td><td>30000</td><td>2015</td><td>Individual</td><td>1st owner</td><td>40000</td><td>73413</td></tr>",
                            "<tr><td>Royal Enfield Electra 5 S</td><td>90000</td><td>2010</td><td>Individual</td><td>2nd owner</td><td>40000</td><td>NULL</td></tr>",
                            "<tr><td>Hero Splendor PRO</td><td>35000</td><td>2015</td><td>Individual</td><td>2nd owner</td><td>24000</td><td>49900</td></tr>",
                            "<tr><td>Honda Activa 5G</td><td>70000</td><td>2019</td><td>Individual</td><td>1st owner</td><td>3000</td><td>59422</td></tr>",
                            "<tr><td>Hero Honda Passion Plus</td><td>25000</td><td>2006</td><td>Individual</td><td>1st owner</td><td>75000</td><td>NULL</td></tr>",
                            "<tr><td>Bajaj Pulsar 150</td><td>25000</td><td>2010</td><td>Individual</td><td>1st owner</td><td>42000</td><td>NULL</td></tr>",
                            "<tr><td>Royal Enfield Bullet 350</td><td>90000</td><td>2014</td><td>Individual</td><td>1st owner</td><td>13000</td><td>NULL</td></tr>",
                            "<tr><td>Bajaj Discover 125</td><td>25000</td><td>2013</td><td>Individual</td><td>1st owner</td><td>55000</td><td>57549</td></tr>",
                            "<tr><td>Bajaj Pulsar 150 [2001-2011]</td><td>42000</td><td>2011</td><td>Individual</td><td>1st owner</td><td>23000</td><td>NULL</td></tr>",
                            "<tr><td>Hero Splendor PRO</td><td>35000</td><td>2015</td><td>Individual</td><td>2nd owner</td><td>24000</td><td>51994</td></tr>",
                            "<tr><td>Hero Xtreme Sports</td><td>50000</td><td>2014</td><td>Individual</td><td>1st owner</td><td>80000</td><td>80350</td></tr>",
                            "<tr><td>Honda Activa 3G</td><td>30000</td><td>2015</td><td>Individual</td><td>1st owner</td><td>39000</td><td>54605</td></tr>",
                            "<tr><td>Yamaha FZ16</td><td>48000</td><td>2016</td><td>Individual</td><td>1st owner</td><td>20000</td><td>78712</td></tr>",
                            "<tr><td>Honda CB Hornet 160R</td><td>65000</td><td>2016</td><td>Individual</td><td>1st owner</td><td>30000</td><td>88161</td></tr>",
                            "<tr><td>Royal Enfield Thunderbird 350</td><td>85000</td><td>2013</td><td>Individual</td><td>1st owner</td><td>21000</td><td>NULL</td></tr>",
                            "<tr><td>Hero Hunk</td><td>45000</td><td>2014</td><td>Individual</td><td>1st owner</td><td>41000</td><td>78513</td></tr>",
                            "<tr><td>Suzuki Let''s</td><td>34000</td><td>2014</td><td>Individual</td><td>1st owner</td><td>8000</td><td>50098</td></tr>",
                            "<tr><td>Royal Enfield Electra 4 S</td><td>90000</td><td>2008</td><td>Individual</td><td>1st owner</td><td>50000</td><td>NULL</td></tr>",
                            "<tr><td>TVS Scooty Pep Plus</td><td>35000</td><td>2012</td><td>Individual</td><td>1st owner</td><td>8150</td><td>NULL</td></tr>",
                            "<tr><td>Mahindra Mojo XT300</td><td>165000</td><td>2017</td><td>Individual</td><td>1st owner</td><td>1933</td><td>195500</td></tr>",
                            "<tr><td>TVS Apache RTR 160</td><td>35000</td><td>2013</td><td>Individual</td><td>1st owner</td><td>55750</td><td>NULL</td></tr>",
                            "<tr><td>Bajaj Pulsar AS200</td><td>65000</td><td>2015</td><td>Individual</td><td>1st owner</td><td>15856</td><td>92074</td></tr>",
                            "<tr><td>Bajaj Pulsar 150</td><td>29500</td><td>2013</td><td>Individual</td><td>1st owner</td><td>27000</td><td>NULL</td></tr>",
                            "<tr><td>Royal Enfield Thunderbird 350X</td><td>165000</td><td>2019</td><td>Individual</td><td>1st owner</td><td>3700</td><td>164004</td></tr>",
                            "<tr><td>Suzuki Intruder 150</td><td>95000</td><td>2018</td><td>Individual</td><td>1st owner</td><td>21938</td><td>NULL</td></tr>",
                            "<tr><td>Hero Honda Karizma ZMR [2010]</td><td>50000</td><td>2010</td><td>Individual</td><td>1st owner</td><td>48000</td><td>NULL</td></tr>",
                            "<tr><td>Honda Dio</td><td>7500</td><td>2009</td><td>Individual</td><td>2nd owner</td><td>16000</td><td>NULL</td></tr>",
                            "<tr><td>Bajaj Xcd</td><td>25000</td><td>2008</td><td>Individual</td><td>1st owner</td><td>54000</td><td>NULL</td></tr>",
                            "<tr><td>Hero Splendor Plus</td><td>35000</td><td>2014</td><td>Individual</td><td>2nd owner</td><td>35000</td><td>NULL</td></tr>",
                            "<tr><td>Royal Enfield Thunderbird 350X</td><td>160000</td><td>2018</td><td>Individual</td><td>1st owner</td><td>15000</td><td>NULL</td></tr>",
                            "<tr><td>Honda CB Unicorn 150</td><td>50000</td><td>2014</td><td>Individual</td><td>1st owner</td><td>32000</td><td>74295</td></tr>",
                            "<tr><td>Honda Activa 5G</td><td>62000</td><td>2019</td><td>Individual</td><td>1st owner</td><td>3500</td><td>57557</td></tr>",
                            "<tr><td>Honda CB Twister</td><td>30000</td><td>2013</td><td>Individual</td><td>1st owner</td><td>9000</td><td>53857</td></tr>",
                            "<tr><td>Hero Splendor PRO</td><td>28000</td><td>2015</td><td>Individual</td><td>1st owner</td><td>38000</td><td>49642</td></tr>",
                            "<tr><td>Hero Honda CD Deluxe</td><td>25000</td><td>2009</td><td>Individual</td><td>1st owner</td><td>50000</td><td>NULL</td></tr>",
                            "<tr><td>Honda Activa i [2016-2017]</td><td>30000</td><td>2015</td><td>Individual</td><td>2nd owner</td><td>20000</td><td>51112</td></tr>",
                            "<tr><td>Royal Enfield Classic Gunmetal Grey</td><td>140000</td><td>2018</td><td>Individual</td><td>1st owner</td><td>22000</td><td>148114</td></tr>",
                            "<tr><td>TVS Scooty Zest 110</td><td>30000</td><td>2017</td><td>Individual</td><td>1st owner</td><td>9432</td><td>53751</td></tr>",
                            "<tr><td>Hero CD Deluxe</td><td>25000</td><td>2014</td><td>Individual</td><td>1st owner</td><td>70000</td><td>NULL</td></tr>",
                            "<tr><td>Suzuki Access 125 [2007-2016]</td><td>22000</td><td>2010</td><td>Individual</td><td>2nd owner</td><td>43000</td><td>58314</td></tr>",
                            "<tr><td>Honda Activa [2000-2015]</td><td>22989</td><td>2012</td><td>Individual</td><td>1st owner</td><td>500000</td><td>50267</td></tr>",
                            "<tr><td>Honda Activa 125 [2016-2017]</td><td>42000</td><td>2016</td><td>Individual</td><td>1st owner</td><td>30514</td><td>61653</td></tr>",
                            "<tr><td>Suzuki GS150R</td><td>30000</td><td>2010</td><td>Individual</td><td>1st owner</td><td>130000</td><td>70851</td></tr>",
                            "<tr><td>Bajaj Pulsar 220S</td><td>55000</td><td>2015</td><td>Individual</td><td>1st owner</td><td>45000</td><td>NULL</td></tr>",
                            "<tr><td>Honda Activa 4G</td><td>45000</td><td>2018</td><td>Individual</td><td>1st owner</td><td>25000</td><td>53079</td></tr>",
                            "<tr><td>Yamaha FZ25</td><td>150000</td><td>2019</td><td>Individual</td><td>1st owner</td><td>2500</td><td>133680</td></tr>",
                            "<tr><td>Bajaj Pulsar 150</td><td>42000</td><td>2015</td><td>Individual</td><td>1st owner</td><td>22770</td><td>NULL</td></tr>",
                            "<tr><td>Hero Splendor Plus</td><td>30000</td><td>2015</td><td>Individual</td><td>1st owner</td><td>30000</td><td>NULL</td></tr>",
                            "<tr><td>Bajaj Discover 100</td><td>24999</td><td>2012</td><td>Individual</td><td>2nd owner</td><td>35000</td><td>42859</td></tr>",
                            "<tr><td>Royal Enfield Thunderbird 350X</td><td>160000</td><td>2019</td><td>Individual</td><td>1st owner</td><td>6330</td><td>NULL</td></tr>",
                            "<tr><td>Royal Enfield Classic 350</td><td>175000</td><td>2020</td><td>Individual</td><td>1st owner</td><td>500</td><td>NULL</td></tr>",
                            "<tr><td>Bajaj Pulsar 150</td><td>40000</td><td>2013</td><td>Individual</td><td>1st owner</td><td>43400</td><td>NULL</td></tr>",
                            "<tr><td>Bajaj Pulsar NS160</td><td>85000</td><td>2018</td><td>Individual</td><td>1st owner</td><td>7004</td><td>NULL</td></tr>",
                            "<tr><td>Royal Enfield Classic Desert Storm</td><td>150000</td><td>2017</td><td>Individual</td><td>1st owner</td><td>16500</td><td>181445</td></tr>",
                            "<tr><td>Suzuki Gixxer SF</td><td>80000</td><td>2018</td><td>Individual</td><td>1st owner</td><td>12500</td><td>NULL</td></tr>",
                            "<tr><td>TVS Apache RTR 200 4V</td><td>95000</td><td>2018</td><td>Individual</td><td>1st owner</td><td>9600</td><td>NULL</td></tr>",
                            "<tr><td>Bajaj V15</td><td>42000</td><td>2016</td><td>Individual</td><td>1st owner</td><td>35000</td><td>65626</td></tr>",
                            "<tr><td>TVS XL 100 Heavy Duty</td><td>40000</td><td>2019</td><td>Individual</td><td>1st owner</td><td>11000</td><td>NULL</td></tr>",
                            "<tr><td>Yamaha FZ S V 2.0</td><td>50000</td><td>2015</td><td>Individual</td><td>1st owner</td><td>20000</td><td>84042</td></tr>",
                            "<tr><td>Hero HF Deluxe</td><td>40000</td><td>2018</td><td>Individual</td><td>1st owner</td><td>13000</td><td>NULL</td></tr>",
                            "<tr><td>Aprilia SR 125</td><td>75000</td><td>2019</td><td>Individual</td><td>1st owner</td><td>3500</td><td>NULL</td></tr>",
                            "<tr><td>Yamaha FZ25</td><td>120000</td><td>2017</td><td>Individual</td><td>1st owner</td><td>9000</td><td>132680</td></tr>",
                            "<tr><td>Hero Honda Glamour</td><td>30000</td><td>2008</td><td>Individual</td><td>1st owner</td><td>7500</td><td>NULL</td></tr>",
                            "<tr><td>Bajaj Discover 125 ST</td><td>17500</td><td>2013</td><td>Individual</td><td>1st owner</td><td>38000</td><td>58438</td></tr>",
                            "<tr><td>Hero Honda Passion Plus</td><td>7500</td><td>2004</td><td>Individual</td><td>1st owner</td><td>120000</td><td>NULL</td></tr>",
                            "<tr><td>Honda Aviator</td><td>57000</td><td>2018</td><td>Individual</td><td>1st owner</td><td>6465</td><td>61118</td></tr>",
                            "<tr><td>Vespa SXL 149</td><td>80000</td><td>2018</td><td>Individual</td><td>1st owner</td><td>18803</td><td>NULL</td></tr>",
                            "<tr><td>TVS Scooty Pep Plus</td><td>18000</td><td>2010</td><td>Individual</td><td>1st owner</td><td>20000</td><td>NULL</td></tr>",
                            "<tr><td>Hero Xtreme [2013-2014]</td><td>25000</td><td>2013</td><td>Individual</td><td>1st owner</td><td>24000</td><td>75936</td></tr>",
                            "<tr><td>Royal Enfield Thunderbird 350</td><td>83900</td><td>2014</td><td>Individual</td><td>2nd owner</td><td>22000</td><td>NULL</td></tr>",
                            "<tr><td>UM Renegade Commando</td><td>160000</td><td>2018</td><td>Individual</td><td>1st owner</td><td>7000</td><td>180525</td></tr>",
                            "<tr><td>Royal Enfield Classic Gunmetal Grey</td><td>135000</td><td>2018</td><td>Individual</td><td>1st owner</td><td>6100</td><td>148114</td></tr>",
                            "<tr><td>Honda CB Hornet 160R</td><td>55000</td><td>2017</td><td>Individual</td><td>1st owner</td><td>14000</td><td>87543</td></tr>",
                            "<tr><td>Honda Shine</td><td>50000</td><td>2017</td><td>Individual</td><td>1st owner</td><td>23000</td><td>NULL</td></tr>",
                            "<tr><td>Bajaj Discover 100</td><td>20000</td><td>2012</td><td>Individual</td><td>1st owner</td><td>85000</td><td>42859</td></tr>",
                            "<tr><td>Hero Honda CBZ extreme</td><td>25000</td><td>2010</td><td>Individual</td><td>1st owner</td><td>40000</td><td>NULL</td></tr>",
                            "<tr><td>Royal Enfield Classic 350</td><td>125000</td><td>2017</td><td>Individual</td><td>1st owner</td><td>18000</td><td>NULL</td></tr>",
                            "<tr><td>Honda Activa 5G</td><td>55000</td><td>2019</td><td>Individual</td><td>1st owner</td><td>10000</td><td>57557</td></tr>",
                            "<tr><td>Bajaj Avenger Street 150 [2018]</td><td>50000</td><td>2016</td><td>Individual</td><td>1st owner</td><td>40000</td><td>80435</td></tr>",
                            "<tr><td>Royal Enfield Continental GT 650</td><td>299000</td><td>2019</td><td>Individual</td><td>1st owner</td><td>1500</td><td>NULL</td></tr>",
                            "<tr><td>Honda Activa 3G</td><td>60000</td><td>2015</td><td>Individual</td><td>1st owner</td><td>30000</td><td>54605</td></tr>",
                            "<tr><td>Honda Activa 3G</td><td>40000</td><td>2015</td><td>Individual</td><td>1st owner</td><td>3000</td><td>54605</td></tr>",
                            "<tr><td>Bajaj Pulsar 180</td><td>15000</td><td>2008</td><td>Individual</td><td>1st owner</td><td>55000</td><td>85011</td></tr>",
                            "<tr><td>Harley-Davidson Street Bob</td><td>750000</td><td>2013</td><td>Individual</td><td>2nd owner</td><td>12000</td><td>1278000</td></tr>",
                            "<tr><td>Hero Honda CBZ extreme</td><td>20000</td><td>2007</td><td>Individual</td><td>1st owner</td><td>90000</td><td>NULL</td></tr>",
                            "<tr><td>Royal Enfield Classic Gunmetal Grey</td><td>190000</td><td>2020</td><td>Individual</td><td>1st owner</td><td>500</td><td>155740</td></tr>",
                            "<tr><td>KTM 390 Duke ABS [2013-2016]</td><td>130000</td><td>2015</td><td>Individual</td><td>1st owner</td><td>50000</td><td>202127</td></tr>",
                            "<tr><td>Honda CB Hornet 160R</td><td>54786</td><td>2016</td><td>Individual</td><td>1st owner</td><td>25000</td><td>88161</td></tr>",
                            "<tr><td>KTM 200 Duke</td><td>72000</td><td>2013</td><td>Individual</td><td>1st owner</td><td>36500</td><td>NULL</td></tr>",
                            "<tr><td>Hero Karizma 2014</td><td>35000</td><td>2013</td><td>Individual</td><td>1st owner</td><td>26000</td><td>86744</td></tr>",
                            "<tr><td>Hero Glamour 125</td><td>45000</td><td>2017</td><td>Individual</td><td>1st owner</td><td>18000</td><td>61600</td></tr>",
                            "<tr><td>Royal Enfield Classic 350</td><td>85000</td><td>2013</td><td>Individual</td><td>1st owner</td><td>49000</td><td>NULL</td></tr>",
                            "<tr><td>Royal Enfield Classic 500</td><td>100000</td><td>2013</td><td>Individual</td><td>1st owner</td><td>18000</td><td>156304</td></tr>",
                            "<tr><td>Bajaj Dominar 400</td><td>138000</td><td>2017</td><td>Individual</td><td>1st owner</td><td>15000</td><td>NULL</td></tr>",
                            "<tr><td>Royal Enfield Thunderbird 350X</td><td>150000</td><td>2018</td><td>Individual</td><td>1st owner</td><td>8500</td><td>NULL</td></tr>",
                            "<tr><td>KTM RC 390</td><td>180000</td><td>2017</td><td>Individual</td><td>1st owner</td><td>3775</td><td>NULL</td></tr>",
                            "<tr><td>Royal Enfield Thunderbird 350</td><td>100000</td><td>2015</td><td>Individual</td><td>1st owner</td><td>14500</td><td>NULL</td></tr>",
                            "<tr><td>Hero Hunk</td><td>20000</td><td>2010</td><td>Individual</td><td>1st owner</td><td>35000</td><td>78513</td></tr>",
                            "<tr><td>KTM 390 Duke</td><td>170000</td><td>2017</td><td>Individual</td><td>1st owner</td><td>14000</td><td>NULL</td></tr>",
                            "<tr><td>Suzuki Gixxer [2014-2018]</td><td>60000</td><td>2016</td><td>Individual</td><td>1st owner</td><td>16000</td><td>84246</td></tr>",
                            "<tr><td>Royal Enfield Bullet 350</td><td>123000</td><td>2016</td><td>Individual</td><td>1st owner</td><td>7000</td><td>NULL</td></tr>",
                            "<tr><td>Suzuki Access 125</td><td>60000</td><td>2017</td><td>Individual</td><td>1st owner</td><td>4000</td><td>NULL</td></tr>",
                            "<tr><td>TVS Apache RTR 200 4V</td><td>100000</td><td>2017</td><td>Individual</td><td>1st owner</td><td>45000</td><td>NULL</td></tr>",
                            "<tr><td>Hero Xtreme Sports</td><td>22000</td><td>2014</td><td>Individual</td><td>1st owner</td><td>99000</td><td>78350</td></tr>",
                            "<tr><td>Honda Activa [2000-2015]</td><td>30000</td><td>2014</td><td>Individual</td><td>1st owner</td><td>52000</td><td>50267</td></tr>",
                            "<tr><td>Bajaj Discover 125</td><td>28000</td><td>2013</td><td>Individual</td><td>1st owner</td><td>45000</td><td>60122</td></tr>",
                            "<tr><td>Bajaj Pulsar 150</td><td>50000</td><td>2007</td><td>Individual</td><td>1st owner</td><td>52000</td><td>NULL</td></tr>",
                            "<tr><td>Yamaha Saluto RX</td><td>40000</td><td>2017</td><td>Individual</td><td>1st owner</td><td>27000</td><td>49521</td></tr>",
                            "<tr><td>Hero HF Deluxe</td><td>43000</td><td>2018</td><td>Individual</td><td>1st owner</td><td>60000</td><td>NULL</td></tr>",
                            "<tr><td>Suzuki Access 125</td><td>40000</td><td>2015</td><td>Individual</td><td>1st owner</td><td>2300</td><td>NULL</td></tr>",
                            "<tr><td>Royal Enfield Classic Desert Storm</td><td>100000</td><td>2012</td><td>Individual</td><td>1st owner</td><td>15000</td><td>181445</td></tr>",
                            "<tr><td>Hero HF Deluxe</td><td>30000</td><td>2016</td><td>Individual</td><td>1st owner</td><td>50000</td><td>NULL</td></tr>",
                            "<tr><td>KTM RC 200</td><td>130000</td><td>2017</td><td>Individual</td><td>1st owner</td><td>27000</td><td>NULL</td></tr>",
                            "<tr><td>Honda CB Hornet 160R</td><td>48000</td><td>2016</td><td>Individual</td><td>2nd owner</td><td>25000</td><td>88161</td></tr>",
                            "<tr><td>Bajaj CT 100</td><td>32000</td><td>2017</td><td>Individual</td><td>1st owner</td><td>40000</td><td>NULL</td></tr>",
                            "<tr><td>Hero Honda Pleasure</td><td>23000</td><td>2010</td><td>Individual</td><td>1st owner</td><td>32000</td><td>NULL</td></tr>",
                            "<tr><td>Bajaj Pulsar 135 LS</td><td>20000</td><td>2010</td><td>Individual</td><td>2nd owner</td><td>50000</td><td>64589</td></tr>",
                            "<tr><td>Royal Enfield Classic 350</td><td>125000</td><td>2017</td><td>Individual</td><td>1st owner</td><td>36000</td><td>NULL</td></tr>",
                            "<tr><td>Honda Navi [2016-2017]</td><td>23000</td><td>2016</td><td>Individual</td><td>1st owner</td><td>17450</td><td>44389</td></tr>",
                            "<tr><td>Bajaj Discover 125</td><td>15000</td><td>2011</td><td>Individual</td><td>1st owner</td><td>32000</td><td>57549</td></tr>",
                            "<tr><td>Yamaha SZ RR V 2.0</td><td>35000</td><td>2015</td><td>Individual</td><td>1st owner</td><td>38000</td><td>69983</td></tr>",
                            "<tr><td>Bajaj Discover 150</td><td>25000</td><td>2014</td><td>Individual</td><td>2nd owner</td><td>71000</td><td>54299</td></tr>",
                            "<tr><td>Bajaj Pulsar 150</td><td>80000</td><td>2019</td><td>Individual</td><td>1st owner</td><td>8000</td><td>NULL</td></tr>",
                            "<tr><td>TVS Flame</td><td>15000</td><td>2010</td><td>Individual</td><td>1st owner</td><td>12000</td><td>NULL</td></tr>",
                            "<tr><td>Vespa VX 125</td><td>45000</td><td>2013</td><td>Individual</td><td>2nd owner</td><td>50000</td><td>72303</td></tr>",
                            "<tr><td>Yamaha SZ X</td><td>25000</td><td>2012</td><td>Individual</td><td>2nd owner</td><td>30000</td><td>65800</td></tr>",
                            "<tr><td>Honda CBF Stunner</td><td>35000</td><td>2013</td><td>Individual</td><td>1st owner</td><td>15888</td><td>58757</td></tr>",
                            "<tr><td>Bajaj Discover 100 T</td><td>25000</td><td>2013</td><td>Individual</td><td>1st owner</td><td>26000</td><td>47032</td></tr>",
                            "<tr><td>Royal Enfield Classic 350</td><td>170000</td><td>2018</td><td>Individual</td><td>1st owner</td><td>5600</td><td>NULL</td></tr>",
                            "<tr><td>Honda Activa [2000-2015]</td><td>25000</td><td>2014</td><td>Individual</td><td>1st owner</td><td>41000</td><td>50267</td></tr>",
                            "<tr><td>Royal Enfield Electra 5 S</td><td>60000</td><td>2007</td><td>Individual</td><td>2nd owner</td><td>19612</td><td>NULL</td></tr>",
                            "<tr><td>Bajaj Pulsar 150</td><td>41000</td><td>2012</td><td>Individual</td><td>1st owner</td><td>17000</td><td>NULL</td></tr>",
                            "<tr><td>Honda Shine</td><td>35000</td><td>2012</td><td>Individual</td><td>1st owner</td><td>33700</td><td>NULL</td></tr>",
                            "<tr><td>Honda CB Unicorn 160</td><td>75000</td><td>2015</td><td>Individual</td><td>1st owner</td><td>100000</td><td>79233</td></tr>",
                            "<tr><td>Honda Activa 3G</td><td>47999</td><td>2016</td><td>Individual</td><td>1st owner</td><td>6000</td><td>54605</td></tr>",
                            "<tr><td>Honda Shine</td><td>36999</td><td>2011</td><td>Individual</td><td>1st owner</td><td>21000</td><td>NULL</td></tr>",
                            "<tr><td>Bajaj Pulsar 180</td><td>25000</td><td>2007</td><td>Individual</td><td>1st owner</td><td>80000</td><td>85011</td></tr>",
                            "<tr><td>Suzuki Gixxer SF</td><td>60000</td><td>2016</td><td>Individual</td><td>1st owner</td><td>15000</td><td>NULL</td></tr>",
                            "<tr><td>Honda CB Unicorn 150</td><td>50000</td><td>2007</td><td>Individual</td><td>1st owner</td><td>46000</td><td>74295</td></tr>",
                            "<tr><td>Yamaha YZF R15 [2011-2018]</td><td>65000</td><td>2013</td><td>Individual</td><td>1st owner</td><td>11000</td><td>118997</td></tr>",
                            "<tr><td>TVS Sport</td><td>12000</td><td>2007</td><td>Individual</td><td>1st owner</td><td>72000</td><td>NULL</td></tr>",
                            "<tr><td>Bajaj Pulsar AS200</td><td>60000</td><td>2015</td><td>Individual</td><td>1st owner</td><td>50000</td><td>92074</td></tr>",
                            "<tr><td>Honda Activa [2000-2015]</td><td>20000</td><td>2010</td><td>Individual</td><td>1st owner</td><td>50000</td><td>50267</td></tr>",
                            "<tr><td>Yamaha FZ16</td><td>27000</td><td>2011</td><td>Individual</td><td>1st owner</td><td>67000</td><td>78712</td></tr>",
                            "<tr><td>Bajaj Boxer</td><td>10000</td><td>2000</td><td>Individual</td><td>1st owner</td><td>30000</td><td>NULL</td></tr>",
                            "<tr><td>Hero Honda Hunk</td><td>56000</td><td>2015</td><td>Individual</td><td>1st owner</td><td>48000</td><td>NULL</td></tr>",
                            "<tr><td>Hero Honda Hunk</td><td>58000</td><td>2015</td><td>Individual</td><td>1st owner</td><td>48000</td><td>NULL</td></tr>",
                            "<tr><td>Bajaj Avenger Cruise 220</td><td>87000</td><td>2018</td><td>Individual</td><td>1st owner</td><td>8000</td><td>NULL</td></tr>",
                            "<tr><td>Yamaha Ray Z</td><td>35000</td><td>2015</td><td>Individual</td><td>1st owner</td><td>15500</td><td>52949</td></tr>",
                            "<tr><td>Bajaj Pulsar 180</td><td>35000</td><td>2012</td><td>Individual</td><td>1st owner</td><td>45000</td><td>85011</td></tr>",
                            "<tr><td>Bajaj Discover 150F</td><td>40000</td><td>2014</td><td>Individual</td><td>2nd owner</td><td>60855</td><td>64071</td></tr>",
                            "<tr><td>Bajaj Pulsar 135 LS</td><td>56000</td><td>2017</td><td>Individual</td><td>3rd owner</td><td>37714</td><td>64589</td></tr>",
                            "<tr><td>Bajaj Pulsar 180</td><td>30000</td><td>2008</td><td>Individual</td><td>2nd owner</td><td>60000</td><td>85011</td></tr>",
                            "<tr><td>Honda Activa 125 [2016-2017]</td><td>40000</td><td>2017</td><td>Individual</td><td>1st owner</td><td>26000</td><td>61545</td></tr>",
                            "<tr><td>Hero HF Deluxe</td><td>60000</td><td>2019</td><td>Individual</td><td>1st owner</td><td>6000</td><td>NULL</td></tr>",
                            "<tr><td>Hero Karizma 2014</td><td>40000</td><td>2013</td><td>Individual</td><td>1st owner</td><td>30000</td><td>86744</td></tr>",
                            "<tr><td>Bajaj Platina 100</td><td>40000</td><td>2018</td><td>Individual</td><td>1st owner</td><td>17000</td><td>NULL</td></tr>",
                            "<tr><td>Royal Enfield Bullet 500</td><td>130000</td><td>2015</td><td>Individual</td><td>1st owner</td><td>34601</td><td>168482</td></tr>",
                            "<tr><td>Bajaj Pulsar AS200</td><td>45000</td><td>2015</td><td>Individual</td><td>1st owner</td><td>48000</td><td>92074</td></tr>",
                            "<tr><td>Yamaha FZ S [2012-2016]</td><td>42000</td><td>2013</td><td>Individual</td><td>1st owner</td><td>60000</td><td>79432</td></tr>",
                            "<tr><td>Bajaj Pulsar 220 Fi</td><td>25000</td><td>2012</td><td>Individual</td><td>1st owner</td><td>44000</td><td>NULL</td></tr>",
                            "<tr><td>Bajaj Pulsar 150</td><td>15000</td><td>2006</td><td>Individual</td><td>1st owner</td><td>55000</td><td>NULL</td></tr>",
                            "<tr><td>Bajaj Dominar 400 [2018]</td><td>170000</td><td>2018</td><td>Individual</td><td>1st owner</td><td>16000</td><td>163331</td></tr>",
                            "<tr><td>Hero Passion X Pro [2016-2017]</td><td>38000</td><td>2016</td><td>Individual</td><td>2nd owner</td><td>20000</td><td>59095</td></tr>",
                            "<tr><td>Yamaha FZ S V 2.0</td><td>60000</td><td>2015</td><td>Individual</td><td>2nd owner</td><td>17500</td><td>84042</td></tr>",
                            "<tr><td>TVS Apache RTR 160</td><td>65000</td><td>2017</td><td>Individual</td><td>1st owner</td><td>46000</td><td>NULL</td></tr>",
                            "<tr><td>Bajaj Avenger [2015]</td><td>35000</td><td>2011</td><td>Individual</td><td>1st owner</td><td>30000</td><td>75502</td></tr>",
                            "<tr><td>Bajaj Pulsar 150</td><td>70000</td><td>2019</td><td>Individual</td><td>1st owner</td><td>6500</td><td>NULL</td></tr>",
                            "<tr><td>Hero Honda Glamour</td><td>15000</td><td>2006</td><td>Individual</td><td>1st owner</td><td>80000</td><td>NULL</td></tr>",
                            "<tr><td>Hero Splendor iSmart</td><td>50000</td><td>2017</td><td>Individual</td><td>2nd owner</td><td>10000</td><td>52271</td></tr>",
                            "<tr><td>Royal Enfield Classic 350</td><td>145000</td><td>2017</td><td>Individual</td><td>1st owner</td><td>2200</td><td>NULL</td></tr>",
                            "<tr><td>Yamaha FZ16</td><td>25000</td><td>2008</td><td>Individual</td><td>1st owner</td><td>40000</td><td>78712</td></tr>",
                            "<tr><td>Hero Xtreme Sports</td><td>58000</td><td>2016</td><td>Individual</td><td>1st owner</td><td>21000</td><td>80350</td></tr>",
                            "<tr><td>Royal Enfield Bullet 350 [2007-2011]</td><td>90000</td><td>2007</td><td>Individual</td><td>1st owner</td><td>3500</td><td>NULL</td></tr>",
                            "<tr><td>Hero Honda Passion</td><td>9000</td><td>2002</td><td>Individual</td><td>2nd owner</td><td>66191</td><td>NULL</td></tr>",
                            "<tr><td>Bajaj Discover 150S</td><td>40000</td><td>2014</td><td>Individual</td><td>1st owner</td><td>50000</td><td>63331</td></tr>",
                            "<tr><td>TVS Scooty Zest 110</td><td>28000</td><td>2015</td><td>Individual</td><td>1st owner</td><td>32800</td><td>52372</td></tr>",
                            "<tr><td>Bajaj Avenger Street 150 [2018]</td><td>50000</td><td>2016</td><td>Individual</td><td>1st owner</td><td>32000</td><td>80435</td></tr>",
                            "<tr><td>Yamaha Cygnus Ray ZR</td><td>56000</td><td>2019</td><td>Individual</td><td>1st owner</td><td>3900</td><td>58630</td></tr>",
                            "<tr><td>Honda Activa [2000-2015]</td><td>35000</td><td>2014</td><td>Individual</td><td>1st owner</td><td>10000</td><td>50267</td></tr>",
                            "<tr><td>TVS Apache RTR 200 4V</td><td>95000</td><td>2018</td><td>Individual</td><td>1st owner</td><td>9600</td><td>NULL</td></tr>",
                            "<tr><td>Honda Shine</td><td>30000</td><td>2010</td><td>Individual</td><td>1st owner</td><td>46782</td><td>NULL</td></tr>",
                            "<tr><td>Honda CB Hornet 160R</td><td>95000</td><td>2019</td><td>Individual</td><td>1st owner</td><td>8000</td><td>94703</td></tr>",
                            "<tr><td>Honda Activa i [2016-2017]</td><td>40000</td><td>2017</td><td>Individual</td><td>1st owner</td><td>11000</td><td>53436</td></tr>",
                            "<tr><td>Hero Karizma 2014</td><td>30000</td><td>2014</td><td>Individual</td><td>2nd owner</td><td>51000</td><td>86744</td></tr>",
                            "<tr><td>Bajaj Discover 100 T</td><td>18000</td><td>2013</td><td>Individual</td><td>1st owner</td><td>45000</td><td>47032</td></tr>",
                            "<tr><td>Honda Aviator</td><td>14000</td><td>2008</td><td>Individual</td><td>1st owner</td><td>66000</td><td>59183</td></tr>",
                            "<tr><td>Hero Splendor Plus</td><td>17000</td><td>2010</td><td>Individual</td><td>2nd owner</td><td>50000</td><td>NULL</td></tr>",
                            "<tr><td>Royal Enfield Thunderbird 350</td><td>125000</td><td>2017</td><td>Individual</td><td>1st owner</td><td>23500</td><td>NULL</td></tr>",
                            "<tr><td>Bajaj CT 110</td><td>20000</td><td>2015</td><td>Individual</td><td>1st owner</td><td>25000</td><td>NULL</td></tr>",
                            "<tr><td>Hero Passion PRO i3s</td><td>50000</td><td>2017</td><td>Individual</td><td>1st owner</td><td>41000</td><td>56925</td></tr>",
                            "<tr><td>KTM RC 390</td><td>210000</td><td>2017</td><td>Individual</td><td>1st owner</td><td>12000</td><td>NULL</td></tr>",
                            "<tr><td>Bajaj Pulsar 220F</td><td>70000</td><td>2018</td><td>Individual</td><td>1st owner</td><td>33000</td><td>NULL</td></tr>",
                            "<tr><td>Hero Maestro Edge</td><td>40000</td><td>2017</td><td>Individual</td><td>1st owner</td><td>15000</td><td>55980</td></tr>",
                            "<tr><td>Bajaj Xcd</td><td>10000</td><td>2008</td><td>Individual</td><td>1st owner</td><td>50000</td><td>NULL</td></tr>",
                            "<tr><td>Bajaj Pulsar 150</td><td>35000</td><td>2010</td><td>Individual</td><td>1st owner</td><td>40000</td><td>NULL</td></tr>",
                            "<tr><td>TVS Centra</td><td>10000</td><td>2005</td><td>Individual</td><td>1st owner</td><td>50000</td><td>NULL</td></tr>",
                            "<tr><td>Honda Activa 3G</td><td>42000</td><td>2015</td><td>Individual</td><td>1st owner</td><td>20000</td><td>54605</td></tr>",
                            "<tr><td>Yamaha FZ16</td><td>20000</td><td>2009</td><td>Individual</td><td>1st owner</td><td>50000</td><td>78712</td></tr>",
                            "<tr><td>Hero Maestro Edge</td><td>25000</td><td>2017</td><td>Individual</td><td>1st owner</td><td>55000</td><td>52790</td></tr>",
                            "<tr><td>Bajaj Discover 125</td><td>25000</td><td>2016</td><td>Individual</td><td>1st owner</td><td>70350</td><td>60122</td></tr>",
                            "<tr><td>Royal Enfield Thunderbird 350X</td><td>145000</td><td>2019</td><td>Individual</td><td>1st owner</td><td>2700</td><td>164004</td></tr>",
                            "<tr><td>Hero Super Splendor</td><td>50000</td><td>2016</td><td>Individual</td><td>1st owner</td><td>20000</td><td>NULL</td></tr>",
                            "<tr><td>TVS Scooty Pep Plus</td><td>30000</td><td>2011</td><td>Individual</td><td>1st owner</td><td>20000</td><td>NULL</td></tr>",
                            "<tr><td>Yamaha FZ V 2.0</td><td>60000</td><td>2014</td><td>Individual</td><td>1st owner</td><td>41311</td><td>81508</td></tr>",
                            "<tr><td>Hero Honda Splendor Plus</td><td>15000</td><td>2005</td><td>Individual</td><td>1st owner</td><td>65000</td><td>NULL</td></tr>",
                            "<tr><td>Hero CD Deluxe</td><td>15000</td><td>2014</td><td>Individual</td><td>2nd owner</td><td>34000</td><td>NULL</td></tr>",
                            "<tr><td>Hero Honda Passion PRO [2012]</td><td>25000</td><td>2011</td><td>Individual</td><td>1st owner</td><td>20000</td><td>NULL</td></tr>",
                            "<tr><td>Hero HF Deluxe i3s</td><td>54000</td><td>2019</td><td>Individual</td><td>1st owner</td><td>11000</td><td>NULL</td></tr>",
                            "<tr><td>Bajaj Xcd</td><td>25000</td><td>2007</td><td>Individual</td><td>1st owner</td><td>75000</td><td>NULL</td></tr>",
                            "<tr><td>Royal Enfield Interceptor 650</td><td>260000</td><td>2019</td><td>Individual</td><td>1st owner</td><td>1200</td><td>NULL</td></tr>",
                            "<tr><td>Honda CBR-250R</td><td>100000</td><td>2014</td><td>Individual</td><td>1st owner</td><td>19000</td><td>199275</td></tr>",
                            "<tr><td>Bajaj Kristal</td><td>15000</td><td>2007</td><td>Individual</td><td>1st owner</td><td>30000</td><td>NULL</td></tr>",
                            "<tr><td>Hero Honda Splendor Plus</td><td>20000</td><td>2006</td><td>Individual</td><td>1st owner</td><td>23000</td><td>NULL</td></tr>",
                            "<tr><td>Honda Dream Yuga</td><td>35000</td><td>2014</td><td>Individual</td><td>1st owner</td><td>10000</td><td>56147</td></tr>",
                            "<tr><td>Yamaha FZ S V 2.0</td><td>50000</td><td>2016</td><td>Individual</td><td>1st owner</td><td>40000</td><td>87042</td></tr>",
                            "<tr><td>Hero Xpulse 200</td><td>90000</td><td>2019</td><td>Individual</td><td>1st owner</td><td>8600</td><td>107500</td></tr>",
                            "<tr><td>Bajaj V15</td><td>40000</td><td>2016</td><td>Individual</td><td>1st owner</td><td>45000</td><td>67187</td></tr>",
                            "<tr><td>Bajaj Avenger Street 220</td><td>80000</td><td>2016</td><td>Individual</td><td>1st owner</td><td>7200</td><td>95955</td></tr>",
                            "<tr><td>Bajaj Discover 135</td><td>20000</td><td>2010</td><td>Individual</td><td>1st owner</td><td>31195</td><td>NULL</td></tr>",
                            "<tr><td>Honda CB Unicorn 150</td><td>70000</td><td>2017</td><td>Individual</td><td>1st owner</td><td>18000</td><td>74295</td></tr>",
                            "<tr><td>Vespa SXL 149</td><td>98000</td><td>2019</td><td>Individual</td><td>1st owner</td><td>1000</td><td>NULL</td></tr>",
                            "<tr><td>Royal Enfield Machismo</td><td>75000</td><td>2008</td><td>Individual</td><td>2nd owner</td><td>17000</td><td>NULL</td></tr>",
                            "<tr><td>Honda CB Shine SP</td><td>50000</td><td>2016</td><td>Individual</td><td>1st owner</td><td>46000</td><td>67214</td></tr>",
                            "<tr><td>Honda CB Unicorn 150</td><td>40000</td><td>2014</td><td>Individual</td><td>1st owner</td><td>77592</td><td>74295</td></tr>",
                            "<tr><td>Honda CB Unicorn 150</td><td>75000</td><td>2013</td><td>Individual</td><td>1st owner</td><td>54000</td><td>74295</td></tr>",
                            "<tr><td>Honda CB Unicorn 150</td><td>50000</td><td>2013</td><td>Individual</td><td>1st owner</td><td>17000</td><td>74295</td></tr>",
                            "<tr><td>Bajaj Pulsar 150</td><td>60000</td><td>2014</td><td>Individual</td><td>1st owner</td><td>60000</td><td>NULL</td></tr>",
                            "<tr><td>TVS Apache RTR 160</td><td>50000</td><td>2016</td><td>Individual</td><td>1st owner</td><td>40000</td><td>NULL</td></tr>",
                            "<tr><td>Honda Dio</td><td>35000</td><td>2014</td><td>Individual</td><td>1st owner</td><td>25000</td><td>NULL</td></tr>",
                            "<tr><td>Royal Enfield Thunderbird 350</td><td>160000</td><td>2018</td><td>Individual</td><td>1st owner</td><td>19000</td><td>NULL</td></tr>",
                            "<tr><td>Hero Maestro</td><td>25000</td><td>2015</td><td>Individual</td><td>2nd owner</td><td>40000</td><td>49412</td></tr>",
                            "<tr><td>Hero Honda CBZ extreme</td><td>42000</td><td>2010</td><td>Individual</td><td>1st owner</td><td>51000</td><td>NULL</td></tr>",
                            "<tr><td>Bajaj Dominar 400</td><td>200000</td><td>2019</td><td>Individual</td><td>1st owner</td><td>7600</td><td>NULL</td></tr>",
                            "<tr><td>Honda Activa 125</td><td>40000</td><td>2014</td><td>Individual</td><td>1st owner</td><td>14965</td><td>NULL</td></tr>",
                            "<tr><td>Royal Enfield Classic Desert Storm</td><td>130000</td><td>2015</td><td>Individual</td><td>2nd owner</td><td>25000</td><td>181445</td></tr>",
                            "<tr><td>KTM 250 Duke</td><td>195000</td><td>2019</td><td>Individual</td><td>1st owner</td><td>6000</td><td>NULL</td></tr>",
                            "<tr><td>KTM RC 390</td><td>270000</td><td>2019</td><td>Individual</td><td>1st owner</td><td>2380</td><td>NULL</td></tr>",
                            "<tr><td>Kawasaki Ninja 650 [2018-2019]</td><td>425000</td><td>2017</td><td>Individual</td><td>2nd owner</td><td>13600</td><td>599000</td></tr>",
                            "<tr><td>TVS Apache RTR 200 4V</td><td>85000</td><td>2018</td><td>Individual</td><td>1st owner</td><td>10000</td><td>NULL</td></tr>",
                            "<tr><td>Kawasaki Ninja 250R</td><td>125000</td><td>2010</td><td>Individual</td><td>2nd owner</td><td>21000</td><td>317934</td></tr>",
                            "<tr><td>TVS Wego</td><td>45000</td><td>2018</td><td>Individual</td><td>1st owner</td><td>10000</td><td>54760</td></tr>",
                            "<tr><td>Honda CBR-250R</td><td>85000</td><td>2014</td><td>Individual</td><td>2nd owner</td><td>18600</td><td>171646</td></tr>",
                            "<tr><td>Bajaj Pulsar NS200</td><td>85000</td><td>2018</td><td>Individual</td><td>1st owner</td><td>7750</td><td>NULL</td></tr>",
                            "<tr><td>Suzuki GSX S750</td><td>760000</td><td>2019</td><td>Individual</td><td>1st owner</td><td>2800</td><td>752020</td></tr>",
                            "<tr><td>Royal Enfield Thunderbird 350</td><td>100000</td><td>2015</td><td>Individual</td><td>1st owner</td><td>30000</td><td>NULL</td></tr>",
                            "<tr><td>Royal Enfield Classic 350</td><td>95000</td><td>2015</td><td>Individual</td><td>1st owner</td><td>9800</td><td>NULL</td></tr>",
                            "<tr><td>Honda CB Shine SP</td><td>48000</td><td>2015</td><td>Individual</td><td>1st owner</td><td>25000</td><td>67469</td></tr>",
                            "<tr><td>Bajaj Avenger Street 150 [2018]</td><td>40000</td><td>2016</td><td>Individual</td><td>1st owner</td><td>29689</td><td>80435</td></tr>",
                            "<tr><td>Honda CBF Stunner</td><td>37000</td><td>2014</td><td>Individual</td><td>1st owner</td><td>43000</td><td>58757</td></tr>",
                            "<tr><td>Bajaj Avenger [2015]</td><td>38000</td><td>2014</td><td>Individual</td><td>2nd owner</td><td>28243</td><td>75502</td></tr>",
                            "<tr><td>Suzuki Gixxer [2014-2018]</td><td>55000</td><td>2015</td><td>Individual</td><td>1st owner</td><td>25000</td><td>78316</td></tr>",
                            "<tr><td>Suzuki Access 125</td><td>45000</td><td>2017</td><td>Individual</td><td>1st owner</td><td>22300</td><td>NULL</td></tr>",
                            "<tr><td>TVS Scooty Streak</td><td>18000</td><td>2009</td><td>Individual</td><td>2nd owner</td><td>33595</td><td>44140</td></tr>",
                            "<tr><td>Royal Enfield Thunderbird 350X</td><td>140000</td><td>2018</td><td>Individual</td><td>1st owner</td><td>5505</td><td>NULL</td></tr>",
                            "<tr><td>Yamaha Rx</td><td>70000</td><td>2000</td><td>Individual</td><td>3rd owner</td><td>5000</td><td>NULL</td></tr>",
                            "<tr><td>Hero Honda Splendor Plus</td><td>15000</td><td>2007</td><td>Individual</td><td>1st owner</td><td>30000</td><td>NULL</td></tr>",
                            "<tr><td>Bajaj Pulsar 125</td><td>65000</td><td>2019</td><td>Individual</td><td>1st owner</td><td>16000</td><td>NULL</td></tr>",
                            "<tr><td>Honda Activa 5G</td><td>42000</td><td>2018</td><td>Individual</td><td>1st owner</td><td>22000</td><td>57557</td></tr>",
                            "<tr><td>Yamaha Fazer Dlx</td><td>58000</td><td>2012</td><td>Individual</td><td>1st owner</td><td>40000</td><td>NULL</td></tr>",
                            "<tr><td>Harley-Davidson Street 750</td><td>330000</td><td>2014</td><td>Individual</td><td>4th owner</td><td>6500</td><td>534000</td></tr>",
                            "<tr><td>Hero Xtreme 2014</td><td>35000</td><td>2013</td><td>Individual</td><td>1st owner</td><td>15000</td><td>72973</td></tr>",
                            "<tr><td>Royal Enfield Classic 350</td><td>162000</td><td>2018</td><td>Individual</td><td>1st owner</td><td>17365</td><td>NULL</td></tr>",
                            "<tr><td>Hero Honda Hunk</td><td>28000</td><td>2009</td><td>Individual</td><td>1st owner</td><td>40000</td><td>NULL</td></tr>",
                            "<tr><td>Royal Enfield Interceptor 650</td><td>285000</td><td>2019</td><td>Individual</td><td>1st owner</td><td>5500</td><td>NULL</td></tr>",
                            "<tr><td>Royal Enfield Classic 350</td><td>125000</td><td>2017</td><td>Individual</td><td>1st owner</td><td>33900</td><td>NULL</td></tr>",
                            "<tr><td>Bajaj Pulsar 150 [2001-2011]</td><td>15000</td><td>2005</td><td>Individual</td><td>1st owner</td><td>47670</td><td>NULL</td></tr>",
                            "<tr><td>Honda Activa [2000-2015]</td><td>29500</td><td>2013</td><td>Individual</td><td>1st owner</td><td>45000</td><td>50267</td></tr>",
                            "<tr><td>TVS Apache RR310</td><td>200000</td><td>2019</td><td>Individual</td><td>1st owner</td><td>5000</td><td>NULL</td></tr>",
                            "<tr><td>Jawa Standard</td><td>160000</td><td>2019</td><td>Individual</td><td>1st owner</td><td>5700</td><td>NULL</td></tr>",
                            "<tr><td>Hero Honda Splendor PRO</td><td>30000</td><td>2012</td><td>Individual</td><td>1st owner</td><td>22866</td><td>NULL</td></tr>",
                            "<tr><td>Yamaha FZ25</td><td>110000</td><td>2019</td><td>Individual</td><td>1st owner</td><td>10000</td><td>133680</td></tr>",
                            "<tr><td>Bajaj Pulsar 220F</td><td>70000</td><td>2016</td><td>Individual</td><td>1st owner</td><td>31000</td><td>NULL</td></tr>",
                            "<tr><td>Yamaha Fascino 110</td><td>69000</td><td>2019</td><td>Individual</td><td>1st owner</td><td>1600</td><td>57112</td></tr>",
                            "<tr><td>Yamaha FZ16</td><td>30000</td><td>2011</td><td>Individual</td><td>1st owner</td><td>44000</td><td>78712</td></tr>",
                            "<tr><td>Yamaha FZ16</td><td>30000</td><td>2010</td><td>Individual</td><td>1st owner</td><td>70000</td><td>78712</td></tr>",
                            "<tr><td>TVS Star City Plus</td><td>42000</td><td>2017</td><td>Individual</td><td>1st owner</td><td>21000</td><td>NULL</td></tr>",
                            "<tr><td>Royal Enfield Classic 350</td><td>160000</td><td>2018</td><td>Individual</td><td>1st owner</td><td>17365</td><td>NULL</td></tr>",
                            "<tr><td>Bajaj Pulsar 135 LS</td><td>20000</td><td>2010</td><td>Individual</td><td>1st owner</td><td>80000</td><td>64589</td></tr>",
                            "<tr><td>Suzuki Access 125</td><td>45000</td><td>2017</td><td>Individual</td><td>1st owner</td><td>15000</td><td>NULL</td></tr>",
                            "<tr><td>Bajaj Pulsar 135 LS</td><td>23000</td><td>2010</td><td>Individual</td><td>1st owner</td><td>77000</td><td>64589</td></tr>",
                            "<tr><td>UM Renegade Commando</td><td>140000</td><td>2017</td><td>Individual</td><td>2nd owner</td><td>40000</td><td>180525</td></tr>",
                            "<tr><td>Hero Honda Splendor Plus</td><td>12000</td><td>2005</td><td>Individual</td><td>1st owner</td><td>48000</td><td>NULL</td></tr>",
                            "<tr><td>Hero Passion PRO i3s</td><td>50000</td><td>2017</td><td>Individual</td><td>1st owner</td><td>18000</td><td>56925</td></tr>",
                            "<tr><td>Royal Enfield Classic 350</td><td>140000</td><td>2018</td><td>Individual</td><td>1st owner</td><td>20000</td><td>NULL</td></tr>",
                            "<tr><td>Honda Activa 5G</td><td>55000</td><td>2019</td><td>Individual</td><td>1st owner</td><td>9000</td><td>59422</td></tr>",
                            "<tr><td>Yamaha Fascino 110</td><td>45000</td><td>2016</td><td>Individual</td><td>1st owner</td><td>56000</td><td>54500</td></tr>",
                            "<tr><td>Hero Splendor Plus</td><td>25000</td><td>2012</td><td>Individual</td><td>1st owner</td><td>50000</td><td>NULL</td></tr>",
                            "<tr><td>Royal Enfield Thunderbird 350</td><td>90000</td><td>2014</td><td>Individual</td><td>1st owner</td><td>12000</td><td>NULL</td></tr>",
                            "<tr><td>Yamaha YZF R15 V3</td><td>120000</td><td>2018</td><td>Individual</td><td>1st owner</td><td>11500</td><td>NULL</td></tr>",
                            "<tr><td>KTM RC 200</td><td>120000</td><td>2015</td><td>Individual</td><td>1st owner</td><td>20000</td><td>NULL</td></tr>",
                            "<tr><td>TVS Radeon</td><td>35000</td><td>2017</td><td>Individual</td><td>1st owner</td><td>20000</td><td>66492</td></tr>",
                            "<tr><td>Hero HF Deluxe</td><td>35000</td><td>2017</td><td>Individual</td><td>1st owner</td><td>27000</td><td>NULL</td></tr>",
                            "<tr><td>BMW G310GS</td><td>300000</td><td>2018</td><td>Individual</td><td>1st owner</td><td>2500</td><td>349000</td></tr>",
                            "<tr><td>Royal Enfield Thunderbird 350</td><td>87000</td><td>2012</td><td>Individual</td><td>1st owner</td><td>20477</td><td>NULL</td></tr>",
                            "<tr><td>Hero Honda Splendor Plus</td><td>18000</td><td>2010</td><td>Individual</td><td>1st owner</td><td>35700</td><td>NULL</td></tr>",
                            "<tr><td>Yamaha FZ S V 2.0</td><td>50000</td><td>2014</td><td>Individual</td><td>1st owner</td><td>70000</td><td>84042</td></tr>",
                            "<tr><td>Bajaj Avenger Street 220</td><td>60000</td><td>2016</td><td>Individual</td><td>1st owner</td><td>29000</td><td>95955</td></tr>",
                            "<tr><td>Hero Honda Splendor Plus</td><td>15000</td><td>2004</td><td>Individual</td><td>1st owner</td><td>14500</td><td>NULL</td></tr>",
                            "<tr><td>Bajaj Platina 100</td><td>30000</td><td>2018</td><td>Individual</td><td>1st owner</td><td>37000</td><td>NULL</td></tr>",
                            "<tr><td>Royal Enfield Thunderbird 350X</td><td>160000</td><td>2018</td><td>Individual</td><td>1st owner</td><td>3246</td><td>NULL</td></tr>",
                            "<tr><td>Honda CB Unicorn 150</td><td>50000</td><td>2016</td><td>Individual</td><td>1st owner</td><td>27000</td><td>74295</td></tr>",
                            "<tr><td>Suzuki Gixxer [2014-2018]</td><td>62000</td><td>2017</td><td>Individual</td><td>1st owner</td><td>15000</td><td>78316</td></tr>",
                            "<tr><td>Bajaj Platina 100</td><td>45000</td><td>2019</td><td>Individual</td><td>1st owner</td><td>15000</td><td>NULL</td></tr>",
                            "<tr><td>Royal Enfield Thunderbird 350</td><td>120000</td><td>2017</td><td>Individual</td><td>1st owner</td><td>4050</td><td>NULL</td></tr>",
                            "<tr><td>Royal Enfield Thunderbird 500</td><td>125000</td><td>2014</td><td>Individual</td><td>1st owner</td><td>25000</td><td>190874</td></tr>",
                            "<tr><td>Bajaj Pulsar AS150</td><td>50000</td><td>2015</td><td>Individual</td><td>1st owner</td><td>5000</td><td>80821</td></tr>",
                            "<tr><td>Bajaj Pulsar 150</td><td>30000</td><td>2012</td><td>Individual</td><td>2nd owner</td><td>5000</td><td>NULL</td></tr>",
                            "<tr><td>Hero Pleasure</td><td>40000</td><td>2014</td><td>Individual</td><td>1st owner</td><td>14000</td><td>51600</td></tr>",
                            "<tr><td>Honda Aviator</td><td>41000</td><td>2013</td><td>Individual</td><td>1st owner</td><td>36500</td><td>63537</td></tr>",
                            "<tr><td>Royal Enfield Thunderbird 350</td><td>120000</td><td>2017</td><td>Individual</td><td>2nd owner</td><td>9000</td><td>NULL</td></tr>",
                            "<tr><td>Hero Ignitor</td><td>35000</td><td>2014</td><td>Individual</td><td>1st owner</td><td>33200</td><td>67722</td></tr>",
                            "<tr><td>Hero Honda CD100SS</td><td>10000</td><td>1997</td><td>Individual</td><td>1st owner</td><td>646000</td><td>NULL</td></tr>",
                            "<tr><td>TVS Apache RTR 160</td><td>35000</td><td>2011</td><td>Individual</td><td>1st owner</td><td>25000</td><td>NULL</td></tr>",
                            "<tr><td>Hero Achiever 150</td><td>38000</td><td>2017</td><td>Individual</td><td>1st owner</td><td>26000</td><td>69750</td></tr>",
                            "<tr><td>Vespa LX 125</td><td>50000</td><td>2015</td><td>Individual</td><td>1st owner</td><td>3909</td><td>77900</td></tr>",
                            "<tr><td>Honda Activa 3G</td><td>40000</td><td>2015</td><td>Individual</td><td>1st owner</td><td>7672</td><td>54605</td></tr>",
                            "<tr><td>Hero Splendor Plus i3s</td><td>70000</td><td>2019</td><td>Individual</td><td>1st owner</td><td>3000</td><td>55600</td></tr>",
                            "<tr><td>Royal Enfield Classic 350</td><td>140000</td><td>2016</td><td>Individual</td><td>1st owner</td><td>3654</td><td>NULL</td></tr>",
                            "<tr><td>Hero Maestro</td><td>26500</td><td>2016</td><td>Individual</td><td>2nd owner</td><td>40000</td><td>53830</td></tr>",
                            "<tr><td>Hero Glamour 125</td><td>38000</td><td>2016</td><td>Dealer</td><td>1st owner</td><td>5500</td><td>61600</td></tr>",
                            "<tr><td>Yamaha FZ16</td><td>60000</td><td>2016</td><td>Individual</td><td>1st owner</td><td>29950</td><td>78712</td></tr>",
                            "<tr><td>Royal Enfield Himalayan</td><td>145000</td><td>2017</td><td>Individual</td><td>1st owner</td><td>14000</td><td>NULL</td></tr>",
                            "<tr><td>Yamaha FZ S V 2.0</td><td>78000</td><td>2017</td><td>Individual</td><td>1st owner</td><td>26100</td><td>84480</td></tr>",
                            "<tr><td>Hero Maestro Edge</td><td>58000</td><td>2018</td><td>Individual</td><td>1st owner</td><td>6000</td><td>54580</td></tr>",
                            "<tr><td>Yamaha FZ25</td><td>130000</td><td>2017</td><td>Individual</td><td>1st owner</td><td>4000</td><td>132680</td></tr>",
                            "<tr><td>TVS Victor</td><td>20000</td><td>2001</td><td>Individual</td><td>1st owner</td><td>50000</td><td>54852</td></tr>",
                            "<tr><td>Bajaj Dominar 400 [2018]</td><td>150000</td><td>2018</td><td>Individual</td><td>1st owner</td><td>5475</td><td>163331</td></tr>",
                            "<tr><td>Bajaj Pulsar 180</td><td>32000</td><td>2012</td><td>Individual</td><td>1st owner</td><td>40000</td><td>85011</td></tr>",
                            "<tr><td>Bajaj Pulsar 180</td><td>50000</td><td>2017</td><td>Individual</td><td>1st owner</td><td>20500</td><td>85011</td></tr>",
                            "<tr><td>KTM 200 Duke</td><td>120000</td><td>2017</td><td>Individual</td><td>1st owner</td><td>4100</td><td>NULL</td></tr>",
                            "<tr><td>Bajaj Avenger Street 150 [2018]</td><td>60000</td><td>2016</td><td>Individual</td><td>2nd owner</td><td>23097</td><td>80435</td></tr>",
                            "<tr><td>Bajaj Discover 100 M</td><td>20000</td><td>2011</td><td>Individual</td><td>1st owner</td><td>37734</td><td>44756</td></tr>",
                            "<tr><td>Royal Enfield Bullet 350 [2007-2011]</td><td>65000</td><td>2011</td><td>Individual</td><td>2nd owner</td><td>65000</td><td>NULL</td></tr>",
                            "<tr><td>Yamaha YZF R15 S</td><td>70000</td><td>2016</td><td>Individual</td><td>1st owner</td><td>8000</td><td>117926</td></tr>",
                            "<tr><td>Yamaha FZ V 2.0</td><td>35000</td><td>2014</td><td>Individual</td><td>1st owner</td><td>13500</td><td>81508</td></tr>",
                            "<tr><td>Bajaj Avenger Street 220</td><td>95000</td><td>2018</td><td>Individual</td><td>1st owner</td><td>23000</td><td>95955</td></tr>",
                            "<tr><td>Bajaj Pulsar 150</td><td>8000</td><td>2005</td><td>Individual</td><td>1st owner</td><td>58000</td><td>NULL</td></tr>",
                            "<tr><td>Royal Enfield Thunderbird 350</td><td>85000</td><td>2010</td><td>Individual</td><td>1st owner</td><td>15000</td><td>NULL</td></tr>",
                            "<tr><td>Hero Achiever 150</td><td>65000</td><td>2016</td><td>Individual</td><td>1st owner</td><td>29000</td><td>69750</td></tr>",
                            "<tr><td>Hero Passion Pro 110</td><td>39000</td><td>2013</td><td>Individual</td><td>1st owner</td><td>20000</td><td>NULL</td></tr>",
                            "<tr><td>Hero Duet</td><td>45000</td><td>2017</td><td>Individual</td><td>1st owner</td><td>35000</td><td>50280</td></tr>",
                            "<tr><td>Bajaj Avenger Street 150 [2018]</td><td>60000</td><td>2016</td><td>Individual</td><td>1st owner</td><td>45137</td><td>80435</td></tr>",
                            "<tr><td>Royal Enfield Classic Stealth Black</td><td>160000</td><td>2018</td><td>Individual</td><td>1st owner</td><td>7500</td><td>204977</td></tr>",
                            "<tr><td>Bajaj Pulsar 150</td><td>35000</td><td>2011</td><td>Individual</td><td>1st owner</td><td>35600</td><td>NULL</td></tr>",
                            "<tr><td>Bajaj Pulsar 135 LS</td><td>40000</td><td>2018</td><td>Individual</td><td>1st owner</td><td>15000</td><td>64589</td></tr>",
                            "<tr><td>Yamaha Fazer [2009-2016]</td><td>40000</td><td>2012</td><td>Individual</td><td>1st owner</td><td>7353</td><td>84751</td></tr>",
                            "<tr><td>Honda CB Hornet 160R</td><td>56000</td><td>2017</td><td>Individual</td><td>2nd owner</td><td>13200</td><td>87543</td></tr>",
                            "<tr><td>Honda CB Unicorn Dazzler</td><td>22000</td><td>2011</td><td>Individual</td><td>1st owner</td><td>38350</td><td>71757</td></tr>",
                            "<tr><td>Yamaha YBR 125</td><td>36000</td><td>2014</td><td>Individual</td><td>1st owner</td><td>20400</td><td>54593</td></tr>",
                            "<tr><td>Suzuki Intruder 150 Fi</td><td>100000</td><td>2018</td><td>Individual</td><td>1st owner</td><td>14500</td><td>110240</td></tr>",
                            "<tr><td>Bajaj V15</td><td>42000</td><td>2016</td><td>Individual</td><td>1st owner</td><td>19500</td><td>67187</td></tr>",
                            "<tr><td>Royal Enfield Electra 5 S</td><td>85000</td><td>2008</td><td>Individual</td><td>1st owner</td><td>20000</td><td>NULL</td></tr>",
                            "<tr><td>Hero Passion PRO TR</td><td>45000</td><td>2014</td><td>Individual</td><td>1st owner</td><td>36000</td><td>54586</td></tr>",
                            "<tr><td>Yamaha FZ25</td><td>145000</td><td>2019</td><td>Individual</td><td>1st owner</td><td>4500</td><td>133680</td></tr>",
                            "<tr><td>Hero Karizma [2003-2014]</td><td>50000</td><td>2013</td><td>Individual</td><td>1st owner</td><td>38000</td><td>85766</td></tr>",
                            "<tr><td>Royal Enfield Interceptor 650</td><td>270000</td><td>2019</td><td>Individual</td><td>1st owner</td><td>9000</td><td>NULL</td></tr>",
                            "<tr><td>Royal Enfield Thunderbird 350</td><td>60000</td><td>2006</td><td>Individual</td><td>1st owner</td><td>40000</td><td>NULL</td></tr>",
                            "<tr><td>Royal Enfield Classic Squadron Blue</td><td>140000</td><td>2017</td><td>Individual</td><td>1st owner</td><td>25000</td><td>181445</td></tr>",
                            "<tr><td>Hero Honda Splendor Plus</td><td>28000</td><td>2008</td><td>Individual</td><td>1st owner</td><td>70889</td><td>NULL</td></tr>",
                            "<tr><td>KTM 390 Duke ABS [2013-2016]</td><td>180000</td><td>2015</td><td>Individual</td><td>2nd owner</td><td>13125</td><td>202127</td></tr>",
                            "<tr><td>Bajaj Pulsar 180</td><td>42000</td><td>2014</td><td>Individual</td><td>2nd owner</td><td>19600</td><td>85011</td></tr>",
                            "<tr><td>Suzuki Access 125 [2007-2016]</td><td>16000</td><td>2011</td><td>Individual</td><td>1st owner</td><td>40000</td><td>58314</td></tr>",
                            "<tr><td>Hero Splendor iSmart</td><td>40000</td><td>2015</td><td>Individual</td><td>1st owner</td><td>19055</td><td>52271</td></tr>",
                            "<tr><td>Bajaj Pulsar 180</td><td>38000</td><td>2012</td><td>Individual</td><td>2nd owner</td><td>57000</td><td>85011</td></tr>",
                            "<tr><td>Yamaha YZF R15 S</td><td>85000</td><td>2017</td><td>Individual</td><td>1st owner</td><td>13000</td><td>117926</td></tr>",
                            "<tr><td>Honda Aviator</td><td>28000</td><td>2013</td><td>Individual</td><td>1st owner</td><td>28087</td><td>63537</td></tr>",
                            "<tr><td>KTM 200 Duke</td><td>135000</td><td>2018</td><td>Individual</td><td>1st owner</td><td>24000</td><td>NULL</td></tr>",
                            "<tr><td>Royal Enfield Thunderbird 350</td><td>120000</td><td>2016</td><td>Individual</td><td>1st owner</td><td>24600</td><td>NULL</td></tr>",
                            "<tr><td>Hero Karizma ZMR</td><td>37000</td><td>2010</td><td>Individual</td><td>1st owner</td><td>27500</td><td>108000</td></tr>",
                            "<tr><td>Royal Enfield Classic Chrome</td><td>135000</td><td>2015</td><td>Individual</td><td>1st owner</td><td>45000</td><td>189313</td></tr>",
                            "<tr><td>Hero Honda Splendor</td><td>10000</td><td>2000</td><td>Individual</td><td>1st owner</td><td>61000</td><td>NULL</td></tr>",
                            "<tr><td>Mahindra Rodeo</td><td>20000</td><td>2013</td><td>Individual</td><td>1st owner</td><td>7000</td><td>47343</td></tr>",
                            "<tr><td>TVS Apache RTR 160</td><td>83299</td><td>2019</td><td>Individual</td><td>1st owner</td><td>6400</td><td>NULL</td></tr>",
                            "<tr><td>Yamaha Fazer FI V 2.0 [2016-2018]</td><td>65000</td><td>2018</td><td>Individual</td><td>1st owner</td><td>3500</td><td>89643</td></tr>",
                            "<tr><td>Honda Activa 5G</td><td>50000</td><td>2018</td><td>Individual</td><td>1st owner</td><td>14000</td><td>59422</td></tr>",
                            "<tr><td>Bajaj Pulsar 220 Fi</td><td>65000</td><td>2013</td><td>Individual</td><td>1st owner</td><td>6409</td><td>NULL</td></tr>",
                            "<tr><td>Hero Honda Karizma ZMR [2010]</td><td>45000</td><td>2012</td><td>Individual</td><td>3rd owner</td><td>44000</td><td>NULL</td></tr>",
                            "<tr><td>Honda CB Hornet 160R</td><td>60000</td><td>2017</td><td>Individual</td><td>1st owner</td><td>16500</td><td>92210</td></tr>",
                            "<tr><td>Royal Enfield Bullet 350</td><td>110000</td><td>2015</td><td>Individual</td><td>1st owner</td><td>36000</td><td>NULL</td></tr>",
                            "<tr><td>Hero Honda CD Deluxe</td><td>14700</td><td>2005</td><td>Individual</td><td>2nd owner</td><td>30000</td><td>NULL</td></tr>",
                            "<tr><td>Yamaha Saluto</td><td>38000</td><td>2015</td><td>Individual</td><td>1st owner</td><td>15000</td><td>63180</td></tr>",
                            "<tr><td>Suzuki Access 125</td><td>70000</td><td>2018</td><td>Individual</td><td>1st owner</td><td>14500</td><td>NULL</td></tr>",
                            "<tr><td>TVS Sport</td><td>35000</td><td>2018</td><td>Individual</td><td>1st owner</td><td>26600</td><td>NULL</td></tr>",
                            "<tr><td>Hero Honda Glamour</td><td>19000</td><td>2012</td><td>Individual</td><td>1st owner</td><td>32000</td><td>NULL</td></tr>",
                            "<tr><td>KTM 125 Duke</td><td>130000</td><td>2019</td><td>Individual</td><td>1st owner</td><td>3500</td><td>NULL</td></tr>",
                            "<tr><td>Bajaj Pulsar NS200</td><td>50000</td><td>2013</td><td>Dealer</td><td>1st owner</td><td>58203</td><td>NULL</td></tr>",
                            "<tr><td>Bajaj Pulsar 150 [2001-2011]</td><td>18000</td><td>2005</td><td>Individual</td><td>1st owner</td><td>21885</td><td>NULL</td></tr>",
                            "<tr><td>Hero Xtreme 200R</td><td>87000</td><td>2019</td><td>Individual</td><td>1st owner</td><td>3200</td><td>93400</td></tr>",
                            "<tr><td>Hero Honda Splendor Plus</td><td>40000</td><td>2007</td><td>Individual</td><td>1st owner</td><td>40000</td><td>NULL</td></tr>",
                            "<tr><td>Bajaj Discover 150S</td><td>35000</td><td>2015</td><td>Individual</td><td>1st owner</td><td>28000</td><td>63331</td></tr>",
                            "<tr><td>Honda CBR-250R</td><td>100000</td><td>2011</td><td>Individual</td><td>2nd owner</td><td>3500</td><td>171646</td></tr>",
                            "<tr><td>Hero Pleasure</td><td>30000</td><td>2013</td><td>Individual</td><td>1st owner</td><td>24000</td><td>51600</td></tr>",
                            "<tr><td>Bajaj Avenger Cruise 220</td><td>95000</td><td>2018</td><td>Individual</td><td>1st owner</td><td>1800</td><td>NULL</td></tr>",
                            "<tr><td>Bajaj Discover 125 ST</td><td>25000</td><td>2012</td><td>Individual</td><td>1st owner</td><td>76000</td><td>58438</td></tr>",
                            "<tr><td>Bajaj Pulsar 150 [2001-2011]</td><td>26500</td><td>2010</td><td>Individual</td><td>1st owner</td><td>52500</td><td>NULL</td></tr>",
                            "<tr><td>Bajaj Boxer</td><td>12000</td><td>2008</td><td>Individual</td><td>1st owner</td><td>17500</td><td>NULL</td></tr>",
                            "<tr><td>Bajaj Pulsar 150</td><td>20000</td><td>2006</td><td>Individual</td><td>1st owner</td><td>41000</td><td>NULL</td></tr>",
                            "<tr><td>Royal Enfield Classic Signals</td><td>195000</td><td>2018</td><td>Individual</td><td>1st owner</td><td>2845</td><td>164095</td></tr>",
                            "<tr><td>Bajaj Pulsar 180</td><td>14900</td><td>2007</td><td>Individual</td><td>1st owner</td><td>50000</td><td>85011</td></tr>",
                            "<tr><td>Honda Dream Yuga</td><td>48000</td><td>2018</td><td>Individual</td><td>1st owner</td><td>7110</td><td>56147</td></tr>",
                            "<tr><td>Yamaha FZ S [2012-2016]</td><td>40000</td><td>2014</td><td>Individual</td><td>1st owner</td><td>27785</td><td>79432</td></tr>",
                            "<tr><td>Honda CB Unicorn</td><td>45000</td><td>2010</td><td>Individual</td><td>1st owner</td><td>75000</td><td>71681</td></tr>",
                            "<tr><td>Honda Shine</td><td>25000</td><td>2010</td><td>Individual</td><td>1st owner</td><td>20000</td><td>NULL</td></tr>",
                            "<tr><td>Honda Activa 3G</td><td>25000</td><td>2011</td><td>Individual</td><td>1st owner</td><td>20000</td><td>54605</td></tr>",
                            "<tr><td>Honda Activa [2000-2015]</td><td>10000</td><td>2009</td><td>Individual</td><td>1st owner</td><td>60000</td><td>50267</td></tr>",
                            "<tr><td>Mahindra Flyte</td><td>22000</td><td>2009</td><td>Individual</td><td>3rd owner</td><td>20000</td><td>44493</td></tr>",
                            "<tr><td>Honda Activa 3G</td><td>45000</td><td>2015</td><td>Individual</td><td>1st owner</td><td>18000</td><td>54605</td></tr>",
                            "<tr><td>KTM 250 Duke</td><td>135000</td><td>2017</td><td>Individual</td><td>1st owner</td><td>16500</td><td>NULL</td></tr>",
                            "<tr><td>Yamaha Ray Z</td><td>75000</td><td>2017</td><td>Individual</td><td>1st owner</td><td>15000</td><td>52949</td></tr>",
                            "<tr><td>Bajaj Pulsar 135 LS</td><td>24000</td><td>2010</td><td>Individual</td><td>1st owner</td><td>45000</td><td>64589</td></tr>",
                            "<tr><td>Yamaha FZ16</td><td>45000</td><td>2016</td><td>Individual</td><td>1st owner</td><td>37000</td><td>78712</td></tr>",
                            "<tr><td>Hero Passion PRO i3s</td><td>55000</td><td>2017</td><td>Individual</td><td>1st owner</td><td>14600</td><td>54475</td></tr>",
                            "<tr><td>Bajaj Discover 125</td><td>10000</td><td>2006</td><td>Individual</td><td>1st owner</td><td>51000</td><td>57549</td></tr>",
                            "<tr><td>Royal Enfield Classic 350</td><td>135000</td><td>2017</td><td>Individual</td><td>1st owner</td><td>15000</td><td>NULL</td></tr>",
                            "<tr><td>Honda CB Unicorn 150</td><td>55000</td><td>2017</td><td>Individual</td><td>1st owner</td><td>12000</td><td>74295</td></tr>",
                            "<tr><td>Bajaj Avenger [2015]</td><td>35000</td><td>2012</td><td>Individual</td><td>1st owner</td><td>15000</td><td>75502</td></tr>",
                            "<tr><td>Bajaj Super</td><td>20000</td><td>1988</td><td>Individual</td><td>1st owner</td><td>21000</td><td>NULL</td></tr>",
                            "<tr><td>Bajaj Pulsar 150</td><td>26000</td><td>2012</td><td>Individual</td><td>2nd owner</td><td>65000</td><td>NULL</td></tr>",
                            "<tr><td>Honda Activa [2000-2015]</td><td>23000</td><td>2009</td><td>Individual</td><td>1st owner</td><td>95000</td><td>50267</td></tr>",
                            "<tr><td>Royal Enfield Classic Desert Storm</td><td>150000</td><td>2015</td><td>Individual</td><td>1st owner</td><td>23000</td><td>181445</td></tr>",
                            "<tr><td>Hero Honda CD Deluxe</td><td>24700</td><td>2012</td><td>Individual</td><td>2nd owner</td><td>40000</td><td>NULL</td></tr>",
                            "<tr><td>Hero Duet</td><td>35000</td><td>2016</td><td>Individual</td><td>2nd owner</td><td>49637</td><td>54080</td></tr>",
                            "<tr><td>Hero Honda Passion PRO [2012]</td><td>12000</td><td>2012</td><td>Individual</td><td>1st owner</td><td>90000</td><td>NULL</td></tr>",
                            "<tr><td>Royal Enfield Classic 350</td><td>150000</td><td>2017</td><td>Individual</td><td>1st owner</td><td>7000</td><td>NULL</td></tr>",
                            "<tr><td>Honda Activa 3G</td><td>50000</td><td>2016</td><td>Individual</td><td>1st owner</td><td>5326</td><td>54605</td></tr>",
                            "<tr><td>Honda Activa [2000-2015]</td><td>25000</td><td>2009</td><td>Individual</td><td>1st owner</td><td>585659</td><td>50267</td></tr>",
                            "<tr><td>Hero Honda CD100</td><td>15000</td><td>1999</td><td>Dealer</td><td>2nd owner</td><td>10000</td><td>NULL</td></tr>",
                            "<tr><td>Hero Super Splendor</td><td>35000</td><td>2014</td><td>Individual</td><td>2nd owner</td><td>37541</td><td>NULL</td></tr>",
                            "<tr><td>Honda CB Trigger</td><td>45000</td><td>2015</td><td>Individual</td><td>1st owner</td><td>36000</td><td>83437</td></tr>",
                            "<tr><td>Honda Dream Yuga</td><td>25000</td><td>2013</td><td>Individual</td><td>1st owner</td><td>29000</td><td>56147</td></tr>",
                            "<tr><td>Hero Honda Passion Plus</td><td>40000</td><td>2018</td><td>Individual</td><td>1st owner</td><td>29000</td><td>NULL</td></tr>",
                            "<tr><td>TVS Spectra</td><td>17000</td><td>2008</td><td>Individual</td><td>1st owner</td><td>50000</td><td>NULL</td></tr>",
                            "<tr><td>Hero Ignitor</td><td>30000</td><td>2016</td><td>Individual</td><td>1st owner</td><td>18000</td><td>67722</td></tr>",
                            "<tr><td>Hero Honda CD100</td><td>15000</td><td>2000</td><td>Individual</td><td>1st owner</td><td>50000</td><td>NULL</td></tr>",
                            "<tr><td>Bajaj Pulsar 220F</td><td>60000</td><td>2017</td><td>Individual</td><td>2nd owner</td><td>40000</td><td>NULL</td></tr>",
                            "<tr><td>Hero Splendor Plus</td><td>30000</td><td>2013</td><td>Individual</td><td>1st owner</td><td>20000</td><td>NULL</td></tr>",
                            "<tr><td>Yamaha YZF R15 [2011-2018]</td><td>60000</td><td>2012</td><td>Individual</td><td>1st owner</td><td>22000</td><td>118997</td></tr>",
                            "<tr><td>Honda Activa 3G</td><td>32000</td><td>2015</td><td>Individual</td><td>1st owner</td><td>4500</td><td>54605</td></tr>",
                            "<tr><td>Bajaj Discover 150</td><td>30000</td><td>2012</td><td>Individual</td><td>1st owner</td><td>50000</td><td>54299</td></tr>",
                            "<tr><td>Bajaj Pulsar 150 [2001-2011]</td><td>55000</td><td>2010</td><td>Individual</td><td>1st owner</td><td>42000</td><td>NULL</td></tr>",
                            "<tr><td>Bajaj Avenger Street 150 [2018]</td><td>75000</td><td>2016</td><td>Individual</td><td>1st owner</td><td>35000</td><td>80435</td></tr>",
                            "<tr><td>TVS Star City Plus</td><td>52000</td><td>2017</td><td>Individual</td><td>1st owner</td><td>25000</td><td>NULL</td></tr>",
                            "<tr><td>Bajaj Discover 125</td><td>38000</td><td>2018</td><td>Individual</td><td>1st owner</td><td>34000</td><td>60122</td></tr>",
                            "<tr><td>Bajaj Discover 135</td><td>12000</td><td>2007</td><td>Individual</td><td>1st owner</td><td>60000</td><td>NULL</td></tr>",
                            "<tr><td>Honda CB Shine SP</td><td>47000</td><td>2017</td><td>Individual</td><td>1st owner</td><td>73000</td><td>64750</td></tr>",
                            "<tr><td>Honda Activa [2000-2015]</td><td>22000</td><td>2014</td><td>Individual</td><td>1st owner</td><td>38000</td><td>50267</td></tr>",
                            "<tr><td>Bajaj Avenger [2015]</td><td>65000</td><td>2015</td><td>Individual</td><td>1st owner</td><td>26000</td><td>75502</td></tr>",
                            "<tr><td>Bajaj Platina 100</td><td>23000</td><td>2013</td><td>Individual</td><td>2nd owner</td><td>24000</td><td>NULL</td></tr>",
                            "<tr><td>Bajaj Discover 100</td><td>30000</td><td>2011</td><td>Individual</td><td>1st owner</td><td>45000</td><td>42859</td></tr>",
                            "<tr><td>Bajaj Pulsar 150</td><td>35000</td><td>2011</td><td>Individual</td><td>1st owner</td><td>36000</td><td>NULL</td></tr>",
                            "<tr><td>Bajaj Avenger Street 150 [2018]</td><td>80000</td><td>2017</td><td>Individual</td><td>1st owner</td><td>30000</td><td>80435</td></tr>",
                            "<tr><td>Bajaj Platina 100</td><td>20000</td><td>2012</td><td>Individual</td><td>1st owner</td><td>16295</td><td>NULL</td></tr>",
                            "<tr><td>Bajaj Pulsar 150</td><td>16000</td><td>2011</td><td>Individual</td><td>2nd owner</td><td>59000</td><td>NULL</td></tr>",
                            "<tr><td>Bajaj Pulsar 150</td><td>20000</td><td>2006</td><td>Individual</td><td>1st owner</td><td>9500</td><td>NULL</td></tr>",
                            "<tr><td>Bajaj Pulsar NS200</td><td>50000</td><td>2012</td><td>Individual</td><td>1st owner</td><td>46000</td><td>NULL</td></tr>",
                            "<tr><td>Honda CB Trigger</td><td>40000</td><td>2015</td><td>Individual</td><td>1st owner</td><td>75000</td><td>76572</td></tr>",
                            "<tr><td>Bajaj Pulsar 135 LS</td><td>20000</td><td>2010</td><td>Individual</td><td>1st owner</td><td>80000</td><td>64589</td></tr>",
                            "<tr><td>Bajaj Pulsar 180</td><td>65000</td><td>2018</td><td>Individual</td><td>1st owner</td><td>26000</td><td>85011</td></tr>",
                            "<tr><td>Yamaha YZF R15 S</td><td>85000</td><td>2016</td><td>Individual</td><td>1st owner</td><td>26000</td><td>117926</td></tr>",
                            "<tr><td>Hero Splendor Plus</td><td>12000</td><td>2007</td><td>Individual</td><td>1st owner</td><td>100000</td><td>NULL</td></tr>",
                            "<tr><td>Hero Xpulse 200T</td><td>105000</td><td>2019</td><td>Individual</td><td>1st owner</td><td>2900</td><td>96500</td></tr>",
                            "<tr><td>Yamaha FZ S V 2.0</td><td>40000</td><td>2015</td><td>Individual</td><td>1st owner</td><td>25000</td><td>84042</td></tr>",
                            "<tr><td>Bajaj Discover 150</td><td>30000</td><td>2011</td><td>Individual</td><td>2nd owner</td><td>39500</td><td>54299</td></tr>",
                            "<tr><td>Honda Activa [2000-2015]</td><td>25000</td><td>2012</td><td>Individual</td><td>1st owner</td><td>40000</td><td>50267</td></tr>",
                            "<tr><td>Hero Splendor PRO</td><td>40000</td><td>2016</td><td>Individual</td><td>1st owner</td><td>16000</td><td>51994</td></tr>",
                            "<tr><td>Honda Dream Neo</td><td>45000</td><td>2017</td><td>Individual</td><td>2nd owner</td><td>21000</td><td>49211</td></tr>",
                            "<tr><td>Bajaj CT 100</td><td>40000</td><td>2018</td><td>Individual</td><td>1st owner</td><td>14000</td><td>NULL</td></tr>",
                            "<tr><td>Suzuki Access 125</td><td>70000</td><td>2018</td><td>Individual</td><td>1st owner</td><td>7000</td><td>76632</td></tr>",
                            "<tr><td>Honda Activa [2000-2015]</td><td>30000</td><td>2012</td><td>Individual</td><td>1st owner</td><td>22000</td><td>50267</td></tr>",
                            "<tr><td>Hero Honda Pleasure</td><td>25000</td><td>2009</td><td>Individual</td><td>1st owner</td><td>50000</td><td>NULL</td></tr>",
                            "<tr><td>Bajaj Platina 100</td><td>20000</td><td>2012</td><td>Individual</td><td>1st owner</td><td>16295</td><td>NULL</td></tr>",
                            "<tr><td>Honda CB Hornet 160R</td><td>70000</td><td>2017</td><td>Individual</td><td>1st owner</td><td>35000</td><td>87719</td></tr>",
                            "<tr><td>Bajaj V15</td><td>50000</td><td>2017</td><td>Individual</td><td>1st owner</td><td>9000</td><td>65626</td></tr>",
                            "<tr><td>Hero Honda CD Deluxe</td><td>25000</td><td>2010</td><td>Individual</td><td>1st owner</td><td>35000</td><td>NULL</td></tr>",
                            "<tr><td>Bajaj Pulsar 150</td><td>22000</td><td>2011</td><td>Individual</td><td>1st owner</td><td>60000</td><td>NULL</td></tr>",
                            "<tr><td>Honda Activa [2000-2015]</td><td>35000</td><td>2013</td><td>Individual</td><td>1st owner</td><td>29500</td><td>50267</td></tr>",
                            "<tr><td>TVS Apache RTR 160</td><td>40000</td><td>2014</td><td>Individual</td><td>2nd owner</td><td>50000</td><td>NULL</td></tr>",
                            "<tr><td>Bajaj Pulsar 220F</td><td>75000</td><td>2016</td><td>Individual</td><td>1st owner</td><td>10500</td><td>NULL</td></tr>",
                            "<tr><td>Hero Honda Passion PRO [2012]</td><td>28000</td><td>2011</td><td>Individual</td><td>2nd owner</td><td>60000</td><td>NULL</td></tr>",
                            "<tr><td>Hero Maestro Edge</td><td>55000</td><td>2018</td><td>Individual</td><td>1st owner</td><td>39000</td><td>52790</td></tr>",
                            "<tr><td>Honda Dio</td><td>30000</td><td>2014</td><td>Individual</td><td>1st owner</td><td>24000</td><td>NULL</td></tr>",
                            "<tr><td>Hero Glamour 125</td><td>40000</td><td>2016</td><td>Individual</td><td>1st owner</td><td>15000</td><td>61600</td></tr>",
                            "<tr><td>Bajaj Avenger Street 160</td><td>85000</td><td>2019</td><td>Individual</td><td>1st owner</td><td>3000</td><td>NULL</td></tr>",
                            "<tr><td>Hero Honda CD Deluxe</td><td>12000</td><td>2007</td><td>Individual</td><td>2nd owner</td><td>100000</td><td>NULL</td></tr>",
                            "<tr><td>Yamaha YBR 125</td><td>35000</td><td>2013</td><td>Individual</td><td>1st owner</td><td>20350</td><td>54593</td></tr>",
                            "<tr><td>Bajaj Pulsar 150</td><td>25000</td><td>2015</td><td>Individual</td><td>2nd owner</td><td>50000</td><td>NULL</td></tr>",
                            "<tr><td>Bajaj Pulsar 150</td><td>40000</td><td>2012</td><td>Individual</td><td>2nd owner</td><td>37000</td><td>NULL</td></tr>",
                            "<tr><td>Hero Honda CD Deluxe</td><td>15000</td><td>2011</td><td>Individual</td><td>1st owner</td><td>70000</td><td>NULL</td></tr>",
                            "<tr><td>Hero Passion PRO i3s</td><td>55000</td><td>2018</td><td>Individual</td><td>1st owner</td><td>15000</td><td>54475</td></tr>",
                            "<tr><td>Bajaj Pulsar 180</td><td>60000</td><td>2015</td><td>Individual</td><td>1st owner</td><td>28563</td><td>85011</td></tr>",
                            "<tr><td>Yamaha Fazer 25</td><td>115000</td><td>2018</td><td>Individual</td><td>1st owner</td><td>11000</td><td>142680</td></tr>",
                            "<tr><td>TVS Excel</td><td>5000</td><td>1998</td><td>Individual</td><td>1st owner</td><td>60000</td><td>NULL</td></tr>",
                            "<tr><td>Honda Shine</td><td>40000</td><td>2015</td><td>Individual</td><td>1st owner</td><td>21121</td><td>NULL</td></tr>",
                            "<tr><td>Honda Dream Neo</td><td>50000</td><td>2014</td><td>Individual</td><td>1st owner</td><td>25000</td><td>49211</td></tr>",
                            "<tr><td>Honda Dio</td><td>28000</td><td>2014</td><td>Individual</td><td>1st owner</td><td>13000</td><td>NULL</td></tr>",
                            "<tr><td>Hero Splendor Plus</td><td>35000</td><td>2013</td><td>Individual</td><td>1st owner</td><td>55000</td><td>NULL</td></tr>",
                            "<tr><td>Bajaj Xcd</td><td>25000</td><td>2007</td><td>Individual</td><td>2nd owner</td><td>100000</td><td>NULL</td></tr>",
                            "<tr><td>TVS Streak</td><td>20000</td><td>2009</td><td>Individual</td><td>2nd owner</td><td>36000</td><td>NULL</td></tr>",
                            "<tr><td>Bajaj Pulsar 180</td><td>40000</td><td>2013</td><td>Individual</td><td>1st owner</td><td>34000</td><td>85011</td></tr>",
                            "<tr><td>Hero Xtreme 200R</td><td>86000</td><td>2018</td><td>Individual</td><td>1st owner</td><td>12000</td><td>93400</td></tr>",
                            "<tr><td>Yamaha YZF R15 [2011-2018]</td><td>65000</td><td>2011</td><td>Individual</td><td>1st owner</td><td>29000</td><td>NULL</td></tr>",
                            "<tr><td>Bajaj Avenger Street 150 [2018]</td><td>60000</td><td>2017</td><td>Individual</td><td>1st owner</td><td>30000</td><td>80435</td></tr>",
                            "<tr><td>Yamaha RX135</td><td>65000</td><td>1998</td><td>Individual</td><td>3rd owner</td><td>16500</td><td>NULL</td></tr>",
                            "<tr><td>Honda CB Shine SP</td><td>41000</td><td>2017</td><td>Individual</td><td>1st owner</td><td>33000</td><td>66697</td></tr>",
                            "<tr><td>Honda CBR150 R</td><td>110000</td><td>2017</td><td>Individual</td><td>1st owner</td><td>11800</td><td>129662</td></tr>",
                            "<tr><td>Honda Dream Yuga</td><td>32000</td><td>2017</td><td>Individual</td><td>1st owner</td><td>39000</td><td>56147</td></tr>",
                            "<tr><td>Honda Shine</td><td>37000</td><td>2014</td><td>Individual</td><td>1st owner</td><td>16145</td><td>NULL</td></tr>",
                            "<tr><td>Hero Splendor Plus i3s</td><td>65000</td><td>2019</td><td>Individual</td><td>1st owner</td><td>1000</td><td>55600</td></tr>",
                            "<tr><td>Hero Honda Passion Plus</td><td>18000</td><td>2007</td><td>Individual</td><td>2nd owner</td><td>50000</td><td>NULL</td></tr>",
                            "<tr><td>Hero Honda Passion PRO [2012]</td><td>28700</td><td>2012</td><td>Individual</td><td>2nd owner</td><td>49876</td><td>NULL</td></tr>",
                            "<tr><td>Honda Activa 3G</td><td>35000</td><td>2016</td><td>Individual</td><td>1st owner</td><td>51000</td><td>54605</td></tr>",
                            "<tr><td>Bajaj Pulsar 180F</td><td>100000</td><td>2019</td><td>Individual</td><td>1st owner</td><td>1300</td><td>NULL</td></tr>",
                            "<tr><td>Hero Honda Glamour</td><td>21000</td><td>2010</td><td>Individual</td><td>1st owner</td><td>11000</td><td>NULL</td></tr>",
                            "<tr><td>Bajaj Pulsar 150 [2001-2011]</td><td>30000</td><td>2010</td><td>Individual</td><td>2nd owner</td><td>55000</td><td>NULL</td></tr>",
                            "<tr><td>TVS Apache RTR 200 4V</td><td>90000</td><td>2019</td><td>Individual</td><td>1st owner</td><td>20000</td><td>NULL</td></tr>",
                            "<tr><td>Bajaj Super</td><td>6000</td><td>1991</td><td>Individual</td><td>1st owner</td><td>35000</td><td>NULL</td></tr>",
                            "<tr><td>Hero Honda Passion Plus</td><td>23500</td><td>2010</td><td>Individual</td><td>1st owner</td><td>60000</td><td>NULL</td></tr>",
                            "<tr><td>Bajaj Pulsar 150</td><td>55000</td><td>2015</td><td>Individual</td><td>2nd owner</td><td>40000</td><td>NULL</td></tr>",
                            "<tr><td>Yamaha SZ X</td><td>35000</td><td>2010</td><td>Individual</td><td>1st owner</td><td>46000</td><td>65800</td></tr>",
                            "<tr><td>Hero Honda CD100</td><td>15000</td><td>1998</td><td>Individual</td><td>1st owner</td><td>65000</td><td>NULL</td></tr>",
                            "<tr><td>Bajaj Pulsar 180</td><td>35000</td><td>2009</td><td>Individual</td><td>1st owner</td><td>19000</td><td>85011</td></tr>",
                            "<tr><td>Bajaj Pulsar 220 DTS-i</td><td>40000</td><td>2011</td><td>Individual</td><td>1st owner</td><td>26000</td><td>NULL</td></tr>",
                            "<tr><td>Hero Honda Achiever</td><td>15000</td><td>2009</td><td>Individual</td><td>1st owner</td><td>86000</td><td>NULL</td></tr>",
                            "<tr><td>Hero Honda Karizma</td><td>40000</td><td>2011</td><td>Individual</td><td>2nd owner</td><td>340000</td><td>NULL</td></tr>",
                            "<tr><td>Honda CB Unicorn 160</td><td>75000</td><td>2016</td><td>Individual</td><td>1st owner</td><td>40000</td><td>77545</td></tr>",
                            "<tr><td>Bajaj Avenger Cruise 220</td><td>70000</td><td>2016</td><td>Individual</td><td>1st owner</td><td>10000</td><td>NULL</td></tr>",
                            "<tr><td>Bajaj Discover 135</td><td>22000</td><td>2007</td><td>Individual</td><td>1st owner</td><td>25000</td><td>NULL</td></tr>",
                            "<tr><td>Yamaha FZ S V 2.0</td><td>80000</td><td>2019</td><td>Individual</td><td>1st owner</td><td>10000</td><td>87042</td></tr>",
                            "<tr><td>Bajaj Pulsar 150</td><td>72000</td><td>2017</td><td>Individual</td><td>1st owner</td><td>24000</td><td>NULL</td></tr>",
                            "<tr><td>Hero HF Deluxe</td><td>30000</td><td>2014</td><td>Individual</td><td>2nd owner</td><td>35000</td><td>NULL</td></tr>",
                            "<tr><td>Bajaj Pulsar 135 LS</td><td>25000</td><td>2011</td><td>Individual</td><td>2nd owner</td><td>30000</td><td>64589</td></tr>",
                            "<tr><td>Aprilia SR 125</td><td>65000</td><td>2018</td><td>Individual</td><td>1st owner</td><td>6500</td><td>NULL</td></tr>",
                            "<tr><td>Bajaj Pulsar 150</td><td>68000</td><td>2019</td><td>Individual</td><td>1st owner</td><td>10000</td><td>NULL</td></tr>",
                            "<tr><td>Hero Duet</td><td>27000</td><td>2016</td><td>Individual</td><td>1st owner</td><td>28000</td><td>50280</td></tr>",
                            "<tr><td>Honda CB Twister</td><td>25000</td><td>2015</td><td>Individual</td><td>1st owner</td><td>35000</td><td>57241</td></tr>",
                            "<tr><td>Bajaj Discover 125</td><td>45000</td><td>2016</td><td>Individual</td><td>1st owner</td><td>20000</td><td>60122</td></tr>",
                            "<tr><td>Honda CBR-250R</td><td>200000</td><td>2019</td><td>Individual</td><td>1st owner</td><td>5500</td><td>202310</td></tr>",
                            "<tr><td>Bajaj Pulsar 180</td><td>20100</td><td>2008</td><td>Individual</td><td>1st owner</td><td>36000</td><td>85011</td></tr>",
                            "<tr><td>Honda Shine</td><td>30000</td><td>2014</td><td>Individual</td><td>1st owner</td><td>25000</td><td>NULL</td></tr>",
                            "<tr><td>Suzuki Swish [2012-2015]</td><td>30000</td><td>2014</td><td>Individual</td><td>1st owner</td><td>30000</td><td>51685</td></tr>",
                            "<tr><td>TVS Star City</td><td>21000</td><td>2011</td><td>Individual</td><td>1st owner</td><td>101000</td><td>47108</td></tr>",
                            "<tr><td>Hero Super Splendor</td><td>45000</td><td>2012</td><td>Individual</td><td>1st owner</td><td>21000</td><td>NULL</td></tr>",
                            "<tr><td>Yamaha Fazer [2009-2016]</td><td>45000</td><td>2014</td><td>Individual</td><td>1st owner</td><td>57700</td><td>84751</td></tr>",
                            "<tr><td>TVS Scooty Pep DLX</td><td>14500</td><td>2012</td><td>Individual</td><td>1st owner</td><td>44000</td><td>NULL</td></tr>",
                            "<tr><td>Honda Dream Yuga</td><td>47000</td><td>2019</td><td>Individual</td><td>1st owner</td><td>8800</td><td>56147</td></tr>",
                            "<tr><td>TVS Star City Plus</td><td>26000</td><td>2014</td><td>Individual</td><td>2nd owner</td><td>68000</td><td>NULL</td></tr>",
                            "<tr><td>Yamaha Fazer [2009-2016]</td><td>25000</td><td>2013</td><td>Individual</td><td>1st owner</td><td>120000</td><td>84751</td></tr>",
                            "<tr><td>Hero Honda Street Smart</td><td>10000</td><td>2000</td><td>Individual</td><td>1st owner</td><td>24000</td><td>NULL</td></tr>",
                            "<tr><td>TVS Apache RTR 160</td><td>50000</td><td>2017</td><td>Individual</td><td>1st owner</td><td>38000</td><td>NULL</td></tr>",
                            "<tr><td>Honda Dio</td><td>23000</td><td>2010</td><td>Individual</td><td>1st owner</td><td>40000</td><td>NULL</td></tr>",
                            "<tr><td>Honda Activa [2000-2015]</td><td>50000</td><td>2014</td><td>Individual</td><td>1st owner</td><td>48000</td><td>50267</td></tr>",
                            "<tr><td>Hero Maestro Edge</td><td>46000</td><td>2015</td><td>Individual</td><td>1st owner</td><td>14000</td><td>55980</td></tr>",
                            "<tr><td>Honda CB Hornet 160R</td><td>80000</td><td>2017</td><td>Individual</td><td>1st owner</td><td>18000</td><td>87719</td></tr>",
                            "<tr><td>Hero Karizma [2003-2014]</td><td>50000</td><td>2013</td><td>Individual</td><td>1st owner</td><td>38000</td><td>85766</td></tr>",
                            "<tr><td>Honda CB Trigger</td><td>40000</td><td>2014</td><td>Individual</td><td>1st owner</td><td>75000</td><td>83437</td></tr>",
                            "<tr><td>Honda CB Hornet 160R</td><td>70000</td><td>2017</td><td>Individual</td><td>1st owner</td><td>35000</td><td>87719</td></tr>",
                            "<tr><td>Hero Glamour FI</td><td>30900</td><td>2014</td><td>Individual</td><td>1st owner</td><td>25000</td><td>71150</td></tr>",
                            "<tr><td>Bajaj Avenger [2015]</td><td>65000</td><td>2010</td><td>Individual</td><td>1st owner</td><td>20000</td><td>75502</td></tr>",
                            "<tr><td>Hero Honda Splendor Plus</td><td>15000</td><td>2006</td><td>Individual</td><td>1st owner</td><td>100000</td><td>NULL</td></tr>",
                            "<tr><td>TVS Apache RTR 160</td><td>89999</td><td>2019</td><td>Individual</td><td>1st owner</td><td>6400</td><td>NULL</td></tr>",
                            "<tr><td>Hero Honda Splendor Plus</td><td>17600</td><td>2006</td><td>Individual</td><td>1st owner</td><td>52000</td><td>NULL</td></tr>",
                            "<tr><td>Bajaj Platina 100</td><td>17000</td><td>2007</td><td>Individual</td><td>1st owner</td><td>16000</td><td>NULL</td></tr>",
                            "<tr><td>Yamaha FZ25</td><td>90000</td><td>2018</td><td>Individual</td><td>1st owner</td><td>8200</td><td>132680</td></tr>",
                            "<tr><td>Bajaj Pulsar 150 [2001-2011]</td><td>35000</td><td>2010</td><td>Individual</td><td>1st owner</td><td>60000</td><td>NULL</td></tr>",
                            "<tr><td>Yamaha YZF R15 S</td><td>70000</td><td>2017</td><td>Individual</td><td>1st owner</td><td>16000</td><td>117926</td></tr>",
                            "<tr><td>Bajaj Discover 125</td><td>15000</td><td>2011</td><td>Individual</td><td>1st owner</td><td>47000</td><td>57549</td></tr>",
                            "<tr><td>Hero Passion PRO i3s</td><td>35000</td><td>2016</td><td>Individual</td><td>1st owner</td><td>18000</td><td>54475</td></tr>",
                            "<tr><td>Honda Activa [2000-2015]</td><td>15000</td><td>2006</td><td>Individual</td><td>1st owner</td><td>50000</td><td>50267</td></tr>",
                            "<tr><td>Bajaj Discover 125</td><td>50000</td><td>2018</td><td>Individual</td><td>1st owner</td><td>6000</td><td>60122</td></tr>",
                            "<tr><td>Suzuki Gixxer [2014-2018]</td><td>69000</td><td>2017</td><td>Individual</td><td>1st owner</td><td>20000</td><td>82813</td></tr>",
                            "<tr><td>TVS Wego</td><td>15000</td><td>2011</td><td>Individual</td><td>1st owner</td><td>65000</td><td>54760</td></tr>",
                            "<tr><td>Bajaj Discover 150</td><td>25000</td><td>2008</td><td>Individual</td><td>1st owner</td><td>25000</td><td>54299</td></tr>",
                            "<tr><td>Suzuki Access 125 [2007-2016]</td><td>30000</td><td>2012</td><td>Individual</td><td>1st owner</td><td>23000</td><td>58314</td></tr>",
                            "<tr><td>Hero Karizma 2014</td><td>45000</td><td>2014</td><td>Individual</td><td>1st owner</td><td>5555</td><td>86744</td></tr>",
                            "<tr><td>Hero CD Deluxe</td><td>35000</td><td>2016</td><td>Individual</td><td>1st owner</td><td>38000</td><td>NULL</td></tr>",
                            "<tr><td>Yamaha Fazer 25</td><td>120000</td><td>2018</td><td>Individual</td><td>1st owner</td><td>6000</td><td>142680</td></tr>",
                            "<tr><td>Hero Splendor Plus</td><td>25000</td><td>2015</td><td>Individual</td><td>1st owner</td><td>45000</td><td>NULL</td></tr>",
                            "<tr><td>Yamaha YZF R15 [2011-2018]</td><td>80000</td><td>2017</td><td>Individual</td><td>1st owner</td><td>27000</td><td>118997</td></tr>",
                            "<tr><td>Hero Honda Splendor Plus</td><td>10000</td><td>2007</td><td>Individual</td><td>1st owner</td><td>98000</td><td>NULL</td></tr>",
                            "<tr><td>TVS Apache RTR 160</td><td>70000</td><td>2018</td><td>Individual</td><td>1st owner</td><td>16000</td><td>NULL</td></tr>",
                            "<tr><td>Bajaj Pulsar 150</td><td>35000</td><td>2011</td><td>Individual</td><td>1st owner</td><td>50000</td><td>NULL</td></tr>",
                            "<tr><td>Hero Glamour 125</td><td>40000</td><td>2015</td><td>Individual</td><td>1st owner</td><td>71250</td><td>61600</td></tr>",
                            "<tr><td>Hero Honda Passion Plus</td><td>20000</td><td>2006</td><td>Individual</td><td>1st owner</td><td>28000</td><td>NULL</td></tr>",
                            "<tr><td>Honda CB Twister</td><td>30000</td><td>2012</td><td>Individual</td><td>1st owner</td><td>50000</td><td>57241</td></tr>",
                            "<tr><td>Bajaj CT 100</td><td>8000</td><td>2005</td><td>Individual</td><td>2nd owner</td><td>82000</td><td>NULL</td></tr>",
                            "<tr><td>Bajaj Pulsar 220 DTS-i</td><td>65000</td><td>2013</td><td>Individual</td><td>1st owner</td><td>6409</td><td>NULL</td></tr>",
                            "<tr><td>Hero Honda Super Splendor [2005]</td><td>20000</td><td>2008</td><td>Individual</td><td>1st owner</td><td>54000</td><td>NULL</td></tr>",
                            "<tr><td>Honda CB Trigger</td><td>45000</td><td>2013</td><td>Individual</td><td>1st owner</td><td>20000</td><td>76572</td></tr>",
                            "<tr><td>Hero Hunk</td><td>35000</td><td>2013</td><td>Individual</td><td>1st owner</td><td>50000</td><td>78513</td></tr>",
                            "<tr><td>Bajaj Discover 150</td><td>25000</td><td>2011</td><td>Individual</td><td>1st owner</td><td>52000</td><td>54299</td></tr>",
                            "<tr><td>TVS Apache RTR 160</td><td>15000</td><td>2009</td><td>Individual</td><td>4th owner</td><td>880000</td><td>NULL</td></tr>",
                            "<tr><td>Hero Xtreme Sports</td><td>65000</td><td>2017</td><td>Individual</td><td>1st owner</td><td>23000</td><td>78350</td></tr>",
                            "<tr><td>Bajaj Avenger [2015]</td><td>45000</td><td>2011</td><td>Individual</td><td>1st owner</td><td>35000</td><td>75502</td></tr>",
                            "<tr><td>Honda Activa 125</td><td>45000</td><td>2017</td><td>Individual</td><td>1st owner</td><td>49000</td><td>NULL</td></tr>",
                            "<tr><td>Bajaj Pulsar 220F</td><td>50000</td><td>2011</td><td>Individual</td><td>2nd owner</td><td>55000</td><td>NULL</td></tr>",
                            "<tr><td>Bajaj Pulsar NS200</td><td>85000</td><td>2018</td><td>Individual</td><td>2nd owner</td><td>15100</td><td>NULL</td></tr>",
                            "<tr><td>Hero Honda Splendor</td><td>25000</td><td>2008</td><td>Individual</td><td>1st owner</td><td>38000</td><td>NULL</td></tr>",
                            "<tr><td>Honda CB Unicorn 150</td><td>60000</td><td>2017</td><td>Individual</td><td>1st owner</td><td>12652</td><td>74295</td></tr>",
                            "<tr><td>Suzuki Gixxer SF Fi</td><td>100000</td><td>2019</td><td>Individual</td><td>1st owner</td><td>7000</td><td>103170</td></tr>",
                            "<tr><td>KTM RC 200</td><td>180000</td><td>2019</td><td>Individual</td><td>2nd owner</td><td>13800</td><td>NULL</td></tr>",
                            "<tr><td>Bajaj Discover 100</td><td>25000</td><td>2010</td><td>Individual</td><td>2nd owner</td><td>28000</td><td>42859</td></tr>",
                            "<tr><td>TVS Wego</td><td>15000</td><td>2011</td><td>Individual</td><td>2nd owner</td><td>20000</td><td>54760</td></tr>",
                            "<tr><td>Honda CB Hornet 160R</td><td>60000</td><td>2017</td><td>Individual</td><td>2nd owner</td><td>16008</td><td>92210</td></tr>",
                            "<tr><td>Yamaha YZF R15 S</td><td>75000</td><td>2018</td><td>Individual</td><td>1st owner</td><td>36000</td><td>117926</td></tr>",
                            "<tr><td>Hero CBZ</td><td>35000</td><td>2010</td><td>Individual</td><td>1st owner</td><td>36000</td><td>NULL</td></tr>",
                            "<tr><td>TVS Scooty Zest 110</td><td>55000</td><td>2018</td><td>Individual</td><td>1st owner</td><td>380</td><td>53751</td></tr>",
                            "<tr><td>Yamaha FZ S V 2.0</td><td>85000</td><td>2018</td><td>Individual</td><td>1st owner</td><td>50000</td><td>87042</td></tr>",
                            "<tr><td>Hero Honda Glamour</td><td>35000</td><td>2012</td><td>Individual</td><td>1st owner</td><td>30000</td><td>NULL</td></tr>",
                            "<tr><td>Hero Honda CBZ extreme</td><td>35000</td><td>2011</td><td>Individual</td><td>1st owner</td><td>35000</td><td>NULL</td></tr>",
                            "<tr><td>Yamaha FZ S V 2.0</td><td>60000</td><td>2017</td><td>Individual</td><td>1st owner</td><td>14500</td><td>84042</td></tr>",
                            "<tr><td>Suzuki Access 125</td><td>40000</td><td>2017</td><td>Individual</td><td>1st owner</td><td>15000</td><td>NULL</td></tr>",
                            "<tr><td>Bajaj Pulsar 150</td><td>30000</td><td>2010</td><td>Individual</td><td>1st owner</td><td>54000</td><td>NULL</td></tr>",
                            "<tr><td>Bajaj Pulsar NS160</td><td>80000</td><td>2018</td><td>Individual</td><td>1st owner</td><td>11000</td><td>NULL</td></tr>",
                            "<tr><td>Hero Splendor PRO</td><td>24000</td><td>2011</td><td>Individual</td><td>1st owner</td><td>43000</td><td>51994</td></tr>",
                            "<tr><td>Honda Shine</td><td>18000</td><td>2010</td><td>Individual</td><td>1st owner</td><td>15000</td><td>NULL</td></tr>",
                            "<tr><td>Hero Passion Pro 110</td><td>20000</td><td>2008</td><td>Individual</td><td>3rd owner</td><td>40000</td><td>NULL</td></tr>",
                            "<tr><td>Yamaha FZ16</td><td>40000</td><td>2016</td><td>Individual</td><td>1st owner</td><td>93000</td><td>78712</td></tr>",
                            "<tr><td>Suzuki Access 125</td><td>20000</td><td>2012</td><td>Individual</td><td>1st owner</td><td>24000</td><td>NULL</td></tr>",
                            "<tr><td>TVS Jupiter</td><td>70000</td><td>2018</td><td>Individual</td><td>1st owner</td><td>14000</td><td>NULL</td></tr>",
                            "<tr><td>Hero Passion Pro 110</td><td>50000</td><td>2019</td><td>Individual</td><td>1st owner</td><td>29442</td><td>NULL</td></tr>",
                            "<tr><td>Yamaha FZ S V 2.0</td><td>75000</td><td>2017</td><td>Individual</td><td>1st owner</td><td>20000</td><td>84042</td></tr>",
                            "<tr><td>Honda Livo</td><td>25000</td><td>2015</td><td>Individual</td><td>1st owner</td><td>30000</td><td>NULL</td></tr>",
                            "<tr><td>Honda CB Hornet 160R</td><td>70000</td><td>2017</td><td>Individual</td><td>1st owner</td><td>38000</td><td>87543</td></tr>",
                            "<tr><td>Honda Activa 125 [2016-2017]</td><td>55000</td><td>2018</td><td>Individual</td><td>1st owner</td><td>18000</td><td>61545</td></tr>",
                            "<tr><td>Honda Activa 5G</td><td>51000</td><td>2018</td><td>Individual</td><td>1st owner</td><td>14000</td><td>59422</td></tr>",
                            "<tr><td>Yamaha Saluto</td><td>74000</td><td>2019</td><td>Individual</td><td>1st owner</td><td>13000</td><td>59844</td></tr>",
                            "<tr><td>Yamaha FZ S V 2.0</td><td>65000</td><td>2017</td><td>Individual</td><td>1st owner</td><td>42000</td><td>84042</td></tr>",
                            "<tr><td>Bajaj Avenger Street 150 [2018]</td><td>60000</td><td>2016</td><td>Individual</td><td>2nd owner</td><td>27000</td><td>80435</td></tr>",
                            "<tr><td>Bajaj Pulsar 220F</td><td>110000</td><td>2019</td><td>Individual</td><td>1st owner</td><td>4000</td><td>NULL</td></tr>",
                            "<tr><td>Yamaha YZF R15 [2011-2018]</td><td>50000</td><td>2014</td><td>Individual</td><td>1st owner</td><td>1200</td><td>118997</td></tr>",
                            "<tr><td>TVS Apache RTR 160 4V</td><td>85009</td><td>2018</td><td>Individual</td><td>1st owner</td><td>7500</td><td>NULL</td></tr>",
                            "<tr><td>Hero Passion Pro 110</td><td>60000</td><td>2013</td><td>Individual</td><td>1st owner</td><td>15000</td><td>NULL</td></tr>",
                            "<tr><td>Bajaj Pulsar 150</td><td>25000</td><td>2013</td><td>Individual</td><td>2nd owner</td><td>70000</td><td>NULL</td></tr>",
                            "<tr><td>TVS Apache RTR 160 4V</td><td>75000</td><td>2019</td><td>Individual</td><td>1st owner</td><td>12657</td><td>NULL</td></tr>",
                            "<tr><td>Honda CB Unicorn 150</td><td>30000</td><td>2010</td><td>Individual</td><td>1st owner</td><td>69000</td><td>74295</td></tr>",
                            "<tr><td>Honda Activa [2000-2015]</td><td>16600</td><td>2010</td><td>Individual</td><td>1st owner</td><td>100000</td><td>50267</td></tr>",
                            "<tr><td>Honda Activa 3G</td><td>30000</td><td>2015</td><td>Individual</td><td>1st owner</td><td>18000</td><td>54605</td></tr>",
                            "<tr><td>Honda Shine</td><td>20000</td><td>2007</td><td>Individual</td><td>1st owner</td><td>80000</td><td>NULL</td></tr>",
                            "<tr><td>Honda Activa 5G</td><td>62000</td><td>2019</td><td>Individual</td><td>1st owner</td><td>11200</td><td>59422</td></tr>",
                            "<tr><td>Bajaj Avenger Street 220</td><td>60000</td><td>2016</td><td>Individual</td><td>1st owner</td><td>17000</td><td>95955</td></tr>",
                            "<tr><td>Hero Xtreme [2013-2014]</td><td>45000</td><td>2014</td><td>Individual</td><td>1st owner</td><td>56420</td><td>72492</td></tr>",
                            "<tr><td>Yamaha FZ S [2012-2016]</td><td>40000</td><td>2011</td><td>Individual</td><td>1st owner</td><td>82000</td><td>79432</td></tr>",
                            "<tr><td>Suzuki Intruder 150</td><td>75000</td><td>2018</td><td>Individual</td><td>1st owner</td><td>10000</td><td>NULL</td></tr>",
                            "<tr><td>Yamaha Fazer [2009-2016]</td><td>50000</td><td>2012</td><td>Individual</td><td>1st owner</td><td>100000</td><td>84751</td></tr>",
                            "<tr><td>Bajaj Pulsar RS 200</td><td>105000</td><td>2017</td><td>Individual</td><td>1st owner</td><td>18345</td><td>NULL</td></tr>",
                            "<tr><td>Bajaj Discover 135</td><td>30000</td><td>2009</td><td>Individual</td><td>1st owner</td><td>20000</td><td>NULL</td></tr>",
                            "<tr><td>Hero Honda CBZ</td><td>10000</td><td>2000</td><td>Individual</td><td>4th owner</td><td>48000</td><td>NULL</td></tr>",
                            "<tr><td>Bajaj Pulsar 135 LS</td><td>45000</td><td>2014</td><td>Individual</td><td>1st owner</td><td>14000</td><td>64589</td></tr>",
                            "<tr><td>Yamaha Fazer 25</td><td>145000</td><td>2018</td><td>Individual</td><td>2nd owner</td><td>4100</td><td>142680</td></tr>",
                            "<tr><td>Honda CB Unicorn 150</td><td>45000</td><td>2016</td><td>Individual</td><td>2nd owner</td><td>50000</td><td>74295</td></tr>",
                            "<tr><td>Honda Activa 5G</td><td>65000</td><td>2019</td><td>Individual</td><td>1st owner</td><td>3025</td><td>59422</td></tr>",
                            "<tr><td>Bajaj Pulsar 135 LS</td><td>20000</td><td>2011</td><td>Individual</td><td>1st owner</td><td>60000</td><td>64589</td></tr>",
                            "<tr><td>Hero Duet</td><td>37000</td><td>2016</td><td>Individual</td><td>1st owner</td><td>6000</td><td>50280</td></tr>",
                            "<tr><td>Hero Splendor NXG</td><td>18000</td><td>2011</td><td>Individual</td><td>1st owner</td><td>35000</td><td>44814</td></tr>",
                            "<tr><td>Hero Glamour 125</td><td>25000</td><td>2013</td><td>Individual</td><td>1st owner</td><td>50000</td><td>61600</td></tr>",
                            "<tr><td>Honda Activa 5G</td><td>46000</td><td>2018</td><td>Individual</td><td>1st owner</td><td>10000</td><td>57557</td></tr>",
                            "<tr><td>Yamaha Fascino 110</td><td>55000</td><td>2019</td><td>Individual</td><td>1st owner</td><td>7000</td><td>57112</td></tr>",
                            "<tr><td>Bajaj V15</td><td>40000</td><td>2016</td><td>Individual</td><td>1st owner</td><td>34000</td><td>67187</td></tr>",
                            "<tr><td>Hero Honda Passion PRO [2012]</td><td>25000</td><td>2012</td><td>Individual</td><td>2nd owner</td><td>20000</td><td>NULL</td></tr>",
                            "<tr><td>Honda Activa [2000-2015]</td><td>25000</td><td>2012</td><td>Individual</td><td>1st owner</td><td>38000</td><td>50267</td></tr>",
                            "<tr><td>Bajaj Xcd</td><td>15000</td><td>2008</td><td>Individual</td><td>1st owner</td><td>100000</td><td>NULL</td></tr>",
                            "<tr><td>Bajaj Pulsar NS160</td><td>70000</td><td>2018</td><td>Individual</td><td>1st owner</td><td>20000</td><td>NULL</td></tr>",
                            "<tr><td>Honda CB Hornet 160R</td><td>70000</td><td>2017</td><td>Individual</td><td>1st owner</td><td>240000</td><td>92210</td></tr>",
                            "<tr><td>Yamaha RXG</td><td>25000</td><td>1997</td><td>Individual</td><td>1st owner</td><td>45354</td><td>NULL</td></tr>",
                            "<tr><td>TVS Streak</td><td>10000</td><td>2009</td><td>Individual</td><td>1st owner</td><td>100000</td><td>NULL</td></tr>",
                            "<tr><td>Bajaj Pulsar RS 200</td><td>80000</td><td>2015</td><td>Individual</td><td>1st owner</td><td>32000</td><td>NULL</td></tr>",
                            "<tr><td>Yamaha Alpha</td><td>25000</td><td>2015</td><td>Individual</td><td>2nd owner</td><td>14000</td><td>54253</td></tr>",
                            "<tr><td>Honda Livo</td><td>35000</td><td>2016</td><td>Individual</td><td>1st owner</td><td>70000</td><td>NULL</td></tr>",
                            "<tr><td>Mahindra Gusto</td><td>25000</td><td>2016</td><td>Individual</td><td>1st owner</td><td>13500</td><td>51185</td></tr>",
                            "<tr><td>Bajaj Discover 125</td><td>26000</td><td>2012</td><td>Individual</td><td>1st owner</td><td>75000</td><td>57549</td></tr>",
                            "<tr><td>Hero Glamour 125</td><td>15000</td><td>2011</td><td>Individual</td><td>1st owner</td><td>75000</td><td>61600</td></tr>",
                            "<tr><td>Honda CB Unicorn 160</td><td>50000</td><td>2017</td><td>Individual</td><td>1st owner</td><td>52000</td><td>77545</td></tr>",
                            "<tr><td>Hero Pleasure</td><td>26500</td><td>2013</td><td>Individual</td><td>1st owner</td><td>18860</td><td>49600</td></tr>",
                            "<tr><td>Royal Enfield Classic 350</td><td>135000</td><td>2017</td><td>Individual</td><td>1st owner</td><td>2700</td><td>NULL</td></tr>",
                            "<tr><td>Honda CB Hornet 160R</td><td>80000</td><td>2016</td><td>Individual</td><td>1st owner</td><td>100000</td><td>92661</td></tr>",
                            "<tr><td>Bajaj CT 100</td><td>30000</td><td>2016</td><td>Individual</td><td>1st owner</td><td>38500</td><td>NULL</td></tr>",
                            "<tr><td>Yamaha FZ S V 2.0</td><td>90000</td><td>2018</td><td>Individual</td><td>1st owner</td><td>10500</td><td>87042</td></tr>",
                            "<tr><td>Bajaj Pulsar 180</td><td>85000</td><td>2016</td><td>Individual</td><td>1st owner</td><td>35000</td><td>85011</td></tr>",
                            "<tr><td>Hero Glamour 125</td><td>54000</td><td>2013</td><td>Individual</td><td>1st owner</td><td>17000</td><td>61600</td></tr>",
                            "<tr><td>Bajaj CT 100</td><td>42000</td><td>2019</td><td>Individual</td><td>1st owner</td><td>2900</td><td>NULL</td></tr>",
                            "<tr><td>Bajaj Discover 100 T</td><td>25000</td><td>2014</td><td>Individual</td><td>1st owner</td><td>30000</td><td>47032</td></tr>",
                            "<tr><td>TVS Star City Plus</td><td>50000</td><td>2016</td><td>Individual</td><td>2nd owner</td><td>14000</td><td>NULL</td></tr>",
                            "<tr><td>Honda CB Unicorn 150</td><td>55000</td><td>2014</td><td>Individual</td><td>1st owner</td><td>10000</td><td>74295</td></tr>",
                            "<tr><td>Hero Passion PRO TR</td><td>35000</td><td>2014</td><td>Individual</td><td>1st owner</td><td>9556</td><td>54586</td></tr>",
                            "<tr><td>Honda CB Shine SP</td><td>50000</td><td>2018</td><td>Individual</td><td>1st owner</td><td>37000</td><td>64750</td></tr>",
                            "<tr><td>Bajaj V15</td><td>45000</td><td>2015</td><td>Individual</td><td>1st owner</td><td>2700</td><td>65626</td></tr>",
                            "<tr><td>Bajaj V15</td><td>45000</td><td>2016</td><td>Individual</td><td>1st owner</td><td>36000</td><td>67187</td></tr>",
                            "<tr><td>Bajaj Discover 100</td><td>28000</td><td>2015</td><td>Individual</td><td>2nd owner</td><td>52000</td><td>42859</td></tr>",
                            "<tr><td>Royal Enfield Electra 4 S</td><td>80000</td><td>2013</td><td>Individual</td><td>1st owner</td><td>46000</td><td>NULL</td></tr>",
                            "<tr><td>KTM 200 Duke</td><td>130000</td><td>2016</td><td>Individual</td><td>1st owner</td><td>12000</td><td>NULL</td></tr>",
                            "<tr><td>Bajaj Pulsar 220F</td><td>120000</td><td>2019</td><td>Individual</td><td>1st owner</td><td>6500</td><td>NULL</td></tr>",
                            "<tr><td>Suzuki GS150R</td><td>27000</td><td>2012</td><td>Individual</td><td>1st owner</td><td>14100</td><td>70851</td></tr>",
                            "<tr><td>Honda Shine</td><td>30000</td><td>2014</td><td>Individual</td><td>1st owner</td><td>40000</td><td>NULL</td></tr>",
                            "<tr><td>Honda CB Unicorn Dazzler</td><td>50000</td><td>2010</td><td>Individual</td><td>1st owner</td><td>75000</td><td>71757</td></tr>",
                            "<tr><td>Honda Livo</td><td>45000</td><td>2018</td><td>Individual</td><td>1st owner</td><td>10000</td><td>NULL</td></tr>",
                            "<tr><td>Honda Aviator</td><td>28000</td><td>2009</td><td>Individual</td><td>1st owner</td><td>29625</td><td>59183</td></tr>",
                            "<tr><td>Honda Activa [2000-2015]</td><td>6000</td><td>2006</td><td>Individual</td><td>2nd owner</td><td>35000</td><td>50267</td></tr>",
                            "<tr><td>Hero Hunk</td><td>35000</td><td>2016</td><td>Individual</td><td>1st owner</td><td>32000</td><td>78513</td></tr>",
                            "<tr><td>Honda Activa 125</td><td>30000</td><td>2014</td><td>Individual</td><td>1st owner</td><td>20000</td><td>NULL</td></tr>",
                            "<tr><td>Bajaj Discover 110</td><td>15000</td><td>2007</td><td>Individual</td><td>1st owner</td><td>70000</td><td>52710</td></tr>",
                            "<tr><td>Hero Xtreme [2013-2014]</td><td>45000</td><td>2013</td><td>Individual</td><td>1st owner</td><td>57000</td><td>75936</td></tr>",
                            "<tr><td>TVS Victor GLX</td><td>18000</td><td>2005</td><td>Individual</td><td>1st owner</td><td>11000</td><td>NULL</td></tr>",
                            "<tr><td>Bajaj Pulsar NS200</td><td>85000</td><td>2018</td><td>Individual</td><td>1st owner</td><td>17500</td><td>NULL</td></tr>",
                            "<tr><td>Honda Aviator</td><td>30000</td><td>2014</td><td>Individual</td><td>1st owner</td><td>7000</td><td>59183</td></tr>",
                            "<tr><td>Bajaj Platina 100</td><td>40000</td><td>2018</td><td>Individual</td><td>1st owner</td><td>17500</td><td>NULL</td></tr>",
                            "<tr><td>TVS Sport</td><td>34000</td><td>2018</td><td>Individual</td><td>1st owner</td><td>25000</td><td>NULL</td></tr>",
                            "<tr><td>Hero Honda Passion Plus</td><td>8000</td><td>2003</td><td>Individual</td><td>1st owner</td><td>53500</td><td>NULL</td></tr>",
                            "<tr><td>Bajaj V15</td><td>70000</td><td>2018</td><td>Individual</td><td>1st owner</td><td>15000</td><td>67187</td></tr>",
                            "<tr><td>Honda Dio</td><td>50000</td><td>2016</td><td>Individual</td><td>1st owner</td><td>8000</td><td>NULL</td></tr>",
                            "<tr><td>Honda Dream Yuga</td><td>35000</td><td>2015</td><td>Individual</td><td>1st owner</td><td>39448</td><td>56147</td></tr>",
                            "<tr><td>Hero Honda Splendor Plus</td><td>20000</td><td>2006</td><td>Individual</td><td>1st owner</td><td>75000</td><td>NULL</td></tr>",
                            "<tr><td>Bajaj Pulsar 150</td><td>50000</td><td>2012</td><td>Individual</td><td>1st owner</td><td>28000</td><td>NULL</td></tr>",
                            "<tr><td>Bajaj Discover 135</td><td>37000</td><td>2008</td><td>Individual</td><td>1st owner</td><td>62000</td><td>NULL</td></tr>",
                            "<tr><td>Honda Livo</td><td>69000</td><td>2018</td><td>Individual</td><td>1st owner</td><td>12000</td><td>NULL</td></tr>",
                            "<tr><td>Hero Honda Splendor NXG</td><td>28000</td><td>2012</td><td>Individual</td><td>1st owner</td><td>49999</td><td>NULL</td></tr>",
                            "<tr><td>Bajaj Discover 125</td><td>25000</td><td>2011</td><td>Individual</td><td>1st owner</td><td>70000</td><td>57549</td></tr>",
                            "<tr><td>Yamaha FZ V 2.0</td><td>60000</td><td>2018</td><td>Individual</td><td>1st owner</td><td>25000</td><td>81508</td></tr>",
                            "<tr><td>Yamaha SZ-S</td><td>50000</td><td>2014</td><td>Individual</td><td>1st owner</td><td>20000</td><td>72532</td></tr>",
                            "<tr><td>Royal Enfield Thunderbird 350</td><td>135000</td><td>2016</td><td>Individual</td><td>1st owner</td><td>4500</td><td>NULL</td></tr>",
                            "<tr><td>Bajaj Discover 125 M</td><td>30000</td><td>2014</td><td>Individual</td><td>1st owner</td><td>45000</td><td>49146</td></tr>",
                            "<tr><td>Yamaha FZ S [2012-2016]</td><td>60000</td><td>2014</td><td>Individual</td><td>1st owner</td><td>68000</td><td>79432</td></tr>",
                            "<tr><td>Honda Activa [2000-2015]</td><td>23000</td><td>2009</td><td>Individual</td><td>1st owner</td><td>95000</td><td>50267</td></tr>",
                            "<tr><td>Bajaj Xcd</td><td>20000</td><td>2009</td><td>Individual</td><td>1st owner</td><td>16000</td><td>NULL</td></tr>",
                            "<tr><td>Bajaj Avenger Street 160</td><td>80000</td><td>2019</td><td>Individual</td><td>1st owner</td><td>5000</td><td>NULL</td></tr>",
                            "<tr><td>Royal Enfield Electra 5 S</td><td>99000</td><td>2006</td><td>Individual</td><td>2nd owner</td><td>36000</td><td>NULL</td></tr>",
                            "<tr><td>TVS Apache RTR 200 4V</td><td>90000</td><td>2018</td><td>Individual</td><td>1st owner</td><td>70000</td><td>NULL</td></tr>",
                            "<tr><td>Hero Honda Splendor Plus</td><td>20000</td><td>2005</td><td>Individual</td><td>1st owner</td><td>27370</td><td>NULL</td></tr>",
                            "<tr><td>Hero Glamour 125</td><td>50000</td><td>2017</td><td>Individual</td><td>1st owner</td><td>8600</td><td>61600</td></tr>",
                            "<tr><td>TVS Victor GLX</td><td>27000</td><td>2002</td><td>Individual</td><td>1st owner</td><td>49000</td><td>NULL</td></tr>",
                            "<tr><td>Honda Grazia</td><td>60000</td><td>2018</td><td>Individual</td><td>1st owner</td><td>16000</td><td>NULL</td></tr>",
                            "<tr><td>Bajaj Pulsar 150 [2001-2011]</td><td>12000</td><td>2007</td><td>Individual</td><td>2nd owner</td><td>100000</td><td>NULL</td></tr>",
                            "<tr><td>Hero Xtreme 2014</td><td>50000</td><td>2014</td><td>Individual</td><td>1st owner</td><td>10000</td><td>72973</td></tr>",
                            "<tr><td>Hero Pleasure</td><td>20000</td><td>2012</td><td>Individual</td><td>2nd owner</td><td>30000</td><td>49600</td></tr>",
                            "<tr><td>Hero Passion XPro</td><td>45000</td><td>2018</td><td>Individual</td><td>1st owner</td><td>7000</td><td>58900</td></tr>",
                            "<tr><td>Hero Super Splendor</td><td>40000</td><td>2013</td><td>Individual</td><td>1st owner</td><td>68000</td><td>NULL</td></tr>",
                            "<tr><td>Yamaha FZ S [2012-2016]</td><td>45000</td><td>2016</td><td>Individual</td><td>2nd owner</td><td>20000</td><td>79432</td></tr>",
                            "<tr><td>Honda Activa [2000-2015]</td><td>25000</td><td>2015</td><td>Individual</td><td>1st owner</td><td>25000</td><td>50267</td></tr>",
                            "<tr><td>Hero Glamour FI</td><td>75000</td><td>2019</td><td>Individual</td><td>1st owner</td><td>8900</td><td>71150</td></tr>",
                            "<tr><td>Hero Honda Passion Plus</td><td>25000</td><td>2007</td><td>Individual</td><td>1st owner</td><td>70000</td><td>NULL</td></tr>",
                            "<tr><td>Hero Splendor Plus</td><td>25000</td><td>2006</td><td>Individual</td><td>2nd owner</td><td>40000</td><td>NULL</td></tr>",
                            "<tr><td>Hero Xpulse 200</td><td>100000</td><td>2019</td><td>Individual</td><td>1st owner</td><td>8500</td><td>107500</td></tr>",
                            "<tr><td>Honda CB Unicorn 150</td><td>30000</td><td>2012</td><td>Individual</td><td>1st owner</td><td>32000</td><td>74295</td></tr>",
                            "<tr><td>Bajaj Discover 135</td><td>25000</td><td>2010</td><td>Individual</td><td>1st owner</td><td>55000</td><td>NULL</td></tr>",
                            "<tr><td>Hero Honda Splendor</td><td>10000</td><td>2006</td><td>Individual</td><td>1st owner</td><td>75000</td><td>NULL</td></tr>",
                            "<tr><td>Hero Honda CD Deluxe</td><td>25000</td><td>2008</td><td>Individual</td><td>3rd owner</td><td>65000</td><td>NULL</td></tr>",
                            "<tr><td>Royal Enfield Electra Twinspark</td><td>120000</td><td>2016</td><td>Individual</td><td>1st owner</td><td>345000</td><td>NULL</td></tr>",
                            "<tr><td>Honda Dream Neo</td><td>42000</td><td>2014</td><td>Individual</td><td>1st owner</td><td>21000</td><td>53415</td></tr>",
                            "<tr><td>Hero Maestro</td><td>30000</td><td>2013</td><td>Individual</td><td>1st owner</td><td>60000</td><td>49412</td></tr>",
                            "<tr><td>Honda CBR150 R</td><td>77000</td><td>2014</td><td>Individual</td><td>1st owner</td><td>38000</td><td>132513</td></tr>",
                            "<tr><td>Honda CB Unicorn Dazzler</td><td>25000</td><td>2011</td><td>Individual</td><td>1st owner</td><td>40000</td><td>71757</td></tr>",
                            "<tr><td>TVS Apache [2006]</td><td>15000</td><td>2006</td><td>Individual</td><td>1st owner</td><td>40000</td><td>NULL</td></tr>",
                            "<tr><td>Hero Passion XPro</td><td>25000</td><td>2013</td><td>Individual</td><td>1st owner</td><td>25000</td><td>59640</td></tr>",
                            "<tr><td>Honda Activa 5G</td><td>50000</td><td>2018</td><td>Individual</td><td>1st owner</td><td>25000</td><td>57957</td></tr>",
                            "<tr><td>Honda Activa i</td><td>30000</td><td>2014</td><td>Individual</td><td>1st owner</td><td>25000</td><td>53900</td></tr>",
                            "<tr><td>TVS Apache RTR 200 4V</td><td>125000</td><td>2019</td><td>Individual</td><td>1st owner</td><td>3000</td><td>NULL</td></tr>",
                            "<tr><td>Hero Honda CBZ extreme</td><td>35000</td><td>2011</td><td>Individual</td><td>1st owner</td><td>28000</td><td>NULL</td></tr>",
                            "<tr><td>Suzuki Gixxer [2014-2018]</td><td>45000</td><td>2015</td><td>Individual</td><td>1st owner</td><td>40000</td><td>78316</td></tr>",
                            "<tr><td>Hero Xpulse 200</td><td>98000</td><td>2019</td><td>Individual</td><td>1st owner</td><td>8500</td><td>107500</td></tr>",
                            "<tr><td>Bajaj Pulsar 150</td><td>75000</td><td>2017</td><td>Individual</td><td>1st owner</td><td>30000</td><td>NULL</td></tr>",
                            "<tr><td>Bajaj Pulsar AS150</td><td>55000</td><td>2017</td><td>Individual</td><td>2nd owner</td><td>20000</td><td>80821</td></tr>",
                            "<tr><td>Bajaj Platina 100</td><td>25000</td><td>2013</td><td>Individual</td><td>1st owner</td><td>30000</td><td>NULL</td></tr>",
                            "<tr><td>Honda CB Twister</td><td>70000</td><td>2014</td><td>Individual</td><td>1st owner</td><td>12566</td><td>49150</td></tr>",
                            "<tr><td>Suzuki SlingShot</td><td>24000</td><td>2011</td><td>Individual</td><td>1st owner</td><td>17000</td><td>NULL</td></tr>",
                            "<tr><td>TVS Apache RTR 160</td><td>70000</td><td>2018</td><td>Individual</td><td>1st owner</td><td>17000</td><td>NULL</td></tr>",
                            "<tr><td>Bajaj V12</td><td>45000</td><td>2017</td><td>Individual</td><td>1st owner</td><td>35000</td><td>58906</td></tr>",
                            "<tr><td>Hero Karizma 2014</td><td>25000</td><td>2015</td><td>Individual</td><td>1st owner</td><td>40000</td><td>86744</td></tr>",
                            "<tr><td>Yamaha YZF R15 V3</td><td>170000</td><td>2019</td><td>Individual</td><td>1st owner</td><td>1400</td><td>146400</td></tr>",
                            "<tr><td>Yamaha Fascino 110</td><td>38000</td><td>2016</td><td>Individual</td><td>1st owner</td><td>37000</td><td>54500</td></tr>",
                            "<tr><td>Honda CB Unicorn 160</td><td>45000</td><td>2015</td><td>Individual</td><td>1st owner</td><td>15000</td><td>77545</td></tr>",
                            "<tr><td>Yamaha Gladiator</td><td>15000</td><td>2009</td><td>Individual</td><td>1st owner</td><td>46000</td><td>NULL</td></tr>",
                            "<tr><td>Hero Honda Glamour</td><td>45000</td><td>2012</td><td>Individual</td><td>1st owner</td><td>75000</td><td>NULL</td></tr>",
                            "<tr><td>Bajaj Discover 100</td><td>22000</td><td>2014</td><td>Individual</td><td>1st owner</td><td>14289</td><td>42859</td></tr>",
                            "<tr><td>Mahindra Gusto</td><td>30000</td><td>2015</td><td>Individual</td><td>2nd owner</td><td>20000</td><td>51185</td></tr>",
                            "<tr><td>Royal Enfield Thunderbird 350</td><td>100000</td><td>2012</td><td>Individual</td><td>1st owner</td><td>28000</td><td>NULL</td></tr>",
                            "<tr><td>Royal Enfield Classic 350</td><td>100000</td><td>2014</td><td>Individual</td><td>1st owner</td><td>19000</td><td>NULL</td></tr>",
                            "<tr><td>Bajaj Pulsar 150</td><td>60000</td><td>2017</td><td>Individual</td><td>1st owner</td><td>28450</td><td>NULL</td></tr>",
                            "<tr><td>Royal Enfield Electra Twinspark</td><td>100000</td><td>2014</td><td>Individual</td><td>1st owner</td><td>31500</td><td>NULL</td></tr>",
                            "<tr><td>Bajaj Pulsar 150</td><td>40000</td><td>2016</td><td>Individual</td><td>1st owner</td><td>28000</td><td>NULL</td></tr>",
                            "<tr><td>Bajaj Pulsar 150</td><td>21000</td><td>2007</td><td>Individual</td><td>1st owner</td><td>100000</td><td>NULL</td></tr>",
                            "<tr><td>Hero HF Deluxe</td><td>40000</td><td>2018</td><td>Individual</td><td>1st owner</td><td>16000</td><td>NULL</td></tr>",
                            "<tr><td>Honda Activa [2000-2015]</td><td>25000</td><td>2007</td><td>Individual</td><td>1st owner</td><td>17860</td><td>50267</td></tr>",
                            "<tr><td>Yamaha FZ S [2012-2016]</td><td>45000</td><td>2015</td><td>Individual</td><td>1st owner</td><td>24000</td><td>79432</td></tr>",
                            "<tr><td>Bajaj Avenger Cruise 220</td><td>75000</td><td>2016</td><td>Individual</td><td>1st owner</td><td>10950</td><td>NULL</td></tr>",
                            "<tr><td>Honda Dio</td><td>45000</td><td>2017</td><td>Individual</td><td>1st owner</td><td>35850</td><td>NULL</td></tr>",
                            "<tr><td>Honda Activa i [2016-2017]</td><td>35000</td><td>2016</td><td>Individual</td><td>1st owner</td><td>29000</td><td>53436</td></tr>",
                            "<tr><td>Royal Enfield Bullet 350 [2007-2011]</td><td>60000</td><td>2001</td><td>Individual</td><td>2nd owner</td><td>4000</td><td>NULL</td></tr>",
                            "<tr><td>Yamaha FZ V 2.0</td><td>60000</td><td>2016</td><td>Individual</td><td>1st owner</td><td>45420</td><td>81508</td></tr>",
                            "<tr><td>Royal Enfield Classic 350</td><td>130000</td><td>2018</td><td>Individual</td><td>2nd owner</td><td>35000</td><td>NULL</td></tr>",
                            "<tr><td>Honda CB Shine SP</td><td>42000</td><td>2017</td><td>Individual</td><td>1st owner</td><td>19800</td><td>64750</td></tr>",
                            "<tr><td>Bajaj V15</td><td>76000</td><td>2018</td><td>Individual</td><td>1st owner</td><td>23000</td><td>65626</td></tr>",
                            "<tr><td>Hero CBZ</td><td>40000</td><td>2014</td><td>Individual</td><td>1st owner</td><td>35000</td><td>NULL</td></tr>",
                            "<tr><td>Hero Splendor Plus</td><td>65000</td><td>2018</td><td>Individual</td><td>1st owner</td><td>7500</td><td>NULL</td></tr>",
                            "<tr><td>Bajaj Discover 100 T</td><td>20000</td><td>2013</td><td>Individual</td><td>1st owner</td><td>20000</td><td>47032</td></tr>",
                            "<tr><td>Honda CB Hornet 160R</td><td>75000</td><td>2016</td><td>Individual</td><td>1st owner</td><td>72000</td><td>92661</td></tr>",
                            "<tr><td>Honda CB Hornet 160R</td><td>70000</td><td>2018</td><td>Individual</td><td>1st owner</td><td>7000</td><td>92661</td></tr>",
                            "<tr><td>TVS Apache RTR 160 4V</td><td>105000</td><td>2019</td><td>Individual</td><td>1st owner</td><td>6000</td><td>NULL</td></tr>",
                            "<tr><td>Honda CB Shine SP</td><td>50000</td><td>2017</td><td>Individual</td><td>1st owner</td><td>34300</td><td>62317</td></tr>",
                            "<tr><td>Royal Enfield Classic 350</td><td>120000</td><td>2017</td><td>Individual</td><td>1st owner</td><td>7199</td><td>NULL</td></tr>",
                            "<tr><td>Bajaj Pulsar 180</td><td>25000</td><td>2011</td><td>Individual</td><td>1st owner</td><td>43000</td><td>85011</td></tr>",
                            "<tr><td>TVS XL 100</td><td>30000</td><td>2017</td><td>Individual</td><td>1st owner</td><td>8000</td><td>30490</td></tr>",
                            "<tr><td>Hero Super Splendor</td><td>50000</td><td>2017</td><td>Individual</td><td>1st owner</td><td>9999</td><td>NULL</td></tr>",
                            "<tr><td>Hero Honda CBZ extreme</td><td>25000</td><td>2007</td><td>Individual</td><td>1st owner</td><td>80000</td><td>NULL</td></tr>",
                            "<tr><td>Bajaj Pulsar 180</td><td>50000</td><td>2014</td><td>Individual</td><td>1st owner</td><td>30000</td><td>85011</td></tr>",
                            "<tr><td>Bajaj Discover 150</td><td>35000</td><td>2015</td><td>Individual</td><td>1st owner</td><td>12000</td><td>54299</td></tr>",
                            "<tr><td>Bajaj Pulsar 180</td><td>30000</td><td>2009</td><td>Individual</td><td>1st owner</td><td>17500</td><td>85011</td></tr>",
                            "<tr><td>Honda Shine</td><td>37000</td><td>2016</td><td>Individual</td><td>1st owner</td><td>45000</td><td>NULL</td></tr>",
                            "<tr><td>Honda CB Unicorn 150</td><td>42000</td><td>2013</td><td>Individual</td><td>1st owner</td><td>38000</td><td>74295</td></tr>",
                            "<tr><td>Royal Enfield Himalayan</td><td>119000</td><td>2016</td><td>Individual</td><td>1st owner</td><td>19800</td><td>NULL</td></tr>",
                            "<tr><td>Kawasaki Ninja 650 [2018-2019]</td><td>300000</td><td>2011</td><td>Individual</td><td>1st owner</td><td>12000</td><td>589000</td></tr>",
                            "<tr><td>Royal Enfield Classic 350</td><td>130000</td><td>1993</td><td>Individual</td><td>2nd owner</td><td>10000</td><td>NULL</td></tr>",
                            "<tr><td>Hero Honda Passion Plus</td><td>22000</td><td>2008</td><td>Individual</td><td>2nd owner</td><td>85000</td><td>NULL</td></tr>",
                            "<tr><td>Hero Honda Splendor Plus</td><td>15000</td><td>2007</td><td>Individual</td><td>1st owner</td><td>70000</td><td>NULL</td></tr>",
                            "<tr><td>Benelli TNT 25</td><td>160000</td><td>2017</td><td>Individual</td><td>1st owner</td><td>2009</td><td>170994</td></tr>",
                            "<tr><td>Royal Enfield Thunderbird 500X</td><td>185000</td><td>2018</td><td>Individual</td><td>1st owner</td><td>1500</td><td>198605</td></tr>",
                            "<tr><td>Royal Enfield Continental GT [2013 - 2018]</td><td>110000</td><td>2014</td><td>Individual</td><td>1st owner</td><td>12077</td><td>208902</td></tr>",
                            "<tr><td>KTM RC 200</td><td>150000</td><td>2017</td><td>Individual</td><td>1st owner</td><td>20000</td><td>NULL</td></tr>",
                            "<tr><td>Royal Enfield Bullet 350 [2007-2011]</td><td>150000</td><td>1995</td><td>Individual</td><td>3rd owner</td><td>20000</td><td>NULL</td></tr>",
                            "<tr><td>Bajaj Pulsar 220F</td><td>45000</td><td>2011</td><td>Individual</td><td>1st owner</td><td>40000</td><td>NULL</td></tr>",
                            "<tr><td>Bajaj Avenger Street 220</td><td>75000</td><td>2018</td><td>Individual</td><td>1st owner</td><td>12000</td><td>95955</td></tr>",
                            "<tr><td>Honda Activa 125 [2016-2017]</td><td>50000</td><td>2017</td><td>Individual</td><td>1st owner</td><td>27000</td><td>61545</td></tr>",
                            "<tr><td>Honda Shine</td><td>30000</td><td>2013</td><td>Individual</td><td>1st owner</td><td>93000</td><td>NULL</td></tr>",
                            "<tr><td>Bajaj Discover 150F</td><td>30000</td><td>2015</td><td>Individual</td><td>1st owner</td><td>12000</td><td>64071</td></tr>",
                            "<tr><td>Bajaj Pulsar 150 [2001-2011]</td><td>22000</td><td>2011</td><td>Individual</td><td>1st owner</td><td>36000</td><td>NULL</td></tr>",
                            "<tr><td>Hero Karizma ZMR</td><td>75000</td><td>2015</td><td>Individual</td><td>1st owner</td><td>11000</td><td>108000</td></tr>",
                            "<tr><td>Honda Dream Yuga</td><td>45000</td><td>2017</td><td>Individual</td><td>1st owner</td><td>26000</td><td>56147</td></tr>",
                            "<tr><td>Hero Glamour 125</td><td>35000</td><td>2014</td><td>Individual</td><td>1st owner</td><td>450000</td><td>61600</td></tr>",
                            "<tr><td>Honda Activa [2000-2015]</td><td>35000</td><td>2012</td><td>Individual</td><td>1st owner</td><td>29000</td><td>50267</td></tr>",
                            "<tr><td>Bajaj CT 100</td><td>25000</td><td>2017</td><td>Individual</td><td>1st owner</td><td>45000</td><td>NULL</td></tr>",
                            "<tr><td>Honda CB Hornet 160R</td><td>70000</td><td>2017</td><td>Individual</td><td>1st owner</td><td>13000</td><td>92210</td></tr>",
                            "<tr><td>Hero CD Dawn</td><td>10000</td><td>2005</td><td>Individual</td><td>1st owner</td><td>48000</td><td>NULL</td></tr>",
                            "<tr><td>Royal Enfield Classic Gunmetal Grey</td><td>180000</td><td>2018</td><td>Individual</td><td>1st owner</td><td>5814</td><td>148114</td></tr>",
                            "<tr><td>Bajaj Discover 100</td><td>24000</td><td>2014</td><td>Individual</td><td>1st owner</td><td>31000</td><td>42859</td></tr>",
                            "<tr><td>Honda Shine</td><td>42000</td><td>2017</td><td>Individual</td><td>1st owner</td><td>25000</td><td>NULL</td></tr>",
                            "<tr><td>TVS Max DLX</td><td>26000</td><td>2002</td><td>Individual</td><td>2nd owner</td><td>28000</td><td>NULL</td></tr>",
                            "<tr><td>Honda Dio</td><td>60000</td><td>2018</td><td>Individual</td><td>1st owner</td><td>11000</td><td>NULL</td></tr>",
                            "<tr><td>Bajaj Pulsar 180</td><td>72000</td><td>2017</td><td>Dealer</td><td>1st owner</td><td>7850</td><td>85011</td></tr>",
                            "<tr><td>Royal Enfield Thunderbird 350</td><td>120000</td><td>2015</td><td>Individual</td><td>1st owner</td><td>10000</td><td>NULL</td></tr>",
                            "<tr><td>Royal Enfield Thunderbird 350</td><td>59000</td><td>2005</td><td>Individual</td><td>2nd owner</td><td>40000</td><td>NULL</td></tr>",
                            "<tr><td>Royal Enfield Classic Chrome</td><td>185000</td><td>2015</td><td>Individual</td><td>2nd owner</td><td>5000</td><td>189313</td></tr>",
                            "<tr><td>Royal Enfield Classic Gunmetal Grey</td><td>140000</td><td>2018</td><td>Individual</td><td>1st owner</td><td>14000</td><td>148114</td></tr>",
                            "<tr><td>KTM 390 Duke</td><td>205000</td><td>2018</td><td>Individual</td><td>1st owner</td><td>7500</td><td>NULL</td></tr>",
                            "<tr><td>Hero Pleasure [2005-2015]</td><td>30000</td><td>2013</td><td>Individual</td><td>1st owner</td><td>25000</td><td>46779</td></tr>",
                            "<tr><td>TVS Victor</td><td>18000</td><td>2004</td><td>Individual</td><td>1st owner</td><td>46700</td><td>54852</td></tr>",
                            "<tr><td>Bajaj Pulsar 150</td><td>35000</td><td>2011</td><td>Individual</td><td>1st owner</td><td>12000</td><td>NULL</td></tr>",
                            "<tr><td>KTM RC 200</td><td>185000</td><td>2019</td><td>Individual</td><td>1st owner</td><td>6000</td><td>NULL</td></tr>",
                            "<tr><td>Kawasaki Ninja 300</td><td>300000</td><td>2016</td><td>Individual</td><td>1st owner</td><td>9800</td><td>360000</td></tr>",
                            "<tr><td>Honda Dream Yuga</td><td>30000</td><td>2015</td><td>Individual</td><td>2nd owner</td><td>46070</td><td>56147</td></tr>",
                            "<tr><td>Bajaj Pulsar 150</td><td>35000</td><td>2009</td><td>Individual</td><td>1st owner</td><td>14500</td><td>NULL</td></tr>",
                            "<tr><td>Bajaj Pulsar 150 [2001-2011]</td><td>35000</td><td>2008</td><td>Individual</td><td>1st owner</td><td>70000</td><td>NULL</td></tr>",
                            "<tr><td>Hero Honda Passion Plus</td><td>25000</td><td>2008</td><td>Dealer</td><td>2nd owner</td><td>100000</td><td>NULL</td></tr>",
                            "<tr><td>Yamaha YZF R15 [2011-2018]</td><td>80000</td><td>2013</td><td>Dealer</td><td>1st owner</td><td>30000</td><td>118997</td></tr>",
                            "<tr><td>Hero Honda Splendor Plus</td><td>20000</td><td>2004</td><td>Individual</td><td>2nd owner</td><td>127000</td><td>NULL</td></tr>",
                            "<tr><td>Hero Karizma ZMR</td><td>43000</td><td>2012</td><td>Individual</td><td>2nd owner</td><td>63000</td><td>108000</td></tr>",
                            "<tr><td>Hero Honda Splendor Plus</td><td>20000</td><td>2010</td><td>Individual</td><td>2nd owner</td><td>30000</td><td>NULL</td></tr>",
                            "<tr><td>Yo Style</td><td>20000</td><td>2011</td><td>Individual</td><td>1st owner</td><td>10000</td><td>37675</td></tr>",
                            "<tr><td>Hero Splendor iSmart</td><td>40000</td><td>2015</td><td>Individual</td><td>1st owner</td><td>10000</td><td>52271</td></tr>",
                            "<tr><td>Hero Super Splendor</td><td>30000</td><td>2011</td><td>Individual</td><td>1st owner</td><td>89000</td><td>NULL</td></tr>",
                            "<tr><td>Bajaj Discover 100</td><td>21000</td><td>2009</td><td>Individual</td><td>1st owner</td><td>50000</td><td>42859</td></tr>",
                            "<tr><td>Yamaha Fazer [2009-2016]</td><td>35000</td><td>2011</td><td>Individual</td><td>1st owner</td><td>15500</td><td>84751</td></tr>",
                            "<tr><td>Bajaj Discover 125</td><td>23000</td><td>2011</td><td>Individual</td><td>1st owner</td><td>66000</td><td>57549</td></tr>",
                            "<tr><td>Hero Super Splendor</td><td>40000</td><td>2017</td><td>Individual</td><td>2nd owner</td><td>80000</td><td>NULL</td></tr>",
                            "<tr><td>Honda Shine</td><td>40000</td><td>2011</td><td>Individual</td><td>1st owner</td><td>8600</td><td>NULL</td></tr>",
                            "<tr><td>Bajaj Discover 125 M</td><td>45000</td><td>2014</td><td>Individual</td><td>1st owner</td><td>40000</td><td>47186</td></tr>",
                            "<tr><td>Bajaj Avenger Street 150 [2018]</td><td>60000</td><td>2016</td><td>Individual</td><td>1st owner</td><td>25000</td><td>80435</td></tr>",
                            "<tr><td>Yamaha Fazer [2009-2016]</td><td>40000</td><td>2013</td><td>Individual</td><td>1st owner</td><td>34500</td><td>84751</td></tr>",
                            "<tr><td>Hero Passion X Pro [2016-2017]</td><td>42000</td><td>2016</td><td>Individual</td><td>1st owner</td><td>15500</td><td>59095</td></tr>",
                            "<tr><td>Honda Activa [2000-2015]</td><td>18000</td><td>2011</td><td>Individual</td><td>1st owner</td><td>28000</td><td>50267</td></tr>",
                            "<tr><td>TVS Star City</td><td>15000</td><td>2006</td><td>Individual</td><td>1st owner</td><td>40000</td><td>46575</td></tr>",
                            "<tr><td>Hero Honda Hunk</td><td>45000</td><td>2013</td><td>Individual</td><td>1st owner</td><td>40000</td><td>NULL</td></tr>",
                            "<tr><td>TVS Star City</td><td>25000</td><td>2016</td><td>Individual</td><td>1st owner</td><td>50000</td><td>47108</td></tr>",
                            "<tr><td>Bajaj Pulsar 150</td><td>70000</td><td>2017</td><td>Individual</td><td>1st owner</td><td>24000</td><td>NULL</td></tr>",
                            "<tr><td>Bajaj Discover 100</td><td>23000</td><td>2012</td><td>Individual</td><td>1st owner</td><td>50000</td><td>42859</td></tr>",
                            "<tr><td>TVS Victor</td><td>10000</td><td>2005</td><td>Individual</td><td>1st owner</td><td>55000</td><td>54852</td></tr>",
                            "<tr><td>Hero Honda Splendor Plus</td><td>25000</td><td>2012</td><td>Individual</td><td>1st owner</td><td>70000</td><td>NULL</td></tr>",
                            "<tr><td>Honda Aviator</td><td>25000</td><td>2012</td><td>Individual</td><td>2nd owner</td><td>12000</td><td>59183</td></tr>",
                            "<tr><td>Bajaj Pulsar 180</td><td>50000</td><td>2010</td><td>Individual</td><td>1st owner</td><td>70000</td><td>85011</td></tr>",
                            "<tr><td>Bajaj Avenger [2015]</td><td>60000</td><td>2015</td><td>Individual</td><td>2nd owner</td><td>16000</td><td>75502</td></tr>",
                            "<tr><td>Hero CD Dawn</td><td>35000</td><td>2014</td><td>Individual</td><td>1st owner</td><td>38000</td><td>NULL</td></tr>",
                            "<tr><td>Hero Maestro</td><td>50000</td><td>2016</td><td>Individual</td><td>1st owner</td><td>100000</td><td>49412</td></tr>",
                            "<tr><td>Honda CB Shine SP</td><td>50000</td><td>2016</td><td>Individual</td><td>1st owner</td><td>45000</td><td>64750</td></tr>",
                            "<tr><td>Hero Honda CD Deluxe</td><td>25500</td><td>2012</td><td>Individual</td><td>1st owner</td><td>28990</td><td>NULL</td></tr>",
                            "<tr><td>Hero Honda Hunk</td><td>35000</td><td>2010</td><td>Individual</td><td>1st owner</td><td>13000</td><td>NULL</td></tr>",
                            "<tr><td>Hero Honda CD Deluxe</td><td>20000</td><td>2005</td><td>Individual</td><td>1st owner</td><td>15000</td><td>NULL</td></tr>",
                            "<tr><td>Honda Activa 3G</td><td>40000</td><td>2016</td><td>Individual</td><td>1st owner</td><td>60000</td><td>54605</td></tr>",
                            "<tr><td>Bajaj Pulsar 135 LS</td><td>45000</td><td>2017</td><td>Individual</td><td>1st owner</td><td>22000</td><td>64589</td></tr>",
                            "<tr><td>Bajaj Pulsar 150 [2001-2011]</td><td>30000</td><td>2008</td><td>Individual</td><td>1st owner</td><td>19500</td><td>NULL</td></tr>",
                            "<tr><td>Hero Pleasure</td><td>30000</td><td>2013</td><td>Individual</td><td>1st owner</td><td>25000</td><td>49600</td></tr>",
                            "<tr><td>Hero Honda CBZ extreme</td><td>30000</td><td>2011</td><td>Individual</td><td>3rd owner</td><td>70000</td><td>NULL</td></tr>",
                            "<tr><td>Bajaj Pulsar 150</td><td>40000</td><td>2014</td><td>Individual</td><td>2nd owner</td><td>65000</td><td>NULL</td></tr>",
                            "<tr><td>Honda CB Twister</td><td>25000</td><td>2012</td><td>Individual</td><td>1st owner</td><td>86000</td><td>53857</td></tr>",
                            "<tr><td>Honda Livo</td><td>45000</td><td>2017</td><td>Individual</td><td>1st owner</td><td>30000</td><td>NULL</td></tr>",
                            "<tr><td>Bajaj Pulsar AS200</td><td>65000</td><td>2015</td><td>Individual</td><td>1st owner</td><td>33000</td><td>92074</td></tr>",
                            "<tr><td>Honda Activa 3G</td><td>40000</td><td>2015</td><td>Individual</td><td>1st owner</td><td>36000</td><td>54605</td></tr>",
                            "<tr><td>Hero Honda Hunk</td><td>40000</td><td>2010</td><td>Individual</td><td>1st owner</td><td>41000</td><td>NULL</td></tr>",
                            "<tr><td>Honda CB Hornet 160R</td><td>70000</td><td>2017</td><td>Individual</td><td>1st owner</td><td>28000</td><td>83340</td></tr>",
                            "<tr><td>Hero HF Deluxe</td><td>35000</td><td>2018</td><td>Individual</td><td>1st owner</td><td>15000</td><td>NULL</td></tr>",
                            "<tr><td>Hero Splendor PRO</td><td>35000</td><td>2015</td><td>Individual</td><td>1st owner</td><td>35280</td><td>51994</td></tr>",
                            "<tr><td>Bajaj Boxer</td><td>15000</td><td>2004</td><td>Individual</td><td>1st owner</td><td>18000</td><td>NULL</td></tr>",
                            "<tr><td>Royal Enfield Electra 5 S</td><td>99000</td><td>2012</td><td>Individual</td><td>1st owner</td><td>28000</td><td>NULL</td></tr>",
                            "<tr><td>Royal Enfield Electra 5 S</td><td>90000</td><td>2012</td><td>Individual</td><td>1st owner</td><td>40000</td><td>NULL</td></tr>",
                            "<tr><td>Hero Honda Hunk</td><td>20000</td><td>2010</td><td>Individual</td><td>1st owner</td><td>17000</td><td>NULL</td></tr>",
                            "<tr><td>Hero Ignitor</td><td>36000</td><td>2016</td><td>Individual</td><td>1st owner</td><td>23000</td><td>65599</td></tr>",
                            "<tr><td>Bajaj Discover 100 M</td><td>32000</td><td>2014</td><td>Individual</td><td>1st owner</td><td>30000</td><td>44756</td></tr>",
                            "<tr><td>Honda Activa 3G</td><td>50000</td><td>2016</td><td>Individual</td><td>1st owner</td><td>6000</td><td>54605</td></tr>",
                            "<tr><td>Bajaj Pulsar 135 LS</td><td>50000</td><td>2015</td><td>Individual</td><td>1st owner</td><td>48000</td><td>64589</td></tr>",
                            "<tr><td>Bajaj Pulsar 220 DTS-i</td><td>60000</td><td>2014</td><td>Individual</td><td>1st owner</td><td>16000</td><td>NULL</td></tr>",
                            "<tr><td>Hero Honda CBZ extreme</td><td>40000</td><td>2009</td><td>Individual</td><td>1st owner</td><td>50000</td><td>NULL</td></tr>",
                            "<tr><td>Hero Honda CBZ extreme</td><td>35000</td><td>2012</td><td>Individual</td><td>1st owner</td><td>60000</td><td>NULL</td></tr>",
                            "<tr><td>Royal Enfield Thunder 500</td><td>175000</td><td>2018</td><td>Individual</td><td>1st owner</td><td>3000</td><td>190000</td></tr>",
                            "<tr><td>UM Renegade Mojave</td><td>170000</td><td>2019</td><td>Individual</td><td>1st owner</td><td>1400</td><td>182000</td></tr>",
                            "<tr><td>KTM RC200</td><td>165000</td><td>2019</td><td>Individual</td><td>1st owner</td><td>4000</td><td>178000</td></tr>",
                            "<tr><td>Bajaj Dominar 400</td><td>145000</td><td>2019</td><td>Individual</td><td>1st owner</td><td>1200</td><td>160000</td></tr>",
                            "<tr><td>Royal Enfield Classic 350</td><td>135000</td><td>2019</td><td>Individual</td><td>1st owner</td><td>4100</td><td>147000</td></tr>",
                            "<tr><td>KTM RC390</td><td>135000</td><td>2017</td><td>Individual</td><td>1st owner</td><td>21700</td><td>237000</td></tr>",
                            "<tr><td>Hyosung GT250R</td><td>135000</td><td>2016</td><td>Individual</td><td>2nd owner</td><td>16500</td><td>345000</td></tr>",
                            "<tr><td>Royal Enfield Thunder 350</td><td>125000</td><td>2015</td><td>Individual</td><td>1st owner</td><td>15000</td><td>150000</td></tr>",
                            "<tr><td>Royal Enfield Thunder 350</td><td>120000</td><td>2018</td><td>Individual</td><td>1st owner</td><td>18000</td><td>150000</td></tr>",
                            "<tr><td>Royal Enfield Classic 350</td><td>120000</td><td>2019</td><td>Individual</td><td>1st owner</td><td>11000</td><td>147000</td></tr>",
                            "<tr><td>KTM RC200</td><td>120000</td><td>2018</td><td>Individual</td><td>1st owner</td><td>6000</td><td>178000</td></tr>",
                            "<tr><td>Royal Enfield Thunder 350</td><td>115000</td><td>2018</td><td>Individual</td><td>1st owner</td><td>8700</td><td>150000</td></tr>",
                            "<tr><td>KTM 390 Duke </td><td>115000</td><td>2016</td><td>Individual</td><td>1st owner</td><td>7000</td><td>240000</td></tr>",
                            "<tr><td>Mahindra Mojo XT300</td><td>115000</td><td>2018</td><td>Individual</td><td>1st owner</td><td>35000</td><td>140000</td></tr>",
                            "<tr><td>Royal Enfield Classic 350</td><td>115000</td><td>2017</td><td>Individual</td><td>1st owner</td><td>17000</td><td>147000</td></tr>",
                            "<tr><td>Royal Enfield Classic 350</td><td>111000</td><td>2017</td><td>Individual</td><td>1st owner</td><td>17500</td><td>147000</td></tr>",
                            "<tr><td>Royal Enfield Classic 350</td><td>110000</td><td>2015</td><td>Individual</td><td>1st owner</td><td>33000</td><td>147000</td></tr>",
                            "<tr><td>Royal Enfield Thunder 500</td><td>110000</td><td>2017</td><td>Individual</td><td>1st owner</td><td>14000</td><td>190000</td></tr>",
                            "<tr><td>Royal Enfield Classic 350</td><td>110000</td><td>2017</td><td>Individual</td><td>1st owner</td><td>26000</td><td>147000</td></tr>",
                            "<tr><td>Royal Enfield Thunder 500</td><td>105000</td><td>2015</td><td>Individual</td><td>1st owner</td><td>5400</td><td>190000</td></tr>",
                            "<tr><td>Bajaj Pulsar RS200</td><td>105000</td><td>2018</td><td>Individual</td><td>1st owner</td><td>5700</td><td>126000</td></tr>",
                            "<tr><td>Royal Enfield Thunder 350</td><td>105000</td><td>2013</td><td>Individual</td><td>1st owner</td><td>6900</td><td>150000</td></tr>",
                            "<tr><td>Royal Enfield Bullet 350</td><td>105000</td><td>2018</td><td>Individual</td><td>1st owner</td><td>6000</td><td>117000</td></tr>",
                            "<tr><td>Royal Enfield Classic 350</td><td>100000</td><td>2015</td><td>Individual</td><td>1st owner</td><td>46500</td><td>147000</td></tr>",
                            "<tr><td>Royal Enfield Classic 500</td><td>95000</td><td>2014</td><td>Individual</td><td>1st owner</td><td>11500</td><td>175000</td></tr>",
                            "<tr><td>Royal Enfield Classic 500</td><td>90000</td><td>2011</td><td>Individual</td><td>1st owner</td><td>40000</td><td>175000</td></tr>",
                            "<tr><td>Bajaj Avenger 220</td><td>90000</td><td>2019</td><td>Individual</td><td>1st owner</td><td>1300</td><td>95000</td></tr>",
                            "<tr><td>Bajaj Avenger 150</td><td>75000</td><td>2018</td><td>Individual</td><td>1st owner</td><td>7000</td><td>80000</td></tr>",
                            "<tr><td>Honda CB Hornet 160R</td><td>80000</td><td>2019</td><td>Individual</td><td>1st owner</td><td>3000</td><td>87000</td></tr>",
                            "<tr><td>Yamaha FZ S V 2.0</td><td>78000</td><td>2019</td><td>Individual</td><td>1st owner</td><td>5000</td><td>84000</td></tr>",
                            "<tr><td>Honda CB Hornet 160R</td><td>75000</td><td>2019</td><td>Individual</td><td>1st owner</td><td>11000</td><td>87000</td></tr>",
                            "<tr><td>Yamaha FZ 16</td><td>75000</td><td>2017</td><td>Individual</td><td>1st owner</td><td>18000</td><td>82000</td></tr>",
                            "<tr><td>Bajaj Avenger 220</td><td>75000</td><td>2019</td><td>Individual</td><td>1st owner</td><td>3500</td><td>95000</td></tr>",
                            "<tr><td>Bajaj Avenger 220</td><td>72000</td><td>2018</td><td>Individual</td><td>1st owner</td><td>500</td><td>95000</td></tr>",
                            "<tr><td>TVS Apache RTR 160</td><td>65000</td><td>2019</td><td>Individual</td><td>1st owner</td><td>11800</td><td>81000</td></tr>",
                            "<tr><td>Bajaj Pulsar 150</td><td>65000</td><td>2017</td><td>Individual</td><td>1st owner</td><td>5000</td><td>74000</td></tr>",
                            "<tr><td>Honda CBR 150</td><td>65000</td><td>2016</td><td>Individual</td><td>1st owner</td><td>23500</td><td>120000</td></tr>",
                            "<tr><td>Hero Extreme</td><td>65000</td><td>2015</td><td>Individual</td><td>1st owner</td><td>16000</td><td>78700</td></tr>",
                            "<tr><td>Honda CB Hornet 160R</td><td>60000</td><td>2018</td><td>Individual</td><td>1st owner</td><td>15000</td><td>87000</td></tr>",
                            "<tr><td>Bajaj Avenger 220 dtsi</td><td>60000</td><td>2017</td><td>Individual</td><td>1st owner</td><td>16600</td><td>95000</td></tr>",
                            "<tr><td>Honda CBR 150</td><td>60000</td><td>2015</td><td>Individual</td><td>1st owner</td><td>32000</td><td>120000</td></tr>",
                            "<tr><td>Bajaj Avenger 150 street</td><td>60000</td><td>2018</td><td>Individual</td><td>1st owner</td><td>20000</td><td>80000</td></tr>",
                            "<tr><td>Yamaha FZ  v 2.0</td><td>60000</td><td>2017</td><td>Individual</td><td>1st owner</td><td>29000</td><td>84000</td></tr>",
                            "<tr><td>Yamaha FZ  v 2.0</td><td>60000</td><td>2018</td><td>Individual</td><td>1st owner</td><td>25000</td><td>84000</td></tr>",
                            "<tr><td>Bajaj Pulsar  NS 200</td><td>60000</td><td>2016</td><td>Individual</td><td>1st owner</td><td>25000</td><td>99000</td></tr>",
                            "<tr><td>TVS Apache RTR 160</td><td>60000</td><td>2014</td><td>Individual</td><td>1st owner</td><td>19000</td><td>81000</td></tr>",
                            "<tr><td>Hero Extreme</td><td>55000</td><td>2016</td><td>Individual</td><td>1st owner</td><td>15000</td><td>78700</td></tr>",
                            "<tr><td>Yamaha FZ S V 2.0</td><td>55000</td><td>2017</td><td>Individual</td><td>1st owner</td><td>58000</td><td>84000</td></tr>",
                            "<tr><td>Bajaj Pulsar 220 F</td><td>52000</td><td>2012</td><td>Individual</td><td>1st owner</td><td>45000</td><td>94000</td></tr>",
                            "<tr><td>Bajaj Pulsar 220 F</td><td>51000</td><td>2018</td><td>Individual</td><td>1st owner</td><td>24000</td><td>94000</td></tr>",
                            "<tr><td>TVS Apache RTR 180</td><td>50000</td><td>2013</td><td>Individual</td><td>1st owner</td><td>6000</td><td>82600</td></tr>",
                            "<tr><td>Hero Passion X pro</td><td>50000</td><td>2018</td><td>Individual</td><td>1st owner</td><td>31000</td><td>55000</td></tr>",
                            "<tr><td>Bajaj Pulsar NS 200</td><td>50000</td><td>2014</td><td>Individual</td><td>1st owner</td><td>13000</td><td>99000</td></tr>",
                            "<tr><td>Bajaj Pulsar NS 200</td><td>50000</td><td>2015</td><td>Individual</td><td>1st owner</td><td>45000</td><td>99000</td></tr>",
                            "<tr><td>Yamaha Fazer </td><td>50000</td><td>2016</td><td>Individual</td><td>1st owner</td><td>8000</td><td>88000</td></tr>",
                            "<tr><td>Honda Activa 4G</td><td>48000</td><td>2019</td><td>Individual</td><td>1st owner</td><td>4300</td><td>51000</td></tr>",
                            "<tr><td>TVS Sport </td><td>48000</td><td>2019</td><td>Individual</td><td>1st owner</td><td>15000</td><td>52000</td></tr>",
                            "<tr><td>Yamaha FZ S V 2.0</td><td>48000</td><td>2017</td><td>Individual</td><td>1st owner</td><td>23000</td><td>84000</td></tr>",
                            "<tr><td>Honda Dream Yuga </td><td>48000</td><td>2019</td><td>Individual</td><td>1st owner</td><td>8600</td><td>54000</td></tr>",
                            "<tr><td>Honda Activa 4G</td><td>45000</td><td>2019</td><td>Individual</td><td>1st owner</td><td>4000</td><td>51000</td></tr>",
                            "<tr><td>Bajaj Avenger Street 220</td><td>45000</td><td>2013</td><td>Individual</td><td>1st owner</td><td>24000</td><td>95000</td></tr>",
                            "<tr><td>TVS Apache RTR 180</td><td>45000</td><td>2016</td><td>Individual</td><td>1st owner</td><td>23000</td><td>82600</td></tr>",
                            "<tr><td>Bajaj Pulsar NS 200</td><td>45000</td><td>2014</td><td>Individual</td><td>1st owner</td><td>14500</td><td>99000</td></tr>",
                            "<tr><td>Bajaj Avenger 220 dtsi</td><td>45000</td><td>2012</td><td>Individual</td><td>1st owner</td><td>27000</td><td>95000</td></tr>",
                            "<tr><td>Hero Splender iSmart</td><td>45000</td><td>2018</td><td>Individual</td><td>1st owner</td><td>14000</td><td>54000</td></tr>",
                            "<tr><td>Activa 3g</td><td>45000</td><td>2018</td><td>Individual</td><td>1st owner</td><td>500</td><td>54000</td></tr>",
                            "<tr><td>Hero Passion Pro</td><td>45000</td><td>2018</td><td>Individual</td><td>1st owner</td><td>1000</td><td>55000</td></tr>",
                            "<tr><td>TVS Apache RTR 160</td><td>42000</td><td>2016</td><td>Individual</td><td>1st owner</td><td>42000</td><td>81000</td></tr>",
                            "<tr><td>Honda CB Trigger</td><td>42000</td><td>2015</td><td>Individual</td><td>1st owner</td><td>12000</td><td>73000</td></tr>",
                            "<tr><td>Hero Splender iSmart</td><td>40000</td><td>2017</td><td>Individual</td><td>1st owner</td><td>14000</td><td>54000</td></tr>",
                            "<tr><td>Yamaha FZ S </td><td>40000</td><td>2014</td><td>Individual</td><td>1st owner</td><td>5500</td><td>83000</td></tr>",
                            "<tr><td>Hero Passion Pro</td><td>40000</td><td>2017</td><td>Individual</td><td>1st owner</td><td>6700</td><td>55000</td></tr>",
                            "<tr><td>Bajaj Pulsar 135 LS</td><td>40000</td><td>2016</td><td>Individual</td><td>1st owner</td><td>13700</td><td>64000</td></tr>",
                            "<tr><td>Activa 4g</td><td>40000</td><td>2019</td><td>Individual</td><td>1st owner</td><td>1300</td><td>51000</td></tr>",
                            "<tr><td>Honda CB Unicorn</td><td>38000</td><td>2017</td><td>Individual</td><td>1st owner</td><td>38600</td><td>72000</td></tr>",
                            "<tr><td>Hero Honda CBZ extreme</td><td>38000</td><td>2013</td><td>Individual</td><td>1st owner</td><td>75000</td><td>78700</td></tr>",
                            "<tr><td>Honda Karizma</td><td>35000</td><td>2013</td><td>Individual</td><td>1st owner</td><td>30000</td><td>105000</td></tr>",
                            "<tr><td>Honda Activa 125</td><td>35000</td><td>2018</td><td>Individual</td><td>1st owner</td><td>24000</td><td>57000</td></tr>",
                            "<tr><td>TVS Jupyter</td><td>35000</td><td>2016</td><td>Individual</td><td>1st owner</td><td>19000</td><td>52000</td></tr>",
                            "<tr><td>Honda Karizma</td><td>31000</td><td>2012</td><td>Individual</td><td>1st owner</td><td>213000</td><td>105000</td></tr>",
                            "<tr><td>Hero Honda Passion Pro</td><td>30000</td><td>2014</td><td>Individual</td><td>1st owner</td><td>60000</td><td>51000</td></tr>",
                            "<tr><td>Hero Splender Plus</td><td>30000</td><td>2018</td><td>Individual</td><td>1st owner</td><td>50000</td><td>48000</td></tr>",
                            "<tr><td>Honda CB Shine</td><td>30000</td><td>2015</td><td>Individual</td><td>1st owner</td><td>30000</td><td>58000</td></tr>",
                            "<tr><td>Bajaj Discover 100</td><td>27000</td><td>2015</td><td>Individual</td><td>1st owner</td><td>21000</td><td>47000</td></tr>",
                            "<tr><td>Bajaj Pulsar 150</td><td>25000</td><td>2010</td><td>Individual</td><td>2nd owner</td><td>26000</td><td>75000</td></tr>",
                            "<tr><td>Suzuki Access 125</td><td>25000</td><td>2010</td><td>Individual</td><td>1st owner</td><td>1900</td><td>58000</td></tr>",
                            "<tr><td>TVS Wego</td><td>25000</td><td>2012</td><td>Individual</td><td>1st owner</td><td>22000</td><td>52000</td></tr>",
                            "<tr><td>Honda CB twister</td><td>25000</td><td>2015</td><td>Individual</td><td>1st owner</td><td>32000</td><td>51000</td></tr>",
                            "<tr><td>Hero Glamour</td><td>25000</td><td>2015</td><td>Individual</td><td>1st owner</td><td>18000</td><td>57000</td></tr>",
                            "<tr><td>Hero Super Splendor</td><td>20000</td><td>2007</td><td>Individual</td><td>1st owner</td><td>55000</td><td>57000</td></tr>",
                            "<tr><td>Bajaj Pulsar 150</td><td>20000</td><td>2010</td><td>Individual</td><td>1st owner</td><td>60000</td><td>75000</td></tr>",
                            "<tr><td>Bajaj Discover 125</td><td>20000</td><td>2014</td><td>Individual</td><td>2nd owner</td><td>25000</td><td>57000</td></tr>",
                            "<tr><td>Hero Hunk</td><td>20000</td><td>2009</td><td>Individual</td><td>2nd owner</td><td>49000</td><td>75000</td></tr>",
                            "<tr><td>Hero  Ignitor Disc</td><td>20000</td><td>2015</td><td>Individual</td><td>2nd owner</td><td>24000</td><td>65000</td></tr>",
                            "<tr><td>Hero  CBZ Xtreme</td><td>20000</td><td>2010</td><td>Individual</td><td>1st owner</td><td>50000</td><td>78700</td></tr>",
                            "<tr><td>Bajaj  ct 100</td><td>18000</td><td>2017</td><td>Individual</td><td>1st owner</td><td>35000</td><td>32000</td></tr>",
                            "<tr><td>Activa 3g</td><td>17000</td><td>2010</td><td>Individual</td><td>1st owner</td><td>500000</td><td>52000</td></tr>",
                            "<tr><td>Honda CB twister</td><td>16000</td><td>2012</td><td>Individual</td><td>1st owner</td><td>33000</td><td>51000</td></tr>",
                            "<tr><td>Bajaj Discover 125</td><td>15000</td><td>2013</td><td>Individual</td><td>2nd owner</td><td>35000</td><td>57000</td></tr>",
                            "<tr><td>Honda CB Shine</td><td>12000</td><td>2009</td><td>Individual</td><td>1st owner</td><td>53000</td><td>58000</td></tr>",
                            "<tr><td>Bajaj Pulsar 150</td><td>10000</td><td>2008</td><td>Individual</td><td>1st owner</td><td>92233</td><td>75000</td></tr>",
                            "</table>"
                        ]
                    }
                },
                {
                    "output_type": "execute_result",
                    "metadata": {},
                    "execution_count": 6,
                    "data": {
                        "application/vnd.dataresource+json": {
                            "schema": {
                                "fields": [
                                    {
                                        "name": "bike_count"
                                    }
                                ]
                            },
                            "data": [
                                {
                                    "0": "1061"
                                }
                            ]
                        },
                        "text/html": [
                            "<table>",
                            "<tr><th>bike_count</th></tr>",
                            "<tr><td>1061</td></tr>",
                            "</table>"
                        ]
                    }
                }
            ],
            "execution_count": 6
        },
        {
            "cell_type": "code",
            "source": [
                "SELECT year, \r\n",
                "       AVG(selling_price) as Average_selling_price,\r\n",
                "       SUM(selling_price) as Inventory_value\r\n",
                "FROM [azure-sql-practice].[dbo].[bike_details]\r\n",
                "WHERE year>2007\r\n",
                "GROUP BY [year]\r\n",
                "HAVING AVG(selling_price) > 100000\r\n",
                "ORDER BY [year]"
            ],
            "metadata": {
                "azdata_cell_guid": "b06b0fca-134e-4f1c-9c94-5dc9c95239d8",
                "language": "sql"
            },
            "outputs": [
                {
                    "output_type": "display_data",
                    "data": {
                        "text/html": "(2 rows affected)"
                    },
                    "metadata": {}
                },
                {
                    "output_type": "display_data",
                    "data": {
                        "text/html": "Total execution time: 00:00:00.070"
                    },
                    "metadata": {}
                },
                {
                    "output_type": "execute_result",
                    "metadata": {},
                    "execution_count": 4,
                    "data": {
                        "application/vnd.dataresource+json": {
                            "schema": {
                                "fields": [
                                    {
                                        "name": "year"
                                    },
                                    {
                                        "name": "Average_selling_price"
                                    },
                                    {
                                        "name": "Inventory_value"
                                    }
                                ]
                            },
                            "data": [
                                {
                                    "0": "2019",
                                    "1": "119689",
                                    "2": "10293298"
                                },
                                {
                                    "0": "2020",
                                    "1": "183333",
                                    "2": "550000"
                                }
                            ]
                        },
                        "text/html": [
                            "<table>",
                            "<tr><th>year</th><th>Average_selling_price</th><th>Inventory_value</th></tr>",
                            "<tr><td>2019</td><td>119689</td><td>10293298</td></tr>",
                            "<tr><td>2020</td><td>183333</td><td>550000</td></tr>",
                            "</table>"
                        ]
                    }
                }
            ],
            "execution_count": 4
        },
        {
            "cell_type": "code",
            "source": [
                "SELECT year, \r\n",
                "       MAX(selling_price) AS Max_selling_price,\r\n",
                "       MIN(selling_price) AS Min_selling_price,\r\n",
                "       STDEV(selling_price) AS Stdev_selling_price\r\n",
                "FROM [azure-sql-practice].[dbo].[bike_details]\r\n",
                "WHERE [year]>2010\r\n",
                "GROUP BY [year]"
            ],
            "metadata": {
                "language": "sql",
                "azdata_cell_guid": "3f43cf89-2f63-4e9b-a811-4580c1b6ce17"
            },
            "outputs": [
                {
                    "output_type": "display_data",
                    "data": {
                        "text/html": "(10 rows affected)"
                    },
                    "metadata": {}
                },
                {
                    "output_type": "display_data",
                    "data": {
                        "text/html": "Total execution time: 00:00:00.068"
                    },
                    "metadata": {}
                },
                {
                    "output_type": "execute_result",
                    "metadata": {},
                    "execution_count": 5,
                    "data": {
                        "application/vnd.dataresource+json": {
                            "schema": {
                                "fields": [
                                    {
                                        "name": "year"
                                    },
                                    {
                                        "name": "Max_selling_price"
                                    },
                                    {
                                        "name": "Min_selling_price"
                                    },
                                    {
                                        "name": "Stdev_selling_price"
                                    }
                                ]
                            },
                            "data": [
                                {
                                    "0": "2013",
                                    "1": "750000",
                                    "2": "15000",
                                    "3": "85138.17446893366"
                                },
                                {
                                    "0": "2016",
                                    "1": "300000",
                                    "2": "23000",
                                    "3": "36006.245801742465"
                                },
                                {
                                    "0": "2019",
                                    "1": "760000",
                                    "2": "40000",
                                    "3": "96703.35067748585"
                                },
                                {
                                    "0": "2020",
                                    "1": "190000",
                                    "2": "175000",
                                    "3": "7637.6261582599"
                                },
                                {
                                    "0": "2014",
                                    "1": "330000",
                                    "2": "15000",
                                    "3": "36973.05288726696"
                                },
                                {
                                    "0": "2011",
                                    "1": "300000",
                                    "2": "15000",
                                    "3": "37992.053512162754"
                                },
                                {
                                    "0": "2017",
                                    "1": "425000",
                                    "2": "18000",
                                    "3": "50627.91527825975"
                                },
                                {
                                    "0": "2012",
                                    "1": "100000",
                                    "2": "12000",
                                    "3": "19431.170589425703"
                                },
                                {
                                    "0": "2018",
                                    "1": "300000",
                                    "2": "30000",
                                    "3": "46394.46964577631"
                                },
                                {
                                    "0": "2015",
                                    "1": "185000",
                                    "2": "20000",
                                    "3": "35627.27929975892"
                                }
                            ]
                        },
                        "text/html": [
                            "<table>",
                            "<tr><th>year</th><th>Max_selling_price</th><th>Min_selling_price</th><th>Stdev_selling_price</th></tr>",
                            "<tr><td>2013</td><td>750000</td><td>15000</td><td>85138.17446893366</td></tr>",
                            "<tr><td>2016</td><td>300000</td><td>23000</td><td>36006.245801742465</td></tr>",
                            "<tr><td>2019</td><td>760000</td><td>40000</td><td>96703.35067748585</td></tr>",
                            "<tr><td>2020</td><td>190000</td><td>175000</td><td>7637.6261582599</td></tr>",
                            "<tr><td>2014</td><td>330000</td><td>15000</td><td>36973.05288726696</td></tr>",
                            "<tr><td>2011</td><td>300000</td><td>15000</td><td>37992.053512162754</td></tr>",
                            "<tr><td>2017</td><td>425000</td><td>18000</td><td>50627.91527825975</td></tr>",
                            "<tr><td>2012</td><td>100000</td><td>12000</td><td>19431.170589425703</td></tr>",
                            "<tr><td>2018</td><td>300000</td><td>30000</td><td>46394.46964577631</td></tr>",
                            "<tr><td>2015</td><td>185000</td><td>20000</td><td>35627.27929975892</td></tr>",
                            "</table>"
                        ]
                    }
                }
            ],
            "execution_count": 5
        },
        {
            "cell_type": "code",
            "source": [
                "SELECT APPROX_COUNT_DISTINCT(name) AS Approx_distinct_bike_name, COUNT(DISTINCT name) AS Distinct_bike_name\r\n",
                "FROM [azure-sql-practice].[dbo].[bike_details];"
            ],
            "metadata": {
                "language": "sql",
                "azdata_cell_guid": "80b7f904-0fa7-4b5c-b7e7-63ba09d15d2e"
            },
            "outputs": [
                {
                    "output_type": "display_data",
                    "data": {
                        "text/html": "(1 row affected)"
                    },
                    "metadata": {}
                },
                {
                    "output_type": "display_data",
                    "data": {
                        "text/html": "Total execution time: 00:00:00.045"
                    },
                    "metadata": {}
                },
                {
                    "output_type": "execute_result",
                    "metadata": {},
                    "execution_count": 7,
                    "data": {
                        "application/vnd.dataresource+json": {
                            "schema": {
                                "fields": [
                                    {
                                        "name": "Approx_distinct_bike_name"
                                    },
                                    {
                                        "name": "Distinct_bike_name"
                                    }
                                ]
                            },
                            "data": [
                                {
                                    "0": "276",
                                    "1": "275"
                                }
                            ]
                        },
                        "text/html": [
                            "<table>",
                            "<tr><th>Approx_distinct_bike_name</th><th>Distinct_bike_name</th></tr>",
                            "<tr><td>276</td><td>275</td></tr>",
                            "</table>"
                        ]
                    }
                }
            ],
            "execution_count": 7
        },
        {
            "cell_type": "code",
            "source": [
                "SELECT * FROM [azure-sql-practice].[sys].[database_files];"
            ],
            "metadata": {
                "language": "sql",
                "azdata_cell_guid": "1a70bbc4-1aa4-4525-8c2d-716b004c4879"
            },
            "outputs": [
                {
                    "output_type": "display_data",
                    "data": {
                        "text/html": "(2 rows affected)"
                    },
                    "metadata": {}
                },
                {
                    "output_type": "display_data",
                    "data": {
                        "text/html": "Total execution time: 00:00:00.087"
                    },
                    "metadata": {}
                },
                {
                    "output_type": "execute_result",
                    "metadata": {},
                    "execution_count": 12,
                    "data": {
                        "application/vnd.dataresource+json": {
                            "schema": {
                                "fields": [
                                    {
                                        "name": "file_id"
                                    },
                                    {
                                        "name": "file_guid"
                                    },
                                    {
                                        "name": "type"
                                    },
                                    {
                                        "name": "type_desc"
                                    },
                                    {
                                        "name": "data_space_id"
                                    },
                                    {
                                        "name": "name"
                                    },
                                    {
                                        "name": "physical_name"
                                    },
                                    {
                                        "name": "state"
                                    },
                                    {
                                        "name": "state_desc"
                                    },
                                    {
                                        "name": "size"
                                    },
                                    {
                                        "name": "max_size"
                                    },
                                    {
                                        "name": "growth"
                                    },
                                    {
                                        "name": "is_media_read_only"
                                    },
                                    {
                                        "name": "is_read_only"
                                    },
                                    {
                                        "name": "is_sparse"
                                    },
                                    {
                                        "name": "is_percent_growth"
                                    },
                                    {
                                        "name": "is_name_reserved"
                                    },
                                    {
                                        "name": "is_persistent_log_buffer"
                                    },
                                    {
                                        "name": "create_lsn"
                                    },
                                    {
                                        "name": "drop_lsn"
                                    },
                                    {
                                        "name": "read_only_lsn"
                                    },
                                    {
                                        "name": "read_write_lsn"
                                    },
                                    {
                                        "name": "differential_base_lsn"
                                    },
                                    {
                                        "name": "differential_base_guid"
                                    },
                                    {
                                        "name": "differential_base_time"
                                    },
                                    {
                                        "name": "redo_start_lsn"
                                    },
                                    {
                                        "name": "redo_start_fork_guid"
                                    },
                                    {
                                        "name": "redo_target_lsn"
                                    },
                                    {
                                        "name": "redo_target_fork_guid"
                                    },
                                    {
                                        "name": "backup_lsn"
                                    }
                                ]
                            },
                            "data": [
                                {
                                    "0": "1",
                                    "1": "66a9ef10-7c61-4b4b-9734-02bc4de3f8eb",
                                    "2": "0",
                                    "3": "ROWS",
                                    "4": "1",
                                    "5": "azure-sql-practice",
                                    "6": "C:\\Program Files\\Microsoft SQL Server\\MSSQL15.PRANOY\\MSSQL\\DATA\\azure-sql-practice.mdf",
                                    "7": "0",
                                    "8": "ONLINE",
                                    "9": "1024",
                                    "10": "-1",
                                    "11": "8192",
                                    "12": "0",
                                    "13": "0",
                                    "14": "0",
                                    "15": "0",
                                    "16": "0",
                                    "17": "0",
                                    "18": "NULL",
                                    "19": "NULL",
                                    "20": "NULL",
                                    "21": "NULL",
                                    "22": "NULL",
                                    "23": "NULL",
                                    "24": "NULL",
                                    "25": "NULL",
                                    "26": "NULL",
                                    "27": "NULL",
                                    "28": "NULL",
                                    "29": "NULL"
                                },
                                {
                                    "0": "2",
                                    "1": "bdf95875-8f48-48dd-8784-800eac256510",
                                    "2": "1",
                                    "3": "LOG",
                                    "4": "0",
                                    "5": "azure-sql-practice_log",
                                    "6": "C:\\Program Files\\Microsoft SQL Server\\MSSQL15.PRANOY\\MSSQL\\DATA\\azure-sql-practice_log.ldf",
                                    "7": "0",
                                    "8": "ONLINE",
                                    "9": "1024",
                                    "10": "268435456",
                                    "11": "8192",
                                    "12": "0",
                                    "13": "0",
                                    "14": "0",
                                    "15": "0",
                                    "16": "0",
                                    "17": "0",
                                    "18": "NULL",
                                    "19": "NULL",
                                    "20": "NULL",
                                    "21": "NULL",
                                    "22": "NULL",
                                    "23": "NULL",
                                    "24": "NULL",
                                    "25": "NULL",
                                    "26": "NULL",
                                    "27": "NULL",
                                    "28": "NULL",
                                    "29": "NULL"
                                }
                            ]
                        },
                        "text/html": [
                            "<table>",
                            "<tr><th>file_id</th><th>file_guid</th><th>type</th><th>type_desc</th><th>data_space_id</th><th>name</th><th>physical_name</th><th>state</th><th>state_desc</th><th>size</th><th>max_size</th><th>growth</th><th>is_media_read_only</th><th>is_read_only</th><th>is_sparse</th><th>is_percent_growth</th><th>is_name_reserved</th><th>is_persistent_log_buffer</th><th>create_lsn</th><th>drop_lsn</th><th>read_only_lsn</th><th>read_write_lsn</th><th>differential_base_lsn</th><th>differential_base_guid</th><th>differential_base_time</th><th>redo_start_lsn</th><th>redo_start_fork_guid</th><th>redo_target_lsn</th><th>redo_target_fork_guid</th><th>backup_lsn</th></tr>",
                            "<tr><td>1</td><td>66a9ef10-7c61-4b4b-9734-02bc4de3f8eb</td><td>0</td><td>ROWS</td><td>1</td><td>azure-sql-practice</td><td>C:\\Program Files\\Microsoft SQL Server\\MSSQL15.PRANOY\\MSSQL\\DATA\\azure-sql-practice.mdf</td><td>0</td><td>ONLINE</td><td>1024</td><td>-1</td><td>8192</td><td>0</td><td>0</td><td>0</td><td>0</td><td>0</td><td>0</td><td>NULL</td><td>NULL</td><td>NULL</td><td>NULL</td><td>NULL</td><td>NULL</td><td>NULL</td><td>NULL</td><td>NULL</td><td>NULL</td><td>NULL</td><td>NULL</td></tr>",
                            "<tr><td>2</td><td>bdf95875-8f48-48dd-8784-800eac256510</td><td>1</td><td>LOG</td><td>0</td><td>azure-sql-practice_log</td><td>C:\\Program Files\\Microsoft SQL Server\\MSSQL15.PRANOY\\MSSQL\\DATA\\azure-sql-practice_log.ldf</td><td>0</td><td>ONLINE</td><td>1024</td><td>268435456</td><td>8192</td><td>0</td><td>0</td><td>0</td><td>0</td><td>0</td><td>0</td><td>NULL</td><td>NULL</td><td>NULL</td><td>NULL</td><td>NULL</td><td>NULL</td><td>NULL</td><td>NULL</td><td>NULL</td><td>NULL</td><td>NULL</td><td>NULL</td></tr>",
                            "</table>"
                        ]
                    }
                }
            ],
            "execution_count": 12
        },
        {
            "cell_type": "code",
            "source": [
                "SELECT * FROM [azure-sql-practice].[sys].[partition_functions];"
            ],
            "metadata": {
                "language": "sql",
                "azdata_cell_guid": "f4d89a26-5e55-471e-a183-02754e670977"
            },
            "outputs": [
                {
                    "output_type": "display_data",
                    "data": {
                        "text/html": "(1 row affected)"
                    },
                    "metadata": {}
                },
                {
                    "output_type": "display_data",
                    "data": {
                        "text/html": "Total execution time: 00:00:00.065"
                    },
                    "metadata": {}
                },
                {
                    "output_type": "execute_result",
                    "metadata": {},
                    "execution_count": 16,
                    "data": {
                        "application/vnd.dataresource+json": {
                            "schema": {
                                "fields": [
                                    {
                                        "name": "name"
                                    },
                                    {
                                        "name": "function_id"
                                    },
                                    {
                                        "name": "type"
                                    },
                                    {
                                        "name": "type_desc"
                                    },
                                    {
                                        "name": "fanout"
                                    },
                                    {
                                        "name": "boundary_value_on_right"
                                    },
                                    {
                                        "name": "is_system"
                                    },
                                    {
                                        "name": "create_date"
                                    },
                                    {
                                        "name": "modify_date"
                                    }
                                ]
                            },
                            "data": [
                                {
                                    "0": "sales_year_pf",
                                    "1": "65536",
                                    "2": "R ",
                                    "3": "RANGE",
                                    "4": "12",
                                    "5": "1",
                                    "6": "0",
                                    "7": "2023-04-23 00:26:25.983",
                                    "8": "2023-04-23 00:26:25.983"
                                }
                            ]
                        },
                        "text/html": [
                            "<table>",
                            "<tr><th>name</th><th>function_id</th><th>type</th><th>type_desc</th><th>fanout</th><th>boundary_value_on_right</th><th>is_system</th><th>create_date</th><th>modify_date</th></tr>",
                            "<tr><td>sales_year_pf</td><td>65536</td><td>R </td><td>RANGE</td><td>12</td><td>1</td><td>0</td><td>2023-04-23 00:26:25.983</td><td>2023-04-23 00:26:25.983</td></tr>",
                            "</table>"
                        ]
                    }
                }
            ],
            "execution_count": 16
        },
        {
            "cell_type": "code",
            "source": [
                "CREATE PARTITION FUNCTION [sales_year_pf] (datetime)\r\n",
                "AS RANGE RIGHT FOR VALUES ('2010','2011','2012',\r\n",
                "                           '2013','2014','2015',\r\n",
                "                           '2016','2017','2018',\r\n",
                "                           '2019','2020')"
            ],
            "metadata": {
                "language": "sql",
                "azdata_cell_guid": "4d24a696-0698-427d-a565-f0ce8b982638"
            },
            "outputs": [
                {
                    "output_type": "display_data",
                    "data": {
                        "text/html": "Commands completed successfully."
                    },
                    "metadata": {}
                },
                {
                    "output_type": "display_data",
                    "data": {
                        "text/html": "Total execution time: 00:00:00.010"
                    },
                    "metadata": {}
                }
            ],
            "execution_count": 14
        },
        {
            "cell_type": "code",
            "source": [
                "SELECT InputValue, \r\n",
                "$PARTITION.sales_year_pf(InputValue) AS PARTITION\r\n",
                "FROM\r\n",
                "(\r\n",
                "    VALUES\r\n",
                "    ('19971105'),\r\n",
                "    ('20090730'),\r\n",
                "    ('20210730'),\r\n",
                "    ('20260730'),\r\n",
                "    ('20120521'),\r\n",
                "    ('20150101'),\r\n",
                "    ('20151231'),\r\n",
                "    ('20160101'),\r\n",
                "    ('20190101')\r\n",
                ") AS TEST (InputValue);\r\n",
                ""
            ],
            "metadata": {
                "language": "sql",
                "azdata_cell_guid": "e9e69d09-849a-4b8f-9648-5b6f1784105f"
            },
            "outputs": [
                {
                    "output_type": "display_data",
                    "data": {
                        "text/html": "(9 rows affected)"
                    },
                    "metadata": {}
                },
                {
                    "output_type": "display_data",
                    "data": {
                        "text/html": "Total execution time: 00:00:00.049"
                    },
                    "metadata": {}
                },
                {
                    "output_type": "execute_result",
                    "metadata": {},
                    "execution_count": 17,
                    "data": {
                        "application/vnd.dataresource+json": {
                            "schema": {
                                "fields": [
                                    {
                                        "name": "InputValue"
                                    },
                                    {
                                        "name": "PARTITION"
                                    }
                                ]
                            },
                            "data": [
                                {
                                    "0": "19971105",
                                    "1": "1"
                                },
                                {
                                    "0": "20090730",
                                    "1": "1"
                                },
                                {
                                    "0": "20210730",
                                    "1": "12"
                                },
                                {
                                    "0": "20260730",
                                    "1": "12"
                                },
                                {
                                    "0": "20120521",
                                    "1": "4"
                                },
                                {
                                    "0": "20150101",
                                    "1": "7"
                                },
                                {
                                    "0": "20151231",
                                    "1": "7"
                                },
                                {
                                    "0": "20160101",
                                    "1": "8"
                                },
                                {
                                    "0": "20190101",
                                    "1": "11"
                                }
                            ]
                        },
                        "text/html": [
                            "<table>",
                            "<tr><th>InputValue</th><th>PARTITION</th></tr>",
                            "<tr><td>19971105</td><td>1</td></tr>",
                            "<tr><td>20090730</td><td>1</td></tr>",
                            "<tr><td>20210730</td><td>12</td></tr>",
                            "<tr><td>20260730</td><td>12</td></tr>",
                            "<tr><td>20120521</td><td>4</td></tr>",
                            "<tr><td>20150101</td><td>7</td></tr>",
                            "<tr><td>20151231</td><td>7</td></tr>",
                            "<tr><td>20160101</td><td>8</td></tr>",
                            "<tr><td>20190101</td><td>11</td></tr>",
                            "</table>"
                        ]
                    }
                }
            ],
            "execution_count": 17
        },
        {
            "cell_type": "code",
            "source": [
                "CREATE PARTITION SCHEME sales_year_pscheme\r\n",
                "AS PARTITION sales_year_pf\r\n",
                "ALL TO ([PRIMARY])"
            ],
            "metadata": {
                "language": "sql",
                "azdata_cell_guid": "862ff5fc-e8b3-40b6-862c-bae5ec7b6bab"
            },
            "outputs": [
                {
                    "output_type": "display_data",
                    "data": {
                        "text/html": "Partition scheme 'sales_year_pscheme' has been created successfully. 'PRIMARY' is marked as the next used filegroup in partition scheme 'sales_year_pscheme'."
                    },
                    "metadata": {}
                },
                {
                    "output_type": "display_data",
                    "data": {
                        "text/html": "Total execution time: 00:00:00.008"
                    },
                    "metadata": {}
                }
            ],
            "execution_count": 18
        },
        {
            "cell_type": "code",
            "source": [
                "SELECT * \r\n",
                "FROM [azure-sql-practice].[sys].[partition_schemes]"
            ],
            "metadata": {
                "language": "sql",
                "azdata_cell_guid": "2bb03ae0-6f97-4937-86ab-34740db28707"
            },
            "outputs": [
                {
                    "output_type": "display_data",
                    "data": {
                        "text/html": "(1 row affected)"
                    },
                    "metadata": {}
                },
                {
                    "output_type": "display_data",
                    "data": {
                        "text/html": "Total execution time: 00:00:00.007"
                    },
                    "metadata": {}
                },
                {
                    "output_type": "execute_result",
                    "metadata": {},
                    "execution_count": 22,
                    "data": {
                        "application/vnd.dataresource+json": {
                            "schema": {
                                "fields": [
                                    {
                                        "name": "name"
                                    },
                                    {
                                        "name": "data_space_id"
                                    },
                                    {
                                        "name": "type"
                                    },
                                    {
                                        "name": "type_desc"
                                    },
                                    {
                                        "name": "is_default"
                                    },
                                    {
                                        "name": "is_system"
                                    },
                                    {
                                        "name": "function_id"
                                    }
                                ]
                            },
                            "data": [
                                {
                                    "0": "sales_year_pscheme",
                                    "1": "65601",
                                    "2": "PS",
                                    "3": "PARTITION_SCHEME",
                                    "4": "0",
                                    "5": "0",
                                    "6": "65536"
                                }
                            ]
                        },
                        "text/html": [
                            "<table>",
                            "<tr><th>name</th><th>data_space_id</th><th>type</th><th>type_desc</th><th>is_default</th><th>is_system</th><th>function_id</th></tr>",
                            "<tr><td>sales_year_pscheme</td><td>65601</td><td>PS</td><td>PARTITION_SCHEME</td><td>0</td><td>0</td><td>65536</td></tr>",
                            "</table>"
                        ]
                    }
                }
            ],
            "execution_count": 22
        },
        {
            "cell_type": "code",
            "source": [
                "SELECT * FROM [azure-sql-practice].[sys].[dm_db_partition_stats]"
            ],
            "metadata": {
                "language": "sql",
                "azdata_cell_guid": "f2cfc905-ce5b-4c4f-889d-8ab5ad67da90"
            },
            "outputs": [
                {
                    "output_type": "display_data",
                    "data": {
                        "text/html": "(160 rows affected)"
                    },
                    "metadata": {}
                },
                {
                    "output_type": "display_data",
                    "data": {
                        "text/html": "Total execution time: 00:00:00.146"
                    },
                    "metadata": {}
                },
                {
                    "output_type": "execute_result",
                    "metadata": {},
                    "execution_count": 23,
                    "data": {
                        "application/vnd.dataresource+json": {
                            "schema": {
                                "fields": [
                                    {
                                        "name": "partition_id"
                                    },
                                    {
                                        "name": "object_id"
                                    },
                                    {
                                        "name": "index_id"
                                    },
                                    {
                                        "name": "partition_number"
                                    },
                                    {
                                        "name": "in_row_data_page_count"
                                    },
                                    {
                                        "name": "in_row_used_page_count"
                                    },
                                    {
                                        "name": "in_row_reserved_page_count"
                                    },
                                    {
                                        "name": "lob_used_page_count"
                                    },
                                    {
                                        "name": "lob_reserved_page_count"
                                    },
                                    {
                                        "name": "row_overflow_used_page_count"
                                    },
                                    {
                                        "name": "row_overflow_reserved_page_count"
                                    },
                                    {
                                        "name": "used_page_count"
                                    },
                                    {
                                        "name": "reserved_page_count"
                                    },
                                    {
                                        "name": "row_count"
                                    }
                                ]
                            },
                            "data": [
                                {
                                    "0": "196608",
                                    "1": "3",
                                    "2": "1",
                                    "3": "1",
                                    "4": "15",
                                    "5": "17",
                                    "6": "25",
                                    "7": "0",
                                    "8": "0",
                                    "9": "0",
                                    "10": "0",
                                    "11": "17",
                                    "12": "25",
                                    "13": "1247"
                                },
                                {
                                    "0": "327680",
                                    "1": "5",
                                    "2": "1",
                                    "3": "1",
                                    "4": "3",
                                    "5": "5",
                                    "6": "5",
                                    "7": "0",
                                    "8": "0",
                                    "9": "0",
                                    "10": "0",
                                    "11": "5",
                                    "12": "5",
                                    "13": "163"
                                },
                                {
                                    "0": "281474977103872",
                                    "1": "6",
                                    "2": "1",
                                    "3": "1",
                                    "4": "0",
                                    "5": "0",
                                    "6": "0",
                                    "7": "0",
                                    "8": "0",
                                    "9": "0",
                                    "10": "0",
                                    "11": "0",
                                    "12": "0",
                                    "13": "0"
                                },
                                {
                                    "0": "458752",
                                    "1": "7",
                                    "2": "1",
                                    "3": "1",
                                    "4": "2",
                                    "5": "4",
                                    "6": "4",
                                    "7": "0",
                                    "8": "0",
                                    "9": "0",
                                    "10": "0",
                                    "11": "4",
                                    "12": "4",
                                    "13": "193"
                                },
                                {
                                    "0": "562949953880064",
                                    "1": "7",
                                    "2": "2",
                                    "3": "1",
                                    "4": "1",
                                    "5": "2",
                                    "6": "2",
                                    "7": "0",
                                    "8": "0",
                                    "9": "0",
                                    "10": "0",
                                    "11": "2",
                                    "12": "2",
                                    "13": "193"
                                },
                                {
                                    "0": "524288",
                                    "1": "8",
                                    "2": "0",
                                    "3": "1",
                                    "4": "1",
                                    "5": "2",
                                    "6": "2",
                                    "7": "0",
                                    "8": "0",
                                    "9": "0",
                                    "10": "0",
                                    "11": "2",
                                    "12": "2",
                                    "13": "2"
                                },
                                {
                                    "0": "281474977300480",
                                    "1": "9",
                                    "2": "1",
                                    "3": "1",
                                    "4": "0",
                                    "5": "0",
                                    "6": "0",
                                    "7": "0",
                                    "8": "0",
                                    "9": "0",
                                    "10": "0",
                                    "11": "0",
                                    "12": "0",
                                    "13": "0"
                                },
                                {
                                    "0": "281474977824768",
                                    "1": "17",
                                    "2": "1",
                                    "3": "1",
                                    "4": "0",
                                    "5": "0",
                                    "6": "0",
                                    "7": "0",
                                    "8": "0",
                                    "9": "0",
                                    "10": "0",
                                    "11": "0",
                                    "12": "0",
                                    "13": "0"
                                },
                                {
                                    "0": "562949954535424",
                                    "1": "17",
                                    "2": "2",
                                    "3": "1",
                                    "4": "0",
                                    "5": "0",
                                    "6": "0",
                                    "7": "0",
                                    "8": "0",
                                    "9": "0",
                                    "10": "0",
                                    "11": "0",
                                    "12": "0",
                                    "13": "0"
                                },
                                {
                                    "0": "844424931246080",
                                    "1": "17",
                                    "2": "3",
                                    "3": "1",
                                    "4": "0",
                                    "5": "0",
                                    "6": "0",
                                    "7": "0",
                                    "8": "0",
                                    "9": "0",
                                    "10": "0",
                                    "11": "0",
                                    "12": "0",
                                    "13": "0"
                                },
                                {
                                    "0": "281474977890304",
                                    "1": "18",
                                    "2": "1",
                                    "3": "1",
                                    "4": "0",
                                    "5": "0",
                                    "6": "0",
                                    "7": "0",
                                    "8": "0",
                                    "9": "0",
                                    "10": "0",
                                    "11": "0",
                                    "12": "0",
                                    "13": "0"
                                },
                                {
                                    "0": "562949954600960",
                                    "1": "18",
                                    "2": "2",
                                    "3": "1",
                                    "4": "0",
                                    "5": "0",
                                    "6": "0",
                                    "7": "0",
                                    "8": "0",
                                    "9": "0",
                                    "10": "0",
                                    "11": "0",
                                    "12": "0",
                                    "13": "0"
                                },
                                {
                                    "0": "281474977955840",
                                    "1": "19",
                                    "2": "1",
                                    "3": "1",
                                    "4": "0",
                                    "5": "0",
                                    "6": "0",
                                    "7": "0",
                                    "8": "0",
                                    "9": "0",
                                    "10": "0",
                                    "11": "0",
                                    "12": "0",
                                    "13": "0"
                                },
                                {
                                    "0": "281474978021376",
                                    "1": "20",
                                    "2": "1",
                                    "3": "1",
                                    "4": "1",
                                    "5": "2",
                                    "6": "2",
                                    "7": "0",
                                    "8": "0",
                                    "9": "0",
                                    "10": "0",
                                    "11": "2",
                                    "12": "2",
                                    "13": "2"
                                },
                                {
                                    "0": "281474978086912",
                                    "1": "21",
                                    "2": "1",
                                    "3": "1",
                                    "4": "0",
                                    "5": "0",
                                    "6": "0",
                                    "7": "0",
                                    "8": "0",
                                    "9": "0",
                                    "10": "0",
                                    "11": "0",
                                    "12": "0",
                                    "13": "0"
                                },
                                {
                                    "0": "281474978152448",
                                    "1": "22",
                                    "2": "1",
                                    "3": "1",
                                    "4": "0",
                                    "5": "0",
                                    "6": "0",
                                    "7": "0",
                                    "8": "0",
                                    "9": "0",
                                    "10": "0",
                                    "11": "0",
                                    "12": "0",
                                    "13": "0"
                                },
                                {
                                    "0": "281474978217984",
                                    "1": "23",
                                    "2": "1",
                                    "3": "1",
                                    "4": "1",
                                    "5": "2",
                                    "6": "2",
                                    "7": "0",
                                    "8": "0",
                                    "9": "0",
                                    "10": "0",
                                    "11": "2",
                                    "12": "2",
                                    "13": "1"
                                },
                                {
                                    "0": "281474978283520",
                                    "1": "24",
                                    "2": "1",
                                    "3": "1",
                                    "4": "1",
                                    "5": "2",
                                    "6": "2",
                                    "7": "0",
                                    "8": "0",
                                    "9": "0",
                                    "10": "0",
                                    "11": "2",
                                    "12": "2",
                                    "13": "2"
                                },
                                {
                                    "0": "281474978349056",
                                    "1": "25",
                                    "2": "1",
                                    "3": "1",
                                    "4": "0",
                                    "5": "0",
                                    "6": "0",
                                    "7": "0",
                                    "8": "0",
                                    "9": "0",
                                    "10": "0",
                                    "11": "0",
                                    "12": "0",
                                    "13": "0"
                                },
                                {
                                    "0": "281474978480128",
                                    "1": "27",
                                    "2": "1",
                                    "3": "1",
                                    "4": "1",
                                    "5": "2",
                                    "6": "2",
                                    "7": "0",
                                    "8": "0",
                                    "9": "0",
                                    "10": "0",
                                    "11": "2",
                                    "12": "2",
                                    "13": "14"
                                },
                                {
                                    "0": "562949955190784",
                                    "1": "27",
                                    "2": "2",
                                    "3": "1",
                                    "4": "1",
                                    "5": "2",
                                    "6": "2",
                                    "7": "0",
                                    "8": "0",
                                    "9": "0",
                                    "10": "0",
                                    "11": "2",
                                    "12": "2",
                                    "13": "14"
                                },
                                {
                                    "0": "844424931901440",
                                    "1": "27",
                                    "2": "3",
                                    "3": "1",
                                    "4": "1",
                                    "5": "2",
                                    "6": "2",
                                    "7": "0",
                                    "8": "0",
                                    "9": "0",
                                    "10": "0",
                                    "11": "2",
                                    "12": "2",
                                    "13": "14"
                                },
                                {
                                    "0": "281474978545664",
                                    "1": "28",
                                    "2": "1",
                                    "3": "1",
                                    "4": "0",
                                    "5": "0",
                                    "6": "0",
                                    "7": "0",
                                    "8": "0",
                                    "9": "0",
                                    "10": "0",
                                    "11": "0",
                                    "12": "0",
                                    "13": "0"
                                },
                                {
                                    "0": "562949955256320",
                                    "1": "28",
                                    "2": "2",
                                    "3": "1",
                                    "4": "0",
                                    "5": "0",
                                    "6": "0",
                                    "7": "0",
                                    "8": "0",
                                    "9": "0",
                                    "10": "0",
                                    "11": "0",
                                    "12": "0",
                                    "13": "0"
                                },
                                {
                                    "0": "844424931966976",
                                    "1": "28",
                                    "2": "3",
                                    "3": "1",
                                    "4": "0",
                                    "5": "0",
                                    "6": "0",
                                    "7": "0",
                                    "8": "0",
                                    "9": "0",
                                    "10": "0",
                                    "11": "0",
                                    "12": "0",
                                    "13": "0"
                                },
                                {
                                    "0": "281474978611200",
                                    "1": "29",
                                    "2": "1",
                                    "3": "1",
                                    "4": "1",
                                    "5": "2",
                                    "6": "2",
                                    "7": "0",
                                    "8": "0",
                                    "9": "0",
                                    "10": "0",
                                    "11": "2",
                                    "12": "2",
                                    "13": "190"
                                },
                                {
                                    "0": "281474978938880",
                                    "1": "34",
                                    "2": "1",
                                    "3": "1",
                                    "4": "34",
                                    "5": "36",
                                    "6": "41",
                                    "7": "0",
                                    "8": "0",
                                    "9": "0",
                                    "10": "0",
                                    "11": "36",
                                    "12": "41",
                                    "13": "2543"
                                },
                                {
                                    "0": "562949955649536",
                                    "1": "34",
                                    "2": "2",
                                    "3": "1",
                                    "4": "29",
                                    "5": "31",
                                    "6": "33",
                                    "7": "0",
                                    "8": "0",
                                    "9": "0",
                                    "10": "0",
                                    "11": "31",
                                    "12": "33",
                                    "13": "2543"
                                },
                                {
                                    "0": "844424932360192",
                                    "1": "34",
                                    "2": "3",
                                    "3": "1",
                                    "4": "27",
                                    "5": "29",
                                    "6": "33",
                                    "7": "0",
                                    "8": "0",
                                    "9": "0",
                                    "10": "0",
                                    "11": "29",
                                    "12": "33",
                                    "13": "2543"
                                },
                                {
                                    "0": "1125899909070848",
                                    "1": "34",
                                    "2": "4",
                                    "3": "1",
                                    "4": "5",
                                    "5": "7",
                                    "6": "7",
                                    "7": "0",
                                    "8": "0",
                                    "9": "0",
                                    "10": "0",
                                    "11": "7",
                                    "12": "7",
                                    "13": "2543"
                                },
                                {
                                    "0": "281474979004416",
                                    "1": "35",
                                    "2": "1",
                                    "3": "1",
                                    "4": "0",
                                    "5": "0",
                                    "6": "0",
                                    "7": "0",
                                    "8": "0",
                                    "9": "0",
                                    "10": "0",
                                    "11": "0",
                                    "12": "0",
                                    "13": "0"
                                },
                                {
                                    "0": "281474979069952",
                                    "1": "36",
                                    "2": "1",
                                    "3": "1",
                                    "4": "0",
                                    "5": "0",
                                    "6": "0",
                                    "7": "0",
                                    "8": "0",
                                    "9": "0",
                                    "10": "0",
                                    "11": "0",
                                    "12": "0",
                                    "13": "0"
                                },
                                {
                                    "0": "562949955780608",
                                    "1": "36",
                                    "2": "2",
                                    "3": "1",
                                    "4": "0",
                                    "5": "0",
                                    "6": "0",
                                    "7": "0",
                                    "8": "0",
                                    "9": "0",
                                    "10": "0",
                                    "11": "0",
                                    "12": "0",
                                    "13": "0"
                                },
                                {
                                    "0": "281474979135488",
                                    "1": "37",
                                    "2": "1",
                                    "3": "1",
                                    "4": "0",
                                    "5": "0",
                                    "6": "0",
                                    "7": "0",
                                    "8": "0",
                                    "9": "0",
                                    "10": "0",
                                    "11": "0",
                                    "12": "0",
                                    "13": "0"
                                },
                                {
                                    "0": "281474979201024",
                                    "1": "38",
                                    "2": "1",
                                    "3": "1",
                                    "4": "0",
                                    "5": "0",
                                    "6": "0",
                                    "7": "0",
                                    "8": "0",
                                    "9": "0",
                                    "10": "0",
                                    "11": "0",
                                    "12": "0",
                                    "13": "0"
                                },
                                {
                                    "0": "562949955911680",
                                    "1": "38",
                                    "2": "2",
                                    "3": "1",
                                    "4": "0",
                                    "5": "0",
                                    "6": "0",
                                    "7": "0",
                                    "8": "0",
                                    "9": "0",
                                    "10": "0",
                                    "11": "0",
                                    "12": "0",
                                    "13": "0"
                                },
                                {
                                    "0": "281474979332096",
                                    "1": "40",
                                    "2": "1",
                                    "3": "1",
                                    "4": "0",
                                    "5": "0",
                                    "6": "0",
                                    "7": "0",
                                    "8": "0",
                                    "9": "0",
                                    "10": "0",
                                    "11": "0",
                                    "12": "0",
                                    "13": "0"
                                },
                                {
                                    "0": "562949956042752",
                                    "1": "40",
                                    "2": "2",
                                    "3": "1",
                                    "4": "0",
                                    "5": "0",
                                    "6": "0",
                                    "7": "0",
                                    "8": "0",
                                    "9": "0",
                                    "10": "0",
                                    "11": "0",
                                    "12": "0",
                                    "13": "0"
                                },
                                {
                                    "0": "281474979397632",
                                    "1": "41",
                                    "2": "1",
                                    "3": "1",
                                    "4": "20",
                                    "5": "22",
                                    "6": "25",
                                    "7": "0",
                                    "8": "0",
                                    "9": "0",
                                    "10": "0",
                                    "11": "22",
                                    "12": "25",
                                    "13": "1024"
                                },
                                {
                                    "0": "562949956108288",
                                    "1": "41",
                                    "2": "2",
                                    "3": "1",
                                    "4": "9",
                                    "5": "11",
                                    "6": "17",
                                    "7": "0",
                                    "8": "0",
                                    "9": "0",
                                    "10": "0",
                                    "11": "11",
                                    "12": "17",
                                    "13": "1024"
                                },
                                {
                                    "0": "281474979463168",
                                    "1": "42",
                                    "2": "1",
                                    "3": "1",
                                    "4": "0",
                                    "5": "0",
                                    "6": "0",
                                    "7": "0",
                                    "8": "0",
                                    "9": "0",
                                    "10": "0",
                                    "11": "0",
                                    "12": "0",
                                    "13": "0"
                                },
                                {
                                    "0": "562949956173824",
                                    "1": "42",
                                    "2": "2",
                                    "3": "1",
                                    "4": "0",
                                    "5": "0",
                                    "6": "0",
                                    "7": "0",
                                    "8": "0",
                                    "9": "0",
                                    "10": "0",
                                    "11": "0",
                                    "12": "0",
                                    "13": "0"
                                },
                                {
                                    "0": "844424932884480",
                                    "1": "42",
                                    "2": "3",
                                    "3": "1",
                                    "4": "0",
                                    "5": "0",
                                    "6": "0",
                                    "7": "0",
                                    "8": "0",
                                    "9": "0",
                                    "10": "0",
                                    "11": "0",
                                    "12": "0",
                                    "13": "0"
                                },
                                {
                                    "0": "281474979528704",
                                    "1": "43",
                                    "2": "1",
                                    "3": "1",
                                    "4": "0",
                                    "5": "0",
                                    "6": "0",
                                    "7": "0",
                                    "8": "0",
                                    "9": "0",
                                    "10": "0",
                                    "11": "0",
                                    "12": "0",
                                    "13": "0"
                                },
                                {
                                    "0": "562949956239360",
                                    "1": "43",
                                    "2": "2",
                                    "3": "1",
                                    "4": "0",
                                    "5": "0",
                                    "6": "0",
                                    "7": "0",
                                    "8": "0",
                                    "9": "0",
                                    "10": "0",
                                    "11": "0",
                                    "12": "0",
                                    "13": "0"
                                },
                                {
                                    "0": "281474979594240",
                                    "1": "44",
                                    "2": "1",
                                    "3": "1",
                                    "4": "1",
                                    "5": "2",
                                    "6": "2",
                                    "7": "0",
                                    "8": "0",
                                    "9": "0",
                                    "10": "0",
                                    "11": "2",
                                    "12": "2",
                                    "13": "1"
                                },
                                {
                                    "0": "562949956304896",
                                    "1": "44",
                                    "2": "2",
                                    "3": "1",
                                    "4": "1",
                                    "5": "2",
                                    "6": "2",
                                    "7": "0",
                                    "8": "0",
                                    "9": "0",
                                    "10": "0",
                                    "11": "2",
                                    "12": "2",
                                    "13": "1"
                                },
                                {
                                    "0": "281474979659776",
                                    "1": "45",
                                    "2": "1",
                                    "3": "1",
                                    "4": "0",
                                    "5": "0",
                                    "6": "0",
                                    "7": "0",
                                    "8": "0",
                                    "9": "0",
                                    "10": "0",
                                    "11": "0",
                                    "12": "0",
                                    "13": "0"
                                },
                                {
                                    "0": "281474979725312",
                                    "1": "46",
                                    "2": "1",
                                    "3": "1",
                                    "4": "0",
                                    "5": "0",
                                    "6": "0",
                                    "7": "0",
                                    "8": "0",
                                    "9": "0",
                                    "10": "0",
                                    "11": "0",
                                    "12": "0",
                                    "13": "0"
                                },
                                {
                                    "0": "562949956435968",
                                    "1": "46",
                                    "2": "2",
                                    "3": "1",
                                    "4": "0",
                                    "5": "0",
                                    "6": "0",
                                    "7": "0",
                                    "8": "0",
                                    "9": "0",
                                    "10": "0",
                                    "11": "0",
                                    "12": "0",
                                    "13": "0"
                                },
                                {
                                    "0": "844424933146624",
                                    "1": "46",
                                    "2": "3",
                                    "3": "1",
                                    "4": "0",
                                    "5": "0",
                                    "6": "0",
                                    "7": "0",
                                    "8": "0",
                                    "9": "0",
                                    "10": "0",
                                    "11": "0",
                                    "12": "0",
                                    "13": "0"
                                },
                                {
                                    "0": "1125899909857280",
                                    "1": "46",
                                    "2": "4",
                                    "3": "1",
                                    "4": "0",
                                    "5": "0",
                                    "6": "0",
                                    "7": "0",
                                    "8": "0",
                                    "9": "0",
                                    "10": "0",
                                    "11": "0",
                                    "12": "0",
                                    "13": "0"
                                },
                                {
                                    "0": "281474979790848",
                                    "1": "47",
                                    "2": "1",
                                    "3": "1",
                                    "4": "0",
                                    "5": "0",
                                    "6": "0",
                                    "7": "0",
                                    "8": "0",
                                    "9": "0",
                                    "10": "0",
                                    "11": "0",
                                    "12": "0",
                                    "13": "0"
                                },
                                {
                                    "0": "281474979856384",
                                    "1": "48",
                                    "2": "1",
                                    "3": "1",
                                    "4": "0",
                                    "5": "0",
                                    "6": "0",
                                    "7": "0",
                                    "8": "0",
                                    "9": "0",
                                    "10": "0",
                                    "11": "0",
                                    "12": "0",
                                    "13": "0"
                                },
                                {
                                    "0": "281474979921920",
                                    "1": "49",
                                    "2": "1",
                                    "3": "1",
                                    "4": "0",
                                    "5": "0",
                                    "6": "0",
                                    "7": "0",
                                    "8": "0",
                                    "9": "0",
                                    "10": "0",
                                    "11": "0",
                                    "12": "0",
                                    "13": "0"
                                },
                                {
                                    "0": "281474979987456",
                                    "1": "50",
                                    "2": "1",
                                    "3": "1",
                                    "4": "1",
                                    "5": "2",
                                    "6": "2",
                                    "7": "0",
                                    "8": "0",
                                    "9": "0",
                                    "10": "0",
                                    "11": "2",
                                    "12": "2",
                                    "13": "34"
                                },
                                {
                                    "0": "562949956698112",
                                    "1": "50",
                                    "2": "2",
                                    "3": "1",
                                    "4": "1",
                                    "5": "2",
                                    "6": "2",
                                    "7": "0",
                                    "8": "0",
                                    "9": "0",
                                    "10": "0",
                                    "11": "2",
                                    "12": "2",
                                    "13": "34"
                                },
                                {
                                    "0": "844424933408768",
                                    "1": "50",
                                    "2": "3",
                                    "3": "1",
                                    "4": "1",
                                    "5": "2",
                                    "6": "2",
                                    "7": "0",
                                    "8": "0",
                                    "9": "0",
                                    "10": "0",
                                    "11": "2",
                                    "12": "2",
                                    "13": "34"
                                },
                                {
                                    "0": "281474980052992",
                                    "1": "51",
                                    "2": "1",
                                    "3": "1",
                                    "4": "1",
                                    "5": "2",
                                    "6": "9",
                                    "7": "0",
                                    "8": "0",
                                    "9": "0",
                                    "10": "0",
                                    "11": "2",
                                    "12": "9",
                                    "13": "1"
                                },
                                {
                                    "0": "562949956763648",
                                    "1": "51",
                                    "2": "2",
                                    "3": "1",
                                    "4": "1",
                                    "5": "2",
                                    "6": "9",
                                    "7": "0",
                                    "8": "0",
                                    "9": "0",
                                    "10": "0",
                                    "11": "2",
                                    "12": "9",
                                    "13": "1"
                                },
                                {
                                    "0": "281474980249600",
                                    "1": "54",
                                    "2": "1",
                                    "3": "1",
                                    "4": "6",
                                    "5": "8",
                                    "6": "14",
                                    "7": "0",
                                    "8": "0",
                                    "9": "0",
                                    "10": "0",
                                    "11": "8",
                                    "12": "14",
                                    "13": "228"
                                },
                                {
                                    "0": "562949956960256",
                                    "1": "54",
                                    "2": "2",
                                    "3": "1",
                                    "4": "2",
                                    "5": "4",
                                    "6": "10",
                                    "7": "0",
                                    "8": "0",
                                    "9": "0",
                                    "10": "0",
                                    "11": "4",
                                    "12": "10",
                                    "13": "228"
                                },
                                {
                                    "0": "281474980315136",
                                    "1": "55",
                                    "2": "1",
                                    "3": "1",
                                    "4": "3",
                                    "5": "5",
                                    "6": "12",
                                    "7": "0",
                                    "8": "0",
                                    "9": "0",
                                    "10": "0",
                                    "11": "5",
                                    "12": "12",
                                    "13": "432"
                                },
                                {
                                    "0": "562949957025792",
                                    "1": "55",
                                    "2": "2",
                                    "3": "1",
                                    "4": "2",
                                    "5": "4",
                                    "6": "4",
                                    "7": "0",
                                    "8": "0",
                                    "9": "0",
                                    "10": "0",
                                    "11": "4",
                                    "12": "4",
                                    "13": "432"
                                },
                                {
                                    "0": "281474980380672",
                                    "1": "56",
                                    "2": "1",
                                    "3": "1",
                                    "4": "0",
                                    "5": "0",
                                    "6": "0",
                                    "7": "0",
                                    "8": "0",
                                    "9": "0",
                                    "10": "0",
                                    "11": "0",
                                    "12": "0",
                                    "13": "0"
                                },
                                {
                                    "0": "562949957091328",
                                    "1": "56",
                                    "2": "2",
                                    "3": "1",
                                    "4": "0",
                                    "5": "0",
                                    "6": "0",
                                    "7": "0",
                                    "8": "0",
                                    "9": "0",
                                    "10": "0",
                                    "11": "0",
                                    "12": "0",
                                    "13": "0"
                                },
                                {
                                    "0": "281474980446208",
                                    "1": "57",
                                    "2": "1",
                                    "3": "1",
                                    "4": "0",
                                    "5": "0",
                                    "6": "0",
                                    "7": "0",
                                    "8": "0",
                                    "9": "0",
                                    "10": "0",
                                    "11": "0",
                                    "12": "0",
                                    "13": "0"
                                },
                                {
                                    "0": "281474980511744",
                                    "1": "58",
                                    "2": "1",
                                    "3": "1",
                                    "4": "1",
                                    "5": "2",
                                    "6": "2",
                                    "7": "0",
                                    "8": "0",
                                    "9": "0",
                                    "10": "0",
                                    "11": "2",
                                    "12": "2",
                                    "13": "23"
                                },
                                {
                                    "0": "562949957222400",
                                    "1": "58",
                                    "2": "2",
                                    "3": "1",
                                    "4": "1",
                                    "5": "2",
                                    "6": "2",
                                    "7": "0",
                                    "8": "0",
                                    "9": "0",
                                    "10": "0",
                                    "11": "2",
                                    "12": "2",
                                    "13": "23"
                                },
                                {
                                    "0": "281474980577280",
                                    "1": "59",
                                    "2": "1",
                                    "3": "1",
                                    "4": "0",
                                    "5": "0",
                                    "6": "0",
                                    "7": "0",
                                    "8": "0",
                                    "9": "0",
                                    "10": "0",
                                    "11": "0",
                                    "12": "0",
                                    "13": "0"
                                },
                                {
                                    "0": "281474980642816",
                                    "1": "60",
                                    "2": "1",
                                    "3": "1",
                                    "4": "22",
                                    "5": "24",
                                    "6": "25",
                                    "7": "8",
                                    "8": "12",
                                    "9": "0",
                                    "10": "0",
                                    "11": "32",
                                    "12": "37",
                                    "13": "252"
                                },
                                {
                                    "0": "281474980773888",
                                    "1": "62",
                                    "2": "1",
                                    "3": "1",
                                    "4": "0",
                                    "5": "0",
                                    "6": "0",
                                    "7": "0",
                                    "8": "0",
                                    "9": "0",
                                    "10": "0",
                                    "11": "0",
                                    "12": "0",
                                    "13": "0"
                                },
                                {
                                    "0": "281474980839424",
                                    "1": "63",
                                    "2": "1",
                                    "3": "1",
                                    "4": "0",
                                    "5": "0",
                                    "6": "0",
                                    "7": "0",
                                    "8": "0",
                                    "9": "0",
                                    "10": "0",
                                    "11": "0",
                                    "12": "0",
                                    "13": "0"
                                },
                                {
                                    "0": "281474980904960",
                                    "1": "64",
                                    "2": "1",
                                    "3": "1",
                                    "4": "1",
                                    "5": "2",
                                    "6": "2",
                                    "7": "0",
                                    "8": "0",
                                    "9": "0",
                                    "10": "0",
                                    "11": "2",
                                    "12": "2",
                                    "13": "20"
                                },
                                {
                                    "0": "562949957615616",
                                    "1": "64",
                                    "2": "2",
                                    "3": "1",
                                    "4": "1",
                                    "5": "2",
                                    "6": "2",
                                    "7": "0",
                                    "8": "0",
                                    "9": "0",
                                    "10": "0",
                                    "11": "2",
                                    "12": "2",
                                    "13": "20"
                                },
                                {
                                    "0": "281474980970496",
                                    "1": "65",
                                    "2": "1",
                                    "3": "1",
                                    "4": "0",
                                    "5": "0",
                                    "6": "0",
                                    "7": "0",
                                    "8": "0",
                                    "9": "0",
                                    "10": "0",
                                    "11": "0",
                                    "12": "0",
                                    "13": "0"
                                },
                                {
                                    "0": "281474981101568",
                                    "1": "67",
                                    "2": "1",
                                    "3": "1",
                                    "4": "0",
                                    "5": "0",
                                    "6": "0",
                                    "7": "0",
                                    "8": "0",
                                    "9": "0",
                                    "10": "0",
                                    "11": "0",
                                    "12": "0",
                                    "13": "0"
                                },
                                {
                                    "0": "562949957812224",
                                    "1": "67",
                                    "2": "2",
                                    "3": "1",
                                    "4": "0",
                                    "5": "0",
                                    "6": "0",
                                    "7": "0",
                                    "8": "0",
                                    "9": "0",
                                    "10": "0",
                                    "11": "0",
                                    "12": "0",
                                    "13": "0"
                                },
                                {
                                    "0": "844424934522880",
                                    "1": "67",
                                    "2": "3",
                                    "3": "1",
                                    "4": "0",
                                    "5": "0",
                                    "6": "0",
                                    "7": "0",
                                    "8": "0",
                                    "9": "0",
                                    "10": "0",
                                    "11": "0",
                                    "12": "0",
                                    "13": "0"
                                },
                                {
                                    "0": "281474981167104",
                                    "1": "68",
                                    "2": "1",
                                    "3": "1",
                                    "4": "0",
                                    "5": "0",
                                    "6": "0",
                                    "7": "0",
                                    "8": "0",
                                    "9": "0",
                                    "10": "0",
                                    "11": "0",
                                    "12": "0",
                                    "13": "0"
                                },
                                {
                                    "0": "281474981232640",
                                    "1": "69",
                                    "2": "1",
                                    "3": "1",
                                    "4": "1",
                                    "5": "2",
                                    "6": "2",
                                    "7": "0",
                                    "8": "0",
                                    "9": "0",
                                    "10": "0",
                                    "11": "2",
                                    "12": "2",
                                    "13": "1"
                                },
                                {
                                    "0": "562949957943296",
                                    "1": "69",
                                    "2": "2",
                                    "3": "1",
                                    "4": "1",
                                    "5": "2",
                                    "6": "2",
                                    "7": "0",
                                    "8": "0",
                                    "9": "0",
                                    "10": "0",
                                    "11": "2",
                                    "12": "2",
                                    "13": "1"
                                },
                                {
                                    "0": "844424934653952",
                                    "1": "69",
                                    "2": "3",
                                    "3": "1",
                                    "4": "1",
                                    "5": "2",
                                    "6": "2",
                                    "7": "0",
                                    "8": "0",
                                    "9": "0",
                                    "10": "0",
                                    "11": "2",
                                    "12": "2",
                                    "13": "1"
                                },
                                {
                                    "0": "281474981363712",
                                    "1": "71",
                                    "2": "1",
                                    "3": "1",
                                    "4": "0",
                                    "5": "0",
                                    "6": "0",
                                    "7": "0",
                                    "8": "0",
                                    "9": "0",
                                    "10": "0",
                                    "11": "0",
                                    "12": "0",
                                    "13": "0"
                                },
                                {
                                    "0": "281474981429248",
                                    "1": "72",
                                    "2": "1",
                                    "3": "1",
                                    "4": "0",
                                    "5": "0",
                                    "6": "0",
                                    "7": "0",
                                    "8": "0",
                                    "9": "0",
                                    "10": "0",
                                    "11": "0",
                                    "12": "0",
                                    "13": "0"
                                },
                                {
                                    "0": "281474981494784",
                                    "1": "73",
                                    "2": "1",
                                    "3": "1",
                                    "4": "0",
                                    "5": "0",
                                    "6": "0",
                                    "7": "0",
                                    "8": "0",
                                    "9": "0",
                                    "10": "0",
                                    "11": "0",
                                    "12": "0",
                                    "13": "0"
                                },
                                {
                                    "0": "281474981560320",
                                    "1": "74",
                                    "2": "1",
                                    "3": "1",
                                    "4": "1",
                                    "5": "2",
                                    "6": "2",
                                    "7": "0",
                                    "8": "0",
                                    "9": "0",
                                    "10": "0",
                                    "11": "2",
                                    "12": "2",
                                    "13": "194"
                                },
                                {
                                    "0": "562949958270976",
                                    "1": "74",
                                    "2": "2",
                                    "3": "1",
                                    "4": "1",
                                    "5": "2",
                                    "6": "2",
                                    "7": "0",
                                    "8": "0",
                                    "9": "0",
                                    "10": "0",
                                    "11": "2",
                                    "12": "2",
                                    "13": "194"
                                },
                                {
                                    "0": "281474981625856",
                                    "1": "75",
                                    "2": "1",
                                    "3": "1",
                                    "4": "1",
                                    "5": "2",
                                    "6": "2",
                                    "7": "0",
                                    "8": "0",
                                    "9": "0",
                                    "10": "0",
                                    "11": "2",
                                    "12": "2",
                                    "13": "107"
                                },
                                {
                                    "0": "562949958336512",
                                    "1": "75",
                                    "2": "2",
                                    "3": "1",
                                    "4": "1",
                                    "5": "2",
                                    "6": "2",
                                    "7": "0",
                                    "8": "0",
                                    "9": "0",
                                    "10": "0",
                                    "11": "2",
                                    "12": "2",
                                    "13": "107"
                                },
                                {
                                    "0": "281474981822464",
                                    "1": "78",
                                    "2": "1",
                                    "3": "1",
                                    "4": "0",
                                    "5": "0",
                                    "6": "0",
                                    "7": "0",
                                    "8": "0",
                                    "9": "0",
                                    "10": "0",
                                    "11": "0",
                                    "12": "0",
                                    "13": "0"
                                },
                                {
                                    "0": "562949958533120",
                                    "1": "78",
                                    "2": "2",
                                    "3": "1",
                                    "4": "0",
                                    "5": "0",
                                    "6": "0",
                                    "7": "0",
                                    "8": "0",
                                    "9": "0",
                                    "10": "0",
                                    "11": "0",
                                    "12": "0",
                                    "13": "0"
                                },
                                {
                                    "0": "281474981888000",
                                    "1": "79",
                                    "2": "1",
                                    "3": "1",
                                    "4": "0",
                                    "5": "0",
                                    "6": "0",
                                    "7": "0",
                                    "8": "0",
                                    "9": "0",
                                    "10": "0",
                                    "11": "0",
                                    "12": "0",
                                    "13": "0"
                                },
                                {
                                    "0": "281474981953536",
                                    "1": "80",
                                    "2": "1",
                                    "3": "1",
                                    "4": "0",
                                    "5": "0",
                                    "6": "0",
                                    "7": "0",
                                    "8": "0",
                                    "9": "0",
                                    "10": "0",
                                    "11": "0",
                                    "12": "0",
                                    "13": "0"
                                },
                                {
                                    "0": "281474982084608",
                                    "1": "82",
                                    "2": "1",
                                    "3": "1",
                                    "4": "0",
                                    "5": "0",
                                    "6": "0",
                                    "7": "0",
                                    "8": "0",
                                    "9": "0",
                                    "10": "0",
                                    "11": "0",
                                    "12": "0",
                                    "13": "0"
                                },
                                {
                                    "0": "281474982215680",
                                    "1": "84",
                                    "2": "1",
                                    "3": "1",
                                    "4": "0",
                                    "5": "0",
                                    "6": "0",
                                    "7": "0",
                                    "8": "0",
                                    "9": "0",
                                    "10": "0",
                                    "11": "0",
                                    "12": "0",
                                    "13": "0"
                                },
                                {
                                    "0": "281474982281216",
                                    "1": "85",
                                    "2": "1",
                                    "3": "1",
                                    "4": "0",
                                    "5": "0",
                                    "6": "0",
                                    "7": "0",
                                    "8": "0",
                                    "9": "0",
                                    "10": "0",
                                    "11": "0",
                                    "12": "0",
                                    "13": "0"
                                },
                                {
                                    "0": "281474982346752",
                                    "1": "86",
                                    "2": "1",
                                    "3": "1",
                                    "4": "0",
                                    "5": "0",
                                    "6": "0",
                                    "7": "0",
                                    "8": "0",
                                    "9": "0",
                                    "10": "0",
                                    "11": "0",
                                    "12": "0",
                                    "13": "0"
                                },
                                {
                                    "0": "562949959057408",
                                    "1": "86",
                                    "2": "2",
                                    "3": "1",
                                    "4": "0",
                                    "5": "0",
                                    "6": "0",
                                    "7": "0",
                                    "8": "0",
                                    "9": "0",
                                    "10": "0",
                                    "11": "0",
                                    "12": "0",
                                    "13": "0"
                                },
                                {
                                    "0": "844424935768064",
                                    "1": "86",
                                    "2": "3",
                                    "3": "1",
                                    "4": "0",
                                    "5": "0",
                                    "6": "0",
                                    "7": "0",
                                    "8": "0",
                                    "9": "0",
                                    "10": "0",
                                    "11": "0",
                                    "12": "0",
                                    "13": "0"
                                },
                                {
                                    "0": "281474982412288",
                                    "1": "87",
                                    "2": "1",
                                    "3": "1",
                                    "4": "0",
                                    "5": "0",
                                    "6": "0",
                                    "7": "0",
                                    "8": "0",
                                    "9": "0",
                                    "10": "0",
                                    "11": "0",
                                    "12": "0",
                                    "13": "0"
                                },
                                {
                                    "0": "281474982543360",
                                    "1": "89",
                                    "2": "1",
                                    "3": "1",
                                    "4": "0",
                                    "5": "0",
                                    "6": "0",
                                    "7": "0",
                                    "8": "0",
                                    "9": "0",
                                    "10": "0",
                                    "11": "0",
                                    "12": "0",
                                    "13": "0"
                                },
                                {
                                    "0": "562949959254016",
                                    "1": "89",
                                    "2": "2",
                                    "3": "1",
                                    "4": "0",
                                    "5": "0",
                                    "6": "0",
                                    "7": "0",
                                    "8": "0",
                                    "9": "0",
                                    "10": "0",
                                    "11": "0",
                                    "12": "0",
                                    "13": "0"
                                },
                                {
                                    "0": "281474982608896",
                                    "1": "90",
                                    "2": "1",
                                    "3": "1",
                                    "4": "1",
                                    "5": "2",
                                    "6": "2",
                                    "7": "0",
                                    "8": "0",
                                    "9": "0",
                                    "10": "0",
                                    "11": "2",
                                    "12": "2",
                                    "13": "98"
                                },
                                {
                                    "0": "562949959319552",
                                    "1": "90",
                                    "2": "2",
                                    "3": "1",
                                    "4": "1",
                                    "5": "2",
                                    "6": "2",
                                    "7": "0",
                                    "8": "0",
                                    "9": "0",
                                    "10": "0",
                                    "11": "2",
                                    "12": "2",
                                    "13": "98"
                                },
                                {
                                    "0": "281474982674432",
                                    "1": "91",
                                    "2": "1",
                                    "3": "1",
                                    "4": "1",
                                    "5": "2",
                                    "6": "2",
                                    "7": "0",
                                    "8": "0",
                                    "9": "0",
                                    "10": "0",
                                    "11": "2",
                                    "12": "2",
                                    "13": "100"
                                },
                                {
                                    "0": "562949959385088",
                                    "1": "91",
                                    "2": "2",
                                    "3": "1",
                                    "4": "1",
                                    "5": "2",
                                    "6": "2",
                                    "7": "0",
                                    "8": "0",
                                    "9": "0",
                                    "10": "0",
                                    "11": "2",
                                    "12": "2",
                                    "13": "100"
                                },
                                {
                                    "0": "281474982739968",
                                    "1": "92",
                                    "2": "1",
                                    "3": "1",
                                    "4": "1",
                                    "5": "2",
                                    "6": "2",
                                    "7": "0",
                                    "8": "0",
                                    "9": "0",
                                    "10": "0",
                                    "11": "2",
                                    "12": "2",
                                    "13": "112"
                                },
                                {
                                    "0": "281474982805504",
                                    "1": "93",
                                    "2": "1",
                                    "3": "1",
                                    "4": "1",
                                    "5": "2",
                                    "6": "2",
                                    "7": "0",
                                    "8": "0",
                                    "9": "0",
                                    "10": "0",
                                    "11": "2",
                                    "12": "2",
                                    "13": "19"
                                },
                                {
                                    "0": "562949959516160",
                                    "1": "93",
                                    "2": "2",
                                    "3": "1",
                                    "4": "1",
                                    "5": "2",
                                    "6": "2",
                                    "7": "0",
                                    "8": "0",
                                    "9": "0",
                                    "10": "0",
                                    "11": "2",
                                    "12": "2",
                                    "13": "19"
                                },
                                {
                                    "0": "281474982871040",
                                    "1": "94",
                                    "2": "1",
                                    "3": "1",
                                    "4": "0",
                                    "5": "0",
                                    "6": "0",
                                    "7": "0",
                                    "8": "0",
                                    "9": "0",
                                    "10": "0",
                                    "11": "0",
                                    "12": "0",
                                    "13": "0"
                                },
                                {
                                    "0": "281474982936576",
                                    "1": "95",
                                    "2": "1",
                                    "3": "1",
                                    "4": "0",
                                    "5": "0",
                                    "6": "0",
                                    "7": "0",
                                    "8": "0",
                                    "9": "0",
                                    "10": "0",
                                    "11": "0",
                                    "12": "0",
                                    "13": "0"
                                },
                                {
                                    "0": "562949959647232",
                                    "1": "95",
                                    "2": "2",
                                    "3": "1",
                                    "4": "0",
                                    "5": "0",
                                    "6": "0",
                                    "7": "0",
                                    "8": "0",
                                    "9": "0",
                                    "10": "0",
                                    "11": "0",
                                    "12": "0",
                                    "13": "0"
                                },
                                {
                                    "0": "844424936357888",
                                    "1": "95",
                                    "2": "3",
                                    "3": "1",
                                    "4": "0",
                                    "5": "0",
                                    "6": "0",
                                    "7": "0",
                                    "8": "0",
                                    "9": "0",
                                    "10": "0",
                                    "11": "0",
                                    "12": "0",
                                    "13": "0"
                                },
                                {
                                    "0": "281474983002112",
                                    "1": "96",
                                    "2": "1",
                                    "3": "1",
                                    "4": "0",
                                    "5": "0",
                                    "6": "0",
                                    "7": "0",
                                    "8": "0",
                                    "9": "0",
                                    "10": "0",
                                    "11": "0",
                                    "12": "0",
                                    "13": "0"
                                },
                                {
                                    "0": "562949959712768",
                                    "1": "96",
                                    "2": "2",
                                    "3": "1",
                                    "4": "0",
                                    "5": "0",
                                    "6": "0",
                                    "7": "0",
                                    "8": "0",
                                    "9": "0",
                                    "10": "0",
                                    "11": "0",
                                    "12": "0",
                                    "13": "0"
                                },
                                {
                                    "0": "844424936423424",
                                    "1": "96",
                                    "2": "3",
                                    "3": "1",
                                    "4": "0",
                                    "5": "0",
                                    "6": "0",
                                    "7": "0",
                                    "8": "0",
                                    "9": "0",
                                    "10": "0",
                                    "11": "0",
                                    "12": "0",
                                    "13": "0"
                                },
                                {
                                    "0": "281474983067648",
                                    "1": "97",
                                    "2": "1",
                                    "3": "1",
                                    "4": "1",
                                    "5": "2",
                                    "6": "2",
                                    "7": "0",
                                    "8": "0",
                                    "9": "0",
                                    "10": "0",
                                    "11": "2",
                                    "12": "2",
                                    "13": "3"
                                },
                                {
                                    "0": "562949959778304",
                                    "1": "97",
                                    "2": "2",
                                    "3": "1",
                                    "4": "1",
                                    "5": "2",
                                    "6": "2",
                                    "7": "0",
                                    "8": "0",
                                    "9": "0",
                                    "10": "0",
                                    "11": "2",
                                    "12": "2",
                                    "13": "3"
                                },
                                {
                                    "0": "281474983133184",
                                    "1": "98",
                                    "2": "1",
                                    "3": "1",
                                    "4": "0",
                                    "5": "0",
                                    "6": "0",
                                    "7": "0",
                                    "8": "0",
                                    "9": "0",
                                    "10": "0",
                                    "11": "0",
                                    "12": "0",
                                    "13": "0"
                                },
                                {
                                    "0": "562949959843840",
                                    "1": "98",
                                    "2": "2",
                                    "3": "1",
                                    "4": "0",
                                    "5": "0",
                                    "6": "0",
                                    "7": "0",
                                    "8": "0",
                                    "9": "0",
                                    "10": "0",
                                    "11": "0",
                                    "12": "0",
                                    "13": "0"
                                },
                                {
                                    "0": "72057594040483840",
                                    "1": "101575400",
                                    "2": "1",
                                    "3": "1",
                                    "4": "0",
                                    "5": "0",
                                    "6": "0",
                                    "7": "0",
                                    "8": "0",
                                    "9": "0",
                                    "10": "0",
                                    "11": "0",
                                    "12": "0",
                                    "13": "0"
                                },
                                {
                                    "0": "72057594040549376",
                                    "1": "101575400",
                                    "2": "2",
                                    "3": "1",
                                    "4": "0",
                                    "5": "0",
                                    "6": "0",
                                    "7": "0",
                                    "8": "0",
                                    "9": "0",
                                    "10": "0",
                                    "11": "0",
                                    "12": "0",
                                    "13": "0"
                                },
                                {
                                    "0": "72057594040680448",
                                    "1": "117575457",
                                    "2": "1",
                                    "3": "1",
                                    "4": "0",
                                    "5": "0",
                                    "6": "0",
                                    "7": "0",
                                    "8": "0",
                                    "9": "0",
                                    "10": "0",
                                    "11": "0",
                                    "12": "0",
                                    "13": "0"
                                },
                                {
                                    "0": "72057594040745984",
                                    "1": "117575457",
                                    "2": "2",
                                    "3": "1",
                                    "4": "0",
                                    "5": "0",
                                    "6": "0",
                                    "7": "0",
                                    "8": "0",
                                    "9": "0",
                                    "10": "0",
                                    "11": "0",
                                    "12": "0",
                                    "13": "0"
                                },
                                {
                                    "0": "72057594040811520",
                                    "1": "117575457",
                                    "2": "3",
                                    "3": "1",
                                    "4": "0",
                                    "5": "0",
                                    "6": "0",
                                    "7": "0",
                                    "8": "0",
                                    "9": "0",
                                    "10": "0",
                                    "11": "0",
                                    "12": "0",
                                    "13": "0"
                                },
                                {
                                    "0": "72057594040942592",
                                    "1": "133575514",
                                    "2": "1",
                                    "3": "1",
                                    "4": "0",
                                    "5": "0",
                                    "6": "0",
                                    "7": "0",
                                    "8": "0",
                                    "9": "0",
                                    "10": "0",
                                    "11": "0",
                                    "12": "0",
                                    "13": "0"
                                },
                                {
                                    "0": "72057594041008128",
                                    "1": "133575514",
                                    "2": "2",
                                    "3": "1",
                                    "4": "0",
                                    "5": "0",
                                    "6": "0",
                                    "7": "0",
                                    "8": "0",
                                    "9": "0",
                                    "10": "0",
                                    "11": "0",
                                    "12": "0",
                                    "13": "0"
                                },
                                {
                                    "0": "72057594041139200",
                                    "1": "149575571",
                                    "2": "2",
                                    "3": "1",
                                    "4": "0",
                                    "5": "0",
                                    "6": "0",
                                    "7": "0",
                                    "8": "0",
                                    "9": "0",
                                    "10": "0",
                                    "11": "0",
                                    "12": "0",
                                    "13": "0"
                                },
                                {
                                    "0": "72057594041270272",
                                    "1": "165575628",
                                    "2": "1",
                                    "3": "1",
                                    "4": "0",
                                    "5": "0",
                                    "6": "0",
                                    "7": "0",
                                    "8": "0",
                                    "9": "0",
                                    "10": "0",
                                    "11": "0",
                                    "12": "0",
                                    "13": "0"
                                },
                                {
                                    "0": "72057594041335808",
                                    "1": "165575628",
                                    "2": "2",
                                    "3": "1",
                                    "4": "0",
                                    "5": "0",
                                    "6": "0",
                                    "7": "0",
                                    "8": "0",
                                    "9": "0",
                                    "10": "0",
                                    "11": "0",
                                    "12": "0",
                                    "13": "0"
                                },
                                {
                                    "0": "72057594041466880",
                                    "1": "181575685",
                                    "2": "1",
                                    "3": "1",
                                    "4": "0",
                                    "5": "0",
                                    "6": "0",
                                    "7": "0",
                                    "8": "0",
                                    "9": "0",
                                    "10": "0",
                                    "11": "0",
                                    "12": "0",
                                    "13": "0"
                                },
                                {
                                    "0": "72057594041532416",
                                    "1": "181575685",
                                    "2": "2",
                                    "3": "1",
                                    "4": "0",
                                    "5": "0",
                                    "6": "0",
                                    "7": "0",
                                    "8": "0",
                                    "9": "0",
                                    "10": "0",
                                    "11": "0",
                                    "12": "0",
                                    "13": "0"
                                },
                                {
                                    "0": "72057594041663488",
                                    "1": "197575742",
                                    "2": "1",
                                    "3": "1",
                                    "4": "0",
                                    "5": "0",
                                    "6": "0",
                                    "7": "0",
                                    "8": "0",
                                    "9": "0",
                                    "10": "0",
                                    "11": "0",
                                    "12": "0",
                                    "13": "0"
                                },
                                {
                                    "0": "72057594041729024",
                                    "1": "197575742",
                                    "2": "2",
                                    "3": "1",
                                    "4": "0",
                                    "5": "0",
                                    "6": "0",
                                    "7": "0",
                                    "8": "0",
                                    "9": "0",
                                    "10": "0",
                                    "11": "0",
                                    "12": "0",
                                    "13": "0"
                                },
                                {
                                    "0": "72057594041860096",
                                    "1": "213575799",
                                    "2": "1",
                                    "3": "1",
                                    "4": "0",
                                    "5": "0",
                                    "6": "0",
                                    "7": "0",
                                    "8": "0",
                                    "9": "0",
                                    "10": "0",
                                    "11": "0",
                                    "12": "0",
                                    "13": "0"
                                },
                                {
                                    "0": "72057594041925632",
                                    "1": "213575799",
                                    "2": "2",
                                    "3": "1",
                                    "4": "0",
                                    "5": "0",
                                    "6": "0",
                                    "7": "0",
                                    "8": "0",
                                    "9": "0",
                                    "10": "0",
                                    "11": "0",
                                    "12": "0",
                                    "13": "0"
                                },
                                {
                                    "0": "72057594042056704",
                                    "1": "229575856",
                                    "2": "1",
                                    "3": "1",
                                    "4": "0",
                                    "5": "0",
                                    "6": "0",
                                    "7": "0",
                                    "8": "0",
                                    "9": "0",
                                    "10": "0",
                                    "11": "0",
                                    "12": "0",
                                    "13": "0"
                                },
                                {
                                    "0": "72057594042122240",
                                    "1": "229575856",
                                    "2": "2",
                                    "3": "1",
                                    "4": "0",
                                    "5": "0",
                                    "6": "0",
                                    "7": "0",
                                    "8": "0",
                                    "9": "0",
                                    "10": "0",
                                    "11": "0",
                                    "12": "0",
                                    "13": "0"
                                },
                                {
                                    "0": "72057594042253312",
                                    "1": "245575913",
                                    "2": "1",
                                    "3": "1",
                                    "4": "0",
                                    "5": "0",
                                    "6": "0",
                                    "7": "0",
                                    "8": "0",
                                    "9": "0",
                                    "10": "0",
                                    "11": "0",
                                    "12": "0",
                                    "13": "0"
                                },
                                {
                                    "0": "72057594042384384",
                                    "1": "261575970",
                                    "2": "1",
                                    "3": "1",
                                    "4": "0",
                                    "5": "0",
                                    "6": "0",
                                    "7": "0",
                                    "8": "0",
                                    "9": "0",
                                    "10": "0",
                                    "11": "0",
                                    "12": "0",
                                    "13": "0"
                                },
                                {
                                    "0": "72057594042449920",
                                    "1": "261575970",
                                    "2": "2",
                                    "3": "1",
                                    "4": "0",
                                    "5": "0",
                                    "6": "0",
                                    "7": "0",
                                    "8": "0",
                                    "9": "0",
                                    "10": "0",
                                    "11": "0",
                                    "12": "0",
                                    "13": "0"
                                },
                                {
                                    "0": "72057594042580992",
                                    "1": "277576027",
                                    "2": "1",
                                    "3": "1",
                                    "4": "0",
                                    "5": "0",
                                    "6": "0",
                                    "7": "0",
                                    "8": "0",
                                    "9": "0",
                                    "10": "0",
                                    "11": "0",
                                    "12": "0",
                                    "13": "0"
                                },
                                {
                                    "0": "72057594042646528",
                                    "1": "277576027",
                                    "2": "2",
                                    "3": "1",
                                    "4": "0",
                                    "5": "0",
                                    "6": "0",
                                    "7": "0",
                                    "8": "0",
                                    "9": "0",
                                    "10": "0",
                                    "11": "0",
                                    "12": "0",
                                    "13": "0"
                                },
                                {
                                    "0": "72057594042777600",
                                    "1": "293576084",
                                    "2": "1",
                                    "3": "1",
                                    "4": "0",
                                    "5": "0",
                                    "6": "0",
                                    "7": "0",
                                    "8": "0",
                                    "9": "0",
                                    "10": "0",
                                    "11": "0",
                                    "12": "0",
                                    "13": "0"
                                },
                                {
                                    "0": "72057594042843136",
                                    "1": "293576084",
                                    "2": "2",
                                    "3": "1",
                                    "4": "0",
                                    "5": "0",
                                    "6": "0",
                                    "7": "0",
                                    "8": "0",
                                    "9": "0",
                                    "10": "0",
                                    "11": "0",
                                    "12": "0",
                                    "13": "0"
                                },
                                {
                                    "0": "72057594043105280",
                                    "1": "565577053",
                                    "2": "1",
                                    "3": "1",
                                    "4": "0",
                                    "5": "0",
                                    "6": "0",
                                    "7": "0",
                                    "8": "0",
                                    "9": "0",
                                    "10": "0",
                                    "11": "0",
                                    "12": "0",
                                    "13": "0"
                                },
                                {
                                    "0": "72057594043170816",
                                    "1": "885578193",
                                    "2": "0",
                                    "3": "1",
                                    "4": "14",
                                    "5": "15",
                                    "6": "17",
                                    "7": "0",
                                    "8": "0",
                                    "9": "0",
                                    "10": "0",
                                    "11": "15",
                                    "12": "17",
                                    "13": "1061"
                                },
                                {
                                    "0": "72057594038779904",
                                    "1": "1993058136",
                                    "2": "1",
                                    "3": "1",
                                    "4": "0",
                                    "5": "0",
                                    "6": "0",
                                    "7": "0",
                                    "8": "0",
                                    "9": "0",
                                    "10": "0",
                                    "11": "0",
                                    "12": "0",
                                    "13": "0"
                                },
                                {
                                    "0": "72057594038845440",
                                    "1": "1993058136",
                                    "2": "2",
                                    "3": "1",
                                    "4": "0",
                                    "5": "0",
                                    "6": "0",
                                    "7": "0",
                                    "8": "0",
                                    "9": "0",
                                    "10": "0",
                                    "11": "0",
                                    "12": "0",
                                    "13": "0"
                                },
                                {
                                    "0": "72057594038910976",
                                    "1": "2025058250",
                                    "2": "1",
                                    "3": "1",
                                    "4": "0",
                                    "5": "0",
                                    "6": "0",
                                    "7": "0",
                                    "8": "0",
                                    "9": "0",
                                    "10": "0",
                                    "11": "0",
                                    "12": "0",
                                    "13": "0"
                                },
                                {
                                    "0": "72057594038976512",
                                    "1": "2025058250",
                                    "2": "2",
                                    "3": "1",
                                    "4": "0",
                                    "5": "0",
                                    "6": "0",
                                    "7": "0",
                                    "8": "0",
                                    "9": "0",
                                    "10": "0",
                                    "11": "0",
                                    "12": "0",
                                    "13": "0"
                                },
                                {
                                    "0": "72057594039042048",
                                    "1": "2057058364",
                                    "2": "1",
                                    "3": "1",
                                    "4": "0",
                                    "5": "0",
                                    "6": "0",
                                    "7": "0",
                                    "8": "0",
                                    "9": "0",
                                    "10": "0",
                                    "11": "0",
                                    "12": "0",
                                    "13": "0"
                                },
                                {
                                    "0": "72057594039107584",
                                    "1": "2057058364",
                                    "2": "2",
                                    "3": "1",
                                    "4": "0",
                                    "5": "0",
                                    "6": "0",
                                    "7": "0",
                                    "8": "0",
                                    "9": "0",
                                    "10": "0",
                                    "11": "0",
                                    "12": "0",
                                    "13": "0"
                                },
                                {
                                    "0": "72057594038386688",
                                    "1": "2073058421",
                                    "2": "1",
                                    "3": "1",
                                    "4": "0",
                                    "5": "0",
                                    "6": "0",
                                    "7": "0",
                                    "8": "0",
                                    "9": "0",
                                    "10": "0",
                                    "11": "0",
                                    "12": "0",
                                    "13": "0"
                                },
                                {
                                    "0": "72057594038452224",
                                    "1": "2073058421",
                                    "2": "2",
                                    "3": "1",
                                    "4": "0",
                                    "5": "0",
                                    "6": "0",
                                    "7": "0",
                                    "8": "0",
                                    "9": "0",
                                    "10": "0",
                                    "11": "0",
                                    "12": "0",
                                    "13": "0"
                                },
                                {
                                    "0": "72057594038583296",
                                    "1": "2089058478",
                                    "2": "1",
                                    "3": "1",
                                    "4": "0",
                                    "5": "0",
                                    "6": "0",
                                    "7": "0",
                                    "8": "0",
                                    "9": "0",
                                    "10": "0",
                                    "11": "0",
                                    "12": "0",
                                    "13": "0"
                                },
                                {
                                    "0": "72057594038648832",
                                    "1": "2089058478",
                                    "2": "2",
                                    "3": "1",
                                    "4": "0",
                                    "5": "0",
                                    "6": "0",
                                    "7": "0",
                                    "8": "0",
                                    "9": "0",
                                    "10": "0",
                                    "11": "0",
                                    "12": "0",
                                    "13": "0"
                                },
                                {
                                    "0": "72057594038714368",
                                    "1": "2089058478",
                                    "2": "3",
                                    "3": "1",
                                    "4": "0",
                                    "5": "0",
                                    "6": "0",
                                    "7": "0",
                                    "8": "0",
                                    "9": "0",
                                    "10": "0",
                                    "11": "0",
                                    "12": "0",
                                    "13": "0"
                                },
                                {
                                    "0": "72057594039238656",
                                    "1": "2105058535",
                                    "2": "1",
                                    "3": "1",
                                    "4": "0",
                                    "5": "0",
                                    "6": "0",
                                    "7": "0",
                                    "8": "0",
                                    "9": "0",
                                    "10": "0",
                                    "11": "0",
                                    "12": "0",
                                    "13": "0"
                                }
                            ]
                        },
                        "text/html": [
                            "<table>",
                            "<tr><th>partition_id</th><th>object_id</th><th>index_id</th><th>partition_number</th><th>in_row_data_page_count</th><th>in_row_used_page_count</th><th>in_row_reserved_page_count</th><th>lob_used_page_count</th><th>lob_reserved_page_count</th><th>row_overflow_used_page_count</th><th>row_overflow_reserved_page_count</th><th>used_page_count</th><th>reserved_page_count</th><th>row_count</th></tr>",
                            "<tr><td>196608</td><td>3</td><td>1</td><td>1</td><td>15</td><td>17</td><td>25</td><td>0</td><td>0</td><td>0</td><td>0</td><td>17</td><td>25</td><td>1247</td></tr>",
                            "<tr><td>327680</td><td>5</td><td>1</td><td>1</td><td>3</td><td>5</td><td>5</td><td>0</td><td>0</td><td>0</td><td>0</td><td>5</td><td>5</td><td>163</td></tr>",
                            "<tr><td>281474977103872</td><td>6</td><td>1</td><td>1</td><td>0</td><td>0</td><td>0</td><td>0</td><td>0</td><td>0</td><td>0</td><td>0</td><td>0</td><td>0</td></tr>",
                            "<tr><td>458752</td><td>7</td><td>1</td><td>1</td><td>2</td><td>4</td><td>4</td><td>0</td><td>0</td><td>0</td><td>0</td><td>4</td><td>4</td><td>193</td></tr>",
                            "<tr><td>562949953880064</td><td>7</td><td>2</td><td>1</td><td>1</td><td>2</td><td>2</td><td>0</td><td>0</td><td>0</td><td>0</td><td>2</td><td>2</td><td>193</td></tr>",
                            "<tr><td>524288</td><td>8</td><td>0</td><td>1</td><td>1</td><td>2</td><td>2</td><td>0</td><td>0</td><td>0</td><td>0</td><td>2</td><td>2</td><td>2</td></tr>",
                            "<tr><td>281474977300480</td><td>9</td><td>1</td><td>1</td><td>0</td><td>0</td><td>0</td><td>0</td><td>0</td><td>0</td><td>0</td><td>0</td><td>0</td><td>0</td></tr>",
                            "<tr><td>281474977824768</td><td>17</td><td>1</td><td>1</td><td>0</td><td>0</td><td>0</td><td>0</td><td>0</td><td>0</td><td>0</td><td>0</td><td>0</td><td>0</td></tr>",
                            "<tr><td>562949954535424</td><td>17</td><td>2</td><td>1</td><td>0</td><td>0</td><td>0</td><td>0</td><td>0</td><td>0</td><td>0</td><td>0</td><td>0</td><td>0</td></tr>",
                            "<tr><td>844424931246080</td><td>17</td><td>3</td><td>1</td><td>0</td><td>0</td><td>0</td><td>0</td><td>0</td><td>0</td><td>0</td><td>0</td><td>0</td><td>0</td></tr>",
                            "<tr><td>281474977890304</td><td>18</td><td>1</td><td>1</td><td>0</td><td>0</td><td>0</td><td>0</td><td>0</td><td>0</td><td>0</td><td>0</td><td>0</td><td>0</td></tr>",
                            "<tr><td>562949954600960</td><td>18</td><td>2</td><td>1</td><td>0</td><td>0</td><td>0</td><td>0</td><td>0</td><td>0</td><td>0</td><td>0</td><td>0</td><td>0</td></tr>",
                            "<tr><td>281474977955840</td><td>19</td><td>1</td><td>1</td><td>0</td><td>0</td><td>0</td><td>0</td><td>0</td><td>0</td><td>0</td><td>0</td><td>0</td><td>0</td></tr>",
                            "<tr><td>281474978021376</td><td>20</td><td>1</td><td>1</td><td>1</td><td>2</td><td>2</td><td>0</td><td>0</td><td>0</td><td>0</td><td>2</td><td>2</td><td>2</td></tr>",
                            "<tr><td>281474978086912</td><td>21</td><td>1</td><td>1</td><td>0</td><td>0</td><td>0</td><td>0</td><td>0</td><td>0</td><td>0</td><td>0</td><td>0</td><td>0</td></tr>",
                            "<tr><td>281474978152448</td><td>22</td><td>1</td><td>1</td><td>0</td><td>0</td><td>0</td><td>0</td><td>0</td><td>0</td><td>0</td><td>0</td><td>0</td><td>0</td></tr>",
                            "<tr><td>281474978217984</td><td>23</td><td>1</td><td>1</td><td>1</td><td>2</td><td>2</td><td>0</td><td>0</td><td>0</td><td>0</td><td>2</td><td>2</td><td>1</td></tr>",
                            "<tr><td>281474978283520</td><td>24</td><td>1</td><td>1</td><td>1</td><td>2</td><td>2</td><td>0</td><td>0</td><td>0</td><td>0</td><td>2</td><td>2</td><td>2</td></tr>",
                            "<tr><td>281474978349056</td><td>25</td><td>1</td><td>1</td><td>0</td><td>0</td><td>0</td><td>0</td><td>0</td><td>0</td><td>0</td><td>0</td><td>0</td><td>0</td></tr>",
                            "<tr><td>281474978480128</td><td>27</td><td>1</td><td>1</td><td>1</td><td>2</td><td>2</td><td>0</td><td>0</td><td>0</td><td>0</td><td>2</td><td>2</td><td>14</td></tr>",
                            "<tr><td>562949955190784</td><td>27</td><td>2</td><td>1</td><td>1</td><td>2</td><td>2</td><td>0</td><td>0</td><td>0</td><td>0</td><td>2</td><td>2</td><td>14</td></tr>",
                            "<tr><td>844424931901440</td><td>27</td><td>3</td><td>1</td><td>1</td><td>2</td><td>2</td><td>0</td><td>0</td><td>0</td><td>0</td><td>2</td><td>2</td><td>14</td></tr>",
                            "<tr><td>281474978545664</td><td>28</td><td>1</td><td>1</td><td>0</td><td>0</td><td>0</td><td>0</td><td>0</td><td>0</td><td>0</td><td>0</td><td>0</td><td>0</td></tr>",
                            "<tr><td>562949955256320</td><td>28</td><td>2</td><td>1</td><td>0</td><td>0</td><td>0</td><td>0</td><td>0</td><td>0</td><td>0</td><td>0</td><td>0</td><td>0</td></tr>",
                            "<tr><td>844424931966976</td><td>28</td><td>3</td><td>1</td><td>0</td><td>0</td><td>0</td><td>0</td><td>0</td><td>0</td><td>0</td><td>0</td><td>0</td><td>0</td></tr>",
                            "<tr><td>281474978611200</td><td>29</td><td>1</td><td>1</td><td>1</td><td>2</td><td>2</td><td>0</td><td>0</td><td>0</td><td>0</td><td>2</td><td>2</td><td>190</td></tr>",
                            "<tr><td>281474978938880</td><td>34</td><td>1</td><td>1</td><td>34</td><td>36</td><td>41</td><td>0</td><td>0</td><td>0</td><td>0</td><td>36</td><td>41</td><td>2543</td></tr>",
                            "<tr><td>562949955649536</td><td>34</td><td>2</td><td>1</td><td>29</td><td>31</td><td>33</td><td>0</td><td>0</td><td>0</td><td>0</td><td>31</td><td>33</td><td>2543</td></tr>",
                            "<tr><td>844424932360192</td><td>34</td><td>3</td><td>1</td><td>27</td><td>29</td><td>33</td><td>0</td><td>0</td><td>0</td><td>0</td><td>29</td><td>33</td><td>2543</td></tr>",
                            "<tr><td>1125899909070848</td><td>34</td><td>4</td><td>1</td><td>5</td><td>7</td><td>7</td><td>0</td><td>0</td><td>0</td><td>0</td><td>7</td><td>7</td><td>2543</td></tr>",
                            "<tr><td>281474979004416</td><td>35</td><td>1</td><td>1</td><td>0</td><td>0</td><td>0</td><td>0</td><td>0</td><td>0</td><td>0</td><td>0</td><td>0</td><td>0</td></tr>",
                            "<tr><td>281474979069952</td><td>36</td><td>1</td><td>1</td><td>0</td><td>0</td><td>0</td><td>0</td><td>0</td><td>0</td><td>0</td><td>0</td><td>0</td><td>0</td></tr>",
                            "<tr><td>562949955780608</td><td>36</td><td>2</td><td>1</td><td>0</td><td>0</td><td>0</td><td>0</td><td>0</td><td>0</td><td>0</td><td>0</td><td>0</td><td>0</td></tr>",
                            "<tr><td>281474979135488</td><td>37</td><td>1</td><td>1</td><td>0</td><td>0</td><td>0</td><td>0</td><td>0</td><td>0</td><td>0</td><td>0</td><td>0</td><td>0</td></tr>",
                            "<tr><td>281474979201024</td><td>38</td><td>1</td><td>1</td><td>0</td><td>0</td><td>0</td><td>0</td><td>0</td><td>0</td><td>0</td><td>0</td><td>0</td><td>0</td></tr>",
                            "<tr><td>562949955911680</td><td>38</td><td>2</td><td>1</td><td>0</td><td>0</td><td>0</td><td>0</td><td>0</td><td>0</td><td>0</td><td>0</td><td>0</td><td>0</td></tr>",
                            "<tr><td>281474979332096</td><td>40</td><td>1</td><td>1</td><td>0</td><td>0</td><td>0</td><td>0</td><td>0</td><td>0</td><td>0</td><td>0</td><td>0</td><td>0</td></tr>",
                            "<tr><td>562949956042752</td><td>40</td><td>2</td><td>1</td><td>0</td><td>0</td><td>0</td><td>0</td><td>0</td><td>0</td><td>0</td><td>0</td><td>0</td><td>0</td></tr>",
                            "<tr><td>281474979397632</td><td>41</td><td>1</td><td>1</td><td>20</td><td>22</td><td>25</td><td>0</td><td>0</td><td>0</td><td>0</td><td>22</td><td>25</td><td>1024</td></tr>",
                            "<tr><td>562949956108288</td><td>41</td><td>2</td><td>1</td><td>9</td><td>11</td><td>17</td><td>0</td><td>0</td><td>0</td><td>0</td><td>11</td><td>17</td><td>1024</td></tr>",
                            "<tr><td>281474979463168</td><td>42</td><td>1</td><td>1</td><td>0</td><td>0</td><td>0</td><td>0</td><td>0</td><td>0</td><td>0</td><td>0</td><td>0</td><td>0</td></tr>",
                            "<tr><td>562949956173824</td><td>42</td><td>2</td><td>1</td><td>0</td><td>0</td><td>0</td><td>0</td><td>0</td><td>0</td><td>0</td><td>0</td><td>0</td><td>0</td></tr>",
                            "<tr><td>844424932884480</td><td>42</td><td>3</td><td>1</td><td>0</td><td>0</td><td>0</td><td>0</td><td>0</td><td>0</td><td>0</td><td>0</td><td>0</td><td>0</td></tr>",
                            "<tr><td>281474979528704</td><td>43</td><td>1</td><td>1</td><td>0</td><td>0</td><td>0</td><td>0</td><td>0</td><td>0</td><td>0</td><td>0</td><td>0</td><td>0</td></tr>",
                            "<tr><td>562949956239360</td><td>43</td><td>2</td><td>1</td><td>0</td><td>0</td><td>0</td><td>0</td><td>0</td><td>0</td><td>0</td><td>0</td><td>0</td><td>0</td></tr>",
                            "<tr><td>281474979594240</td><td>44</td><td>1</td><td>1</td><td>1</td><td>2</td><td>2</td><td>0</td><td>0</td><td>0</td><td>0</td><td>2</td><td>2</td><td>1</td></tr>",
                            "<tr><td>562949956304896</td><td>44</td><td>2</td><td>1</td><td>1</td><td>2</td><td>2</td><td>0</td><td>0</td><td>0</td><td>0</td><td>2</td><td>2</td><td>1</td></tr>",
                            "<tr><td>281474979659776</td><td>45</td><td>1</td><td>1</td><td>0</td><td>0</td><td>0</td><td>0</td><td>0</td><td>0</td><td>0</td><td>0</td><td>0</td><td>0</td></tr>",
                            "<tr><td>281474979725312</td><td>46</td><td>1</td><td>1</td><td>0</td><td>0</td><td>0</td><td>0</td><td>0</td><td>0</td><td>0</td><td>0</td><td>0</td><td>0</td></tr>",
                            "<tr><td>562949956435968</td><td>46</td><td>2</td><td>1</td><td>0</td><td>0</td><td>0</td><td>0</td><td>0</td><td>0</td><td>0</td><td>0</td><td>0</td><td>0</td></tr>",
                            "<tr><td>844424933146624</td><td>46</td><td>3</td><td>1</td><td>0</td><td>0</td><td>0</td><td>0</td><td>0</td><td>0</td><td>0</td><td>0</td><td>0</td><td>0</td></tr>",
                            "<tr><td>1125899909857280</td><td>46</td><td>4</td><td>1</td><td>0</td><td>0</td><td>0</td><td>0</td><td>0</td><td>0</td><td>0</td><td>0</td><td>0</td><td>0</td></tr>",
                            "<tr><td>281474979790848</td><td>47</td><td>1</td><td>1</td><td>0</td><td>0</td><td>0</td><td>0</td><td>0</td><td>0</td><td>0</td><td>0</td><td>0</td><td>0</td></tr>",
                            "<tr><td>281474979856384</td><td>48</td><td>1</td><td>1</td><td>0</td><td>0</td><td>0</td><td>0</td><td>0</td><td>0</td><td>0</td><td>0</td><td>0</td><td>0</td></tr>",
                            "<tr><td>281474979921920</td><td>49</td><td>1</td><td>1</td><td>0</td><td>0</td><td>0</td><td>0</td><td>0</td><td>0</td><td>0</td><td>0</td><td>0</td><td>0</td></tr>",
                            "<tr><td>281474979987456</td><td>50</td><td>1</td><td>1</td><td>1</td><td>2</td><td>2</td><td>0</td><td>0</td><td>0</td><td>0</td><td>2</td><td>2</td><td>34</td></tr>",
                            "<tr><td>562949956698112</td><td>50</td><td>2</td><td>1</td><td>1</td><td>2</td><td>2</td><td>0</td><td>0</td><td>0</td><td>0</td><td>2</td><td>2</td><td>34</td></tr>",
                            "<tr><td>844424933408768</td><td>50</td><td>3</td><td>1</td><td>1</td><td>2</td><td>2</td><td>0</td><td>0</td><td>0</td><td>0</td><td>2</td><td>2</td><td>34</td></tr>",
                            "<tr><td>281474980052992</td><td>51</td><td>1</td><td>1</td><td>1</td><td>2</td><td>9</td><td>0</td><td>0</td><td>0</td><td>0</td><td>2</td><td>9</td><td>1</td></tr>",
                            "<tr><td>562949956763648</td><td>51</td><td>2</td><td>1</td><td>1</td><td>2</td><td>9</td><td>0</td><td>0</td><td>0</td><td>0</td><td>2</td><td>9</td><td>1</td></tr>",
                            "<tr><td>281474980249600</td><td>54</td><td>1</td><td>1</td><td>6</td><td>8</td><td>14</td><td>0</td><td>0</td><td>0</td><td>0</td><td>8</td><td>14</td><td>228</td></tr>",
                            "<tr><td>562949956960256</td><td>54</td><td>2</td><td>1</td><td>2</td><td>4</td><td>10</td><td>0</td><td>0</td><td>0</td><td>0</td><td>4</td><td>10</td><td>228</td></tr>",
                            "<tr><td>281474980315136</td><td>55</td><td>1</td><td>1</td><td>3</td><td>5</td><td>12</td><td>0</td><td>0</td><td>0</td><td>0</td><td>5</td><td>12</td><td>432</td></tr>",
                            "<tr><td>562949957025792</td><td>55</td><td>2</td><td>1</td><td>2</td><td>4</td><td>4</td><td>0</td><td>0</td><td>0</td><td>0</td><td>4</td><td>4</td><td>432</td></tr>",
                            "<tr><td>281474980380672</td><td>56</td><td>1</td><td>1</td><td>0</td><td>0</td><td>0</td><td>0</td><td>0</td><td>0</td><td>0</td><td>0</td><td>0</td><td>0</td></tr>",
                            "<tr><td>562949957091328</td><td>56</td><td>2</td><td>1</td><td>0</td><td>0</td><td>0</td><td>0</td><td>0</td><td>0</td><td>0</td><td>0</td><td>0</td><td>0</td></tr>",
                            "<tr><td>281474980446208</td><td>57</td><td>1</td><td>1</td><td>0</td><td>0</td><td>0</td><td>0</td><td>0</td><td>0</td><td>0</td><td>0</td><td>0</td><td>0</td></tr>",
                            "<tr><td>281474980511744</td><td>58</td><td>1</td><td>1</td><td>1</td><td>2</td><td>2</td><td>0</td><td>0</td><td>0</td><td>0</td><td>2</td><td>2</td><td>23</td></tr>",
                            "<tr><td>562949957222400</td><td>58</td><td>2</td><td>1</td><td>1</td><td>2</td><td>2</td><td>0</td><td>0</td><td>0</td><td>0</td><td>2</td><td>2</td><td>23</td></tr>",
                            "<tr><td>281474980577280</td><td>59</td><td>1</td><td>1</td><td>0</td><td>0</td><td>0</td><td>0</td><td>0</td><td>0</td><td>0</td><td>0</td><td>0</td><td>0</td></tr>",
                            "<tr><td>281474980642816</td><td>60</td><td>1</td><td>1</td><td>22</td><td>24</td><td>25</td><td>8</td><td>12</td><td>0</td><td>0</td><td>32</td><td>37</td><td>252</td></tr>",
                            "<tr><td>281474980773888</td><td>62</td><td>1</td><td>1</td><td>0</td><td>0</td><td>0</td><td>0</td><td>0</td><td>0</td><td>0</td><td>0</td><td>0</td><td>0</td></tr>",
                            "<tr><td>281474980839424</td><td>63</td><td>1</td><td>1</td><td>0</td><td>0</td><td>0</td><td>0</td><td>0</td><td>0</td><td>0</td><td>0</td><td>0</td><td>0</td></tr>",
                            "<tr><td>281474980904960</td><td>64</td><td>1</td><td>1</td><td>1</td><td>2</td><td>2</td><td>0</td><td>0</td><td>0</td><td>0</td><td>2</td><td>2</td><td>20</td></tr>",
                            "<tr><td>562949957615616</td><td>64</td><td>2</td><td>1</td><td>1</td><td>2</td><td>2</td><td>0</td><td>0</td><td>0</td><td>0</td><td>2</td><td>2</td><td>20</td></tr>",
                            "<tr><td>281474980970496</td><td>65</td><td>1</td><td>1</td><td>0</td><td>0</td><td>0</td><td>0</td><td>0</td><td>0</td><td>0</td><td>0</td><td>0</td><td>0</td></tr>",
                            "<tr><td>281474981101568</td><td>67</td><td>1</td><td>1</td><td>0</td><td>0</td><td>0</td><td>0</td><td>0</td><td>0</td><td>0</td><td>0</td><td>0</td><td>0</td></tr>",
                            "<tr><td>562949957812224</td><td>67</td><td>2</td><td>1</td><td>0</td><td>0</td><td>0</td><td>0</td><td>0</td><td>0</td><td>0</td><td>0</td><td>0</td><td>0</td></tr>",
                            "<tr><td>844424934522880</td><td>67</td><td>3</td><td>1</td><td>0</td><td>0</td><td>0</td><td>0</td><td>0</td><td>0</td><td>0</td><td>0</td><td>0</td><td>0</td></tr>",
                            "<tr><td>281474981167104</td><td>68</td><td>1</td><td>1</td><td>0</td><td>0</td><td>0</td><td>0</td><td>0</td><td>0</td><td>0</td><td>0</td><td>0</td><td>0</td></tr>",
                            "<tr><td>281474981232640</td><td>69</td><td>1</td><td>1</td><td>1</td><td>2</td><td>2</td><td>0</td><td>0</td><td>0</td><td>0</td><td>2</td><td>2</td><td>1</td></tr>",
                            "<tr><td>562949957943296</td><td>69</td><td>2</td><td>1</td><td>1</td><td>2</td><td>2</td><td>0</td><td>0</td><td>0</td><td>0</td><td>2</td><td>2</td><td>1</td></tr>",
                            "<tr><td>844424934653952</td><td>69</td><td>3</td><td>1</td><td>1</td><td>2</td><td>2</td><td>0</td><td>0</td><td>0</td><td>0</td><td>2</td><td>2</td><td>1</td></tr>",
                            "<tr><td>281474981363712</td><td>71</td><td>1</td><td>1</td><td>0</td><td>0</td><td>0</td><td>0</td><td>0</td><td>0</td><td>0</td><td>0</td><td>0</td><td>0</td></tr>",
                            "<tr><td>281474981429248</td><td>72</td><td>1</td><td>1</td><td>0</td><td>0</td><td>0</td><td>0</td><td>0</td><td>0</td><td>0</td><td>0</td><td>0</td><td>0</td></tr>",
                            "<tr><td>281474981494784</td><td>73</td><td>1</td><td>1</td><td>0</td><td>0</td><td>0</td><td>0</td><td>0</td><td>0</td><td>0</td><td>0</td><td>0</td><td>0</td></tr>",
                            "<tr><td>281474981560320</td><td>74</td><td>1</td><td>1</td><td>1</td><td>2</td><td>2</td><td>0</td><td>0</td><td>0</td><td>0</td><td>2</td><td>2</td><td>194</td></tr>",
                            "<tr><td>562949958270976</td><td>74</td><td>2</td><td>1</td><td>1</td><td>2</td><td>2</td><td>0</td><td>0</td><td>0</td><td>0</td><td>2</td><td>2</td><td>194</td></tr>",
                            "<tr><td>281474981625856</td><td>75</td><td>1</td><td>1</td><td>1</td><td>2</td><td>2</td><td>0</td><td>0</td><td>0</td><td>0</td><td>2</td><td>2</td><td>107</td></tr>",
                            "<tr><td>562949958336512</td><td>75</td><td>2</td><td>1</td><td>1</td><td>2</td><td>2</td><td>0</td><td>0</td><td>0</td><td>0</td><td>2</td><td>2</td><td>107</td></tr>",
                            "<tr><td>281474981822464</td><td>78</td><td>1</td><td>1</td><td>0</td><td>0</td><td>0</td><td>0</td><td>0</td><td>0</td><td>0</td><td>0</td><td>0</td><td>0</td></tr>",
                            "<tr><td>562949958533120</td><td>78</td><td>2</td><td>1</td><td>0</td><td>0</td><td>0</td><td>0</td><td>0</td><td>0</td><td>0</td><td>0</td><td>0</td><td>0</td></tr>",
                            "<tr><td>281474981888000</td><td>79</td><td>1</td><td>1</td><td>0</td><td>0</td><td>0</td><td>0</td><td>0</td><td>0</td><td>0</td><td>0</td><td>0</td><td>0</td></tr>",
                            "<tr><td>281474981953536</td><td>80</td><td>1</td><td>1</td><td>0</td><td>0</td><td>0</td><td>0</td><td>0</td><td>0</td><td>0</td><td>0</td><td>0</td><td>0</td></tr>",
                            "<tr><td>281474982084608</td><td>82</td><td>1</td><td>1</td><td>0</td><td>0</td><td>0</td><td>0</td><td>0</td><td>0</td><td>0</td><td>0</td><td>0</td><td>0</td></tr>",
                            "<tr><td>281474982215680</td><td>84</td><td>1</td><td>1</td><td>0</td><td>0</td><td>0</td><td>0</td><td>0</td><td>0</td><td>0</td><td>0</td><td>0</td><td>0</td></tr>",
                            "<tr><td>281474982281216</td><td>85</td><td>1</td><td>1</td><td>0</td><td>0</td><td>0</td><td>0</td><td>0</td><td>0</td><td>0</td><td>0</td><td>0</td><td>0</td></tr>",
                            "<tr><td>281474982346752</td><td>86</td><td>1</td><td>1</td><td>0</td><td>0</td><td>0</td><td>0</td><td>0</td><td>0</td><td>0</td><td>0</td><td>0</td><td>0</td></tr>",
                            "<tr><td>562949959057408</td><td>86</td><td>2</td><td>1</td><td>0</td><td>0</td><td>0</td><td>0</td><td>0</td><td>0</td><td>0</td><td>0</td><td>0</td><td>0</td></tr>",
                            "<tr><td>844424935768064</td><td>86</td><td>3</td><td>1</td><td>0</td><td>0</td><td>0</td><td>0</td><td>0</td><td>0</td><td>0</td><td>0</td><td>0</td><td>0</td></tr>",
                            "<tr><td>281474982412288</td><td>87</td><td>1</td><td>1</td><td>0</td><td>0</td><td>0</td><td>0</td><td>0</td><td>0</td><td>0</td><td>0</td><td>0</td><td>0</td></tr>",
                            "<tr><td>281474982543360</td><td>89</td><td>1</td><td>1</td><td>0</td><td>0</td><td>0</td><td>0</td><td>0</td><td>0</td><td>0</td><td>0</td><td>0</td><td>0</td></tr>",
                            "<tr><td>562949959254016</td><td>89</td><td>2</td><td>1</td><td>0</td><td>0</td><td>0</td><td>0</td><td>0</td><td>0</td><td>0</td><td>0</td><td>0</td><td>0</td></tr>",
                            "<tr><td>281474982608896</td><td>90</td><td>1</td><td>1</td><td>1</td><td>2</td><td>2</td><td>0</td><td>0</td><td>0</td><td>0</td><td>2</td><td>2</td><td>98</td></tr>",
                            "<tr><td>562949959319552</td><td>90</td><td>2</td><td>1</td><td>1</td><td>2</td><td>2</td><td>0</td><td>0</td><td>0</td><td>0</td><td>2</td><td>2</td><td>98</td></tr>",
                            "<tr><td>281474982674432</td><td>91</td><td>1</td><td>1</td><td>1</td><td>2</td><td>2</td><td>0</td><td>0</td><td>0</td><td>0</td><td>2</td><td>2</td><td>100</td></tr>",
                            "<tr><td>562949959385088</td><td>91</td><td>2</td><td>1</td><td>1</td><td>2</td><td>2</td><td>0</td><td>0</td><td>0</td><td>0</td><td>2</td><td>2</td><td>100</td></tr>",
                            "<tr><td>281474982739968</td><td>92</td><td>1</td><td>1</td><td>1</td><td>2</td><td>2</td><td>0</td><td>0</td><td>0</td><td>0</td><td>2</td><td>2</td><td>112</td></tr>",
                            "<tr><td>281474982805504</td><td>93</td><td>1</td><td>1</td><td>1</td><td>2</td><td>2</td><td>0</td><td>0</td><td>0</td><td>0</td><td>2</td><td>2</td><td>19</td></tr>",
                            "<tr><td>562949959516160</td><td>93</td><td>2</td><td>1</td><td>1</td><td>2</td><td>2</td><td>0</td><td>0</td><td>0</td><td>0</td><td>2</td><td>2</td><td>19</td></tr>",
                            "<tr><td>281474982871040</td><td>94</td><td>1</td><td>1</td><td>0</td><td>0</td><td>0</td><td>0</td><td>0</td><td>0</td><td>0</td><td>0</td><td>0</td><td>0</td></tr>",
                            "<tr><td>281474982936576</td><td>95</td><td>1</td><td>1</td><td>0</td><td>0</td><td>0</td><td>0</td><td>0</td><td>0</td><td>0</td><td>0</td><td>0</td><td>0</td></tr>",
                            "<tr><td>562949959647232</td><td>95</td><td>2</td><td>1</td><td>0</td><td>0</td><td>0</td><td>0</td><td>0</td><td>0</td><td>0</td><td>0</td><td>0</td><td>0</td></tr>",
                            "<tr><td>844424936357888</td><td>95</td><td>3</td><td>1</td><td>0</td><td>0</td><td>0</td><td>0</td><td>0</td><td>0</td><td>0</td><td>0</td><td>0</td><td>0</td></tr>",
                            "<tr><td>281474983002112</td><td>96</td><td>1</td><td>1</td><td>0</td><td>0</td><td>0</td><td>0</td><td>0</td><td>0</td><td>0</td><td>0</td><td>0</td><td>0</td></tr>",
                            "<tr><td>562949959712768</td><td>96</td><td>2</td><td>1</td><td>0</td><td>0</td><td>0</td><td>0</td><td>0</td><td>0</td><td>0</td><td>0</td><td>0</td><td>0</td></tr>",
                            "<tr><td>844424936423424</td><td>96</td><td>3</td><td>1</td><td>0</td><td>0</td><td>0</td><td>0</td><td>0</td><td>0</td><td>0</td><td>0</td><td>0</td><td>0</td></tr>",
                            "<tr><td>281474983067648</td><td>97</td><td>1</td><td>1</td><td>1</td><td>2</td><td>2</td><td>0</td><td>0</td><td>0</td><td>0</td><td>2</td><td>2</td><td>3</td></tr>",
                            "<tr><td>562949959778304</td><td>97</td><td>2</td><td>1</td><td>1</td><td>2</td><td>2</td><td>0</td><td>0</td><td>0</td><td>0</td><td>2</td><td>2</td><td>3</td></tr>",
                            "<tr><td>281474983133184</td><td>98</td><td>1</td><td>1</td><td>0</td><td>0</td><td>0</td><td>0</td><td>0</td><td>0</td><td>0</td><td>0</td><td>0</td><td>0</td></tr>",
                            "<tr><td>562949959843840</td><td>98</td><td>2</td><td>1</td><td>0</td><td>0</td><td>0</td><td>0</td><td>0</td><td>0</td><td>0</td><td>0</td><td>0</td><td>0</td></tr>",
                            "<tr><td>72057594040483840</td><td>101575400</td><td>1</td><td>1</td><td>0</td><td>0</td><td>0</td><td>0</td><td>0</td><td>0</td><td>0</td><td>0</td><td>0</td><td>0</td></tr>",
                            "<tr><td>72057594040549376</td><td>101575400</td><td>2</td><td>1</td><td>0</td><td>0</td><td>0</td><td>0</td><td>0</td><td>0</td><td>0</td><td>0</td><td>0</td><td>0</td></tr>",
                            "<tr><td>72057594040680448</td><td>117575457</td><td>1</td><td>1</td><td>0</td><td>0</td><td>0</td><td>0</td><td>0</td><td>0</td><td>0</td><td>0</td><td>0</td><td>0</td></tr>",
                            "<tr><td>72057594040745984</td><td>117575457</td><td>2</td><td>1</td><td>0</td><td>0</td><td>0</td><td>0</td><td>0</td><td>0</td><td>0</td><td>0</td><td>0</td><td>0</td></tr>",
                            "<tr><td>72057594040811520</td><td>117575457</td><td>3</td><td>1</td><td>0</td><td>0</td><td>0</td><td>0</td><td>0</td><td>0</td><td>0</td><td>0</td><td>0</td><td>0</td></tr>",
                            "<tr><td>72057594040942592</td><td>133575514</td><td>1</td><td>1</td><td>0</td><td>0</td><td>0</td><td>0</td><td>0</td><td>0</td><td>0</td><td>0</td><td>0</td><td>0</td></tr>",
                            "<tr><td>72057594041008128</td><td>133575514</td><td>2</td><td>1</td><td>0</td><td>0</td><td>0</td><td>0</td><td>0</td><td>0</td><td>0</td><td>0</td><td>0</td><td>0</td></tr>",
                            "<tr><td>72057594041139200</td><td>149575571</td><td>2</td><td>1</td><td>0</td><td>0</td><td>0</td><td>0</td><td>0</td><td>0</td><td>0</td><td>0</td><td>0</td><td>0</td></tr>",
                            "<tr><td>72057594041270272</td><td>165575628</td><td>1</td><td>1</td><td>0</td><td>0</td><td>0</td><td>0</td><td>0</td><td>0</td><td>0</td><td>0</td><td>0</td><td>0</td></tr>",
                            "<tr><td>72057594041335808</td><td>165575628</td><td>2</td><td>1</td><td>0</td><td>0</td><td>0</td><td>0</td><td>0</td><td>0</td><td>0</td><td>0</td><td>0</td><td>0</td></tr>",
                            "<tr><td>72057594041466880</td><td>181575685</td><td>1</td><td>1</td><td>0</td><td>0</td><td>0</td><td>0</td><td>0</td><td>0</td><td>0</td><td>0</td><td>0</td><td>0</td></tr>",
                            "<tr><td>72057594041532416</td><td>181575685</td><td>2</td><td>1</td><td>0</td><td>0</td><td>0</td><td>0</td><td>0</td><td>0</td><td>0</td><td>0</td><td>0</td><td>0</td></tr>",
                            "<tr><td>72057594041663488</td><td>197575742</td><td>1</td><td>1</td><td>0</td><td>0</td><td>0</td><td>0</td><td>0</td><td>0</td><td>0</td><td>0</td><td>0</td><td>0</td></tr>",
                            "<tr><td>72057594041729024</td><td>197575742</td><td>2</td><td>1</td><td>0</td><td>0</td><td>0</td><td>0</td><td>0</td><td>0</td><td>0</td><td>0</td><td>0</td><td>0</td></tr>",
                            "<tr><td>72057594041860096</td><td>213575799</td><td>1</td><td>1</td><td>0</td><td>0</td><td>0</td><td>0</td><td>0</td><td>0</td><td>0</td><td>0</td><td>0</td><td>0</td></tr>",
                            "<tr><td>72057594041925632</td><td>213575799</td><td>2</td><td>1</td><td>0</td><td>0</td><td>0</td><td>0</td><td>0</td><td>0</td><td>0</td><td>0</td><td>0</td><td>0</td></tr>",
                            "<tr><td>72057594042056704</td><td>229575856</td><td>1</td><td>1</td><td>0</td><td>0</td><td>0</td><td>0</td><td>0</td><td>0</td><td>0</td><td>0</td><td>0</td><td>0</td></tr>",
                            "<tr><td>72057594042122240</td><td>229575856</td><td>2</td><td>1</td><td>0</td><td>0</td><td>0</td><td>0</td><td>0</td><td>0</td><td>0</td><td>0</td><td>0</td><td>0</td></tr>",
                            "<tr><td>72057594042253312</td><td>245575913</td><td>1</td><td>1</td><td>0</td><td>0</td><td>0</td><td>0</td><td>0</td><td>0</td><td>0</td><td>0</td><td>0</td><td>0</td></tr>",
                            "<tr><td>72057594042384384</td><td>261575970</td><td>1</td><td>1</td><td>0</td><td>0</td><td>0</td><td>0</td><td>0</td><td>0</td><td>0</td><td>0</td><td>0</td><td>0</td></tr>",
                            "<tr><td>72057594042449920</td><td>261575970</td><td>2</td><td>1</td><td>0</td><td>0</td><td>0</td><td>0</td><td>0</td><td>0</td><td>0</td><td>0</td><td>0</td><td>0</td></tr>",
                            "<tr><td>72057594042580992</td><td>277576027</td><td>1</td><td>1</td><td>0</td><td>0</td><td>0</td><td>0</td><td>0</td><td>0</td><td>0</td><td>0</td><td>0</td><td>0</td></tr>",
                            "<tr><td>72057594042646528</td><td>277576027</td><td>2</td><td>1</td><td>0</td><td>0</td><td>0</td><td>0</td><td>0</td><td>0</td><td>0</td><td>0</td><td>0</td><td>0</td></tr>",
                            "<tr><td>72057594042777600</td><td>293576084</td><td>1</td><td>1</td><td>0</td><td>0</td><td>0</td><td>0</td><td>0</td><td>0</td><td>0</td><td>0</td><td>0</td><td>0</td></tr>",
                            "<tr><td>72057594042843136</td><td>293576084</td><td>2</td><td>1</td><td>0</td><td>0</td><td>0</td><td>0</td><td>0</td><td>0</td><td>0</td><td>0</td><td>0</td><td>0</td></tr>",
                            "<tr><td>72057594043105280</td><td>565577053</td><td>1</td><td>1</td><td>0</td><td>0</td><td>0</td><td>0</td><td>0</td><td>0</td><td>0</td><td>0</td><td>0</td><td>0</td></tr>",
                            "<tr><td>72057594043170816</td><td>885578193</td><td>0</td><td>1</td><td>14</td><td>15</td><td>17</td><td>0</td><td>0</td><td>0</td><td>0</td><td>15</td><td>17</td><td>1061</td></tr>",
                            "<tr><td>72057594038779904</td><td>1993058136</td><td>1</td><td>1</td><td>0</td><td>0</td><td>0</td><td>0</td><td>0</td><td>0</td><td>0</td><td>0</td><td>0</td><td>0</td></tr>",
                            "<tr><td>72057594038845440</td><td>1993058136</td><td>2</td><td>1</td><td>0</td><td>0</td><td>0</td><td>0</td><td>0</td><td>0</td><td>0</td><td>0</td><td>0</td><td>0</td></tr>",
                            "<tr><td>72057594038910976</td><td>2025058250</td><td>1</td><td>1</td><td>0</td><td>0</td><td>0</td><td>0</td><td>0</td><td>0</td><td>0</td><td>0</td><td>0</td><td>0</td></tr>",
                            "<tr><td>72057594038976512</td><td>2025058250</td><td>2</td><td>1</td><td>0</td><td>0</td><td>0</td><td>0</td><td>0</td><td>0</td><td>0</td><td>0</td><td>0</td><td>0</td></tr>",
                            "<tr><td>72057594039042048</td><td>2057058364</td><td>1</td><td>1</td><td>0</td><td>0</td><td>0</td><td>0</td><td>0</td><td>0</td><td>0</td><td>0</td><td>0</td><td>0</td></tr>",
                            "<tr><td>72057594039107584</td><td>2057058364</td><td>2</td><td>1</td><td>0</td><td>0</td><td>0</td><td>0</td><td>0</td><td>0</td><td>0</td><td>0</td><td>0</td><td>0</td></tr>",
                            "<tr><td>72057594038386688</td><td>2073058421</td><td>1</td><td>1</td><td>0</td><td>0</td><td>0</td><td>0</td><td>0</td><td>0</td><td>0</td><td>0</td><td>0</td><td>0</td></tr>",
                            "<tr><td>72057594038452224</td><td>2073058421</td><td>2</td><td>1</td><td>0</td><td>0</td><td>0</td><td>0</td><td>0</td><td>0</td><td>0</td><td>0</td><td>0</td><td>0</td></tr>",
                            "<tr><td>72057594038583296</td><td>2089058478</td><td>1</td><td>1</td><td>0</td><td>0</td><td>0</td><td>0</td><td>0</td><td>0</td><td>0</td><td>0</td><td>0</td><td>0</td></tr>",
                            "<tr><td>72057594038648832</td><td>2089058478</td><td>2</td><td>1</td><td>0</td><td>0</td><td>0</td><td>0</td><td>0</td><td>0</td><td>0</td><td>0</td><td>0</td><td>0</td></tr>",
                            "<tr><td>72057594038714368</td><td>2089058478</td><td>3</td><td>1</td><td>0</td><td>0</td><td>0</td><td>0</td><td>0</td><td>0</td><td>0</td><td>0</td><td>0</td><td>0</td></tr>",
                            "<tr><td>72057594039238656</td><td>2105058535</td><td>1</td><td>1</td><td>0</td><td>0</td><td>0</td><td>0</td><td>0</td><td>0</td><td>0</td><td>0</td><td>0</td><td>0</td></tr>",
                            "</table>"
                        ]
                    }
                }
            ],
            "execution_count": 23
        },
        {
            "cell_type": "code",
            "source": [
                "CREATE SCHEMA BookStore_1;"
            ],
            "metadata": {
                "language": "sql",
                "azdata_cell_guid": "b2e8f068-75fb-4883-ab09-462c93786aa5"
            },
            "outputs": [
                {
                    "output_type": "display_data",
                    "data": {
                        "text/html": "Commands completed successfully."
                    },
                    "metadata": {}
                },
                {
                    "output_type": "display_data",
                    "data": {
                        "text/html": "Total execution time: 00:00:00.007"
                    },
                    "metadata": {}
                }
            ],
            "execution_count": 33
        },
        {
            "cell_type": "code",
            "source": [
                "CREATE TABLE [BookStore].[Books]\r\n",
                "(\r\n",
                "    id INT,\r\n",
                "    book_title VARCHAR(50),\r\n",
                "    genre VARCHAR(50),\r\n",
                "    price FLOAT,\r\n",
                "    year INT\r\n",
                ")  "
            ],
            "metadata": {
                "language": "sql",
                "azdata_cell_guid": "513b14dd-0d15-401e-bff6-47fc6ebdd743"
            },
            "outputs": [
                {
                    "output_type": "error",
                    "evalue": "Msg 2714, Level 16, State 6, Line 1\r\nThere is already an object named 'Books' in the database.",
                    "ename": "",
                    "traceback": []
                },
                {
                    "output_type": "display_data",
                    "data": {
                        "text/html": "Total execution time: 00:00:00.021"
                    },
                    "metadata": {}
                }
            ],
            "execution_count": 29
        },
        {
            "cell_type": "code",
            "source": [
                "INSERT INTO [BookStore].[Books]\r\n",
                "VALUES\r\n",
                "(1, 'The Candy House', 'Science Fiction', 626.05, 2022),\r\n",
                "(2, 'Fiona and Jane', 'Literary Fiction', 451.51 , 2022),\r\n",
                "(3, 'To Paradise', 'Historical Fiction', 379.28, 2022),\r\n",
                "(4, 'Book Lovers', 'Romance Novel', 223.25, 2022),\r\n",
                "(5, 'The Living Mountain', 'Fiction', 116.65, 2022 ),\r\n",
                "(6, 'Unfinished', 'Memoir,', 206.15, 2021),\r\n",
                "(7, 'Matrix', 'Historical Fiction', 309.30, 2021),\r\n",
                "(8, 'Beautiful Things', 'Biography', 407.55, 2021),\r\n",
                "(9, 'Malibu Rising', 'Historical Fiction', 309.30, 2021);"
            ],
            "metadata": {
                "language": "sql",
                "azdata_cell_guid": "db435c89-31ae-4abc-8337-5a4ca88c4137"
            },
            "outputs": [
                {
                    "output_type": "display_data",
                    "data": {
                        "text/html": "(9 rows affected)"
                    },
                    "metadata": {}
                },
                {
                    "output_type": "display_data",
                    "data": {
                        "text/html": "Total execution time: 00:00:00.076"
                    },
                    "metadata": {}
                }
            ],
            "execution_count": 30
        },
        {
            "cell_type": "code",
            "source": [
                "SELECT * FROM [BookStore].[Books]"
            ],
            "metadata": {
                "language": "sql",
                "azdata_cell_guid": "2d98606a-fb13-4298-bb72-7365b86d9531"
            },
            "outputs": [
                {
                    "output_type": "display_data",
                    "data": {
                        "text/html": "(9 rows affected)"
                    },
                    "metadata": {}
                },
                {
                    "output_type": "display_data",
                    "data": {
                        "text/html": "Total execution time: 00:00:00.034"
                    },
                    "metadata": {}
                },
                {
                    "output_type": "execute_result",
                    "metadata": {},
                    "execution_count": 34,
                    "data": {
                        "application/vnd.dataresource+json": {
                            "schema": {
                                "fields": [
                                    {
                                        "name": "id"
                                    },
                                    {
                                        "name": "book_title"
                                    },
                                    {
                                        "name": "genre"
                                    },
                                    {
                                        "name": "price"
                                    },
                                    {
                                        "name": "year"
                                    }
                                ]
                            },
                            "data": [
                                {
                                    "0": "1",
                                    "1": "The Candy House",
                                    "2": "Science Fiction",
                                    "3": "626.05",
                                    "4": "2022"
                                },
                                {
                                    "0": "2",
                                    "1": "Fiona and Jane",
                                    "2": "Literary Fiction",
                                    "3": "451.51",
                                    "4": "2022"
                                },
                                {
                                    "0": "3",
                                    "1": "To Paradise",
                                    "2": "Historical Fiction",
                                    "3": "379.28",
                                    "4": "2022"
                                },
                                {
                                    "0": "4",
                                    "1": "Book Lovers",
                                    "2": "Romance Novel",
                                    "3": "223.25",
                                    "4": "2022"
                                },
                                {
                                    "0": "5",
                                    "1": "The Living Mountain",
                                    "2": "Fiction",
                                    "3": "116.65",
                                    "4": "2022"
                                },
                                {
                                    "0": "6",
                                    "1": "Unfinished",
                                    "2": "Memoir,",
                                    "3": "206.15",
                                    "4": "2021"
                                },
                                {
                                    "0": "7",
                                    "1": "Matrix",
                                    "2": "Historical Fiction",
                                    "3": "309.3",
                                    "4": "2021"
                                },
                                {
                                    "0": "8",
                                    "1": "Beautiful Things",
                                    "2": "Biography",
                                    "3": "407.55",
                                    "4": "2021"
                                },
                                {
                                    "0": "9",
                                    "1": "Malibu Rising",
                                    "2": "Historical Fiction",
                                    "3": "309.3",
                                    "4": "2021"
                                }
                            ]
                        },
                        "text/html": [
                            "<table>",
                            "<tr><th>id</th><th>book_title</th><th>genre</th><th>price</th><th>year</th></tr>",
                            "<tr><td>1</td><td>The Candy House</td><td>Science Fiction</td><td>626.05</td><td>2022</td></tr>",
                            "<tr><td>2</td><td>Fiona and Jane</td><td>Literary Fiction</td><td>451.51</td><td>2022</td></tr>",
                            "<tr><td>3</td><td>To Paradise</td><td>Historical Fiction</td><td>379.28</td><td>2022</td></tr>",
                            "<tr><td>4</td><td>Book Lovers</td><td>Romance Novel</td><td>223.25</td><td>2022</td></tr>",
                            "<tr><td>5</td><td>The Living Mountain</td><td>Fiction</td><td>116.65</td><td>2022</td></tr>",
                            "<tr><td>6</td><td>Unfinished</td><td>Memoir,</td><td>206.15</td><td>2021</td></tr>",
                            "<tr><td>7</td><td>Matrix</td><td>Historical Fiction</td><td>309.3</td><td>2021</td></tr>",
                            "<tr><td>8</td><td>Beautiful Things</td><td>Biography</td><td>407.55</td><td>2021</td></tr>",
                            "<tr><td>9</td><td>Malibu Rising</td><td>Historical Fiction</td><td>309.3</td><td>2021</td></tr>",
                            "</table>"
                        ]
                    }
                }
            ],
            "execution_count": 34
        },
        {
            "cell_type": "code",
            "source": [
                "INSERT INTO [BookStore].[Books] \r\n",
                "VALUES (10, 'Gingerbread', 'Fairy tale', 450, 2019);\r\n",
                "\r\n",
                "UPDATE [BookStore].[Books] \r\n",
                "SET price = '5 Hundred' \r\n",
                "WHERE id = 10;"
            ],
            "metadata": {
                "language": "sql",
                "azdata_cell_guid": "110d666c-9f41-4f21-b6b5-6824fe5bd898"
            },
            "outputs": [
                {
                    "output_type": "display_data",
                    "data": {
                        "text/html": "(1 row affected)"
                    },
                    "metadata": {}
                },
                {
                    "output_type": "error",
                    "evalue": "Msg 8114, Level 16, State 5, Line 4\r\nError converting data type varchar to float.",
                    "ename": "",
                    "traceback": []
                },
                {
                    "output_type": "display_data",
                    "data": {
                        "text/html": "Total execution time: 00:00:00.105"
                    },
                    "metadata": {}
                }
            ],
            "execution_count": 35
        },
        {
            "cell_type": "code",
            "source": [
                "BEGIN TRANSACTION \r\n",
                "     INSERT INTO [BookStore].[Books]\r\n",
                "     VALUES (11, 'The Water Dancer', 'Magical Realism', 350.46, 2019)\r\n",
                "     UPDATE [BookStore].[Books]\r\n",
                "     SET price = 500 WHERE id = 11\r\n",
                "COMMIT TRANSACTION"
            ],
            "metadata": {
                "language": "sql",
                "azdata_cell_guid": "a9cb923a-5925-4149-9785-c7f02b3c95d0"
            },
            "outputs": [
                {
                    "output_type": "display_data",
                    "data": {
                        "text/html": "(1 row affected)"
                    },
                    "metadata": {}
                },
                {
                    "output_type": "display_data",
                    "data": {
                        "text/html": "(2 rows affected)"
                    },
                    "metadata": {}
                },
                {
                    "output_type": "display_data",
                    "data": {
                        "text/html": "Total execution time: 00:00:00.022"
                    },
                    "metadata": {}
                }
            ],
            "execution_count": 36
        },
        {
            "cell_type": "code",
            "source": [
                "SELECT * FROM [BookStore].[Books]"
            ],
            "metadata": {
                "language": "sql",
                "azdata_cell_guid": "cf6b4350-4550-4dd6-8bcc-546883defb53"
            },
            "outputs": [
                {
                    "output_type": "display_data",
                    "data": {
                        "text/html": "(17 rows affected)"
                    },
                    "metadata": {}
                },
                {
                    "output_type": "display_data",
                    "data": {
                        "text/html": "Total execution time: 00:00:00.059"
                    },
                    "metadata": {}
                },
                {
                    "output_type": "execute_result",
                    "metadata": {},
                    "execution_count": 55,
                    "data": {
                        "application/vnd.dataresource+json": {
                            "schema": {
                                "fields": [
                                    {
                                        "name": "id"
                                    },
                                    {
                                        "name": "book_title"
                                    },
                                    {
                                        "name": "genre"
                                    },
                                    {
                                        "name": "price"
                                    },
                                    {
                                        "name": "year"
                                    }
                                ]
                            },
                            "data": [
                                {
                                    "0": "1",
                                    "1": "The Candy House",
                                    "2": "Science Fiction",
                                    "3": "626.05",
                                    "4": "2022"
                                },
                                {
                                    "0": "2",
                                    "1": "Fiona and Jane",
                                    "2": "Literary Fiction",
                                    "3": "451.51",
                                    "4": "2022"
                                },
                                {
                                    "0": "3",
                                    "1": "To Paradise",
                                    "2": "Historical Fiction",
                                    "3": "379.28",
                                    "4": "2022"
                                },
                                {
                                    "0": "4",
                                    "1": "Book Lovers",
                                    "2": "Romance Novel",
                                    "3": "223.25",
                                    "4": "2022"
                                },
                                {
                                    "0": "5",
                                    "1": "The Living Mountain",
                                    "2": "Fiction",
                                    "3": "116.65",
                                    "4": "2022"
                                },
                                {
                                    "0": "6",
                                    "1": "Unfinished",
                                    "2": "Memoir,",
                                    "3": "206.15",
                                    "4": "2021"
                                },
                                {
                                    "0": "7",
                                    "1": "Matrix",
                                    "2": "Historical Fiction",
                                    "3": "309.3",
                                    "4": "2021"
                                },
                                {
                                    "0": "8",
                                    "1": "Beautiful Things",
                                    "2": "Biography",
                                    "3": "407.55",
                                    "4": "2021"
                                },
                                {
                                    "0": "9",
                                    "1": "Malibu Rising",
                                    "2": "Historical Fiction",
                                    "3": "309.3",
                                    "4": "2021"
                                },
                                {
                                    "0": "10",
                                    "1": "Gingerbread",
                                    "2": "Fairy tale",
                                    "3": "450",
                                    "4": "2019"
                                },
                                {
                                    "0": "11",
                                    "1": "The Water Dancer",
                                    "2": "Magical Realism",
                                    "3": "500",
                                    "4": "2019"
                                },
                                {
                                    "0": "11",
                                    "1": "The Water Dancer",
                                    "2": "Magical Realism",
                                    "3": "500",
                                    "4": "2019"
                                },
                                {
                                    "0": "12",
                                    "1": "The Water Dancer",
                                    "2": "Magical Realism",
                                    "3": "350.46",
                                    "4": "2019"
                                },
                                {
                                    "0": "12",
                                    "1": "The Water Dancer",
                                    "2": "Magical Realism",
                                    "3": "350.46",
                                    "4": "2019"
                                },
                                {
                                    "0": "12",
                                    "1": "The Water Dancer",
                                    "2": "Magical Realism",
                                    "3": "350.46",
                                    "4": "2019"
                                },
                                {
                                    "0": "11",
                                    "1": "The Water Dancer",
                                    "2": "Magical Realism",
                                    "3": "350.46",
                                    "4": "2019"
                                },
                                {
                                    "0": "11",
                                    "1": "The Water Dancer",
                                    "2": "Magical Realism",
                                    "3": "350.46",
                                    "4": "2019"
                                }
                            ]
                        },
                        "text/html": [
                            "<table>",
                            "<tr><th>id</th><th>book_title</th><th>genre</th><th>price</th><th>year</th></tr>",
                            "<tr><td>1</td><td>The Candy House</td><td>Science Fiction</td><td>626.05</td><td>2022</td></tr>",
                            "<tr><td>2</td><td>Fiona and Jane</td><td>Literary Fiction</td><td>451.51</td><td>2022</td></tr>",
                            "<tr><td>3</td><td>To Paradise</td><td>Historical Fiction</td><td>379.28</td><td>2022</td></tr>",
                            "<tr><td>4</td><td>Book Lovers</td><td>Romance Novel</td><td>223.25</td><td>2022</td></tr>",
                            "<tr><td>5</td><td>The Living Mountain</td><td>Fiction</td><td>116.65</td><td>2022</td></tr>",
                            "<tr><td>6</td><td>Unfinished</td><td>Memoir,</td><td>206.15</td><td>2021</td></tr>",
                            "<tr><td>7</td><td>Matrix</td><td>Historical Fiction</td><td>309.3</td><td>2021</td></tr>",
                            "<tr><td>8</td><td>Beautiful Things</td><td>Biography</td><td>407.55</td><td>2021</td></tr>",
                            "<tr><td>9</td><td>Malibu Rising</td><td>Historical Fiction</td><td>309.3</td><td>2021</td></tr>",
                            "<tr><td>10</td><td>Gingerbread</td><td>Fairy tale</td><td>450</td><td>2019</td></tr>",
                            "<tr><td>11</td><td>The Water Dancer</td><td>Magical Realism</td><td>500</td><td>2019</td></tr>",
                            "<tr><td>11</td><td>The Water Dancer</td><td>Magical Realism</td><td>500</td><td>2019</td></tr>",
                            "<tr><td>12</td><td>The Water Dancer</td><td>Magical Realism</td><td>350.46</td><td>2019</td></tr>",
                            "<tr><td>12</td><td>The Water Dancer</td><td>Magical Realism</td><td>350.46</td><td>2019</td></tr>",
                            "<tr><td>12</td><td>The Water Dancer</td><td>Magical Realism</td><td>350.46</td><td>2019</td></tr>",
                            "<tr><td>11</td><td>The Water Dancer</td><td>Magical Realism</td><td>350.46</td><td>2019</td></tr>",
                            "<tr><td>11</td><td>The Water Dancer</td><td>Magical Realism</td><td>350.46</td><td>2019</td></tr>",
                            "</table>"
                        ]
                    }
                }
            ],
            "execution_count": 55
        },
        {
            "cell_type": "code",
            "source": [
                "DECLARE @BookCount INT\r\n",
                "\r\n",
                "BEGIN TRANSACTION\r\n",
                "    INSERT INTO [BookStore].[Books]\r\n",
                "    VALUES (12,'The Water Dancer','Magical Realism','350.46','2019')\r\n",
                "\r\n",
                "    SELECT @BookCount = COUNT(*) FROM [BookStore].[Books] WHERE id = 12\r\n",
                "\r\n",
                "    IF @BookCount > 1\r\n",
                "       BEGIN \r\n",
                "          ROLLBACK TRANSACTION\r\n",
                "          PRINT 'A Book with the same id already exists'\r\n",
                "       END\r\n",
                "    ELSE\r\n",
                "       BEGIN\r\n",
                "          COMMIT TRANSACTION\r\n",
                "          PRINT 'New Book added successfully!'\r\n",
                "       END      "
            ],
            "metadata": {
                "language": "sql",
                "azdata_cell_guid": "e1d489c1-41b7-4d5e-95f1-d0050bf7a047"
            },
            "outputs": [
                {
                    "output_type": "display_data",
                    "data": {
                        "text/html": "(1 row affected)"
                    },
                    "metadata": {}
                },
                {
                    "output_type": "display_data",
                    "data": {
                        "text/html": "A Book with the same id already exists"
                    },
                    "metadata": {}
                },
                {
                    "output_type": "display_data",
                    "data": {
                        "text/html": "Total execution time: 00:00:00.001"
                    },
                    "metadata": {}
                }
            ],
            "execution_count": 58
        },
        {
            "cell_type": "code",
            "source": [
                "DECLARE @BookCount INT\r\n",
                "\r\n",
                "BEGIN TRANSACTION Addbook\r\n",
                "    INSERT INTO [BookStore].[Books]\r\n",
                "    VALUES (18,'The Water Dancer','Magical Realism','350.46','2019')\r\n",
                "\r\n",
                "    SELECT @BookCount = COUNT(*) FROM [BookStore].[Books] WHERE id = 18\r\n",
                "\r\n",
                "    IF @BookCount > 1\r\n",
                "       BEGIN \r\n",
                "          ROLLBACK TRANSACTION Addbook\r\n",
                "          PRINT 'A Book with the same id already exists'\r\n",
                "       END\r\n",
                "    ELSE\r\n",
                "       BEGIN\r\n",
                "          COMMIT TRANSACTION Addbook\r\n",
                "          PRINT 'New Book added successfully!'\r\n",
                "       END      "
            ],
            "metadata": {
                "language": "sql",
                "azdata_cell_guid": "1ee61730-43b4-42d1-a202-c0d595a4ea80"
            },
            "outputs": [
                {
                    "output_type": "display_data",
                    "data": {
                        "text/html": "(1 row affected)"
                    },
                    "metadata": {}
                },
                {
                    "output_type": "display_data",
                    "data": {
                        "text/html": "New Book added successfully!"
                    },
                    "metadata": {}
                },
                {
                    "output_type": "display_data",
                    "data": {
                        "text/html": "Total execution time: 00:00:00.012"
                    },
                    "metadata": {}
                }
            ],
            "execution_count": 56
        },
        {
            "cell_type": "code",
            "source": [
                "BEGIN TRANSACTION\r\n",
                "\r\n",
                "    INSERT INTO [BookStore].[Books]\r\n",
                "    VALUES (19, 'The Andromeda Strain', 'Science Fiction', 499, 1969)\r\n",
                "    SAVE TRANSACTION FirstInsert\r\n",
                "\r\n",
                "    INSERT INTO [BookStore].[Books]\r\n",
                "    VALUES  ( 20, 'The Dutch House', 'Historical Fiction', 342.30, 2019)\r\n",
                "    SAVE TRANSACTION SecondInsert\r\n",
                "\r\n",
                "    ROLLBACK TRANSACTION FirstInsert\r\n",
                "\r\n",
                "COMMIT\r\n",
                "\r\n",
                ""
            ],
            "metadata": {
                "language": "sql",
                "azdata_cell_guid": "576532e9-e9c4-4947-b581-1884f0c8b689"
            },
            "outputs": [
                {
                    "output_type": "display_data",
                    "data": {
                        "text/html": "(1 row affected)"
                    },
                    "metadata": {}
                },
                {
                    "output_type": "display_data",
                    "data": {
                        "text/html": "(1 row affected)"
                    },
                    "metadata": {}
                },
                {
                    "output_type": "display_data",
                    "data": {
                        "text/html": "Total execution time: 00:00:00.008"
                    },
                    "metadata": {}
                }
            ],
            "execution_count": 60
        },
        {
            "cell_type": "code",
            "source": [
                "DECLARE @vSecondInsert NCHAR(50) = 'SecondInsert'\r\n",
                " \r\n",
                "BEGIN TRANSACTION \r\n",
                " \r\n",
                "   INSERT INTO [BookStore].[Books]\r\n",
                "   VALUES  ( 13, 'The Dutch House', 'Historical Fiction', 342.30, 2019)\r\n",
                "   SAVE TRANSACTION FirstInsert\r\n",
                " \r\n",
                "   INSERT INTO [BookStore].[Books]\r\n",
                "   VALUES  ( 14, 'The Nickel Boys', 'Historical Fiction', 299.48, 2019)\r\n",
                "   SAVE TRANSACTION @vSecondInsert\r\n",
                "\r\n",
                "   INSERT INTO [BookStore].[Books]\r\n",
                "   VALUES  ( 15, 'Olive Again', 'Psychological Fiction', 309.13, 2019)\r\n",
                "   SAVE TRANSACTION ThirdInsert\r\n",
                " \r\n",
                "   ROLLBACK TRANSACTION @vSecondInsert \r\n",
                "   -- can also use ROLLBACK TRANSACTION SecondInsert\r\n",
                " \r\n",
                "COMMIT"
            ],
            "metadata": {
                "language": "sql",
                "azdata_cell_guid": "2b58610e-67fc-43bf-a603-38ae3787d99f"
            },
            "outputs": [
                {
                    "output_type": "display_data",
                    "data": {
                        "text/html": "(1 row affected)"
                    },
                    "metadata": {}
                },
                {
                    "output_type": "display_data",
                    "data": {
                        "text/html": "(1 row affected)"
                    },
                    "metadata": {}
                },
                {
                    "output_type": "display_data",
                    "data": {
                        "text/html": "(1 row affected)"
                    },
                    "metadata": {}
                },
                {
                    "output_type": "display_data",
                    "data": {
                        "text/html": "Total execution time: 00:00:00.024"
                    },
                    "metadata": {}
                }
            ],
            "execution_count": 61
        },
        {
            "cell_type": "code",
            "source": [
                "SELECT @@TRANCOUNT AS '1. - @@TRANCOUNT before starting the first transaction'\r\n",
                " \r\n",
                "BEGIN TRANSACTION -- Tran 1\r\n",
                "  SELECT @@TRANCOUNT AS '2. - @@TRANCOUNT after starting the first transaction'\r\n",
                "  \r\n",
                "  INSERT INTO [BookStore].[Books]\r\n",
                "  VALUES  ( 15, 'Olive Again', 'Psychological Fiction', 309.13, 2019)\r\n",
                "  SAVE TRANSACTION FirstInsert\r\n",
                "   \r\n",
                "  BEGIN TRANSACTION -- Tran 2\r\n",
                "    SELECT @@TRANCOUNT AS '3. - @@TRANCOUNT after starting the second transaction'\r\n",
                "\r\n",
                "    INSERT INTO [BookStore].[Books]\r\n",
                "    VALUES  ( 16, 'American Spy', 'Thriller', null, 2019)\r\n",
                "      \r\n",
                "    ROLLBACK TRANSACTION FirstInsert\r\n",
                "    SELECT @@TRANCOUNT AS '4. - @@TRANCOUNT after rolling back to the save point'\r\n",
                "  \r\n",
                "    BEGIN TRANSACTION -- Tran 3 \r\n",
                "      SELECT @@TRANCOUNT AS '5. - @@TRANCOUNT after starting the third transaction'\r\n",
                "\r\n",
                "      INSERT INTO [BookStore].[Books] \r\n",
                "      VALUES( 17, 'The Need', 'Suspense', 353.56, 2019)\r\n",
                " \r\n",
                "      COMMIT -- Tran 3\r\n",
                "      SELECT @@TRANCOUNT AS '6. - @@TRANCOUNT after committing the third transaction'\r\n",
                "  \r\n",
                "      SELECT * FROM [BookStore].[Books]\r\n",
                " \r\n",
                "    COMMIT -- Tran 2\r\n",
                "    SELECT @@TRANCOUNT AS '7. - @@TRANCOUNT after committing the second transaction'\r\n",
                "\r\n",
                "  ROLLBACK -- Tran 1\r\n",
                "  SELECT @@TRANCOUNT AS '8. - @@TRANCOUNT after rolling back the first transaction'"
            ],
            "metadata": {
                "language": "sql",
                "azdata_cell_guid": "71552ef2-fa7d-419b-80d7-a0ce2aff7bbd"
            },
            "outputs": [
                {
                    "output_type": "display_data",
                    "data": {
                        "text/html": "(1 row affected)"
                    },
                    "metadata": {}
                },
                {
                    "output_type": "display_data",
                    "data": {
                        "text/html": "(1 row affected)"
                    },
                    "metadata": {}
                },
                {
                    "output_type": "display_data",
                    "data": {
                        "text/html": "(1 row affected)"
                    },
                    "metadata": {}
                },
                {
                    "output_type": "display_data",
                    "data": {
                        "text/html": "(1 row affected)"
                    },
                    "metadata": {}
                },
                {
                    "output_type": "display_data",
                    "data": {
                        "text/html": "(1 row affected)"
                    },
                    "metadata": {}
                },
                {
                    "output_type": "display_data",
                    "data": {
                        "text/html": "(1 row affected)"
                    },
                    "metadata": {}
                },
                {
                    "output_type": "display_data",
                    "data": {
                        "text/html": "(1 row affected)"
                    },
                    "metadata": {}
                },
                {
                    "output_type": "display_data",
                    "data": {
                        "text/html": "(1 row affected)"
                    },
                    "metadata": {}
                },
                {
                    "output_type": "display_data",
                    "data": {
                        "text/html": "(1 row affected)"
                    },
                    "metadata": {}
                },
                {
                    "output_type": "display_data",
                    "data": {
                        "text/html": "(25 rows affected)"
                    },
                    "metadata": {}
                },
                {
                    "output_type": "display_data",
                    "data": {
                        "text/html": "(1 row affected)"
                    },
                    "metadata": {}
                },
                {
                    "output_type": "display_data",
                    "data": {
                        "text/html": "(1 row affected)"
                    },
                    "metadata": {}
                },
                {
                    "output_type": "display_data",
                    "data": {
                        "text/html": "Total execution time: 00:00:00.082"
                    },
                    "metadata": {}
                },
                {
                    "output_type": "execute_result",
                    "metadata": {},
                    "execution_count": 62,
                    "data": {
                        "application/vnd.dataresource+json": {
                            "schema": {
                                "fields": [
                                    {
                                        "name": "1. - @@TRANCOUNT before starting the first transaction"
                                    }
                                ]
                            },
                            "data": [
                                {
                                    "0": "0"
                                }
                            ]
                        },
                        "text/html": [
                            "<table>",
                            "<tr><th>1. - @@TRANCOUNT before starting the first transaction</th></tr>",
                            "<tr><td>0</td></tr>",
                            "</table>"
                        ]
                    }
                },
                {
                    "output_type": "execute_result",
                    "metadata": {},
                    "execution_count": 62,
                    "data": {
                        "application/vnd.dataresource+json": {
                            "schema": {
                                "fields": [
                                    {
                                        "name": "2. - @@TRANCOUNT after starting the first transaction"
                                    }
                                ]
                            },
                            "data": [
                                {
                                    "0": "1"
                                }
                            ]
                        },
                        "text/html": [
                            "<table>",
                            "<tr><th>2. - @@TRANCOUNT after starting the first transaction</th></tr>",
                            "<tr><td>1</td></tr>",
                            "</table>"
                        ]
                    }
                },
                {
                    "output_type": "execute_result",
                    "metadata": {},
                    "execution_count": 62,
                    "data": {
                        "application/vnd.dataresource+json": {
                            "schema": {
                                "fields": [
                                    {
                                        "name": "3. - @@TRANCOUNT after starting the second transaction"
                                    }
                                ]
                            },
                            "data": [
                                {
                                    "0": "2"
                                }
                            ]
                        },
                        "text/html": [
                            "<table>",
                            "<tr><th>3. - @@TRANCOUNT after starting the second transaction</th></tr>",
                            "<tr><td>2</td></tr>",
                            "</table>"
                        ]
                    }
                },
                {
                    "output_type": "execute_result",
                    "metadata": {},
                    "execution_count": 62,
                    "data": {
                        "application/vnd.dataresource+json": {
                            "schema": {
                                "fields": [
                                    {
                                        "name": "4. - @@TRANCOUNT after rolling back to the save point"
                                    }
                                ]
                            },
                            "data": [
                                {
                                    "0": "2"
                                }
                            ]
                        },
                        "text/html": [
                            "<table>",
                            "<tr><th>4. - @@TRANCOUNT after rolling back to the save point</th></tr>",
                            "<tr><td>2</td></tr>",
                            "</table>"
                        ]
                    }
                },
                {
                    "output_type": "execute_result",
                    "metadata": {},
                    "execution_count": 62,
                    "data": {
                        "application/vnd.dataresource+json": {
                            "schema": {
                                "fields": [
                                    {
                                        "name": "5. - @@TRANCOUNT after starting the third transaction"
                                    }
                                ]
                            },
                            "data": [
                                {
                                    "0": "3"
                                }
                            ]
                        },
                        "text/html": [
                            "<table>",
                            "<tr><th>5. - @@TRANCOUNT after starting the third transaction</th></tr>",
                            "<tr><td>3</td></tr>",
                            "</table>"
                        ]
                    }
                },
                {
                    "output_type": "execute_result",
                    "metadata": {},
                    "execution_count": 62,
                    "data": {
                        "application/vnd.dataresource+json": {
                            "schema": {
                                "fields": [
                                    {
                                        "name": "6. - @@TRANCOUNT after committing the third transaction"
                                    }
                                ]
                            },
                            "data": [
                                {
                                    "0": "2"
                                }
                            ]
                        },
                        "text/html": [
                            "<table>",
                            "<tr><th>6. - @@TRANCOUNT after committing the third transaction</th></tr>",
                            "<tr><td>2</td></tr>",
                            "</table>"
                        ]
                    }
                },
                {
                    "output_type": "execute_result",
                    "metadata": {},
                    "execution_count": 62,
                    "data": {
                        "application/vnd.dataresource+json": {
                            "schema": {
                                "fields": [
                                    {
                                        "name": "id"
                                    },
                                    {
                                        "name": "book_title"
                                    },
                                    {
                                        "name": "genre"
                                    },
                                    {
                                        "name": "price"
                                    },
                                    {
                                        "name": "year"
                                    }
                                ]
                            },
                            "data": [
                                {
                                    "0": "1",
                                    "1": "The Candy House",
                                    "2": "Science Fiction",
                                    "3": "626.05",
                                    "4": "2022"
                                },
                                {
                                    "0": "2",
                                    "1": "Fiona and Jane",
                                    "2": "Literary Fiction",
                                    "3": "451.51",
                                    "4": "2022"
                                },
                                {
                                    "0": "3",
                                    "1": "To Paradise",
                                    "2": "Historical Fiction",
                                    "3": "379.28",
                                    "4": "2022"
                                },
                                {
                                    "0": "4",
                                    "1": "Book Lovers",
                                    "2": "Romance Novel",
                                    "3": "223.25",
                                    "4": "2022"
                                },
                                {
                                    "0": "5",
                                    "1": "The Living Mountain",
                                    "2": "Fiction",
                                    "3": "116.65",
                                    "4": "2022"
                                },
                                {
                                    "0": "6",
                                    "1": "Unfinished",
                                    "2": "Memoir,",
                                    "3": "206.15",
                                    "4": "2021"
                                },
                                {
                                    "0": "7",
                                    "1": "Matrix",
                                    "2": "Historical Fiction",
                                    "3": "309.3",
                                    "4": "2021"
                                },
                                {
                                    "0": "8",
                                    "1": "Beautiful Things",
                                    "2": "Biography",
                                    "3": "407.55",
                                    "4": "2021"
                                },
                                {
                                    "0": "9",
                                    "1": "Malibu Rising",
                                    "2": "Historical Fiction",
                                    "3": "309.3",
                                    "4": "2021"
                                },
                                {
                                    "0": "10",
                                    "1": "Gingerbread",
                                    "2": "Fairy tale",
                                    "3": "450",
                                    "4": "2019"
                                },
                                {
                                    "0": "11",
                                    "1": "The Water Dancer",
                                    "2": "Magical Realism",
                                    "3": "500",
                                    "4": "2019"
                                },
                                {
                                    "0": "11",
                                    "1": "The Water Dancer",
                                    "2": "Magical Realism",
                                    "3": "500",
                                    "4": "2019"
                                },
                                {
                                    "0": "12",
                                    "1": "The Water Dancer",
                                    "2": "Magical Realism",
                                    "3": "350.46",
                                    "4": "2019"
                                },
                                {
                                    "0": "12",
                                    "1": "The Water Dancer",
                                    "2": "Magical Realism",
                                    "3": "350.46",
                                    "4": "2019"
                                },
                                {
                                    "0": "12",
                                    "1": "The Water Dancer",
                                    "2": "Magical Realism",
                                    "3": "350.46",
                                    "4": "2019"
                                },
                                {
                                    "0": "11",
                                    "1": "The Water Dancer",
                                    "2": "Magical Realism",
                                    "3": "350.46",
                                    "4": "2019"
                                },
                                {
                                    "0": "11",
                                    "1": "The Water Dancer",
                                    "2": "Magical Realism",
                                    "3": "350.46",
                                    "4": "2019"
                                },
                                {
                                    "0": "18",
                                    "1": "The Water Dancer",
                                    "2": "Magical Realism",
                                    "3": "350.46",
                                    "4": "2019"
                                },
                                {
                                    "0": "19",
                                    "1": "The Andromeda Strain",
                                    "2": "Science Fiction",
                                    "3": "499",
                                    "4": "1969"
                                },
                                {
                                    "0": "19",
                                    "1": "The Andromeda Strain",
                                    "2": "Science Fiction",
                                    "3": "499",
                                    "4": "1969"
                                },
                                {
                                    "0": "19",
                                    "1": "The Andromeda Strain",
                                    "2": "Science Fiction",
                                    "3": "499",
                                    "4": "1969"
                                },
                                {
                                    "0": "13",
                                    "1": "The Dutch House",
                                    "2": "Historical Fiction",
                                    "3": "342.3",
                                    "4": "2019"
                                },
                                {
                                    "0": "14",
                                    "1": "The Nickel Boys",
                                    "2": "Historical Fiction",
                                    "3": "299.48",
                                    "4": "2019"
                                },
                                {
                                    "0": "15",
                                    "1": "Olive Again",
                                    "2": "Psychological Fiction",
                                    "3": "309.13",
                                    "4": "2019"
                                },
                                {
                                    "0": "17",
                                    "1": "The Need",
                                    "2": "Suspense",
                                    "3": "353.56",
                                    "4": "2019"
                                }
                            ]
                        },
                        "text/html": [
                            "<table>",
                            "<tr><th>id</th><th>book_title</th><th>genre</th><th>price</th><th>year</th></tr>",
                            "<tr><td>1</td><td>The Candy House</td><td>Science Fiction</td><td>626.05</td><td>2022</td></tr>",
                            "<tr><td>2</td><td>Fiona and Jane</td><td>Literary Fiction</td><td>451.51</td><td>2022</td></tr>",
                            "<tr><td>3</td><td>To Paradise</td><td>Historical Fiction</td><td>379.28</td><td>2022</td></tr>",
                            "<tr><td>4</td><td>Book Lovers</td><td>Romance Novel</td><td>223.25</td><td>2022</td></tr>",
                            "<tr><td>5</td><td>The Living Mountain</td><td>Fiction</td><td>116.65</td><td>2022</td></tr>",
                            "<tr><td>6</td><td>Unfinished</td><td>Memoir,</td><td>206.15</td><td>2021</td></tr>",
                            "<tr><td>7</td><td>Matrix</td><td>Historical Fiction</td><td>309.3</td><td>2021</td></tr>",
                            "<tr><td>8</td><td>Beautiful Things</td><td>Biography</td><td>407.55</td><td>2021</td></tr>",
                            "<tr><td>9</td><td>Malibu Rising</td><td>Historical Fiction</td><td>309.3</td><td>2021</td></tr>",
                            "<tr><td>10</td><td>Gingerbread</td><td>Fairy tale</td><td>450</td><td>2019</td></tr>",
                            "<tr><td>11</td><td>The Water Dancer</td><td>Magical Realism</td><td>500</td><td>2019</td></tr>",
                            "<tr><td>11</td><td>The Water Dancer</td><td>Magical Realism</td><td>500</td><td>2019</td></tr>",
                            "<tr><td>12</td><td>The Water Dancer</td><td>Magical Realism</td><td>350.46</td><td>2019</td></tr>",
                            "<tr><td>12</td><td>The Water Dancer</td><td>Magical Realism</td><td>350.46</td><td>2019</td></tr>",
                            "<tr><td>12</td><td>The Water Dancer</td><td>Magical Realism</td><td>350.46</td><td>2019</td></tr>",
                            "<tr><td>11</td><td>The Water Dancer</td><td>Magical Realism</td><td>350.46</td><td>2019</td></tr>",
                            "<tr><td>11</td><td>The Water Dancer</td><td>Magical Realism</td><td>350.46</td><td>2019</td></tr>",
                            "<tr><td>18</td><td>The Water Dancer</td><td>Magical Realism</td><td>350.46</td><td>2019</td></tr>",
                            "<tr><td>19</td><td>The Andromeda Strain</td><td>Science Fiction</td><td>499</td><td>1969</td></tr>",
                            "<tr><td>19</td><td>The Andromeda Strain</td><td>Science Fiction</td><td>499</td><td>1969</td></tr>",
                            "<tr><td>19</td><td>The Andromeda Strain</td><td>Science Fiction</td><td>499</td><td>1969</td></tr>",
                            "<tr><td>13</td><td>The Dutch House</td><td>Historical Fiction</td><td>342.3</td><td>2019</td></tr>",
                            "<tr><td>14</td><td>The Nickel Boys</td><td>Historical Fiction</td><td>299.48</td><td>2019</td></tr>",
                            "<tr><td>15</td><td>Olive Again</td><td>Psychological Fiction</td><td>309.13</td><td>2019</td></tr>",
                            "<tr><td>17</td><td>The Need</td><td>Suspense</td><td>353.56</td><td>2019</td></tr>",
                            "</table>"
                        ]
                    }
                },
                {
                    "output_type": "execute_result",
                    "metadata": {},
                    "execution_count": 62,
                    "data": {
                        "application/vnd.dataresource+json": {
                            "schema": {
                                "fields": [
                                    {
                                        "name": "7. - @@TRANCOUNT after committing the second transaction"
                                    }
                                ]
                            },
                            "data": [
                                {
                                    "0": "1"
                                }
                            ]
                        },
                        "text/html": [
                            "<table>",
                            "<tr><th>7. - @@TRANCOUNT after committing the second transaction</th></tr>",
                            "<tr><td>1</td></tr>",
                            "</table>"
                        ]
                    }
                },
                {
                    "output_type": "execute_result",
                    "metadata": {},
                    "execution_count": 62,
                    "data": {
                        "application/vnd.dataresource+json": {
                            "schema": {
                                "fields": [
                                    {
                                        "name": "8. - @@TRANCOUNT after rolling back the first transaction"
                                    }
                                ]
                            },
                            "data": [
                                {
                                    "0": "0"
                                }
                            ]
                        },
                        "text/html": [
                            "<table>",
                            "<tr><th>8. - @@TRANCOUNT after rolling back the first transaction</th></tr>",
                            "<tr><td>0</td></tr>",
                            "</table>"
                        ]
                    }
                }
            ],
            "execution_count": 62
        }
    ]
}