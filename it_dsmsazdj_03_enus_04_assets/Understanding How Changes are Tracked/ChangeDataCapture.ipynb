{
    "metadata": {
        "kernelspec": {
            "name": "SQL",
            "display_name": "SQL",
            "language": "sql"
        },
        "language_info": {
            "name": "sql",
            "version": ""
        }
    },
    "nbformat_minor": 2,
    "nbformat": 4,
    "cells": [
        {
            "cell_type": "code",
            "source": [
                "CREATE SCHEMA academy"
            ],
            "metadata": {
                "azdata_cell_guid": "22f5711f-772c-4967-8ea5-e6d15f065564",
                "language": "sql"
            },
            "outputs": [
                {
                    "output_type": "display_data",
                    "data": {
                        "text/html": "Commands completed successfully."
                    },
                    "metadata": {}
                },
                {
                    "output_type": "display_data",
                    "data": {
                        "text/html": "Total execution time: 00:00:00.032"
                    },
                    "metadata": {}
                }
            ],
            "execution_count": 52
        },
        {
            "cell_type": "code",
            "source": [
                "CREATE TABLE academy.student_performance(\n",
                "\tid INT NOT NULL PRIMARY KEY,\n",
                "\tname VARCHAR(50) NULL,\n",
                "\tmath_score INT NULL,\n",
                "    reading_score INT NULL,\n",
                "    writing_score INT NULL)"
            ],
            "metadata": {
                "azdata_cell_guid": "16991f07-a06e-498b-9728-525dd9c24222",
                "language": "sql",
                "tags": [
                    "hide_input"
                ]
            },
            "outputs": [
                {
                    "output_type": "display_data",
                    "data": {
                        "text/html": "Commands completed successfully."
                    },
                    "metadata": {}
                },
                {
                    "output_type": "display_data",
                    "data": {
                        "text/html": "Total execution time: 00:00:00.039"
                    },
                    "metadata": {}
                }
            ],
            "execution_count": 53
        },
        {
            "cell_type": "markdown",
            "source": [
                "### These rows are inserted without change data capture (CDC) enabled"
            ],
            "metadata": {
                "azdata_cell_guid": "771ab3b8-d971-4d36-a9a5-a5589a393979"
            },
            "attachments": {}
        },
        {
            "cell_type": "code",
            "source": [
                "INSERT INTO academy.student_performance VALUES \n",
                "(1, 'Adam ', 80, 77, 76 ),\n",
                "(2, 'Marvin', 56, 78, 59),\n",
                "(3, 'Norma', 87, 78, 69),\n",
                "(4, 'Ethan', 76, 69, 91)"
            ],
            "metadata": {
                "azdata_cell_guid": "641f3766-2ccc-4849-8da0-b5c526d5c263",
                "language": "sql"
            },
            "outputs": [
                {
                    "output_type": "display_data",
                    "data": {
                        "text/html": "(4 rows affected)"
                    },
                    "metadata": {}
                },
                {
                    "output_type": "display_data",
                    "data": {
                        "text/html": "Total execution time: 00:00:00.042"
                    },
                    "metadata": {}
                }
            ],
            "execution_count": 54
        },
        {
            "cell_type": "code",
            "source": [
                "SELECT * FROM academy.student_performance"
            ],
            "metadata": {
                "language": "sql",
                "azdata_cell_guid": "b2946a02-d2be-467e-a5e7-0b3b9e210740"
            },
            "outputs": [
                {
                    "output_type": "display_data",
                    "data": {
                        "text/html": "(4 rows affected)"
                    },
                    "metadata": {}
                },
                {
                    "output_type": "display_data",
                    "data": {
                        "text/html": "Total execution time: 00:00:00.033"
                    },
                    "metadata": {}
                },
                {
                    "output_type": "execute_result",
                    "metadata": {},
                    "execution_count": 55,
                    "data": {
                        "application/vnd.dataresource+json": {
                            "schema": {
                                "fields": [
                                    {
                                        "name": "id"
                                    },
                                    {
                                        "name": "name"
                                    },
                                    {
                                        "name": "math_score"
                                    },
                                    {
                                        "name": "reading_score"
                                    },
                                    {
                                        "name": "writing_score"
                                    }
                                ]
                            },
                            "data": [
                                {
                                    "0": "1",
                                    "1": "Adam ",
                                    "2": "80",
                                    "3": "77",
                                    "4": "76"
                                },
                                {
                                    "0": "2",
                                    "1": "Marvin",
                                    "2": "56",
                                    "3": "78",
                                    "4": "59"
                                },
                                {
                                    "0": "3",
                                    "1": "Norma",
                                    "2": "87",
                                    "3": "78",
                                    "4": "69"
                                },
                                {
                                    "0": "4",
                                    "1": "Ethan",
                                    "2": "76",
                                    "3": "69",
                                    "4": "91"
                                }
                            ]
                        },
                        "text/html": [
                            "<table>",
                            "<tr><th>id</th><th>name</th><th>math_score</th><th>reading_score</th><th>writing_score</th></tr>",
                            "<tr><td>1</td><td>Adam </td><td>80</td><td>77</td><td>76</td></tr>",
                            "<tr><td>2</td><td>Marvin</td><td>56</td><td>78</td><td>59</td></tr>",
                            "<tr><td>3</td><td>Norma</td><td>87</td><td>78</td><td>69</td></tr>",
                            "<tr><td>4</td><td>Ethan</td><td>76</td><td>69</td><td>91</td></tr>",
                            "</table>"
                        ]
                    }
                }
            ],
            "execution_count": 55
        },
        {
            "cell_type": "markdown",
            "source": [
                "CDC first needs to be enabled at the database level before it can be applied to its tables. First we check whether this is enabled for the DB and the table - it's disabled by default."
            ],
            "metadata": {
                "azdata_cell_guid": "fb62b4f4-150d-4b96-ba25-156a3cfd3ba6"
            },
            "attachments": {}
        },
        {
            "cell_type": "code",
            "source": [
                "SELECT name, is_cdc_enabled\n",
                "FROM sys.databases\n",
                "WHERE name = 'sql_database'"
            ],
            "metadata": {
                "azdata_cell_guid": "4578c061-0f35-4adc-8758-c9d23056ed9d",
                "language": "sql"
            },
            "outputs": [
                {
                    "output_type": "display_data",
                    "data": {
                        "text/html": "(1 row affected)"
                    },
                    "metadata": {}
                },
                {
                    "output_type": "display_data",
                    "data": {
                        "text/html": "Total execution time: 00:00:00.033"
                    },
                    "metadata": {}
                },
                {
                    "output_type": "execute_result",
                    "metadata": {},
                    "execution_count": 56,
                    "data": {
                        "application/vnd.dataresource+json": {
                            "schema": {
                                "fields": [
                                    {
                                        "name": "name"
                                    },
                                    {
                                        "name": "is_cdc_enabled"
                                    }
                                ]
                            },
                            "data": [
                                {
                                    "0": "sql_database",
                                    "1": "0"
                                }
                            ]
                        },
                        "text/html": [
                            "<table>",
                            "<tr><th>name</th><th>is_cdc_enabled</th></tr>",
                            "<tr><td>sql_database</td><td>0</td></tr>",
                            "</table>"
                        ]
                    }
                }
            ],
            "execution_count": 56
        },
        {
            "cell_type": "code",
            "source": [
                "SELECT  name, type, type_desc, is_tracked_by_cdc\n",
                "FROM sys.tables\n",
                "WHERE name = 'student_performance'"
            ],
            "metadata": {
                "azdata_cell_guid": "c770f608-da28-4da7-8279-693433548d66",
                "language": "sql"
            },
            "outputs": [
                {
                    "output_type": "display_data",
                    "data": {
                        "text/html": "(1 row affected)"
                    },
                    "metadata": {}
                },
                {
                    "output_type": "display_data",
                    "data": {
                        "text/html": "Total execution time: 00:00:00.185"
                    },
                    "metadata": {}
                },
                {
                    "output_type": "execute_result",
                    "metadata": {},
                    "execution_count": 57,
                    "data": {
                        "application/vnd.dataresource+json": {
                            "schema": {
                                "fields": [
                                    {
                                        "name": "name"
                                    },
                                    {
                                        "name": "type"
                                    },
                                    {
                                        "name": "type_desc"
                                    },
                                    {
                                        "name": "is_tracked_by_cdc"
                                    }
                                ]
                            },
                            "data": [
                                {
                                    "0": "student_performance",
                                    "1": "U ",
                                    "2": "USER_TABLE",
                                    "3": "0"
                                }
                            ]
                        },
                        "text/html": [
                            "<table>",
                            "<tr><th>name</th><th>type</th><th>type_desc</th><th>is_tracked_by_cdc</th></tr>",
                            "<tr><td>student_performance</td><td>U </td><td>USER_TABLE</td><td>0</td></tr>",
                            "</table>"
                        ]
                    }
                }
            ],
            "execution_count": 57
        },
        {
            "cell_type": "markdown",
            "source": [
                "### There is no such table at this point, so we get an error message"
            ],
            "metadata": {
                "azdata_cell_guid": "a4b15caf-711c-43fe-a841-d5eace42e484",
                "language": ""
            },
            "attachments": {}
        },
        {
            "cell_type": "code",
            "source": [
                "SELECT * FROM cdc.change_tables"
            ],
            "metadata": {
                "language": "sql",
                "azdata_cell_guid": "1ed18b19-95dd-4adb-800e-b1e6474e3532"
            },
            "outputs": [
                {
                    "output_type": "error",
                    "evalue": "Msg 208, Level 16, State 1, Line 1\nInvalid object name 'cdc.change_tables'.",
                    "ename": "",
                    "traceback": []
                },
                {
                    "output_type": "display_data",
                    "data": {
                        "text/html": "Total execution time: 00:00:00.032"
                    },
                    "metadata": {}
                }
            ],
            "execution_count": 58
        },
        {
            "cell_type": "code",
            "source": [
                "EXEC sys.sp_cdc_enable_db"
            ],
            "metadata": {
                "azdata_cell_guid": "728acf1e-92b5-4d6b-a424-303c87de77a6",
                "language": "sql"
            },
            "outputs": [
                {
                    "output_type": "display_data",
                    "data": {
                        "text/html": "Commands completed successfully."
                    },
                    "metadata": {}
                },
                {
                    "output_type": "display_data",
                    "data": {
                        "text/html": "Total execution time: 00:00:00.489"
                    },
                    "metadata": {}
                }
            ],
            "execution_count": 59
        },
        {
            "cell_type": "markdown",
            "source": [
                "### To enable CDC for a table, it has to be enabled for the database first"
            ],
            "metadata": {
                "azdata_cell_guid": "60197036-17b7-4192-a6dd-2872135c9499",
                "language": ""
            },
            "attachments": {}
        },
        {
            "cell_type": "code",
            "source": [
                "SELECT name, is_cdc_enabled\n",
                "FROM sys.databases\n",
                "WHERE name = 'sql_database'"
            ],
            "metadata": {
                "azdata_cell_guid": "ba5c2755-b828-4c03-a46b-b6191ea4a6b6",
                "language": "sql"
            },
            "outputs": [
                {
                    "output_type": "display_data",
                    "data": {
                        "text/html": "(1 row affected)"
                    },
                    "metadata": {}
                },
                {
                    "output_type": "display_data",
                    "data": {
                        "text/html": "Total execution time: 00:00:00.033"
                    },
                    "metadata": {}
                },
                {
                    "output_type": "execute_result",
                    "metadata": {},
                    "execution_count": 60,
                    "data": {
                        "application/vnd.dataresource+json": {
                            "schema": {
                                "fields": [
                                    {
                                        "name": "name"
                                    },
                                    {
                                        "name": "is_cdc_enabled"
                                    }
                                ]
                            },
                            "data": [
                                {
                                    "0": "sql_database",
                                    "1": "1"
                                }
                            ]
                        },
                        "text/html": [
                            "<table>",
                            "<tr><th>name</th><th>is_cdc_enabled</th></tr>",
                            "<tr><td>sql_database</td><td>1</td></tr>",
                            "</table>"
                        ]
                    }
                }
            ],
            "execution_count": 60
        },
        {
            "cell_type": "markdown",
            "source": [
                "### CDC needs to be explicitly turned on for each table as well"
            ],
            "metadata": {
                "azdata_cell_guid": "ed811d56-5949-431d-8796-ec91cabd06d1",
                "language": ""
            },
            "attachments": {}
        },
        {
            "cell_type": "code",
            "source": [
                "SELECT  name, type, type_desc, is_tracked_by_cdc\n",
                "FROM sys.tables\n",
                "WHERE name = 'student_performance'"
            ],
            "metadata": {
                "azdata_cell_guid": "093c1de3-7610-4e92-9bd8-62b84ec9d4ff",
                "language": "sql"
            },
            "outputs": [
                {
                    "output_type": "display_data",
                    "data": {
                        "text/html": "(1 row affected)"
                    },
                    "metadata": {}
                },
                {
                    "output_type": "display_data",
                    "data": {
                        "text/html": "Total execution time: 00:00:00.044"
                    },
                    "metadata": {}
                },
                {
                    "output_type": "execute_result",
                    "metadata": {},
                    "execution_count": 61,
                    "data": {
                        "application/vnd.dataresource+json": {
                            "schema": {
                                "fields": [
                                    {
                                        "name": "name"
                                    },
                                    {
                                        "name": "type"
                                    },
                                    {
                                        "name": "type_desc"
                                    },
                                    {
                                        "name": "is_tracked_by_cdc"
                                    }
                                ]
                            },
                            "data": [
                                {
                                    "0": "student_performance",
                                    "1": "U ",
                                    "2": "USER_TABLE",
                                    "3": "0"
                                }
                            ]
                        },
                        "text/html": [
                            "<table>",
                            "<tr><th>name</th><th>type</th><th>type_desc</th><th>is_tracked_by_cdc</th></tr>",
                            "<tr><td>student_performance</td><td>U </td><td>USER_TABLE</td><td>0</td></tr>",
                            "</table>"
                        ]
                    }
                }
            ],
            "execution_count": 61
        },
        {
            "cell_type": "code",
            "source": [
                "EXEC sys.sp_cdc_enable_table  \n",
                "@source_schema = N'academy',  \n",
                "@source_name   = N'student_performance',  \n",
                "@role_name     = NULL,  \n",
                "@supports_net_changes = 1"
            ],
            "metadata": {
                "azdata_cell_guid": "7714d692-9153-4fbb-a1ea-737d9c01c490",
                "language": "sql"
            },
            "outputs": [
                {
                    "output_type": "display_data",
                    "data": {
                        "text/html": "Commands completed successfully."
                    },
                    "metadata": {}
                },
                {
                    "output_type": "display_data",
                    "data": {
                        "text/html": "Total execution time: 00:00:00.471"
                    },
                    "metadata": {}
                }
            ],
            "execution_count": 62
        },
        {
            "cell_type": "code",
            "source": [
                "SELECT  name, type, type_desc, is_tracked_by_cdc\n",
                "FROM sys.tables\n",
                "WHERE name = 'student_performance'"
            ],
            "metadata": {
                "azdata_cell_guid": "915fe9e4-6550-4720-b6a5-15bb6a1f64ec",
                "language": "sql"
            },
            "outputs": [
                {
                    "output_type": "display_data",
                    "data": {
                        "text/html": "(1 row affected)"
                    },
                    "metadata": {}
                },
                {
                    "output_type": "display_data",
                    "data": {
                        "text/html": "Total execution time: 00:00:00.045"
                    },
                    "metadata": {}
                },
                {
                    "output_type": "execute_result",
                    "metadata": {},
                    "execution_count": 63,
                    "data": {
                        "application/vnd.dataresource+json": {
                            "schema": {
                                "fields": [
                                    {
                                        "name": "name"
                                    },
                                    {
                                        "name": "type"
                                    },
                                    {
                                        "name": "type_desc"
                                    },
                                    {
                                        "name": "is_tracked_by_cdc"
                                    }
                                ]
                            },
                            "data": [
                                {
                                    "0": "student_performance",
                                    "1": "U ",
                                    "2": "USER_TABLE",
                                    "3": "1"
                                }
                            ]
                        },
                        "text/html": [
                            "<table>",
                            "<tr><th>name</th><th>type</th><th>type_desc</th><th>is_tracked_by_cdc</th></tr>",
                            "<tr><td>student_performance</td><td>U </td><td>USER_TABLE</td><td>1</td></tr>",
                            "</table>"
                        ]
                    }
                }
            ],
            "execution_count": 63
        },
        {
            "cell_type": "markdown",
            "source": [
                "### Make note of the capture\\_instance here - this is what we will use to get the Log Sequence Number (LSN) corresponding to our table."
            ],
            "metadata": {
                "azdata_cell_guid": "c6f386e8-164b-4f06-8f10-8e73b4c4931c",
                "language": ""
            },
            "attachments": {}
        },
        {
            "cell_type": "code",
            "source": [
                "SELECT * FROM cdc.change_tables"
            ],
            "metadata": {
                "azdata_cell_guid": "21555cc3-7503-4340-821a-c7528093fe21",
                "language": "sql"
            },
            "outputs": [
                {
                    "output_type": "display_data",
                    "data": {
                        "text/html": "(1 row affected)"
                    },
                    "metadata": {}
                },
                {
                    "output_type": "display_data",
                    "data": {
                        "text/html": "Total execution time: 00:00:00.044"
                    },
                    "metadata": {}
                },
                {
                    "output_type": "execute_result",
                    "metadata": {},
                    "execution_count": 64,
                    "data": {
                        "application/vnd.dataresource+json": {
                            "schema": {
                                "fields": [
                                    {
                                        "name": "object_id"
                                    },
                                    {
                                        "name": "version"
                                    },
                                    {
                                        "name": "source_object_id"
                                    },
                                    {
                                        "name": "capture_instance"
                                    },
                                    {
                                        "name": "start_lsn"
                                    },
                                    {
                                        "name": "end_lsn"
                                    },
                                    {
                                        "name": "supports_net_changes"
                                    },
                                    {
                                        "name": "has_drop_pending"
                                    },
                                    {
                                        "name": "role_name"
                                    },
                                    {
                                        "name": "index_name"
                                    },
                                    {
                                        "name": "filegroup_name"
                                    },
                                    {
                                        "name": "create_date"
                                    },
                                    {
                                        "name": "partition_switch"
                                    }
                                ]
                            },
                            "data": [
                                {
                                    "0": "14623095",
                                    "1": "0",
                                    "2": "1778105375",
                                    "3": "academy_student_performance",
                                    "4": "0x00000035000003980095",
                                    "5": "NULL",
                                    "6": "1",
                                    "7": "NULL",
                                    "8": "NULL",
                                    "9": "PK__student___3213E83FB4A49429",
                                    "10": "NULL",
                                    "11": "2022-11-03 09:02:36.140",
                                    "12": "1"
                                }
                            ]
                        },
                        "text/html": [
                            "<table>",
                            "<tr><th>object_id</th><th>version</th><th>source_object_id</th><th>capture_instance</th><th>start_lsn</th><th>end_lsn</th><th>supports_net_changes</th><th>has_drop_pending</th><th>role_name</th><th>index_name</th><th>filegroup_name</th><th>create_date</th><th>partition_switch</th></tr>",
                            "<tr><td>14623095</td><td>0</td><td>1778105375</td><td>academy_student_performance</td><td>0x00000035000003980095</td><td>NULL</td><td>1</td><td>NULL</td><td>NULL</td><td>PK__student___3213E83FB4A49429</td><td>NULL</td><td>2022-11-03 09:02:36.140</td><td>1</td></tr>",
                            "</table>"
                        ]
                    }
                }
            ],
            "execution_count": 64
        },
        {
            "cell_type": "code",
            "source": [
                "INSERT INTO academy.student_performance \n",
                "VALUES (5, 'Pamela', 69, 91, 75)"
            ],
            "metadata": {
                "azdata_cell_guid": "b3f4c5e7-8f0d-46cd-84d8-a55784a40c25",
                "language": "sql"
            },
            "outputs": [
                {
                    "output_type": "display_data",
                    "data": {
                        "text/html": "(1 row affected)"
                    },
                    "metadata": {}
                },
                {
                    "output_type": "display_data",
                    "data": {
                        "text/html": "Total execution time: 00:00:00.046"
                    },
                    "metadata": {}
                }
            ],
            "execution_count": 65
        },
        {
            "cell_type": "markdown",
            "source": [
                "### Retrieve the changes recorded by invoking the cdc\\_all\\_changes function corresponding to our table:\n",
                "\n",
                "[https://learn.microsoft.com/en-us/sql/relational-databases/system-functions/cdc-fn-cdc-get-all-changes-capture-instance-transact-sql](https://learn.microsoft.com/en-us/sql/relational-databases/system-functions/cdc-fn-cdc-get-all-changes-capture-instance-transact-sql)"
            ],
            "metadata": {
                "azdata_cell_guid": "de10a9d2-4e1b-43d7-beca-b585901e3470"
            },
            "attachments": {}
        },
        {
            "cell_type": "code",
            "source": [
                "DECLARE @from_lsn binary(10), @to_lsn binary(10);  \n",
                "SET @from_lsn = sys.fn_cdc_get_min_lsn('academy_student_performance');  \n",
                "SET @to_lsn   = sys.fn_cdc_get_max_lsn();  \n",
                "SELECT * FROM cdc.fn_cdc_get_all_changes_academy_student_performance  \n",
                "  (@from_lsn, @to_lsn, N'all'); "
            ],
            "metadata": {
                "azdata_cell_guid": "f6da3a85-49a4-4427-93be-4104c641141c",
                "language": "sql"
            },
            "outputs": [
                {
                    "output_type": "display_data",
                    "data": {
                        "text/html": "(1 row affected)"
                    },
                    "metadata": {}
                },
                {
                    "output_type": "display_data",
                    "data": {
                        "text/html": "Total execution time: 00:00:00.087"
                    },
                    "metadata": {}
                },
                {
                    "output_type": "execute_result",
                    "metadata": {},
                    "execution_count": 66,
                    "data": {
                        "application/vnd.dataresource+json": {
                            "schema": {
                                "fields": [
                                    {
                                        "name": "__$start_lsn"
                                    },
                                    {
                                        "name": "__$seqval"
                                    },
                                    {
                                        "name": "__$operation"
                                    },
                                    {
                                        "name": "__$update_mask"
                                    },
                                    {
                                        "name": "id"
                                    },
                                    {
                                        "name": "name"
                                    },
                                    {
                                        "name": "math_score"
                                    },
                                    {
                                        "name": "reading_score"
                                    },
                                    {
                                        "name": "writing_score"
                                    }
                                ]
                            },
                            "data": [
                                {
                                    "0": "0x0000003500000DE00005",
                                    "1": "0x0000003500000DE00004",
                                    "2": "2",
                                    "3": "0x1F",
                                    "4": "5",
                                    "5": "Pamela",
                                    "6": "69",
                                    "7": "91",
                                    "8": "75"
                                }
                            ]
                        },
                        "text/html": [
                            "<table>",
                            "<tr><th>__$start_lsn</th><th>__$seqval</th><th>__$operation</th><th>__$update_mask</th><th>id</th><th>name</th><th>math_score</th><th>reading_score</th><th>writing_score</th></tr>",
                            "<tr><td>0x0000003500000DE00005</td><td>0x0000003500000DE00004</td><td>2</td><td>0x1F</td><td>5</td><td>Pamela</td><td>69</td><td>91</td><td>75</td></tr>",
                            "</table>"
                        ]
                    }
                }
            ],
            "execution_count": 66
        },
        {
            "cell_type": "code",
            "source": [
                "INSERT INTO academy.student_performance \n",
                "VALUES (6, 'Wendy', 91, 83, 94)\n",
                "\n",
                "UPDATE academy.student_performance\n",
                "SET Math_Score = 90\n",
                "WHERE ID = 3\n",
                "\n",
                "DELETE from academy.student_performance\n",
                "WHERE ID = 1"
            ],
            "metadata": {
                "azdata_cell_guid": "f222f1c7-204d-41e4-81a5-62cfe590a163",
                "language": "sql"
            },
            "outputs": [
                {
                    "output_type": "display_data",
                    "data": {
                        "text/html": "(1 row affected)"
                    },
                    "metadata": {}
                },
                {
                    "output_type": "display_data",
                    "data": {
                        "text/html": "(1 row affected)"
                    },
                    "metadata": {}
                },
                {
                    "output_type": "display_data",
                    "data": {
                        "text/html": "(1 row affected)"
                    },
                    "metadata": {}
                },
                {
                    "output_type": "display_data",
                    "data": {
                        "text/html": "Total execution time: 00:00:00.054"
                    },
                    "metadata": {}
                }
            ],
            "execution_count": 67
        },
        {
            "cell_type": "code",
            "source": [
                "DECLARE @from_lsn binary(10), @to_lsn binary(10);  \n",
                "SET @from_lsn = sys.fn_cdc_get_min_lsn('academy_student_performance');  \n",
                "SET @to_lsn   = sys.fn_cdc_get_max_lsn();  \n",
                "SELECT * FROM cdc.fn_cdc_get_all_changes_academy_student_performance  \n",
                "  (@from_lsn, @to_lsn, N'all')"
            ],
            "metadata": {
                "azdata_cell_guid": "cf17a45b-2d03-4045-b597-d3a2e6f077f1",
                "language": "sql"
            },
            "outputs": [
                {
                    "output_type": "display_data",
                    "data": {
                        "text/html": "(4 rows affected)"
                    },
                    "metadata": {}
                },
                {
                    "output_type": "display_data",
                    "data": {
                        "text/html": "Total execution time: 00:00:00.044"
                    },
                    "metadata": {}
                },
                {
                    "output_type": "execute_result",
                    "metadata": {},
                    "execution_count": 69,
                    "data": {
                        "application/vnd.dataresource+json": {
                            "schema": {
                                "fields": [
                                    {
                                        "name": "__$start_lsn"
                                    },
                                    {
                                        "name": "__$seqval"
                                    },
                                    {
                                        "name": "__$operation"
                                    },
                                    {
                                        "name": "__$update_mask"
                                    },
                                    {
                                        "name": "id"
                                    },
                                    {
                                        "name": "name"
                                    },
                                    {
                                        "name": "math_score"
                                    },
                                    {
                                        "name": "reading_score"
                                    },
                                    {
                                        "name": "writing_score"
                                    }
                                ]
                            },
                            "data": [
                                {
                                    "0": "0x0000003500000DE00005",
                                    "1": "0x0000003500000DE00004",
                                    "2": "2",
                                    "3": "0x1F",
                                    "4": "5",
                                    "5": "Pamela",
                                    "6": "69",
                                    "7": "91",
                                    "8": "75"
                                },
                                {
                                    "0": "0x0000003500000FF80004",
                                    "1": "0x0000003500000FF80003",
                                    "2": "2",
                                    "3": "0x1F",
                                    "4": "6",
                                    "5": "Wendy",
                                    "6": "91",
                                    "7": "83",
                                    "8": "94"
                                },
                                {
                                    "0": "0x00000035000010000005",
                                    "1": "0x00000035000010000004",
                                    "2": "4",
                                    "3": "0x04",
                                    "4": "3",
                                    "5": "Norma",
                                    "6": "90",
                                    "7": "78",
                                    "8": "69"
                                },
                                {
                                    "0": "0x00000035000010080005",
                                    "1": "0x00000035000010080002",
                                    "2": "1",
                                    "3": "0x1F",
                                    "4": "1",
                                    "5": "Adam ",
                                    "6": "80",
                                    "7": "77",
                                    "8": "76"
                                }
                            ]
                        },
                        "text/html": [
                            "<table>",
                            "<tr><th>__$start_lsn</th><th>__$seqval</th><th>__$operation</th><th>__$update_mask</th><th>id</th><th>name</th><th>math_score</th><th>reading_score</th><th>writing_score</th></tr>",
                            "<tr><td>0x0000003500000DE00005</td><td>0x0000003500000DE00004</td><td>2</td><td>0x1F</td><td>5</td><td>Pamela</td><td>69</td><td>91</td><td>75</td></tr>",
                            "<tr><td>0x0000003500000FF80004</td><td>0x0000003500000FF80003</td><td>2</td><td>0x1F</td><td>6</td><td>Wendy</td><td>91</td><td>83</td><td>94</td></tr>",
                            "<tr><td>0x00000035000010000005</td><td>0x00000035000010000004</td><td>4</td><td>0x04</td><td>3</td><td>Norma</td><td>90</td><td>78</td><td>69</td></tr>",
                            "<tr><td>0x00000035000010080005</td><td>0x00000035000010080002</td><td>1</td><td>0x1F</td><td>1</td><td>Adam </td><td>80</td><td>77</td><td>76</td></tr>",
                            "</table>"
                        ]
                    }
                }
            ],
            "execution_count": 69
        },
        {
            "cell_type": "markdown",
            "source": [
                "### Note that out of the rows still remaining in the table, IDs 3, 6, and 5 have a change record in the CDC change table.\n",
                "\n",
                "### Let's remind ourselves of the contents of the source table at this point"
            ],
            "metadata": {
                "azdata_cell_guid": "85d7f8cf-c65a-4d48-a67c-f67a0ab1d19d"
            },
            "attachments": {}
        },
        {
            "cell_type": "code",
            "source": [
                "SELECT * FROM academy.student_performance"
            ],
            "metadata": {
                "azdata_cell_guid": "91f6065b-c41a-48cf-85e0-1ff6250b44a5",
                "language": "sql"
            },
            "outputs": [
                {
                    "output_type": "display_data",
                    "data": {
                        "text/html": "(5 rows affected)"
                    },
                    "metadata": {}
                },
                {
                    "output_type": "display_data",
                    "data": {
                        "text/html": "Total execution time: 00:00:00.049"
                    },
                    "metadata": {}
                },
                {
                    "output_type": "execute_result",
                    "metadata": {},
                    "execution_count": 70,
                    "data": {
                        "application/vnd.dataresource+json": {
                            "schema": {
                                "fields": [
                                    {
                                        "name": "id"
                                    },
                                    {
                                        "name": "name"
                                    },
                                    {
                                        "name": "math_score"
                                    },
                                    {
                                        "name": "reading_score"
                                    },
                                    {
                                        "name": "writing_score"
                                    }
                                ]
                            },
                            "data": [
                                {
                                    "0": "2",
                                    "1": "Marvin",
                                    "2": "56",
                                    "3": "78",
                                    "4": "59"
                                },
                                {
                                    "0": "3",
                                    "1": "Norma",
                                    "2": "90",
                                    "3": "78",
                                    "4": "69"
                                },
                                {
                                    "0": "4",
                                    "1": "Ethan",
                                    "2": "76",
                                    "3": "69",
                                    "4": "91"
                                },
                                {
                                    "0": "5",
                                    "1": "Pamela",
                                    "2": "69",
                                    "3": "91",
                                    "4": "75"
                                },
                                {
                                    "0": "6",
                                    "1": "Wendy",
                                    "2": "91",
                                    "3": "83",
                                    "4": "94"
                                }
                            ]
                        },
                        "text/html": [
                            "<table>",
                            "<tr><th>id</th><th>name</th><th>math_score</th><th>reading_score</th><th>writing_score</th></tr>",
                            "<tr><td>2</td><td>Marvin</td><td>56</td><td>78</td><td>59</td></tr>",
                            "<tr><td>3</td><td>Norma</td><td>90</td><td>78</td><td>69</td></tr>",
                            "<tr><td>4</td><td>Ethan</td><td>76</td><td>69</td><td>91</td></tr>",
                            "<tr><td>5</td><td>Pamela</td><td>69</td><td>91</td><td>75</td></tr>",
                            "<tr><td>6</td><td>Wendy</td><td>91</td><td>83</td><td>94</td></tr>",
                            "</table>"
                        ]
                    }
                }
            ],
            "execution_count": 70
        },
        {
            "cell_type": "markdown",
            "source": [
                "### We update the students with IDs 2, 3, and 5. Both 3 and 5 already have changes recorded in the change table"
            ],
            "metadata": {
                "azdata_cell_guid": "f88bb9c8-d64c-4548-9d31-a14d2083f68f"
            },
            "attachments": {}
        },
        {
            "cell_type": "code",
            "source": [
                "UPDATE academy.student_performance\n",
                "SET Math_Score = 61\n",
                "WHERE ID = 2\n",
                "\n",
                "UPDATE academy.student_performance\n",
                "SET Math_Score = 93\n",
                "WHERE ID = 3\n",
                "\n",
                "UPDATE academy.student_performance\n",
                "SET Math_Score = 67\n",
                "WHERE ID = 5"
            ],
            "metadata": {
                "azdata_cell_guid": "e690bc45-c0a3-4c86-a5ef-6dbe68c1a3cd",
                "language": "sql"
            },
            "outputs": [
                {
                    "output_type": "display_data",
                    "data": {
                        "text/html": "(1 row affected)"
                    },
                    "metadata": {}
                },
                {
                    "output_type": "display_data",
                    "data": {
                        "text/html": "(1 row affected)"
                    },
                    "metadata": {}
                },
                {
                    "output_type": "display_data",
                    "data": {
                        "text/html": "(1 row affected)"
                    },
                    "metadata": {}
                },
                {
                    "output_type": "display_data",
                    "data": {
                        "text/html": "Total execution time: 00:00:00.058"
                    },
                    "metadata": {}
                }
            ],
            "execution_count": 71
        },
        {
            "cell_type": "markdown",
            "source": [
                "### 3 new rows have been added to the all\\_changes table"
            ],
            "metadata": {
                "azdata_cell_guid": "15469e42-5acd-468c-bec8-1849c674d151"
            },
            "attachments": {}
        },
        {
            "cell_type": "code",
            "source": [
                "DECLARE @from_lsn binary(10), @to_lsn binary(10);  \n",
                "SET @from_lsn = sys.fn_cdc_get_min_lsn('academy_student_performance');  \n",
                "SET @to_lsn   = sys.fn_cdc_get_max_lsn();  \n",
                "SELECT * FROM cdc.fn_cdc_get_all_changes_academy_student_performance  \n",
                "  (@from_lsn, @to_lsn, N'all')"
            ],
            "metadata": {
                "azdata_cell_guid": "60a5b16c-2093-43fa-ba89-0ab7f83651d0",
                "language": "sql"
            },
            "outputs": [
                {
                    "output_type": "display_data",
                    "data": {
                        "text/html": "(4 rows affected)"
                    },
                    "metadata": {}
                },
                {
                    "output_type": "display_data",
                    "data": {
                        "text/html": "Total execution time: 00:00:00.036"
                    },
                    "metadata": {}
                },
                {
                    "output_type": "execute_result",
                    "metadata": {},
                    "execution_count": 72,
                    "data": {
                        "application/vnd.dataresource+json": {
                            "schema": {
                                "fields": [
                                    {
                                        "name": "__$start_lsn"
                                    },
                                    {
                                        "name": "__$seqval"
                                    },
                                    {
                                        "name": "__$operation"
                                    },
                                    {
                                        "name": "__$update_mask"
                                    },
                                    {
                                        "name": "id"
                                    },
                                    {
                                        "name": "name"
                                    },
                                    {
                                        "name": "math_score"
                                    },
                                    {
                                        "name": "reading_score"
                                    },
                                    {
                                        "name": "writing_score"
                                    }
                                ]
                            },
                            "data": [
                                {
                                    "0": "0x0000003500000DE00005",
                                    "1": "0x0000003500000DE00004",
                                    "2": "2",
                                    "3": "0x1F",
                                    "4": "5",
                                    "5": "Pamela",
                                    "6": "69",
                                    "7": "91",
                                    "8": "75"
                                },
                                {
                                    "0": "0x0000003500000FF80004",
                                    "1": "0x0000003500000FF80003",
                                    "2": "2",
                                    "3": "0x1F",
                                    "4": "6",
                                    "5": "Wendy",
                                    "6": "91",
                                    "7": "83",
                                    "8": "94"
                                },
                                {
                                    "0": "0x00000035000010000005",
                                    "1": "0x00000035000010000004",
                                    "2": "4",
                                    "3": "0x04",
                                    "4": "3",
                                    "5": "Norma",
                                    "6": "90",
                                    "7": "78",
                                    "8": "69"
                                },
                                {
                                    "0": "0x00000035000010080005",
                                    "1": "0x00000035000010080002",
                                    "2": "1",
                                    "3": "0x1F",
                                    "4": "1",
                                    "5": "Adam ",
                                    "6": "80",
                                    "7": "77",
                                    "8": "76"
                                }
                            ]
                        },
                        "text/html": [
                            "<table>",
                            "<tr><th>__$start_lsn</th><th>__$seqval</th><th>__$operation</th><th>__$update_mask</th><th>id</th><th>name</th><th>math_score</th><th>reading_score</th><th>writing_score</th></tr>",
                            "<tr><td>0x0000003500000DE00005</td><td>0x0000003500000DE00004</td><td>2</td><td>0x1F</td><td>5</td><td>Pamela</td><td>69</td><td>91</td><td>75</td></tr>",
                            "<tr><td>0x0000003500000FF80004</td><td>0x0000003500000FF80003</td><td>2</td><td>0x1F</td><td>6</td><td>Wendy</td><td>91</td><td>83</td><td>94</td></tr>",
                            "<tr><td>0x00000035000010000005</td><td>0x00000035000010000004</td><td>4</td><td>0x04</td><td>3</td><td>Norma</td><td>90</td><td>78</td><td>69</td></tr>",
                            "<tr><td>0x00000035000010080005</td><td>0x00000035000010080002</td><td>1</td><td>0x1F</td><td>1</td><td>Adam </td><td>80</td><td>77</td><td>76</td></tr>",
                            "</table>"
                        ]
                    }
                }
            ],
            "execution_count": 72
        },
        {
            "cell_type": "markdown",
            "source": [
                "### The fn\\_cdc\\_get\\_net\\_changes invocation returns just one entry for each row in the source.\n",
                "\n",
                "[https://learn.microsoft.com/en-us/sql/relational-databases/system-functions/cdc-fn-cdc-get-net-changes-capture-instance-transact-sql](https://learn.microsoft.com/en-us/sql/relational-databases/system-functions/cdc-fn-cdc-get-net-changes-capture-instance-transact-sql)\n",
                "\n",
                "Quoting from the above source: <span style=\"color: rgb(230, 230, 230); font-family: &quot;Segoe UI&quot;, SegoeUI, &quot;Helvetica Neue&quot;, Helvetica, Arial, sans-serif; font-size: 16px;\"><i>When a source row has multiple changes during the LSN range, a single row that reflects the final content of the row is returned by the enumeration function</i></span>"
            ],
            "metadata": {
                "azdata_cell_guid": "336ac9ef-c9d4-401e-8bb9-f8902dc9c937"
            },
            "attachments": {}
        },
        {
            "cell_type": "code",
            "source": [
                "DECLARE @from_lsn binary(10), @to_lsn binary(10);  \n",
                "SET @from_lsn = sys.fn_cdc_get_min_lsn('academy_student_performance');  \n",
                "SET @to_lsn   = sys.fn_cdc_get_max_lsn();  \n",
                "SELECT * FROM cdc.fn_cdc_get_net_changes_academy_student_performance  \n",
                "  (@from_lsn, @to_lsn, N'all')"
            ],
            "metadata": {
                "azdata_cell_guid": "9e88c1f0-8959-4701-b860-6e258c1b109e",
                "language": "sql"
            },
            "outputs": [
                {
                    "output_type": "display_data",
                    "data": {
                        "text/html": "(5 rows affected)"
                    },
                    "metadata": {}
                },
                {
                    "output_type": "display_data",
                    "data": {
                        "text/html": "Total execution time: 00:00:00.099"
                    },
                    "metadata": {}
                },
                {
                    "output_type": "execute_result",
                    "metadata": {},
                    "execution_count": 73,
                    "data": {
                        "application/vnd.dataresource+json": {
                            "schema": {
                                "fields": [
                                    {
                                        "name": "__$start_lsn"
                                    },
                                    {
                                        "name": "__$operation"
                                    },
                                    {
                                        "name": "__$update_mask"
                                    },
                                    {
                                        "name": "id"
                                    },
                                    {
                                        "name": "name"
                                    },
                                    {
                                        "name": "math_score"
                                    },
                                    {
                                        "name": "reading_score"
                                    },
                                    {
                                        "name": "writing_score"
                                    }
                                ]
                            },
                            "data": [
                                {
                                    "0": "0x0000003500000FF80004",
                                    "1": "2",
                                    "2": "NULL",
                                    "3": "6",
                                    "4": "Wendy",
                                    "5": "91",
                                    "6": "83",
                                    "7": "94"
                                },
                                {
                                    "0": "0x00000035000010080005",
                                    "1": "1",
                                    "2": "NULL",
                                    "3": "1",
                                    "4": "Adam ",
                                    "5": "80",
                                    "6": "77",
                                    "7": "76"
                                },
                                {
                                    "0": "0x00000035000011180004",
                                    "1": "4",
                                    "2": "NULL",
                                    "3": "2",
                                    "4": "Marvin",
                                    "5": "61",
                                    "6": "78",
                                    "7": "59"
                                },
                                {
                                    "0": "0x00000035000011200003",
                                    "1": "4",
                                    "2": "NULL",
                                    "3": "3",
                                    "4": "Norma",
                                    "5": "93",
                                    "6": "78",
                                    "7": "69"
                                },
                                {
                                    "0": "0x00000035000011280003",
                                    "1": "2",
                                    "2": "NULL",
                                    "3": "5",
                                    "4": "Pamela",
                                    "5": "67",
                                    "6": "91",
                                    "7": "75"
                                }
                            ]
                        },
                        "text/html": [
                            "<table>",
                            "<tr><th>__$start_lsn</th><th>__$operation</th><th>__$update_mask</th><th>id</th><th>name</th><th>math_score</th><th>reading_score</th><th>writing_score</th></tr>",
                            "<tr><td>0x0000003500000FF80004</td><td>2</td><td>NULL</td><td>6</td><td>Wendy</td><td>91</td><td>83</td><td>94</td></tr>",
                            "<tr><td>0x00000035000010080005</td><td>1</td><td>NULL</td><td>1</td><td>Adam </td><td>80</td><td>77</td><td>76</td></tr>",
                            "<tr><td>0x00000035000011180004</td><td>4</td><td>NULL</td><td>2</td><td>Marvin</td><td>61</td><td>78</td><td>59</td></tr>",
                            "<tr><td>0x00000035000011200003</td><td>4</td><td>NULL</td><td>3</td><td>Norma</td><td>93</td><td>78</td><td>69</td></tr>",
                            "<tr><td>0x00000035000011280003</td><td>2</td><td>NULL</td><td>5</td><td>Pamela</td><td>67</td><td>91</td><td>75</td></tr>",
                            "</table>"
                        ]
                    }
                }
            ],
            "execution_count": 73
        },
        {
            "cell_type": "code",
            "source": [
                "EXECUTE sys.sp_cdc_help_change_data_capture   \n",
                "    @source_schema = N'academy',   \n",
                "    @source_name = N'student_performance'; "
            ],
            "metadata": {
                "azdata_cell_guid": "26238cc0-6cb2-4ff4-a39f-c35ca0e765f2",
                "language": "sql"
            },
            "outputs": [
                {
                    "output_type": "display_data",
                    "data": {
                        "text/html": "Commands completed successfully."
                    },
                    "metadata": {}
                },
                {
                    "output_type": "display_data",
                    "data": {
                        "text/html": "Total execution time: 00:00:00.087"
                    },
                    "metadata": {}
                },
                {
                    "output_type": "execute_result",
                    "metadata": {},
                    "execution_count": 74,
                    "data": {
                        "application/vnd.dataresource+json": {
                            "schema": {
                                "fields": [
                                    {
                                        "name": "source_schema"
                                    },
                                    {
                                        "name": "source_table"
                                    },
                                    {
                                        "name": "capture_instance"
                                    },
                                    {
                                        "name": "object_id"
                                    },
                                    {
                                        "name": "source_object_id"
                                    },
                                    {
                                        "name": "start_lsn"
                                    },
                                    {
                                        "name": "end_lsn"
                                    },
                                    {
                                        "name": "supports_net_changes"
                                    },
                                    {
                                        "name": "has_drop_pending"
                                    },
                                    {
                                        "name": "role_name"
                                    },
                                    {
                                        "name": "index_name"
                                    },
                                    {
                                        "name": "filegroup_name"
                                    },
                                    {
                                        "name": "create_date"
                                    },
                                    {
                                        "name": "index_column_list"
                                    },
                                    {
                                        "name": "captured_column_list"
                                    }
                                ]
                            },
                            "data": [
                                {
                                    "0": "academy",
                                    "1": "student_performance",
                                    "2": "academy_student_performance",
                                    "3": "14623095",
                                    "4": "1778105375",
                                    "5": "0x00000035000003980095",
                                    "6": "NULL",
                                    "7": "1",
                                    "8": "NULL",
                                    "9": "NULL",
                                    "10": "PK__student___3213E83FB4A49429",
                                    "11": "NULL",
                                    "12": "2022-11-03 09:02:36.140",
                                    "13": "[id]",
                                    "14": "[id], [name], [math_score], [reading_score], [writing_score]"
                                }
                            ]
                        },
                        "text/html": [
                            "<table>",
                            "<tr><th>source_schema</th><th>source_table</th><th>capture_instance</th><th>object_id</th><th>source_object_id</th><th>start_lsn</th><th>end_lsn</th><th>supports_net_changes</th><th>has_drop_pending</th><th>role_name</th><th>index_name</th><th>filegroup_name</th><th>create_date</th><th>index_column_list</th><th>captured_column_list</th></tr>",
                            "<tr><td>academy</td><td>student_performance</td><td>academy_student_performance</td><td>14623095</td><td>1778105375</td><td>0x00000035000003980095</td><td>NULL</td><td>1</td><td>NULL</td><td>NULL</td><td>PK__student___3213E83FB4A49429</td><td>NULL</td><td>2022-11-03 09:02:36.140</td><td>[id]</td><td>[id], [name], [math_score], [reading_score], [writing_score]</td></tr>",
                            "</table>"
                        ]
                    }
                }
            ],
            "execution_count": 74
        },
        {
            "cell_type": "code",
            "source": [
                "EXEC sys.sp_cdc_help_jobs;"
            ],
            "metadata": {
                "azdata_cell_guid": "1501ad0b-d1d3-43b5-9be1-09844b10a8c4",
                "language": "sql"
            },
            "outputs": [
                {
                    "output_type": "display_data",
                    "data": {
                        "text/html": "Commands completed successfully."
                    },
                    "metadata": {}
                },
                {
                    "output_type": "display_data",
                    "data": {
                        "text/html": "Total execution time: 00:00:00.029"
                    },
                    "metadata": {}
                },
                {
                    "output_type": "execute_result",
                    "metadata": {},
                    "execution_count": 75,
                    "data": {
                        "application/vnd.dataresource+json": {
                            "schema": {
                                "fields": [
                                    {
                                        "name": "job_type"
                                    },
                                    {
                                        "name": "maxtrans"
                                    },
                                    {
                                        "name": "maxscans"
                                    },
                                    {
                                        "name": "continuous"
                                    },
                                    {
                                        "name": "pollinginterval"
                                    },
                                    {
                                        "name": "retention"
                                    },
                                    {
                                        "name": "threshold"
                                    }
                                ]
                            },
                            "data": [
                                {
                                    "0": "capture",
                                    "1": "500",
                                    "2": "10",
                                    "3": "0",
                                    "4": "0",
                                    "5": "0",
                                    "6": "0"
                                },
                                {
                                    "0": "cleanup",
                                    "1": "0",
                                    "2": "0",
                                    "3": "0",
                                    "4": "0",
                                    "5": "4320",
                                    "6": "5000"
                                }
                            ]
                        },
                        "text/html": [
                            "<table>",
                            "<tr><th>job_type</th><th>maxtrans</th><th>maxscans</th><th>continuous</th><th>pollinginterval</th><th>retention</th><th>threshold</th></tr>",
                            "<tr><td>capture</td><td>500</td><td>10</td><td>0</td><td>0</td><td>0</td><td>0</td></tr>",
                            "<tr><td>cleanup</td><td>0</td><td>0</td><td>0</td><td>0</td><td>4320</td><td>5000</td></tr>",
                            "</table>"
                        ]
                    }
                }
            ],
            "execution_count": 75
        },
        {
            "cell_type": "code",
            "source": [
                "EXEC sys.sp_cdc_disable_db "
            ],
            "metadata": {
                "azdata_cell_guid": "7e3f26f3-d886-4b25-b959-78d5ee01c8e6",
                "language": "sql"
            },
            "outputs": [
                {
                    "output_type": "display_data",
                    "data": {
                        "text/html": "Commands completed successfully."
                    },
                    "metadata": {}
                },
                {
                    "output_type": "display_data",
                    "data": {
                        "text/html": "Total execution time: 00:00:00.529"
                    },
                    "metadata": {}
                }
            ],
            "execution_count": 76
        },
        {
            "cell_type": "code",
            "source": [
                "SELECT name, is_cdc_enabled\n",
                "FROM sys.databases\n",
                "WHERE name = 'sql_database'"
            ],
            "metadata": {
                "azdata_cell_guid": "592ec46e-b629-4b30-b725-c0e02646bf86",
                "language": "sql"
            },
            "outputs": [
                {
                    "output_type": "display_data",
                    "data": {
                        "text/html": "(1 row affected)"
                    },
                    "metadata": {}
                },
                {
                    "output_type": "display_data",
                    "data": {
                        "text/html": "Total execution time: 00:00:00.050"
                    },
                    "metadata": {}
                },
                {
                    "output_type": "execute_result",
                    "metadata": {},
                    "execution_count": 77,
                    "data": {
                        "application/vnd.dataresource+json": {
                            "schema": {
                                "fields": [
                                    {
                                        "name": "name"
                                    },
                                    {
                                        "name": "is_cdc_enabled"
                                    }
                                ]
                            },
                            "data": [
                                {
                                    "0": "sql_database",
                                    "1": "0"
                                }
                            ]
                        },
                        "text/html": [
                            "<table>",
                            "<tr><th>name</th><th>is_cdc_enabled</th></tr>",
                            "<tr><td>sql_database</td><td>0</td></tr>",
                            "</table>"
                        ]
                    }
                }
            ],
            "execution_count": 77
        },
        {
            "cell_type": "code",
            "source": [
                "SELECT  name, type, type_desc, is_tracked_by_cdc\n",
                "FROM sys.tables\n",
                "WHERE name = 'student_performance'"
            ],
            "metadata": {
                "azdata_cell_guid": "cb2a3339-5f9f-4844-a8c1-e717a67134ff",
                "language": "sql"
            },
            "outputs": [
                {
                    "output_type": "display_data",
                    "data": {
                        "text/html": "(1 row affected)"
                    },
                    "metadata": {}
                },
                {
                    "output_type": "display_data",
                    "data": {
                        "text/html": "Total execution time: 00:00:00.060"
                    },
                    "metadata": {}
                },
                {
                    "output_type": "execute_result",
                    "metadata": {},
                    "execution_count": 78,
                    "data": {
                        "application/vnd.dataresource+json": {
                            "schema": {
                                "fields": [
                                    {
                                        "name": "name"
                                    },
                                    {
                                        "name": "type"
                                    },
                                    {
                                        "name": "type_desc"
                                    },
                                    {
                                        "name": "is_tracked_by_cdc"
                                    }
                                ]
                            },
                            "data": [
                                {
                                    "0": "student_performance",
                                    "1": "U ",
                                    "2": "USER_TABLE",
                                    "3": "0"
                                }
                            ]
                        },
                        "text/html": [
                            "<table>",
                            "<tr><th>name</th><th>type</th><th>type_desc</th><th>is_tracked_by_cdc</th></tr>",
                            "<tr><td>student_performance</td><td>U </td><td>USER_TABLE</td><td>0</td></tr>",
                            "</table>"
                        ]
                    }
                }
            ],
            "execution_count": 78
        },
        {
            "cell_type": "code",
            "source": [
                "SELECT * FROM cdc.change_tables"
            ],
            "metadata": {
                "azdata_cell_guid": "c06263f9-1e35-4bc4-a63f-805610be6a0a",
                "language": "sql"
            },
            "outputs": [
                {
                    "output_type": "error",
                    "evalue": "Msg 208, Level 16, State 1, Line 1\nInvalid object name 'cdc.change_tables'.",
                    "ename": "",
                    "traceback": []
                },
                {
                    "output_type": "display_data",
                    "data": {
                        "text/html": "Total execution time: 00:00:00.031"
                    },
                    "metadata": {}
                }
            ],
            "execution_count": 79
        },
        {
            "cell_type": "code",
            "source": [
                "DROP TABLE academy.student_performance;"
            ],
            "metadata": {
                "azdata_cell_guid": "e34115f3-caee-4522-af19-7fb4a0b2d349",
                "language": "sql"
            },
            "outputs": [
                {
                    "output_type": "display_data",
                    "data": {
                        "text/html": "Commands completed successfully."
                    },
                    "metadata": {}
                },
                {
                    "output_type": "display_data",
                    "data": {
                        "text/html": "Total execution time: 00:00:00.038"
                    },
                    "metadata": {}
                }
            ],
            "execution_count": 80
        },
        {
            "cell_type": "code",
            "source": [
                "DROP SCHEMA academy;"
            ],
            "metadata": {
                "azdata_cell_guid": "552a0f95-75cb-4c55-8517-bdce14991fa9",
                "language": "sql"
            },
            "outputs": [
                {
                    "output_type": "display_data",
                    "data": {
                        "text/html": "Commands completed successfully."
                    },
                    "metadata": {}
                },
                {
                    "output_type": "display_data",
                    "data": {
                        "text/html": "Total execution time: 00:00:00.033"
                    },
                    "metadata": {}
                }
            ],
            "execution_count": 81
        }
    ]
}