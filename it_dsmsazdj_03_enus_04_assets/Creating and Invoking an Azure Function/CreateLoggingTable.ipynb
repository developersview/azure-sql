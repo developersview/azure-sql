{
    "metadata": {
        "kernelspec": {
            "name": "SQL",
            "display_name": "SQL",
            "language": "sql"
        },
        "language_info": {
            "name": "sql",
            "version": ""
        }
    },
    "nbformat_minor": 2,
    "nbformat": 4,
    "cells": [
        {
            "cell_type": "code",
            "source": [
                "CREATE SCHEMA log_details;"
            ],
            "metadata": {
                "azdata_cell_guid": "a03f9499-4c3d-4136-9614-62105981a61e",
                "language": "sql"
            },
            "outputs": [
                {
                    "output_type": "display_data",
                    "data": {
                        "text/html": "Commands completed successfully."
                    },
                    "metadata": {}
                },
                {
                    "output_type": "display_data",
                    "data": {
                        "text/html": "Total execution time: 00:00:00.048"
                    },
                    "metadata": {}
                }
            ],
            "execution_count": 1
        },
        {
            "cell_type": "markdown",
            "source": [
                "### <span style=\"font-size: 16.38px;\">We now create a simple table that can be used to store log messages</span>"
            ],
            "metadata": {
                "azdata_cell_guid": "d63c0737-4ad3-459a-aa15-8832b022388b"
            },
            "attachments": {}
        },
        {
            "cell_type": "code",
            "source": [
                "CREATE TABLE [log_details].[ApplicationLogs](\n",
                "    [Id]            [INT]            IDENTITY(1,1) NOT NULL,\n",
                "    [LogMessage]    [NVARCHAR](MAX)  NULL,\n",
                "    [CreateDate]    [DATETIME]       NULL,\n",
                "    CONSTRAINT      [PK_Logs]        PRIMARY KEY CLUSTERED  ([Id] ASC)\n",
                " )"
            ],
            "metadata": {
                "azdata_cell_guid": "aca1d329-c9bd-425e-b963-779130eab566",
                "language": "sql"
            },
            "outputs": [
                {
                    "output_type": "display_data",
                    "data": {
                        "text/html": "Commands completed successfully."
                    },
                    "metadata": {}
                },
                {
                    "output_type": "display_data",
                    "data": {
                        "text/html": "Total execution time: 00:00:00.034"
                    },
                    "metadata": {}
                }
            ],
            "execution_count": 2
        },
        {
            "cell_type": "code",
            "source": [
                "INSERT INTO [log_details].[ApplicationLogs] \n",
                "([LogMessage],[CreateDate])\n",
                "VALUES('This is a test log message.', GETDATE())"
            ],
            "metadata": {
                "azdata_cell_guid": "1e6f0ae3-83a0-41a0-bfae-61a28cf6f4ae",
                "language": "sql"
            },
            "outputs": [
                {
                    "output_type": "display_data",
                    "data": {
                        "text/html": "(1 row affected)"
                    },
                    "metadata": {}
                },
                {
                    "output_type": "display_data",
                    "data": {
                        "text/html": "Total execution time: 00:00:00.035"
                    },
                    "metadata": {}
                }
            ],
            "execution_count": 3
        },
        {
            "cell_type": "code",
            "source": [
                "SELECT * FROM [log_details].[ApplicationLogs];"
            ],
            "metadata": {
                "azdata_cell_guid": "18df5b84-c206-4826-82ca-1539bb26d09b",
                "language": "sql"
            },
            "outputs": [
                {
                    "output_type": "display_data",
                    "data": {
                        "text/html": "(1 row affected)"
                    },
                    "metadata": {}
                },
                {
                    "output_type": "display_data",
                    "data": {
                        "text/html": "Total execution time: 00:00:00.042"
                    },
                    "metadata": {}
                },
                {
                    "output_type": "execute_result",
                    "metadata": {},
                    "execution_count": 4,
                    "data": {
                        "application/vnd.dataresource+json": {
                            "schema": {
                                "fields": [
                                    {
                                        "name": "Id"
                                    },
                                    {
                                        "name": "LogMessage"
                                    },
                                    {
                                        "name": "CreateDate"
                                    }
                                ]
                            },
                            "data": [
                                {
                                    "0": "1",
                                    "1": "This is a test log message.",
                                    "2": "2022-11-03 10:11:16.320"
                                }
                            ]
                        },
                        "text/html": [
                            "<table>",
                            "<tr><th>Id</th><th>LogMessage</th><th>CreateDate</th></tr>",
                            "<tr><td>1</td><td>This is a test log message.</td><td>2022-11-03 10:11:16.320</td></tr>",
                            "</table>"
                        ]
                    }
                }
            ],
            "execution_count": 4
        },
        {
            "cell_type": "markdown",
            "source": [
                "- Head to the Azure portal, and from the page for sql\\_database, head to Connection Strings\n",
                "- Copy over the connection string and substitute your own password\n",
                "\n",
                "The resulting string will look something like this:\n",
                "\n",
                "_Server=tcp:loony-azure-sql-server.database.windows.net,1433;Initial Catalog=sql\\_database;Persist Security Info=False;User ID=loonyuser;Password=Loony\\_2021;MultipleActiveResultSets=False;Encrypt=True;TrustServerCertificate=False;Connection Timeout=30;_"
            ],
            "metadata": {
                "azdata_cell_guid": "02826c90-60a0-493e-a403-42a2b00d99f3",
                "language": ""
            },
            "attachments": {}
        },
        {
            "cell_type": "code",
            "source": [
                ""
            ],
            "metadata": {
                "azdata_cell_guid": "da8a7a9e-5599-4eb5-9ab6-613bc05f5a56",
                "language": "sql"
            },
            "outputs": [],
            "execution_count": null
        },
        {
            "cell_type": "code",
            "source": [
                ""
            ],
            "metadata": {
                "azdata_cell_guid": "73da469e-2796-41b9-8ed7-6a38fff68cb2",
                "language": "sql"
            },
            "outputs": [],
            "execution_count": null
        },
        {
            "cell_type": "code",
            "source": [
                ""
            ],
            "metadata": {
                "azdata_cell_guid": "a286c523-6463-464e-8611-aaa37d71f449",
                "language": "sql"
            },
            "outputs": [],
            "execution_count": null
        },
        {
            "cell_type": "code",
            "source": [
                ""
            ],
            "metadata": {
                "azdata_cell_guid": "6e0cbd5b-836b-45c8-a62b-246debeca7b4",
                "language": "sql"
            },
            "outputs": [],
            "execution_count": null
        },
        {
            "cell_type": "code",
            "source": [
                ""
            ],
            "metadata": {
                "azdata_cell_guid": "10354a87-f14a-461a-acc1-2d75fdb93af8",
                "language": "sql"
            },
            "outputs": [],
            "execution_count": null
        }
    ]
}